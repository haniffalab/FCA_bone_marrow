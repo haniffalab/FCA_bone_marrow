{
 "cells": [
  {
   "cell_type": "code",
   "execution_count": 1,
   "metadata": {},
   "outputs": [
    {
     "name": "stderr",
     "output_type": "stream",
     "text": [
      "\n",
      "Attaching package: ‘dplyr’\n",
      "\n",
      "\n",
      "The following objects are masked from ‘package:stats’:\n",
      "\n",
      "    filter, lag\n",
      "\n",
      "\n",
      "The following objects are masked from ‘package:base’:\n",
      "\n",
      "    intersect, setdiff, setequal, union\n",
      "\n",
      "\n"
     ]
    }
   ],
   "source": [
    "library(dplyr)\n",
    "library(tidyr)\n",
    "library(ggplot2)"
   ]
  },
  {
   "cell_type": "markdown",
   "metadata": {},
   "source": [
    "\n",
    "\n",
    "***Figure 5E- plotting (iRegulon calculated previously)***\n",
    "\n"
   ]
  },
  {
   "cell_type": "code",
   "execution_count": 2,
   "metadata": {},
   "outputs": [],
   "source": [
    "setwd('/home/jovyan/data/bone_marrow/data')\n",
    "auc_mtx<-read.csv('auc_mtx_bm_equal_healthy_downs_210207.csv', row.names = 1, check.names = FALSE)"
   ]
  },
  {
   "cell_type": "code",
   "execution_count": 3,
   "metadata": {},
   "outputs": [],
   "source": [
    "#import full dataset metadata to add clustering information\n",
    "setwd('/home/jovyan/data/bone_marrow/raw_data')\n",
    "meta<-read.csv(\"meta.csv\", row.names = 1)\n",
    "meta<-select(meta, clusters_jan, Status)"
   ]
  },
  {
   "cell_type": "code",
   "execution_count": 4,
   "metadata": {},
   "outputs": [],
   "source": [
    "auc_mtx$join<-rownames(auc_mtx)\n",
    "meta$join<-rownames(meta)\n",
    "\n",
    "auc_mtx<-left_join(auc_mtx, meta, by = \"join\")\n",
    "rownames(auc_mtx)<-auc_mtx$join\n",
    "\n",
    "auc_mtx$join<-NULL"
   ]
  },
  {
   "cell_type": "code",
   "execution_count": 5,
   "metadata": {},
   "outputs": [],
   "source": [
    "#reorder columns so clustering and Status are the first two columns\n",
    "\n",
    "test<-colnames(auc_mtx)\n",
    "test<-test[test != \"Status\"]\n",
    "test<-test[test != \"clusters_jan\"]\n",
    "auc_mtx <- auc_mtx[, c(\"Status\", \"clusters_jan\", test)]"
   ]
  },
  {
   "cell_type": "code",
   "execution_count": 6,
   "metadata": {},
   "outputs": [],
   "source": [
    "#perform t-testing for Down's AUC scores vs non-Down's AUC scores\n",
    "\n",
    "df<-data.frame(\"p_value\" = character(), \"direction\" = character(), \"gene\" = character(), \"celltype\" = character())\n",
    "\n",
    "for(i in unique(auc_mtx$clusters_jan)){\n",
    "    subset_by_cluster<-dplyr::filter(auc_mtx, clusters_jan == i)\n",
    "    \n",
    "    #calculate for Down's\n",
    "    t_tested_pvalue<-sapply(subset_by_cluster[,3:length(colnames(subset_by_cluster))], \n",
    "                   function(g) (t.test(g ~ subset_by_cluster$Status)$p.value))\n",
    "    t_tested_direction<-sapply(subset_by_cluster[,3:length(colnames(subset_by_cluster))], \n",
    "                   function(g) (t.test(g ~ subset_by_cluster$Status)$statistic))\n",
    "    t_test<-data.frame(p_value = t_tested_pvalue, direction = t_tested_direction)\n",
    "    t_test$direction <- ifelse(t_test$direction < 0, \"Healthy\",\"Downs\")\n",
    "    t_test$gene <- rownames(t_test)\n",
    "    t_test$celltype<-i\n",
    "    df<-rbind(df, t_test)\n",
    "                                            \n",
    "}"
   ]
  },
  {
   "cell_type": "code",
   "execution_count": 7,
   "metadata": {},
   "outputs": [
    {
     "ename": "ERROR",
     "evalue": "Error in test$gene: $ operator is invalid for atomic vectors\n",
     "output_type": "error",
     "traceback": [
      "Error in test$gene: $ operator is invalid for atomic vectors\nTraceback:\n",
      "1. factor(test$gene, level = append(test_downs$gene, test_healthy$gene))"
     ]
    }
   ],
   "source": [
    "test$gene <- factor(test$gene, level = append(test_downs$gene, test_healthy$gene))"
   ]
  },
  {
   "cell_type": "code",
   "execution_count": 342,
   "metadata": {},
   "outputs": [
    {
     "name": "stderr",
     "output_type": "stream",
     "text": [
      "Saving 6.67 x 6.67 in image\n",
      "\n",
      "Saving 6.67 x 6.67 in image\n",
      "\n",
      "Saving 6.67 x 6.67 in image\n",
      "\n",
      "Saving 6.67 x 6.67 in image\n",
      "\n",
      "Saving 6.67 x 6.67 in image\n",
      "\n",
      "Saving 6.67 x 6.67 in image\n",
      "\n",
      "Saving 6.67 x 6.67 in image\n",
      "\n",
      "Saving 6.67 x 6.67 in image\n",
      "\n",
      "Saving 6.67 x 6.67 in image\n",
      "\n",
      "Saving 6.67 x 6.67 in image\n",
      "\n",
      "Saving 6.67 x 6.67 in image\n",
      "\n",
      "Saving 6.67 x 6.67 in image\n",
      "\n",
      "Saving 6.67 x 6.67 in image\n",
      "\n",
      "Saving 6.67 x 6.67 in image\n",
      "\n",
      "Saving 6.67 x 6.67 in image\n",
      "\n"
     ]
    }
   ],
   "source": [
    "for(i in unique(df$celltype)){\n",
    "    test<-dplyr::filter(df, celltype == i)\n",
    "    \n",
    "    test$neg_log_p_value<- -log10(test$p_value)\n",
    "    \n",
    "    test_downs<-subset(test, direction == \"Downs\")\n",
    "    test_downs<-test_downs %>% arrange(p_value)\n",
    "    test_downs<-head(test_downs, 15)\n",
    "    \n",
    "    test_healthy<-subset(test, direction == \"Healthy\")\n",
    "    test_healthy<-test_healthy %>% arrange(p_value)\n",
    "    test_healthy<-head(test_healthy, 15)\n",
    "\n",
    "    test<-rbind(test_downs, test_healthy)\n",
    "\n",
    "    test$gene <- factor(test$gene, level = append(test_downs$gene, rev(test_healthy$gene)))\n",
    "\n",
    "    ggplot(test, aes(x=gene, y=neg_log_p_value, label=neg_log_p_value)) + \n",
    "  geom_bar(stat='identity', aes(fill=direction), width=.5)  +\n",
    "  scale_fill_manual(values = c(\"Healthy\"=\"#c3dfe0\", \"Downs\"=\"#ae0000\"))+\n",
    "  theme_bw() + theme(panel.grid.major = element_blank(), \n",
    "                     panel.grid.minor = element_blank(),\n",
    "                    axis.text.x = element_text(angle = 90, vjust = 0.5, hjust=1, size = 10))+ \n",
    "  labs(title= paste0(i, \"_regulons\"))\n",
    "   setwd('/home/jovyan/data/bone_marrow/figures')\n",
    "    ggsave(paste0(i, \"_regulons.pdf\"), plot = last_plot(), device = NULL, path = NULL,  scale = 1, dpi = 300)\n",
    "                                            \n",
    "}"
   ]
  }
 ],
 "metadata": {
  "kernelspec": {
   "display_name": "GCA_R",
   "language": "R",
   "name": "gca_r"
  },
  "language_info": {
   "codemirror_mode": "r",
   "file_extension": ".r",
   "mimetype": "text/x-r-source",
   "name": "R",
   "pygments_lexer": "r",
   "version": "4.0.4"
  }
 },
 "nbformat": 4,
 "nbformat_minor": 4
}
