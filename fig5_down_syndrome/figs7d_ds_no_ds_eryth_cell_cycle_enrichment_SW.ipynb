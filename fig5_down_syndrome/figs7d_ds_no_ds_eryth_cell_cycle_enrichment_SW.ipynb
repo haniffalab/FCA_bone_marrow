{
 "cells": [
  {
   "cell_type": "markdown",
   "metadata": {},
   "source": [
    "# Import packages and data "
   ]
  },
  {
   "cell_type": "code",
   "execution_count": 1,
   "metadata": {},
   "outputs": [
    {
     "name": "stderr",
     "output_type": "stream",
     "text": [
      "/Users/b8058304/.pyenv/versions/3.6.4/envs/py36/lib/python3.6/site-packages/anndata/_core/anndata.py:21: FutureWarning: pandas.core.index is deprecated and will be removed in a future version.  The public classes are available in the top-level namespace.\n",
      "  from pandas.core.index import RangeIndex\n"
     ]
    }
   ],
   "source": [
    "import numpy as np\n",
    "import pandas as pd\n",
    "import scanpy as sc\n",
    "import seaborn as sns\n",
    "import scipy.stats\n",
    "import anndata\n",
    "import matplotlib.pyplot as plt\n",
    "import matplotlib as mpl\n",
    "from matplotlib.axes._axes import _log as matplotlib_axes_logger\n",
    "from scipy import sparse\n",
    "matplotlib_axes_logger.setLevel('ERROR')"
   ]
  },
  {
   "cell_type": "code",
   "execution_count": 2,
   "metadata": {},
   "outputs": [
    {
     "name": "stdout",
     "output_type": "stream",
     "text": [
      "scanpy==1.4.4 anndata==0.7.1 umap==0.3.10 numpy==1.17.1 scipy==1.4.1 pandas==1.0.5 scikit-learn==0.22.2.post1 statsmodels==0.11.1 python-igraph==0.8.0 louvain==0.6.1\n"
     ]
    }
   ],
   "source": [
    "sc.settings.verbosity = 1  # verbosity: errors (0), warnings (1), info (2), hints (3)\n",
    "# Set up the plot config for viewing the annotation clearly.\n",
    "sc.settings.set_figure_params(dpi=120, dpi_save=1000)\n",
    "sc.logging.print_versions()"
   ]
  },
  {
   "cell_type": "markdown",
   "metadata": {},
   "source": [
    "# Import the FBM healthy eryth"
   ]
  },
  {
   "cell_type": "code",
   "execution_count": 3,
   "metadata": {},
   "outputs": [],
   "source": [
    "adata = sc.read('/Users/b8058304/Documents/PhD_work/Coding/bm_plus_19pcw/data/bm_plus_19pcw_raw_dr_20201007.h5ad')"
   ]
  },
  {
   "cell_type": "code",
   "execution_count": 4,
   "metadata": {},
   "outputs": [],
   "source": [
    "adata.raw = adata"
   ]
  },
  {
   "cell_type": "code",
   "execution_count": 5,
   "metadata": {},
   "outputs": [
    {
     "data": {
      "text/plain": [
       "cell.labels\n",
       "CD4 T cell             327\n",
       "CD8 T cell             171\n",
       "CD14 monocyte         8763\n",
       "CD56 bright NK         449\n",
       "CMP                    425\n",
       "                      ... \n",
       "schwann cells            9\n",
       "sinusoidal EC          550\n",
       "stromal macrophage    1464\n",
       "tDC                    193\n",
       "tip EC                 362\n",
       "Length: 64, dtype: int64"
      ]
     },
     "execution_count": 5,
     "metadata": {},
     "output_type": "execute_result"
    }
   ],
   "source": [
    "cell_numbers = adata.obs.groupby([\"cell.labels\"]).apply(len)\n",
    "cell_numbers"
   ]
  },
  {
   "cell_type": "code",
   "execution_count": 6,
   "metadata": {},
   "outputs": [],
   "source": [
    "celltypes = ['MEMP', 'MEP', 'early erythroid', 'mid erythroid', 'late erythroid']"
   ]
  },
  {
   "cell_type": "code",
   "execution_count": 7,
   "metadata": {},
   "outputs": [],
   "source": [
    "adata = adata[adata.obs['cell.labels'].isin(celltypes)].copy()"
   ]
  },
  {
   "cell_type": "code",
   "execution_count": 8,
   "metadata": {},
   "outputs": [
    {
     "data": {
      "text/plain": [
       "cell.labels\n",
       "MEMP                  16\n",
       "MEP                  269\n",
       "early erythroid     7474\n",
       "late erythroid      4636\n",
       "mid erythroid      14297\n",
       "dtype: int64"
      ]
     },
     "execution_count": 8,
     "metadata": {},
     "output_type": "execute_result"
    }
   ],
   "source": [
    "cell_numbers = adata.obs.groupby([\"cell.labels\"]).apply(len)\n",
    "cell_numbers"
   ]
  },
  {
   "cell_type": "code",
   "execution_count": 9,
   "metadata": {},
   "outputs": [
    {
     "data": {
      "text/plain": [
       "fetal.ids\n",
       "F21_male_16+2PCW       604\n",
       "F29_female_17+0PCW    1135\n",
       "F30_male_14+3PCW       840\n",
       "F38_male_12PCW         519\n",
       "F41_female_16PCW      3202\n",
       "F45_female_13+6PCW     785\n",
       "F50_female_15PCW      6622\n",
       "F51_female_15PCW      9442\n",
       "SB19PCW               3543\n",
       "dtype: int64"
      ]
     },
     "execution_count": 9,
     "metadata": {},
     "output_type": "execute_result"
    }
   ],
   "source": [
    "cell_numbers = adata.obs.groupby([\"fetal.ids\"]).apply(len)\n",
    "cell_numbers"
   ]
  },
  {
   "cell_type": "code",
   "execution_count": 10,
   "metadata": {},
   "outputs": [],
   "source": [
    "adata = adata[adata.obs['fetal.ids'].isin([\"F38_male_12PCW\", \"F45_female_13+6PCW\"])].copy()"
   ]
  },
  {
   "cell_type": "code",
   "execution_count": 11,
   "metadata": {},
   "outputs": [],
   "source": [
    "adata.obs['cell.labels'] = adata.obs['cell.labels'].replace([\"MEP\", \"MEMP\"], [\"MEP_MEMP\", \"MEP_MEMP\"])"
   ]
  },
  {
   "cell_type": "code",
   "execution_count": 12,
   "metadata": {},
   "outputs": [
    {
     "data": {
      "text/plain": [
       "cell.labels\n",
       "MEP_MEMP            27\n",
       "early erythroid    452\n",
       "late erythroid     186\n",
       "mid erythroid      639\n",
       "dtype: int64"
      ]
     },
     "execution_count": 12,
     "metadata": {},
     "output_type": "execute_result"
    }
   ],
   "source": [
    "cell_numbers = adata.obs.groupby([\"cell.labels\"]).apply(len)\n",
    "cell_numbers"
   ]
  },
  {
   "cell_type": "code",
   "execution_count": 13,
   "metadata": {},
   "outputs": [
    {
     "data": {
      "text/plain": [
       "fetal.ids\n",
       "F38_male_12PCW        519\n",
       "F45_female_13+6PCW    785\n",
       "dtype: int64"
      ]
     },
     "execution_count": 13,
     "metadata": {},
     "output_type": "execute_result"
    }
   ],
   "source": [
    "cell_numbers = adata.obs.groupby([\"fetal.ids\"]).apply(len)\n",
    "cell_numbers"
   ]
  },
  {
   "cell_type": "code",
   "execution_count": 14,
   "metadata": {},
   "outputs": [
    {
     "data": {
      "text/plain": [
       "(1304, 33712)"
      ]
     },
     "execution_count": 14,
     "metadata": {},
     "output_type": "execute_result"
    }
   ],
   "source": [
    "adata.shape"
   ]
  },
  {
   "cell_type": "code",
   "execution_count": 15,
   "metadata": {},
   "outputs": [],
   "source": [
    "adata.obs[\"dataset\"] = \"fbm\"\n",
    "fbm = adata"
   ]
  },
  {
   "cell_type": "code",
   "execution_count": 16,
   "metadata": {},
   "outputs": [
    {
     "data": {
      "text/plain": [
       "(1304, 33712)"
      ]
     },
     "execution_count": 16,
     "metadata": {},
     "output_type": "execute_result"
    }
   ],
   "source": [
    "fbm.shape"
   ]
  },
  {
   "cell_type": "code",
   "execution_count": null,
   "metadata": {},
   "outputs": [],
   "source": []
  },
  {
   "cell_type": "code",
   "execution_count": null,
   "metadata": {},
   "outputs": [],
   "source": []
  },
  {
   "cell_type": "code",
   "execution_count": null,
   "metadata": {},
   "outputs": [],
   "source": []
  },
  {
   "cell_type": "markdown",
   "metadata": {},
   "source": [
    "# Import the DS eryth cells"
   ]
  },
  {
   "cell_type": "code",
   "execution_count": 17,
   "metadata": {},
   "outputs": [],
   "source": [
    "adata = sc.read('/Users/b8058304/Documents/PhD_work/Coding/fbm_ds_cite_seq/data/fbm_ds_citeseq_plus_scrna_forMS_20210119.h5ad')"
   ]
  },
  {
   "cell_type": "code",
   "execution_count": 18,
   "metadata": {
    "scrolled": true
   },
   "outputs": [
    {
     "data": {
      "text/plain": [
       "(16743, 33694)"
      ]
     },
     "execution_count": 18,
     "metadata": {},
     "output_type": "execute_result"
    }
   ],
   "source": [
    "adata.shape"
   ]
  },
  {
   "cell_type": "code",
   "execution_count": 19,
   "metadata": {
    "scrolled": false
   },
   "outputs": [
    {
     "data": {
      "text/plain": [
       "cell.labels\n",
       "CAR                          4\n",
       "CD8 T cell                 181\n",
       "CD14 monocyte              320\n",
       "CD56 bright NK              79\n",
       "CMP                         50\n",
       "DC1                         45\n",
       "DC2                        228\n",
       "DC3                        108\n",
       "HSC                        105\n",
       "ILC precursor               13\n",
       "MEMP                       130\n",
       "MK                          83\n",
       "MOP                        422\n",
       "MSC                         53\n",
       "Treg                         8\n",
       "chondrocyte                  4\n",
       "early B cell                42\n",
       "early MK                    34\n",
       "early erythroid           1348\n",
       "endothelium                111\n",
       "eo/baso/mast precursor      53\n",
       "eosinophil                  63\n",
       "late erythroid            6336\n",
       "macrophage                 113\n",
       "mast cell                   39\n",
       "mast cell                   27\n",
       "mature B cell               31\n",
       "mature NK                  147\n",
       "mid erythroid             5230\n",
       "myelocyte                  243\n",
       "neutrophil                 273\n",
       "osteoblast                  11\n",
       "osteoclast                  57\n",
       "pDC                         14\n",
       "pre B cell                 115\n",
       "pre pDC                    110\n",
       "promonocyte                395\n",
       "promyelocyte               107\n",
       "transitional NK cell        11\n",
       "dtype: int64"
      ]
     },
     "execution_count": 19,
     "metadata": {},
     "output_type": "execute_result"
    }
   ],
   "source": [
    "cell_numbers = adata.obs.groupby([\"cell.labels\"]).apply(len)\n",
    "cell_numbers"
   ]
  },
  {
   "cell_type": "code",
   "execution_count": 20,
   "metadata": {},
   "outputs": [],
   "source": [
    "adata = adata[adata.obs['cell.labels'].isin(['MEMP', 'early erythroid', 'mid erythroid', \n",
    "                                                    'late erythroid'])].copy()"
   ]
  },
  {
   "cell_type": "code",
   "execution_count": 21,
   "metadata": {},
   "outputs": [
    {
     "data": {
      "text/plain": [
       "cell.labels\n",
       "MEMP                130\n",
       "early erythroid    1348\n",
       "late erythroid     6336\n",
       "mid erythroid      5230\n",
       "dtype: int64"
      ]
     },
     "execution_count": 21,
     "metadata": {},
     "output_type": "execute_result"
    }
   ],
   "source": [
    "cell_numbers = adata.obs.groupby([\"cell.labels\"]).apply(len)\n",
    "cell_numbers"
   ]
  },
  {
   "cell_type": "code",
   "execution_count": 22,
   "metadata": {},
   "outputs": [],
   "source": [
    "adata.obs[\"dataset\"] = \"ds_fbm\"\n",
    "ds_fbm = adata"
   ]
  },
  {
   "cell_type": "code",
   "execution_count": 23,
   "metadata": {},
   "outputs": [
    {
     "data": {
      "text/plain": [
       "(13044, 33694)"
      ]
     },
     "execution_count": 23,
     "metadata": {},
     "output_type": "execute_result"
    }
   ],
   "source": [
    "ds_fbm.shape"
   ]
  },
  {
   "cell_type": "code",
   "execution_count": null,
   "metadata": {},
   "outputs": [],
   "source": []
  },
  {
   "cell_type": "markdown",
   "metadata": {},
   "source": [
    "# Combine the datasets"
   ]
  },
  {
   "cell_type": "code",
   "execution_count": 24,
   "metadata": {},
   "outputs": [],
   "source": [
    "from scipy import sparse\n",
    "\n",
    "objects = [ds_fbm, fbm]\n",
    "\n",
    "for i in objects:\n",
    "    array_vals = i.X\n",
    "    i.X = sparse.csr_matrix(i.X)\n",
    "    i.raw = i\n",
    "    i.X = array_vals"
   ]
  },
  {
   "cell_type": "code",
   "execution_count": 25,
   "metadata": {},
   "outputs": [],
   "source": [
    "# make DS gene data categorical, so merging can go ahead\n",
    "\n",
    "ds_fbm.var = ds_fbm.var.astype(\"category\")"
   ]
  },
  {
   "cell_type": "code",
   "execution_count": 26,
   "metadata": {},
   "outputs": [
    {
     "data": {
      "text/plain": [
       "gene_ids-0            category\n",
       "gene_ids-1            category\n",
       "highly_variable-1     category\n",
       "means-1               category\n",
       "dispersions-1         category\n",
       "dispersions_norm-1    category\n",
       "dtype: object"
      ]
     },
     "execution_count": 26,
     "metadata": {},
     "output_type": "execute_result"
    }
   ],
   "source": [
    "ds_fbm.var.dtypes"
   ]
  },
  {
   "cell_type": "code",
   "execution_count": 27,
   "metadata": {},
   "outputs": [
    {
     "data": {
      "text/plain": [
       "gene_ids-1         category\n",
       "feature_types-1    category\n",
       "dtype: object"
      ]
     },
     "execution_count": 27,
     "metadata": {},
     "output_type": "execute_result"
    }
   ],
   "source": [
    "fbm.var.dtypes"
   ]
  },
  {
   "cell_type": "code",
   "execution_count": null,
   "metadata": {},
   "outputs": [],
   "source": []
  },
  {
   "cell_type": "code",
   "execution_count": null,
   "metadata": {},
   "outputs": [],
   "source": []
  },
  {
   "cell_type": "code",
   "execution_count": null,
   "metadata": {},
   "outputs": [],
   "source": []
  },
  {
   "cell_type": "code",
   "execution_count": null,
   "metadata": {},
   "outputs": [],
   "source": []
  },
  {
   "cell_type": "code",
   "execution_count": 28,
   "metadata": {},
   "outputs": [],
   "source": [
    "merged = fbm.concatenate(ds_fbm, index_unique=None, join='inner')"
   ]
  },
  {
   "cell_type": "code",
   "execution_count": 29,
   "metadata": {},
   "outputs": [
    {
     "data": {
      "text/plain": [
       "(14348, 33694)"
      ]
     },
     "execution_count": 29,
     "metadata": {},
     "output_type": "execute_result"
    }
   ],
   "source": [
    "merged.shape"
   ]
  },
  {
   "cell_type": "code",
   "execution_count": 30,
   "metadata": {},
   "outputs": [
    {
     "data": {
      "text/plain": [
       "cell.labels\n",
       "MEMP                130\n",
       "MEP_MEMP             27\n",
       "early erythroid    1800\n",
       "late erythroid     6522\n",
       "mid erythroid      5869\n",
       "dtype: int64"
      ]
     },
     "execution_count": 30,
     "metadata": {},
     "output_type": "execute_result"
    }
   ],
   "source": [
    "cell_numbers = merged.obs.groupby([\"cell.labels\"]).apply(len)\n",
    "cell_numbers"
   ]
  },
  {
   "cell_type": "code",
   "execution_count": 31,
   "metadata": {},
   "outputs": [],
   "source": [
    "merged.obs[\"dataset_cell.labels\"] = merged.obs[\"dataset\"].astype(str) + '_' + merged.obs[\"cell.labels\"].astype(str)"
   ]
  },
  {
   "cell_type": "code",
   "execution_count": 32,
   "metadata": {},
   "outputs": [
    {
     "data": {
      "text/plain": [
       "dataset_cell.labels\n",
       "ds_fbm_MEMP                130\n",
       "ds_fbm_early erythroid    1348\n",
       "ds_fbm_late erythroid     6336\n",
       "ds_fbm_mid erythroid      5230\n",
       "fbm_MEP_MEMP                27\n",
       "fbm_early erythroid        452\n",
       "fbm_late erythroid         186\n",
       "fbm_mid erythroid          639\n",
       "dtype: int64"
      ]
     },
     "execution_count": 32,
     "metadata": {},
     "output_type": "execute_result"
    }
   ],
   "source": [
    "cell_numbers = merged.obs.groupby([\"dataset_cell.labels\"]).apply(len)\n",
    "cell_numbers"
   ]
  },
  {
   "cell_type": "markdown",
   "metadata": {},
   "source": [
    "# Pre-process the data"
   ]
  },
  {
   "cell_type": "code",
   "execution_count": 33,
   "metadata": {},
   "outputs": [],
   "source": [
    "adata=merged"
   ]
  },
  {
   "cell_type": "code",
   "execution_count": 34,
   "metadata": {},
   "outputs": [],
   "source": [
    "# normalise count data \n",
    "sc.pp.normalize_total(adata)"
   ]
  },
  {
   "cell_type": "code",
   "execution_count": 35,
   "metadata": {},
   "outputs": [],
   "source": [
    "# log the count data \n",
    "sc.pp.log1p(adata)"
   ]
  },
  {
   "cell_type": "code",
   "execution_count": 36,
   "metadata": {},
   "outputs": [],
   "source": [
    "# find variable genes\n",
    "sc.pp.highly_variable_genes(adata, min_mean=0.0125, max_mean=3, min_disp=0.5) "
   ]
  },
  {
   "cell_type": "code",
   "execution_count": 37,
   "metadata": {},
   "outputs": [],
   "source": [
    "# scale the data \n",
    "sc.pp.scale(adata, max_value=10)\n",
    "# scale the negative values in adata.X (which have been normalised, logged and scaled) to zero \n",
    "adata.X = np.where(adata.X < 0, 0, adata.X)"
   ]
  },
  {
   "cell_type": "code",
   "execution_count": null,
   "metadata": {},
   "outputs": [],
   "source": []
  },
  {
   "cell_type": "markdown",
   "metadata": {},
   "source": [
    "# Import cell cycling genes"
   ]
  },
  {
   "cell_type": "code",
   "execution_count": 38,
   "metadata": {},
   "outputs": [],
   "source": [
    "#Score cell cycle and visualize the effect:\n",
    "# load file in\n",
    "cc_genes_file = '/Users/b8058304/Documents/PhD_work/Coding/bm/resources_for_pipelines/cell_cycle_makosco.csv'\n",
    "cc_genes = pd.read_csv(cc_genes_file, delimiter=',')\n",
    "# removing na from s and g2m list\n",
    "s_genes = cc_genes['S'].dropna()\n",
    "g2m_genes = cc_genes['G2/M'].dropna()"
   ]
  },
  {
   "cell_type": "code",
   "execution_count": 39,
   "metadata": {},
   "outputs": [],
   "source": [
    "y_genes = s_genes.tolist()\n",
    "no_trail = []\n",
    "\n",
    "for x in y_genes:\n",
    "    y = x.strip()\n",
    "    no_trail.append(y)\n",
    "    \n",
    "s_genes = no_trail "
   ]
  },
  {
   "cell_type": "code",
   "execution_count": 40,
   "metadata": {},
   "outputs": [],
   "source": [
    "y_genes = g2m_genes.tolist()\n",
    "no_trail = []\n",
    "\n",
    "for x in y_genes:\n",
    "    y = x.strip()\n",
    "    no_trail.append(y)\n",
    "    \n",
    "g2m_genes = no_trail "
   ]
  },
  {
   "cell_type": "code",
   "execution_count": 41,
   "metadata": {},
   "outputs": [],
   "source": [
    "s_genes_mm = adata.var_names[np.isin(adata.var_names, s_genes)]"
   ]
  },
  {
   "cell_type": "code",
   "execution_count": 42,
   "metadata": {},
   "outputs": [],
   "source": [
    "g2m_genes_mm = adata.var_names[np.isin(adata.var_names, g2m_genes)]"
   ]
  },
  {
   "cell_type": "code",
   "execution_count": 43,
   "metadata": {},
   "outputs": [],
   "source": [
    "sc.tl.score_genes_cell_cycle(adata, s_genes=s_genes_mm, g2m_genes=g2m_genes_mm)"
   ]
  },
  {
   "cell_type": "code",
   "execution_count": 44,
   "metadata": {},
   "outputs": [],
   "source": [
    "adata.obs[\"phase_combined\"] = adata.obs[\"phase\"].replace([\"G2M\", \"S\"], [\"G2M/S\", \"G2M/S\"])"
   ]
  },
  {
   "cell_type": "code",
   "execution_count": 45,
   "metadata": {},
   "outputs": [],
   "source": [
    "adata.obs[\"S/G2M_score_combined\"] = (adata.obs[\"G2M_score\"] + adata.obs[\"S_score\"])/2"
   ]
  },
  {
   "cell_type": "code",
   "execution_count": null,
   "metadata": {},
   "outputs": [],
   "source": []
  },
  {
   "cell_type": "code",
   "execution_count": null,
   "metadata": {},
   "outputs": [],
   "source": []
  },
  {
   "cell_type": "code",
   "execution_count": null,
   "metadata": {},
   "outputs": [],
   "source": []
  },
  {
   "cell_type": "markdown",
   "metadata": {},
   "source": [
    "# Reorder the celltype/tissue metadata col (in prep for heatmap)"
   ]
  },
  {
   "cell_type": "code",
   "execution_count": 46,
   "metadata": {},
   "outputs": [
    {
     "data": {
      "text/plain": [
       "array(['fbm_early erythroid', 'fbm_mid erythroid', 'fbm_late erythroid',\n",
       "       'fbm_MEP_MEMP', 'ds_fbm_early erythroid', 'ds_fbm_late erythroid',\n",
       "       'ds_fbm_mid erythroid', 'ds_fbm_MEMP'], dtype=object)"
      ]
     },
     "execution_count": 46,
     "metadata": {},
     "output_type": "execute_result"
    }
   ],
   "source": [
    "# order tissue_cell.labels column\n",
    "\n",
    "adata.obs[\"dataset_cell.labels\"].unique()"
   ]
  },
  {
   "cell_type": "code",
   "execution_count": 47,
   "metadata": {},
   "outputs": [],
   "source": [
    "# order tissue_cell.labels column\n",
    "\n",
    "adata.obs[\"dataset_cell.labels\"] = adata.obs[\"dataset_cell.labels\"].astype(\"category\")\n",
    "\n",
    "adata.obs[\"dataset_cell.labels\"] = adata.obs[\"dataset_cell.labels\"].cat.reorder_categories(['ds_fbm_MEMP',\n",
    "         'ds_fbm_early erythroid', 'ds_fbm_mid erythroid', 'ds_fbm_late erythroid',\n",
    "         'fbm_MEP_MEMP', 'fbm_early erythroid', 'fbm_mid erythroid', 'fbm_late erythroid'])"
   ]
  },
  {
   "cell_type": "code",
   "execution_count": 48,
   "metadata": {},
   "outputs": [
    {
     "data": {
      "text/plain": [
       "[fbm_early erythroid, fbm_mid erythroid, fbm_late erythroid, fbm_MEP_MEMP, ds_fbm_early erythroid, ds_fbm_late erythroid, ds_fbm_mid erythroid, ds_fbm_MEMP]\n",
       "Categories (8, object): [fbm_early erythroid, fbm_mid erythroid, fbm_late erythroid, fbm_MEP_MEMP, ds_fbm_early erythroid, ds_fbm_late erythroid, ds_fbm_mid erythroid, ds_fbm_MEMP]"
      ]
     },
     "execution_count": 48,
     "metadata": {},
     "output_type": "execute_result"
    }
   ],
   "source": [
    "adata.obs[\"dataset_cell.labels\"].unique()"
   ]
  },
  {
   "cell_type": "code",
   "execution_count": 49,
   "metadata": {},
   "outputs": [
    {
     "data": {
      "text/html": [
       "<div>\n",
       "<style scoped>\n",
       "    .dataframe tbody tr th:only-of-type {\n",
       "        vertical-align: middle;\n",
       "    }\n",
       "\n",
       "    .dataframe tbody tr th {\n",
       "        vertical-align: top;\n",
       "    }\n",
       "\n",
       "    .dataframe thead th {\n",
       "        text-align: right;\n",
       "    }\n",
       "</style>\n",
       "<table border=\"1\" class=\"dataframe\">\n",
       "  <thead>\n",
       "    <tr style=\"text-align: right;\">\n",
       "      <th></th>\n",
       "      <th>S/G2M_score_combined</th>\n",
       "      <th>labels</th>\n",
       "    </tr>\n",
       "  </thead>\n",
       "  <tbody>\n",
       "    <tr>\n",
       "      <th>F38_boneMarrow_CD45-_FCAImmP7528282_3prime_AAACCTGAGATTACCC</th>\n",
       "      <td>0.013212</td>\n",
       "      <td>fbm_early erythroid</td>\n",
       "    </tr>\n",
       "    <tr>\n",
       "      <th>F38_boneMarrow_CD45-_FCAImmP7528282_3prime_AAAGATGTCATCTGTT</th>\n",
       "      <td>-0.021764</td>\n",
       "      <td>fbm_early erythroid</td>\n",
       "    </tr>\n",
       "    <tr>\n",
       "      <th>F38_boneMarrow_CD45-_FCAImmP7528282_3prime_AACGTTGCAGGACCCT</th>\n",
       "      <td>-0.046263</td>\n",
       "      <td>fbm_mid erythroid</td>\n",
       "    </tr>\n",
       "    <tr>\n",
       "      <th>F38_boneMarrow_CD45-_FCAImmP7528282_3prime_AACGTTGCAGTCAGCC</th>\n",
       "      <td>-0.019620</td>\n",
       "      <td>fbm_mid erythroid</td>\n",
       "    </tr>\n",
       "    <tr>\n",
       "      <th>F38_boneMarrow_CD45-_FCAImmP7528282_3prime_AAGGCAGGTTGTGGCC</th>\n",
       "      <td>0.020690</td>\n",
       "      <td>fbm_early erythroid</td>\n",
       "    </tr>\n",
       "    <tr>\n",
       "      <th>...</th>\n",
       "      <td>...</td>\n",
       "      <td>...</td>\n",
       "    </tr>\n",
       "    <tr>\n",
       "      <th>TTTGTCAAGTTCGCGC-1-DSOX19</th>\n",
       "      <td>0.065743</td>\n",
       "      <td>ds_fbm_late erythroid</td>\n",
       "    </tr>\n",
       "    <tr>\n",
       "      <th>TTTGTCAGTATTAGCC-1-DSOX19</th>\n",
       "      <td>-0.009848</td>\n",
       "      <td>ds_fbm_late erythroid</td>\n",
       "    </tr>\n",
       "    <tr>\n",
       "      <th>TTTGTCAGTGCACTTA-1-DSOX19</th>\n",
       "      <td>0.381640</td>\n",
       "      <td>ds_fbm_mid erythroid</td>\n",
       "    </tr>\n",
       "    <tr>\n",
       "      <th>TTTGTCATCAAGGCTT-1-DSOX19</th>\n",
       "      <td>0.075645</td>\n",
       "      <td>ds_fbm_late erythroid</td>\n",
       "    </tr>\n",
       "    <tr>\n",
       "      <th>TTTGTCATCGCTGATA-1-DSOX19</th>\n",
       "      <td>0.590017</td>\n",
       "      <td>ds_fbm_mid erythroid</td>\n",
       "    </tr>\n",
       "  </tbody>\n",
       "</table>\n",
       "<p>14348 rows × 2 columns</p>\n",
       "</div>"
      ],
      "text/plain": [
       "                                                    S/G2M_score_combined  \\\n",
       "F38_boneMarrow_CD45-_FCAImmP7528282_3prime_AAAC...              0.013212   \n",
       "F38_boneMarrow_CD45-_FCAImmP7528282_3prime_AAAG...             -0.021764   \n",
       "F38_boneMarrow_CD45-_FCAImmP7528282_3prime_AACG...             -0.046263   \n",
       "F38_boneMarrow_CD45-_FCAImmP7528282_3prime_AACG...             -0.019620   \n",
       "F38_boneMarrow_CD45-_FCAImmP7528282_3prime_AAGG...              0.020690   \n",
       "...                                                                  ...   \n",
       "TTTGTCAAGTTCGCGC-1-DSOX19                                       0.065743   \n",
       "TTTGTCAGTATTAGCC-1-DSOX19                                      -0.009848   \n",
       "TTTGTCAGTGCACTTA-1-DSOX19                                       0.381640   \n",
       "TTTGTCATCAAGGCTT-1-DSOX19                                       0.075645   \n",
       "TTTGTCATCGCTGATA-1-DSOX19                                       0.590017   \n",
       "\n",
       "                                                                   labels  \n",
       "F38_boneMarrow_CD45-_FCAImmP7528282_3prime_AAAC...    fbm_early erythroid  \n",
       "F38_boneMarrow_CD45-_FCAImmP7528282_3prime_AAAG...    fbm_early erythroid  \n",
       "F38_boneMarrow_CD45-_FCAImmP7528282_3prime_AACG...      fbm_mid erythroid  \n",
       "F38_boneMarrow_CD45-_FCAImmP7528282_3prime_AACG...      fbm_mid erythroid  \n",
       "F38_boneMarrow_CD45-_FCAImmP7528282_3prime_AAGG...    fbm_early erythroid  \n",
       "...                                                                   ...  \n",
       "TTTGTCAAGTTCGCGC-1-DSOX19                           ds_fbm_late erythroid  \n",
       "TTTGTCAGTATTAGCC-1-DSOX19                           ds_fbm_late erythroid  \n",
       "TTTGTCAGTGCACTTA-1-DSOX19                            ds_fbm_mid erythroid  \n",
       "TTTGTCATCAAGGCTT-1-DSOX19                           ds_fbm_late erythroid  \n",
       "TTTGTCATCGCTGATA-1-DSOX19                            ds_fbm_mid erythroid  \n",
       "\n",
       "[14348 rows x 2 columns]"
      ]
     },
     "execution_count": 49,
     "metadata": {},
     "output_type": "execute_result"
    }
   ],
   "source": [
    "# save cell cycle scores within metadata as a dataframe (called enrichement scores)\n",
    "adata.obs[\"labels\"] = adata.obs[\"dataset_cell.labels\"]\n",
    "meta = pd.DataFrame(adata.obs)\n",
    "enrichment_scores_df = meta[meta.columns[-2:]]\n",
    "enrichment_scores_df"
   ]
  },
  {
   "cell_type": "code",
   "execution_count": 50,
   "metadata": {},
   "outputs": [
    {
     "data": {
      "text/html": [
       "<div>\n",
       "<style scoped>\n",
       "    .dataframe tbody tr th:only-of-type {\n",
       "        vertical-align: middle;\n",
       "    }\n",
       "\n",
       "    .dataframe tbody tr th {\n",
       "        vertical-align: top;\n",
       "    }\n",
       "\n",
       "    .dataframe thead th {\n",
       "        text-align: right;\n",
       "    }\n",
       "</style>\n",
       "<table border=\"1\" class=\"dataframe\">\n",
       "  <thead>\n",
       "    <tr style=\"text-align: right;\">\n",
       "      <th>labels</th>\n",
       "      <th>ds_fbm_MEMP</th>\n",
       "      <th>ds_fbm_early erythroid</th>\n",
       "      <th>ds_fbm_mid erythroid</th>\n",
       "      <th>ds_fbm_late erythroid</th>\n",
       "      <th>fbm_MEP_MEMP</th>\n",
       "      <th>fbm_early erythroid</th>\n",
       "      <th>fbm_mid erythroid</th>\n",
       "      <th>fbm_late erythroid</th>\n",
       "    </tr>\n",
       "  </thead>\n",
       "  <tbody>\n",
       "    <tr>\n",
       "      <th>S/G2M_score_combined</th>\n",
       "      <td>-0.040691</td>\n",
       "      <td>0.126396</td>\n",
       "      <td>0.250626</td>\n",
       "      <td>0.003421</td>\n",
       "      <td>-0.093815</td>\n",
       "      <td>0.005963</td>\n",
       "      <td>0.032413</td>\n",
       "      <td>-0.007926</td>\n",
       "    </tr>\n",
       "  </tbody>\n",
       "</table>\n",
       "</div>"
      ],
      "text/plain": [
       "labels                ds_fbm_MEMP  ds_fbm_early erythroid  \\\n",
       "S/G2M_score_combined    -0.040691                0.126396   \n",
       "\n",
       "labels                ds_fbm_mid erythroid  ds_fbm_late erythroid  \\\n",
       "S/G2M_score_combined              0.250626               0.003421   \n",
       "\n",
       "labels                fbm_MEP_MEMP  fbm_early erythroid  fbm_mid erythroid  \\\n",
       "S/G2M_score_combined     -0.093815             0.005963           0.032413   \n",
       "\n",
       "labels                fbm_late erythroid  \n",
       "S/G2M_score_combined           -0.007926  "
      ]
     },
     "execution_count": 50,
     "metadata": {},
     "output_type": "execute_result"
    }
   ],
   "source": [
    "# calculate mean enrichment scores by celltype\n",
    "mean_enrichment_scores_df = enrichment_scores_df.groupby('labels').mean()\n",
    "mean_enrichment_scores_df = mean_enrichment_scores_df.T\n",
    "mean_enrichment_scores_df = mean_enrichment_scores_df.sort_index()\n",
    "mean_enrichment_scores_df"
   ]
  },
  {
   "cell_type": "markdown",
   "metadata": {},
   "source": [
    "# Run heatmap"
   ]
  },
  {
   "cell_type": "code",
   "execution_count": 51,
   "metadata": {
    "scrolled": false
   },
   "outputs": [
    {
     "data": {
      "image/png": "[encoded data removed]",
      "text/plain": [
       "<Figure size 600x240 with 2 Axes>"
      ]
     },
     "metadata": {
      "image/png": {
       "height": 486,
       "width": 534
      },
      "needs_background": "light"
     },
     "output_type": "display_data"
    },
    {
     "data": {
      "image/png": "[encoded data removed]",
      "text/plain": [
       "<Figure size 600x240 with 2 Axes>"
      ]
     },
     "metadata": {
      "image/png": {
       "height": 486,
       "width": 534
      },
      "needs_background": "light"
     },
     "output_type": "display_data"
    }
   ],
   "source": [
    "plt.figure(figsize=(5, 2))\n",
    "fig = sns.heatmap(mean_enrichment_scores_df, annot=True, fmt=\".2\", annot_kws={\"size\": 5}, cmap=\"RdYlBu_r\").get_figure() #xticklabels=cell_label_order, yticklabels=cell_label_order,\n",
    "# fix for mpl bug that cuts off top/bottom of seaborn viz\n",
    "b, t = plt.ylim() # discover the values for bottom and top\n",
    "b += 0.5 # Add 0.5 to the bottom\n",
    "t -= 0.5 # Subtract 0.5 from the top\n",
    "plt.ylim(b, t) # update the ylim(bottom, top) values\n",
    "fig.savefig(\"figures/figs5b_no-ds_ds_eryth_cycle_comparison_numbers_yes_20210125.pdf\")\n",
    "\n",
    "plt.figure(figsize=(5, 2))\n",
    "fig = sns.heatmap(mean_enrichment_scores_df, cmap=\"RdYlBu_r\").get_figure() \n",
    "# fix for mpl bug that cuts off top/bottom of seaborn viz\n",
    "b, t = plt.ylim() # discover the values for bottom and top\n",
    "b += 0.5 # Add 0.5 to the bottom\n",
    "t -= 0.5 # Subtract 0.5 from the top\n",
    "plt.ylim(b, t) # update the ylim(bottom, top) values\n",
    "fig.savefig(\"figures/figs5b_no-ds_ds_eryth_cycle_comparison_numbers_no_20210125.pdf\")"
   ]
  },
  {
   "cell_type": "markdown",
   "metadata": {},
   "source": [
    "# Save the data"
   ]
  },
  {
   "cell_type": "code",
   "execution_count": 52,
   "metadata": {},
   "outputs": [],
   "source": [
    "from scipy.sparse import csr_matrix\n",
    "adata.X = sparse.csr_matrix(adata.X)"
   ]
  },
  {
   "cell_type": "code",
   "execution_count": 53,
   "metadata": {},
   "outputs": [
    {
     "data": {
      "text/plain": [
       "<14348x33694 sparse matrix of type '<class 'numpy.float32'>'\n",
       "\twith 18556006 stored elements in Compressed Sparse Row format>"
      ]
     },
     "execution_count": 53,
     "metadata": {},
     "output_type": "execute_result"
    }
   ],
   "source": [
    "adata.X"
   ]
  },
  {
   "cell_type": "code",
   "execution_count": 54,
   "metadata": {},
   "outputs": [
    {
     "data": {
      "text/plain": [
       "<14348x33694 sparse matrix of type '<class 'numpy.float32'>'\n",
       "\twith 21118281 stored elements in Compressed Sparse Row format>"
      ]
     },
     "execution_count": 54,
     "metadata": {},
     "output_type": "execute_result"
    }
   ],
   "source": [
    "adata.raw.X"
   ]
  },
  {
   "cell_type": "code",
   "execution_count": 55,
   "metadata": {},
   "outputs": [
    {
     "name": "stderr",
     "output_type": "stream",
     "text": [
      "... storing '__is_in_cluster__' as categorical\n",
      "... storing 'age' as categorical\n",
      "... storing 'april_cell.labels' as categorical\n",
      "... storing 'auto_prd' as categorical\n",
      "... storing 'cell.labels' as categorical\n",
      "... storing 'cell.labels_20200708' as categorical\n",
      "... storing 'cell.labels_20200713' as categorical\n",
      "... storing 'cell.labels_20200718' as categorical\n",
      "... storing 'dataset' as categorical\n",
      "... storing 'doublets' as categorical\n",
      "... storing 'fetal.ids' as categorical\n",
      "... storing 'gender' as categorical\n",
      "... storing 'is_doublet' as categorical\n",
      "... storing 'is_doublet_poptrim' as categorical\n",
      "... storing 'is_doublet_wolock' as categorical\n",
      "... storing 'lanes' as categorical\n",
      "... storing 'leiden' as categorical\n",
      "... storing 'lr_pred' as categorical\n",
      "... storing 'mad_prd' as categorical\n",
      "... storing 'mito.threshold' as categorical\n",
      "... storing 'nk_meta' as categorical\n",
      "... storing 'orig.ident' as categorical\n",
      "... storing 'processing.type' as categorical\n",
      "... storing 'sequencing.type' as categorical\n",
      "... storing 'sex' as categorical\n",
      "... storing 'sort.ids' as categorical\n",
      "... storing 'souporcell_assignment' as categorical\n",
      "... storing 'souporcell_doublet' as categorical\n",
      "... storing 'phase' as categorical\n",
      "... storing 'phase_combined' as categorical\n"
     ]
    }
   ],
   "source": [
    "adata.write(\"/Users/b8058304/Documents/PhD_work/Coding/manuscript_figs_mk2/data/figs5b_no-ds_ds_eryth_cycle_20210125.h5ad\")"
   ]
  },
  {
   "cell_type": "code",
   "execution_count": null,
   "metadata": {},
   "outputs": [],
   "source": []
  },
  {
   "cell_type": "code",
   "execution_count": null,
   "metadata": {},
   "outputs": [],
   "source": []
  },
  {
   "cell_type": "code",
   "execution_count": null,
   "metadata": {},
   "outputs": [],
   "source": []
  },
  {
   "cell_type": "code",
   "execution_count": null,
   "metadata": {},
   "outputs": [],
   "source": []
  },
  {
   "cell_type": "code",
   "execution_count": null,
   "metadata": {},
   "outputs": [],
   "source": []
  },
  {
   "cell_type": "code",
   "execution_count": null,
   "metadata": {},
   "outputs": [],
   "source": []
  }
 ],
 "metadata": {
  "kernelspec": {
   "display_name": "Python 3",
   "language": "python",
   "name": "python3"
  },
  "language_info": {
   "codemirror_mode": {
    "name": "ipython",
    "version": 3
   },
   "file_extension": ".py",
   "mimetype": "text/x-python",
   "name": "python",
   "nbconvert_exporter": "python",
   "pygments_lexer": "ipython3",
   "version": "3.6.4"
  }
 },
 "nbformat": 4,
 "nbformat_minor": 2
}
