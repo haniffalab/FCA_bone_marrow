{
 "cells": [
  {
   "cell_type": "markdown",
   "metadata": {},
   "source": [
    "# Import packages and data "
   ]
  },
  {
   "cell_type": "code",
   "execution_count": 1,
   "metadata": {
    "scrolled": true
   },
   "outputs": [
    {
     "name": "stderr",
     "output_type": "stream",
     "text": [
      "/Users/b8058304/.pyenv/versions/3.6.4/envs/py36/lib/python3.6/site-packages/anndata/_core/anndata.py:21: FutureWarning: pandas.core.index is deprecated and will be removed in a future version.  The public classes are available in the top-level namespace.\n",
      "  from pandas.core.index import RangeIndex\n"
     ]
    }
   ],
   "source": [
    "import numpy as np\n",
    "import pandas as pd\n",
    "import scanpy as sc\n",
    "import seaborn as sns\n",
    "import scipy.stats\n",
    "import anndata\n",
    "import matplotlib.pyplot as plt\n",
    "import matplotlib as mpl\n",
    "import rpy2"
   ]
  },
  {
   "cell_type": "code",
   "execution_count": 2,
   "metadata": {},
   "outputs": [
    {
     "name": "stdout",
     "output_type": "stream",
     "text": [
      "scanpy==1.4.4 anndata==0.7.1 umap==0.3.10 numpy==1.17.1 scipy==1.4.1 pandas==1.0.5 scikit-learn==0.22.2.post1 statsmodels==0.11.1 python-igraph==0.8.0 louvain==0.6.1\n"
     ]
    }
   ],
   "source": [
    "sc.settings.verbosity = 1  # verbosity: errors (0), warnings (1), info (2), hints (3)\n",
    "# Set up the plot config for viewing the annotation clearly.\n",
    "sc.settings.set_figure_params(dpi=120, dpi_save=1000)\n",
    "sc.logging.print_versions()"
   ]
  },
  {
   "cell_type": "code",
   "execution_count": 3,
   "metadata": {},
   "outputs": [],
   "source": [
    "pd.set_option('display.max_rows', 500)\n",
    "pd.set_option('display.max_columns', 500)\n",
    "pd.set_option('display.width', 1000)"
   ]
  },
  {
   "cell_type": "markdown",
   "metadata": {},
   "source": [
    "# Save UMAP for Monocle3 from the processed dataset"
   ]
  },
  {
   "cell_type": "code",
   "execution_count": 4,
   "metadata": {},
   "outputs": [],
   "source": [
    "adata = sc.read(\"/Users/b8058304/Documents/PhD_work/Coding/manuscript_figs_mk2/data/figs5d_downs_eryth_dr_20210125.h5ad\")"
   ]
  },
  {
   "cell_type": "code",
   "execution_count": 5,
   "metadata": {},
   "outputs": [],
   "source": [
    "# save the info on variable genes used in scanpy so these can be transferred to monocle\n",
    "gene_df = adata.var"
   ]
  },
  {
   "cell_type": "code",
   "execution_count": 6,
   "metadata": {},
   "outputs": [],
   "source": [
    "pd.DataFrame(adata.obsm[\"X_draw_graph_fa\"]).to_csv(\"/Users/b8058304/Documents/PhD_work/Coding/manuscript_figs_mk2/resources_for_pipelines/downs_eryth_fdg_20210125.csv\")"
   ]
  },
  {
   "cell_type": "markdown",
   "metadata": {},
   "source": [
    "# Load the fetal BM cells from the raw dataset"
   ]
  },
  {
   "cell_type": "code",
   "execution_count": 7,
   "metadata": {},
   "outputs": [],
   "source": [
    "adata = sc.read('/Users/b8058304/Documents/PhD_work/Coding/fbm_ds_cite_seq/data/fbm_ds_citeseq_plus_scrna_forMS_20210119.h5ad')"
   ]
  },
  {
   "cell_type": "code",
   "execution_count": 8,
   "metadata": {},
   "outputs": [],
   "source": [
    "adata.raw = adata"
   ]
  },
  {
   "cell_type": "code",
   "execution_count": 9,
   "metadata": {},
   "outputs": [
    {
     "data": {
      "text/plain": [
       "cell.labels\n",
       "CAR                          4\n",
       "CD8 T cell                 181\n",
       "CD14 monocyte              320\n",
       "CD56 bright NK              79\n",
       "CMP                         50\n",
       "DC1                         45\n",
       "DC2                        228\n",
       "DC3                        108\n",
       "HSC                        105\n",
       "ILC precursor               13\n",
       "MEMP                       130\n",
       "MK                          83\n",
       "MOP                        422\n",
       "MSC                         53\n",
       "Treg                         8\n",
       "chondrocyte                  4\n",
       "early B cell                42\n",
       "early MK                    34\n",
       "early erythroid           1348\n",
       "endothelium                111\n",
       "eo/baso/mast precursor      53\n",
       "eosinophil                  63\n",
       "late erythroid            6336\n",
       "macrophage                 113\n",
       "mast cell                   39\n",
       "mast cell                   27\n",
       "mature B cell               31\n",
       "mature NK                  147\n",
       "mid erythroid             5230\n",
       "myelocyte                  243\n",
       "neutrophil                 273\n",
       "osteoblast                  11\n",
       "osteoclast                  57\n",
       "pDC                         14\n",
       "pre B cell                 115\n",
       "pre pDC                    110\n",
       "promonocyte                395\n",
       "promyelocyte               107\n",
       "transitional NK cell        11\n",
       "dtype: int64"
      ]
     },
     "execution_count": 9,
     "metadata": {},
     "output_type": "execute_result"
    }
   ],
   "source": [
    "cell_numbers = adata.obs.groupby([\"cell.labels\"]).apply(len)\n",
    "cell_numbers"
   ]
  },
  {
   "cell_type": "code",
   "execution_count": 10,
   "metadata": {},
   "outputs": [],
   "source": [
    "celltypes = ['HSC', 'MEMP', 'early erythroid']"
   ]
  },
  {
   "cell_type": "code",
   "execution_count": 11,
   "metadata": {},
   "outputs": [],
   "source": [
    "adata = adata[adata.obs['cell.labels'].isin(celltypes)].copy()"
   ]
  },
  {
   "cell_type": "code",
   "execution_count": 12,
   "metadata": {},
   "outputs": [
    {
     "data": {
      "text/plain": [
       "cell.labels\n",
       "HSC                 105\n",
       "MEMP                130\n",
       "early erythroid    1348\n",
       "dtype: int64"
      ]
     },
     "execution_count": 12,
     "metadata": {},
     "output_type": "execute_result"
    }
   ],
   "source": [
    "cell_numbers = adata.obs.groupby([\"cell.labels\"]).apply(len)\n",
    "cell_numbers"
   ]
  },
  {
   "cell_type": "code",
   "execution_count": 13,
   "metadata": {},
   "outputs": [],
   "source": [
    "adata.var = gene_df"
   ]
  },
  {
   "cell_type": "code",
   "execution_count": 14,
   "metadata": {},
   "outputs": [
    {
     "data": {
      "text/plain": [
       "(1583, 33694)"
      ]
     },
     "execution_count": 14,
     "metadata": {},
     "output_type": "execute_result"
    }
   ],
   "source": [
    "adata.shape"
   ]
  },
  {
   "cell_type": "markdown",
   "metadata": {},
   "source": [
    "# Convert to CDS"
   ]
  },
  {
   "cell_type": "markdown",
   "metadata": {},
   "source": [
    "# Load rpy2 link"
   ]
  },
  {
   "cell_type": "code",
   "execution_count": 15,
   "metadata": {},
   "outputs": [],
   "source": [
    "# convert anndata to sce\n",
    "import anndata2ri\n",
    "anndata2ri.activate()\n",
    "%load_ext rpy2.ipython"
   ]
  },
  {
   "cell_type": "code",
   "execution_count": 16,
   "metadata": {},
   "outputs": [
    {
     "data": {
      "text/html": [
       "<div>\n",
       "<style scoped>\n",
       "    .dataframe tbody tr th:only-of-type {\n",
       "        vertical-align: middle;\n",
       "    }\n",
       "\n",
       "    .dataframe tbody tr th {\n",
       "        vertical-align: top;\n",
       "    }\n",
       "\n",
       "    .dataframe thead th {\n",
       "        text-align: right;\n",
       "    }\n",
       "</style>\n",
       "<table border=\"1\" class=\"dataframe\">\n",
       "  <thead>\n",
       "    <tr style=\"text-align: right;\">\n",
       "      <th></th>\n",
       "      <th>version.string</th>\n",
       "    </tr>\n",
       "  </thead>\n",
       "  <tbody>\n",
       "    <tr>\n",
       "      <th>1</th>\n",
       "      <td>R version 3.6.2 (2019-12-12)</td>\n",
       "    </tr>\n",
       "  </tbody>\n",
       "</table>\n",
       "</div>"
      ],
      "text/plain": [
       "                 version.string\n",
       "1  R version 3.6.2 (2019-12-12)"
      ]
     },
     "execution_count": 16,
     "metadata": {},
     "output_type": "execute_result"
    }
   ],
   "source": [
    "%R d = as.data.frame( R.Version() )\n",
    "%R d = d['version.string']"
   ]
  },
  {
   "cell_type": "code",
   "execution_count": 17,
   "metadata": {},
   "outputs": [
    {
     "name": "stderr",
     "output_type": "stream",
     "text": [
      "R[write to console]: Loading required package: SingleCellExperiment\n",
      "\n",
      "R[write to console]: Loading required package: SummarizedExperiment\n",
      "\n",
      "R[write to console]: Loading required package: GenomicRanges\n",
      "\n",
      "R[write to console]: Loading required package: stats4\n",
      "\n",
      "R[write to console]: Loading required package: BiocGenerics\n",
      "\n",
      "R[write to console]: Loading required package: parallel\n",
      "\n",
      "R[write to console]: \n",
      "Attaching package: ‘BiocGenerics’\n",
      "\n",
      "\n",
      "R[write to console]: The following objects are masked from ‘package:parallel’:\n",
      "\n",
      "    clusterApply, clusterApplyLB, clusterCall, clusterEvalQ,\n",
      "    clusterExport, clusterMap, parApply, parCapply, parLapply,\n",
      "    parLapplyLB, parRapply, parSapply, parSapplyLB\n",
      "\n",
      "\n",
      "R[write to console]: The following objects are masked from ‘package:stats’:\n",
      "\n",
      "    IQR, mad, sd, var, xtabs\n",
      "\n",
      "\n",
      "R[write to console]: The following objects are masked from ‘package:base’:\n",
      "\n",
      "    anyDuplicated, append, as.data.frame, basename, cbind, colnames,\n",
      "    dirname, do.call, duplicated, eval, evalq, Filter, Find, get, grep,\n",
      "    grepl, intersect, is.unsorted, lapply, Map, mapply, match, mget,\n",
      "    order, paste, pmax, pmax.int, pmin, pmin.int, Position, rank,\n",
      "    rbind, Reduce, rownames, sapply, setdiff, sort, table, tapply,\n",
      "    union, unique, unsplit, which, which.max, which.min\n",
      "\n",
      "\n",
      "R[write to console]: Loading required package: S4Vectors\n",
      "\n",
      "R[write to console]: \n",
      "Attaching package: ‘S4Vectors’\n",
      "\n",
      "\n",
      "R[write to console]: The following object is masked from ‘package:base’:\n",
      "\n",
      "    expand.grid\n",
      "\n",
      "\n",
      "R[write to console]: Loading required package: IRanges\n",
      "\n",
      "R[write to console]: Loading required package: GenomeInfoDb\n",
      "\n",
      "R[write to console]: Loading required package: Biobase\n",
      "\n",
      "R[write to console]: Welcome to Bioconductor\n",
      "\n",
      "    Vignettes contain introductory material; view with\n",
      "    'browseVignettes()'. To cite Bioconductor, see\n",
      "    'citation(\"Biobase\")', and for packages 'citation(\"pkgname\")'.\n",
      "\n",
      "\n",
      "R[write to console]: Loading required package: DelayedArray\n",
      "\n",
      "R[write to console]: Loading required package: matrixStats\n",
      "\n",
      "R[write to console]: \n",
      "Attaching package: ‘matrixStats’\n",
      "\n",
      "\n",
      "R[write to console]: The following objects are masked from ‘package:Biobase’:\n",
      "\n",
      "    anyMissing, rowMedians\n",
      "\n",
      "\n",
      "R[write to console]: Loading required package: BiocParallel\n",
      "\n",
      "R[write to console]: \n",
      "Attaching package: ‘DelayedArray’\n",
      "\n",
      "\n",
      "R[write to console]: The following objects are masked from ‘package:matrixStats’:\n",
      "\n",
      "    colMaxs, colMins, colRanges, rowMaxs, rowMins, rowRanges\n",
      "\n",
      "\n",
      "R[write to console]: The following objects are masked from ‘package:base’:\n",
      "\n",
      "    aperm, apply, rowsum\n",
      "\n",
      "\n",
      "R[write to console]: Loading required package: princurve\n",
      "\n",
      "R[write to console]: Loading required package: Matrix\n",
      "\n",
      "R[write to console]: \n",
      "Attaching package: ‘Matrix’\n",
      "\n",
      "\n",
      "R[write to console]: The following object is masked from ‘package:S4Vectors’:\n",
      "\n",
      "    expand\n",
      "\n",
      "\n",
      "R[write to console]: Loading required package: ggplot2\n",
      "\n",
      "R[write to console]: Loading required package: VGAM\n",
      "\n",
      "R[write to console]: Loading required package: splines\n",
      "\n",
      "R[write to console]: Loading required package: DDRTree\n",
      "\n",
      "R[write to console]: Loading required package: irlba\n",
      "\n",
      "R[write to console]: Loading required package: foreach\n",
      "\n",
      "R[write to console]: Loaded gam 1.16.1\n",
      "\n",
      "\n",
      "R[write to console]: \n",
      "Attaching package: ‘gam’\n",
      "\n",
      "\n",
      "R[write to console]: The following object is masked from ‘package:VGAM’:\n",
      "\n",
      "    s\n",
      "\n",
      "\n",
      "R[write to console]: Warning:\n",
      "R[write to console]:  namespace ‘bigmemory’ is not available and has been replaced\n",
      "by .GlobalEnv when processing object ‘’\n",
      "\n",
      "R[write to console]: Warning:\n",
      "R[write to console]:  namespace ‘bigmemory’ is not available and has been replaced\n",
      "by .GlobalEnv when processing object ‘’\n",
      "\n",
      "R[write to console]: \n",
      "Attaching package: ‘plyr’\n",
      "\n",
      "\n",
      "R[write to console]: The following object is masked from ‘package:matrixStats’:\n",
      "\n",
      "    count\n",
      "\n",
      "\n",
      "R[write to console]: The following object is masked from ‘package:IRanges’:\n",
      "\n",
      "    desc\n",
      "\n",
      "\n",
      "R[write to console]: The following object is masked from ‘package:S4Vectors’:\n",
      "\n",
      "    rename\n",
      "\n",
      "\n"
     ]
    }
   ],
   "source": [
    "%%R \n",
    "\n",
    "library(scran)\n",
    "library(RColorBrewer)\n",
    "library(slingshot)\n",
    "library(monocle)\n",
    "library(gam)\n",
    "library(clusterExperiment)\n",
    "library(ggplot2)\n",
    "library(plyr)"
   ]
  },
  {
   "cell_type": "markdown",
   "metadata": {},
   "source": [
    "# Convert Scanpy object to CellDataSet object and prepare obj"
   ]
  },
  {
   "cell_type": "code",
   "execution_count": 18,
   "metadata": {
    "scrolled": true
   },
   "outputs": [
    {
     "name": "stdout",
     "output_type": "stream",
     "text": [
      "class: SingleCellExperiment \n",
      "dim: 33694 1583 \n",
      "metadata(0):\n",
      "assays(1): X\n",
      "rownames(33694): RP11-34P13.3 FAM138A ... AC213203.1 FAM231B\n",
      "rowData names(10): gene_ids.0 gene_ids.1 ... dispersions\n",
      "  dispersions_norm\n",
      "colnames(1583): AAACCTGAGTACGTTC-1-DSOX4 AAAGATGTCTTATCTG-1-DSOX4 ...\n",
      "  TTTGGTTAGCCACTAT-1-DSOX19 TTTGGTTTCCCTCTTT-1-DSOX19\n",
      "colData names(20): X__is_in_cluster__ age ... souporcell_assignment\n",
      "  souporcell_doublet\n",
      "reducedDimNames(3): X_orig_pca PCA UMAP\n",
      "spikeNames(0):\n",
      "altExpNames(0):\n"
     ]
    }
   ],
   "source": [
    "%%R -i adata\n",
    "adata"
   ]
  },
  {
   "cell_type": "code",
   "execution_count": 19,
   "metadata": {},
   "outputs": [],
   "source": [
    "#Preprocessing for monocle\n",
    "data_mat_mon = adata.X.T\n",
    "var_mon=adata.var.copy()\n",
    "obs_mon=adata.obs.copy()"
   ]
  },
  {
   "cell_type": "code",
   "execution_count": 20,
   "metadata": {},
   "outputs": [
    {
     "data": {
      "text/html": [
       "<div>\n",
       "<style scoped>\n",
       "    .dataframe tbody tr th:only-of-type {\n",
       "        vertical-align: middle;\n",
       "    }\n",
       "\n",
       "    .dataframe tbody tr th {\n",
       "        vertical-align: top;\n",
       "    }\n",
       "\n",
       "    .dataframe thead th {\n",
       "        text-align: right;\n",
       "    }\n",
       "</style>\n",
       "<table border=\"1\" class=\"dataframe\">\n",
       "  <thead>\n",
       "    <tr style=\"text-align: right;\">\n",
       "      <th></th>\n",
       "      <th>gene_ids-0</th>\n",
       "      <th>gene_ids-1</th>\n",
       "      <th>highly_variable-1</th>\n",
       "      <th>means-1</th>\n",
       "      <th>dispersions-1</th>\n",
       "      <th>dispersions_norm-1</th>\n",
       "      <th>highly_variable</th>\n",
       "      <th>means</th>\n",
       "      <th>dispersions</th>\n",
       "      <th>dispersions_norm</th>\n",
       "    </tr>\n",
       "  </thead>\n",
       "  <tbody>\n",
       "    <tr>\n",
       "      <th>RP11-34P13.3</th>\n",
       "      <td>ENSG00000243485</td>\n",
       "      <td>ENSG00000243485</td>\n",
       "      <td>False</td>\n",
       "      <td>2.620183e-04</td>\n",
       "      <td>-0.696002</td>\n",
       "      <td>-1.658968</td>\n",
       "      <td>True</td>\n",
       "      <td>6.173132e-02</td>\n",
       "      <td>3.201796</td>\n",
       "      <td>0.926771</td>\n",
       "    </tr>\n",
       "    <tr>\n",
       "      <th>FAM138A</th>\n",
       "      <td>ENSG00000237613</td>\n",
       "      <td>ENSG00000237613</td>\n",
       "      <td>False</td>\n",
       "      <td>1.000000e-12</td>\n",
       "      <td>NaN</td>\n",
       "      <td>NaN</td>\n",
       "      <td>False</td>\n",
       "      <td>1.000000e-12</td>\n",
       "      <td>NaN</td>\n",
       "      <td>NaN</td>\n",
       "    </tr>\n",
       "    <tr>\n",
       "      <th>OR4F5</th>\n",
       "      <td>ENSG00000186092</td>\n",
       "      <td>ENSG00000186092</td>\n",
       "      <td>False</td>\n",
       "      <td>1.000000e-12</td>\n",
       "      <td>NaN</td>\n",
       "      <td>NaN</td>\n",
       "      <td>False</td>\n",
       "      <td>1.000000e-12</td>\n",
       "      <td>NaN</td>\n",
       "      <td>NaN</td>\n",
       "    </tr>\n",
       "    <tr>\n",
       "      <th>RP11-34P13.7</th>\n",
       "      <td>ENSG00000238009</td>\n",
       "      <td>ENSG00000238009</td>\n",
       "      <td>False</td>\n",
       "      <td>4.279811e-04</td>\n",
       "      <td>0.157936</td>\n",
       "      <td>-0.109613</td>\n",
       "      <td>True</td>\n",
       "      <td>1.892436e-02</td>\n",
       "      <td>3.300606</td>\n",
       "      <td>0.985676</td>\n",
       "    </tr>\n",
       "    <tr>\n",
       "      <th>RP11-34P13.8</th>\n",
       "      <td>ENSG00000239945</td>\n",
       "      <td>ENSG00000239945</td>\n",
       "      <td>False</td>\n",
       "      <td>1.000000e-12</td>\n",
       "      <td>NaN</td>\n",
       "      <td>NaN</td>\n",
       "      <td>False</td>\n",
       "      <td>1.000000e-12</td>\n",
       "      <td>NaN</td>\n",
       "      <td>NaN</td>\n",
       "    </tr>\n",
       "    <tr>\n",
       "      <th>...</th>\n",
       "      <td>...</td>\n",
       "      <td>...</td>\n",
       "      <td>...</td>\n",
       "      <td>...</td>\n",
       "      <td>...</td>\n",
       "      <td>...</td>\n",
       "      <td>...</td>\n",
       "      <td>...</td>\n",
       "      <td>...</td>\n",
       "      <td>...</td>\n",
       "    </tr>\n",
       "    <tr>\n",
       "      <th>AC233755.2</th>\n",
       "      <td>ENSG00000277856</td>\n",
       "      <td>ENSG00000277856</td>\n",
       "      <td>False</td>\n",
       "      <td>9.785641e-05</td>\n",
       "      <td>-0.229752</td>\n",
       "      <td>-0.813021</td>\n",
       "      <td>False</td>\n",
       "      <td>9.900274e-03</td>\n",
       "      <td>2.720622</td>\n",
       "      <td>0.639918</td>\n",
       "    </tr>\n",
       "    <tr>\n",
       "      <th>AC233755.1</th>\n",
       "      <td>ENSG00000275063</td>\n",
       "      <td>ENSG00000275063</td>\n",
       "      <td>False</td>\n",
       "      <td>1.000000e-12</td>\n",
       "      <td>NaN</td>\n",
       "      <td>NaN</td>\n",
       "      <td>False</td>\n",
       "      <td>1.620117e-04</td>\n",
       "      <td>-1.360684</td>\n",
       "      <td>-1.793160</td>\n",
       "    </tr>\n",
       "    <tr>\n",
       "      <th>AC240274.1</th>\n",
       "      <td>ENSG00000271254</td>\n",
       "      <td>ENSG00000271254</td>\n",
       "      <td>False</td>\n",
       "      <td>3.771025e-03</td>\n",
       "      <td>0.424717</td>\n",
       "      <td>0.374424</td>\n",
       "      <td>True</td>\n",
       "      <td>3.945190e-02</td>\n",
       "      <td>2.678236</td>\n",
       "      <td>0.614650</td>\n",
       "    </tr>\n",
       "    <tr>\n",
       "      <th>AC213203.1</th>\n",
       "      <td>ENSG00000277475</td>\n",
       "      <td>ENSG00000277475</td>\n",
       "      <td>False</td>\n",
       "      <td>1.000000e-12</td>\n",
       "      <td>NaN</td>\n",
       "      <td>NaN</td>\n",
       "      <td>False</td>\n",
       "      <td>1.000000e-12</td>\n",
       "      <td>NaN</td>\n",
       "      <td>NaN</td>\n",
       "    </tr>\n",
       "    <tr>\n",
       "      <th>FAM231B</th>\n",
       "      <td>ENSG00000268674</td>\n",
       "      <td>ENSG00000268674</td>\n",
       "      <td>False</td>\n",
       "      <td>1.000000e-12</td>\n",
       "      <td>NaN</td>\n",
       "      <td>NaN</td>\n",
       "      <td>False</td>\n",
       "      <td>1.000000e-12</td>\n",
       "      <td>NaN</td>\n",
       "      <td>NaN</td>\n",
       "    </tr>\n",
       "  </tbody>\n",
       "</table>\n",
       "<p>33694 rows × 10 columns</p>\n",
       "</div>"
      ],
      "text/plain": [
       "                   gene_ids-0       gene_ids-1  highly_variable-1       means-1  dispersions-1  dispersions_norm-1  highly_variable         means  dispersions  dispersions_norm\n",
       "RP11-34P13.3  ENSG00000243485  ENSG00000243485              False  2.620183e-04      -0.696002           -1.658968             True  6.173132e-02     3.201796          0.926771\n",
       "FAM138A       ENSG00000237613  ENSG00000237613              False  1.000000e-12            NaN                 NaN            False  1.000000e-12          NaN               NaN\n",
       "OR4F5         ENSG00000186092  ENSG00000186092              False  1.000000e-12            NaN                 NaN            False  1.000000e-12          NaN               NaN\n",
       "RP11-34P13.7  ENSG00000238009  ENSG00000238009              False  4.279811e-04       0.157936           -0.109613             True  1.892436e-02     3.300606          0.985676\n",
       "RP11-34P13.8  ENSG00000239945  ENSG00000239945              False  1.000000e-12            NaN                 NaN            False  1.000000e-12          NaN               NaN\n",
       "...                       ...              ...                ...           ...            ...                 ...              ...           ...          ...               ...\n",
       "AC233755.2    ENSG00000277856  ENSG00000277856              False  9.785641e-05      -0.229752           -0.813021            False  9.900274e-03     2.720622          0.639918\n",
       "AC233755.1    ENSG00000275063  ENSG00000275063              False  1.000000e-12            NaN                 NaN            False  1.620117e-04    -1.360684         -1.793160\n",
       "AC240274.1    ENSG00000271254  ENSG00000271254              False  3.771025e-03       0.424717            0.374424             True  3.945190e-02     2.678236          0.614650\n",
       "AC213203.1    ENSG00000277475  ENSG00000277475              False  1.000000e-12            NaN                 NaN            False  1.000000e-12          NaN               NaN\n",
       "FAM231B       ENSG00000268674  ENSG00000268674              False  1.000000e-12            NaN                 NaN            False  1.000000e-12          NaN               NaN\n",
       "\n",
       "[33694 rows x 10 columns]"
      ]
     },
     "execution_count": 20,
     "metadata": {},
     "output_type": "execute_result"
    }
   ],
   "source": [
    "var_mon"
   ]
  },
  {
   "cell_type": "code",
   "execution_count": 21,
   "metadata": {
    "scrolled": false
   },
   "outputs": [
    {
     "name": "stdout",
     "output_type": "stream",
     "text": [
      "[1] \"setting up cell dataset structure\"\n",
      "[1] \"printing pd - cells\"\n",
      "An object of class 'AnnotatedDataFrame'\n",
      "  rowNames: AAACCTGAGTACGTTC-1-DSOX4 AAAGATGTCTTATCTG-1-DSOX4 ...\n",
      "    TTTGGTTTCCCTCTTT-1-DSOX19 (1583 total)\n",
      "  varLabels: X__is_in_cluster__ age ... souporcell_doublet (20 total)\n",
      "  varMetadata: labelDescription\n",
      "[1] \"printing fd - genes\"\n",
      "An object of class 'AnnotatedDataFrame'\n",
      "  rowNames: RP11-34P13.3 FAM138A ... FAM231B (33694 total)\n",
      "  varLabels: gene_ids.0 gene_ids.1 ... dispersions_norm (10 total)\n",
      "  varMetadata: labelDescription\n",
      "[1] \"create newCellDataSet using the matrix, cells and genes\"\n",
      "[1] \"printing ie_regions_cds\"\n",
      "CellDataSet (storageMode: environment)\n",
      "assayData: 33694 features, 1583 samples \n",
      "  element names: exprs \n",
      "protocolData: none\n",
      "phenoData\n",
      "  sampleNames: AAACCTGAGTACGTTC-1-DSOX4 AAAGATGTCTTATCTG-1-DSOX4 ...\n",
      "    TTTGGTTTCCCTCTTT-1-DSOX19 (1583 total)\n",
      "  varLabels: X__is_in_cluster__ age ... Size_Factor (21 total)\n",
      "  varMetadata: labelDescription\n",
      "featureData\n",
      "  featureNames: RP11-34P13.3 FAM138A ... FAM231B (33694 total)\n",
      "  fvarLabels: gene_ids.0 gene_ids.1 ... dispersions_norm (10 total)\n",
      "  fvarMetadata: labelDescription\n",
      "experimentData: use 'experimentData(object)'\n",
      "Annotation:  \n"
     ]
    }
   ],
   "source": [
    "%%R -i data_mat_mon -i obs_mon -i var_mon\n",
    "\n",
    "#Set up the CellDataSet data structure\n",
    "print(\"setting up cell dataset structure\")\n",
    "print(\"printing pd - cells\")\n",
    "pd <- AnnotatedDataFrame(data = obs_mon)\n",
    "print(pd)\n",
    "print(\"printing fd - genes\")\n",
    "fd <- AnnotatedDataFrame(data = var_mon)\n",
    "print(fd)\n",
    "# assigning cells as column name and genes as rownames of GEX matrix (data_mat_mon)\n",
    "colnames(data_mat_mon) <- rownames(pd)\n",
    "rownames(data_mat_mon) <- rownames(fd)\n",
    "print(\"create newCellDataSet using the matrix, cells and genes\")\n",
    "ie_regions_cds <- newCellDataSet(cellData=data_mat_mon, phenoData=pd, featureData=fd, expressionFamily=negbinomial.size())\n",
    "\n",
    "# print ie_regions_cds\n",
    "print(\"printing ie_regions_cds\")\n",
    "print(ie_regions_cds)"
   ]
  },
  {
   "cell_type": "markdown",
   "metadata": {},
   "source": [
    "# Within CDS, select HVGs (previously defined in scanpy)"
   ]
  },
  {
   "cell_type": "code",
   "execution_count": 22,
   "metadata": {},
   "outputs": [
    {
     "name": "stdout",
     "output_type": "stream",
     "text": [
      "[1] \"filter hvgs\"\n",
      "[1] \"printing cds again\"\n",
      "CellDataSet (storageMode: environment)\n",
      "assayData: 7289 features, 1583 samples \n",
      "  element names: exprs \n",
      "protocolData: none\n",
      "phenoData\n",
      "  sampleNames: AAACCTGAGTACGTTC-1-DSOX4 AAAGATGTCTTATCTG-1-DSOX4 ...\n",
      "    TTTGGTTTCCCTCTTT-1-DSOX19 (1583 total)\n",
      "  varLabels: X__is_in_cluster__ age ... Size_Factor (21 total)\n",
      "  varMetadata: labelDescription\n",
      "featureData\n",
      "  featureNames: RP11-34P13.3 RP11-34P13.7 ... AC240274.1 (7289 total)\n",
      "  fvarLabels: gene_ids.0 gene_ids.1 ... dispersions_norm (10 total)\n",
      "  fvarMetadata: labelDescription\n",
      "experimentData: use 'experimentData(object)'\n",
      "Annotation:  \n"
     ]
    }
   ],
   "source": [
    "%%R \n",
    "\n",
    "#Filter highly variable genes from our analysis (normalisation by log and size factor will be performed in monocle3)\n",
    "print(\"filter hvgs\")\n",
    "hvg_mask = fData(ie_regions_cds)$highly_variable\n",
    "ie_regions_cds <- ie_regions_cds[hvg_mask,]\n",
    "\n",
    "# print ie_regions_cds\n",
    "print(\"printing cds again\")\n",
    "print(ie_regions_cds)"
   ]
  },
  {
   "cell_type": "markdown",
   "metadata": {},
   "source": [
    "# Save object for input into Monocle3"
   ]
  },
  {
   "cell_type": "code",
   "execution_count": 23,
   "metadata": {},
   "outputs": [],
   "source": [
    "%%R \n",
    "\n",
    "saveRDS(ie_regions_cds, \n",
    "        \"/Users/b8058304/Documents/PhD_work/Coding/manuscript_figs_mk2/data/figs5d_downs_eryth_cds_20210125.RDS\")"
   ]
  },
  {
   "cell_type": "code",
   "execution_count": null,
   "metadata": {},
   "outputs": [],
   "source": []
  },
  {
   "cell_type": "code",
   "execution_count": null,
   "metadata": {},
   "outputs": [],
   "source": []
  },
  {
   "cell_type": "code",
   "execution_count": null,
   "metadata": {},
   "outputs": [],
   "source": []
  }
 ],
 "metadata": {
  "kernelspec": {
   "display_name": "Python 3",
   "language": "python",
   "name": "python3"
  },
  "language_info": {
   "codemirror_mode": {
    "name": "ipython",
    "version": 3
   },
   "file_extension": ".py",
   "mimetype": "text/x-python",
   "name": "python",
   "nbconvert_exporter": "python",
   "pygments_lexer": "ipython3",
   "version": "3.6.4"
  }
 },
 "nbformat": 4,
 "nbformat_minor": 2
}
