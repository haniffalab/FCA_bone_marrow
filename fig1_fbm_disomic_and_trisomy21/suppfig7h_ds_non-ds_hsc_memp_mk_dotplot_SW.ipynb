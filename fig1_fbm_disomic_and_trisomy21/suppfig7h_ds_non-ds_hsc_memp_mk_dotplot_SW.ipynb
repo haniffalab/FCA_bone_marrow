{
 "cells": [
  {
   "cell_type": "markdown",
   "metadata": {},
   "source": [
    "# Import packages"
   ]
  },
  {
   "cell_type": "code",
   "execution_count": 1,
   "metadata": {},
   "outputs": [],
   "source": [
    "import numpy as np\n",
    "import pandas as pd\n",
    "import scanpy as sc\n",
    "import seaborn as sns\n",
    "import scipy.stats\n",
    "import anndata\n",
    "import matplotlib.pyplot as plt\n",
    "import matplotlib as mpl\n",
    "from matplotlib.axes._axes import _log as matplotlib_axes_logger\n",
    "from scipy import sparse\n",
    "matplotlib_axes_logger.setLevel('ERROR')\n",
    "# silence NumbaPerformanceWarning\n",
    "import warnings\n",
    "from numba.errors import NumbaPerformanceWarning\n",
    "warnings.filterwarnings(\"ignore\", category=NumbaPerformanceWarning)"
   ]
  },
  {
   "cell_type": "code",
   "execution_count": 2,
   "metadata": {},
   "outputs": [
    {
     "name": "stdout",
     "output_type": "stream",
     "text": [
      "scanpy==1.4.4 anndata==0.7.1 umap==0.3.10 numpy==1.17.1 scipy==1.4.1 pandas==0.23.0 scikit-learn==0.22.2.post1 statsmodels==0.11.1 python-igraph==0.8.0 louvain==0.6.1\n"
     ]
    }
   ],
   "source": [
    "sc.settings.verbosity = 1  # verbosity: errors (0), warnings (1), info (2), hints (3)\n",
    "# Set up the plot config for viewing the annotation clearly.\n",
    "sc.settings.set_figure_params(dpi=120, dpi_save=1000)\n",
    "sc.logging.print_versions()"
   ]
  },
  {
   "cell_type": "markdown",
   "metadata": {},
   "source": [
    "# Import the FBM HSC, MEMP, MK"
   ]
  },
  {
   "cell_type": "code",
   "execution_count": 3,
   "metadata": {},
   "outputs": [],
   "source": [
    "adata = sc.read('/Users/b8058304/Documents/PhD_work/Coding/bm_plus_19pcw/data/bm_plus_19pcw_raw_dr_20201007.h5ad')"
   ]
  },
  {
   "cell_type": "code",
   "execution_count": 4,
   "metadata": {
    "scrolled": true
   },
   "outputs": [
    {
     "data": {
      "text/plain": [
       "AnnData object with n_obs × n_vars = 103228 × 33712 \n",
       "    obs: 'cell.labels', 'doublets', 'fetal.ids', 'gender', 'is_doublet', 'is_doublet_poptrim', 'is_doublet_wolock', 'lanes', 'nGene', 'nUMI', 'orig.ident', 'percent.mito', 'processing.type', 'scrublet_cluster_score', 'scrublet_score', 'sequencing.type', 'sort.ids', 'april_cell.labels', 'cell.labels_20200708', 'cell.labels_20200713', 'cell.labels_20200718', 'nk_meta', 'mito.threshold'\n",
       "    var: 'gene_ids-1', 'feature_types-1'\n",
       "    obsm: 'X_orig_pca', 'X_pca', 'X_umap'"
      ]
     },
     "execution_count": 4,
     "metadata": {},
     "output_type": "execute_result"
    }
   ],
   "source": [
    "adata"
   ]
  },
  {
   "cell_type": "code",
   "execution_count": 5,
   "metadata": {
    "scrolled": false
   },
   "outputs": [
    {
     "data": {
      "text/plain": [
       "cell.labels\n",
       "CD4 T cell                   327\n",
       "CD8 T cell                   171\n",
       "CD14 monocyte               8763\n",
       "CD56 bright NK               449\n",
       "CMP                          425\n",
       "DC1                           50\n",
       "DC2                          598\n",
       "DC3                          705\n",
       "DC precursor                 201\n",
       "ELP                         1357\n",
       "GMP                         1281\n",
       "HSC                           92\n",
       "ILC precursor                 67\n",
       "LMPP                          34\n",
       "MEMP                          16\n",
       "MEP                          269\n",
       "MK                          1000\n",
       "MOP                         3838\n",
       "MPP myeloid                   92\n",
       "NK T cell                    111\n",
       "NK progenitor                 26\n",
       "Treg                          62\n",
       "adipo-CAR                    353\n",
       "arteriolar fibroblast         83\n",
       "basophil                     139\n",
       "chondrocyte                   80\n",
       "early MK                    1624\n",
       "early erythroid             7474\n",
       "early osteoblast             280\n",
       "endosteal fibroblast          54\n",
       "                           ...  \n",
       "immature EC                   42\n",
       "late erythroid              4636\n",
       "mast cell                    648\n",
       "mature NK                    136\n",
       "mid erythroid              14297\n",
       "monocytoid macrophage        290\n",
       "muscle                       131\n",
       "muscle stem cell             254\n",
       "myelocyte                   3794\n",
       "myeloid DC progenitor         31\n",
       "myofibroblast                 78\n",
       "naive B cell                1411\n",
       "neutrophil                  4501\n",
       "osteoblast                   363\n",
       "osteoblast precursor         456\n",
       "osteochondral precursor      191\n",
       "osteoclast                  1221\n",
       "pDC                          712\n",
       "pDC progenitor                23\n",
       "pre B progenitor           14229\n",
       "pre pro B progenitor        5427\n",
       "pro B progenitor            5528\n",
       "proliferating EC              26\n",
       "promonocyte                 7437\n",
       "promyelocyte                2191\n",
       "schwann cells                  9\n",
       "sinusoidal EC                550\n",
       "stromal macrophage          1464\n",
       "tDC                          193\n",
       "tip EC                       362\n",
       "Length: 64, dtype: int64"
      ]
     },
     "execution_count": 5,
     "metadata": {},
     "output_type": "execute_result"
    }
   ],
   "source": [
    "cell_numbers = adata.obs.groupby([\"cell.labels\"]).apply(len)\n",
    "cell_numbers"
   ]
  },
  {
   "cell_type": "code",
   "execution_count": 6,
   "metadata": {},
   "outputs": [],
   "source": [
    "from scipy import sparse\n",
    "array_vals = adata.X\n",
    "adata.X = sparse.csr_matrix(adata.X)\n",
    "adata.raw = adata\n",
    "adata.X = array_vals"
   ]
  },
  {
   "cell_type": "code",
   "execution_count": 7,
   "metadata": {},
   "outputs": [],
   "source": [
    "adata = adata[adata.obs['cell.labels'].isin(['HSC', 'MEP', 'MEMP', 'early MK', 'MK'])].copy()"
   ]
  },
  {
   "cell_type": "code",
   "execution_count": 8,
   "metadata": {},
   "outputs": [
    {
     "data": {
      "text/plain": [
       "cell.labels\n",
       "HSC           92\n",
       "MEMP          16\n",
       "MEP          269\n",
       "MK          1000\n",
       "early MK    1624\n",
       "dtype: int64"
      ]
     },
     "execution_count": 8,
     "metadata": {},
     "output_type": "execute_result"
    }
   ],
   "source": [
    "cell_numbers = adata.obs.groupby([\"cell.labels\"]).apply(len)\n",
    "cell_numbers"
   ]
  },
  {
   "cell_type": "code",
   "execution_count": 9,
   "metadata": {},
   "outputs": [],
   "source": [
    "adata.obs['cell.labels'] = adata.obs['cell.labels'].replace([\"early MK\", \"MK\"], [\"MK\", \"MK\"])"
   ]
  },
  {
   "cell_type": "code",
   "execution_count": 10,
   "metadata": {},
   "outputs": [
    {
     "data": {
      "text/plain": [
       "cell.labels\n",
       "HSC       92\n",
       "MEMP      16\n",
       "MEP      269\n",
       "MK      2624\n",
       "dtype: int64"
      ]
     },
     "execution_count": 10,
     "metadata": {},
     "output_type": "execute_result"
    }
   ],
   "source": [
    "cell_numbers = adata.obs.groupby([\"cell.labels\"]).apply(len)\n",
    "cell_numbers"
   ]
  },
  {
   "cell_type": "code",
   "execution_count": 11,
   "metadata": {},
   "outputs": [],
   "source": [
    "adata.obs[\"cell.labels\"] = adata.obs[\"cell.labels\"].replace([\"MEP\", \"MEMP\"], [\"MEP_MEMP\", \"MEP_MEMP\"])"
   ]
  },
  {
   "cell_type": "code",
   "execution_count": 12,
   "metadata": {},
   "outputs": [],
   "source": [
    "adata.obs[\"dataset\"] = \"FBM\""
   ]
  },
  {
   "cell_type": "code",
   "execution_count": 13,
   "metadata": {},
   "outputs": [],
   "source": [
    "fbm = adata"
   ]
  },
  {
   "cell_type": "markdown",
   "metadata": {},
   "source": [
    "# Import the FBM DS HSC, MEMP, MK"
   ]
  },
  {
   "cell_type": "code",
   "execution_count": 14,
   "metadata": {},
   "outputs": [],
   "source": [
    "adata = sc.read('/Users/b8058304/Documents/PhD_work/Coding/fbm_ds_cite_seq/data/fbm_ds_citeseq_plus_scrna_forMS_20210119.h5ad')"
   ]
  },
  {
   "cell_type": "code",
   "execution_count": 15,
   "metadata": {
    "scrolled": true
   },
   "outputs": [
    {
     "data": {
      "text/plain": [
       "AnnData object with n_obs × n_vars = 16743 × 33694 \n",
       "    obs: '__is_in_cluster__', 'age', 'auto_prd', 'batch', 'cell.labels', 'cell.labels_20200713', 'is_doublet', 'lanes', 'leiden', 'lr_pred', 'mad_prd', 'nGene', 'nUMI', 'n_genes', 'orig.ident', 'percent.mito', 'sequencing.type', 'sex', 'souporcell_assignment', 'souporcell_doublet'\n",
       "    var: 'gene_ids-0', 'gene_ids-1', 'highly_variable-1', 'means-1', 'dispersions-1', 'dispersions_norm-1'\n",
       "    obsm: 'X_orig_pca', 'X_pca', 'X_umap'"
      ]
     },
     "execution_count": 15,
     "metadata": {},
     "output_type": "execute_result"
    }
   ],
   "source": [
    "adata"
   ]
  },
  {
   "cell_type": "code",
   "execution_count": 16,
   "metadata": {
    "scrolled": false
   },
   "outputs": [
    {
     "data": {
      "text/plain": [
       "cell.labels\n",
       "CAR                          4\n",
       "CD8 T cell                 181\n",
       "CD14 monocyte              320\n",
       "CD56 bright NK              79\n",
       "CMP                         50\n",
       "DC1                         45\n",
       "DC2                        228\n",
       "DC3                        108\n",
       "HSC                        105\n",
       "ILC precursor               13\n",
       "MEMP                       130\n",
       "MK                          83\n",
       "MOP                        422\n",
       "MSC                         53\n",
       "Treg                         8\n",
       "chondrocyte                  4\n",
       "early B cell                42\n",
       "early MK                    34\n",
       "early erythroid           1348\n",
       "endothelium                111\n",
       "eo/baso/mast precursor      53\n",
       "eosinophil                  63\n",
       "late erythroid            6336\n",
       "macrophage                 113\n",
       "mast cell                   39\n",
       "mast cell                   27\n",
       "mature B cell               31\n",
       "mature NK                  147\n",
       "mid erythroid             5230\n",
       "myelocyte                  243\n",
       "neutrophil                 273\n",
       "osteoblast                  11\n",
       "osteoclast                  57\n",
       "pDC                         14\n",
       "pre B cell                 115\n",
       "pre pDC                    110\n",
       "promonocyte                395\n",
       "promyelocyte               107\n",
       "transitional NK cell        11\n",
       "dtype: int64"
      ]
     },
     "execution_count": 16,
     "metadata": {},
     "output_type": "execute_result"
    }
   ],
   "source": [
    "cell_numbers = adata.obs.groupby([\"cell.labels\"]).apply(len)\n",
    "cell_numbers"
   ]
  },
  {
   "cell_type": "code",
   "execution_count": 17,
   "metadata": {},
   "outputs": [],
   "source": [
    "adata = adata[adata.obs['cell.labels'].isin(['HSC', 'MEMP', 'early MK', 'MK'])].copy()"
   ]
  },
  {
   "cell_type": "code",
   "execution_count": 18,
   "metadata": {},
   "outputs": [
    {
     "data": {
      "text/plain": [
       "cell.labels\n",
       "HSC         105\n",
       "MEMP        130\n",
       "MK           83\n",
       "early MK     34\n",
       "dtype: int64"
      ]
     },
     "execution_count": 18,
     "metadata": {},
     "output_type": "execute_result"
    }
   ],
   "source": [
    "cell_numbers = adata.obs.groupby([\"cell.labels\"]).apply(len)\n",
    "cell_numbers"
   ]
  },
  {
   "cell_type": "code",
   "execution_count": 19,
   "metadata": {},
   "outputs": [],
   "source": [
    "adata.obs['cell.labels'] = adata.obs['cell.labels'].replace([\"early MK\", \"MK\"], [\"MK\", \"MK\"])"
   ]
  },
  {
   "cell_type": "code",
   "execution_count": 20,
   "metadata": {},
   "outputs": [
    {
     "data": {
      "text/plain": [
       "cell.labels\n",
       "HSC     105\n",
       "MEMP    130\n",
       "MK      117\n",
       "dtype: int64"
      ]
     },
     "execution_count": 20,
     "metadata": {},
     "output_type": "execute_result"
    }
   ],
   "source": [
    "cell_numbers = adata.obs.groupby([\"cell.labels\"]).apply(len)\n",
    "cell_numbers"
   ]
  },
  {
   "cell_type": "code",
   "execution_count": 21,
   "metadata": {},
   "outputs": [],
   "source": [
    "adata.obs[\"dataset\"] = \"ds_fbm\"\n",
    "ds_fbm = adata"
   ]
  },
  {
   "cell_type": "markdown",
   "metadata": {},
   "source": [
    "# Combine the datasets"
   ]
  },
  {
   "cell_type": "code",
   "execution_count": 22,
   "metadata": {},
   "outputs": [
    {
     "name": "stderr",
     "output_type": "stream",
     "text": [
      "/Users/b8058304/.pyenv/versions/3.6.4/envs/py36/lib/python3.6/site-packages/anndata/_core/anndata.py:1880: UserWarning: Only some adata objects have `.raw` attribute, not concatenating `.raw` attributes.\n",
      "  UserWarning,\n"
     ]
    }
   ],
   "source": [
    "merged = fbm.concatenate(ds_fbm, index_unique=None, join='inner')"
   ]
  },
  {
   "cell_type": "code",
   "execution_count": 23,
   "metadata": {},
   "outputs": [
    {
     "data": {
      "text/plain": [
       "(3353, 33694)"
      ]
     },
     "execution_count": 23,
     "metadata": {},
     "output_type": "execute_result"
    }
   ],
   "source": [
    "merged.shape"
   ]
  },
  {
   "cell_type": "code",
   "execution_count": 24,
   "metadata": {},
   "outputs": [
    {
     "data": {
      "text/plain": [
       "cell.labels\n",
       "HSC          197\n",
       "MEMP         130\n",
       "MEP_MEMP     285\n",
       "MK          2741\n",
       "dtype: int64"
      ]
     },
     "execution_count": 24,
     "metadata": {},
     "output_type": "execute_result"
    }
   ],
   "source": [
    "cell_numbers = merged.obs.groupby([\"cell.labels\"]).apply(len)\n",
    "cell_numbers"
   ]
  },
  {
   "cell_type": "code",
   "execution_count": 25,
   "metadata": {},
   "outputs": [],
   "source": [
    "merged.obs[\"dataset_cell.labels\"] = merged.obs[\"dataset\"].astype(str) + '_' + merged.obs[\"cell.labels\"].astype(str)"
   ]
  },
  {
   "cell_type": "code",
   "execution_count": 26,
   "metadata": {},
   "outputs": [
    {
     "data": {
      "text/plain": [
       "dataset_cell.labels\n",
       "FBM_HSC           92\n",
       "FBM_MEP_MEMP     285\n",
       "FBM_MK          2624\n",
       "ds_fbm_HSC       105\n",
       "ds_fbm_MEMP      130\n",
       "ds_fbm_MK        117\n",
       "dtype: int64"
      ]
     },
     "execution_count": 26,
     "metadata": {},
     "output_type": "execute_result"
    }
   ],
   "source": [
    "cell_numbers = merged.obs.groupby([\"dataset_cell.labels\"]).apply(len)\n",
    "cell_numbers"
   ]
  },
  {
   "cell_type": "markdown",
   "metadata": {},
   "source": [
    "# Pre-process the data"
   ]
  },
  {
   "cell_type": "code",
   "execution_count": 27,
   "metadata": {},
   "outputs": [],
   "source": [
    "adata=merged"
   ]
  },
  {
   "cell_type": "code",
   "execution_count": 28,
   "metadata": {},
   "outputs": [],
   "source": [
    "# normalise count data \n",
    "sc.pp.normalize_total(adata)"
   ]
  },
  {
   "cell_type": "code",
   "execution_count": 29,
   "metadata": {},
   "outputs": [],
   "source": [
    "# log the count data \n",
    "sc.pp.log1p(adata)"
   ]
  },
  {
   "cell_type": "code",
   "execution_count": 30,
   "metadata": {},
   "outputs": [],
   "source": [
    "# find variable genes\n",
    "sc.pp.highly_variable_genes(adata, min_mean=0.0125, max_mean=3, min_disp=0.5) "
   ]
  },
  {
   "cell_type": "code",
   "execution_count": 31,
   "metadata": {},
   "outputs": [],
   "source": [
    "# scale the data \n",
    "sc.pp.scale(adata, max_value=10)\n",
    "# scale the negative values in adata.X (which have been normalised, logged and scaled) to zero \n",
    "adata.X = np.where(adata.X < 0, 0, adata.X)"
   ]
  },
  {
   "cell_type": "markdown",
   "metadata": {},
   "source": [
    "# Run the dotplot"
   ]
  },
  {
   "cell_type": "code",
   "execution_count": 32,
   "metadata": {},
   "outputs": [],
   "source": [
    "genes=['SPI1', 'FLI1', 'GABPA']"
   ]
  },
  {
   "cell_type": "code",
   "execution_count": 33,
   "metadata": {},
   "outputs": [
    {
     "name": "stderr",
     "output_type": "stream",
     "text": [
      "... storing '__is_in_cluster__' as categorical\n",
      "... storing 'age' as categorical\n",
      "... storing 'april_cell.labels' as categorical\n",
      "... storing 'auto_prd' as categorical\n",
      "... storing 'cell.labels' as categorical\n",
      "... storing 'cell.labels_20200708' as categorical\n",
      "... storing 'cell.labels_20200713' as categorical\n",
      "... storing 'cell.labels_20200718' as categorical\n",
      "... storing 'dataset' as categorical\n",
      "... storing 'doublets' as categorical\n",
      "... storing 'fetal.ids' as categorical\n",
      "... storing 'gender' as categorical\n",
      "... storing 'is_doublet' as categorical\n",
      "... storing 'is_doublet_poptrim' as categorical\n",
      "... storing 'is_doublet_wolock' as categorical\n",
      "... storing 'lanes' as categorical\n",
      "... storing 'leiden' as categorical\n",
      "... storing 'lr_pred' as categorical\n",
      "... storing 'mad_prd' as categorical\n",
      "... storing 'mito.threshold' as categorical\n",
      "... storing 'nk_meta' as categorical\n",
      "... storing 'orig.ident' as categorical\n",
      "... storing 'processing.type' as categorical\n",
      "... storing 'sequencing.type' as categorical\n",
      "... storing 'sex' as categorical\n",
      "... storing 'sort.ids' as categorical\n",
      "... storing 'souporcell_assignment' as categorical\n",
      "... storing 'souporcell_doublet' as categorical\n",
      "... storing 'feature_types-1-0' as categorical\n"
     ]
    },
    {
     "name": "stdout",
     "output_type": "stream",
     "text": [
      "WARNING: saving figure to file figures/dotplotfigs8h_hsc_memp_mk_dotplot_20210430.pdf\n"
     ]
    },
    {
     "data": {
      "image/png": "[encoded data removed]",
      "text/plain": [
       "<Figure size 200x280 with 3 Axes>"
      ]
     },
     "metadata": {
      "image/png": {
       "height": 294,
       "width": 393
      },
      "needs_background": "light"
     },
     "output_type": "display_data"
    },
    {
     "data": {
      "text/plain": [
       "GridSpec(2, 5, height_ratios=[0, 10.5], width_ratios=[1.0499999999999998, 0, 0.2, 0.5, 0.25])"
      ]
     },
     "execution_count": 33,
     "metadata": {},
     "output_type": "execute_result"
    }
   ],
   "source": [
    "sc.settings.set_figure_params(dpi=100, dpi_save=1000)\n",
    "\n",
    "adata.obs[\"dataset_cell.labels\"] = adata.obs[\"dataset_cell.labels\"].astype('category')\n",
    "\n",
    "adata.obs[\"dataset_cell.labels\"] = adata.obs[\"dataset_cell.labels\"].cat.reorder_categories(\n",
    "    ['FBM_HSC', \"ds_fbm_HSC\", \"FBM_MEP_MEMP\", \"ds_fbm_MEMP\", \"FBM_MK\", \"ds_fbm_MK\"])\n",
    "\n",
    "sc.pl.dotplot(adata, var_names=genes, groupby=\"dataset_cell.labels\", use_raw=False, \n",
    "              save=\"figs8h_hsc_memp_mk_dotplot_20210430.pdf\")"
   ]
  },
  {
   "cell_type": "code",
   "execution_count": null,
   "metadata": {},
   "outputs": [],
   "source": []
  },
  {
   "cell_type": "code",
   "execution_count": null,
   "metadata": {},
   "outputs": [],
   "source": []
  },
  {
   "cell_type": "code",
   "execution_count": null,
   "metadata": {},
   "outputs": [],
   "source": []
  },
  {
   "cell_type": "markdown",
   "metadata": {},
   "source": [
    "# Save data"
   ]
  },
  {
   "cell_type": "code",
   "execution_count": 34,
   "metadata": {},
   "outputs": [],
   "source": [
    "from scipy.sparse import csr_matrix\n",
    "adata.X = sparse.csr_matrix(adata.X)"
   ]
  },
  {
   "cell_type": "code",
   "execution_count": 35,
   "metadata": {},
   "outputs": [
    {
     "data": {
      "text/plain": [
       "<3353x33694 sparse matrix of type '<class 'numpy.float32'>'\n",
       "\twith 11878714 stored elements in Compressed Sparse Row format>"
      ]
     },
     "execution_count": 35,
     "metadata": {},
     "output_type": "execute_result"
    }
   ],
   "source": [
    "adata.X"
   ]
  },
  {
   "cell_type": "code",
   "execution_count": 36,
   "metadata": {},
   "outputs": [
    {
     "ename": "AttributeError",
     "evalue": "'NoneType' object has no attribute 'X'",
     "output_type": "error",
     "traceback": [
      "\u001b[0;31m---------------------------------------------------------------------------\u001b[0m",
      "\u001b[0;31mAttributeError\u001b[0m                            Traceback (most recent call last)",
      "\u001b[0;32m<ipython-input-36-ffa8b486650f>\u001b[0m in \u001b[0;36m<module>\u001b[0;34m\u001b[0m\n\u001b[0;32m----> 1\u001b[0;31m \u001b[0madata\u001b[0m\u001b[0;34m.\u001b[0m\u001b[0mraw\u001b[0m\u001b[0;34m.\u001b[0m\u001b[0mX\u001b[0m\u001b[0;34m\u001b[0m\u001b[0m\n\u001b[0m",
      "\u001b[0;31mAttributeError\u001b[0m: 'NoneType' object has no attribute 'X'"
     ]
    }
   ],
   "source": [
    "adata.raw.X"
   ]
  },
  {
   "cell_type": "code",
   "execution_count": 37,
   "metadata": {},
   "outputs": [],
   "source": [
    "adata.write(\"/Users/b8058304/Documents/PhD_work/Coding/manuscript_figs_mk3/data/figs8h_ds_non-ds_hsc_memp_mk_dotplot_20210430.h5ad\")"
   ]
  },
  {
   "cell_type": "code",
   "execution_count": null,
   "metadata": {},
   "outputs": [],
   "source": []
  },
  {
   "cell_type": "code",
   "execution_count": null,
   "metadata": {},
   "outputs": [],
   "source": []
  },
  {
   "cell_type": "code",
   "execution_count": null,
   "metadata": {},
   "outputs": [],
   "source": []
  },
  {
   "cell_type": "code",
   "execution_count": null,
   "metadata": {},
   "outputs": [],
   "source": []
  },
  {
   "cell_type": "code",
   "execution_count": null,
   "metadata": {},
   "outputs": [],
   "source": []
  },
  {
   "cell_type": "code",
   "execution_count": null,
   "metadata": {},
   "outputs": [],
   "source": []
  },
  {
   "cell_type": "code",
   "execution_count": null,
   "metadata": {},
   "outputs": [],
   "source": []
  },
  {
   "cell_type": "code",
   "execution_count": null,
   "metadata": {},
   "outputs": [],
   "source": []
  },
  {
   "cell_type": "code",
   "execution_count": null,
   "metadata": {},
   "outputs": [],
   "source": []
  }
 ],
 "metadata": {
  "kernelspec": {
   "display_name": "Python 3",
   "language": "python",
   "name": "python3"
  },
  "language_info": {
   "codemirror_mode": {
    "name": "ipython",
    "version": 3
   },
   "file_extension": ".py",
   "mimetype": "text/x-python",
   "name": "python",
   "nbconvert_exporter": "python",
   "pygments_lexer": "ipython3",
   "version": "3.6.4"
  }
 },
 "nbformat": 4,
 "nbformat_minor": 4
}
