{
 "cells": [
  {
   "cell_type": "markdown",
   "metadata": {},
   "source": [
    "# Import packages and data "
   ]
  },
  {
   "cell_type": "code",
   "execution_count": 1,
   "metadata": {},
   "outputs": [
    {
     "name": "stderr",
     "output_type": "stream",
     "text": [
      "/Users/b8058304/.pyenv/versions/3.6.4/envs/py36/lib/python3.6/site-packages/anndata/_core/anndata.py:21: FutureWarning: pandas.core.index is deprecated and will be removed in a future version.  The public classes are available in the top-level namespace.\n",
      "  from pandas.core.index import RangeIndex\n"
     ]
    }
   ],
   "source": [
    "import numpy as np\n",
    "import pandas as pd\n",
    "import scanpy as sc\n",
    "import seaborn as sns\n",
    "import scipy.stats\n",
    "import anndata\n",
    "import matplotlib.pyplot as plt\n",
    "import matplotlib as mpl\n",
    "from matplotlib.axes._axes import _log as matplotlib_axes_logger\n",
    "from scipy import sparse\n",
    "matplotlib_axes_logger.setLevel('ERROR')\n",
    "# silence NumbaPerformanceWarning\n",
    "import warnings\n",
    "from numba.errors import NumbaPerformanceWarning\n",
    "warnings.filterwarnings(\"ignore\", category=NumbaPerformanceWarning)"
   ]
  },
  {
   "cell_type": "code",
   "execution_count": 2,
   "metadata": {},
   "outputs": [
    {
     "name": "stdout",
     "output_type": "stream",
     "text": [
      "scanpy==1.4.4 anndata==0.7.1 umap==0.3.10 numpy==1.17.1 scipy==1.4.1 pandas==1.0.5 scikit-learn==0.22.2.post1 statsmodels==0.11.1 python-igraph==0.8.0 louvain==0.6.1\n"
     ]
    }
   ],
   "source": [
    "sc.settings.verbosity = 1  # verbosity: errors (0), warnings (1), info (2), hints (3)\n",
    "# Set up the plot config for viewing the annotation clearly.\n",
    "sc.settings.set_figure_params(dpi=120, dpi_save=1000)\n",
    "sc.logging.print_versions()"
   ]
  },
  {
   "cell_type": "markdown",
   "metadata": {},
   "source": [
    "# Import the fetal liver lymphoid compartment"
   ]
  },
  {
   "cell_type": "code",
   "execution_count": 3,
   "metadata": {},
   "outputs": [],
   "source": [
    "adata = sc.read('/Users/b8058304/Documents/PhD_work/Coding/liver/data/fetal_liver_alladata_Copy1.h5ad')"
   ]
  },
  {
   "cell_type": "code",
   "execution_count": 4,
   "metadata": {
    "scrolled": true
   },
   "outputs": [
    {
     "data": {
      "text/plain": [
       "AnnData object with n_obs × n_vars = 113063 × 27080 \n",
       "    obs: 'nGene', 'nUMI', 'orig.ident', 'percent.mito', 'fetal.ids', 'sort.ids', 'tissue', 'lanes', 'stages', 'sample.type', 'gender', 'AnnatomicalPart', 'doublets', 'cell.labels', 'combined.labels', 'batch', 'sample', 'n_counts', 'cell.labels_progen'\n",
       "    obsm: 'X_fdg', 'X_tsne', 'X_umap'"
      ]
     },
     "execution_count": 4,
     "metadata": {},
     "output_type": "execute_result"
    }
   ],
   "source": [
    "adata"
   ]
  },
  {
   "cell_type": "code",
   "execution_count": 5,
   "metadata": {
    "scrolled": false
   },
   "outputs": [
    {
     "data": {
      "text/plain": [
       "cell.labels\n",
       "B cell                            1079\n",
       "DC1                                336\n",
       "DC2                               3954\n",
       "DC precursor                       330\n",
       "Early Erythroid                  11985\n",
       "Early lymphoid_T lymphocyte        767\n",
       "Endothelial cell                  3348\n",
       "Fibroblast                        1713\n",
       "HSC_MPP                           3439\n",
       "Hepatocyte                        2479\n",
       "ILC precursor                     1726\n",
       "Kupffer Cell                     24841\n",
       "Late Erythroid                    3180\n",
       "MEMP                              1342\n",
       "Mast cell                         1308\n",
       "Megakaryocyte                     3983\n",
       "Mid Erythroid                    27000\n",
       "Mono-Mac                          6590\n",
       "Monocyte                          2586\n",
       "Monocyte precursor                 350\n",
       "NK                                6706\n",
       "Neutrophil-myeloid progenitor      658\n",
       "Pre pro B cell                     234\n",
       "VCAM1+ EI macrophage               161\n",
       "pDC precursor                      253\n",
       "pre-B cell                        1332\n",
       "pro-B cell                        1383\n",
       "dtype: int64"
      ]
     },
     "execution_count": 5,
     "metadata": {},
     "output_type": "execute_result"
    }
   ],
   "source": [
    "cell_numbers = adata.obs.groupby([\"cell.labels\"]).apply(len)\n",
    "cell_numbers"
   ]
  },
  {
   "cell_type": "code",
   "execution_count": 6,
   "metadata": {},
   "outputs": [],
   "source": [
    "from scipy import sparse\n",
    "array_vals = adata.X\n",
    "adata.X = sparse.csr_matrix(adata.X)\n",
    "adata.raw = adata\n",
    "adata.X = array_vals"
   ]
  },
  {
   "cell_type": "code",
   "execution_count": 7,
   "metadata": {},
   "outputs": [],
   "source": [
    "adata = adata[adata.obs['cell.labels'].isin(['pre-B cell', 'pro-B cell', 'B cell', 'Pre pro B cell'])].copy()"
   ]
  },
  {
   "cell_type": "code",
   "execution_count": 8,
   "metadata": {},
   "outputs": [],
   "source": [
    "adata.obs[\"dataset\"] = \"liver\""
   ]
  },
  {
   "cell_type": "code",
   "execution_count": 9,
   "metadata": {},
   "outputs": [
    {
     "data": {
      "text/plain": [
       "fetal.ids           cell.labels   \n",
       "F16_male_8+1PCW     B cell              3\n",
       "                    Pre pro B cell      2\n",
       "                    pre-B cell          6\n",
       "                    pro-B cell          3\n",
       "F17_male_9+1PCW     B cell              3\n",
       "                    pre-B cell          5\n",
       "                    pro-B cell          6\n",
       "F21_male_16+2PCW    B cell            117\n",
       "                    Pre pro B cell     22\n",
       "                    pre-B cell        118\n",
       "                    pro-B cell        109\n",
       "F22_female_9+5PCW   B cell             33\n",
       "                    Pre pro B cell     14\n",
       "                    pre-B cell         52\n",
       "                    pro-B cell         83\n",
       "F23_male_11+3PCW    B cell             38\n",
       "                    Pre pro B cell     24\n",
       "                    pre-B cell         84\n",
       "                    pro-B cell         91\n",
       "F29_female_17+0PCW  B cell            152\n",
       "                    Pre pro B cell     12\n",
       "                    pre-B cell         87\n",
       "                    pro-B cell         91\n",
       "F30_male_14+3PCW    B cell            157\n",
       "                    Pre pro B cell     11\n",
       "                    pre-B cell        113\n",
       "                    pro-B cell        154\n",
       "F32_female_7+6PCW   B cell             22\n",
       "                    Pre pro B cell     15\n",
       "                    pre-B cell        104\n",
       "                    pro-B cell         79\n",
       "F33_female_9+5PCW   B cell             87\n",
       "                    Pre pro B cell     12\n",
       "                    pre-B cell         84\n",
       "                    pro-B cell        106\n",
       "F34_female_8+1PCW   B cell             23\n",
       "                    Pre pro B cell     15\n",
       "                    pre-B cell         75\n",
       "                    pro-B cell         61\n",
       "F35_female_7+6PCW   B cell             29\n",
       "                    Pre pro B cell     31\n",
       "                    pre-B cell        106\n",
       "                    pro-B cell        104\n",
       "F38_male_12PCW      B cell             81\n",
       "                    Pre pro B cell      8\n",
       "                    pre-B cell         37\n",
       "                    pro-B cell         50\n",
       "F41_female_16PCW    B cell            175\n",
       "                    Pre pro B cell     10\n",
       "                    pre-B cell        124\n",
       "                    pro-B cell        123\n",
       "F45_female_13+6PCW  B cell            159\n",
       "                    Pre pro B cell     58\n",
       "                    pre-B cell        337\n",
       "                    pro-B cell        323\n",
       "dtype: int64"
      ]
     },
     "execution_count": 9,
     "metadata": {},
     "output_type": "execute_result"
    }
   ],
   "source": [
    "cell_numbers = adata.obs.groupby([\"fetal.ids\", \"cell.labels\"]).apply(len)\n",
    "pd.DataFrame(cell_numbers).to_csv(\"/Users/b8058304/Documents/PhD_work/Coding/manuscript_figs_mk2/resources_for_pipelines/liver_lymphoid_nrs_by_sample_20210115.csv\")\n",
    "cell_numbers"
   ]
  },
  {
   "cell_type": "code",
   "execution_count": 10,
   "metadata": {},
   "outputs": [],
   "source": [
    "liver = adata"
   ]
  },
  {
   "cell_type": "markdown",
   "metadata": {},
   "source": [
    "# Import the FBM lymphoid compartment"
   ]
  },
  {
   "cell_type": "code",
   "execution_count": 11,
   "metadata": {},
   "outputs": [],
   "source": [
    "adata = sc.read('/Users/b8058304/Documents/PhD_work/Coding/bm_plus_19pcw/data/bm_plus_19pcw_raw_dr_20201007.h5ad')"
   ]
  },
  {
   "cell_type": "code",
   "execution_count": 12,
   "metadata": {
    "scrolled": true
   },
   "outputs": [
    {
     "data": {
      "text/plain": [
       "AnnData object with n_obs × n_vars = 103228 × 33712 \n",
       "    obs: 'cell.labels', 'doublets', 'fetal.ids', 'gender', 'is_doublet', 'is_doublet_poptrim', 'is_doublet_wolock', 'lanes', 'nGene', 'nUMI', 'orig.ident', 'percent.mito', 'processing.type', 'scrublet_cluster_score', 'scrublet_score', 'sequencing.type', 'sort.ids', 'april_cell.labels', 'cell.labels_20200708', 'cell.labels_20200713', 'cell.labels_20200718', 'nk_meta', 'mito.threshold'\n",
       "    var: 'gene_ids-1', 'feature_types-1'\n",
       "    obsm: 'X_orig_pca', 'X_pca', 'X_umap'"
      ]
     },
     "execution_count": 12,
     "metadata": {},
     "output_type": "execute_result"
    }
   ],
   "source": [
    "adata"
   ]
  },
  {
   "cell_type": "code",
   "execution_count": 13,
   "metadata": {
    "scrolled": false
   },
   "outputs": [
    {
     "data": {
      "text/plain": [
       "cell.labels\n",
       "CD4 T cell             327\n",
       "CD8 T cell             171\n",
       "CD14 monocyte         8763\n",
       "CD56 bright NK         449\n",
       "CMP                    425\n",
       "                      ... \n",
       "schwann cells            9\n",
       "sinusoidal EC          550\n",
       "stromal macrophage    1464\n",
       "tDC                    193\n",
       "tip EC                 362\n",
       "Length: 64, dtype: int64"
      ]
     },
     "execution_count": 13,
     "metadata": {},
     "output_type": "execute_result"
    }
   ],
   "source": [
    "cell_numbers = adata.obs.groupby([\"cell.labels\"]).apply(len)\n",
    "cell_numbers"
   ]
  },
  {
   "cell_type": "code",
   "execution_count": 14,
   "metadata": {},
   "outputs": [],
   "source": [
    "from scipy import sparse\n",
    "array_vals = adata.X\n",
    "adata.X = sparse.csr_matrix(adata.X)\n",
    "adata.raw = adata\n",
    "adata.X = array_vals"
   ]
  },
  {
   "cell_type": "code",
   "execution_count": 15,
   "metadata": {},
   "outputs": [],
   "source": [
    "adata = adata[adata.obs['cell.labels'].isin([\"pre pro B progenitor\", \"pro B progenitor\", \"pre B progenitor\", \n",
    "                                            \"immature B cell\", \"naive B cell\"])].copy()"
   ]
  },
  {
   "cell_type": "code",
   "execution_count": 16,
   "metadata": {},
   "outputs": [
    {
     "data": {
      "text/plain": [
       "cell.labels\n",
       "immature B cell          1988\n",
       "naive B cell             1411\n",
       "pre B progenitor        14229\n",
       "pre pro B progenitor     5427\n",
       "pro B progenitor         5528\n",
       "dtype: int64"
      ]
     },
     "execution_count": 16,
     "metadata": {},
     "output_type": "execute_result"
    }
   ],
   "source": [
    "cell_numbers = adata.obs.groupby([\"cell.labels\"]).apply(len)\n",
    "cell_numbers"
   ]
  },
  {
   "cell_type": "code",
   "execution_count": 17,
   "metadata": {},
   "outputs": [],
   "source": [
    "adata.obs[\"dataset\"] = \"FBM\""
   ]
  },
  {
   "cell_type": "code",
   "execution_count": 18,
   "metadata": {},
   "outputs": [
    {
     "data": {
      "text/plain": [
       "fetal.ids           cell.labels         \n",
       "F21_male_16+2PCW    immature B cell            5\n",
       "                    naive B cell              34\n",
       "                    pre B progenitor         597\n",
       "                    pre pro B progenitor     383\n",
       "                    pro B progenitor          66\n",
       "F29_female_17+0PCW  immature B cell           26\n",
       "                    naive B cell             194\n",
       "                    pre B progenitor        2481\n",
       "                    pre pro B progenitor     717\n",
       "                    pro B progenitor         114\n",
       "F30_male_14+3PCW    immature B cell           14\n",
       "                    naive B cell              55\n",
       "                    pre B progenitor        1251\n",
       "                    pre pro B progenitor     944\n",
       "                    pro B progenitor         110\n",
       "F38_male_12PCW      immature B cell           22\n",
       "                    naive B cell               9\n",
       "                    pre B progenitor         328\n",
       "                    pre pro B progenitor     147\n",
       "                    pro B progenitor          81\n",
       "F41_female_16PCW    immature B cell           10\n",
       "                    naive B cell              42\n",
       "                    pre B progenitor         552\n",
       "                    pre pro B progenitor     585\n",
       "                    pro B progenitor          97\n",
       "F45_female_13+6PCW  immature B cell            2\n",
       "                    naive B cell              28\n",
       "                    pre B progenitor         500\n",
       "                    pre pro B progenitor     487\n",
       "                    pro B progenitor          92\n",
       "F50_female_15PCW    immature B cell          139\n",
       "                    naive B cell             146\n",
       "                    pre B progenitor        1104\n",
       "                    pre pro B progenitor     378\n",
       "                    pro B progenitor         697\n",
       "F51_female_15PCW    immature B cell          195\n",
       "                    naive B cell             393\n",
       "                    pre B progenitor        1721\n",
       "                    pre pro B progenitor    1268\n",
       "                    pro B progenitor        2257\n",
       "SB19PCW             immature B cell         1575\n",
       "                    naive B cell             510\n",
       "                    pre B progenitor        5695\n",
       "                    pre pro B progenitor     518\n",
       "                    pro B progenitor        2014\n",
       "dtype: int64"
      ]
     },
     "execution_count": 18,
     "metadata": {},
     "output_type": "execute_result"
    }
   ],
   "source": [
    "cell_numbers = adata.obs.groupby([\"fetal.ids\", \"cell.labels\"]).apply(len)\n",
    "pd.DataFrame(cell_numbers).to_csv(\"/Users/b8058304/Documents/PhD_work/Coding/manuscript_figs_mk2/resources_for_pipelines/fbm_lymphoid_nrs_by_sample_20210115.csv\")\n",
    "cell_numbers"
   ]
  },
  {
   "cell_type": "code",
   "execution_count": 19,
   "metadata": {},
   "outputs": [],
   "source": [
    "fbm = adata"
   ]
  },
  {
   "cell_type": "markdown",
   "metadata": {},
   "source": [
    "# Import the ABM lymphoid compartment"
   ]
  },
  {
   "cell_type": "code",
   "execution_count": 20,
   "metadata": {},
   "outputs": [],
   "source": [
    "adata = sc.read('/Users/b8058304/Documents/PhD_work/Coding/adult_bm/data/abm_raw_dr_20200717.h5ad')"
   ]
  },
  {
   "cell_type": "code",
   "execution_count": 21,
   "metadata": {
    "scrolled": true
   },
   "outputs": [
    {
     "data": {
      "text/plain": [
       "AnnData object with n_obs × n_vars = 142026 × 33694 \n",
       "    obs: 'sample', 'lanes', 'sex', 'age', 'ethnicity', 'mad_prd', 'auto_prd', 'cell.labels', 'cell.labels2', 'leiden', 'percent.mito', 'nGene', 'nUMI', 'cell.labels_july', 'cell.labels_20200717'\n",
       "    var: 'gene_ids'\n",
       "    obsm: 'X_orig_pca', 'X_pca', 'X_umap'"
      ]
     },
     "execution_count": 21,
     "metadata": {},
     "output_type": "execute_result"
    }
   ],
   "source": [
    "adata"
   ]
  },
  {
   "cell_type": "code",
   "execution_count": 22,
   "metadata": {
    "scrolled": false
   },
   "outputs": [
    {
     "data": {
      "text/plain": [
       "cell.labels\n",
       "CD14 monocyte             3670\n",
       "CD16 monocyte             1938\n",
       "CD56 bright NK            1228\n",
       "CLP                        882\n",
       "CMP                        288\n",
       "DC1                        135\n",
       "DC2                        481\n",
       "DC3                        550\n",
       "DC precursor               462\n",
       "HSC                        497\n",
       "LMPP                        80\n",
       "MEMP                       785\n",
       "MK                         577\n",
       "MOP                       1440\n",
       "MPP                        365\n",
       "Treg                      6327\n",
       "early MK                   136\n",
       "early erythroid           5441\n",
       "erythroid macrophage        77\n",
       "immature B cell           2728\n",
       "late erythroid            1150\n",
       "mature CD8 T cell        15725\n",
       "mature NK                 6074\n",
       "memory B cell             4106\n",
       "memory CD4 T cell        22197\n",
       "mid erythroid             2192\n",
       "monocyte-DC                515\n",
       "myelocyte                 6675\n",
       "myeloid DC progenitor      110\n",
       "naive B cell             19265\n",
       "naive CD4 T cell          5873\n",
       "naive CD8 T cell          8965\n",
       "neutrophil                2482\n",
       "pDC                       1134\n",
       "pDC progenitor              63\n",
       "plasma cell               2074\n",
       "pre B cell                 971\n",
       "pro B progenitor          1390\n",
       "promonocyte               7448\n",
       "promyelocyte              2197\n",
       "stroma                     161\n",
       "tDC                         75\n",
       "transitional B cell       2151\n",
       "transitional NK            946\n",
       "dtype: int64"
      ]
     },
     "execution_count": 22,
     "metadata": {},
     "output_type": "execute_result"
    }
   ],
   "source": [
    "cell_numbers = adata.obs.groupby([\"cell.labels\"]).apply(len)\n",
    "cell_numbers"
   ]
  },
  {
   "cell_type": "code",
   "execution_count": 23,
   "metadata": {},
   "outputs": [],
   "source": [
    "from scipy import sparse\n",
    "array_vals = adata.X\n",
    "adata.X = sparse.csr_matrix(adata.X)\n",
    "adata.raw = adata\n",
    "adata.X = array_vals"
   ]
  },
  {
   "cell_type": "code",
   "execution_count": 24,
   "metadata": {},
   "outputs": [],
   "source": [
    "adata = adata[adata.obs['cell.labels'].isin([\"pro B progenitor\", \"pre B cell\", \"immature B cell\", \n",
    "                                            \"naive B cell\", \"transitional B cell\", \"memory B cell\", \n",
    "                                            \"plasma cell\"])].copy()"
   ]
  },
  {
   "cell_type": "code",
   "execution_count": 25,
   "metadata": {},
   "outputs": [
    {
     "data": {
      "text/plain": [
       "cell.labels\n",
       "immature B cell         2728\n",
       "memory B cell           4106\n",
       "naive B cell           19265\n",
       "plasma cell             2074\n",
       "pre B cell               971\n",
       "pro B progenitor        1390\n",
       "transitional B cell     2151\n",
       "dtype: int64"
      ]
     },
     "execution_count": 25,
     "metadata": {},
     "output_type": "execute_result"
    }
   ],
   "source": [
    "cell_numbers = adata.obs.groupby([\"cell.labels\"]).apply(len)\n",
    "cell_numbers"
   ]
  },
  {
   "cell_type": "code",
   "execution_count": 26,
   "metadata": {},
   "outputs": [],
   "source": [
    "adata.obs[\"dataset\"] = \"ABM\""
   ]
  },
  {
   "cell_type": "code",
   "execution_count": 27,
   "metadata": {},
   "outputs": [
    {
     "data": {
      "text/plain": [
       "sample     cell.labels        \n",
       "MantonBM1  immature B cell        1314\n",
       "           memory B cell           783\n",
       "           naive B cell           4175\n",
       "           plasma cell             447\n",
       "           pre B cell              512\n",
       "           pro B progenitor        468\n",
       "           transitional B cell     738\n",
       "MantonBM2  immature B cell         853\n",
       "           memory B cell          1295\n",
       "           naive B cell           8273\n",
       "           plasma cell             522\n",
       "           pre B cell              213\n",
       "           pro B progenitor        347\n",
       "           transitional B cell     843\n",
       "MantonBM5  immature B cell         213\n",
       "           memory B cell          1186\n",
       "           naive B cell           4214\n",
       "           plasma cell             665\n",
       "           pre B cell              132\n",
       "           pro B progenitor        262\n",
       "           transitional B cell     366\n",
       "MantonBM6  immature B cell         348\n",
       "           memory B cell           842\n",
       "           naive B cell           2603\n",
       "           plasma cell             440\n",
       "           pre B cell              114\n",
       "           pro B progenitor        313\n",
       "           transitional B cell     204\n",
       "dtype: int64"
      ]
     },
     "execution_count": 27,
     "metadata": {},
     "output_type": "execute_result"
    }
   ],
   "source": [
    "cell_numbers = adata.obs.groupby([\"sample\", \"cell.labels\"]).apply(len)\n",
    "pd.DataFrame(cell_numbers).to_csv(\"/Users/b8058304/Documents/PhD_work/Coding/manuscript_figs_mk2/resources_for_pipelines/abm_lymphoid_nrs_by_sample_20210115.csv\")\n",
    "cell_numbers"
   ]
  },
  {
   "cell_type": "code",
   "execution_count": 28,
   "metadata": {},
   "outputs": [],
   "source": [
    "abm = adata"
   ]
  }
 ],
 "metadata": {
  "kernelspec": {
   "display_name": "Python 3",
   "language": "python",
   "name": "python3"
  },
  "language_info": {
   "codemirror_mode": {
    "name": "ipython",
    "version": 3
   },
   "file_extension": ".py",
   "mimetype": "text/x-python",
   "name": "python",
   "nbconvert_exporter": "python",
   "pygments_lexer": "ipython3",
   "version": "3.6.4"
  }
 },
 "nbformat": 4,
 "nbformat_minor": 4
}
