{
 "cells": [
  {
   "cell_type": "markdown",
   "metadata": {},
   "source": [
    "# Import packages and data "
   ]
  },
  {
   "cell_type": "code",
   "execution_count": 1,
   "metadata": {
    "scrolled": true
   },
   "outputs": [
    {
     "name": "stderr",
     "output_type": "stream",
     "text": [
      "/Users/b8058304/.pyenv/versions/3.6.4/envs/py36/lib/python3.6/site-packages/anndata/_core/anndata.py:21: FutureWarning: pandas.core.index is deprecated and will be removed in a future version.  The public classes are available in the top-level namespace.\n",
      "  from pandas.core.index import RangeIndex\n"
     ]
    }
   ],
   "source": [
    "import numpy as np\n",
    "import pandas as pd\n",
    "import scanpy as sc\n",
    "import seaborn as sns\n",
    "import scipy.stats\n",
    "import anndata\n",
    "import matplotlib.pyplot as plt\n",
    "import matplotlib as mpl\n",
    "import rpy2"
   ]
  },
  {
   "cell_type": "code",
   "execution_count": 2,
   "metadata": {},
   "outputs": [
    {
     "name": "stdout",
     "output_type": "stream",
     "text": [
      "scanpy==1.4.4 anndata==0.7.1 umap==0.3.10 numpy==1.17.1 scipy==1.4.1 pandas==1.0.5 scikit-learn==0.22.2.post1 statsmodels==0.11.1 python-igraph==0.8.0 louvain==0.6.1\n"
     ]
    }
   ],
   "source": [
    "sc.settings.verbosity = 1  # verbosity: errors (0), warnings (1), info (2), hints (3)\n",
    "# Set up the plot config for viewing the annotation clearly.\n",
    "sc.settings.set_figure_params(dpi=120, dpi_save=1000)\n",
    "sc.logging.print_versions()"
   ]
  },
  {
   "cell_type": "code",
   "execution_count": 3,
   "metadata": {},
   "outputs": [],
   "source": [
    "pd.set_option('display.max_rows', 500)\n",
    "pd.set_option('display.max_columns', 500)\n",
    "pd.set_option('display.width', 1000)"
   ]
  },
  {
   "cell_type": "markdown",
   "metadata": {},
   "source": [
    "# Save UMAP for Monocle3 from the processed dataset"
   ]
  },
  {
   "cell_type": "code",
   "execution_count": 4,
   "metadata": {},
   "outputs": [],
   "source": [
    "adata = sc.read(\"/Users/b8058304/Documents/PhD_work/Coding/manuscript_figs/data/figs3e_abm_bcell_dr_20200717.h5ad\")"
   ]
  },
  {
   "cell_type": "code",
   "execution_count": 5,
   "metadata": {},
   "outputs": [],
   "source": [
    "# save the info on varibale genes used in scanpy so these can be transferred to monocle\n",
    "gene_df = adata.var"
   ]
  },
  {
   "cell_type": "code",
   "execution_count": 6,
   "metadata": {},
   "outputs": [],
   "source": [
    "pd.DataFrame(adata.obsm[\"X_umap\"]).to_csv(\"/Users/b8058304/Documents/PhD_work/Coding/manuscript_figs/resources_for_pipelines/abm_bcell_umap_20200717.csv\")"
   ]
  },
  {
   "cell_type": "markdown",
   "metadata": {},
   "source": [
    "# Load the fetal BM B cells from the raw dataset"
   ]
  },
  {
   "cell_type": "code",
   "execution_count": 7,
   "metadata": {},
   "outputs": [],
   "source": [
    "adata = sc.read(\"/Users/b8058304/Documents/PhD_work/Coding/manuscript_figs/data/figs3e_abm_bcell_raw_20200717.h5ad\")"
   ]
  },
  {
   "cell_type": "code",
   "execution_count": 8,
   "metadata": {},
   "outputs": [],
   "source": [
    "adata.var = gene_df"
   ]
  },
  {
   "cell_type": "code",
   "execution_count": 9,
   "metadata": {},
   "outputs": [
    {
     "data": {
      "text/plain": [
       "cell.labels\n",
       "HSC                   497\n",
       "LMPP                   80\n",
       "pro B progenitor     1390\n",
       "pre B cell            971\n",
       "immature B cell      2728\n",
       "naive B cell        19265\n",
       "dtype: int64"
      ]
     },
     "execution_count": 9,
     "metadata": {},
     "output_type": "execute_result"
    }
   ],
   "source": [
    "cell_numbers = adata.obs.groupby([\"cell.labels\"]).apply(len)\n",
    "cell_numbers"
   ]
  },
  {
   "cell_type": "code",
   "execution_count": 10,
   "metadata": {},
   "outputs": [
    {
     "data": {
      "text/plain": [
       "(24931, 33694)"
      ]
     },
     "execution_count": 10,
     "metadata": {},
     "output_type": "execute_result"
    }
   ],
   "source": [
    "adata.shape"
   ]
  },
  {
   "cell_type": "markdown",
   "metadata": {},
   "source": [
    "# Convert to CDS"
   ]
  },
  {
   "cell_type": "markdown",
   "metadata": {},
   "source": [
    "# Load rpy2 link"
   ]
  },
  {
   "cell_type": "code",
   "execution_count": 11,
   "metadata": {},
   "outputs": [],
   "source": [
    "# convert anndata to sce\n",
    "import anndata2ri\n",
    "anndata2ri.activate()\n",
    "%load_ext rpy2.ipython"
   ]
  },
  {
   "cell_type": "code",
   "execution_count": 12,
   "metadata": {},
   "outputs": [
    {
     "data": {
      "text/html": [
       "<div>\n",
       "<style scoped>\n",
       "    .dataframe tbody tr th:only-of-type {\n",
       "        vertical-align: middle;\n",
       "    }\n",
       "\n",
       "    .dataframe tbody tr th {\n",
       "        vertical-align: top;\n",
       "    }\n",
       "\n",
       "    .dataframe thead th {\n",
       "        text-align: right;\n",
       "    }\n",
       "</style>\n",
       "<table border=\"1\" class=\"dataframe\">\n",
       "  <thead>\n",
       "    <tr style=\"text-align: right;\">\n",
       "      <th></th>\n",
       "      <th>version.string</th>\n",
       "    </tr>\n",
       "  </thead>\n",
       "  <tbody>\n",
       "    <tr>\n",
       "      <th>1</th>\n",
       "      <td>R version 3.6.2 (2019-12-12)</td>\n",
       "    </tr>\n",
       "  </tbody>\n",
       "</table>\n",
       "</div>"
      ],
      "text/plain": [
       "                 version.string\n",
       "1  R version 3.6.2 (2019-12-12)"
      ]
     },
     "execution_count": 12,
     "metadata": {},
     "output_type": "execute_result"
    }
   ],
   "source": [
    "%R d = as.data.frame( R.Version() )\n",
    "%R d = d['version.string']"
   ]
  },
  {
   "cell_type": "code",
   "execution_count": 13,
   "metadata": {},
   "outputs": [
    {
     "name": "stderr",
     "output_type": "stream",
     "text": [
      "R[write to console]: Loading required package: SingleCellExperiment\n",
      "\n",
      "R[write to console]: Loading required package: SummarizedExperiment\n",
      "\n",
      "R[write to console]: Loading required package: GenomicRanges\n",
      "\n",
      "R[write to console]: Loading required package: stats4\n",
      "\n",
      "R[write to console]: Loading required package: BiocGenerics\n",
      "\n",
      "R[write to console]: Loading required package: parallel\n",
      "\n",
      "R[write to console]: \n",
      "Attaching package: ‘BiocGenerics’\n",
      "\n",
      "\n",
      "R[write to console]: The following objects are masked from ‘package:parallel’:\n",
      "\n",
      "    clusterApply, clusterApplyLB, clusterCall, clusterEvalQ,\n",
      "    clusterExport, clusterMap, parApply, parCapply, parLapply,\n",
      "    parLapplyLB, parRapply, parSapply, parSapplyLB\n",
      "\n",
      "\n",
      "R[write to console]: The following objects are masked from ‘package:stats’:\n",
      "\n",
      "    IQR, mad, sd, var, xtabs\n",
      "\n",
      "\n",
      "R[write to console]: The following objects are masked from ‘package:base’:\n",
      "\n",
      "    anyDuplicated, append, as.data.frame, basename, cbind, colnames,\n",
      "    dirname, do.call, duplicated, eval, evalq, Filter, Find, get, grep,\n",
      "    grepl, intersect, is.unsorted, lapply, Map, mapply, match, mget,\n",
      "    order, paste, pmax, pmax.int, pmin, pmin.int, Position, rank,\n",
      "    rbind, Reduce, rownames, sapply, setdiff, sort, table, tapply,\n",
      "    union, unique, unsplit, which, which.max, which.min\n",
      "\n",
      "\n",
      "R[write to console]: Loading required package: S4Vectors\n",
      "\n",
      "R[write to console]: \n",
      "Attaching package: ‘S4Vectors’\n",
      "\n",
      "\n",
      "R[write to console]: The following object is masked from ‘package:base’:\n",
      "\n",
      "    expand.grid\n",
      "\n",
      "\n",
      "R[write to console]: Loading required package: IRanges\n",
      "\n",
      "R[write to console]: Loading required package: GenomeInfoDb\n",
      "\n",
      "R[write to console]: Loading required package: Biobase\n",
      "\n",
      "R[write to console]: Welcome to Bioconductor\n",
      "\n",
      "    Vignettes contain introductory material; view with\n",
      "    'browseVignettes()'. To cite Bioconductor, see\n",
      "    'citation(\"Biobase\")', and for packages 'citation(\"pkgname\")'.\n",
      "\n",
      "\n",
      "R[write to console]: Loading required package: DelayedArray\n",
      "\n",
      "R[write to console]: Loading required package: matrixStats\n",
      "\n",
      "R[write to console]: \n",
      "Attaching package: ‘matrixStats’\n",
      "\n",
      "\n",
      "R[write to console]: The following objects are masked from ‘package:Biobase’:\n",
      "\n",
      "    anyMissing, rowMedians\n",
      "\n",
      "\n",
      "R[write to console]: Loading required package: BiocParallel\n",
      "\n",
      "R[write to console]: \n",
      "Attaching package: ‘DelayedArray’\n",
      "\n",
      "\n",
      "R[write to console]: The following objects are masked from ‘package:matrixStats’:\n",
      "\n",
      "    colMaxs, colMins, colRanges, rowMaxs, rowMins, rowRanges\n",
      "\n",
      "\n",
      "R[write to console]: The following objects are masked from ‘package:base’:\n",
      "\n",
      "    aperm, apply, rowsum\n",
      "\n",
      "\n",
      "R[write to console]: Loading required package: princurve\n",
      "\n",
      "R[write to console]: Loading required package: Matrix\n",
      "\n",
      "R[write to console]: \n",
      "Attaching package: ‘Matrix’\n",
      "\n",
      "\n",
      "R[write to console]: The following object is masked from ‘package:S4Vectors’:\n",
      "\n",
      "    expand\n",
      "\n",
      "\n",
      "R[write to console]: Loading required package: ggplot2\n",
      "\n",
      "R[write to console]: Loading required package: VGAM\n",
      "\n",
      "R[write to console]: Loading required package: splines\n",
      "\n",
      "R[write to console]: Loading required package: DDRTree\n",
      "\n",
      "R[write to console]: Loading required package: irlba\n",
      "\n",
      "R[write to console]: Loading required package: foreach\n",
      "\n",
      "R[write to console]: Loaded gam 1.16.1\n",
      "\n",
      "\n",
      "R[write to console]: \n",
      "Attaching package: ‘gam’\n",
      "\n",
      "\n",
      "R[write to console]: The following object is masked from ‘package:VGAM’:\n",
      "\n",
      "    s\n",
      "\n",
      "\n",
      "R[write to console]: Warning:\n",
      "R[write to console]:  namespace ‘bigmemory’ is not available and has been replaced\n",
      "by .GlobalEnv when processing object ‘’\n",
      "\n",
      "R[write to console]: Warning:\n",
      "R[write to console]:  namespace ‘bigmemory’ is not available and has been replaced\n",
      "by .GlobalEnv when processing object ‘’\n",
      "\n",
      "R[write to console]: \n",
      "Attaching package: ‘plyr’\n",
      "\n",
      "\n",
      "R[write to console]: The following object is masked from ‘package:matrixStats’:\n",
      "\n",
      "    count\n",
      "\n",
      "\n",
      "R[write to console]: The following object is masked from ‘package:IRanges’:\n",
      "\n",
      "    desc\n",
      "\n",
      "\n",
      "R[write to console]: The following object is masked from ‘package:S4Vectors’:\n",
      "\n",
      "    rename\n",
      "\n",
      "\n"
     ]
    }
   ],
   "source": [
    "%%R \n",
    "\n",
    "library(scran)\n",
    "library(RColorBrewer)\n",
    "library(slingshot)\n",
    "library(monocle)\n",
    "library(gam)\n",
    "library(clusterExperiment)\n",
    "library(ggplot2)\n",
    "library(plyr)"
   ]
  },
  {
   "cell_type": "markdown",
   "metadata": {},
   "source": [
    "# Convert Scanpy object to CellDataSet object and prepare obj"
   ]
  },
  {
   "cell_type": "code",
   "execution_count": 14,
   "metadata": {
    "scrolled": true
   },
   "outputs": [
    {
     "name": "stdout",
     "output_type": "stream",
     "text": [
      "class: SingleCellExperiment \n",
      "dim: 33694 24931 \n",
      "metadata(1): cell.labels_colors\n",
      "assays(1): X\n",
      "rownames(33694): RP11-34P13.3 FAM138A ... AC213203.1 FAM231B\n",
      "rowData names(5): gene_ids highly_variable means dispersions\n",
      "  dispersions_norm\n",
      "colnames(24931): MantonBM1_HiSeq_1-AAACCTGCATCGATGT-1\n",
      "  MantonBM1_HiSeq_1-AAACGGGGTGTTGGGA-1 ...\n",
      "  MantonBM6_HiSeq_8-TTTGCGCCATGGTCTA-1\n",
      "  MantonBM6_HiSeq_8-TTTGTCAGTCTAAACC-1\n",
      "colData names(15): sample lanes ... cell.labels_july\n",
      "  cell.labels_20200717\n",
      "reducedDimNames(3): X_orig_pca PCA UMAP\n",
      "spikeNames(0):\n",
      "altExpNames(0):\n"
     ]
    }
   ],
   "source": [
    "%%R -i adata\n",
    "adata"
   ]
  },
  {
   "cell_type": "code",
   "execution_count": 15,
   "metadata": {},
   "outputs": [],
   "source": [
    "#Preprocessing for monocle\n",
    "data_mat_mon = adata.X.T\n",
    "var_mon=adata.var.copy()\n",
    "obs_mon=adata.obs.copy()"
   ]
  },
  {
   "cell_type": "code",
   "execution_count": 16,
   "metadata": {},
   "outputs": [
    {
     "data": {
      "text/html": [
       "<div>\n",
       "<style scoped>\n",
       "    .dataframe tbody tr th:only-of-type {\n",
       "        vertical-align: middle;\n",
       "    }\n",
       "\n",
       "    .dataframe tbody tr th {\n",
       "        vertical-align: top;\n",
       "    }\n",
       "\n",
       "    .dataframe thead th {\n",
       "        text-align: right;\n",
       "    }\n",
       "</style>\n",
       "<table border=\"1\" class=\"dataframe\">\n",
       "  <thead>\n",
       "    <tr style=\"text-align: right;\">\n",
       "      <th></th>\n",
       "      <th>gene_ids</th>\n",
       "      <th>highly_variable</th>\n",
       "      <th>means</th>\n",
       "      <th>dispersions</th>\n",
       "      <th>dispersions_norm</th>\n",
       "    </tr>\n",
       "    <tr>\n",
       "      <th>index</th>\n",
       "      <th></th>\n",
       "      <th></th>\n",
       "      <th></th>\n",
       "      <th></th>\n",
       "      <th></th>\n",
       "    </tr>\n",
       "  </thead>\n",
       "  <tbody>\n",
       "    <tr>\n",
       "      <th>RP11-34P13.3</th>\n",
       "      <td>ENSG00000243485</td>\n",
       "      <td>False</td>\n",
       "      <td>1.000000e-12</td>\n",
       "      <td>NaN</td>\n",
       "      <td>NaN</td>\n",
       "    </tr>\n",
       "    <tr>\n",
       "      <th>FAM138A</th>\n",
       "      <td>ENSG00000237613</td>\n",
       "      <td>False</td>\n",
       "      <td>1.000000e-12</td>\n",
       "      <td>NaN</td>\n",
       "      <td>NaN</td>\n",
       "    </tr>\n",
       "    <tr>\n",
       "      <th>OR4F5</th>\n",
       "      <td>ENSG00000186092</td>\n",
       "      <td>False</td>\n",
       "      <td>1.000000e-12</td>\n",
       "      <td>NaN</td>\n",
       "      <td>NaN</td>\n",
       "    </tr>\n",
       "    <tr>\n",
       "      <th>RP11-34P13.7</th>\n",
       "      <td>ENSG00000238009</td>\n",
       "      <td>False</td>\n",
       "      <td>5.731988e-04</td>\n",
       "      <td>0.023171</td>\n",
       "      <td>-0.003566</td>\n",
       "    </tr>\n",
       "    <tr>\n",
       "      <th>RP11-34P13.8</th>\n",
       "      <td>ENSG00000239945</td>\n",
       "      <td>False</td>\n",
       "      <td>1.000000e-12</td>\n",
       "      <td>NaN</td>\n",
       "      <td>NaN</td>\n",
       "    </tr>\n",
       "    <tr>\n",
       "      <th>...</th>\n",
       "      <td>...</td>\n",
       "      <td>...</td>\n",
       "      <td>...</td>\n",
       "      <td>...</td>\n",
       "      <td>...</td>\n",
       "    </tr>\n",
       "    <tr>\n",
       "      <th>AC233755.2</th>\n",
       "      <td>ENSG00000277856</td>\n",
       "      <td>False</td>\n",
       "      <td>5.282731e-04</td>\n",
       "      <td>0.266137</td>\n",
       "      <td>0.478844</td>\n",
       "    </tr>\n",
       "    <tr>\n",
       "      <th>AC233755.1</th>\n",
       "      <td>ENSG00000275063</td>\n",
       "      <td>False</td>\n",
       "      <td>1.590255e-03</td>\n",
       "      <td>-0.004129</td>\n",
       "      <td>-0.057771</td>\n",
       "    </tr>\n",
       "    <tr>\n",
       "      <th>AC240274.1</th>\n",
       "      <td>ENSG00000271254</td>\n",
       "      <td>False</td>\n",
       "      <td>5.765918e-03</td>\n",
       "      <td>0.202732</td>\n",
       "      <td>0.352955</td>\n",
       "    </tr>\n",
       "    <tr>\n",
       "      <th>AC213203.1</th>\n",
       "      <td>ENSG00000277475</td>\n",
       "      <td>False</td>\n",
       "      <td>1.000000e-12</td>\n",
       "      <td>NaN</td>\n",
       "      <td>NaN</td>\n",
       "    </tr>\n",
       "    <tr>\n",
       "      <th>FAM231B</th>\n",
       "      <td>ENSG00000268674</td>\n",
       "      <td>False</td>\n",
       "      <td>1.000000e-12</td>\n",
       "      <td>NaN</td>\n",
       "      <td>NaN</td>\n",
       "    </tr>\n",
       "  </tbody>\n",
       "</table>\n",
       "<p>33694 rows × 5 columns</p>\n",
       "</div>"
      ],
      "text/plain": [
       "                     gene_ids  highly_variable         means  dispersions  dispersions_norm\n",
       "index                                                                                      \n",
       "RP11-34P13.3  ENSG00000243485            False  1.000000e-12          NaN               NaN\n",
       "FAM138A       ENSG00000237613            False  1.000000e-12          NaN               NaN\n",
       "OR4F5         ENSG00000186092            False  1.000000e-12          NaN               NaN\n",
       "RP11-34P13.7  ENSG00000238009            False  5.731988e-04     0.023171         -0.003566\n",
       "RP11-34P13.8  ENSG00000239945            False  1.000000e-12          NaN               NaN\n",
       "...                       ...              ...           ...          ...               ...\n",
       "AC233755.2    ENSG00000277856            False  5.282731e-04     0.266137          0.478844\n",
       "AC233755.1    ENSG00000275063            False  1.590255e-03    -0.004129         -0.057771\n",
       "AC240274.1    ENSG00000271254            False  5.765918e-03     0.202732          0.352955\n",
       "AC213203.1    ENSG00000277475            False  1.000000e-12          NaN               NaN\n",
       "FAM231B       ENSG00000268674            False  1.000000e-12          NaN               NaN\n",
       "\n",
       "[33694 rows x 5 columns]"
      ]
     },
     "execution_count": 16,
     "metadata": {},
     "output_type": "execute_result"
    }
   ],
   "source": [
    "var_mon"
   ]
  },
  {
   "cell_type": "code",
   "execution_count": 17,
   "metadata": {
    "scrolled": false
   },
   "outputs": [
    {
     "name": "stdout",
     "output_type": "stream",
     "text": [
      "[1] \"setting up cell dataset structure\"\n",
      "[1] \"printing pd - cells\"\n",
      "An object of class 'AnnotatedDataFrame'\n",
      "  rowNames: MantonBM1_HiSeq_1-AAACCTGCATCGATGT-1\n",
      "    MantonBM1_HiSeq_1-AAACGGGGTGTTGGGA-1 ...\n",
      "    MantonBM6_HiSeq_8-TTTGTCAGTCTAAACC-1 (24931 total)\n",
      "  varLabels: sample lanes ... cell.labels_20200717 (15 total)\n",
      "  varMetadata: labelDescription\n",
      "[1] \"printing fd - genes\"\n",
      "An object of class 'AnnotatedDataFrame'\n",
      "  rowNames: RP11-34P13.3 FAM138A ... FAM231B (33694 total)\n",
      "  varLabels: gene_ids highly_variable ... dispersions_norm (5 total)\n",
      "  varMetadata: labelDescription\n",
      "[1] \"create newCellDataSet using the matrix, cells and genes\"\n",
      "[1] \"printing ie_regions_cds\"\n",
      "CellDataSet (storageMode: environment)\n",
      "assayData: 33694 features, 24931 samples \n",
      "  element names: exprs \n",
      "protocolData: none\n",
      "phenoData\n",
      "  sampleNames: MantonBM1_HiSeq_1-AAACCTGCATCGATGT-1\n",
      "    MantonBM1_HiSeq_1-AAACGGGGTGTTGGGA-1 ...\n",
      "    MantonBM6_HiSeq_8-TTTGTCAGTCTAAACC-1 (24931 total)\n",
      "  varLabels: sample lanes ... Size_Factor (16 total)\n",
      "  varMetadata: labelDescription\n",
      "featureData\n",
      "  featureNames: RP11-34P13.3 FAM138A ... FAM231B (33694 total)\n",
      "  fvarLabels: gene_ids highly_variable ... dispersions_norm (5 total)\n",
      "  fvarMetadata: labelDescription\n",
      "experimentData: use 'experimentData(object)'\n",
      "Annotation:  \n"
     ]
    }
   ],
   "source": [
    "%%R -i data_mat_mon -i obs_mon -i var_mon\n",
    "\n",
    "#Set up the CellDataSet data structure\n",
    "print(\"setting up cell dataset structure\")\n",
    "print(\"printing pd - cells\")\n",
    "pd <- AnnotatedDataFrame(data = obs_mon)\n",
    "print(pd)\n",
    "print(\"printing fd - genes\")\n",
    "fd <- AnnotatedDataFrame(data = var_mon)\n",
    "print(fd)\n",
    "# assigning cells as column name and genes as rownames of GEX matrix (data_mat_mon)\n",
    "colnames(data_mat_mon) <- rownames(pd)\n",
    "rownames(data_mat_mon) <- rownames(fd)\n",
    "print(\"create newCellDataSet using the matrix, cells and genes\")\n",
    "ie_regions_cds <- newCellDataSet(cellData=data_mat_mon, phenoData=pd, featureData=fd, expressionFamily=negbinomial.size())\n",
    "\n",
    "# print ie_regions_cds\n",
    "print(\"printing ie_regions_cds\")\n",
    "print(ie_regions_cds)"
   ]
  },
  {
   "cell_type": "markdown",
   "metadata": {},
   "source": [
    "# Within CDS, select HVGs (previously defined in scanpy)"
   ]
  },
  {
   "cell_type": "code",
   "execution_count": 18,
   "metadata": {},
   "outputs": [
    {
     "name": "stdout",
     "output_type": "stream",
     "text": [
      "[1] \"filter hvgs\"\n",
      "[1] \"printing cds again\"\n",
      "CellDataSet (storageMode: environment)\n",
      "assayData: 1377 features, 24931 samples \n",
      "  element names: exprs \n",
      "protocolData: none\n",
      "phenoData\n",
      "  sampleNames: MantonBM1_HiSeq_1-AAACCTGCATCGATGT-1\n",
      "    MantonBM1_HiSeq_1-AAACGGGGTGTTGGGA-1 ...\n",
      "    MantonBM6_HiSeq_8-TTTGTCAGTCTAAACC-1 (24931 total)\n",
      "  varLabels: sample lanes ... Size_Factor (16 total)\n",
      "  varMetadata: labelDescription\n",
      "featureData\n",
      "  featureNames: ISG15 RP5-832C2.5 ... MT-CYB (1377 total)\n",
      "  fvarLabels: gene_ids highly_variable ... dispersions_norm (5 total)\n",
      "  fvarMetadata: labelDescription\n",
      "experimentData: use 'experimentData(object)'\n",
      "Annotation:  \n"
     ]
    }
   ],
   "source": [
    "%%R \n",
    "\n",
    "#Filter highly variable genes from our analysis (normalisation by log and size factor will be performed in monocle3)\n",
    "print(\"filter hvgs\")\n",
    "hvg_mask = fData(ie_regions_cds)$highly_variable\n",
    "ie_regions_cds <- ie_regions_cds[hvg_mask,]\n",
    "\n",
    "# print ie_regions_cds\n",
    "print(\"printing cds again\")\n",
    "print(ie_regions_cds)"
   ]
  },
  {
   "cell_type": "markdown",
   "metadata": {},
   "source": [
    "# Save object for input into Monocle3"
   ]
  },
  {
   "cell_type": "code",
   "execution_count": 19,
   "metadata": {},
   "outputs": [],
   "source": [
    "%%R \n",
    "\n",
    "saveRDS(ie_regions_cds, \n",
    "        \"/Users/b8058304/Documents/PhD_work/Coding/manuscript_figs/data/figs3e_ABM_bcell_cds_20200717.RDS\")"
   ]
  },
  {
   "cell_type": "code",
   "execution_count": null,
   "metadata": {},
   "outputs": [],
   "source": []
  },
  {
   "cell_type": "code",
   "execution_count": null,
   "metadata": {},
   "outputs": [],
   "source": []
  },
  {
   "cell_type": "code",
   "execution_count": null,
   "metadata": {},
   "outputs": [],
   "source": []
  }
 ],
 "metadata": {
  "kernelspec": {
   "display_name": "Python 3",
   "language": "python",
   "name": "python3"
  },
  "language_info": {
   "codemirror_mode": {
    "name": "ipython",
    "version": 3
   },
   "file_extension": ".py",
   "mimetype": "text/x-python",
   "name": "python",
   "nbconvert_exporter": "python",
   "pygments_lexer": "ipython3",
   "version": "3.6.4"
  }
 },
 "nbformat": 4,
 "nbformat_minor": 2
}
