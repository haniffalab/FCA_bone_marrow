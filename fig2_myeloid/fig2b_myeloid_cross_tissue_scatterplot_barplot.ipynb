{
 "cells": [
  {
   "cell_type": "markdown",
   "metadata": {},
   "source": [
    "# Import packages and data "
   ]
  },
  {
   "cell_type": "code",
   "execution_count": 1,
   "metadata": {},
   "outputs": [
    {
     "name": "stderr",
     "output_type": "stream",
     "text": [
      "/Users/b8058304/.pyenv/versions/3.6.4/envs/py36/lib/python3.6/site-packages/anndata/_core/anndata.py:21: FutureWarning: pandas.core.index is deprecated and will be removed in a future version.  The public classes are available in the top-level namespace.\n",
      "  from pandas.core.index import RangeIndex\n"
     ]
    }
   ],
   "source": [
    "import numpy as np\n",
    "import pandas as pd\n",
    "import scanpy as sc\n",
    "import seaborn as sns\n",
    "import scipy.stats\n",
    "import anndata\n",
    "import matplotlib.pyplot as plt\n",
    "import matplotlib as mpl\n",
    "from matplotlib.axes._axes import _log as matplotlib_axes_logger\n",
    "from scipy import sparse\n",
    "matplotlib_axes_logger.setLevel('ERROR')\n",
    "# silence NumbaPerformanceWarning\n",
    "import warnings\n",
    "from numba.errors import NumbaPerformanceWarning\n",
    "warnings.filterwarnings(\"ignore\", category=NumbaPerformanceWarning)"
   ]
  },
  {
   "cell_type": "code",
   "execution_count": 2,
   "metadata": {},
   "outputs": [
    {
     "name": "stdout",
     "output_type": "stream",
     "text": [
      "scanpy==1.4.4 anndata==0.7.1 umap==0.3.10 numpy==1.17.1 scipy==1.4.1 pandas==1.0.5 scikit-learn==0.22.2.post1 statsmodels==0.11.1 python-igraph==0.8.0 louvain==0.6.1\n"
     ]
    }
   ],
   "source": [
    "sc.settings.verbosity = 1  # verbosity: errors (0), warnings (1), info (2), hints (3)\n",
    "# Set up the plot config for viewing the annotation clearly.\n",
    "sc.settings.set_figure_params(dpi=120, dpi_save=1000)\n",
    "sc.logging.print_versions()"
   ]
  },
  {
   "cell_type": "markdown",
   "metadata": {},
   "source": [
    "# Import the fetal YS myeloid"
   ]
  },
  {
   "cell_type": "code",
   "execution_count": 3,
   "metadata": {},
   "outputs": [],
   "source": [
    "adata = sc.read('/Users/b8058304/Documents/PhD_work/Coding/liver/data/ys_total_annotation_20191127.h5ad')"
   ]
  },
  {
   "cell_type": "code",
   "execution_count": 4,
   "metadata": {},
   "outputs": [],
   "source": [
    "ys = adata"
   ]
  },
  {
   "cell_type": "code",
   "execution_count": 5,
   "metadata": {
    "scrolled": true
   },
   "outputs": [
    {
     "data": {
      "text/plain": [
       "AnnData object with n_obs × n_vars = 10071 × 32084 \n",
       "    obs: 'nGene', 'nUMI', 'orig.ident', 'percent.mito', 'cell.labels', 'fetal.ids', 'sort.ids', 'tissue', 'lanes', 'stages', 'sample.type', 'gender', 'AnnatomicalPart', 'doublets', 'LouvainClustering', 'predicted.cell.labels', 'full.ids', 'batch', 'bh_pval', 'sample', 'scrublet_cluster_score', 'scrublet_score', 'n_counts', 'louvain', 'is_doublet', 'is_doublet_poptrim', 'res.30', 'backlabeled_1', 'cell.labels_progen'"
      ]
     },
     "execution_count": 5,
     "metadata": {},
     "output_type": "execute_result"
    }
   ],
   "source": [
    "adata"
   ]
  },
  {
   "cell_type": "code",
   "execution_count": 6,
   "metadata": {},
   "outputs": [
    {
     "data": {
      "text/plain": [
       "cell.labels\n",
       "DC progenitor                78\n",
       "Early mast cell             133\n",
       "Endothelium                 160\n",
       "Erythroid AB                892\n",
       "Erythroid EZ               1167\n",
       "Erythroid M                 275\n",
       "ILC precursor                25\n",
       "Lymphoid progenitor         184\n",
       "MEMP                        121\n",
       "Monocyte                     38\n",
       "Myeloid progenitor           61\n",
       "NK early                     50\n",
       "yolk sac Macrophage I      3063\n",
       "yolk sac Macrophage II     3619\n",
       "yolk sac progenitor/MPP     205\n",
       "dtype: int64"
      ]
     },
     "execution_count": 6,
     "metadata": {},
     "output_type": "execute_result"
    }
   ],
   "source": [
    "cell_numbers = adata.obs.groupby([\"cell.labels\"]).apply(len)\n",
    "cell_numbers"
   ]
  },
  {
   "cell_type": "code",
   "execution_count": 7,
   "metadata": {},
   "outputs": [
    {
     "data": {
      "text/plain": [
       "cell.labels_progen\n",
       "CMP                    55\n",
       "ELP                   174\n",
       "GMP                    40\n",
       "HSC                   105\n",
       "MEMP                   55\n",
       "MEP                    56\n",
       "Monocyte precursor     26\n",
       "macrophage             42\n",
       "neut myeloid           18\n",
       "dtype: int64"
      ]
     },
     "execution_count": 7,
     "metadata": {},
     "output_type": "execute_result"
    }
   ],
   "source": [
    "cell_numbers = adata.obs.groupby([\"cell.labels_progen\"]).apply(len)\n",
    "cell_numbers"
   ]
  },
  {
   "cell_type": "code",
   "execution_count": 8,
   "metadata": {},
   "outputs": [],
   "source": [
    "from scipy import sparse\n",
    "array_vals = adata.X\n",
    "adata.X = sparse.csr_matrix(adata.X)\n",
    "adata.raw = adata\n",
    "adata.X = array_vals"
   ]
  },
  {
   "cell_type": "code",
   "execution_count": 9,
   "metadata": {},
   "outputs": [],
   "source": [
    "# GMP, monocyte precursor, neut myeloid (from the original  Lymphoid progenitor, MEMP, Myeloid progenitor and \n",
    "# yolk sac progenitor/MPP reclustering on right hand side of slide one) as well as monocyte and DC progenitor from \n",
    "# the original annotation\n",
    "adata_1 = adata[adata.obs['cell.labels'].isin(['DC progenitor', 'Monocyte'])].copy()\n",
    "adata_2 = adata[adata.obs['cell.labels_progen'].isin(['GMP', 'Monocyte precursor', 'neut myeloid'])].copy()\n",
    "adata_2.obs['cell.labels'] = adata_2.obs['cell.labels_progen']"
   ]
  },
  {
   "cell_type": "code",
   "execution_count": 10,
   "metadata": {},
   "outputs": [
    {
     "data": {
      "text/plain": [
       "cell.labels\n",
       "DC progenitor    78\n",
       "Monocyte         38\n",
       "dtype: int64"
      ]
     },
     "execution_count": 10,
     "metadata": {},
     "output_type": "execute_result"
    }
   ],
   "source": [
    "cell_numbers = adata_1.obs.groupby([\"cell.labels\"]).apply(len)\n",
    "cell_numbers"
   ]
  },
  {
   "cell_type": "code",
   "execution_count": 11,
   "metadata": {},
   "outputs": [
    {
     "data": {
      "text/plain": [
       "cell.labels\n",
       "GMP                   40\n",
       "Monocyte precursor    26\n",
       "neut myeloid          18\n",
       "dtype: int64"
      ]
     },
     "execution_count": 11,
     "metadata": {},
     "output_type": "execute_result"
    }
   ],
   "source": [
    "cell_numbers = adata_2.obs.groupby([\"cell.labels\"]).apply(len)\n",
    "cell_numbers"
   ]
  },
  {
   "cell_type": "code",
   "execution_count": 12,
   "metadata": {},
   "outputs": [
    {
     "data": {
      "text/plain": [
       "fetal.ids          cell.labels  \n",
       "F32_female_7+6PCW  DC progenitor     1\n",
       "                   Monocyte          2\n",
       "F35_female_7+6PCW  DC progenitor    13\n",
       "                   Monocyte          7\n",
       "F37_female_4PCW    DC progenitor    64\n",
       "                   Monocyte         29\n",
       "dtype: int64"
      ]
     },
     "execution_count": 12,
     "metadata": {},
     "output_type": "execute_result"
    }
   ],
   "source": [
    "cell_numbers = adata_1.obs.groupby([\"fetal.ids\", \"cell.labels\"]).apply(len)\n",
    "pd.DataFrame(cell_numbers).to_csv(\"/Users/b8058304/Documents/PhD_work/Coding/manuscript_figs/resources_for_pipelines/ys_myeloid_nrs_orig_by_sample_20200724.csv\")\n",
    "cell_numbers"
   ]
  },
  {
   "cell_type": "code",
   "execution_count": 13,
   "metadata": {},
   "outputs": [
    {
     "data": {
      "text/plain": [
       "fetal.ids          cell.labels       \n",
       "F32_female_7+6PCW  GMP                    1\n",
       "F35_female_7+6PCW  GMP                    2\n",
       "                   Monocyte precursor     2\n",
       "                   neut myeloid           6\n",
       "F37_female_4PCW    GMP                   37\n",
       "                   Monocyte precursor    24\n",
       "                   neut myeloid          12\n",
       "dtype: int64"
      ]
     },
     "execution_count": 13,
     "metadata": {},
     "output_type": "execute_result"
    }
   ],
   "source": [
    "cell_numbers = adata_2.obs.groupby([\"fetal.ids\", \"cell.labels\"]).apply(len)\n",
    "pd.DataFrame(cell_numbers).to_csv(\"/Users/b8058304/Documents/PhD_work/Coding/manuscript_figs/resources_for_pipelines/ys_myeloid_nrs_reclustered_by_sample_20200724.csv\")\n",
    "cell_numbers"
   ]
  },
  {
   "cell_type": "code",
   "execution_count": null,
   "metadata": {},
   "outputs": [],
   "source": []
  },
  {
   "cell_type": "code",
   "execution_count": null,
   "metadata": {},
   "outputs": [],
   "source": []
  },
  {
   "cell_type": "code",
   "execution_count": null,
   "metadata": {},
   "outputs": [],
   "source": []
  },
  {
   "cell_type": "markdown",
   "metadata": {},
   "source": [
    "# Import the fetal liver myeloid compartment"
   ]
  },
  {
   "cell_type": "code",
   "execution_count": 14,
   "metadata": {},
   "outputs": [],
   "source": [
    "adata = sc.read('/Users/b8058304/Documents/PhD_work/Coding/liver/data/fetal_liver_alladata_Copy1.h5ad')"
   ]
  },
  {
   "cell_type": "code",
   "execution_count": 15,
   "metadata": {},
   "outputs": [],
   "source": [
    "liver = adata"
   ]
  },
  {
   "cell_type": "code",
   "execution_count": 16,
   "metadata": {
    "scrolled": true
   },
   "outputs": [
    {
     "data": {
      "text/plain": [
       "AnnData object with n_obs × n_vars = 113063 × 27080 \n",
       "    obs: 'nGene', 'nUMI', 'orig.ident', 'percent.mito', 'fetal.ids', 'sort.ids', 'tissue', 'lanes', 'stages', 'sample.type', 'gender', 'AnnatomicalPart', 'doublets', 'cell.labels', 'combined.labels', 'batch', 'sample', 'n_counts', 'cell.labels_progen'\n",
       "    obsm: 'X_fdg', 'X_tsne', 'X_umap'"
      ]
     },
     "execution_count": 16,
     "metadata": {},
     "output_type": "execute_result"
    }
   ],
   "source": [
    "adata"
   ]
  },
  {
   "cell_type": "code",
   "execution_count": 17,
   "metadata": {
    "scrolled": false
   },
   "outputs": [
    {
     "data": {
      "text/plain": [
       "cell.labels\n",
       "B cell                            1079\n",
       "DC1                                336\n",
       "DC2                               3954\n",
       "DC precursor                       330\n",
       "Early Erythroid                  11985\n",
       "Early lymphoid_T lymphocyte        767\n",
       "Endothelial cell                  3348\n",
       "Fibroblast                        1713\n",
       "HSC_MPP                           3439\n",
       "Hepatocyte                        2479\n",
       "ILC precursor                     1726\n",
       "Kupffer Cell                     24841\n",
       "Late Erythroid                    3180\n",
       "MEMP                              1342\n",
       "Mast cell                         1308\n",
       "Megakaryocyte                     3983\n",
       "Mid Erythroid                    27000\n",
       "Mono-Mac                          6590\n",
       "Monocyte                          2586\n",
       "Monocyte precursor                 350\n",
       "NK                                6706\n",
       "Neutrophil-myeloid progenitor      658\n",
       "Pre pro B cell                     234\n",
       "VCAM1+ EI macrophage               161\n",
       "pDC precursor                      253\n",
       "pre-B cell                        1332\n",
       "pro-B cell                        1383\n",
       "dtype: int64"
      ]
     },
     "execution_count": 17,
     "metadata": {},
     "output_type": "execute_result"
    }
   ],
   "source": [
    "cell_numbers = adata.obs.groupby([\"cell.labels\"]).apply(len)\n",
    "cell_numbers"
   ]
  },
  {
   "cell_type": "code",
   "execution_count": 18,
   "metadata": {},
   "outputs": [],
   "source": [
    "from scipy import sparse\n",
    "array_vals = adata.X\n",
    "adata.X = sparse.csr_matrix(adata.X)\n",
    "adata.raw = adata\n",
    "adata.X = array_vals"
   ]
  },
  {
   "cell_type": "code",
   "execution_count": 19,
   "metadata": {},
   "outputs": [
    {
     "data": {
      "text/plain": [
       "cell.labels_progen\n",
       "ELP                        525\n",
       "GMP                        362\n",
       "HSC                        242\n",
       "MEMP                       505\n",
       "MEP                        639\n",
       "MPP                       2012\n",
       "early MK                    81\n",
       "early erythroid            333\n",
       "eo/baso/mast precursor      86\n",
       "erythroid-MPP hybrid        14\n",
       "macrophage                  81\n",
       "myeloid DC progenitor       94\n",
       "pDC progenitor              41\n",
       "dtype: int64"
      ]
     },
     "execution_count": 19,
     "metadata": {},
     "output_type": "execute_result"
    }
   ],
   "source": [
    "cell_numbers = adata.obs.groupby([\"cell.labels_progen\"]).apply(len)\n",
    "cell_numbers"
   ]
  },
  {
   "cell_type": "code",
   "execution_count": 20,
   "metadata": {},
   "outputs": [],
   "source": [
    "adata = adata[adata.obs['cell.labels'].isin(['pDC precursor', 'DC precursor', 'DC1', 'DC2', 'Neutrophil-myeloid progenitor', 'Monocyte precursor', 'Monocyte'])].copy()"
   ]
  },
  {
   "cell_type": "code",
   "execution_count": 21,
   "metadata": {},
   "outputs": [
    {
     "data": {
      "text/plain": [
       "cell.labels\n",
       "DC1                               336\n",
       "DC2                              3954\n",
       "DC precursor                      330\n",
       "Monocyte                         2586\n",
       "Monocyte precursor                350\n",
       "Neutrophil-myeloid progenitor     658\n",
       "pDC precursor                     253\n",
       "dtype: int64"
      ]
     },
     "execution_count": 21,
     "metadata": {},
     "output_type": "execute_result"
    }
   ],
   "source": [
    "cell_numbers = adata.obs.groupby([\"cell.labels\"]).apply(len)\n",
    "cell_numbers"
   ]
  },
  {
   "cell_type": "code",
   "execution_count": 22,
   "metadata": {},
   "outputs": [],
   "source": [
    "adata.obs[\"dataset\"] = \"liver\"\n",
    "adata.obs['cell.labels'] = adata.obs['cell.labels']"
   ]
  },
  {
   "cell_type": "code",
   "execution_count": 23,
   "metadata": {},
   "outputs": [
    {
     "data": {
      "text/plain": [
       "fetal.ids           cell.labels                  \n",
       "F16_male_8+1PCW     DC1                                3\n",
       "                    DC2                               10\n",
       "                    DC precursor                       1\n",
       "                    Monocyte                          18\n",
       "                    Neutrophil-myeloid progenitor      6\n",
       "                                                    ... \n",
       "F45_female_13+6PCW  DC precursor                      37\n",
       "                    Monocyte                         197\n",
       "                    Monocyte precursor                73\n",
       "                    Neutrophil-myeloid progenitor    116\n",
       "                    pDC precursor                     17\n",
       "Length: 96, dtype: int64"
      ]
     },
     "execution_count": 23,
     "metadata": {},
     "output_type": "execute_result"
    }
   ],
   "source": [
    "cell_numbers = adata.obs.groupby([\"fetal.ids\", \"cell.labels\"]).apply(len)\n",
    "pd.DataFrame(cell_numbers).to_csv(\"/Users/b8058304/Documents/PhD_work/Coding/manuscript_figs/resources_for_pipelines/liver_myeloid_nrs_by_sample_20200724.csv\")\n",
    "cell_numbers"
   ]
  },
  {
   "cell_type": "markdown",
   "metadata": {},
   "source": [
    "# Import the FBM myeloid compartment"
   ]
  },
  {
   "cell_type": "code",
   "execution_count": 24,
   "metadata": {},
   "outputs": [],
   "source": [
    "adata = sc.read('/Users/b8058304/Documents/PhD_work/Coding/bm_plus_19pcw/data/bm_plus_19pcw_raw_dr_20200718.h5ad')"
   ]
  },
  {
   "cell_type": "code",
   "execution_count": 25,
   "metadata": {},
   "outputs": [],
   "source": [
    "fbm = adata"
   ]
  },
  {
   "cell_type": "code",
   "execution_count": 26,
   "metadata": {
    "scrolled": true
   },
   "outputs": [
    {
     "data": {
      "text/plain": [
       "AnnData object with n_obs × n_vars = 104562 × 33712 \n",
       "    obs: 'cell.labels', 'doublets', 'fetal.ids', 'gender', 'is_doublet', 'is_doublet_poptrim', 'is_doublet_wolock', 'lanes', 'nGene', 'nUMI', 'orig.ident', 'percent.mito', 'processing.type', 'scrublet_cluster_score', 'scrublet_score', 'sequencing.type', 'sort.ids', 'april_cell.labels', 'cell.labels_20200708', 'cell.labels_20200713', 'cell.labels_20200718', 'nk_meta'\n",
       "    var: 'gene_ids-1', 'feature_types-1'\n",
       "    obsm: 'X_orig_pca', 'X_pca', 'X_umap'"
      ]
     },
     "execution_count": 26,
     "metadata": {},
     "output_type": "execute_result"
    }
   ],
   "source": [
    "adata"
   ]
  },
  {
   "cell_type": "code",
   "execution_count": 27,
   "metadata": {
    "scrolled": false
   },
   "outputs": [
    {
     "data": {
      "text/plain": [
       "cell.labels\n",
       "CD4 T cell             327\n",
       "CD8 T cell             171\n",
       "CD14 monocyte         8787\n",
       "CD56 bright NK         450\n",
       "CMP                    425\n",
       "                      ... \n",
       "schwann cells            9\n",
       "sinusoidal EC          550\n",
       "stromal macrophage    1493\n",
       "tDC                    193\n",
       "tip EC                 363\n",
       "Length: 64, dtype: int64"
      ]
     },
     "execution_count": 27,
     "metadata": {},
     "output_type": "execute_result"
    }
   ],
   "source": [
    "cell_numbers = adata.obs.groupby([\"cell.labels\"]).apply(len)\n",
    "cell_numbers"
   ]
  },
  {
   "cell_type": "code",
   "execution_count": 28,
   "metadata": {},
   "outputs": [],
   "source": [
    "from scipy import sparse\n",
    "array_vals = adata.X\n",
    "adata.X = sparse.csr_matrix(adata.X)\n",
    "adata.raw = adata\n",
    "adata.X = array_vals"
   ]
  },
  {
   "cell_type": "code",
   "execution_count": 29,
   "metadata": {},
   "outputs": [],
   "source": [
    "adata = adata[adata.obs['cell.labels'].isin([\"CD14 monocyte\", \"DC precursor\", \"DC1\", \"DC2\", \"DC3\", \n",
    "                     \"GMP\", \"promonocyte\", \n",
    "                     \"myelocyte\", \"myeloid DC progenitor\", \"MOP\", \"neutrophil\", \"pDC\", \"pDC progenitor\", \n",
    "                     \"promyelocyte\", \"tDC\"])].copy()"
   ]
  },
  {
   "cell_type": "code",
   "execution_count": 30,
   "metadata": {},
   "outputs": [
    {
     "data": {
      "text/plain": [
       "cell.labels\n",
       "CD14 monocyte            8787\n",
       "DC1                        50\n",
       "DC2                       598\n",
       "DC3                       705\n",
       "DC precursor              201\n",
       "GMP                      1285\n",
       "MOP                      3990\n",
       "myelocyte                3854\n",
       "myeloid DC progenitor      31\n",
       "neutrophil               4516\n",
       "pDC                       713\n",
       "pDC progenitor             23\n",
       "promonocyte              7676\n",
       "promyelocyte             2386\n",
       "tDC                       193\n",
       "dtype: int64"
      ]
     },
     "execution_count": 30,
     "metadata": {},
     "output_type": "execute_result"
    }
   ],
   "source": [
    "cell_numbers = adata.obs.groupby([\"cell.labels\"]).apply(len)\n",
    "cell_numbers"
   ]
  },
  {
   "cell_type": "code",
   "execution_count": 31,
   "metadata": {},
   "outputs": [],
   "source": [
    "adata.obs[\"dataset\"] = \"FBM\""
   ]
  },
  {
   "cell_type": "code",
   "execution_count": 32,
   "metadata": {},
   "outputs": [
    {
     "data": {
      "text/plain": [
       "fetal.ids         cell.labels  \n",
       "F21_male_16+2PCW  CD14 monocyte    217\n",
       "                  DC1                3\n",
       "                  DC2               24\n",
       "                  DC3               33\n",
       "                  DC precursor      13\n",
       "                                  ... \n",
       "SB19PCW           myelocyte        904\n",
       "                  neutrophil       767\n",
       "                  pDC               68\n",
       "                  promonocyte      798\n",
       "                  promyelocyte     667\n",
       "Length: 127, dtype: int64"
      ]
     },
     "execution_count": 32,
     "metadata": {},
     "output_type": "execute_result"
    }
   ],
   "source": [
    "cell_numbers = adata.obs.groupby([\"fetal.ids\", \"cell.labels\"]).apply(len)\n",
    "pd.DataFrame(cell_numbers).to_csv(\"/Users/b8058304/Documents/PhD_work/Coding/manuscript_figs/resources_for_pipelines/fbm_myeloid_nrs_by_sample_20200724.csv\")\n",
    "cell_numbers"
   ]
  },
  {
   "cell_type": "markdown",
   "metadata": {},
   "source": [
    "# Import the ABM myeloid compartment"
   ]
  },
  {
   "cell_type": "code",
   "execution_count": 33,
   "metadata": {},
   "outputs": [],
   "source": [
    "adata = sc.read('/Users/b8058304/Documents/PhD_work/Coding/adult_bm/data/abm_raw_dr_20200717.h5ad')"
   ]
  },
  {
   "cell_type": "code",
   "execution_count": 34,
   "metadata": {},
   "outputs": [],
   "source": [
    "abm = adata"
   ]
  },
  {
   "cell_type": "code",
   "execution_count": 35,
   "metadata": {
    "scrolled": true
   },
   "outputs": [
    {
     "data": {
      "text/plain": [
       "AnnData object with n_obs × n_vars = 142026 × 33694 \n",
       "    obs: 'sample', 'lanes', 'sex', 'age', 'ethnicity', 'mad_prd', 'auto_prd', 'cell.labels', 'cell.labels2', 'leiden', 'percent.mito', 'nGene', 'nUMI', 'cell.labels_july', 'cell.labels_20200717'\n",
       "    var: 'gene_ids'\n",
       "    obsm: 'X_orig_pca', 'X_pca', 'X_umap'"
      ]
     },
     "execution_count": 35,
     "metadata": {},
     "output_type": "execute_result"
    }
   ],
   "source": [
    "adata"
   ]
  },
  {
   "cell_type": "code",
   "execution_count": 36,
   "metadata": {
    "scrolled": false
   },
   "outputs": [
    {
     "data": {
      "text/plain": [
       "cell.labels\n",
       "CD14 monocyte             3670\n",
       "CD16 monocyte             1938\n",
       "CD56 bright NK            1228\n",
       "CLP                        882\n",
       "CMP                        288\n",
       "DC1                        135\n",
       "DC2                        481\n",
       "DC3                        550\n",
       "DC precursor               462\n",
       "HSC                        497\n",
       "LMPP                        80\n",
       "MEMP                       785\n",
       "MK                         577\n",
       "MOP                       1440\n",
       "MPP                        365\n",
       "Treg                      6327\n",
       "early MK                   136\n",
       "early erythroid           5441\n",
       "erythroid macrophage        77\n",
       "immature B cell           2728\n",
       "late erythroid            1150\n",
       "mature CD8 T cell        15725\n",
       "mature NK                 6074\n",
       "memory B cell             4106\n",
       "memory CD4 T cell        22197\n",
       "mid erythroid             2192\n",
       "monocyte-DC                515\n",
       "myelocyte                 6675\n",
       "myeloid DC progenitor      110\n",
       "naive B cell             19265\n",
       "naive CD4 T cell          5873\n",
       "naive CD8 T cell          8965\n",
       "neutrophil                2482\n",
       "pDC                       1134\n",
       "pDC progenitor              63\n",
       "plasma cell               2074\n",
       "pre B cell                 971\n",
       "pro B progenitor          1390\n",
       "promonocyte               7448\n",
       "promyelocyte              2197\n",
       "stroma                     161\n",
       "tDC                         75\n",
       "transitional B cell       2151\n",
       "transitional NK            946\n",
       "dtype: int64"
      ]
     },
     "execution_count": 36,
     "metadata": {},
     "output_type": "execute_result"
    }
   ],
   "source": [
    "cell_numbers = adata.obs.groupby([\"cell.labels\"]).apply(len)\n",
    "cell_numbers"
   ]
  },
  {
   "cell_type": "code",
   "execution_count": 37,
   "metadata": {},
   "outputs": [],
   "source": [
    "from scipy import sparse\n",
    "array_vals = adata.X\n",
    "adata.X = sparse.csr_matrix(adata.X)\n",
    "adata.raw = adata\n",
    "adata.X = array_vals"
   ]
  },
  {
   "cell_type": "code",
   "execution_count": 38,
   "metadata": {},
   "outputs": [],
   "source": [
    "adata = adata[adata.obs['cell.labels'].isin([\"CD14 monocyte\", \"DC precursor\", \"DC1\", \"DC2\", \"DC3\", \n",
    "                     \"promonocyte\", \n",
    "                     \"myelocyte\", \"myeloid DC progenitor\", \"MOP\", \"neutrophil\", \"pDC\", \"pDC progenitor\", \n",
    "                     \"promyelocyte\", \"tDC\", \"CD16 monocyte\", \"monocyte-DC\"])].copy()"
   ]
  },
  {
   "cell_type": "code",
   "execution_count": 39,
   "metadata": {},
   "outputs": [
    {
     "data": {
      "text/plain": [
       "cell.labels\n",
       "CD14 monocyte            3670\n",
       "CD16 monocyte            1938\n",
       "DC1                       135\n",
       "DC2                       481\n",
       "DC3                       550\n",
       "DC precursor              462\n",
       "MOP                      1440\n",
       "monocyte-DC               515\n",
       "myelocyte                6675\n",
       "myeloid DC progenitor     110\n",
       "neutrophil               2482\n",
       "pDC                      1134\n",
       "pDC progenitor             63\n",
       "promonocyte              7448\n",
       "promyelocyte             2197\n",
       "tDC                        75\n",
       "dtype: int64"
      ]
     },
     "execution_count": 39,
     "metadata": {},
     "output_type": "execute_result"
    }
   ],
   "source": [
    "cell_numbers = adata.obs.groupby([\"cell.labels\"]).apply(len)\n",
    "cell_numbers"
   ]
  },
  {
   "cell_type": "code",
   "execution_count": 40,
   "metadata": {},
   "outputs": [],
   "source": [
    "adata.obs[\"dataset\"] = \"ABM\""
   ]
  },
  {
   "cell_type": "code",
   "execution_count": 41,
   "metadata": {},
   "outputs": [
    {
     "data": {
      "text/plain": [
       "sample     cell.labels   \n",
       "MantonBM1  CD14 monocyte      755\n",
       "           CD16 monocyte      244\n",
       "           DC1                 55\n",
       "           DC2                 83\n",
       "           DC3                 95\n",
       "                             ... \n",
       "MantonBM6  pDC                305\n",
       "           pDC progenitor      21\n",
       "           promonocyte       2018\n",
       "           promyelocyte       544\n",
       "           tDC                 18\n",
       "Length: 64, dtype: int64"
      ]
     },
     "execution_count": 41,
     "metadata": {},
     "output_type": "execute_result"
    }
   ],
   "source": [
    "cell_numbers = adata.obs.groupby([\"sample\", \"cell.labels\"]).apply(len)\n",
    "pd.DataFrame(cell_numbers).to_csv(\"/Users/b8058304/Documents/PhD_work/Coding/manuscript_figs/resources_for_pipelines/abm_myeloid_nrs_by_sample_20200724.csv\")\n",
    "cell_numbers"
   ]
  },
  {
   "cell_type": "markdown",
   "metadata": {},
   "source": [
    "# Import the CB data"
   ]
  },
  {
   "cell_type": "code",
   "execution_count": 42,
   "metadata": {},
   "outputs": [],
   "source": [
    "adata = sc.read('/Users/b8058304/Documents/PhD_work/Coding/cord_blood/data/cord_blood_raw_dr_20200717.h5ad')"
   ]
  },
  {
   "cell_type": "code",
   "execution_count": 43,
   "metadata": {},
   "outputs": [],
   "source": [
    "cb = adata"
   ]
  },
  {
   "cell_type": "code",
   "execution_count": 44,
   "metadata": {
    "scrolled": true
   },
   "outputs": [
    {
     "data": {
      "text/plain": [
       "AnnData object with n_obs × n_vars = 148442 × 33694 \n",
       "    obs: 'sample', 'lanes', 'mad_prd', 'auto_prd', 'cell.labels', 'cell.labels2', 'leiden', 'percent.mito', 'nGene', 'nUMI', 'cell.labels_20200717'\n",
       "    var: 'gene_ids'\n",
       "    obsm: 'X_orig_pca', 'X_pca', 'X_umap'"
      ]
     },
     "execution_count": 44,
     "metadata": {},
     "output_type": "execute_result"
    }
   ],
   "source": [
    "adata"
   ]
  },
  {
   "cell_type": "code",
   "execution_count": 45,
   "metadata": {
    "scrolled": false
   },
   "outputs": [
    {
     "data": {
      "text/plain": [
       "cell.labels\n",
       "CD8 T cell          16345\n",
       "CD14 monocyte       13324\n",
       "CD16 monocyte         888\n",
       "CD56 bright NK       4066\n",
       "CMP                   272\n",
       "DC1                    67\n",
       "DC2                   155\n",
       "DC precursor          169\n",
       "GMP                   203\n",
       "HSC                   194\n",
       "ILC precursor        1519\n",
       "MEMP                  338\n",
       "MK                   1262\n",
       "early MK              496\n",
       "early erythroid       532\n",
       "late erythroid        878\n",
       "mature NK            7860\n",
       "mid erythroid        2627\n",
       "myelocyte            3726\n",
       "naive B cell        19516\n",
       "naive CD4 T cell    69338\n",
       "neutrophil           3458\n",
       "pDC                   242\n",
       "preDC                 269\n",
       "promonocyte           607\n",
       "tDC                    91\n",
       "dtype: int64"
      ]
     },
     "execution_count": 45,
     "metadata": {},
     "output_type": "execute_result"
    }
   ],
   "source": [
    "cell_numbers = adata.obs.groupby([\"cell.labels\"]).apply(len)\n",
    "cell_numbers"
   ]
  },
  {
   "cell_type": "code",
   "execution_count": 46,
   "metadata": {},
   "outputs": [],
   "source": [
    "adata.obs[\"dataset\"] = \"CB\""
   ]
  },
  {
   "cell_type": "code",
   "execution_count": null,
   "metadata": {},
   "outputs": [],
   "source": []
  },
  {
   "cell_type": "code",
   "execution_count": null,
   "metadata": {},
   "outputs": [],
   "source": []
  },
  {
   "cell_type": "code",
   "execution_count": null,
   "metadata": {},
   "outputs": [],
   "source": []
  },
  {
   "cell_type": "code",
   "execution_count": null,
   "metadata": {},
   "outputs": [],
   "source": []
  },
  {
   "cell_type": "code",
   "execution_count": null,
   "metadata": {},
   "outputs": [],
   "source": []
  },
  {
   "cell_type": "code",
   "execution_count": null,
   "metadata": {},
   "outputs": [],
   "source": []
  },
  {
   "cell_type": "code",
   "execution_count": null,
   "metadata": {},
   "outputs": [],
   "source": []
  },
  {
   "cell_type": "markdown",
   "metadata": {},
   "source": [
    "# Run numbers per sample cross-tissue "
   ]
  },
  {
   "cell_type": "code",
   "execution_count": 47,
   "metadata": {},
   "outputs": [
    {
     "data": {
      "text/plain": [
       "orig.ident\n",
       "F32    1181\n",
       "F35     448\n",
       "F37    8442\n",
       "dtype: int64"
      ]
     },
     "execution_count": 47,
     "metadata": {},
     "output_type": "execute_result"
    }
   ],
   "source": [
    "cell_numbers = ys.obs.groupby([\"orig.ident\"]).apply(len)\n",
    "pd.DataFrame(cell_numbers).to_csv(\"/Users/b8058304/Documents/PhD_work/Coding/manuscript_figs/resources_for_pipelines/ys_by_sample_20200724.csv\")\n",
    "cell_numbers"
   ]
  },
  {
   "cell_type": "code",
   "execution_count": 48,
   "metadata": {},
   "outputs": [
    {
     "data": {
      "text/plain": [
       "orig.ident\n",
       "F16     1135\n",
       "F17     1992\n",
       "F21     6657\n",
       "F22     9958\n",
       "F23     5658\n",
       "F29     5315\n",
       "F30     9730\n",
       "F32     6753\n",
       "F33    16945\n",
       "F34    15401\n",
       "F35     8821\n",
       "F38     9425\n",
       "F41     6904\n",
       "F45     8369\n",
       "dtype: int64"
      ]
     },
     "execution_count": 48,
     "metadata": {},
     "output_type": "execute_result"
    }
   ],
   "source": [
    "cell_numbers = liver.obs.groupby([\"orig.ident\"]).apply(len)\n",
    "pd.DataFrame(cell_numbers).to_csv(\"/Users/b8058304/Documents/PhD_work/Coding/manuscript_figs/resources_for_pipelines/liver_by_sample_20200724.csv\")\n",
    "cell_numbers"
   ]
  },
  {
   "cell_type": "code",
   "execution_count": 49,
   "metadata": {},
   "outputs": [
    {
     "data": {
      "text/plain": [
       "orig.ident\n",
       "F21         3142\n",
       "F29         8162\n",
       "F30        10414\n",
       "F38         3115\n",
       "F41         7910\n",
       "F45         6605\n",
       "F50        15899\n",
       "F51        28997\n",
       "SB19PCW    20318\n",
       "dtype: int64"
      ]
     },
     "execution_count": 49,
     "metadata": {},
     "output_type": "execute_result"
    }
   ],
   "source": [
    "cell_numbers =fbm.obs.groupby([\"orig.ident\"]).apply(len)\n",
    "pd.DataFrame(cell_numbers).to_csv(\"/Users/b8058304/Documents/PhD_work/Coding/manuscript_figs/resources_for_pipelines/fbm_by_sample_20200724.csv\")\n",
    "cell_numbers"
   ]
  },
  {
   "cell_type": "code",
   "execution_count": 50,
   "metadata": {},
   "outputs": [
    {
     "data": {
      "text/plain": [
       "sample\n",
       "MantonBM1    34634\n",
       "MantonBM2    38256\n",
       "MantonBM5    36678\n",
       "MantonBM6    32458\n",
       "dtype: int64"
      ]
     },
     "execution_count": 50,
     "metadata": {},
     "output_type": "execute_result"
    }
   ],
   "source": [
    "cell_numbers = abm.obs.groupby([\"sample\"]).apply(len)\n",
    "pd.DataFrame(cell_numbers).to_csv(\"/Users/b8058304/Documents/PhD_work/Coding/manuscript_figs/resources_for_pipelines/abm_by_sample_20200724.csv\")\n",
    "cell_numbers"
   ]
  },
  {
   "cell_type": "code",
   "execution_count": 51,
   "metadata": {},
   "outputs": [
    {
     "data": {
      "text/plain": [
       "sample\n",
       "MantonCB1    24437\n",
       "MantonCB2    40383\n",
       "MantonCB5    40750\n",
       "MantonCB6    42872\n",
       "dtype: int64"
      ]
     },
     "execution_count": 51,
     "metadata": {},
     "output_type": "execute_result"
    }
   ],
   "source": [
    "cell_numbers = cb.obs.groupby([\"sample\"]).apply(len)\n",
    "pd.DataFrame(cell_numbers).to_csv(\"/Users/b8058304/Documents/PhD_work/Coding/manuscript_figs/resources_for_pipelines/cb_by_sample_20200724.csv\")\n",
    "cell_numbers"
   ]
  },
  {
   "cell_type": "markdown",
   "metadata": {},
   "source": [
    "# Run numbers for all cells per sample cross tissue"
   ]
  },
  {
   "cell_type": "code",
   "execution_count": 52,
   "metadata": {},
   "outputs": [
    {
     "data": {
      "text/plain": [
       "orig.ident  cell.labels            \n",
       "F32         DC progenitor                 1\n",
       "            Early mast cell               9\n",
       "            Erythroid AB                792\n",
       "            Erythroid EZ                 10\n",
       "            Erythroid M                 261\n",
       "            ILC precursor                 9\n",
       "            Lymphoid progenitor          12\n",
       "            MEMP                         16\n",
       "            Monocyte                      2\n",
       "            Myeloid progenitor            3\n",
       "            NK early                      8\n",
       "            yolk sac Macrophage I        22\n",
       "            yolk sac Macrophage II       28\n",
       "            yolk sac progenitor/MPP       8\n",
       "F35         DC progenitor                13\n",
       "            Early mast cell              37\n",
       "            Endothelium                  23\n",
       "            Erythroid EZ                 22\n",
       "            Erythroid M                  11\n",
       "            ILC precursor                15\n",
       "            Lymphoid progenitor          14\n",
       "            MEMP                         66\n",
       "            Monocyte                      7\n",
       "            Myeloid progenitor           14\n",
       "            NK early                     22\n",
       "            yolk sac Macrophage I        22\n",
       "            yolk sac Macrophage II      155\n",
       "            yolk sac progenitor/MPP      27\n",
       "F37         DC progenitor                64\n",
       "            Early mast cell              87\n",
       "            Endothelium                 137\n",
       "            Erythroid AB                100\n",
       "            Erythroid EZ               1135\n",
       "            Erythroid M                   3\n",
       "            ILC precursor                 1\n",
       "            Lymphoid progenitor         158\n",
       "            MEMP                         39\n",
       "            Monocyte                     29\n",
       "            Myeloid progenitor           44\n",
       "            NK early                     20\n",
       "            yolk sac Macrophage I      3019\n",
       "            yolk sac Macrophage II     3436\n",
       "            yolk sac progenitor/MPP     170\n",
       "dtype: int64"
      ]
     },
     "execution_count": 52,
     "metadata": {},
     "output_type": "execute_result"
    }
   ],
   "source": [
    "cell_numbers = ys.obs.groupby([\"orig.ident\", \"cell.labels\"]).apply(len)\n",
    "pd.DataFrame(cell_numbers).to_csv(\"/Users/b8058304/Documents/PhD_work/Coding/manuscript_figs/resources_for_pipelines/ys_by_sample_allcells_20200724.csv\")\n",
    "cell_numbers"
   ]
  },
  {
   "cell_type": "code",
   "execution_count": 53,
   "metadata": {},
   "outputs": [
    {
     "data": {
      "text/plain": [
       "orig.ident  cell.labels_progen\n",
       "F32         CMP                     3\n",
       "            ELP                    12\n",
       "            GMP                     1\n",
       "            HSC                     5\n",
       "            MEMP                    8\n",
       "            MEP                     8\n",
       "            macrophage              2\n",
       "F35         CMP                    11\n",
       "            ELP                    19\n",
       "            GMP                     2\n",
       "            HSC                    19\n",
       "            MEMP                   23\n",
       "            MEP                    38\n",
       "            Monocyte precursor      2\n",
       "            macrophage              1\n",
       "            neut myeloid            6\n",
       "F37         CMP                    41\n",
       "            ELP                   143\n",
       "            GMP                    37\n",
       "            HSC                    81\n",
       "            MEMP                   24\n",
       "            MEP                    10\n",
       "            Monocyte precursor     24\n",
       "            macrophage             39\n",
       "            neut myeloid           12\n",
       "dtype: int64"
      ]
     },
     "execution_count": 53,
     "metadata": {},
     "output_type": "execute_result"
    }
   ],
   "source": [
    "cell_numbers = ys.obs.groupby([\"orig.ident\", \"cell.labels_progen\"]).apply(len)\n",
    "pd.DataFrame(cell_numbers).to_csv(\"/Users/b8058304/Documents/PhD_work/Coding/manuscript_figs/resources_for_pipelines/ys_by_sample_allcells_progenreclus_20200724.csv\")\n",
    "cell_numbers"
   ]
  },
  {
   "cell_type": "code",
   "execution_count": 54,
   "metadata": {},
   "outputs": [
    {
     "data": {
      "text/plain": [
       "orig.ident  cell.labels         \n",
       "F16         B cell                    3\n",
       "            DC1                       3\n",
       "            DC2                      10\n",
       "            DC precursor              1\n",
       "            Early Erythroid         196\n",
       "                                   ... \n",
       "F45         Pre pro B cell           58\n",
       "            VCAM1+ EI macrophage     68\n",
       "            pDC precursor            17\n",
       "            pre-B cell              337\n",
       "            pro-B cell              323\n",
       "Length: 372, dtype: int64"
      ]
     },
     "execution_count": 54,
     "metadata": {},
     "output_type": "execute_result"
    }
   ],
   "source": [
    "cell_numbers = liver.obs.groupby([\"orig.ident\", \"cell.labels\"]).apply(len)\n",
    "pd.DataFrame(cell_numbers).to_csv(\"/Users/b8058304/Documents/PhD_work/Coding/manuscript_figs/resources_for_pipelines/liver_by_sample_allcells_20200724.csv\")\n",
    "cell_numbers"
   ]
  },
  {
   "cell_type": "code",
   "execution_count": 55,
   "metadata": {},
   "outputs": [
    {
     "data": {
      "text/plain": [
       "orig.ident  cell.labels_progen    \n",
       "F16         ELP                        4\n",
       "            GMP                        3\n",
       "            HSC                        1\n",
       "            MEMP                       4\n",
       "            MEP                        9\n",
       "                                      ..\n",
       "F45         eo/baso/mast precursor     8\n",
       "            erythroid-MPP hybrid       1\n",
       "            macrophage                18\n",
       "            myeloid DC progenitor     11\n",
       "            pDC progenitor             4\n",
       "Length: 169, dtype: int64"
      ]
     },
     "execution_count": 55,
     "metadata": {},
     "output_type": "execute_result"
    }
   ],
   "source": [
    "cell_numbers = liver.obs.groupby([\"orig.ident\", \"cell.labels_progen\"]).apply(len)\n",
    "pd.DataFrame(cell_numbers).to_csv(\"/Users/b8058304/Documents/PhD_work/Coding/manuscript_figs/resources_for_pipelines/liver_by_sample_allcells_progenreclus_20200724.csv\")\n",
    "cell_numbers"
   ]
  },
  {
   "cell_type": "code",
   "execution_count": 56,
   "metadata": {},
   "outputs": [
    {
     "data": {
      "text/plain": [
       "orig.ident  cell.labels       \n",
       "F21         CD4 T cell             12\n",
       "            CD8 T cell             13\n",
       "            CD14 monocyte         217\n",
       "            CD56 bright NK          6\n",
       "            CMP                    19\n",
       "                                 ... \n",
       "SB19PCW     promyelocyte          667\n",
       "            schwann cells           8\n",
       "            sinusoidal EC          42\n",
       "            stromal macrophage     40\n",
       "            tip EC                105\n",
       "Length: 529, dtype: int64"
      ]
     },
     "execution_count": 56,
     "metadata": {},
     "output_type": "execute_result"
    }
   ],
   "source": [
    "cell_numbers =fbm.obs.groupby([\"orig.ident\", \"cell.labels\"]).apply(len)\n",
    "pd.DataFrame(cell_numbers).to_csv(\"/Users/b8058304/Documents/PhD_work/Coding/manuscript_figs/resources_for_pipelines/fbm_by_sample_allcells_20200724.csv\")\n",
    "cell_numbers"
   ]
  },
  {
   "cell_type": "code",
   "execution_count": 57,
   "metadata": {},
   "outputs": [
    {
     "data": {
      "text/plain": [
       "sample     cell.labels        \n",
       "MantonBM1  CD14 monocyte          755\n",
       "           CD16 monocyte          244\n",
       "           CD56 bright NK         240\n",
       "           CLP                    195\n",
       "           CMP                     79\n",
       "                                 ... \n",
       "MantonBM6  promyelocyte           544\n",
       "           stroma                  37\n",
       "           tDC                     18\n",
       "           transitional B cell    204\n",
       "           transitional NK        130\n",
       "Length: 176, dtype: int64"
      ]
     },
     "execution_count": 57,
     "metadata": {},
     "output_type": "execute_result"
    }
   ],
   "source": [
    "cell_numbers = abm.obs.groupby([\"sample\", \"cell.labels\"]).apply(len)\n",
    "pd.DataFrame(cell_numbers).to_csv(\"/Users/b8058304/Documents/PhD_work/Coding/manuscript_figs/resources_for_pipelines/abm_by_sample_allcells_20200724.csv\")\n",
    "cell_numbers"
   ]
  },
  {
   "cell_type": "code",
   "execution_count": 58,
   "metadata": {},
   "outputs": [
    {
     "data": {
      "text/plain": [
       "sample     cell.labels   \n",
       "MantonCB1  CD8 T cell        1739\n",
       "           CD14 monocyte     5633\n",
       "           CD16 monocyte      242\n",
       "           CD56 bright NK     543\n",
       "           CMP                 50\n",
       "                             ... \n",
       "MantonCB6  neutrophil        1719\n",
       "           pDC                 74\n",
       "           preDC              146\n",
       "           promonocyte        219\n",
       "           tDC                 63\n",
       "Length: 104, dtype: int64"
      ]
     },
     "execution_count": 58,
     "metadata": {},
     "output_type": "execute_result"
    }
   ],
   "source": [
    "cell_numbers = cb.obs.groupby([\"sample\", \"cell.labels\"]).apply(len)\n",
    "pd.DataFrame(cell_numbers).to_csv(\"/Users/b8058304/Documents/PhD_work/Coding/manuscript_figs/resources_for_pipelines/cb_by_sample_allcells_20200724.csv\")\n",
    "cell_numbers"
   ]
  },
  {
   "cell_type": "code",
   "execution_count": null,
   "metadata": {},
   "outputs": [],
   "source": []
  },
  {
   "cell_type": "code",
   "execution_count": null,
   "metadata": {},
   "outputs": [],
   "source": []
  },
  {
   "cell_type": "code",
   "execution_count": null,
   "metadata": {},
   "outputs": [],
   "source": []
  },
  {
   "cell_type": "code",
   "execution_count": null,
   "metadata": {},
   "outputs": [],
   "source": []
  },
  {
   "cell_type": "code",
   "execution_count": null,
   "metadata": {},
   "outputs": [],
   "source": []
  },
  {
   "cell_type": "code",
   "execution_count": null,
   "metadata": {},
   "outputs": [],
   "source": []
  },
  {
   "cell_type": "code",
   "execution_count": null,
   "metadata": {},
   "outputs": [],
   "source": []
  },
  {
   "cell_type": "markdown",
   "metadata": {},
   "source": [
    "# Rerun after neut myeloid/monocyte precursor reclustering of FL"
   ]
  },
  {
   "cell_type": "code",
   "execution_count": 1,
   "metadata": {},
   "outputs": [
    {
     "name": "stderr",
     "output_type": "stream",
     "text": [
      "/Users/b8058304/.pyenv/versions/3.6.4/envs/py36/lib/python3.6/site-packages/anndata/_core/anndata.py:21: FutureWarning: pandas.core.index is deprecated and will be removed in a future version.  The public classes are available in the top-level namespace.\n",
      "  from pandas.core.index import RangeIndex\n"
     ]
    }
   ],
   "source": [
    "import numpy as np\n",
    "import pandas as pd\n",
    "import scanpy as sc\n",
    "import seaborn as sns\n",
    "import scipy.stats\n",
    "import anndata\n",
    "import matplotlib.pyplot as plt\n",
    "import matplotlib as mpl\n",
    "from matplotlib.axes._axes import _log as matplotlib_axes_logger\n",
    "from scipy import sparse\n",
    "matplotlib_axes_logger.setLevel('ERROR')\n",
    "# silence NumbaPerformanceWarning\n",
    "import warnings\n",
    "from numba.errors import NumbaPerformanceWarning\n",
    "warnings.filterwarnings(\"ignore\", category=NumbaPerformanceWarning)"
   ]
  },
  {
   "cell_type": "code",
   "execution_count": 2,
   "metadata": {},
   "outputs": [
    {
     "name": "stdout",
     "output_type": "stream",
     "text": [
      "scanpy==1.4.4 anndata==0.7.1 umap==0.3.10 numpy==1.17.1 scipy==1.4.1 pandas==1.0.5 scikit-learn==0.22.2.post1 statsmodels==0.11.1 python-igraph==0.8.0 louvain==0.6.1\n"
     ]
    }
   ],
   "source": [
    "sc.settings.verbosity = 1  # verbosity: errors (0), warnings (1), info (2), hints (3)\n",
    "# Set up the plot config for viewing the annotation clearly.\n",
    "sc.settings.set_figure_params(dpi=120, dpi_save=1000)\n",
    "sc.logging.print_versions()"
   ]
  },
  {
   "cell_type": "code",
   "execution_count": 4,
   "metadata": {},
   "outputs": [],
   "source": [
    "adata=sc.read(\"/Users/b8058304/Documents/PhD_work/Coding/manuscript_figs/data/fig2_fl_myeloid_reannotation_20200722.h5ad\")"
   ]
  },
  {
   "cell_type": "code",
   "execution_count": 5,
   "metadata": {},
   "outputs": [
    {
     "data": {
      "text/plain": [
       "orig.ident  cell.labels \n",
       "F16         MOP              5\n",
       "            promonocyte      1\n",
       "F17         MOP             11\n",
       "            monocyte         3\n",
       "            promonocyte      8\n",
       "            promyelocyte    11\n",
       "F21         MOP             20\n",
       "            monocyte         8\n",
       "            promonocyte      6\n",
       "            promyelocyte     9\n",
       "F22         MOP             29\n",
       "            monocyte        14\n",
       "            promonocyte      4\n",
       "            promyelocyte    22\n",
       "F23         MOP             14\n",
       "            monocyte        20\n",
       "            promonocyte      5\n",
       "            promyelocyte    11\n",
       "F29         MOP             12\n",
       "            monocyte         3\n",
       "            promonocyte      2\n",
       "            promyelocyte    11\n",
       "F30         MOP             16\n",
       "            monocyte        34\n",
       "            promonocyte     12\n",
       "            promyelocyte    13\n",
       "F32         MOP             15\n",
       "            monocyte        30\n",
       "            promonocyte     11\n",
       "            promyelocyte     9\n",
       "F33         MOP             46\n",
       "            monocyte        41\n",
       "            promonocyte     15\n",
       "            promyelocyte    33\n",
       "F34         MOP             51\n",
       "            monocyte        41\n",
       "            promonocyte     11\n",
       "            promyelocyte    30\n",
       "F35         MOP             31\n",
       "            monocyte        26\n",
       "            promonocyte      6\n",
       "            promyelocyte    23\n",
       "F38         MOP             21\n",
       "            monocyte        15\n",
       "            promonocyte      7\n",
       "            promyelocyte    18\n",
       "F41         MOP              8\n",
       "            monocyte        13\n",
       "            promonocyte      4\n",
       "            promyelocyte    10\n",
       "F45         MOP             58\n",
       "            monocyte        57\n",
       "            promonocyte     15\n",
       "            promyelocyte    59\n",
       "dtype: int64"
      ]
     },
     "execution_count": 5,
     "metadata": {},
     "output_type": "execute_result"
    }
   ],
   "source": [
    "cell_numbers = adata.obs.groupby([\"orig.ident\", \"cell.labels\"]).apply(len)\n",
    "pd.DataFrame(cell_numbers).to_csv(\"/Users/b8058304/Documents/PhD_work/Coding/manuscript_figs/resources_for_pipelines/liver_by_sample_neut_myeloid_mono_pre_reclus_20200727.csv\")\n",
    "cell_numbers"
   ]
  },
  {
   "cell_type": "code",
   "execution_count": null,
   "metadata": {},
   "outputs": [],
   "source": []
  },
  {
   "cell_type": "code",
   "execution_count": null,
   "metadata": {},
   "outputs": [],
   "source": []
  },
  {
   "cell_type": "code",
   "execution_count": null,
   "metadata": {},
   "outputs": [],
   "source": []
  },
  {
   "cell_type": "code",
   "execution_count": null,
   "metadata": {},
   "outputs": [],
   "source": []
  }
 ],
 "metadata": {
  "kernelspec": {
   "display_name": "Python 3",
   "language": "python",
   "name": "python3"
  },
  "language_info": {
   "codemirror_mode": {
    "name": "ipython",
    "version": 3
   },
   "file_extension": ".py",
   "mimetype": "text/x-python",
   "name": "python",
   "nbconvert_exporter": "python",
   "pygments_lexer": "ipython3",
   "version": "3.6.4"
  }
 },
 "nbformat": 4,
 "nbformat_minor": 4
}
