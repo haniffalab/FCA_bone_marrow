{
 "cells": [
  {
   "cell_type": "markdown",
   "metadata": {},
   "source": [
    "# Import packages and data "
   ]
  },
  {
   "cell_type": "code",
   "execution_count": 1,
   "metadata": {},
   "outputs": [
    {
     "name": "stderr",
     "output_type": "stream",
     "text": [
      "/Users/b8058304/.pyenv/versions/3.6.4/envs/py36/lib/python3.6/site-packages/anndata/_core/anndata.py:21: FutureWarning: pandas.core.index is deprecated and will be removed in a future version.  The public classes are available in the top-level namespace.\n",
      "  from pandas.core.index import RangeIndex\n"
     ]
    }
   ],
   "source": [
    "import numpy as np\n",
    "import pandas as pd\n",
    "import scanpy as sc\n",
    "import seaborn as sns\n",
    "import scipy.stats\n",
    "import anndata\n",
    "import matplotlib.pyplot as plt\n",
    "import matplotlib as mpl\n",
    "from matplotlib.axes._axes import _log as matplotlib_axes_logger\n",
    "from scipy import sparse\n",
    "matplotlib_axes_logger.setLevel('ERROR')"
   ]
  },
  {
   "cell_type": "code",
   "execution_count": 2,
   "metadata": {},
   "outputs": [
    {
     "name": "stdout",
     "output_type": "stream",
     "text": [
      "scanpy==1.4.4 anndata==0.7.1 umap==0.3.10 numpy==1.17.1 scipy==1.4.1 pandas==1.0.5 scikit-learn==0.22.2.post1 statsmodels==0.11.1 python-igraph==0.8.0 louvain==0.6.1\n"
     ]
    }
   ],
   "source": [
    "sc.settings.verbosity = 1  # verbosity: errors (0), warnings (1), info (2), hints (3)\n",
    "# Set up the plot config for viewing the annotation clearly.\n",
    "sc.settings.set_figure_params(dpi=120, dpi_save=1000)\n",
    "sc.logging.print_versions()"
   ]
  },
  {
   "cell_type": "markdown",
   "metadata": {},
   "source": [
    "# Load FL GMP"
   ]
  },
  {
   "cell_type": "code",
   "execution_count": 3,
   "metadata": {},
   "outputs": [],
   "source": [
    "adata = sc.read('/Users/b8058304/Documents/PhD_work/Coding/liver/data/fetal_liver_alladata_Copy1.h5ad')"
   ]
  },
  {
   "cell_type": "code",
   "execution_count": 4,
   "metadata": {},
   "outputs": [],
   "source": [
    "adata.raw = adata"
   ]
  },
  {
   "cell_type": "code",
   "execution_count": 5,
   "metadata": {},
   "outputs": [],
   "source": [
    "adata.obs[\"tissue\"] = \"liver\""
   ]
  },
  {
   "cell_type": "code",
   "execution_count": 6,
   "metadata": {},
   "outputs": [
    {
     "data": {
      "text/plain": [
       "cell.labels\n",
       "B cell                            1079\n",
       "DC1                                336\n",
       "DC2                               3954\n",
       "DC precursor                       330\n",
       "Early Erythroid                  11985\n",
       "Early lymphoid_T lymphocyte        767\n",
       "Endothelial cell                  3348\n",
       "Fibroblast                        1713\n",
       "HSC_MPP                           3439\n",
       "Hepatocyte                        2479\n",
       "ILC precursor                     1726\n",
       "Kupffer Cell                     24841\n",
       "Late Erythroid                    3180\n",
       "MEMP                              1342\n",
       "Mast cell                         1308\n",
       "Megakaryocyte                     3983\n",
       "Mid Erythroid                    27000\n",
       "Mono-Mac                          6590\n",
       "Monocyte                          2586\n",
       "Monocyte precursor                 350\n",
       "NK                                6706\n",
       "Neutrophil-myeloid progenitor      658\n",
       "Pre pro B cell                     234\n",
       "VCAM1+ EI macrophage               161\n",
       "pDC precursor                      253\n",
       "pre-B cell                        1332\n",
       "pro-B cell                        1383\n",
       "dtype: int64"
      ]
     },
     "execution_count": 6,
     "metadata": {},
     "output_type": "execute_result"
    }
   ],
   "source": [
    "cell_numbers = adata.obs.groupby([\"cell.labels\"]).apply(len)\n",
    "cell_numbers"
   ]
  },
  {
   "cell_type": "code",
   "execution_count": 7,
   "metadata": {},
   "outputs": [],
   "source": [
    "adata = adata[adata.obs['cell.labels_progen'].isin(['GMP'])].copy()"
   ]
  },
  {
   "cell_type": "code",
   "execution_count": 8,
   "metadata": {},
   "outputs": [
    {
     "data": {
      "text/plain": [
       "cell.labels_progen\n",
       "GMP    362\n",
       "dtype: int64"
      ]
     },
     "execution_count": 8,
     "metadata": {},
     "output_type": "execute_result"
    }
   ],
   "source": [
    "cell_numbers = adata.obs.groupby(['cell.labels_progen']).apply(len)\n",
    "cell_numbers"
   ]
  },
  {
   "cell_type": "code",
   "execution_count": 9,
   "metadata": {},
   "outputs": [],
   "source": [
    "adata.obs[\"cell.labels\"] = \"GMP\""
   ]
  },
  {
   "cell_type": "code",
   "execution_count": 10,
   "metadata": {},
   "outputs": [],
   "source": [
    "adata.obs[\"tissue\"] = \"liver\"\n",
    "adata.obs[\"tissue_cell.labels\"] = adata.obs[\"tissue\"].astype(str) + '_' + adata.obs[\"cell.labels\"].astype(str)"
   ]
  },
  {
   "cell_type": "code",
   "execution_count": 11,
   "metadata": {},
   "outputs": [
    {
     "data": {
      "text/plain": [
       "tissue_cell.labels\n",
       "liver_GMP    362\n",
       "dtype: int64"
      ]
     },
     "execution_count": 11,
     "metadata": {},
     "output_type": "execute_result"
    }
   ],
   "source": [
    "cell_numbers = adata.obs.groupby([\"tissue_cell.labels\"]).apply(len)\n",
    "cell_numbers"
   ]
  },
  {
   "cell_type": "code",
   "execution_count": 12,
   "metadata": {},
   "outputs": [],
   "source": [
    "liver = adata"
   ]
  },
  {
   "cell_type": "markdown",
   "metadata": {},
   "source": [
    "# Load FBM neut myeloid"
   ]
  },
  {
   "cell_type": "code",
   "execution_count": 13,
   "metadata": {},
   "outputs": [],
   "source": [
    "adata = sc.read('/Users/b8058304/Documents/PhD_work/Coding/bm_plus_19pcw/data/bm_plus_19pcw_raw_dr_20200713.h5ad')"
   ]
  },
  {
   "cell_type": "code",
   "execution_count": 14,
   "metadata": {},
   "outputs": [],
   "source": [
    "adata.raw = adata"
   ]
  },
  {
   "cell_type": "code",
   "execution_count": 15,
   "metadata": {},
   "outputs": [
    {
     "data": {
      "text/plain": [
       "cell.labels\n",
       "CD4 T cell             327\n",
       "CD8 T cell             171\n",
       "CD14 monocyte         8787\n",
       "CD56 bright NK         540\n",
       "CMP                    425\n",
       "                      ... \n",
       "schwann cells            9\n",
       "sinusoidal EC          550\n",
       "stromal macrophage    1493\n",
       "tDC                    193\n",
       "tip EC                 363\n",
       "Length: 64, dtype: int64"
      ]
     },
     "execution_count": 15,
     "metadata": {},
     "output_type": "execute_result"
    }
   ],
   "source": [
    "cell_numbers = adata.obs.groupby([\"cell.labels\"]).apply(len)\n",
    "cell_numbers"
   ]
  },
  {
   "cell_type": "code",
   "execution_count": 16,
   "metadata": {},
   "outputs": [],
   "source": [
    "adata.obs[\"tissue\"] = \"fbm\""
   ]
  },
  {
   "cell_type": "code",
   "execution_count": 17,
   "metadata": {},
   "outputs": [],
   "source": [
    "adata = adata[adata.obs['cell.labels'].isin(['GMP'])].copy()"
   ]
  },
  {
   "cell_type": "code",
   "execution_count": 18,
   "metadata": {},
   "outputs": [
    {
     "data": {
      "text/plain": [
       "cell.labels\n",
       "GMP    1285\n",
       "dtype: int64"
      ]
     },
     "execution_count": 18,
     "metadata": {},
     "output_type": "execute_result"
    }
   ],
   "source": [
    "cell_numbers = adata.obs.groupby([\"cell.labels\"]).apply(len)\n",
    "cell_numbers"
   ]
  },
  {
   "cell_type": "code",
   "execution_count": 19,
   "metadata": {},
   "outputs": [],
   "source": [
    "adata.obs[\"tissue\"] = \"fbm\"\n",
    "adata.obs[\"tissue_cell.labels\"] = adata.obs[\"tissue\"].astype(str) + '_' + adata.obs[\"cell.labels\"].astype(str)"
   ]
  },
  {
   "cell_type": "code",
   "execution_count": 20,
   "metadata": {},
   "outputs": [
    {
     "data": {
      "text/plain": [
       "tissue_cell.labels\n",
       "fbm_GMP    1285\n",
       "dtype: int64"
      ]
     },
     "execution_count": 20,
     "metadata": {},
     "output_type": "execute_result"
    }
   ],
   "source": [
    "cell_numbers = adata.obs.groupby([\"tissue_cell.labels\"]).apply(len)\n",
    "cell_numbers"
   ]
  },
  {
   "cell_type": "code",
   "execution_count": 21,
   "metadata": {},
   "outputs": [],
   "source": [
    "fbm = adata"
   ]
  },
  {
   "cell_type": "markdown",
   "metadata": {},
   "source": [
    "# Merge the GMP datasets"
   ]
  },
  {
   "cell_type": "code",
   "execution_count": 22,
   "metadata": {},
   "outputs": [],
   "source": [
    "merged = liver.concatenate(fbm, index_unique=None, join='outer')"
   ]
  },
  {
   "cell_type": "code",
   "execution_count": 23,
   "metadata": {},
   "outputs": [
    {
     "data": {
      "text/plain": [
       "(1647, 33713)"
      ]
     },
     "execution_count": 23,
     "metadata": {},
     "output_type": "execute_result"
    }
   ],
   "source": [
    "merged.shape"
   ]
  },
  {
   "cell_type": "code",
   "execution_count": 24,
   "metadata": {},
   "outputs": [
    {
     "data": {
      "text/plain": [
       "tissue_cell.labels\n",
       "fbm_GMP      1285\n",
       "liver_GMP     362\n",
       "dtype: int64"
      ]
     },
     "execution_count": 24,
     "metadata": {},
     "output_type": "execute_result"
    }
   ],
   "source": [
    "pd.set_option('display.max_rows', 500)\n",
    "pd.set_option('display.max_columns', 500)\n",
    "pd.set_option('display.width', 1000)\n",
    "cell_numbers = merged.obs.groupby([\"tissue_cell.labels\"]).apply(len)\n",
    "cell_numbers"
   ]
  },
  {
   "cell_type": "code",
   "execution_count": 25,
   "metadata": {},
   "outputs": [
    {
     "data": {
      "text/plain": [
       "AnnData object with n_obs × n_vars = 1647 × 33713 \n",
       "    obs: 'AnnatomicalPart', 'april_cell.labels', 'batch', 'cell.labels', 'cell.labels_20200708', 'cell.labels_20200713', 'cell.labels_progen', 'combined.labels', 'doublets', 'fetal.ids', 'gender', 'is_doublet', 'is_doublet_poptrim', 'is_doublet_wolock', 'lanes', 'nGene', 'nUMI', 'n_counts', 'orig.ident', 'percent.mito', 'processing.type', 'sample', 'sample.type', 'scrublet_cluster_score', 'scrublet_score', 'sequencing.type', 'sort.ids', 'stages', 'tissue', 'tissue_cell.labels'\n",
       "    var: 'gene_ids-1-1', 'feature_types-1-1'\n",
       "    obsm: 'X_umap'"
      ]
     },
     "execution_count": 25,
     "metadata": {},
     "output_type": "execute_result"
    }
   ],
   "source": [
    "merged"
   ]
  },
  {
   "cell_type": "markdown",
   "metadata": {},
   "source": [
    "# Pre-process the datasets (no dimensional reduction)"
   ]
  },
  {
   "cell_type": "code",
   "execution_count": 26,
   "metadata": {},
   "outputs": [],
   "source": [
    "adata = merged"
   ]
  },
  {
   "cell_type": "code",
   "execution_count": 27,
   "metadata": {},
   "outputs": [
    {
     "data": {
      "text/plain": [
       "(1647, 33713)"
      ]
     },
     "execution_count": 27,
     "metadata": {},
     "output_type": "execute_result"
    }
   ],
   "source": [
    "adata.shape"
   ]
  },
  {
   "cell_type": "code",
   "execution_count": 28,
   "metadata": {},
   "outputs": [
    {
     "data": {
      "text/plain": [
       "<1647x33713 sparse matrix of type '<class 'numpy.float32'>'\n",
       "\twith 5952852 stored elements in Compressed Sparse Row format>"
      ]
     },
     "execution_count": 28,
     "metadata": {},
     "output_type": "execute_result"
    }
   ],
   "source": [
    "adata.X"
   ]
  },
  {
   "cell_type": "code",
   "execution_count": 29,
   "metadata": {},
   "outputs": [],
   "source": [
    "adata.X = np.nan_to_num(adata.X, copy=False)"
   ]
  },
  {
   "cell_type": "code",
   "execution_count": 30,
   "metadata": {},
   "outputs": [
    {
     "data": {
      "text/plain": [
       "<1647x33713 sparse matrix of type '<class 'numpy.float32'>'\n",
       "\twith 5952852 stored elements in Compressed Sparse Row format>"
      ]
     },
     "execution_count": 30,
     "metadata": {},
     "output_type": "execute_result"
    }
   ],
   "source": [
    "adata.X"
   ]
  },
  {
   "cell_type": "code",
   "execution_count": 31,
   "metadata": {},
   "outputs": [],
   "source": [
    "# have a look at raw GEX values\n",
    "#adata.X.toarray()"
   ]
  },
  {
   "cell_type": "code",
   "execution_count": 32,
   "metadata": {},
   "outputs": [],
   "source": [
    "# Add 0.01 to all raw values to ensure that ratio can be run for cells with zero expression of one TF\n",
    "#adata.X = adata.X.toarray() + 0.01\n",
    "#adata.X"
   ]
  },
  {
   "cell_type": "code",
   "execution_count": 33,
   "metadata": {},
   "outputs": [],
   "source": [
    "# normalise count data \n",
    "sc.pp.normalize_total(adata)"
   ]
  },
  {
   "cell_type": "code",
   "execution_count": 34,
   "metadata": {},
   "outputs": [],
   "source": [
    "# log the count data \n",
    "sc.pp.log1p(adata)"
   ]
  },
  {
   "cell_type": "code",
   "execution_count": 35,
   "metadata": {},
   "outputs": [],
   "source": [
    "# find variable genes\n",
    "sc.pp.highly_variable_genes(adata, min_mean=0.0125, max_mean=3, min_disp=0.5) "
   ]
  },
  {
   "cell_type": "code",
   "execution_count": 36,
   "metadata": {},
   "outputs": [],
   "source": [
    "# scale the data \n",
    "sc.pp.scale(adata, max_value=10)"
   ]
  },
  {
   "cell_type": "code",
   "execution_count": 37,
   "metadata": {},
   "outputs": [],
   "source": [
    "# scale the negative values in adata.X (which have been normalised, logged and scaled) to zero \n",
    "adata.X = np.where(adata.X < 0, 0.01, adata.X)"
   ]
  },
  {
   "cell_type": "markdown",
   "metadata": {},
   "source": [
    "# Save the transformed GEX for SPIB/CEBPA along with tissue and sample"
   ]
  },
  {
   "cell_type": "code",
   "execution_count": 38,
   "metadata": {},
   "outputs": [
    {
     "data": {
      "text/html": [
       "<div>\n",
       "<style scoped>\n",
       "    .dataframe tbody tr th:only-of-type {\n",
       "        vertical-align: middle;\n",
       "    }\n",
       "\n",
       "    .dataframe tbody tr th {\n",
       "        vertical-align: top;\n",
       "    }\n",
       "\n",
       "    .dataframe thead th {\n",
       "        text-align: right;\n",
       "    }\n",
       "</style>\n",
       "<table border=\"1\" class=\"dataframe\">\n",
       "  <thead>\n",
       "    <tr style=\"text-align: right;\">\n",
       "      <th></th>\n",
       "      <th>tissue_cell.labels</th>\n",
       "      <th>orig.ident</th>\n",
       "    </tr>\n",
       "    <tr>\n",
       "      <th>index</th>\n",
       "      <th></th>\n",
       "      <th></th>\n",
       "    </tr>\n",
       "  </thead>\n",
       "  <tbody>\n",
       "    <tr>\n",
       "      <th>F45_liver_CD45-_FCAImmP7579223_CGTAGCGAGTACCGGA</th>\n",
       "      <td>liver_GMP</td>\n",
       "      <td>F45</td>\n",
       "    </tr>\n",
       "    <tr>\n",
       "      <th>F30_liver_CD45-_FCAImmP7277561_CTTAACTGTCGCGGTT</th>\n",
       "      <td>liver_GMP</td>\n",
       "      <td>F30</td>\n",
       "    </tr>\n",
       "    <tr>\n",
       "      <th>F34_liver_CD45-_FCAImmP7352195_CACACTCAGCTAGCCC</th>\n",
       "      <td>liver_GMP</td>\n",
       "      <td>F34</td>\n",
       "    </tr>\n",
       "    <tr>\n",
       "      <th>F45_liver_CD45+_FCAImmP7579210_GAACCTACAGTATCTG</th>\n",
       "      <td>liver_GMP</td>\n",
       "      <td>F45</td>\n",
       "    </tr>\n",
       "    <tr>\n",
       "      <th>F45_liver_CD45-_FCAImmP7579223_ACTGAACTCAGAGGTG</th>\n",
       "      <td>liver_GMP</td>\n",
       "      <td>F45</td>\n",
       "    </tr>\n",
       "    <tr>\n",
       "      <th>...</th>\n",
       "      <td>...</td>\n",
       "      <td>...</td>\n",
       "    </tr>\n",
       "    <tr>\n",
       "      <th>CCACGTTCAATACAGA-1-WSSS_F_BON8710642</th>\n",
       "      <td>fbm_GMP</td>\n",
       "      <td>SB19PCW</td>\n",
       "    </tr>\n",
       "    <tr>\n",
       "      <th>CGTTAGAAGGATCATA-1-WSSS_F_BON8710642</th>\n",
       "      <td>fbm_GMP</td>\n",
       "      <td>SB19PCW</td>\n",
       "    </tr>\n",
       "    <tr>\n",
       "      <th>GACTTCCTCTACGGGC-1-WSSS_F_BON8710642</th>\n",
       "      <td>fbm_GMP</td>\n",
       "      <td>SB19PCW</td>\n",
       "    </tr>\n",
       "    <tr>\n",
       "      <th>TTCTGTAAGTCAACAA-1-WSSS_F_BON8710642</th>\n",
       "      <td>fbm_GMP</td>\n",
       "      <td>SB19PCW</td>\n",
       "    </tr>\n",
       "    <tr>\n",
       "      <th>ACACGCGCACCTATCC-1-WSSS_F_BON8710643</th>\n",
       "      <td>fbm_GMP</td>\n",
       "      <td>SB19PCW</td>\n",
       "    </tr>\n",
       "  </tbody>\n",
       "</table>\n",
       "<p>1647 rows × 2 columns</p>\n",
       "</div>"
      ],
      "text/plain": [
       "                                                tissue_cell.labels orig.ident\n",
       "index                                                                        \n",
       "F45_liver_CD45-_FCAImmP7579223_CGTAGCGAGTACCGGA          liver_GMP        F45\n",
       "F30_liver_CD45-_FCAImmP7277561_CTTAACTGTCGCGGTT          liver_GMP        F30\n",
       "F34_liver_CD45-_FCAImmP7352195_CACACTCAGCTAGCCC          liver_GMP        F34\n",
       "F45_liver_CD45+_FCAImmP7579210_GAACCTACAGTATCTG          liver_GMP        F45\n",
       "F45_liver_CD45-_FCAImmP7579223_ACTGAACTCAGAGGTG          liver_GMP        F45\n",
       "...                                                            ...        ...\n",
       "CCACGTTCAATACAGA-1-WSSS_F_BON8710642                       fbm_GMP    SB19PCW\n",
       "CGTTAGAAGGATCATA-1-WSSS_F_BON8710642                       fbm_GMP    SB19PCW\n",
       "GACTTCCTCTACGGGC-1-WSSS_F_BON8710642                       fbm_GMP    SB19PCW\n",
       "TTCTGTAAGTCAACAA-1-WSSS_F_BON8710642                       fbm_GMP    SB19PCW\n",
       "ACACGCGCACCTATCC-1-WSSS_F_BON8710643                       fbm_GMP    SB19PCW\n",
       "\n",
       "[1647 rows x 2 columns]"
      ]
     },
     "execution_count": 38,
     "metadata": {},
     "output_type": "execute_result"
    }
   ],
   "source": [
    "metadata_df = pd.DataFrame(adata.obs[[\"tissue_cell.labels\", \"orig.ident\"]])\n",
    "metadata_df"
   ]
  },
  {
   "cell_type": "code",
   "execution_count": 39,
   "metadata": {
    "scrolled": true
   },
   "outputs": [
    {
     "data": {
      "text/html": [
       "<div>\n",
       "<style scoped>\n",
       "    .dataframe tbody tr th:only-of-type {\n",
       "        vertical-align: middle;\n",
       "    }\n",
       "\n",
       "    .dataframe tbody tr th {\n",
       "        vertical-align: top;\n",
       "    }\n",
       "\n",
       "    .dataframe thead th {\n",
       "        text-align: right;\n",
       "    }\n",
       "</style>\n",
       "<table border=\"1\" class=\"dataframe\">\n",
       "  <thead>\n",
       "    <tr style=\"text-align: right;\">\n",
       "      <th></th>\n",
       "      <th>SPIB</th>\n",
       "      <th>CEBPA</th>\n",
       "    </tr>\n",
       "    <tr>\n",
       "      <th>index</th>\n",
       "      <th></th>\n",
       "      <th></th>\n",
       "    </tr>\n",
       "  </thead>\n",
       "  <tbody>\n",
       "    <tr>\n",
       "      <th>F45_liver_CD45-_FCAImmP7579223_CGTAGCGAGTACCGGA</th>\n",
       "      <td>0.01</td>\n",
       "      <td>0.010000</td>\n",
       "    </tr>\n",
       "    <tr>\n",
       "      <th>F30_liver_CD45-_FCAImmP7277561_CTTAACTGTCGCGGTT</th>\n",
       "      <td>0.01</td>\n",
       "      <td>0.010000</td>\n",
       "    </tr>\n",
       "    <tr>\n",
       "      <th>F34_liver_CD45-_FCAImmP7352195_CACACTCAGCTAGCCC</th>\n",
       "      <td>0.01</td>\n",
       "      <td>0.010000</td>\n",
       "    </tr>\n",
       "    <tr>\n",
       "      <th>F45_liver_CD45+_FCAImmP7579210_GAACCTACAGTATCTG</th>\n",
       "      <td>0.01</td>\n",
       "      <td>0.675299</td>\n",
       "    </tr>\n",
       "    <tr>\n",
       "      <th>F45_liver_CD45-_FCAImmP7579223_ACTGAACTCAGAGGTG</th>\n",
       "      <td>0.01</td>\n",
       "      <td>0.010000</td>\n",
       "    </tr>\n",
       "    <tr>\n",
       "      <th>...</th>\n",
       "      <td>...</td>\n",
       "      <td>...</td>\n",
       "    </tr>\n",
       "    <tr>\n",
       "      <th>CCACGTTCAATACAGA-1-WSSS_F_BON8710642</th>\n",
       "      <td>0.01</td>\n",
       "      <td>0.617371</td>\n",
       "    </tr>\n",
       "    <tr>\n",
       "      <th>CGTTAGAAGGATCATA-1-WSSS_F_BON8710642</th>\n",
       "      <td>0.01</td>\n",
       "      <td>0.010000</td>\n",
       "    </tr>\n",
       "    <tr>\n",
       "      <th>GACTTCCTCTACGGGC-1-WSSS_F_BON8710642</th>\n",
       "      <td>0.01</td>\n",
       "      <td>0.010000</td>\n",
       "    </tr>\n",
       "    <tr>\n",
       "      <th>TTCTGTAAGTCAACAA-1-WSSS_F_BON8710642</th>\n",
       "      <td>0.01</td>\n",
       "      <td>0.705829</td>\n",
       "    </tr>\n",
       "    <tr>\n",
       "      <th>ACACGCGCACCTATCC-1-WSSS_F_BON8710643</th>\n",
       "      <td>0.01</td>\n",
       "      <td>0.010000</td>\n",
       "    </tr>\n",
       "  </tbody>\n",
       "</table>\n",
       "<p>1647 rows × 2 columns</p>\n",
       "</div>"
      ],
      "text/plain": [
       "                                                 SPIB     CEBPA\n",
       "index                                                          \n",
       "F45_liver_CD45-_FCAImmP7579223_CGTAGCGAGTACCGGA  0.01  0.010000\n",
       "F30_liver_CD45-_FCAImmP7277561_CTTAACTGTCGCGGTT  0.01  0.010000\n",
       "F34_liver_CD45-_FCAImmP7352195_CACACTCAGCTAGCCC  0.01  0.010000\n",
       "F45_liver_CD45+_FCAImmP7579210_GAACCTACAGTATCTG  0.01  0.675299\n",
       "F45_liver_CD45-_FCAImmP7579223_ACTGAACTCAGAGGTG  0.01  0.010000\n",
       "...                                               ...       ...\n",
       "CCACGTTCAATACAGA-1-WSSS_F_BON8710642             0.01  0.617371\n",
       "CGTTAGAAGGATCATA-1-WSSS_F_BON8710642             0.01  0.010000\n",
       "GACTTCCTCTACGGGC-1-WSSS_F_BON8710642             0.01  0.010000\n",
       "TTCTGTAAGTCAACAA-1-WSSS_F_BON8710642             0.01  0.705829\n",
       "ACACGCGCACCTATCC-1-WSSS_F_BON8710643             0.01  0.010000\n",
       "\n",
       "[1647 rows x 2 columns]"
      ]
     },
     "execution_count": 39,
     "metadata": {},
     "output_type": "execute_result"
    }
   ],
   "source": [
    "gex_df = pd.DataFrame(data=adata.X, index=adata.obs.index, columns=adata.var.index)\n",
    "gex_df = gex_df[['SPIB','CEBPA']]\n",
    "gex_df"
   ]
  },
  {
   "cell_type": "code",
   "execution_count": 40,
   "metadata": {},
   "outputs": [
    {
     "data": {
      "text/html": [
       "<div>\n",
       "<style scoped>\n",
       "    .dataframe tbody tr th:only-of-type {\n",
       "        vertical-align: middle;\n",
       "    }\n",
       "\n",
       "    .dataframe tbody tr th {\n",
       "        vertical-align: top;\n",
       "    }\n",
       "\n",
       "    .dataframe thead th {\n",
       "        text-align: right;\n",
       "    }\n",
       "</style>\n",
       "<table border=\"1\" class=\"dataframe\">\n",
       "  <thead>\n",
       "    <tr style=\"text-align: right;\">\n",
       "      <th></th>\n",
       "      <th>SPIB</th>\n",
       "      <th>CEBPA</th>\n",
       "      <th>tissue_cell.labels</th>\n",
       "      <th>orig.ident</th>\n",
       "    </tr>\n",
       "    <tr>\n",
       "      <th>index</th>\n",
       "      <th></th>\n",
       "      <th></th>\n",
       "      <th></th>\n",
       "      <th></th>\n",
       "    </tr>\n",
       "  </thead>\n",
       "  <tbody>\n",
       "    <tr>\n",
       "      <th>F45_liver_CD45-_FCAImmP7579223_CGTAGCGAGTACCGGA</th>\n",
       "      <td>0.01</td>\n",
       "      <td>0.010000</td>\n",
       "      <td>liver_GMP</td>\n",
       "      <td>F45</td>\n",
       "    </tr>\n",
       "    <tr>\n",
       "      <th>F30_liver_CD45-_FCAImmP7277561_CTTAACTGTCGCGGTT</th>\n",
       "      <td>0.01</td>\n",
       "      <td>0.010000</td>\n",
       "      <td>liver_GMP</td>\n",
       "      <td>F30</td>\n",
       "    </tr>\n",
       "    <tr>\n",
       "      <th>F34_liver_CD45-_FCAImmP7352195_CACACTCAGCTAGCCC</th>\n",
       "      <td>0.01</td>\n",
       "      <td>0.010000</td>\n",
       "      <td>liver_GMP</td>\n",
       "      <td>F34</td>\n",
       "    </tr>\n",
       "    <tr>\n",
       "      <th>F45_liver_CD45+_FCAImmP7579210_GAACCTACAGTATCTG</th>\n",
       "      <td>0.01</td>\n",
       "      <td>0.675299</td>\n",
       "      <td>liver_GMP</td>\n",
       "      <td>F45</td>\n",
       "    </tr>\n",
       "    <tr>\n",
       "      <th>F45_liver_CD45-_FCAImmP7579223_ACTGAACTCAGAGGTG</th>\n",
       "      <td>0.01</td>\n",
       "      <td>0.010000</td>\n",
       "      <td>liver_GMP</td>\n",
       "      <td>F45</td>\n",
       "    </tr>\n",
       "    <tr>\n",
       "      <th>...</th>\n",
       "      <td>...</td>\n",
       "      <td>...</td>\n",
       "      <td>...</td>\n",
       "      <td>...</td>\n",
       "    </tr>\n",
       "    <tr>\n",
       "      <th>CCACGTTCAATACAGA-1-WSSS_F_BON8710642</th>\n",
       "      <td>0.01</td>\n",
       "      <td>0.617371</td>\n",
       "      <td>fbm_GMP</td>\n",
       "      <td>SB19PCW</td>\n",
       "    </tr>\n",
       "    <tr>\n",
       "      <th>CGTTAGAAGGATCATA-1-WSSS_F_BON8710642</th>\n",
       "      <td>0.01</td>\n",
       "      <td>0.010000</td>\n",
       "      <td>fbm_GMP</td>\n",
       "      <td>SB19PCW</td>\n",
       "    </tr>\n",
       "    <tr>\n",
       "      <th>GACTTCCTCTACGGGC-1-WSSS_F_BON8710642</th>\n",
       "      <td>0.01</td>\n",
       "      <td>0.010000</td>\n",
       "      <td>fbm_GMP</td>\n",
       "      <td>SB19PCW</td>\n",
       "    </tr>\n",
       "    <tr>\n",
       "      <th>TTCTGTAAGTCAACAA-1-WSSS_F_BON8710642</th>\n",
       "      <td>0.01</td>\n",
       "      <td>0.705829</td>\n",
       "      <td>fbm_GMP</td>\n",
       "      <td>SB19PCW</td>\n",
       "    </tr>\n",
       "    <tr>\n",
       "      <th>ACACGCGCACCTATCC-1-WSSS_F_BON8710643</th>\n",
       "      <td>0.01</td>\n",
       "      <td>0.010000</td>\n",
       "      <td>fbm_GMP</td>\n",
       "      <td>SB19PCW</td>\n",
       "    </tr>\n",
       "  </tbody>\n",
       "</table>\n",
       "<p>1647 rows × 4 columns</p>\n",
       "</div>"
      ],
      "text/plain": [
       "                                                 SPIB     CEBPA tissue_cell.labels orig.ident\n",
       "index                                                                                        \n",
       "F45_liver_CD45-_FCAImmP7579223_CGTAGCGAGTACCGGA  0.01  0.010000          liver_GMP        F45\n",
       "F30_liver_CD45-_FCAImmP7277561_CTTAACTGTCGCGGTT  0.01  0.010000          liver_GMP        F30\n",
       "F34_liver_CD45-_FCAImmP7352195_CACACTCAGCTAGCCC  0.01  0.010000          liver_GMP        F34\n",
       "F45_liver_CD45+_FCAImmP7579210_GAACCTACAGTATCTG  0.01  0.675299          liver_GMP        F45\n",
       "F45_liver_CD45-_FCAImmP7579223_ACTGAACTCAGAGGTG  0.01  0.010000          liver_GMP        F45\n",
       "...                                               ...       ...                ...        ...\n",
       "CCACGTTCAATACAGA-1-WSSS_F_BON8710642             0.01  0.617371            fbm_GMP    SB19PCW\n",
       "CGTTAGAAGGATCATA-1-WSSS_F_BON8710642             0.01  0.010000            fbm_GMP    SB19PCW\n",
       "GACTTCCTCTACGGGC-1-WSSS_F_BON8710642             0.01  0.010000            fbm_GMP    SB19PCW\n",
       "TTCTGTAAGTCAACAA-1-WSSS_F_BON8710642             0.01  0.705829            fbm_GMP    SB19PCW\n",
       "ACACGCGCACCTATCC-1-WSSS_F_BON8710643             0.01  0.010000            fbm_GMP    SB19PCW\n",
       "\n",
       "[1647 rows x 4 columns]"
      ]
     },
     "execution_count": 40,
     "metadata": {},
     "output_type": "execute_result"
    }
   ],
   "source": [
    "merged_df = gex_df.merge(metadata_df, left_index=True, right_index=True)\n",
    "merged_df.to_csv('/Users/b8058304/Documents/PhD_work/Coding/manuscript_figs/resources_for_pipelines/gmp_spib_cebpa_expression_fl_fbm_20200715.csv')\n",
    "merged_df"
   ]
  },
  {
   "cell_type": "code",
   "execution_count": 41,
   "metadata": {},
   "outputs": [
    {
     "data": {
      "text/plain": [
       "<matplotlib.collections.PathCollection at 0x13420a748>"
      ]
     },
     "execution_count": 41,
     "metadata": {},
     "output_type": "execute_result"
    },
    {
     "data": {
      "image/png": "[encoded data removed]",
      "text/plain": [
       "<Figure size 480x480 with 1 Axes>"
      ]
     },
     "metadata": {
      "image/png": {
       "height": 422,
       "width": 468
      },
      "needs_background": "light"
     },
     "output_type": "display_data"
    }
   ],
   "source": [
    "plt.scatter(merged_df[\"tissue_cell.labels\"] ,merged_df[\"SPIB\"])"
   ]
  },
  {
   "cell_type": "code",
   "execution_count": 42,
   "metadata": {},
   "outputs": [
    {
     "data": {
      "text/plain": [
       "<matplotlib.collections.PathCollection at 0x133d57fd0>"
      ]
     },
     "execution_count": 42,
     "metadata": {},
     "output_type": "execute_result"
    },
    {
     "data": {
      "image/png": "[encoded data removed]",
      "text/plain": [
       "<Figure size 480x480 with 1 Axes>"
      ]
     },
     "metadata": {
      "image/png": {
       "height": 423,
       "width": 465
      },
      "needs_background": "light"
     },
     "output_type": "display_data"
    }
   ],
   "source": [
    "plt.scatter(merged_df[\"tissue_cell.labels\"] ,merged_df[\"CEBPA\"])"
   ]
  },
  {
   "cell_type": "code",
   "execution_count": null,
   "metadata": {},
   "outputs": [],
   "source": []
  },
  {
   "cell_type": "code",
   "execution_count": null,
   "metadata": {},
   "outputs": [],
   "source": []
  },
  {
   "cell_type": "markdown",
   "metadata": {},
   "source": [
    "# Save the data"
   ]
  },
  {
   "cell_type": "code",
   "execution_count": 43,
   "metadata": {},
   "outputs": [],
   "source": [
    "from scipy.sparse import csr_matrix\n",
    "adata.X = sparse.csr_matrix(adata.X)"
   ]
  },
  {
   "cell_type": "code",
   "execution_count": 44,
   "metadata": {},
   "outputs": [
    {
     "data": {
      "text/plain": [
       "<1647x33713 sparse matrix of type '<class 'numpy.float32'>'\n",
       "\twith 32994351 stored elements in Compressed Sparse Row format>"
      ]
     },
     "execution_count": 44,
     "metadata": {},
     "output_type": "execute_result"
    }
   ],
   "source": [
    "adata.X"
   ]
  },
  {
   "cell_type": "code",
   "execution_count": 45,
   "metadata": {},
   "outputs": [
    {
     "data": {
      "text/plain": [
       "<1647x33713 sparse matrix of type '<class 'numpy.float32'>'\n",
       "\twith 5952852 stored elements in Compressed Sparse Row format>"
      ]
     },
     "execution_count": 45,
     "metadata": {},
     "output_type": "execute_result"
    }
   ],
   "source": [
    "adata.raw.X"
   ]
  },
  {
   "cell_type": "code",
   "execution_count": 46,
   "metadata": {},
   "outputs": [
    {
     "name": "stderr",
     "output_type": "stream",
     "text": [
      "... storing 'AnnatomicalPart' as categorical\n",
      "... storing 'april_cell.labels' as categorical\n",
      "... storing 'cell.labels' as categorical\n",
      "... storing 'cell.labels_20200708' as categorical\n",
      "... storing 'cell.labels_20200713' as categorical\n",
      "... storing 'cell.labels_progen' as categorical\n",
      "... storing 'combined.labels' as categorical\n",
      "... storing 'doublets' as categorical\n",
      "... storing 'fetal.ids' as categorical\n",
      "... storing 'gender' as categorical\n",
      "... storing 'is_doublet' as categorical\n",
      "... storing 'is_doublet_poptrim' as categorical\n",
      "... storing 'is_doublet_wolock' as categorical\n",
      "... storing 'lanes' as categorical\n",
      "... storing 'orig.ident' as categorical\n",
      "... storing 'processing.type' as categorical\n",
      "... storing 'sample' as categorical\n",
      "... storing 'sample.type' as categorical\n",
      "... storing 'sequencing.type' as categorical\n",
      "... storing 'sort.ids' as categorical\n",
      "... storing 'stages' as categorical\n",
      "... storing 'tissue' as categorical\n",
      "... storing 'tissue_cell.labels' as categorical\n",
      "... storing 'gene_ids-1-1' as categorical\n",
      "... storing 'feature_types-1-1' as categorical\n",
      "... storing 'gene_ids-1-1' as categorical\n",
      "... storing 'feature_types-1-1' as categorical\n"
     ]
    }
   ],
   "source": [
    "adata.write(\"/Users/b8058304/Documents/PhD_work/Coding/manuscript_figs/data/fig2c_gmp_spib_cebpa_20200715.h5ad\")"
   ]
  },
  {
   "cell_type": "code",
   "execution_count": null,
   "metadata": {},
   "outputs": [],
   "source": []
  },
  {
   "cell_type": "code",
   "execution_count": null,
   "metadata": {},
   "outputs": [],
   "source": []
  },
  {
   "cell_type": "code",
   "execution_count": null,
   "metadata": {},
   "outputs": [],
   "source": []
  },
  {
   "cell_type": "code",
   "execution_count": null,
   "metadata": {},
   "outputs": [],
   "source": []
  },
  {
   "cell_type": "code",
   "execution_count": null,
   "metadata": {},
   "outputs": [],
   "source": []
  }
 ],
 "metadata": {
  "kernelspec": {
   "display_name": "Python 3",
   "language": "python",
   "name": "python3"
  },
  "language_info": {
   "codemirror_mode": {
    "name": "ipython",
    "version": 3
   },
   "file_extension": ".py",
   "mimetype": "text/x-python",
   "name": "python",
   "nbconvert_exporter": "python",
   "pygments_lexer": "ipython3",
   "version": "3.6.4"
  }
 },
 "nbformat": 4,
 "nbformat_minor": 2
}
