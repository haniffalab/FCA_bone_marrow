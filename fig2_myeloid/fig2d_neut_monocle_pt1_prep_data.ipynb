{
 "cells": [
  {
   "cell_type": "markdown",
   "metadata": {},
   "source": [
    "# Import packages and data "
   ]
  },
  {
   "cell_type": "code",
   "execution_count": 1,
   "metadata": {
    "scrolled": true
   },
   "outputs": [
    {
     "name": "stderr",
     "output_type": "stream",
     "text": [
      "/Users/b8058304/.pyenv/versions/3.6.4/envs/py36/lib/python3.6/site-packages/anndata/_core/anndata.py:21: FutureWarning: pandas.core.index is deprecated and will be removed in a future version.  The public classes are available in the top-level namespace.\n",
      "  from pandas.core.index import RangeIndex\n"
     ]
    }
   ],
   "source": [
    "import numpy as np\n",
    "import pandas as pd\n",
    "import scanpy as sc\n",
    "import seaborn as sns\n",
    "import scipy.stats\n",
    "import anndata\n",
    "import matplotlib.pyplot as plt\n",
    "import matplotlib as mpl\n",
    "import rpy2"
   ]
  },
  {
   "cell_type": "code",
   "execution_count": 2,
   "metadata": {},
   "outputs": [
    {
     "name": "stdout",
     "output_type": "stream",
     "text": [
      "scanpy==1.4.4 anndata==0.7.1 umap==0.3.10 numpy==1.17.1 scipy==1.4.1 pandas==1.0.5 scikit-learn==0.22.2.post1 statsmodels==0.11.1 python-igraph==0.8.0 louvain==0.6.1\n"
     ]
    }
   ],
   "source": [
    "sc.settings.verbosity = 1  # verbosity: errors (0), warnings (1), info (2), hints (3)\n",
    "# Set up the plot config for viewing the annotation clearly.\n",
    "sc.settings.set_figure_params(dpi=120, dpi_save=1000)\n",
    "sc.logging.print_versions()"
   ]
  },
  {
   "cell_type": "code",
   "execution_count": 3,
   "metadata": {},
   "outputs": [],
   "source": [
    "pd.set_option('display.max_rows', 500)\n",
    "pd.set_option('display.max_columns', 500)\n",
    "pd.set_option('display.width', 1000)"
   ]
  },
  {
   "cell_type": "markdown",
   "metadata": {},
   "source": [
    "# Save UMAP for Monocle3 from the processed dataset"
   ]
  },
  {
   "cell_type": "code",
   "execution_count": 4,
   "metadata": {},
   "outputs": [],
   "source": [
    "adata = sc.read(\"/Users/b8058304/Documents/PhD_work/Coding/manuscript_figs/data/fig2d_neut_dr_20200717.h5ad\")"
   ]
  },
  {
   "cell_type": "code",
   "execution_count": 5,
   "metadata": {},
   "outputs": [],
   "source": [
    "# save the info on variable genes used in scanpy so these can be transferred to monocle\n",
    "gene_df = adata.var"
   ]
  },
  {
   "cell_type": "code",
   "execution_count": 6,
   "metadata": {},
   "outputs": [],
   "source": [
    "pd.DataFrame(adata.obsm[\"X_draw_graph_fa\"]).to_csv(\"/Users/b8058304/Documents/PhD_work/Coding/manuscript_figs/resources_for_pipelines/neut_fdg_20200717.csv\")"
   ]
  },
  {
   "cell_type": "markdown",
   "metadata": {},
   "source": [
    "# Load the fetal BM B cells from the raw dataset"
   ]
  },
  {
   "cell_type": "code",
   "execution_count": 7,
   "metadata": {},
   "outputs": [],
   "source": [
    "adata = sc.read(\"/Users/b8058304/Documents/PhD_work/Coding/bm_plus_19pcw/data/bm_plus_19pcw_raw_dr_20200713.h5ad\")"
   ]
  },
  {
   "cell_type": "code",
   "execution_count": 8,
   "metadata": {},
   "outputs": [],
   "source": [
    "adata.raw = adata"
   ]
  },
  {
   "cell_type": "code",
   "execution_count": 9,
   "metadata": {},
   "outputs": [
    {
     "data": {
      "text/plain": [
       "cell.labels\n",
       "CD4 T cell                   327\n",
       "CD8 T cell                   171\n",
       "CD14 monocyte               8787\n",
       "CD56 bright NK               540\n",
       "CMP                          425\n",
       "DC1                           50\n",
       "DC2                          598\n",
       "DC3                          705\n",
       "DC precursor                 201\n",
       "ELP                         1358\n",
       "GMP                         1285\n",
       "HSC                           92\n",
       "ILC precursor                 67\n",
       "LMPP                          34\n",
       "MEMP                          16\n",
       "MEP                          269\n",
       "MK                          1036\n",
       "MOP                         3990\n",
       "MPP myeloid                   92\n",
       "NK T cell                    111\n",
       "NK progenitor                 26\n",
       "Treg                          62\n",
       "adipo-CAR                    359\n",
       "arteriolar fibroblast         84\n",
       "basophil                     139\n",
       "chondrocyte                   81\n",
       "early MK                    1665\n",
       "early erythroid             7534\n",
       "early osteoblast             291\n",
       "endosteal fibroblast          54\n",
       "eo/baso/mast precursor       175\n",
       "eosinophil                   325\n",
       "erythroid macrophage          92\n",
       "immature B cell             1998\n",
       "immature EC                   69\n",
       "late erythroid              4649\n",
       "mast cell                    648\n",
       "mature NK                    136\n",
       "mid erythroid              14408\n",
       "monocytoid macrophage        296\n",
       "muscle                       219\n",
       "muscle stem cell             255\n",
       "myelocyte                   3854\n",
       "myeloid DC progenitor         31\n",
       "myofibroblast                 78\n",
       "naive B cell                1423\n",
       "neutrophil                  4516\n",
       "osteoblast                   375\n",
       "osteoblast precursor         463\n",
       "osteochondral precursor      191\n",
       "osteoclast                  1378\n",
       "pDC                          713\n",
       "pDC progenitor                23\n",
       "pre B progenitor           14234\n",
       "pre pro B progenitor        5428\n",
       "pro B progenitor            5530\n",
       "proliferating EC              26\n",
       "promonocyte                 7676\n",
       "promyelocyte                2386\n",
       "schwann cells                  9\n",
       "sinusoidal EC                550\n",
       "stromal macrophage          1493\n",
       "tDC                          193\n",
       "tip EC                       363\n",
       "dtype: int64"
      ]
     },
     "execution_count": 9,
     "metadata": {},
     "output_type": "execute_result"
    }
   ],
   "source": [
    "cell_numbers = adata.obs.groupby([\"cell.labels\"]).apply(len)\n",
    "cell_numbers"
   ]
  },
  {
   "cell_type": "code",
   "execution_count": 10,
   "metadata": {},
   "outputs": [],
   "source": [
    "myeloid_celltypes = ['HSC', 'LMPP', 'MPP myeloid', 'CMP', 'GMP', 'promyelocyte', 'myelocyte', 'neutrophil']"
   ]
  },
  {
   "cell_type": "code",
   "execution_count": 11,
   "metadata": {},
   "outputs": [],
   "source": [
    "adata = adata[adata.obs['cell.labels'].isin(myeloid_celltypes)].copy()"
   ]
  },
  {
   "cell_type": "code",
   "execution_count": 12,
   "metadata": {},
   "outputs": [],
   "source": [
    "adata.obs[\"cell.labels\"] = adata.obs[\"cell.labels\"].astype(\"category\")"
   ]
  },
  {
   "cell_type": "code",
   "execution_count": 13,
   "metadata": {},
   "outputs": [],
   "source": [
    "adata.obs[\"cell.labels\"] = adata.obs[\"cell.labels\"].cat.reorder_categories(['HSC', 'LMPP', 'MPP myeloid', \n",
    "                        'CMP', 'GMP', 'promyelocyte', 'myelocyte', 'neutrophil'])"
   ]
  },
  {
   "cell_type": "code",
   "execution_count": 14,
   "metadata": {},
   "outputs": [
    {
     "data": {
      "text/plain": [
       "cell.labels\n",
       "HSC               92\n",
       "LMPP              34\n",
       "MPP myeloid       92\n",
       "CMP              425\n",
       "GMP             1285\n",
       "promyelocyte    2386\n",
       "myelocyte       3854\n",
       "neutrophil      4516\n",
       "dtype: int64"
      ]
     },
     "execution_count": 14,
     "metadata": {},
     "output_type": "execute_result"
    }
   ],
   "source": [
    "cell_numbers = adata.obs.groupby([\"cell.labels\"]).apply(len)\n",
    "cell_numbers"
   ]
  },
  {
   "cell_type": "code",
   "execution_count": 15,
   "metadata": {},
   "outputs": [
    {
     "data": {
      "text/plain": [
       "(12684, 33712)"
      ]
     },
     "execution_count": 15,
     "metadata": {},
     "output_type": "execute_result"
    }
   ],
   "source": [
    "adata.shape"
   ]
  },
  {
   "cell_type": "code",
   "execution_count": 16,
   "metadata": {},
   "outputs": [],
   "source": [
    "adata.var = gene_df"
   ]
  },
  {
   "cell_type": "code",
   "execution_count": 17,
   "metadata": {},
   "outputs": [
    {
     "data": {
      "text/plain": [
       "(12684, 33712)"
      ]
     },
     "execution_count": 17,
     "metadata": {},
     "output_type": "execute_result"
    }
   ],
   "source": [
    "adata.shape"
   ]
  },
  {
   "cell_type": "markdown",
   "metadata": {},
   "source": [
    "# Convert to CDS"
   ]
  },
  {
   "cell_type": "markdown",
   "metadata": {},
   "source": [
    "# Load rpy2 link"
   ]
  },
  {
   "cell_type": "code",
   "execution_count": 18,
   "metadata": {},
   "outputs": [],
   "source": [
    "# convert anndata to sce\n",
    "import anndata2ri\n",
    "anndata2ri.activate()\n",
    "%load_ext rpy2.ipython"
   ]
  },
  {
   "cell_type": "code",
   "execution_count": 19,
   "metadata": {},
   "outputs": [
    {
     "data": {
      "text/html": [
       "<div>\n",
       "<style scoped>\n",
       "    .dataframe tbody tr th:only-of-type {\n",
       "        vertical-align: middle;\n",
       "    }\n",
       "\n",
       "    .dataframe tbody tr th {\n",
       "        vertical-align: top;\n",
       "    }\n",
       "\n",
       "    .dataframe thead th {\n",
       "        text-align: right;\n",
       "    }\n",
       "</style>\n",
       "<table border=\"1\" class=\"dataframe\">\n",
       "  <thead>\n",
       "    <tr style=\"text-align: right;\">\n",
       "      <th></th>\n",
       "      <th>version.string</th>\n",
       "    </tr>\n",
       "  </thead>\n",
       "  <tbody>\n",
       "    <tr>\n",
       "      <th>1</th>\n",
       "      <td>R version 3.6.2 (2019-12-12)</td>\n",
       "    </tr>\n",
       "  </tbody>\n",
       "</table>\n",
       "</div>"
      ],
      "text/plain": [
       "                 version.string\n",
       "1  R version 3.6.2 (2019-12-12)"
      ]
     },
     "execution_count": 19,
     "metadata": {},
     "output_type": "execute_result"
    }
   ],
   "source": [
    "%R d = as.data.frame( R.Version() )\n",
    "%R d = d['version.string']"
   ]
  },
  {
   "cell_type": "code",
   "execution_count": 20,
   "metadata": {},
   "outputs": [
    {
     "name": "stderr",
     "output_type": "stream",
     "text": [
      "R[write to console]: Loading required package: SingleCellExperiment\n",
      "\n",
      "R[write to console]: Loading required package: SummarizedExperiment\n",
      "\n",
      "R[write to console]: Loading required package: GenomicRanges\n",
      "\n",
      "R[write to console]: Loading required package: stats4\n",
      "\n",
      "R[write to console]: Loading required package: BiocGenerics\n",
      "\n",
      "R[write to console]: Loading required package: parallel\n",
      "\n",
      "R[write to console]: \n",
      "Attaching package: ‘BiocGenerics’\n",
      "\n",
      "\n",
      "R[write to console]: The following objects are masked from ‘package:parallel’:\n",
      "\n",
      "    clusterApply, clusterApplyLB, clusterCall, clusterEvalQ,\n",
      "    clusterExport, clusterMap, parApply, parCapply, parLapply,\n",
      "    parLapplyLB, parRapply, parSapply, parSapplyLB\n",
      "\n",
      "\n",
      "R[write to console]: The following objects are masked from ‘package:stats’:\n",
      "\n",
      "    IQR, mad, sd, var, xtabs\n",
      "\n",
      "\n",
      "R[write to console]: The following objects are masked from ‘package:base’:\n",
      "\n",
      "    anyDuplicated, append, as.data.frame, basename, cbind, colnames,\n",
      "    dirname, do.call, duplicated, eval, evalq, Filter, Find, get, grep,\n",
      "    grepl, intersect, is.unsorted, lapply, Map, mapply, match, mget,\n",
      "    order, paste, pmax, pmax.int, pmin, pmin.int, Position, rank,\n",
      "    rbind, Reduce, rownames, sapply, setdiff, sort, table, tapply,\n",
      "    union, unique, unsplit, which, which.max, which.min\n",
      "\n",
      "\n",
      "R[write to console]: Loading required package: S4Vectors\n",
      "\n",
      "R[write to console]: \n",
      "Attaching package: ‘S4Vectors’\n",
      "\n",
      "\n",
      "R[write to console]: The following object is masked from ‘package:base’:\n",
      "\n",
      "    expand.grid\n",
      "\n",
      "\n",
      "R[write to console]: Loading required package: IRanges\n",
      "\n",
      "R[write to console]: Loading required package: GenomeInfoDb\n",
      "\n",
      "R[write to console]: Loading required package: Biobase\n",
      "\n",
      "R[write to console]: Welcome to Bioconductor\n",
      "\n",
      "    Vignettes contain introductory material; view with\n",
      "    'browseVignettes()'. To cite Bioconductor, see\n",
      "    'citation(\"Biobase\")', and for packages 'citation(\"pkgname\")'.\n",
      "\n",
      "\n",
      "R[write to console]: Loading required package: DelayedArray\n",
      "\n",
      "R[write to console]: Loading required package: matrixStats\n",
      "\n",
      "R[write to console]: \n",
      "Attaching package: ‘matrixStats’\n",
      "\n",
      "\n",
      "R[write to console]: The following objects are masked from ‘package:Biobase’:\n",
      "\n",
      "    anyMissing, rowMedians\n",
      "\n",
      "\n",
      "R[write to console]: Loading required package: BiocParallel\n",
      "\n",
      "R[write to console]: \n",
      "Attaching package: ‘DelayedArray’\n",
      "\n",
      "\n",
      "R[write to console]: The following objects are masked from ‘package:matrixStats’:\n",
      "\n",
      "    colMaxs, colMins, colRanges, rowMaxs, rowMins, rowRanges\n",
      "\n",
      "\n",
      "R[write to console]: The following objects are masked from ‘package:base’:\n",
      "\n",
      "    aperm, apply, rowsum\n",
      "\n",
      "\n",
      "R[write to console]: Loading required package: princurve\n",
      "\n",
      "R[write to console]: Loading required package: Matrix\n",
      "\n",
      "R[write to console]: \n",
      "Attaching package: ‘Matrix’\n",
      "\n",
      "\n",
      "R[write to console]: The following object is masked from ‘package:S4Vectors’:\n",
      "\n",
      "    expand\n",
      "\n",
      "\n",
      "R[write to console]: Loading required package: ggplot2\n",
      "\n",
      "R[write to console]: Loading required package: VGAM\n",
      "\n",
      "R[write to console]: Loading required package: splines\n",
      "\n",
      "R[write to console]: Loading required package: DDRTree\n",
      "\n",
      "R[write to console]: Loading required package: irlba\n",
      "\n",
      "R[write to console]: Loading required package: foreach\n",
      "\n",
      "R[write to console]: Loaded gam 1.16.1\n",
      "\n",
      "\n",
      "R[write to console]: \n",
      "Attaching package: ‘gam’\n",
      "\n",
      "\n",
      "R[write to console]: The following object is masked from ‘package:VGAM’:\n",
      "\n",
      "    s\n",
      "\n",
      "\n",
      "R[write to console]: Warning:\n",
      "R[write to console]:  namespace ‘bigmemory’ is not available and has been replaced\n",
      "by .GlobalEnv when processing object ‘’\n",
      "\n",
      "R[write to console]: Warning:\n",
      "R[write to console]:  namespace ‘bigmemory’ is not available and has been replaced\n",
      "by .GlobalEnv when processing object ‘’\n",
      "\n",
      "R[write to console]: \n",
      "Attaching package: ‘plyr’\n",
      "\n",
      "\n",
      "R[write to console]: The following object is masked from ‘package:matrixStats’:\n",
      "\n",
      "    count\n",
      "\n",
      "\n",
      "R[write to console]: The following object is masked from ‘package:IRanges’:\n",
      "\n",
      "    desc\n",
      "\n",
      "\n",
      "R[write to console]: The following object is masked from ‘package:S4Vectors’:\n",
      "\n",
      "    rename\n",
      "\n",
      "\n"
     ]
    }
   ],
   "source": [
    "%%R \n",
    "\n",
    "library(scran)\n",
    "library(RColorBrewer)\n",
    "library(slingshot)\n",
    "library(monocle)\n",
    "library(gam)\n",
    "library(clusterExperiment)\n",
    "library(ggplot2)\n",
    "library(plyr)"
   ]
  },
  {
   "cell_type": "markdown",
   "metadata": {},
   "source": [
    "# Convert Scanpy object to CellDataSet object and prepare obj"
   ]
  },
  {
   "cell_type": "code",
   "execution_count": 21,
   "metadata": {
    "scrolled": true
   },
   "outputs": [
    {
     "name": "stdout",
     "output_type": "stream",
     "text": [
      "class: SingleCellExperiment \n",
      "dim: 33712 12684 \n",
      "metadata(0):\n",
      "assays(1): X\n",
      "rownames(33712): RP11-34P13.3 RP11-34P13.7 ... CTB-58E17.2\n",
      "  RP5-1077H22.1\n",
      "rowData names(6): gene_ids.1 feature_types.1 ... dispersions\n",
      "  dispersions_norm\n",
      "colnames(12684):\n",
      "  F21_boneMarrow_CD45+_FCAImmP7179367_3prime_AACTGGTGTAAGTGTA\n",
      "  F21_boneMarrow_CD45+_FCAImmP7179367_3prime_ACGGCCAAGGATTCGG ...\n",
      "  TTTGGAGGTACGACAG-1-WSSS_F_BON8710643\n",
      "  TTTGGTTGTGGATCGA-1-WSSS_F_BON8710643\n",
      "colData names(20): cell.labels doublets ... cell.labels_20200708\n",
      "  cell.labels_20200713\n",
      "reducedDimNames(3): X_orig_pca PCA UMAP\n",
      "spikeNames(0):\n",
      "altExpNames(0):\n"
     ]
    }
   ],
   "source": [
    "%%R -i adata\n",
    "adata"
   ]
  },
  {
   "cell_type": "code",
   "execution_count": 22,
   "metadata": {},
   "outputs": [],
   "source": [
    "#Preprocessing for monocle\n",
    "data_mat_mon = adata.X.T\n",
    "var_mon=adata.var.copy()\n",
    "obs_mon=adata.obs.copy()"
   ]
  },
  {
   "cell_type": "code",
   "execution_count": 23,
   "metadata": {},
   "outputs": [
    {
     "data": {
      "text/html": [
       "<div>\n",
       "<style scoped>\n",
       "    .dataframe tbody tr th:only-of-type {\n",
       "        vertical-align: middle;\n",
       "    }\n",
       "\n",
       "    .dataframe tbody tr th {\n",
       "        vertical-align: top;\n",
       "    }\n",
       "\n",
       "    .dataframe thead th {\n",
       "        text-align: right;\n",
       "    }\n",
       "</style>\n",
       "<table border=\"1\" class=\"dataframe\">\n",
       "  <thead>\n",
       "    <tr style=\"text-align: right;\">\n",
       "      <th></th>\n",
       "      <th>gene_ids-1</th>\n",
       "      <th>feature_types-1</th>\n",
       "      <th>highly_variable</th>\n",
       "      <th>means</th>\n",
       "      <th>dispersions</th>\n",
       "      <th>dispersions_norm</th>\n",
       "    </tr>\n",
       "  </thead>\n",
       "  <tbody>\n",
       "    <tr>\n",
       "      <th>RP11-34P13.3</th>\n",
       "      <td>ENSG00000243485</td>\n",
       "      <td>Gene Expression</td>\n",
       "      <td>False</td>\n",
       "      <td>2.517744e-05</td>\n",
       "      <td>-1.560292</td>\n",
       "      <td>-1.416623</td>\n",
       "    </tr>\n",
       "    <tr>\n",
       "      <th>RP11-34P13.7</th>\n",
       "      <td>ENSG00000238009</td>\n",
       "      <td>Gene Expression</td>\n",
       "      <td>False</td>\n",
       "      <td>1.814652e-04</td>\n",
       "      <td>-1.021962</td>\n",
       "      <td>-0.914993</td>\n",
       "    </tr>\n",
       "    <tr>\n",
       "      <th>RP11-34P13.8</th>\n",
       "      <td>ENSG00000239945</td>\n",
       "      <td>Gene Expression</td>\n",
       "      <td>False</td>\n",
       "      <td>3.605931e-05</td>\n",
       "      <td>-0.782231</td>\n",
       "      <td>-0.691605</td>\n",
       "    </tr>\n",
       "    <tr>\n",
       "      <th>RP11-34P13.9</th>\n",
       "      <td>ENSG00000241599</td>\n",
       "      <td>Gene Expression</td>\n",
       "      <td>False</td>\n",
       "      <td>1.000000e-12</td>\n",
       "      <td>NaN</td>\n",
       "      <td>NaN</td>\n",
       "    </tr>\n",
       "    <tr>\n",
       "      <th>FO538757.3</th>\n",
       "      <td>ENSG00000279928</td>\n",
       "      <td>Gene Expression</td>\n",
       "      <td>False</td>\n",
       "      <td>1.922674e-04</td>\n",
       "      <td>0.249081</td>\n",
       "      <td>0.269397</td>\n",
       "    </tr>\n",
       "    <tr>\n",
       "      <th>...</th>\n",
       "      <td>...</td>\n",
       "      <td>...</td>\n",
       "      <td>...</td>\n",
       "      <td>...</td>\n",
       "      <td>...</td>\n",
       "      <td>...</td>\n",
       "    </tr>\n",
       "    <tr>\n",
       "      <th>TRBJ2-2</th>\n",
       "      <td>ENSG00000211765</td>\n",
       "      <td>Gene Expression</td>\n",
       "      <td>False</td>\n",
       "      <td>1.000000e-12</td>\n",
       "      <td>NaN</td>\n",
       "      <td>NaN</td>\n",
       "    </tr>\n",
       "    <tr>\n",
       "      <th>MAGEA2</th>\n",
       "      <td>ENSG00000268606</td>\n",
       "      <td>Gene Expression</td>\n",
       "      <td>False</td>\n",
       "      <td>1.000000e-12</td>\n",
       "      <td>NaN</td>\n",
       "      <td>NaN</td>\n",
       "    </tr>\n",
       "    <tr>\n",
       "      <th>CTD-2308B18.4</th>\n",
       "      <td>ENSG00000248600</td>\n",
       "      <td>Gene Expression</td>\n",
       "      <td>False</td>\n",
       "      <td>1.000000e-12</td>\n",
       "      <td>NaN</td>\n",
       "      <td>NaN</td>\n",
       "    </tr>\n",
       "    <tr>\n",
       "      <th>CTB-58E17.2</th>\n",
       "      <td>ENSG00000274996</td>\n",
       "      <td>Gene Expression</td>\n",
       "      <td>False</td>\n",
       "      <td>1.000000e-12</td>\n",
       "      <td>NaN</td>\n",
       "      <td>NaN</td>\n",
       "    </tr>\n",
       "    <tr>\n",
       "      <th>RP5-1077H22.1</th>\n",
       "      <td>ENSG00000278343</td>\n",
       "      <td>Gene Expression</td>\n",
       "      <td>False</td>\n",
       "      <td>1.000000e-12</td>\n",
       "      <td>NaN</td>\n",
       "      <td>NaN</td>\n",
       "    </tr>\n",
       "  </tbody>\n",
       "</table>\n",
       "<p>33712 rows × 6 columns</p>\n",
       "</div>"
      ],
      "text/plain": [
       "                    gene_ids-1  feature_types-1  highly_variable         means  dispersions  dispersions_norm\n",
       "RP11-34P13.3   ENSG00000243485  Gene Expression            False  2.517744e-05    -1.560292         -1.416623\n",
       "RP11-34P13.7   ENSG00000238009  Gene Expression            False  1.814652e-04    -1.021962         -0.914993\n",
       "RP11-34P13.8   ENSG00000239945  Gene Expression            False  3.605931e-05    -0.782231         -0.691605\n",
       "RP11-34P13.9   ENSG00000241599  Gene Expression            False  1.000000e-12          NaN               NaN\n",
       "FO538757.3     ENSG00000279928  Gene Expression            False  1.922674e-04     0.249081          0.269397\n",
       "...                        ...              ...              ...           ...          ...               ...\n",
       "TRBJ2-2        ENSG00000211765  Gene Expression            False  1.000000e-12          NaN               NaN\n",
       "MAGEA2         ENSG00000268606  Gene Expression            False  1.000000e-12          NaN               NaN\n",
       "CTD-2308B18.4  ENSG00000248600  Gene Expression            False  1.000000e-12          NaN               NaN\n",
       "CTB-58E17.2    ENSG00000274996  Gene Expression            False  1.000000e-12          NaN               NaN\n",
       "RP5-1077H22.1  ENSG00000278343  Gene Expression            False  1.000000e-12          NaN               NaN\n",
       "\n",
       "[33712 rows x 6 columns]"
      ]
     },
     "execution_count": 23,
     "metadata": {},
     "output_type": "execute_result"
    }
   ],
   "source": [
    "var_mon"
   ]
  },
  {
   "cell_type": "code",
   "execution_count": 24,
   "metadata": {
    "scrolled": false
   },
   "outputs": [
    {
     "name": "stdout",
     "output_type": "stream",
     "text": [
      "[1] \"setting up cell dataset structure\"\n",
      "[1] \"printing pd - cells\"\n",
      "An object of class 'AnnotatedDataFrame'\n",
      "  rowNames: F21_boneMarrow_CD45+_FCAImmP7179367_3prime_AACTGGTGTAAGTGTA\n",
      "    F21_boneMarrow_CD45+_FCAImmP7179367_3prime_ACGGCCAAGGATTCGG ...\n",
      "    TTTGGTTGTGGATCGA-1-WSSS_F_BON8710643 (12684 total)\n",
      "  varLabels: cell.labels doublets ... cell.labels_20200713 (20 total)\n",
      "  varMetadata: labelDescription\n",
      "[1] \"printing fd - genes\"\n",
      "An object of class 'AnnotatedDataFrame'\n",
      "  rowNames: RP11-34P13.3 RP11-34P13.7 ... RP5-1077H22.1 (33712 total)\n",
      "  varLabels: gene_ids.1 feature_types.1 ... dispersions_norm (6 total)\n",
      "  varMetadata: labelDescription\n",
      "[1] \"create newCellDataSet using the matrix, cells and genes\"\n",
      "[1] \"printing ie_regions_cds\"\n",
      "CellDataSet (storageMode: environment)\n",
      "assayData: 33712 features, 12684 samples \n",
      "  element names: exprs \n",
      "protocolData: none\n",
      "phenoData\n",
      "  sampleNames:\n",
      "    F21_boneMarrow_CD45+_FCAImmP7179367_3prime_AACTGGTGTAAGTGTA\n",
      "    F21_boneMarrow_CD45+_FCAImmP7179367_3prime_ACGGCCAAGGATTCGG ...\n",
      "    TTTGGTTGTGGATCGA-1-WSSS_F_BON8710643 (12684 total)\n",
      "  varLabels: cell.labels doublets ... Size_Factor (21 total)\n",
      "  varMetadata: labelDescription\n",
      "featureData\n",
      "  featureNames: RP11-34P13.3 RP11-34P13.7 ... RP5-1077H22.1 (33712\n",
      "    total)\n",
      "  fvarLabels: gene_ids.1 feature_types.1 ... dispersions_norm (6 total)\n",
      "  fvarMetadata: labelDescription\n",
      "experimentData: use 'experimentData(object)'\n",
      "Annotation:  \n"
     ]
    }
   ],
   "source": [
    "%%R -i data_mat_mon -i obs_mon -i var_mon\n",
    "\n",
    "#Set up the CellDataSet data structure\n",
    "print(\"setting up cell dataset structure\")\n",
    "print(\"printing pd - cells\")\n",
    "pd <- AnnotatedDataFrame(data = obs_mon)\n",
    "print(pd)\n",
    "print(\"printing fd - genes\")\n",
    "fd <- AnnotatedDataFrame(data = var_mon)\n",
    "print(fd)\n",
    "# assigning cells as column name and genes as rownames of GEX matrix (data_mat_mon)\n",
    "colnames(data_mat_mon) <- rownames(pd)\n",
    "rownames(data_mat_mon) <- rownames(fd)\n",
    "print(\"create newCellDataSet using the matrix, cells and genes\")\n",
    "ie_regions_cds <- newCellDataSet(cellData=data_mat_mon, phenoData=pd, featureData=fd, expressionFamily=negbinomial.size())\n",
    "\n",
    "# print ie_regions_cds\n",
    "print(\"printing ie_regions_cds\")\n",
    "print(ie_regions_cds)"
   ]
  },
  {
   "cell_type": "markdown",
   "metadata": {},
   "source": [
    "# Within CDS, select HVGs (previously defined in scanpy)"
   ]
  },
  {
   "cell_type": "code",
   "execution_count": 25,
   "metadata": {},
   "outputs": [
    {
     "name": "stdout",
     "output_type": "stream",
     "text": [
      "[1] \"filter hvgs\"\n",
      "[1] \"printing cds again\"\n",
      "CellDataSet (storageMode: environment)\n",
      "assayData: 5748 features, 12684 samples \n",
      "  element names: exprs \n",
      "protocolData: none\n",
      "phenoData\n",
      "  sampleNames:\n",
      "    F21_boneMarrow_CD45+_FCAImmP7179367_3prime_AACTGGTGTAAGTGTA\n",
      "    F21_boneMarrow_CD45+_FCAImmP7179367_3prime_ACGGCCAAGGATTCGG ...\n",
      "    TTTGGTTGTGGATCGA-1-WSSS_F_BON8710643 (12684 total)\n",
      "  varLabels: cell.labels doublets ... Size_Factor (21 total)\n",
      "  varMetadata: labelDescription\n",
      "featureData\n",
      "  featureNames: FO538757.2 AP006222.2 ... AC004556.1 (5748 total)\n",
      "  fvarLabels: gene_ids.1 feature_types.1 ... dispersions_norm (6 total)\n",
      "  fvarMetadata: labelDescription\n",
      "experimentData: use 'experimentData(object)'\n",
      "Annotation:  \n"
     ]
    }
   ],
   "source": [
    "%%R \n",
    "\n",
    "#Filter highly variable genes from our analysis (normalisation by log and size factor will be performed in monocle3)\n",
    "print(\"filter hvgs\")\n",
    "hvg_mask = fData(ie_regions_cds)$highly_variable\n",
    "ie_regions_cds <- ie_regions_cds[hvg_mask,]\n",
    "\n",
    "# print ie_regions_cds\n",
    "print(\"printing cds again\")\n",
    "print(ie_regions_cds)"
   ]
  },
  {
   "cell_type": "markdown",
   "metadata": {},
   "source": [
    "# Save object for input into Monocle3"
   ]
  },
  {
   "cell_type": "code",
   "execution_count": 26,
   "metadata": {},
   "outputs": [],
   "source": [
    "%%R \n",
    "\n",
    "saveRDS(ie_regions_cds, \n",
    "        \"/Users/b8058304/Documents/PhD_work/Coding/manuscript_figs/data/fig2d_neut_cds_20200717.RDS\")"
   ]
  },
  {
   "cell_type": "code",
   "execution_count": null,
   "metadata": {},
   "outputs": [],
   "source": []
  },
  {
   "cell_type": "code",
   "execution_count": null,
   "metadata": {},
   "outputs": [],
   "source": []
  },
  {
   "cell_type": "code",
   "execution_count": null,
   "metadata": {},
   "outputs": [],
   "source": []
  }
 ],
 "metadata": {
  "kernelspec": {
   "display_name": "Python 3",
   "language": "python",
   "name": "python3"
  },
  "language_info": {
   "codemirror_mode": {
    "name": "ipython",
    "version": 3
   },
   "file_extension": ".py",
   "mimetype": "text/x-python",
   "name": "python",
   "nbconvert_exporter": "python",
   "pygments_lexer": "ipython3",
   "version": "3.6.4"
  }
 },
 "nbformat": 4,
 "nbformat_minor": 2
}
