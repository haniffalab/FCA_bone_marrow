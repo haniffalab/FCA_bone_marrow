{
 "cells": [
  {
   "cell_type": "markdown",
   "metadata": {},
   "source": [
    "# Import packages and data "
   ]
  },
  {
   "cell_type": "code",
   "execution_count": 1,
   "metadata": {},
   "outputs": [
    {
     "name": "stderr",
     "output_type": "stream",
     "text": [
      "/Users/b8058304/.pyenv/versions/3.6.4/envs/py36/lib/python3.6/site-packages/anndata/_core/anndata.py:21: FutureWarning: pandas.core.index is deprecated and will be removed in a future version.  The public classes are available in the top-level namespace.\n",
      "  from pandas.core.index import RangeIndex\n"
     ]
    }
   ],
   "source": [
    "import numpy as np\n",
    "import pandas as pd\n",
    "import scanpy as sc\n",
    "import seaborn as sns\n",
    "import scipy.stats\n",
    "import anndata\n",
    "import matplotlib.pyplot as plt\n",
    "import matplotlib as mpl\n",
    "from matplotlib.axes._axes import _log as matplotlib_axes_logger\n",
    "from scipy import sparse\n",
    "matplotlib_axes_logger.setLevel('ERROR')\n",
    "import warnings\n",
    "warnings.filterwarnings('ignore')"
   ]
  },
  {
   "cell_type": "code",
   "execution_count": 2,
   "metadata": {},
   "outputs": [],
   "source": [
    "pd.set_option('display.max_rows', 500)\n",
    "pd.set_option('display.max_columns', 500)\n",
    "pd.set_option('display.width', 1000)"
   ]
  },
  {
   "cell_type": "code",
   "execution_count": 3,
   "metadata": {},
   "outputs": [
    {
     "name": "stdout",
     "output_type": "stream",
     "text": [
      "scanpy==1.4.4 anndata==0.7.1 umap==0.3.10 numpy==1.17.1 scipy==1.4.1 pandas==1.0.5 scikit-learn==0.22.2.post1 statsmodels==0.11.1 python-igraph==0.8.0 louvain==0.6.1\n"
     ]
    }
   ],
   "source": [
    "sc.settings.verbosity = 1  # verbosity: errors (0), warnings (1), info (2), hints (3)\n",
    "# Set up the plot config for viewing the annotation clearly.\n",
    "sc.settings.set_figure_params(dpi=120, dpi_save=1000)\n",
    "sc.logging.print_versions()"
   ]
  },
  {
   "cell_type": "markdown",
   "metadata": {},
   "source": [
    "# Load FBM raw dataset"
   ]
  },
  {
   "cell_type": "code",
   "execution_count": 4,
   "metadata": {},
   "outputs": [],
   "source": [
    "adata = sc.read(\"/Users/b8058304/Documents/PhD_work/Coding/downs_bm/data/downs_raw_dr_20200714.h5ad\")"
   ]
  },
  {
   "cell_type": "code",
   "execution_count": 5,
   "metadata": {},
   "outputs": [],
   "source": [
    "from scipy.sparse import csr_matrix\n",
    "adata.X = sparse.csr_matrix(adata.X)"
   ]
  },
  {
   "cell_type": "code",
   "execution_count": 6,
   "metadata": {},
   "outputs": [],
   "source": [
    "adata.raw = adata"
   ]
  },
  {
   "cell_type": "code",
   "execution_count": 7,
   "metadata": {},
   "outputs": [
    {
     "data": {
      "text/plain": [
       "cell.labels\n",
       "CAR                          4\n",
       "CD8 T cell                  55\n",
       "CD14 monocyte              252\n",
       "CD56 bright NK              36\n",
       "CMP                         37\n",
       "DC1                         16\n",
       "DC2                         94\n",
       "DC3                         98\n",
       "HSC                         45\n",
       "ILC precursor               13\n",
       "MEMP                        42\n",
       "MK                          25\n",
       "MOP                        350\n",
       "MSC                         18\n",
       "Treg                         8\n",
       "chondrocyte                  4\n",
       "early B cell                23\n",
       "early MK                     7\n",
       "early erythroid            766\n",
       "endothelium                 37\n",
       "eo/baso/mast precursor      40\n",
       "eosinophil                  41\n",
       "late erythroid            3341\n",
       "macrophage                  64\n",
       "mast cell                   27\n",
       "mature B cell               20\n",
       "mature NK                   69\n",
       "mid erythroid             2082\n",
       "myelocyte                  218\n",
       "neutrophil                 245\n",
       "osteoblast                  11\n",
       "osteoclast                  17\n",
       "pDC                         14\n",
       "pre B cell                  59\n",
       "pre pDC                     40\n",
       "promonocyte                321\n",
       "promyelocyte                72\n",
       "transitional NK cell        11\n",
       "dtype: int64"
      ]
     },
     "execution_count": 7,
     "metadata": {},
     "output_type": "execute_result"
    }
   ],
   "source": [
    "cell_numbers = adata.obs.groupby([\"cell.labels\"]).apply(len)\n",
    "cell_numbers"
   ]
  },
  {
   "cell_type": "code",
   "execution_count": 8,
   "metadata": {},
   "outputs": [
    {
     "data": {
      "text/html": [
       "<div>\n",
       "<style scoped>\n",
       "    .dataframe tbody tr th:only-of-type {\n",
       "        vertical-align: middle;\n",
       "    }\n",
       "\n",
       "    .dataframe tbody tr th {\n",
       "        vertical-align: top;\n",
       "    }\n",
       "\n",
       "    .dataframe thead th {\n",
       "        text-align: right;\n",
       "    }\n",
       "</style>\n",
       "<table border=\"1\" class=\"dataframe\">\n",
       "  <thead>\n",
       "    <tr style=\"text-align: right;\">\n",
       "      <th></th>\n",
       "      <th>lanes</th>\n",
       "      <th>mad_prd</th>\n",
       "      <th>auto_prd</th>\n",
       "      <th>cell.labels</th>\n",
       "      <th>orig.ident</th>\n",
       "      <th>sequencing.type</th>\n",
       "      <th>age</th>\n",
       "      <th>percent.mito</th>\n",
       "      <th>cell.labels_20200713</th>\n",
       "    </tr>\n",
       "    <tr>\n",
       "      <th>index</th>\n",
       "      <th></th>\n",
       "      <th></th>\n",
       "      <th></th>\n",
       "      <th></th>\n",
       "      <th></th>\n",
       "      <th></th>\n",
       "      <th></th>\n",
       "      <th></th>\n",
       "      <th></th>\n",
       "    </tr>\n",
       "  </thead>\n",
       "  <tbody>\n",
       "    <tr>\n",
       "      <th>AAACCTGAGTACGTTC-1-DSOX4</th>\n",
       "      <td>DSOX4</td>\n",
       "      <td>False</td>\n",
       "      <td>False</td>\n",
       "      <td>early erythroid</td>\n",
       "      <td>ICH12740</td>\n",
       "      <td>5GEX</td>\n",
       "      <td>13PCW</td>\n",
       "      <td>0.048956</td>\n",
       "      <td>early erythroid</td>\n",
       "    </tr>\n",
       "    <tr>\n",
       "      <th>AAACCTGCAAGCGATG-1-DSOX4</th>\n",
       "      <td>DSOX4</td>\n",
       "      <td>False</td>\n",
       "      <td>False</td>\n",
       "      <td>late erythroid</td>\n",
       "      <td>ICH12740</td>\n",
       "      <td>5GEX</td>\n",
       "      <td>13PCW</td>\n",
       "      <td>0.023771</td>\n",
       "      <td>late erythroid</td>\n",
       "    </tr>\n",
       "    <tr>\n",
       "      <th>AAACGGGCACCGAAAG-1-DSOX4</th>\n",
       "      <td>DSOX4</td>\n",
       "      <td>False</td>\n",
       "      <td>False</td>\n",
       "      <td>promonocyte</td>\n",
       "      <td>ICH12740</td>\n",
       "      <td>5GEX</td>\n",
       "      <td>13PCW</td>\n",
       "      <td>0.058779</td>\n",
       "      <td>monocyte precursor</td>\n",
       "    </tr>\n",
       "    <tr>\n",
       "      <th>AAACGGGGTTATGCGT-1-DSOX4</th>\n",
       "      <td>DSOX4</td>\n",
       "      <td>False</td>\n",
       "      <td>False</td>\n",
       "      <td>late erythroid</td>\n",
       "      <td>ICH12740</td>\n",
       "      <td>5GEX</td>\n",
       "      <td>13PCW</td>\n",
       "      <td>0.011670</td>\n",
       "      <td>late erythroid</td>\n",
       "    </tr>\n",
       "    <tr>\n",
       "      <th>AAAGATGGTAGCACGA-1-DSOX4</th>\n",
       "      <td>DSOX4</td>\n",
       "      <td>False</td>\n",
       "      <td>False</td>\n",
       "      <td>pre B cell</td>\n",
       "      <td>ICH12740</td>\n",
       "      <td>5GEX</td>\n",
       "      <td>13PCW</td>\n",
       "      <td>0.044516</td>\n",
       "      <td>pre B cell</td>\n",
       "    </tr>\n",
       "    <tr>\n",
       "      <th>...</th>\n",
       "      <td>...</td>\n",
       "      <td>...</td>\n",
       "      <td>...</td>\n",
       "      <td>...</td>\n",
       "      <td>...</td>\n",
       "      <td>...</td>\n",
       "      <td>...</td>\n",
       "      <td>...</td>\n",
       "      <td>...</td>\n",
       "    </tr>\n",
       "    <tr>\n",
       "      <th>TTTGTCAGTCCAAGTT-1-DSOX19_2</th>\n",
       "      <td>DSOX19_2</td>\n",
       "      <td>False</td>\n",
       "      <td>False</td>\n",
       "      <td>late erythroid</td>\n",
       "      <td>ICH14486</td>\n",
       "      <td>5GEX</td>\n",
       "      <td>12PCW</td>\n",
       "      <td>0.022784</td>\n",
       "      <td>late erythroid</td>\n",
       "    </tr>\n",
       "    <tr>\n",
       "      <th>TTTGTCAGTCCTGCTT-1-DSOX19_2</th>\n",
       "      <td>DSOX19_2</td>\n",
       "      <td>False</td>\n",
       "      <td>False</td>\n",
       "      <td>promonocyte</td>\n",
       "      <td>ICH14486</td>\n",
       "      <td>5GEX</td>\n",
       "      <td>12PCW</td>\n",
       "      <td>0.039085</td>\n",
       "      <td>monocyte precursor</td>\n",
       "    </tr>\n",
       "    <tr>\n",
       "      <th>TTTGTCAGTTAAGTAG-1-DSOX19_2</th>\n",
       "      <td>DSOX19_2</td>\n",
       "      <td>False</td>\n",
       "      <td>False</td>\n",
       "      <td>late erythroid</td>\n",
       "      <td>ICH14486</td>\n",
       "      <td>5GEX</td>\n",
       "      <td>12PCW</td>\n",
       "      <td>0.022529</td>\n",
       "      <td>late erythroid</td>\n",
       "    </tr>\n",
       "    <tr>\n",
       "      <th>TTTGTCATCGTCTGCT-1-DSOX19_2</th>\n",
       "      <td>DSOX19_2</td>\n",
       "      <td>False</td>\n",
       "      <td>False</td>\n",
       "      <td>neutrophil</td>\n",
       "      <td>ICH14486</td>\n",
       "      <td>5GEX</td>\n",
       "      <td>12PCW</td>\n",
       "      <td>0.035387</td>\n",
       "      <td>neutrophil</td>\n",
       "    </tr>\n",
       "    <tr>\n",
       "      <th>TTTGTCATCTAGCACA-1-DSOX19_2</th>\n",
       "      <td>DSOX19_2</td>\n",
       "      <td>False</td>\n",
       "      <td>False</td>\n",
       "      <td>early erythroid</td>\n",
       "      <td>ICH14486</td>\n",
       "      <td>5GEX</td>\n",
       "      <td>12PCW</td>\n",
       "      <td>0.042222</td>\n",
       "      <td>early erythroid</td>\n",
       "    </tr>\n",
       "  </tbody>\n",
       "</table>\n",
       "<p>8622 rows × 9 columns</p>\n",
       "</div>"
      ],
      "text/plain": [
       "                                lanes mad_prd auto_prd      cell.labels orig.ident sequencing.type    age  percent.mito cell.labels_20200713\n",
       "index                                                                                                                                       \n",
       "AAACCTGAGTACGTTC-1-DSOX4        DSOX4   False    False  early erythroid   ICH12740            5GEX  13PCW      0.048956      early erythroid\n",
       "AAACCTGCAAGCGATG-1-DSOX4        DSOX4   False    False   late erythroid   ICH12740            5GEX  13PCW      0.023771       late erythroid\n",
       "AAACGGGCACCGAAAG-1-DSOX4        DSOX4   False    False      promonocyte   ICH12740            5GEX  13PCW      0.058779   monocyte precursor\n",
       "AAACGGGGTTATGCGT-1-DSOX4        DSOX4   False    False   late erythroid   ICH12740            5GEX  13PCW      0.011670       late erythroid\n",
       "AAAGATGGTAGCACGA-1-DSOX4        DSOX4   False    False       pre B cell   ICH12740            5GEX  13PCW      0.044516           pre B cell\n",
       "...                               ...     ...      ...              ...        ...             ...    ...           ...                  ...\n",
       "TTTGTCAGTCCAAGTT-1-DSOX19_2  DSOX19_2   False    False   late erythroid   ICH14486            5GEX  12PCW      0.022784       late erythroid\n",
       "TTTGTCAGTCCTGCTT-1-DSOX19_2  DSOX19_2   False    False      promonocyte   ICH14486            5GEX  12PCW      0.039085   monocyte precursor\n",
       "TTTGTCAGTTAAGTAG-1-DSOX19_2  DSOX19_2   False    False   late erythroid   ICH14486            5GEX  12PCW      0.022529       late erythroid\n",
       "TTTGTCATCGTCTGCT-1-DSOX19_2  DSOX19_2   False    False       neutrophil   ICH14486            5GEX  12PCW      0.035387           neutrophil\n",
       "TTTGTCATCTAGCACA-1-DSOX19_2  DSOX19_2   False    False  early erythroid   ICH14486            5GEX  12PCW      0.042222      early erythroid\n",
       "\n",
       "[8622 rows x 9 columns]"
      ]
     },
     "execution_count": 8,
     "metadata": {},
     "output_type": "execute_result"
    }
   ],
   "source": [
    "adata.obs"
   ]
  },
  {
   "cell_type": "code",
   "execution_count": 9,
   "metadata": {},
   "outputs": [
    {
     "data": {
      "text/plain": [
       "orig.ident\n",
       "D1    1613\n",
       "D2    1643\n",
       "D3     496\n",
       "D4    4870\n",
       "dtype: int64"
      ]
     },
     "execution_count": 9,
     "metadata": {},
     "output_type": "execute_result"
    }
   ],
   "source": [
    "adata.obs[\"orig.ident\"] = adata.obs[\"orig.ident\"].replace([\"ICH12740\", \"ICH12813\", \"ICH12941\", \"ICH14486\"],\n",
    "                                                          [\"D1\", \"D2\", \"D3\", \"D4\"])\n",
    "cell_numbers = adata.obs.groupby([\"orig.ident\"]).apply(len)\n",
    "cell_numbers"
   ]
  },
  {
   "cell_type": "markdown",
   "metadata": {},
   "source": [
    "# Add QC"
   ]
  },
  {
   "cell_type": "code",
   "execution_count": 10,
   "metadata": {},
   "outputs": [],
   "source": [
    "# add the total counts per cell as observations-annotation to adata\n",
    "adata.obs['nUMI'] = adata.X.sum(axis=1)\n",
    "sc.pp.calculate_qc_metrics(adata, var_type='genes', layer=None, use_raw=False, inplace=True, parallel=None)\n",
    "adata.obs[\"nGene\"] = adata.obs[\"n_genes_by_counts\"]\n",
    "\n",
    "del adata.obs[\"n_genes_by_counts\"]\n",
    "del adata.obs[\"log1p_n_genes_by_counts\"]\n",
    "del adata.obs[\"log1p_total_counts\"]\n",
    "del adata.obs[\"total_counts\"]\n",
    "del adata.obs[\"pct_counts_in_top_50_genes\"]\n",
    "del adata.obs[\"pct_counts_in_top_100_genes\"]\n",
    "del adata.obs[\"pct_counts_in_top_200_genes\"]\n",
    "del adata.obs[\"pct_counts_in_top_500_genes\"]\n",
    "del adata.var[\"n_cells_by_counts\"]\n",
    "del adata.var[\"mean_counts\"]\n",
    "del adata.var[\"log1p_mean_counts\"]\n",
    "del adata.var[\"pct_dropout_by_counts\"]\n",
    "del adata.var[\"total_counts\"]\n",
    "del adata.var[\"log1p_total_counts\"]"
   ]
  },
  {
   "cell_type": "code",
   "execution_count": 11,
   "metadata": {},
   "outputs": [],
   "source": [
    "mito_genes = adata.var_names.str.startswith('MT-')\n",
    "# for each cell compute fraction of counts in mito genes vs. all genes\n",
    "# the `.A1` is only necessary as X is sparse (to transform to a dense array after summing)\n",
    "adata.obs['percent.mito'] = np.sum(adata[:, mito_genes].X, axis=1).A1 / np.sum(adata.X, axis=1).A1"
   ]
  },
  {
   "cell_type": "code",
   "execution_count": 12,
   "metadata": {},
   "outputs": [
    {
     "name": "stderr",
     "output_type": "stream",
     "text": [
      "... storing 'orig.ident' as categorical\n"
     ]
    },
    {
     "name": "stdout",
     "output_type": "stream",
     "text": [
      "WARNING: saving figure to file figures/violinFBM_downs_numi_violin_20200619.pdf\n"
     ]
    },
    {
     "data": {
      "image/png": "[encoded data removed]",
      "text/plain": [
       "<Figure size 558.36x480 with 1 Axes>"
      ]
     },
     "metadata": {
      "image/png": {
       "height": 430,
       "width": 431
      },
      "needs_background": "light"
     },
     "output_type": "display_data"
    }
   ],
   "source": [
    "# Quality control - plot QC metrics\n",
    "#Sample quality plots\n",
    "sc.pl.violin(adata, 'nUMI', groupby='orig.ident', size=1, log=True, cut=0, stripplot=False, rotation=90, \n",
    "                 save=\"FBM_downs_numi_violin_20200619.pdf\")"
   ]
  },
  {
   "cell_type": "code",
   "execution_count": 13,
   "metadata": {},
   "outputs": [
    {
     "name": "stdout",
     "output_type": "stream",
     "text": [
      "WARNING: saving figure to file figures/violinFBM_downs_pmito_violin_20200619.pdf\n"
     ]
    },
    {
     "data": {
      "text/plain": [
       "<matplotlib.axes._axes.Axes at 0x131527b38>"
      ]
     },
     "execution_count": 13,
     "metadata": {},
     "output_type": "execute_result"
    }
   ],
   "source": [
    "sc.pl.violin(adata, 'percent.mito', groupby='orig.ident', log=False, cut=0, stripplot=False, rotation=90, \n",
    "            save=\"FBM_downs_pmito_violin_20200619.pdf\", show=False)"
   ]
  },
  {
   "cell_type": "code",
   "execution_count": null,
   "metadata": {},
   "outputs": [],
   "source": []
  },
  {
   "cell_type": "code",
   "execution_count": null,
   "metadata": {},
   "outputs": [],
   "source": []
  },
  {
   "cell_type": "code",
   "execution_count": null,
   "metadata": {},
   "outputs": [],
   "source": []
  },
  {
   "cell_type": "code",
   "execution_count": null,
   "metadata": {},
   "outputs": [],
   "source": []
  },
  {
   "cell_type": "code",
   "execution_count": null,
   "metadata": {},
   "outputs": [],
   "source": []
  }
 ],
 "metadata": {
  "kernelspec": {
   "display_name": "Python 3",
   "language": "python",
   "name": "python3"
  },
  "language_info": {
   "codemirror_mode": {
    "name": "ipython",
    "version": 3
   },
   "file_extension": ".py",
   "mimetype": "text/x-python",
   "name": "python",
   "nbconvert_exporter": "python",
   "pygments_lexer": "ipython3",
   "version": "3.6.4"
  }
 },
 "nbformat": 4,
 "nbformat_minor": 2
}
