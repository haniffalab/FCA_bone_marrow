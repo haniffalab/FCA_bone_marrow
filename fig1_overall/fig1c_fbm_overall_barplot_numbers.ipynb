{
 "cells": [
  {
   "cell_type": "markdown",
   "metadata": {},
   "source": [
    "# Import packages and data "
   ]
  },
  {
   "cell_type": "code",
   "execution_count": 1,
   "metadata": {},
   "outputs": [],
   "source": [
    "import numpy as np\n",
    "import pandas as pd\n",
    "import scanpy as sc\n",
    "import seaborn as sns\n",
    "import scipy.stats\n",
    "import anndata\n",
    "import matplotlib.pyplot as plt\n",
    "import matplotlib as mpl\n",
    "from matplotlib.axes._axes import _log as matplotlib_axes_logger\n",
    "from scipy import sparse\n",
    "matplotlib_axes_logger.setLevel('ERROR')\n",
    "import warnings\n",
    "warnings.filterwarnings('ignore')"
   ]
  },
  {
   "cell_type": "code",
   "execution_count": 2,
   "metadata": {},
   "outputs": [],
   "source": [
    "pd.set_option('display.max_rows', 500)\n",
    "pd.set_option('display.max_columns', 500)\n",
    "pd.set_option('display.width', 1000)"
   ]
  },
  {
   "cell_type": "code",
   "execution_count": 3,
   "metadata": {},
   "outputs": [
    {
     "name": "stdout",
     "output_type": "stream",
     "text": [
      "scanpy==1.4.4 anndata==0.7.1 umap==0.3.10 numpy==1.18.1 scipy==1.4.1 pandas==0.23.4 scikit-learn==0.22.2.post1 statsmodels==0.11.1 python-igraph==0.8.0 louvain==0.6.1\n"
     ]
    }
   ],
   "source": [
    "sc.settings.verbosity = 1  # verbosity: errors (0), warnings (1), info (2), hints (3)\n",
    "# Set up the plot config for viewing the annotation clearly.\n",
    "sc.settings.set_figure_params(dpi=120, dpi_save=1000)\n",
    "sc.logging.print_versions()"
   ]
  },
  {
   "cell_type": "markdown",
   "metadata": {},
   "source": [
    "# Load FBM transformed dataset"
   ]
  },
  {
   "cell_type": "code",
   "execution_count": 4,
   "metadata": {},
   "outputs": [],
   "source": [
    "adata = sc.read(\"/Users/b8058304/Documents/PhD_work/Coding/manuscript_figs/data/fig1c_fbm_scaled_gex_updated_dr_20200428.h5ad\")"
   ]
  },
  {
   "cell_type": "code",
   "execution_count": 5,
   "metadata": {},
   "outputs": [
    {
     "data": {
      "text/plain": [
       "broad_fig1_cell.labels\n",
       "HSC_MPP          7984\n",
       "erythroid       26591\n",
       "MK               2701\n",
       "B_lineage       28613\n",
       "DC               2460\n",
       "eo/baso/mast     1112\n",
       "neutrophil      10292\n",
       "monocyte        16733\n",
       "T_NK             1440\n",
       "stroma           6726\n",
       "dtype: int64"
      ]
     },
     "execution_count": 5,
     "metadata": {},
     "output_type": "execute_result"
    }
   ],
   "source": [
    "cell_numbers = adata.obs.groupby([\"broad_fig1_cell.labels\"]).apply(len)\n",
    "cell_numbers"
   ]
  },
  {
   "cell_type": "code",
   "execution_count": 6,
   "metadata": {},
   "outputs": [
    {
     "data": {
      "text/plain": [
       "fetal.ids           broad_fig1_cell.labels\n",
       "F21_male_16+2PCW    HSC_MPP                     348\n",
       "                    erythroid                   569\n",
       "                    MK                          228\n",
       "                    B_lineage                  1085\n",
       "                    DC                          118\n",
       "                    eo/baso/mast                 48\n",
       "                    neutrophil                   64\n",
       "                    monocyte                    453\n",
       "                    T_NK                         60\n",
       "                    stroma                      179\n",
       "F29_female_17+0PCW  HSC_MPP                     793\n",
       "                    erythroid                  1113\n",
       "                    MK                          271\n",
       "                    B_lineage                  3532\n",
       "                    DC                          484\n",
       "                    eo/baso/mast                110\n",
       "                    neutrophil                  297\n",
       "                    monocyte                   1175\n",
       "                    T_NK                        114\n",
       "                    stroma                      284\n",
       "F30_male_14+3PCW    HSC_MPP                    1397\n",
       "                    erythroid                   800\n",
       "                    MK                          317\n",
       "                    B_lineage                  2374\n",
       "                    DC                          464\n",
       "                    eo/baso/mast                161\n",
       "                    neutrophil                  908\n",
       "                    monocyte                   3045\n",
       "                    T_NK                         96\n",
       "                    stroma                      861\n",
       "F38_male_12PCW      HSC_MPP                     167\n",
       "                    erythroid                   513\n",
       "                    MK                          211\n",
       "                    B_lineage                   587\n",
       "                    DC                           29\n",
       "                    eo/baso/mast                 51\n",
       "                    neutrophil                   86\n",
       "                    monocyte                    141\n",
       "                    T_NK                        132\n",
       "                    stroma                     1212\n",
       "F41_female_16PCW    HSC_MPP                     994\n",
       "                    erythroid                  3148\n",
       "                    MK                          250\n",
       "                    B_lineage                  1286\n",
       "                    DC                          272\n",
       "                    eo/baso/mast                119\n",
       "                    neutrophil                  274\n",
       "                    monocyte                   1107\n",
       "                    T_NK                        123\n",
       "                    stroma                      347\n",
       "F45_female_13+6PCW  HSC_MPP                    1196\n",
       "                    erythroid                   764\n",
       "                    MK                          206\n",
       "                    B_lineage                  1109\n",
       "                    DC                          232\n",
       "                    eo/baso/mast                202\n",
       "                    neutrophil                  531\n",
       "                    monocyte                   1906\n",
       "                    T_NK                        134\n",
       "                    stroma                      339\n",
       "F50_female_15PCW    HSC_MPP                    1069\n",
       "                    erythroid                  6602\n",
       "                    MK                          565\n",
       "                    B_lineage                  2464\n",
       "                    DC                          209\n",
       "                    eo/baso/mast                134\n",
       "                    neutrophil                 1530\n",
       "                    monocyte                   2662\n",
       "                    T_NK                        227\n",
       "                    stroma                      440\n",
       "F51_female_15PCW    HSC_MPP                    1694\n",
       "                    erythroid                  9408\n",
       "                    MK                          329\n",
       "                    B_lineage                  5834\n",
       "                    DC                          584\n",
       "                    eo/baso/mast                163\n",
       "                    neutrophil                 4115\n",
       "                    monocyte                   4444\n",
       "                    T_NK                        432\n",
       "                    stroma                     2010\n",
       "SB19PCW             HSC_MPP                     326\n",
       "                    erythroid                  3674\n",
       "                    MK                          324\n",
       "                    B_lineage                 10342\n",
       "                    DC                           68\n",
       "                    eo/baso/mast                124\n",
       "                    neutrophil                 2487\n",
       "                    monocyte                   1800\n",
       "                    T_NK                        122\n",
       "                    stroma                     1054\n",
       "dtype: int64"
      ]
     },
     "execution_count": 6,
     "metadata": {},
     "output_type": "execute_result"
    }
   ],
   "source": [
    "cell_numbers = adata.obs.groupby([\"fetal.ids\", \"broad_fig1_cell.labels\"]).apply(len)\n",
    "pd.DataFrame(cell_numbers).to_csv(\"/Users/b8058304/Documents/PhD_work/Coding/manuscript_figs/resources_for_pipelines/fig1d_barplot_nrs_20200528.csv\")\n",
    "cell_numbers"
   ]
  },
  {
   "cell_type": "code",
   "execution_count": 6,
   "metadata": {
    "scrolled": true
   },
   "outputs": [
    {
     "data": {
      "text/plain": [
       "['F21_male_16+2PCW',\n",
       " 'F29_female_17+0PCW',\n",
       " 'F30_male_14+3PCW',\n",
       " 'F38_male_12PCW',\n",
       " 'F41_female_16PCW',\n",
       " 'F45_female_13+6PCW',\n",
       " 'F50_female_15PCW',\n",
       " 'F51_female_15PCW',\n",
       " 'SB19PCW']"
      ]
     },
     "execution_count": 6,
     "metadata": {},
     "output_type": "execute_result"
    }
   ],
   "source": [
    "adata.obs[\"fetal.ids\"].unique().tolist()"
   ]
  },
  {
   "cell_type": "code",
   "execution_count": 7,
   "metadata": {},
   "outputs": [],
   "source": [
    "fetal_ids = [\n",
    " 'F38_male_12PCW', 'F45_female_13+6PCW',\n",
    " 'F30_male_14+3PCW','F50_female_15PCW', 'F51_female_15PCW',\n",
    " 'F41_female_16PCW', 'F21_male_16+2PCW', 'F29_female_17+0PCW', \n",
    "'SB19PCW']\n",
    "\n",
    "stage_ids = [\"Stage 1\", \"Stage 1\", \n",
    "            \"Stage 2\", \"Stage 2\", \"Stage 2\", \n",
    "             \"Stage 3\", \"Stage 3\", \"Stage 3\", \n",
    "            \"Stage 4\"]\n",
    "\n",
    "adata.obs[\"stage\"] = adata.obs[\"fetal.ids\"].replace(fetal_ids, stage_ids)"
   ]
  },
  {
   "cell_type": "code",
   "execution_count": 8,
   "metadata": {},
   "outputs": [],
   "source": [
    "# Load 19PCW lane info\n",
    "tot = sc.read('/Users/b8058304/Documents/PhD_work/Coding/bm_plus_19pcw/data/bm_plus-19pcw_combined_20200218.h5ad')\n",
    "tot_lanes_meta = tot.obs[\"lanes\"]\n",
    "adata.obs[\"lanes\"] = tot_lanes_meta"
   ]
  },
  {
   "cell_type": "code",
   "execution_count": 9,
   "metadata": {},
   "outputs": [
    {
     "data": {
      "text/plain": [
       "lanes\n",
       "FCAImmP7179367       1962\n",
       "FCAImmP7179368       1190\n",
       "FCAImmP7277558       1463\n",
       "FCAImmP7277559       3072\n",
       "FCAImmP7277566       4035\n",
       "FCAImmP7277567       2291\n",
       "FCAImmP7292031       3638\n",
       "FCAImmP7292035       4097\n",
       "FCAImmP7528281       2033\n",
       "FCAImmP7528282       1096\n",
       "FCAImmP7555853       2014\n",
       "FCAImmP7555854       2169\n",
       "FCAImmP7555855       1505\n",
       "FCAImmP7555862       2232\n",
       "FCAImmP7579220       1693\n",
       "FCAImmP7579221       1469\n",
       "FCAImmP7579232       2061\n",
       "FCAImmP7579233       1396\n",
       "FCAImmP7803016       4736\n",
       "FCAImmP7803017       4785\n",
       "FCAImmP7803018       3125\n",
       "FCAImmP7803019       3256\n",
       "FCAImmP7803028       6379\n",
       "FCAImmP7803029       5852\n",
       "FCAImmP7803030       5953\n",
       "FCAImmP7803031       3649\n",
       "FCAImmP7803032       3484\n",
       "FCAImmP7803033       3696\n",
       "WSSS_F_BON8710636    2977\n",
       "WSSS_F_BON8710637    2451\n",
       "WSSS_F_BON8710638    3202\n",
       "WSSS_F_BON8710639    2660\n",
       "WSSS_F_BON8710640    3129\n",
       "WSSS_F_BON8710641     894\n",
       "WSSS_F_BON8710642    3008\n",
       "WSSS_F_BON8710643    2000\n",
       "dtype: int64"
      ]
     },
     "execution_count": 9,
     "metadata": {},
     "output_type": "execute_result"
    }
   ],
   "source": [
    "cell_numbers = adata.obs.groupby([\"lanes\"]).apply(len)\n",
    "cell_numbers"
   ]
  },
  {
   "cell_type": "code",
   "execution_count": 11,
   "metadata": {},
   "outputs": [],
   "source": [
    "pd.DataFrame(adata.obs).to_csv(\"/Users/b8058304/Documents/PhD_work/Coding/manuscript_figs/resources_for_pipelines/fig1d_barplot_meta_20200513.csv\")"
   ]
  },
  {
   "cell_type": "code",
   "execution_count": 12,
   "metadata": {},
   "outputs": [
    {
     "name": "stderr",
     "output_type": "stream",
     "text": [
      "... storing 'stage' as categorical\n"
     ]
    }
   ],
   "source": [
    "adata.write(\"/Users/b8058304/Documents/PhD_work/Coding/manuscript_figs/data/fig1c_fbm_scaled_gex_updated_dr_20200428.h5ad\")"
   ]
  },
  {
   "cell_type": "code",
   "execution_count": null,
   "metadata": {},
   "outputs": [],
   "source": []
  },
  {
   "cell_type": "code",
   "execution_count": null,
   "metadata": {},
   "outputs": [],
   "source": []
  },
  {
   "cell_type": "code",
   "execution_count": null,
   "metadata": {},
   "outputs": [],
   "source": []
  },
  {
   "cell_type": "code",
   "execution_count": null,
   "metadata": {},
   "outputs": [],
   "source": []
  }
 ],
 "metadata": {
  "kernelspec": {
   "display_name": "Python 3",
   "language": "python",
   "name": "python3"
  },
  "language_info": {
   "codemirror_mode": {
    "name": "ipython",
    "version": 3
   },
   "file_extension": ".py",
   "mimetype": "text/x-python",
   "name": "python",
   "nbconvert_exporter": "python",
   "pygments_lexer": "ipython3",
   "version": "3.6.4"
  }
 },
 "nbformat": 4,
 "nbformat_minor": 2
}
