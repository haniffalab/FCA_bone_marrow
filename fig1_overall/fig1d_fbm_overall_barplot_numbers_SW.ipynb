{
 "cells": [
  {
   "cell_type": "markdown",
   "metadata": {},
   "source": [
    "# Import packages and data "
   ]
  },
  {
   "cell_type": "code",
   "execution_count": 1,
   "metadata": {},
   "outputs": [
    {
     "name": "stderr",
     "output_type": "stream",
     "text": [
      "/Users/b8058304/.pyenv/versions/3.6.4/envs/py36/lib/python3.6/site-packages/anndata/_core/anndata.py:21: FutureWarning: pandas.core.index is deprecated and will be removed in a future version.  The public classes are available in the top-level namespace.\n",
      "  from pandas.core.index import RangeIndex\n"
     ]
    }
   ],
   "source": [
    "import numpy as np\n",
    "import pandas as pd\n",
    "import scanpy as sc\n",
    "import seaborn as sns\n",
    "import scipy.stats\n",
    "import anndata\n",
    "import matplotlib.pyplot as plt\n",
    "import matplotlib as mpl\n",
    "from matplotlib.axes._axes import _log as matplotlib_axes_logger\n",
    "from scipy import sparse\n",
    "matplotlib_axes_logger.setLevel('ERROR')\n",
    "import warnings\n",
    "warnings.filterwarnings('ignore')"
   ]
  },
  {
   "cell_type": "code",
   "execution_count": 2,
   "metadata": {},
   "outputs": [],
   "source": [
    "pd.set_option('display.max_rows', 500)\n",
    "pd.set_option('display.max_columns', 500)\n",
    "pd.set_option('display.width', 1000)"
   ]
  },
  {
   "cell_type": "code",
   "execution_count": 3,
   "metadata": {},
   "outputs": [
    {
     "name": "stdout",
     "output_type": "stream",
     "text": [
      "scanpy==1.4.4 anndata==0.7.1 umap==0.3.10 numpy==1.17.1 scipy==1.4.1 pandas==1.0.5 scikit-learn==0.22.2.post1 statsmodels==0.11.1 python-igraph==0.8.0 louvain==0.6.1\n"
     ]
    }
   ],
   "source": [
    "sc.settings.verbosity = 1  # verbosity: errors (0), warnings (1), info (2), hints (3)\n",
    "# Set up the plot config for viewing the annotation clearly.\n",
    "sc.settings.set_figure_params(dpi=120, dpi_save=1000)\n",
    "sc.logging.print_versions()"
   ]
  },
  {
   "cell_type": "markdown",
   "metadata": {},
   "source": [
    "# Load FBM transformed dataset"
   ]
  },
  {
   "cell_type": "code",
   "execution_count": 4,
   "metadata": {},
   "outputs": [],
   "source": [
    "adata = sc.read(\"/Users/b8058304/Documents/PhD_work/Coding/manuscript_figs_mk2/data/fig1b_fbm_scaled_gex_updated_dr_20210104.h5ad\")"
   ]
  },
  {
   "cell_type": "code",
   "execution_count": 5,
   "metadata": {},
   "outputs": [
    {
     "data": {
      "text/plain": [
       "broad_fig1_cell.labels\n",
       "HSC_MPP          3795\n",
       "erythroid       26407\n",
       "MK               2624\n",
       "B_lineage       28583\n",
       "DC               2459\n",
       "eo/baso/mast     1108\n",
       "neutrophil      10486\n",
       "monocyte        20038\n",
       "T_NK             1349\n",
       "stroma           6379\n",
       "dtype: int64"
      ]
     },
     "execution_count": 5,
     "metadata": {},
     "output_type": "execute_result"
    }
   ],
   "source": [
    "cell_numbers = adata.obs.groupby([\"broad_fig1_cell.labels\"]).apply(len)\n",
    "cell_numbers"
   ]
  },
  {
   "cell_type": "code",
   "execution_count": 6,
   "metadata": {},
   "outputs": [
    {
     "data": {
      "text/plain": [
       "fetal.ids           broad_fig1_cell.labels\n",
       "F21_male_16+2PCW    HSC_MPP                     214\n",
       "                    erythroid                   569\n",
       "                    MK                          228\n",
       "                    B_lineage                  1085\n",
       "                    DC                          118\n",
       "                    eo/baso/mast                 48\n",
       "                    neutrophil                   94\n",
       "                    monocyte                    557\n",
       "                    T_NK                         50\n",
       "                    stroma                      179\n",
       "F29_female_17+0PCW  HSC_MPP                     458\n",
       "                    erythroid                  1113\n",
       "                    MK                          271\n",
       "                    B_lineage                  3532\n",
       "                    DC                          484\n",
       "                    eo/baso/mast                110\n",
       "                    neutrophil                  354\n",
       "                    monocyte                   1453\n",
       "                    T_NK                        103\n",
       "                    stroma                      283\n",
       "F30_male_14+3PCW    HSC_MPP                     629\n",
       "                    erythroid                   799\n",
       "                    MK                          317\n",
       "                    B_lineage                  2374\n",
       "                    DC                          464\n",
       "                    eo/baso/mast                161\n",
       "                    neutrophil                 1059\n",
       "                    monocyte                   3662\n",
       "                    T_NK                         87\n",
       "                    stroma                      860\n",
       "F38_male_12PCW      HSC_MPP                     105\n",
       "                    erythroid                   513\n",
       "                    MK                          211\n",
       "                    B_lineage                   587\n",
       "                    DC                           29\n",
       "                    eo/baso/mast                 51\n",
       "                    neutrophil                   86\n",
       "                    monocyte                    203\n",
       "                    T_NK                        118\n",
       "                    stroma                     1212\n",
       "F41_female_16PCW    HSC_MPP                     592\n",
       "                    erythroid                  3146\n",
       "                    MK                          249\n",
       "                    B_lineage                  1286\n",
       "                    DC                          272\n",
       "                    eo/baso/mast                119\n",
       "                    neutrophil                  346\n",
       "                    monocyte                   1437\n",
       "                    T_NK                        113\n",
       "                    stroma                      347\n",
       "F45_female_13+6PCW  HSC_MPP                     552\n",
       "                    erythroid                   764\n",
       "                    MK                          206\n",
       "                    B_lineage                  1109\n",
       "                    DC                          232\n",
       "                    eo/baso/mast                202\n",
       "                    neutrophil                  696\n",
       "                    monocyte                   2385\n",
       "                    T_NK                        120\n",
       "                    stroma                      336\n",
       "F50_female_15PCW    HSC_MPP                     472\n",
       "                    erythroid                  6564\n",
       "                    MK                          554\n",
       "                    B_lineage                  2464\n",
       "                    DC                          209\n",
       "                    eo/baso/mast                134\n",
       "                    neutrophil                 1623\n",
       "                    monocyte                   3162\n",
       "                    T_NK                        224\n",
       "                    stroma                      356\n",
       "F51_female_15PCW    HSC_MPP                     678\n",
       "                    erythroid                  9396\n",
       "                    MK                          316\n",
       "                    B_lineage                  5834\n",
       "                    DC                          584\n",
       "                    eo/baso/mast                163\n",
       "                    neutrophil                 4153\n",
       "                    monocyte                   5417\n",
       "                    T_NK                        416\n",
       "                    stroma                     1844\n",
       "SB19PCW             HSC_MPP                      95\n",
       "                    erythroid                  3543\n",
       "                    MK                          272\n",
       "                    B_lineage                 10312\n",
       "                    DC                           67\n",
       "                    eo/baso/mast                120\n",
       "                    neutrophil                 2075\n",
       "                    monocyte                   1762\n",
       "                    T_NK                        118\n",
       "                    stroma                      962\n",
       "dtype: int64"
      ]
     },
     "execution_count": 6,
     "metadata": {},
     "output_type": "execute_result"
    }
   ],
   "source": [
    "cell_numbers = adata.obs.groupby([\"fetal.ids\", \"broad_fig1_cell.labels\"]).apply(len)\n",
    "pd.DataFrame(cell_numbers).to_csv(\"/Users/b8058304/Documents/PhD_work/Coding/manuscript_figs_mk2/resources_for_pipelines/fig1d_barplot_nrs_20210104.csv\")\n",
    "cell_numbers"
   ]
  },
  {
   "cell_type": "code",
   "execution_count": 7,
   "metadata": {},
   "outputs": [
    {
     "data": {
      "text/plain": [
       "fetal.ids         cell.labels       \n",
       "F21_male_16+2PCW  CD4 T cell             12\n",
       "                  CD8 T cell             13\n",
       "                  CD14 monocyte         217\n",
       "                  CD56 bright NK          6\n",
       "                  CMP                    19\n",
       "                                       ... \n",
       "SB19PCW           promyelocyte          472\n",
       "                  schwann cells           8\n",
       "                  sinusoidal EC          42\n",
       "                  stromal macrophage     35\n",
       "                  tip EC                104\n",
       "Length: 529, dtype: int64"
      ]
     },
     "execution_count": 7,
     "metadata": {},
     "output_type": "execute_result"
    }
   ],
   "source": [
    "cell_numbers = adata.obs.groupby([\"fetal.ids\", \"cell.labels\"]).apply(len)\n",
    "pd.DataFrame(cell_numbers).to_csv(\"/Users/b8058304/Documents/PhD_work/Coding/manuscript_figs_mk2/resources_for_pipelines/fig1d_barplot_nrs_refined_20210104.csv\")\n",
    "cell_numbers"
   ]
  },
  {
   "cell_type": "code",
   "execution_count": 8,
   "metadata": {
    "scrolled": true
   },
   "outputs": [
    {
     "data": {
      "text/plain": [
       "['F21_male_16+2PCW',\n",
       " 'F29_female_17+0PCW',\n",
       " 'F30_male_14+3PCW',\n",
       " 'F38_male_12PCW',\n",
       " 'F41_female_16PCW',\n",
       " 'F45_female_13+6PCW',\n",
       " 'F50_female_15PCW',\n",
       " 'F51_female_15PCW',\n",
       " 'SB19PCW']"
      ]
     },
     "execution_count": 8,
     "metadata": {},
     "output_type": "execute_result"
    }
   ],
   "source": [
    "adata.obs[\"fetal.ids\"].unique().tolist()"
   ]
  },
  {
   "cell_type": "code",
   "execution_count": 9,
   "metadata": {},
   "outputs": [],
   "source": [
    "fetal_ids = [\n",
    " 'F38_male_12PCW', 'F45_female_13+6PCW',\n",
    " 'F30_male_14+3PCW','F50_female_15PCW', 'F51_female_15PCW',\n",
    " 'F41_female_16PCW', 'F21_male_16+2PCW', 'F29_female_17+0PCW', \n",
    "'SB19PCW']\n",
    "\n",
    "stage_ids = [\"Stage 1\", \"Stage 1\", \n",
    "            \"Stage 2\", \"Stage 2\", \"Stage 2\", \n",
    "             \"Stage 3\", \"Stage 3\", \"Stage 3\", \n",
    "            \"Stage 4\"]\n",
    "\n",
    "adata.obs[\"stage\"] = adata.obs[\"fetal.ids\"].replace(fetal_ids, stage_ids)"
   ]
  },
  {
   "cell_type": "code",
   "execution_count": 10,
   "metadata": {},
   "outputs": [],
   "source": [
    "pd.DataFrame(adata.obs).to_csv(\"/Users/b8058304/Documents/PhD_work/Coding/manuscript_figs_mk2/resources_for_pipelines/fig1d_barplot_meta_20210104.csv\")"
   ]
  },
  {
   "cell_type": "code",
   "execution_count": 11,
   "metadata": {},
   "outputs": [
    {
     "name": "stderr",
     "output_type": "stream",
     "text": [
      "... storing 'stage' as categorical\n"
     ]
    }
   ],
   "source": [
    "adata.write(\"/Users/b8058304/Documents/PhD_work/Coding/manuscript_figs_mk2/data/fig1b_fbm_scaled_gex_updated_dr_20210104.h5ad\")"
   ]
  },
  {
   "cell_type": "code",
   "execution_count": null,
   "metadata": {},
   "outputs": [],
   "source": []
  },
  {
   "cell_type": "code",
   "execution_count": null,
   "metadata": {},
   "outputs": [],
   "source": []
  },
  {
   "cell_type": "code",
   "execution_count": null,
   "metadata": {},
   "outputs": [],
   "source": []
  },
  {
   "cell_type": "code",
   "execution_count": null,
   "metadata": {},
   "outputs": [],
   "source": []
  }
 ],
 "metadata": {
  "kernelspec": {
   "display_name": "Python 3",
   "language": "python",
   "name": "python3"
  },
  "language_info": {
   "codemirror_mode": {
    "name": "ipython",
    "version": 3
   },
   "file_extension": ".py",
   "mimetype": "text/x-python",
   "name": "python",
   "nbconvert_exporter": "python",
   "pygments_lexer": "ipython3",
   "version": "3.6.4"
  }
 },
 "nbformat": 4,
 "nbformat_minor": 2
}
