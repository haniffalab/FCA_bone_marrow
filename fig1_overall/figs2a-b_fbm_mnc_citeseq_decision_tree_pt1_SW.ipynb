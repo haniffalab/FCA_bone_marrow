{
 "cells": [
  {
   "cell_type": "markdown",
   "metadata": {},
   "source": [
    "# Import packages and data "
   ]
  },
  {
   "cell_type": "code",
   "execution_count": 1,
   "metadata": {},
   "outputs": [],
   "source": [
    "import numpy as np\n",
    "import pandas as pd\n",
    "import scanpy as sc\n",
    "import seaborn as sns\n",
    "import scipy.stats\n",
    "import anndata\n",
    "import matplotlib.pyplot as plt\n",
    "import matplotlib as mpl\n",
    "from matplotlib.axes._axes import _log as matplotlib_axes_logger\n",
    "from scipy import sparse\n",
    "matplotlib_axes_logger.setLevel('ERROR')"
   ]
  },
  {
   "cell_type": "code",
   "execution_count": 2,
   "metadata": {},
   "outputs": [
    {
     "name": "stdout",
     "output_type": "stream",
     "text": [
      "scanpy==1.4.4 anndata==0.7.1 umap==0.3.10 numpy==1.17.1 scipy==1.4.1 pandas==0.23.0 scikit-learn==0.22.2.post1 statsmodels==0.11.1 python-igraph==0.8.0 louvain==0.6.1\n"
     ]
    }
   ],
   "source": [
    "sc.settings.verbosity = 1  # verbosity: errors (0), warnings (1), info (2), hints (3)\n",
    "# Set up the plot config for viewing the annotation clearly.\n",
    "sc.settings.set_figure_params(dpi=120, dpi_save=1000)\n",
    "sc.logging.print_versions()"
   ]
  },
  {
   "cell_type": "markdown",
   "metadata": {},
   "source": [
    "# Import the DSB-normalised fetal BM MNC CITE-seq data"
   ]
  },
  {
   "cell_type": "code",
   "execution_count": 3,
   "metadata": {},
   "outputs": [],
   "source": [
    "adata = sc.read('/Users/b8058304/Documents/PhD_work/Coding/fbm_mnc_cite_seq/data/080421_mq224_postQC_postDSB_postUMAP_celllabels_MNCs_ADTonmRNA_xSimone.h5ad')"
   ]
  },
  {
   "cell_type": "code",
   "execution_count": 4,
   "metadata": {
    "scrolled": true
   },
   "outputs": [
    {
     "data": {
      "text/plain": [
       "AnnData object with n_obs × n_vars = 8978 × 198 \n",
       "    obs: 'leiden', 'louvain', 'assignment', 'cell.labels', 'cell.labels.sorted'\n",
       "    var: 'bg_mean'\n",
       "    uns: 'assignment_colors', 'draw_graph', 'leiden', 'leiden_colors', 'louvain', 'neighbors', 'pca', 'umap'\n",
       "    obsm: 'X_draw_graph_fa', 'X_pca', 'X_umap', 'umap'\n",
       "    varm: 'PCs'\n",
       "    obsp: 'connectivities', 'distances'"
      ]
     },
     "execution_count": 4,
     "metadata": {},
     "output_type": "execute_result"
    }
   ],
   "source": [
    "adata"
   ]
  },
  {
   "cell_type": "code",
   "execution_count": 5,
   "metadata": {},
   "outputs": [
    {
     "data": {
      "text/plain": [
       "cell.labels\n",
       "CD4 T cell                39\n",
       "CD14 monocyte           1384\n",
       "CD56 bright NK            66\n",
       "CMP                       78\n",
       "DC1                       13\n",
       "DC2                       87\n",
       "DC3                       20\n",
       "ELP                      177\n",
       "GMP                      108\n",
       "HSC                       36\n",
       "MK                        31\n",
       "MOP                      280\n",
       "basophil                  15\n",
       "early MK                  91\n",
       "early erythroid          517\n",
       "eosinophil                22\n",
       "immature B cell          403\n",
       "late erythroid           670\n",
       "mast cell                 57\n",
       "mid erythroid            466\n",
       "naive B cell             249\n",
       "neutrophil               294\n",
       "osteoclast                58\n",
       "pDC                      139\n",
       "pre B progenitor        2241\n",
       "pre pro B progenitor     248\n",
       "pro B progenitor         366\n",
       "promonocyte              620\n",
       "promyelocyte             103\n",
       "sinusoidal EC             42\n",
       "stromal macrophage        47\n",
       "tip EC                    11\n",
       "dtype: int64"
      ]
     },
     "execution_count": 5,
     "metadata": {},
     "output_type": "execute_result"
    }
   ],
   "source": [
    "cell_numbers = adata.obs.groupby([\"cell.labels\"]).apply(len)\n",
    "cell_numbers"
   ]
  },
  {
   "cell_type": "code",
   "execution_count": 6,
   "metadata": {},
   "outputs": [],
   "source": [
    "adata.obs[\"cell.labels\"] = adata.obs[\"cell.labels\"].replace([\"HSC\", \"CMP\", \"GMP\", \"ELP\"], \n",
    "                                                            [\"CD38- pro.\", \"CD38+ pro.\", \"CD38+ pro.\", \"CD38+ pro.\"])"
   ]
  },
  {
   "cell_type": "code",
   "execution_count": 7,
   "metadata": {},
   "outputs": [
    {
     "data": {
      "text/plain": [
       "cell.labels\n",
       "CD14 monocyte           1384\n",
       "CD38+ pro.               363\n",
       "CD38- pro.                36\n",
       "CD4 T cell                39\n",
       "CD56 bright NK            66\n",
       "DC1                       13\n",
       "DC2                       87\n",
       "DC3                       20\n",
       "MK                        31\n",
       "MOP                      280\n",
       "basophil                  15\n",
       "early MK                  91\n",
       "early erythroid          517\n",
       "eosinophil                22\n",
       "immature B cell          403\n",
       "late erythroid           670\n",
       "mast cell                 57\n",
       "mid erythroid            466\n",
       "naive B cell             249\n",
       "neutrophil               294\n",
       "osteoclast                58\n",
       "pDC                      139\n",
       "pre B progenitor        2241\n",
       "pre pro B progenitor     248\n",
       "pro B progenitor         366\n",
       "promonocyte              620\n",
       "promyelocyte             103\n",
       "sinusoidal EC             42\n",
       "stromal macrophage        47\n",
       "tip EC                    11\n",
       "dtype: int64"
      ]
     },
     "execution_count": 7,
     "metadata": {},
     "output_type": "execute_result"
    }
   ],
   "source": [
    "cell_numbers = adata.obs.groupby([\"cell.labels\"]).apply(len)\n",
    "cell_numbers"
   ]
  },
  {
   "cell_type": "code",
   "execution_count": 8,
   "metadata": {},
   "outputs": [
    {
     "data": {
      "text/plain": [
       "array([[-0.48057145, -0.26291963, -0.41175377, ..., -0.572452  ,\n",
       "         1.6221988 ,  0.9438633 ],\n",
       "       [-0.48057145, -0.26291963, -0.41175377, ..., -0.572452  ,\n",
       "        -0.36134648, -0.66506106],\n",
       "       [-0.48057145, -0.26291963, -0.41175377, ..., -0.572452  ,\n",
       "         0.22465831, -0.66506106],\n",
       "       ...,\n",
       "       [ 1.6224257 ,  3.4519799 , -0.41175377, ..., -0.572452  ,\n",
       "         0.7415516 ,  0.9438633 ],\n",
       "       [-0.48057145,  3.4519799 ,  1.6438955 , ..., -0.572452  ,\n",
       "         0.7415516 , -0.66506106],\n",
       "       [ 6.299284  ,  3.4519799 ,  1.6438955 , ..., -0.572452  ,\n",
       "         6.7017026 ,  7.0606465 ]], dtype=float32)"
      ]
     },
     "execution_count": 8,
     "metadata": {},
     "output_type": "execute_result"
    }
   ],
   "source": [
    "adata.X"
   ]
  },
  {
   "cell_type": "code",
   "execution_count": 9,
   "metadata": {},
   "outputs": [],
   "source": [
    "ref = adata"
   ]
  },
  {
   "cell_type": "markdown",
   "metadata": {},
   "source": [
    "We will now save data for input into the Use Rpart package (for decision tree building)"
   ]
  },
  {
   "cell_type": "markdown",
   "metadata": {},
   "source": [
    "# Save train data (k=11 per cell type)"
   ]
  },
  {
   "cell_type": "code",
   "execution_count": 10,
   "metadata": {},
   "outputs": [],
   "source": [
    "tot_adata = anndata.AnnData\n",
    "for i in adata.obs[\"cell.labels\"].unique().tolist():\n",
    "    #print(i)\n",
    "    subset = adata[adata.obs[\"cell.labels\"].isin([i])].copy()\n",
    "    #print(subset.shape)\n",
    "    sc.pp.subsample(subset, n_obs = 11, random_state=1)\n",
    "    tot_adata = tot_adata.concatenate(subset, join='outer', index_unique=None)"
   ]
  },
  {
   "cell_type": "code",
   "execution_count": 11,
   "metadata": {},
   "outputs": [],
   "source": [
    "# Save the metadata\n",
    "adata = tot_adata\n",
    "metadata = adata.obs[\"cell.labels\"]\n",
    "df = pd.DataFrame(data=adata.X, index=adata.obs.index, columns=adata.var.index)\n",
    "df.insert(0, \"cell.labels\", metadata)\n",
    "df.to_csv('/Users/b8058304/Documents/PhD_work/Coding/manuscript_figs_mk3/resources_for_pipelines/figs3a_fbm_mnc_citeseq_dsb_counts_train_20210421.csv', sep=',', header=True, index=True, index_label='X')"
   ]
  },
  {
   "cell_type": "markdown",
   "metadata": {},
   "source": [
    "# Save test data (k=11 per cell type)"
   ]
  },
  {
   "cell_type": "code",
   "execution_count": 12,
   "metadata": {},
   "outputs": [],
   "source": [
    "adata = ref"
   ]
  },
  {
   "cell_type": "code",
   "execution_count": 13,
   "metadata": {},
   "outputs": [],
   "source": [
    "tot_adata = anndata.AnnData\n",
    "for i in adata.obs[\"cell.labels\"].unique().tolist():\n",
    "    #print(i)\n",
    "    subset = adata[adata.obs[\"cell.labels\"].isin([i])].copy()\n",
    "    #print(subset.shape)\n",
    "    sc.pp.subsample(subset, n_obs = 11, random_state=2)\n",
    "    tot_adata = tot_adata.concatenate(subset, join='outer', index_unique=None)"
   ]
  },
  {
   "cell_type": "code",
   "execution_count": 14,
   "metadata": {},
   "outputs": [],
   "source": [
    "# Save the metadata\n",
    "adata = tot_adata\n",
    "metadata = adata.obs[\"cell.labels\"]\n",
    "df = pd.DataFrame(data=adata.X, index=adata.obs.index, columns=adata.var.index)\n",
    "df.insert(0, \"cell.labels\", metadata)\n",
    "df.to_csv('/Users/b8058304/Documents/PhD_work/Coding/manuscript_figs_mk3/resources_for_pipelines/figs3a_fbm_mnc_citeseq_dsb_counts_test_20210421.csv', sep=',', header=True, index=True, index_label='X')"
   ]
  },
  {
   "cell_type": "code",
   "execution_count": null,
   "metadata": {},
   "outputs": [],
   "source": []
  }
 ],
 "metadata": {
  "kernelspec": {
   "display_name": "Python 3",
   "language": "python",
   "name": "python3"
  },
  "language_info": {
   "codemirror_mode": {
    "name": "ipython",
    "version": 3
   },
   "file_extension": ".py",
   "mimetype": "text/x-python",
   "name": "python",
   "nbconvert_exporter": "python",
   "pygments_lexer": "ipython3",
   "version": "3.6.4"
  }
 },
 "nbformat": 4,
 "nbformat_minor": 2
}
