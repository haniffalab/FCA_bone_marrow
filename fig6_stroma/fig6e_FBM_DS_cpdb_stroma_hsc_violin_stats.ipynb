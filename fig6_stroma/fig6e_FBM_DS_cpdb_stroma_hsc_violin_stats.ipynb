{
 "cells": [
  {
   "cell_type": "markdown",
   "metadata": {},
   "source": [
    "# Import packages"
   ]
  },
  {
   "cell_type": "code",
   "execution_count": 1,
   "metadata": {},
   "outputs": [
    {
     "name": "stderr",
     "output_type": "stream",
     "text": [
      "/Users/b8058304/.pyenv/versions/3.6.4/envs/py36/lib/python3.6/site-packages/anndata/_core/anndata.py:21: FutureWarning: pandas.core.index is deprecated and will be removed in a future version.  The public classes are available in the top-level namespace.\n",
      "  from pandas.core.index import RangeIndex\n"
     ]
    }
   ],
   "source": [
    "import numpy as np\n",
    "import pandas as pd\n",
    "import scanpy as sc\n",
    "import seaborn as sns\n",
    "import scipy.stats\n",
    "import anndata\n",
    "import matplotlib.pyplot as plt\n",
    "import matplotlib as mpl\n",
    "from matplotlib.axes._axes import _log as matplotlib_axes_logger\n",
    "from scipy import sparse\n",
    "matplotlib_axes_logger.setLevel('ERROR')\n",
    "# silence NumbaPerformanceWarning\n",
    "import warnings\n",
    "from numba.errors import NumbaPerformanceWarning\n",
    "warnings.filterwarnings(\"ignore\", category=NumbaPerformanceWarning)"
   ]
  },
  {
   "cell_type": "code",
   "execution_count": 2,
   "metadata": {},
   "outputs": [
    {
     "name": "stdout",
     "output_type": "stream",
     "text": [
      "scanpy==1.4.4 anndata==0.7.1 umap==0.3.10 numpy==1.17.1 scipy==1.4.1 pandas==1.0.5 scikit-learn==0.22.2.post1 statsmodels==0.11.1 python-igraph==0.8.0 louvain==0.6.1\n"
     ]
    }
   ],
   "source": [
    "sc.settings.verbosity = 1  # verbosity: errors (0), warnings (1), info (2), hints (3)\n",
    "# Set up the plot config for viewing the annotation clearly.\n",
    "sc.settings.set_figure_params(dpi=120, dpi_save=1000)\n",
    "sc.logging.print_versions()"
   ]
  },
  {
   "cell_type": "markdown",
   "metadata": {},
   "source": [
    "# Load HSC and endothelium from DS-FBM and non-DS FBM"
   ]
  },
  {
   "cell_type": "markdown",
   "metadata": {},
   "source": [
    "# Import the FBM HSC and endo"
   ]
  },
  {
   "cell_type": "code",
   "execution_count": 3,
   "metadata": {},
   "outputs": [],
   "source": [
    "adata = sc.read('/Users/b8058304/Documents/PhD_work/Coding/bm_plus_19pcw/data/bm_plus_19pcw_raw_dr_20200718.h5ad')"
   ]
  },
  {
   "cell_type": "code",
   "execution_count": 4,
   "metadata": {
    "scrolled": true
   },
   "outputs": [
    {
     "data": {
      "text/plain": [
       "(104562, 33712)"
      ]
     },
     "execution_count": 4,
     "metadata": {},
     "output_type": "execute_result"
    }
   ],
   "source": [
    "adata.shape"
   ]
  },
  {
   "cell_type": "code",
   "execution_count": 5,
   "metadata": {
    "scrolled": true
   },
   "outputs": [
    {
     "data": {
      "text/plain": [
       "cell.labels\n",
       "CD4 T cell             327\n",
       "CD8 T cell             171\n",
       "CD14 monocyte         8787\n",
       "CD56 bright NK         450\n",
       "CMP                    425\n",
       "                      ... \n",
       "schwann cells            9\n",
       "sinusoidal EC          550\n",
       "stromal macrophage    1493\n",
       "tDC                    193\n",
       "tip EC                 363\n",
       "Length: 64, dtype: int64"
      ]
     },
     "execution_count": 5,
     "metadata": {},
     "output_type": "execute_result"
    }
   ],
   "source": [
    "cell_numbers = adata.obs.groupby([\"cell.labels\"]).apply(len)\n",
    "cell_numbers"
   ]
  },
  {
   "cell_type": "code",
   "execution_count": 6,
   "metadata": {},
   "outputs": [],
   "source": [
    "from scipy import sparse\n",
    "array_vals = adata.X\n",
    "adata.X = sparse.csr_matrix(adata.X)\n",
    "adata.raw = adata\n",
    "adata.X = array_vals"
   ]
  },
  {
   "cell_type": "code",
   "execution_count": 7,
   "metadata": {},
   "outputs": [],
   "source": [
    "adata = adata[adata.obs['cell.labels'].isin(['HSC', 'sinusoidal EC',  \n",
    "                                            'proliferating EC', 'tip EC'])].copy()"
   ]
  },
  {
   "cell_type": "code",
   "execution_count": 8,
   "metadata": {},
   "outputs": [
    {
     "data": {
      "text/plain": [
       "cell.labels\n",
       "HSC                  92\n",
       "proliferating EC     26\n",
       "sinusoidal EC       550\n",
       "tip EC              363\n",
       "dtype: int64"
      ]
     },
     "execution_count": 8,
     "metadata": {},
     "output_type": "execute_result"
    }
   ],
   "source": [
    "cell_numbers = adata.obs.groupby([\"cell.labels\"]).apply(len)\n",
    "cell_numbers"
   ]
  },
  {
   "cell_type": "code",
   "execution_count": 9,
   "metadata": {},
   "outputs": [],
   "source": [
    "adata.obs['cell.labels'] = adata.obs['cell.labels'].replace([\"proliferating EC\", \"sinusoidal EC\", \n",
    "                                                             \"tip EC\"], [\"endothelium\", \"endothelium\", \n",
    "                                                                        \"endothelium\"])"
   ]
  },
  {
   "cell_type": "code",
   "execution_count": 10,
   "metadata": {},
   "outputs": [
    {
     "data": {
      "text/plain": [
       "cell.labels\n",
       "HSC             92\n",
       "endothelium    939\n",
       "dtype: int64"
      ]
     },
     "execution_count": 10,
     "metadata": {},
     "output_type": "execute_result"
    }
   ],
   "source": [
    "cell_numbers = adata.obs.groupby([\"cell.labels\"]).apply(len)\n",
    "cell_numbers"
   ]
  },
  {
   "cell_type": "code",
   "execution_count": 11,
   "metadata": {},
   "outputs": [],
   "source": [
    "adata.obs[\"dataset\"] = \"fbm\""
   ]
  },
  {
   "cell_type": "code",
   "execution_count": 12,
   "metadata": {},
   "outputs": [],
   "source": [
    "fbm = adata"
   ]
  },
  {
   "cell_type": "markdown",
   "metadata": {},
   "source": [
    "# Import the DS HSC and endo"
   ]
  },
  {
   "cell_type": "code",
   "execution_count": 13,
   "metadata": {},
   "outputs": [],
   "source": [
    "adata = sc.read('/Users/b8058304/Documents/PhD_work/Coding/downs_bm/data/downs_raw_dr_20200714.h5ad')"
   ]
  },
  {
   "cell_type": "code",
   "execution_count": 14,
   "metadata": {
    "scrolled": true
   },
   "outputs": [
    {
     "data": {
      "text/plain": [
       "(8622, 33694)"
      ]
     },
     "execution_count": 14,
     "metadata": {},
     "output_type": "execute_result"
    }
   ],
   "source": [
    "adata.shape"
   ]
  },
  {
   "cell_type": "code",
   "execution_count": 15,
   "metadata": {
    "scrolled": false
   },
   "outputs": [
    {
     "data": {
      "text/plain": [
       "cell.labels\n",
       "CAR                          4\n",
       "CD8 T cell                  55\n",
       "CD14 monocyte              252\n",
       "CD56 bright NK              36\n",
       "CMP                         37\n",
       "DC1                         16\n",
       "DC2                         94\n",
       "DC3                         98\n",
       "HSC                         45\n",
       "ILC precursor               13\n",
       "MEMP                        42\n",
       "MK                          25\n",
       "MOP                        350\n",
       "MSC                         18\n",
       "Treg                         8\n",
       "chondrocyte                  4\n",
       "early B cell                23\n",
       "early MK                     7\n",
       "early erythroid            766\n",
       "endothelium                 37\n",
       "eo/baso/mast precursor      40\n",
       "eosinophil                  41\n",
       "late erythroid            3341\n",
       "macrophage                  64\n",
       "mast cell                   27\n",
       "mature B cell               20\n",
       "mature NK                   69\n",
       "mid erythroid             2082\n",
       "myelocyte                  218\n",
       "neutrophil                 245\n",
       "osteoblast                  11\n",
       "osteoclast                  17\n",
       "pDC                         14\n",
       "pre B cell                  59\n",
       "pre pDC                     40\n",
       "promonocyte                321\n",
       "promyelocyte                72\n",
       "transitional NK cell        11\n",
       "dtype: int64"
      ]
     },
     "execution_count": 15,
     "metadata": {},
     "output_type": "execute_result"
    }
   ],
   "source": [
    "cell_numbers = adata.obs.groupby([\"cell.labels\"]).apply(len)\n",
    "cell_numbers"
   ]
  },
  {
   "cell_type": "code",
   "execution_count": 16,
   "metadata": {},
   "outputs": [],
   "source": [
    "adata = adata[adata.obs['cell.labels'].isin(['HSC', 'endothelium'])].copy()"
   ]
  },
  {
   "cell_type": "code",
   "execution_count": 17,
   "metadata": {},
   "outputs": [
    {
     "data": {
      "text/plain": [
       "cell.labels\n",
       "HSC            45\n",
       "endothelium    37\n",
       "dtype: int64"
      ]
     },
     "execution_count": 17,
     "metadata": {},
     "output_type": "execute_result"
    }
   ],
   "source": [
    "cell_numbers = adata.obs.groupby([\"cell.labels\"]).apply(len)\n",
    "cell_numbers"
   ]
  },
  {
   "cell_type": "code",
   "execution_count": 18,
   "metadata": {},
   "outputs": [],
   "source": [
    "adata.obs[\"dataset\"] = \"ds_fbm\"\n",
    "ds_fbm = adata"
   ]
  },
  {
   "cell_type": "markdown",
   "metadata": {},
   "source": [
    "# Combine the datasets"
   ]
  },
  {
   "cell_type": "code",
   "execution_count": 19,
   "metadata": {},
   "outputs": [],
   "source": [
    "from scipy import sparse\n",
    "\n",
    "objects = [ds_fbm, fbm]\n",
    "\n",
    "for i in objects:\n",
    "    array_vals = i.X\n",
    "    i.X = sparse.csr_matrix(i.X)\n",
    "    i.raw = i\n",
    "    i.X = array_vals"
   ]
  },
  {
   "cell_type": "code",
   "execution_count": 20,
   "metadata": {},
   "outputs": [],
   "source": [
    "merged = fbm.concatenate(ds_fbm, index_unique=None, join='inner')"
   ]
  },
  {
   "cell_type": "code",
   "execution_count": 21,
   "metadata": {},
   "outputs": [
    {
     "data": {
      "text/plain": [
       "(1113, 33694)"
      ]
     },
     "execution_count": 21,
     "metadata": {},
     "output_type": "execute_result"
    }
   ],
   "source": [
    "merged.shape"
   ]
  },
  {
   "cell_type": "code",
   "execution_count": 22,
   "metadata": {},
   "outputs": [
    {
     "data": {
      "text/plain": [
       "cell.labels\n",
       "HSC            137\n",
       "endothelium    976\n",
       "dtype: int64"
      ]
     },
     "execution_count": 22,
     "metadata": {},
     "output_type": "execute_result"
    }
   ],
   "source": [
    "cell_numbers = merged.obs.groupby([\"cell.labels\"]).apply(len)\n",
    "cell_numbers"
   ]
  },
  {
   "cell_type": "code",
   "execution_count": 23,
   "metadata": {},
   "outputs": [],
   "source": [
    "merged.obs[\"dataset_cell.labels\"] = merged.obs[\"dataset\"].astype(str) + '_' + merged.obs[\"cell.labels\"].astype(str)"
   ]
  },
  {
   "cell_type": "code",
   "execution_count": 24,
   "metadata": {},
   "outputs": [
    {
     "data": {
      "text/plain": [
       "dataset_cell.labels\n",
       "ds_fbm_HSC             45\n",
       "ds_fbm_endothelium     37\n",
       "fbm_HSC                92\n",
       "fbm_endothelium       939\n",
       "dtype: int64"
      ]
     },
     "execution_count": 24,
     "metadata": {},
     "output_type": "execute_result"
    }
   ],
   "source": [
    "cell_numbers = merged.obs.groupby([\"dataset_cell.labels\"]).apply(len)\n",
    "cell_numbers"
   ]
  },
  {
   "cell_type": "markdown",
   "metadata": {},
   "source": [
    "# Pre-process the data"
   ]
  },
  {
   "cell_type": "code",
   "execution_count": 25,
   "metadata": {},
   "outputs": [],
   "source": [
    "adata=merged"
   ]
  },
  {
   "cell_type": "code",
   "execution_count": 26,
   "metadata": {},
   "outputs": [],
   "source": [
    "# normalise count data \n",
    "sc.pp.normalize_total(adata)"
   ]
  },
  {
   "cell_type": "code",
   "execution_count": 27,
   "metadata": {},
   "outputs": [],
   "source": [
    "# log the count data \n",
    "sc.pp.log1p(adata)"
   ]
  },
  {
   "cell_type": "code",
   "execution_count": 28,
   "metadata": {},
   "outputs": [],
   "source": [
    "# find variable genes\n",
    "sc.pp.highly_variable_genes(adata, min_mean=0.0125, max_mean=3, min_disp=0.5) "
   ]
  },
  {
   "cell_type": "code",
   "execution_count": 29,
   "metadata": {},
   "outputs": [],
   "source": [
    "# scale the data \n",
    "sc.pp.scale(adata, max_value=10)\n",
    "# scale the negative values in adata.X (which have been normalised, logged and scaled) to zero \n",
    "adata.X = np.where(adata.X < 0, 0, adata.X)"
   ]
  },
  {
   "cell_type": "markdown",
   "metadata": {},
   "source": [
    "# Run violin plots for HSC"
   ]
  },
  {
   "cell_type": "code",
   "execution_count": 30,
   "metadata": {},
   "outputs": [
    {
     "data": {
      "text/plain": [
       "dataset_cell.labels\n",
       "ds_fbm_HSC             45\n",
       "ds_fbm_endothelium     37\n",
       "fbm_HSC                92\n",
       "fbm_endothelium       939\n",
       "dtype: int64"
      ]
     },
     "execution_count": 30,
     "metadata": {},
     "output_type": "execute_result"
    }
   ],
   "source": [
    "cell_numbers = adata.obs.groupby([\"dataset_cell.labels\"]).apply(len)\n",
    "cell_numbers"
   ]
  },
  {
   "cell_type": "code",
   "execution_count": 31,
   "metadata": {},
   "outputs": [],
   "source": [
    "hsc_genes=[\"NRP2\", \"ESAM\", \"FGFR1\", \"NOTCH1\", \"TNFRSF10C\", \"KRT19\", \"CD44\", \"NOTCH2\", \"KRT19\", \"NRP2\", \"KRT19\", \n",
    "          \"FZD6\", \"PLAUR\", \"SELL\", \"KIT\", \"MERTK\", \"KRT19\", \"CD46\", \"FLT3\", \"JAM3\", \"KRT19\"]"
   ]
  },
  {
   "cell_type": "code",
   "execution_count": 32,
   "metadata": {},
   "outputs": [
    {
     "name": "stderr",
     "output_type": "stream",
     "text": [
      "... storing 'age' as categorical\n",
      "... storing 'april_cell.labels' as categorical\n",
      "... storing 'auto_prd' as categorical\n",
      "... storing 'cell.labels' as categorical\n",
      "... storing 'cell.labels_20200708' as categorical\n",
      "... storing 'cell.labels_20200713' as categorical\n",
      "... storing 'cell.labels_20200718' as categorical\n",
      "... storing 'dataset' as categorical\n",
      "... storing 'doublets' as categorical\n",
      "... storing 'fetal.ids' as categorical\n",
      "... storing 'gender' as categorical\n",
      "... storing 'is_doublet' as categorical\n",
      "... storing 'is_doublet_poptrim' as categorical\n",
      "... storing 'is_doublet_wolock' as categorical\n",
      "... storing 'lanes' as categorical\n",
      "... storing 'mad_prd' as categorical\n",
      "... storing 'nk_meta' as categorical\n",
      "... storing 'orig.ident' as categorical\n",
      "... storing 'processing.type' as categorical\n",
      "... storing 'sequencing.type' as categorical\n",
      "... storing 'sort.ids' as categorical\n"
     ]
    },
    {
     "name": "stdout",
     "output_type": "stream",
     "text": [
      "WARNING: saving figure to file figures/stacked_violinhsc_ds_nonds_fbm_violin_20200722.pdf\n"
     ]
    },
    {
     "data": {
      "image/png": "[encoded data removed]",
      "text/plain": [
       "<Figure size 800x200 with 2 Axes>"
      ]
     },
     "metadata": {
      "image/png": {
       "height": 276,
       "width": 745
      },
      "needs_background": "light"
     },
     "output_type": "display_data"
    },
    {
     "data": {
      "text/plain": [
       "[<matplotlib.axes._subplots.AxesSubplot at 0x131a61860>,\n",
       " <matplotlib.axes._subplots.AxesSubplot at 0x131a618d0>]"
      ]
     },
     "execution_count": 32,
     "metadata": {},
     "output_type": "execute_result"
    }
   ],
   "source": [
    "sc.settings.set_figure_params(dpi=100, dpi_save=1000)\n",
    "\n",
    "adata.obs[\"dataset_cell.labels\"] = adata.obs[\"dataset_cell.labels\"].astype(\"category\")\n",
    "\n",
    "subset = adata[adata.obs['dataset_cell.labels'].isin(['ds_fbm_HSC', 'fbm_HSC'])].copy()\n",
    "\n",
    "subset.obs[\"dataset_cell.labels\"] = subset.obs[\"dataset_cell.labels\"].cat.reorder_categories(\n",
    "    ['ds_fbm_HSC', 'fbm_HSC'])\n",
    "\n",
    "sc.pl.stacked_violin(subset, var_names=hsc_genes, save=\"hsc_ds_nonds_fbm_violin_20200722.pdf\", \n",
    "                     rotation=90, \n",
    "                     groupby='dataset_cell.labels', use_raw=False, swap_axes=False, figsize=(8,2), \n",
    "                     row_palette=[\"#ffffff\", \"#ffffff\"])"
   ]
  },
  {
   "cell_type": "code",
   "execution_count": 33,
   "metadata": {},
   "outputs": [
    {
     "name": "stderr",
     "output_type": "stream",
     "text": [
      "Variable names are not unique. To make them unique, call `.var_names_make_unique`.\n",
      "... storing 'age' as categorical\n",
      "... storing 'april_cell.labels' as categorical\n",
      "... storing 'auto_prd' as categorical\n",
      "... storing 'cell.labels' as categorical\n",
      "... storing 'cell.labels_20200708' as categorical\n",
      "... storing 'cell.labels_20200713' as categorical\n",
      "... storing 'cell.labels_20200718' as categorical\n",
      "... storing 'dataset' as categorical\n",
      "... storing 'doublets' as categorical\n",
      "... storing 'fetal.ids' as categorical\n",
      "... storing 'gender' as categorical\n",
      "... storing 'is_doublet' as categorical\n",
      "... storing 'is_doublet_poptrim' as categorical\n",
      "... storing 'is_doublet_wolock' as categorical\n",
      "... storing 'lanes' as categorical\n",
      "... storing 'mad_prd' as categorical\n",
      "... storing 'nk_meta' as categorical\n",
      "... storing 'orig.ident' as categorical\n",
      "... storing 'processing.type' as categorical\n",
      "... storing 'sequencing.type' as categorical\n",
      "... storing 'sort.ids' as categorical\n",
      "... storing 'gene_ids-1' as categorical\n"
     ]
    },
    {
     "data": {
      "text/html": [
       "<div>\n",
       "<style scoped>\n",
       "    .dataframe tbody tr th:only-of-type {\n",
       "        vertical-align: middle;\n",
       "    }\n",
       "\n",
       "    .dataframe tbody tr th {\n",
       "        vertical-align: top;\n",
       "    }\n",
       "\n",
       "    .dataframe thead th {\n",
       "        text-align: right;\n",
       "    }\n",
       "</style>\n",
       "<table border=\"1\" class=\"dataframe\">\n",
       "  <thead>\n",
       "    <tr style=\"text-align: right;\">\n",
       "      <th></th>\n",
       "      <th>ds_fbm_HSC_names</th>\n",
       "      <th>ds_fbm_HSC_logfold</th>\n",
       "      <th>ds_fbm_HSC_pvals</th>\n",
       "      <th>ds_fbm_HSC_pvals_a</th>\n",
       "      <th>fbm_HSC_names</th>\n",
       "      <th>fbm_HSC_logfold</th>\n",
       "      <th>fbm_HSC_pvals</th>\n",
       "      <th>fbm_HSC_pvals_a</th>\n",
       "    </tr>\n",
       "  </thead>\n",
       "  <tbody>\n",
       "    <tr>\n",
       "      <th>0</th>\n",
       "      <td>CD44</td>\n",
       "      <td>6.223911</td>\n",
       "      <td>1.226748e-25</td>\n",
       "      <td>2.576172e-24</td>\n",
       "      <td>SELL</td>\n",
       "      <td>5.346089</td>\n",
       "      <td>4.590422e-43</td>\n",
       "      <td>9.639886e-42</td>\n",
       "    </tr>\n",
       "    <tr>\n",
       "      <th>1</th>\n",
       "      <td>SELL</td>\n",
       "      <td>2.302608</td>\n",
       "      <td>7.404274e-10</td>\n",
       "      <td>3.109795e-09</td>\n",
       "      <td>CD44</td>\n",
       "      <td>4.745214</td>\n",
       "      <td>4.197826e-36</td>\n",
       "      <td>4.407717e-35</td>\n",
       "    </tr>\n",
       "    <tr>\n",
       "      <th>2</th>\n",
       "      <td>FLT3</td>\n",
       "      <td>5.401942</td>\n",
       "      <td>5.394167e-07</td>\n",
       "      <td>1.618250e-06</td>\n",
       "      <td>KIT</td>\n",
       "      <td>0.458754</td>\n",
       "      <td>1.853929e-05</td>\n",
       "      <td>3.893251e-05</td>\n",
       "    </tr>\n",
       "    <tr>\n",
       "      <th>3</th>\n",
       "      <td>PLAUR</td>\n",
       "      <td>2.344579</td>\n",
       "      <td>3.712459e-04</td>\n",
       "      <td>7.796164e-04</td>\n",
       "      <td>FLT3</td>\n",
       "      <td>4.779695</td>\n",
       "      <td>1.172921e-04</td>\n",
       "      <td>2.239213e-04</td>\n",
       "    </tr>\n",
       "    <tr>\n",
       "      <th>4</th>\n",
       "      <td>NOTCH2</td>\n",
       "      <td>2.106556</td>\n",
       "      <td>2.528904e-02</td>\n",
       "      <td>4.425582e-02</td>\n",
       "      <td>NOTCH2</td>\n",
       "      <td>2.354777</td>\n",
       "      <td>2.427755e-03</td>\n",
       "      <td>4.248572e-03</td>\n",
       "    </tr>\n",
       "    <tr>\n",
       "      <th>5</th>\n",
       "      <td>TNFRSF10C</td>\n",
       "      <td>0.373705</td>\n",
       "      <td>1.047079e-01</td>\n",
       "      <td>1.691435e-01</td>\n",
       "      <td>MERTK</td>\n",
       "      <td>0.617120</td>\n",
       "      <td>2.627606e-01</td>\n",
       "      <td>4.244594e-01</td>\n",
       "    </tr>\n",
       "    <tr>\n",
       "      <th>6</th>\n",
       "      <td>FZD6</td>\n",
       "      <td>-0.998851</td>\n",
       "      <td>8.004136e-01</td>\n",
       "      <td>9.915009e-01</td>\n",
       "      <td>TNFRSF10C</td>\n",
       "      <td>0.470308</td>\n",
       "      <td>3.559348e-01</td>\n",
       "      <td>4.983087e-01</td>\n",
       "    </tr>\n",
       "    <tr>\n",
       "      <th>7</th>\n",
       "      <td>MERTK</td>\n",
       "      <td>-1.699085</td>\n",
       "      <td>8.139798e-01</td>\n",
       "      <td>9.915009e-01</td>\n",
       "      <td>PLAUR</td>\n",
       "      <td>-0.930031</td>\n",
       "      <td>9.091407e-01</td>\n",
       "      <td>9.875714e-01</td>\n",
       "    </tr>\n",
       "    <tr>\n",
       "      <th>8</th>\n",
       "      <td>KRT19</td>\n",
       "      <td>-23.165344</td>\n",
       "      <td>9.915009e-01</td>\n",
       "      <td>9.915009e-01</td>\n",
       "      <td>KRT19</td>\n",
       "      <td>-23.230585</td>\n",
       "      <td>9.875714e-01</td>\n",
       "      <td>9.875714e-01</td>\n",
       "    </tr>\n",
       "    <tr>\n",
       "      <th>9</th>\n",
       "      <td>KRT19</td>\n",
       "      <td>-23.165344</td>\n",
       "      <td>9.915009e-01</td>\n",
       "      <td>9.915009e-01</td>\n",
       "      <td>KRT19</td>\n",
       "      <td>-23.230585</td>\n",
       "      <td>9.875714e-01</td>\n",
       "      <td>9.875714e-01</td>\n",
       "    </tr>\n",
       "    <tr>\n",
       "      <th>10</th>\n",
       "      <td>KRT19</td>\n",
       "      <td>-23.165344</td>\n",
       "      <td>9.915009e-01</td>\n",
       "      <td>9.915009e-01</td>\n",
       "      <td>KRT19</td>\n",
       "      <td>-23.230585</td>\n",
       "      <td>9.875714e-01</td>\n",
       "      <td>9.875714e-01</td>\n",
       "    </tr>\n",
       "    <tr>\n",
       "      <th>11</th>\n",
       "      <td>KRT19</td>\n",
       "      <td>-23.165344</td>\n",
       "      <td>9.915009e-01</td>\n",
       "      <td>9.915009e-01</td>\n",
       "      <td>KRT19</td>\n",
       "      <td>-23.230585</td>\n",
       "      <td>9.875714e-01</td>\n",
       "      <td>9.875714e-01</td>\n",
       "    </tr>\n",
       "    <tr>\n",
       "      <th>12</th>\n",
       "      <td>KRT19</td>\n",
       "      <td>-23.165344</td>\n",
       "      <td>9.915009e-01</td>\n",
       "      <td>9.915009e-01</td>\n",
       "      <td>KRT19</td>\n",
       "      <td>-23.230585</td>\n",
       "      <td>9.875714e-01</td>\n",
       "      <td>9.875714e-01</td>\n",
       "    </tr>\n",
       "    <tr>\n",
       "      <th>13</th>\n",
       "      <td>KIT</td>\n",
       "      <td>-1.594496</td>\n",
       "      <td>6.496442e-01</td>\n",
       "      <td>9.744664e-01</td>\n",
       "      <td>FZD6</td>\n",
       "      <td>-1.526313</td>\n",
       "      <td>3.227436e-01</td>\n",
       "      <td>4.841154e-01</td>\n",
       "    </tr>\n",
       "    <tr>\n",
       "      <th>14</th>\n",
       "      <td>CD46</td>\n",
       "      <td>-1.857558</td>\n",
       "      <td>7.007430e-04</td>\n",
       "      <td>1.337782e-03</td>\n",
       "      <td>CD46</td>\n",
       "      <td>-2.242380</td>\n",
       "      <td>3.222553e-07</td>\n",
       "      <td>7.519290e-07</td>\n",
       "    </tr>\n",
       "    <tr>\n",
       "      <th>15</th>\n",
       "      <td>JAM3</td>\n",
       "      <td>-2.956511</td>\n",
       "      <td>1.072360e-04</td>\n",
       "      <td>2.502174e-04</td>\n",
       "      <td>JAM3</td>\n",
       "      <td>-3.543869</td>\n",
       "      <td>2.653621e-08</td>\n",
       "      <td>6.965755e-08</td>\n",
       "    </tr>\n",
       "    <tr>\n",
       "      <th>16</th>\n",
       "      <td>NOTCH1</td>\n",
       "      <td>-3.094201</td>\n",
       "      <td>5.582416e-06</td>\n",
       "      <td>1.465384e-05</td>\n",
       "      <td>NOTCH1</td>\n",
       "      <td>-5.788164</td>\n",
       "      <td>9.940971e-15</td>\n",
       "      <td>2.982291e-14</td>\n",
       "    </tr>\n",
       "    <tr>\n",
       "      <th>17</th>\n",
       "      <td>FGFR1</td>\n",
       "      <td>-29.052792</td>\n",
       "      <td>2.288581e-09</td>\n",
       "      <td>8.010032e-09</td>\n",
       "      <td>FGFR1</td>\n",
       "      <td>-7.760826</td>\n",
       "      <td>1.678233e-17</td>\n",
       "      <td>5.873814e-17</td>\n",
       "    </tr>\n",
       "    <tr>\n",
       "      <th>18</th>\n",
       "      <td>NRP2</td>\n",
       "      <td>-29.028755</td>\n",
       "      <td>2.222031e-12</td>\n",
       "      <td>1.166566e-11</td>\n",
       "      <td>NRP2</td>\n",
       "      <td>-29.109262</td>\n",
       "      <td>1.006893e-24</td>\n",
       "      <td>4.228952e-24</td>\n",
       "    </tr>\n",
       "    <tr>\n",
       "      <th>19</th>\n",
       "      <td>NRP2</td>\n",
       "      <td>-29.028755</td>\n",
       "      <td>2.222031e-12</td>\n",
       "      <td>1.166566e-11</td>\n",
       "      <td>NRP2</td>\n",
       "      <td>-29.109262</td>\n",
       "      <td>1.006893e-24</td>\n",
       "      <td>4.228952e-24</td>\n",
       "    </tr>\n",
       "    <tr>\n",
       "      <th>20</th>\n",
       "      <td>ESAM</td>\n",
       "      <td>-28.999817</td>\n",
       "      <td>1.030945e-12</td>\n",
       "      <td>1.082493e-11</td>\n",
       "      <td>ESAM</td>\n",
       "      <td>-29.080055</td>\n",
       "      <td>1.980603e-25</td>\n",
       "      <td>1.386422e-24</td>\n",
       "    </tr>\n",
       "  </tbody>\n",
       "</table>\n",
       "</div>"
      ],
      "text/plain": [
       "   ds_fbm_HSC_names  ds_fbm_HSC_logfold  ds_fbm_HSC_pvals  ds_fbm_HSC_pvals_a  \\\n",
       "0              CD44            6.223911      1.226748e-25        2.576172e-24   \n",
       "1              SELL            2.302608      7.404274e-10        3.109795e-09   \n",
       "2              FLT3            5.401942      5.394167e-07        1.618250e-06   \n",
       "3             PLAUR            2.344579      3.712459e-04        7.796164e-04   \n",
       "4            NOTCH2            2.106556      2.528904e-02        4.425582e-02   \n",
       "5         TNFRSF10C            0.373705      1.047079e-01        1.691435e-01   \n",
       "6              FZD6           -0.998851      8.004136e-01        9.915009e-01   \n",
       "7             MERTK           -1.699085      8.139798e-01        9.915009e-01   \n",
       "8             KRT19          -23.165344      9.915009e-01        9.915009e-01   \n",
       "9             KRT19          -23.165344      9.915009e-01        9.915009e-01   \n",
       "10            KRT19          -23.165344      9.915009e-01        9.915009e-01   \n",
       "11            KRT19          -23.165344      9.915009e-01        9.915009e-01   \n",
       "12            KRT19          -23.165344      9.915009e-01        9.915009e-01   \n",
       "13              KIT           -1.594496      6.496442e-01        9.744664e-01   \n",
       "14             CD46           -1.857558      7.007430e-04        1.337782e-03   \n",
       "15             JAM3           -2.956511      1.072360e-04        2.502174e-04   \n",
       "16           NOTCH1           -3.094201      5.582416e-06        1.465384e-05   \n",
       "17            FGFR1          -29.052792      2.288581e-09        8.010032e-09   \n",
       "18             NRP2          -29.028755      2.222031e-12        1.166566e-11   \n",
       "19             NRP2          -29.028755      2.222031e-12        1.166566e-11   \n",
       "20             ESAM          -28.999817      1.030945e-12        1.082493e-11   \n",
       "\n",
       "   fbm_HSC_names  fbm_HSC_logfold  fbm_HSC_pvals  fbm_HSC_pvals_a  \n",
       "0           SELL         5.346089   4.590422e-43     9.639886e-42  \n",
       "1           CD44         4.745214   4.197826e-36     4.407717e-35  \n",
       "2            KIT         0.458754   1.853929e-05     3.893251e-05  \n",
       "3           FLT3         4.779695   1.172921e-04     2.239213e-04  \n",
       "4         NOTCH2         2.354777   2.427755e-03     4.248572e-03  \n",
       "5          MERTK         0.617120   2.627606e-01     4.244594e-01  \n",
       "6      TNFRSF10C         0.470308   3.559348e-01     4.983087e-01  \n",
       "7          PLAUR        -0.930031   9.091407e-01     9.875714e-01  \n",
       "8          KRT19       -23.230585   9.875714e-01     9.875714e-01  \n",
       "9          KRT19       -23.230585   9.875714e-01     9.875714e-01  \n",
       "10         KRT19       -23.230585   9.875714e-01     9.875714e-01  \n",
       "11         KRT19       -23.230585   9.875714e-01     9.875714e-01  \n",
       "12         KRT19       -23.230585   9.875714e-01     9.875714e-01  \n",
       "13          FZD6        -1.526313   3.227436e-01     4.841154e-01  \n",
       "14          CD46        -2.242380   3.222553e-07     7.519290e-07  \n",
       "15          JAM3        -3.543869   2.653621e-08     6.965755e-08  \n",
       "16        NOTCH1        -5.788164   9.940971e-15     2.982291e-14  \n",
       "17         FGFR1        -7.760826   1.678233e-17     5.873814e-17  \n",
       "18          NRP2       -29.109262   1.006893e-24     4.228952e-24  \n",
       "19          NRP2       -29.109262   1.006893e-24     4.228952e-24  \n",
       "20          ESAM       -29.080055   1.980603e-25     1.386422e-24  "
      ]
     },
     "execution_count": 33,
     "metadata": {},
     "output_type": "execute_result"
    }
   ],
   "source": [
    "subset = adata[:, hsc_genes].copy()\n",
    "\n",
    "sc.tl.rank_genes_groups(subset, groupby='dataset_cell.labels', method='wilcoxon', use_raw=False, \n",
    "                        log_transformed=True, groups=['ds_fbm_HSC', 'fbm_HSC'], n_genes=subset.shape[1])\n",
    "\n",
    "# save df for filtered degs\n",
    "result = subset.uns['rank_genes_groups']\n",
    "groups = result['names'].dtype.names\n",
    "degs_by_cluster = pd.DataFrame({group + '_' + key[:7]: result[key][group]\n",
    "    for group in groups for key in ['names', 'logfoldchanges', 'pvals', 'pvals_adj']})\n",
    "# the degs_by_cluster df shows the log2 fold change for each gene ordered by z-score underlying the computation \n",
    "# of a p-value for each gene for each group\n",
    "degs_by_cluster.to_csv(\"/Users/b8058304/Documents/PhD_work/Coding/manuscript_figs/figs/clustering_degs/fig6d_hsc_ds_nonds_fbm_violin_degs_20200722.csv\")\n",
    "degs_by_cluster"
   ]
  },
  {
   "cell_type": "code",
   "execution_count": null,
   "metadata": {},
   "outputs": [],
   "source": []
  },
  {
   "cell_type": "code",
   "execution_count": null,
   "metadata": {},
   "outputs": [],
   "source": []
  },
  {
   "cell_type": "code",
   "execution_count": null,
   "metadata": {},
   "outputs": [],
   "source": []
  },
  {
   "cell_type": "markdown",
   "metadata": {},
   "source": [
    "# Run violin plots for endo"
   ]
  },
  {
   "cell_type": "code",
   "execution_count": 34,
   "metadata": {},
   "outputs": [
    {
     "data": {
      "text/plain": [
       "dataset_cell.labels\n",
       "ds_fbm_HSC             45\n",
       "ds_fbm_endothelium     37\n",
       "fbm_HSC                92\n",
       "fbm_endothelium       939\n",
       "dtype: int64"
      ]
     },
     "execution_count": 34,
     "metadata": {},
     "output_type": "execute_result"
    }
   ],
   "source": [
    "cell_numbers = adata.obs.groupby([\"dataset_cell.labels\"]).apply(len)\n",
    "cell_numbers"
   ]
  },
  {
   "cell_type": "code",
   "execution_count": 35,
   "metadata": {},
   "outputs": [],
   "source": [
    "endo_genes=[\"PGF\", \"ESAM\", \"FGF7\", \"DLK1\", \"TNFSF10\", \"NOV\", \"SELE\", \"DLL4\", \"SEMA3F\", \"VEGFA\", \"HBEGF\", \n",
    "           \"WNT5A\", \"ITGA4\", \"CD34\", \"KITLG\", \"GAS6\", \"JAG2\", \"JAG1\", \"FLT3LG\", \"JAM3\", \"FGFR2\"]"
   ]
  },
  {
   "cell_type": "code",
   "execution_count": 36,
   "metadata": {},
   "outputs": [
    {
     "name": "stderr",
     "output_type": "stream",
     "text": [
      "... storing 'age' as categorical\n",
      "... storing 'april_cell.labels' as categorical\n",
      "... storing 'auto_prd' as categorical\n",
      "... storing 'cell.labels' as categorical\n",
      "... storing 'cell.labels_20200708' as categorical\n",
      "... storing 'cell.labels_20200713' as categorical\n",
      "... storing 'cell.labels_20200718' as categorical\n",
      "... storing 'dataset' as categorical\n",
      "... storing 'doublets' as categorical\n",
      "... storing 'fetal.ids' as categorical\n",
      "... storing 'gender' as categorical\n",
      "... storing 'is_doublet' as categorical\n",
      "... storing 'is_doublet_poptrim' as categorical\n",
      "... storing 'is_doublet_wolock' as categorical\n",
      "... storing 'lanes' as categorical\n",
      "... storing 'mad_prd' as categorical\n",
      "... storing 'nk_meta' as categorical\n",
      "... storing 'orig.ident' as categorical\n",
      "... storing 'processing.type' as categorical\n",
      "... storing 'sequencing.type' as categorical\n",
      "... storing 'sort.ids' as categorical\n"
     ]
    },
    {
     "name": "stdout",
     "output_type": "stream",
     "text": [
      "WARNING: saving figure to file figures/stacked_violinendo_ds_nonds_fbm_violin_20200722.pdf\n"
     ]
    },
    {
     "data": {
      "image/png": "[encoded data removed]",
      "text/plain": [
       "<Figure size 1000x200 with 2 Axes>"
      ]
     },
     "metadata": {
      "image/png": {
       "height": 253,
       "width": 949
      },
      "needs_background": "light"
     },
     "output_type": "display_data"
    },
    {
     "data": {
      "text/plain": [
       "[<matplotlib.axes._subplots.AxesSubplot at 0x1057dda20>,\n",
       " <matplotlib.axes._subplots.AxesSubplot at 0x131be74e0>]"
      ]
     },
     "execution_count": 36,
     "metadata": {},
     "output_type": "execute_result"
    }
   ],
   "source": [
    "sc.settings.set_figure_params(dpi=100, dpi_save=1000)\n",
    "\n",
    "adata.obs[\"dataset_cell.labels\"] = adata.obs[\"dataset_cell.labels\"].astype(\"category\")\n",
    "\n",
    "subset = adata[adata.obs['dataset_cell.labels'].isin(['ds_fbm_endothelium', 'fbm_endothelium'])].copy()\n",
    "\n",
    "subset.obs[\"dataset_cell.labels\"] = subset.obs[\"dataset_cell.labels\"].cat.reorder_categories(\n",
    "    ['ds_fbm_endothelium', 'fbm_endothelium'])\n",
    "\n",
    "sc.pl.stacked_violin(subset, var_names=endo_genes, save=\"endo_ds_nonds_fbm_violin_20200722.pdf\", \n",
    "                     rotation=90, \n",
    "                     groupby='dataset_cell.labels', use_raw=False, swap_axes=False, figsize=(10,2), \n",
    "                     row_palette=[\"#ffffff\", \"#ffffff\"])"
   ]
  },
  {
   "cell_type": "code",
   "execution_count": 37,
   "metadata": {},
   "outputs": [
    {
     "name": "stderr",
     "output_type": "stream",
     "text": [
      "... storing 'age' as categorical\n",
      "... storing 'april_cell.labels' as categorical\n",
      "... storing 'auto_prd' as categorical\n",
      "... storing 'cell.labels' as categorical\n",
      "... storing 'cell.labels_20200708' as categorical\n",
      "... storing 'cell.labels_20200713' as categorical\n",
      "... storing 'cell.labels_20200718' as categorical\n",
      "... storing 'dataset' as categorical\n",
      "... storing 'doublets' as categorical\n",
      "... storing 'fetal.ids' as categorical\n",
      "... storing 'gender' as categorical\n",
      "... storing 'is_doublet' as categorical\n",
      "... storing 'is_doublet_poptrim' as categorical\n",
      "... storing 'is_doublet_wolock' as categorical\n",
      "... storing 'lanes' as categorical\n",
      "... storing 'mad_prd' as categorical\n",
      "... storing 'nk_meta' as categorical\n",
      "... storing 'orig.ident' as categorical\n",
      "... storing 'processing.type' as categorical\n",
      "... storing 'sequencing.type' as categorical\n",
      "... storing 'sort.ids' as categorical\n"
     ]
    },
    {
     "data": {
      "text/html": [
       "<div>\n",
       "<style scoped>\n",
       "    .dataframe tbody tr th:only-of-type {\n",
       "        vertical-align: middle;\n",
       "    }\n",
       "\n",
       "    .dataframe tbody tr th {\n",
       "        vertical-align: top;\n",
       "    }\n",
       "\n",
       "    .dataframe thead th {\n",
       "        text-align: right;\n",
       "    }\n",
       "</style>\n",
       "<table border=\"1\" class=\"dataframe\">\n",
       "  <thead>\n",
       "    <tr style=\"text-align: right;\">\n",
       "      <th></th>\n",
       "      <th>ds_fbm_endothelium_names</th>\n",
       "      <th>ds_fbm_endothelium_logfold</th>\n",
       "      <th>ds_fbm_endothelium_pvals</th>\n",
       "      <th>ds_fbm_endothelium_pvals_a</th>\n",
       "      <th>fbm_endothelium_names</th>\n",
       "      <th>fbm_endothelium_logfold</th>\n",
       "      <th>fbm_endothelium_pvals</th>\n",
       "      <th>fbm_endothelium_pvals_a</th>\n",
       "    </tr>\n",
       "  </thead>\n",
       "  <tbody>\n",
       "    <tr>\n",
       "      <th>0</th>\n",
       "      <td>DLK1</td>\n",
       "      <td>9.895652e+00</td>\n",
       "      <td>3.997804e-21</td>\n",
       "      <td>8.395388e-20</td>\n",
       "      <td>ESAM</td>\n",
       "      <td>5.439081e+00</td>\n",
       "      <td>2.544716e-47</td>\n",
       "      <td>1.781301e-46</td>\n",
       "    </tr>\n",
       "    <tr>\n",
       "      <th>1</th>\n",
       "      <td>NOV</td>\n",
       "      <td>1.203394e+01</td>\n",
       "      <td>6.198335e-17</td>\n",
       "      <td>6.508252e-16</td>\n",
       "      <td>SELE</td>\n",
       "      <td>6.182419e+00</td>\n",
       "      <td>1.153724e-12</td>\n",
       "      <td>6.057049e-12</td>\n",
       "    </tr>\n",
       "    <tr>\n",
       "      <th>2</th>\n",
       "      <td>PGF</td>\n",
       "      <td>3.197560e+00</td>\n",
       "      <td>9.947304e-05</td>\n",
       "      <td>4.177868e-04</td>\n",
       "      <td>VEGFA</td>\n",
       "      <td>5.399294e+00</td>\n",
       "      <td>2.521480e-11</td>\n",
       "      <td>1.059022e-10</td>\n",
       "    </tr>\n",
       "    <tr>\n",
       "      <th>3</th>\n",
       "      <td>FGF7</td>\n",
       "      <td>5.782570e+00</td>\n",
       "      <td>3.782387e-02</td>\n",
       "      <td>8.681756e-02</td>\n",
       "      <td>JAM3</td>\n",
       "      <td>2.112661e+00</td>\n",
       "      <td>2.722790e-10</td>\n",
       "      <td>9.529763e-10</td>\n",
       "    </tr>\n",
       "    <tr>\n",
       "      <th>4</th>\n",
       "      <td>JAG1</td>\n",
       "      <td>8.558387e-01</td>\n",
       "      <td>5.899930e-02</td>\n",
       "      <td>1.126350e-01</td>\n",
       "      <td>DLL4</td>\n",
       "      <td>7.319346e+00</td>\n",
       "      <td>1.691842e-09</td>\n",
       "      <td>5.075526e-09</td>\n",
       "    </tr>\n",
       "    <tr>\n",
       "      <th>5</th>\n",
       "      <td>CD34</td>\n",
       "      <td>1.736687e-01</td>\n",
       "      <td>2.341969e-01</td>\n",
       "      <td>3.480577e-01</td>\n",
       "      <td>SEMA3F</td>\n",
       "      <td>2.894285e+01</td>\n",
       "      <td>2.181649e-06</td>\n",
       "      <td>5.726829e-06</td>\n",
       "    </tr>\n",
       "    <tr>\n",
       "      <th>6</th>\n",
       "      <td>GAS6</td>\n",
       "      <td>1.707785e+00</td>\n",
       "      <td>2.486126e-01</td>\n",
       "      <td>3.480577e-01</td>\n",
       "      <td>TNFSF10</td>\n",
       "      <td>1.307749e+00</td>\n",
       "      <td>3.931057e-05</td>\n",
       "      <td>9.172465e-05</td>\n",
       "    </tr>\n",
       "    <tr>\n",
       "      <th>7</th>\n",
       "      <td>WNT5A</td>\n",
       "      <td>9.510575e+00</td>\n",
       "      <td>2.666492e-01</td>\n",
       "      <td>3.499771e-01</td>\n",
       "      <td>JAG2</td>\n",
       "      <td>4.641528e+00</td>\n",
       "      <td>1.417270e-03</td>\n",
       "      <td>2.480223e-03</td>\n",
       "    </tr>\n",
       "    <tr>\n",
       "      <th>8</th>\n",
       "      <td>FLT3LG</td>\n",
       "      <td>1.160722e+00</td>\n",
       "      <td>7.909910e-01</td>\n",
       "      <td>8.742532e-01</td>\n",
       "      <td>KITLG</td>\n",
       "      <td>3.921101e+00</td>\n",
       "      <td>6.251943e-02</td>\n",
       "      <td>9.377915e-02</td>\n",
       "    </tr>\n",
       "    <tr>\n",
       "      <th>9</th>\n",
       "      <td>JAM3</td>\n",
       "      <td>-1.032901e-02</td>\n",
       "      <td>9.919070e-01</td>\n",
       "      <td>1.000000e+00</td>\n",
       "      <td>JAG1</td>\n",
       "      <td>1.676055e+00</td>\n",
       "      <td>9.355213e-02</td>\n",
       "      <td>1.309730e-01</td>\n",
       "    </tr>\n",
       "    <tr>\n",
       "      <th>10</th>\n",
       "      <td>FGFR2</td>\n",
       "      <td>4.080220e-08</td>\n",
       "      <td>1.000000e+00</td>\n",
       "      <td>1.000000e+00</td>\n",
       "      <td>HBEGF</td>\n",
       "      <td>2.655698e+00</td>\n",
       "      <td>1.610062e-01</td>\n",
       "      <td>2.113206e-01</td>\n",
       "    </tr>\n",
       "    <tr>\n",
       "      <th>11</th>\n",
       "      <td>KITLG</td>\n",
       "      <td>-1.407115e+00</td>\n",
       "      <td>5.710814e-01</td>\n",
       "      <td>6.662617e-01</td>\n",
       "      <td>GAS6</td>\n",
       "      <td>1.069800e+00</td>\n",
       "      <td>4.114183e-01</td>\n",
       "      <td>5.082226e-01</td>\n",
       "    </tr>\n",
       "    <tr>\n",
       "      <th>12</th>\n",
       "      <td>JAG2</td>\n",
       "      <td>-2.128541e+00</td>\n",
       "      <td>3.463163e-01</td>\n",
       "      <td>4.278025e-01</td>\n",
       "      <td>FGFR2</td>\n",
       "      <td>4.080220e-08</td>\n",
       "      <td>1.000000e+00</td>\n",
       "      <td>1.000000e+00</td>\n",
       "    </tr>\n",
       "    <tr>\n",
       "      <th>13</th>\n",
       "      <td>HBEGF</td>\n",
       "      <td>-3.073530e+00</td>\n",
       "      <td>2.079151e-01</td>\n",
       "      <td>3.358628e-01</td>\n",
       "      <td>PGF</td>\n",
       "      <td>-3.928686e-02</td>\n",
       "      <td>8.593750e-01</td>\n",
       "      <td>9.023438e-01</td>\n",
       "    </tr>\n",
       "    <tr>\n",
       "      <th>14</th>\n",
       "      <td>ITGA4</td>\n",
       "      <td>-2.845897e+01</td>\n",
       "      <td>1.488916e-01</td>\n",
       "      <td>2.605603e-01</td>\n",
       "      <td>WNT5A</td>\n",
       "      <td>-6.399907e+00</td>\n",
       "      <td>6.452401e-01</td>\n",
       "      <td>7.131601e-01</td>\n",
       "    </tr>\n",
       "    <tr>\n",
       "      <th>15</th>\n",
       "      <td>SEMA3F</td>\n",
       "      <td>-2.870568e+01</td>\n",
       "      <td>4.134169e-02</td>\n",
       "      <td>8.681756e-02</td>\n",
       "      <td>FLT3LG</td>\n",
       "      <td>-7.637852e-01</td>\n",
       "      <td>4.976932e-01</td>\n",
       "      <td>5.806420e-01</td>\n",
       "    </tr>\n",
       "    <tr>\n",
       "      <th>16</th>\n",
       "      <td>VEGFA</td>\n",
       "      <td>-2.889386e+00</td>\n",
       "      <td>2.400836e-02</td>\n",
       "      <td>6.302195e-02</td>\n",
       "      <td>FGF7</td>\n",
       "      <td>-4.313056e+00</td>\n",
       "      <td>3.776649e-02</td>\n",
       "      <td>6.100741e-02</td>\n",
       "    </tr>\n",
       "    <tr>\n",
       "      <th>17</th>\n",
       "      <td>DLL4</td>\n",
       "      <td>-2.881951e+01</td>\n",
       "      <td>8.136826e-03</td>\n",
       "      <td>2.441048e-02</td>\n",
       "      <td>CD34</td>\n",
       "      <td>-2.178145e-01</td>\n",
       "      <td>1.137848e-03</td>\n",
       "      <td>2.172255e-03</td>\n",
       "    </tr>\n",
       "    <tr>\n",
       "      <th>18</th>\n",
       "      <td>SELE</td>\n",
       "      <td>-3.684514e+00</td>\n",
       "      <td>4.727833e-03</td>\n",
       "      <td>1.654742e-02</td>\n",
       "      <td>NOV</td>\n",
       "      <td>-6.108684e+00</td>\n",
       "      <td>4.500305e-04</td>\n",
       "      <td>9.450640e-04</td>\n",
       "    </tr>\n",
       "    <tr>\n",
       "      <th>19</th>\n",
       "      <td>TNFSF10</td>\n",
       "      <td>-4.038465e+00</td>\n",
       "      <td>1.925020e-05</td>\n",
       "      <td>1.010636e-04</td>\n",
       "      <td>DLK1</td>\n",
       "      <td>-8.539809e+00</td>\n",
       "      <td>1.390785e-48</td>\n",
       "      <td>1.460324e-47</td>\n",
       "    </tr>\n",
       "    <tr>\n",
       "      <th>20</th>\n",
       "      <td>ESAM</td>\n",
       "      <td>-2.922570e+00</td>\n",
       "      <td>5.521519e-08</td>\n",
       "      <td>3.865063e-07</td>\n",
       "      <td>ITGA4</td>\n",
       "      <td>-7.583915e+00</td>\n",
       "      <td>7.260641e-53</td>\n",
       "      <td>1.524735e-51</td>\n",
       "    </tr>\n",
       "  </tbody>\n",
       "</table>\n",
       "</div>"
      ],
      "text/plain": [
       "   ds_fbm_endothelium_names  ds_fbm_endothelium_logfold  \\\n",
       "0                      DLK1                9.895652e+00   \n",
       "1                       NOV                1.203394e+01   \n",
       "2                       PGF                3.197560e+00   \n",
       "3                      FGF7                5.782570e+00   \n",
       "4                      JAG1                8.558387e-01   \n",
       "5                      CD34                1.736687e-01   \n",
       "6                      GAS6                1.707785e+00   \n",
       "7                     WNT5A                9.510575e+00   \n",
       "8                    FLT3LG                1.160722e+00   \n",
       "9                      JAM3               -1.032901e-02   \n",
       "10                    FGFR2                4.080220e-08   \n",
       "11                    KITLG               -1.407115e+00   \n",
       "12                     JAG2               -2.128541e+00   \n",
       "13                    HBEGF               -3.073530e+00   \n",
       "14                    ITGA4               -2.845897e+01   \n",
       "15                   SEMA3F               -2.870568e+01   \n",
       "16                    VEGFA               -2.889386e+00   \n",
       "17                     DLL4               -2.881951e+01   \n",
       "18                     SELE               -3.684514e+00   \n",
       "19                  TNFSF10               -4.038465e+00   \n",
       "20                     ESAM               -2.922570e+00   \n",
       "\n",
       "    ds_fbm_endothelium_pvals  ds_fbm_endothelium_pvals_a  \\\n",
       "0               3.997804e-21                8.395388e-20   \n",
       "1               6.198335e-17                6.508252e-16   \n",
       "2               9.947304e-05                4.177868e-04   \n",
       "3               3.782387e-02                8.681756e-02   \n",
       "4               5.899930e-02                1.126350e-01   \n",
       "5               2.341969e-01                3.480577e-01   \n",
       "6               2.486126e-01                3.480577e-01   \n",
       "7               2.666492e-01                3.499771e-01   \n",
       "8               7.909910e-01                8.742532e-01   \n",
       "9               9.919070e-01                1.000000e+00   \n",
       "10              1.000000e+00                1.000000e+00   \n",
       "11              5.710814e-01                6.662617e-01   \n",
       "12              3.463163e-01                4.278025e-01   \n",
       "13              2.079151e-01                3.358628e-01   \n",
       "14              1.488916e-01                2.605603e-01   \n",
       "15              4.134169e-02                8.681756e-02   \n",
       "16              2.400836e-02                6.302195e-02   \n",
       "17              8.136826e-03                2.441048e-02   \n",
       "18              4.727833e-03                1.654742e-02   \n",
       "19              1.925020e-05                1.010636e-04   \n",
       "20              5.521519e-08                3.865063e-07   \n",
       "\n",
       "   fbm_endothelium_names  fbm_endothelium_logfold  fbm_endothelium_pvals  \\\n",
       "0                   ESAM             5.439081e+00           2.544716e-47   \n",
       "1                   SELE             6.182419e+00           1.153724e-12   \n",
       "2                  VEGFA             5.399294e+00           2.521480e-11   \n",
       "3                   JAM3             2.112661e+00           2.722790e-10   \n",
       "4                   DLL4             7.319346e+00           1.691842e-09   \n",
       "5                 SEMA3F             2.894285e+01           2.181649e-06   \n",
       "6                TNFSF10             1.307749e+00           3.931057e-05   \n",
       "7                   JAG2             4.641528e+00           1.417270e-03   \n",
       "8                  KITLG             3.921101e+00           6.251943e-02   \n",
       "9                   JAG1             1.676055e+00           9.355213e-02   \n",
       "10                 HBEGF             2.655698e+00           1.610062e-01   \n",
       "11                  GAS6             1.069800e+00           4.114183e-01   \n",
       "12                 FGFR2             4.080220e-08           1.000000e+00   \n",
       "13                   PGF            -3.928686e-02           8.593750e-01   \n",
       "14                 WNT5A            -6.399907e+00           6.452401e-01   \n",
       "15                FLT3LG            -7.637852e-01           4.976932e-01   \n",
       "16                  FGF7            -4.313056e+00           3.776649e-02   \n",
       "17                  CD34            -2.178145e-01           1.137848e-03   \n",
       "18                   NOV            -6.108684e+00           4.500305e-04   \n",
       "19                  DLK1            -8.539809e+00           1.390785e-48   \n",
       "20                 ITGA4            -7.583915e+00           7.260641e-53   \n",
       "\n",
       "    fbm_endothelium_pvals_a  \n",
       "0              1.781301e-46  \n",
       "1              6.057049e-12  \n",
       "2              1.059022e-10  \n",
       "3              9.529763e-10  \n",
       "4              5.075526e-09  \n",
       "5              5.726829e-06  \n",
       "6              9.172465e-05  \n",
       "7              2.480223e-03  \n",
       "8              9.377915e-02  \n",
       "9              1.309730e-01  \n",
       "10             2.113206e-01  \n",
       "11             5.082226e-01  \n",
       "12             1.000000e+00  \n",
       "13             9.023438e-01  \n",
       "14             7.131601e-01  \n",
       "15             5.806420e-01  \n",
       "16             6.100741e-02  \n",
       "17             2.172255e-03  \n",
       "18             9.450640e-04  \n",
       "19             1.460324e-47  \n",
       "20             1.524735e-51  "
      ]
     },
     "execution_count": 37,
     "metadata": {},
     "output_type": "execute_result"
    }
   ],
   "source": [
    "subset = adata[:, endo_genes].copy()\n",
    "\n",
    "sc.tl.rank_genes_groups(subset, groupby='dataset_cell.labels', method='wilcoxon', use_raw=False, \n",
    "                        log_transformed=True, groups=['ds_fbm_endothelium', 'fbm_endothelium'], \n",
    "                        n_genes=subset.shape[1])\n",
    "\n",
    "# save df for filtered degs\n",
    "result = subset.uns['rank_genes_groups']\n",
    "groups = result['names'].dtype.names\n",
    "degs_by_cluster = pd.DataFrame({group + '_' + key[:7]: result[key][group]\n",
    "    for group in groups for key in ['names', 'logfoldchanges', 'pvals', 'pvals_adj']})\n",
    "# the degs_by_cluster df shows the log2 fold change for each gene ordered by z-score underlying the computation \n",
    "# of a p-value for each gene for each group\n",
    "degs_by_cluster.to_csv(\"/Users/b8058304/Documents/PhD_work/Coding/manuscript_figs/figs/clustering_degs/fig6d_endo_ds_nonds_fbm_violin_degs_20200722.csv\")\n",
    "degs_by_cluster"
   ]
  },
  {
   "cell_type": "code",
   "execution_count": null,
   "metadata": {},
   "outputs": [],
   "source": []
  },
  {
   "cell_type": "code",
   "execution_count": null,
   "metadata": {},
   "outputs": [],
   "source": []
  },
  {
   "cell_type": "code",
   "execution_count": null,
   "metadata": {},
   "outputs": [],
   "source": []
  }
 ],
 "metadata": {
  "kernelspec": {
   "display_name": "Python 3",
   "language": "python",
   "name": "python3"
  },
  "language_info": {
   "codemirror_mode": {
    "name": "ipython",
    "version": 3
   },
   "file_extension": ".py",
   "mimetype": "text/x-python",
   "name": "python",
   "nbconvert_exporter": "python",
   "pygments_lexer": "ipython3",
   "version": "3.6.4"
  }
 },
 "nbformat": 4,
 "nbformat_minor": 4
}
