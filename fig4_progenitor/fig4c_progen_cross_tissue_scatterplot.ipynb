{
 "cells": [
  {
   "cell_type": "markdown",
   "metadata": {},
   "source": [
    "# Import packages and data "
   ]
  },
  {
   "cell_type": "code",
   "execution_count": 1,
   "metadata": {},
   "outputs": [
    {
     "name": "stderr",
     "output_type": "stream",
     "text": [
      "/Users/b8058304/.pyenv/versions/3.6.4/envs/py36/lib/python3.6/site-packages/anndata/_core/anndata.py:21: FutureWarning: pandas.core.index is deprecated and will be removed in a future version.  The public classes are available in the top-level namespace.\n",
      "  from pandas.core.index import RangeIndex\n"
     ]
    }
   ],
   "source": [
    "import numpy as np\n",
    "import pandas as pd\n",
    "import scanpy as sc\n",
    "import seaborn as sns\n",
    "import scipy.stats\n",
    "import anndata\n",
    "import matplotlib.pyplot as plt\n",
    "import matplotlib as mpl\n",
    "from matplotlib.axes._axes import _log as matplotlib_axes_logger\n",
    "from scipy import sparse\n",
    "matplotlib_axes_logger.setLevel('ERROR')\n",
    "# silence NumbaPerformanceWarning\n",
    "import warnings\n",
    "from numba.errors import NumbaPerformanceWarning\n",
    "warnings.filterwarnings(\"ignore\", category=NumbaPerformanceWarning)"
   ]
  },
  {
   "cell_type": "code",
   "execution_count": 2,
   "metadata": {},
   "outputs": [
    {
     "name": "stdout",
     "output_type": "stream",
     "text": [
      "scanpy==1.4.4 anndata==0.7.1 umap==0.3.10 numpy==1.17.1 scipy==1.4.1 pandas==1.0.5 scikit-learn==0.22.2.post1 statsmodels==0.11.1 python-igraph==0.8.0 louvain==0.6.1\n"
     ]
    }
   ],
   "source": [
    "sc.settings.verbosity = 1  # verbosity: errors (0), warnings (1), info (2), hints (3)\n",
    "# Set up the plot config for viewing the annotation clearly.\n",
    "sc.settings.set_figure_params(dpi=120, dpi_save=1000)\n",
    "sc.logging.print_versions()"
   ]
  },
  {
   "cell_type": "markdown",
   "metadata": {},
   "source": [
    "# Import the fetal YS progenitor compartment"
   ]
  },
  {
   "cell_type": "code",
   "execution_count": 3,
   "metadata": {},
   "outputs": [],
   "source": [
    "adata = sc.read('/Users/b8058304/Documents/PhD_work/Coding/liver/data/ys_total_annotation_20191127.h5ad')"
   ]
  },
  {
   "cell_type": "code",
   "execution_count": 4,
   "metadata": {
    "scrolled": true
   },
   "outputs": [
    {
     "data": {
      "text/plain": [
       "AnnData object with n_obs × n_vars = 10071 × 32084 \n",
       "    obs: 'nGene', 'nUMI', 'orig.ident', 'percent.mito', 'cell.labels', 'fetal.ids', 'sort.ids', 'tissue', 'lanes', 'stages', 'sample.type', 'gender', 'AnnatomicalPart', 'doublets', 'LouvainClustering', 'predicted.cell.labels', 'full.ids', 'batch', 'bh_pval', 'sample', 'scrublet_cluster_score', 'scrublet_score', 'n_counts', 'louvain', 'is_doublet', 'is_doublet_poptrim', 'res.30', 'backlabeled_1', 'cell.labels_progen'"
      ]
     },
     "execution_count": 4,
     "metadata": {},
     "output_type": "execute_result"
    }
   ],
   "source": [
    "adata"
   ]
  },
  {
   "cell_type": "code",
   "execution_count": 5,
   "metadata": {},
   "outputs": [
    {
     "data": {
      "text/plain": [
       "cell.labels\n",
       "DC progenitor                78\n",
       "Early mast cell             133\n",
       "Endothelium                 160\n",
       "Erythroid AB                892\n",
       "Erythroid EZ               1167\n",
       "Erythroid M                 275\n",
       "ILC precursor                25\n",
       "Lymphoid progenitor         184\n",
       "MEMP                        121\n",
       "Monocyte                     38\n",
       "Myeloid progenitor           61\n",
       "NK early                     50\n",
       "yolk sac Macrophage I      3063\n",
       "yolk sac Macrophage II     3619\n",
       "yolk sac progenitor/MPP     205\n",
       "dtype: int64"
      ]
     },
     "execution_count": 5,
     "metadata": {},
     "output_type": "execute_result"
    }
   ],
   "source": [
    "cell_numbers = adata.obs.groupby([\"cell.labels\"]).apply(len)\n",
    "cell_numbers"
   ]
  },
  {
   "cell_type": "code",
   "execution_count": 6,
   "metadata": {
    "scrolled": false
   },
   "outputs": [
    {
     "data": {
      "text/plain": [
       "cell.labels_progen\n",
       "CMP                    55\n",
       "ELP                   174\n",
       "GMP                    40\n",
       "HSC                   105\n",
       "MEMP                   55\n",
       "MEP                    56\n",
       "Monocyte precursor     26\n",
       "macrophage             42\n",
       "neut myeloid           18\n",
       "dtype: int64"
      ]
     },
     "execution_count": 6,
     "metadata": {},
     "output_type": "execute_result"
    }
   ],
   "source": [
    "cell_numbers = adata.obs.groupby([\"cell.labels_progen\"]).apply(len)\n",
    "cell_numbers"
   ]
  },
  {
   "cell_type": "code",
   "execution_count": 7,
   "metadata": {},
   "outputs": [],
   "source": [
    "from scipy import sparse\n",
    "array_vals = adata.X\n",
    "adata.X = sparse.csr_matrix(adata.X)\n",
    "adata.raw = adata\n",
    "adata.X = array_vals"
   ]
  },
  {
   "cell_type": "code",
   "execution_count": 8,
   "metadata": {},
   "outputs": [],
   "source": [
    "adata = adata[adata.obs['cell.labels_progen'].isin(['HSC', 'MEMP', 'GMP', 'CMP', 'ELP', 'MEP'])].copy()"
   ]
  },
  {
   "cell_type": "code",
   "execution_count": 9,
   "metadata": {},
   "outputs": [
    {
     "data": {
      "text/plain": [
       "cell.labels_progen\n",
       "CMP      55\n",
       "ELP     174\n",
       "GMP      40\n",
       "HSC     105\n",
       "MEMP     55\n",
       "MEP      56\n",
       "dtype: int64"
      ]
     },
     "execution_count": 9,
     "metadata": {},
     "output_type": "execute_result"
    }
   ],
   "source": [
    "cell_numbers = adata.obs.groupby([\"cell.labels_progen\"]).apply(len)\n",
    "cell_numbers"
   ]
  },
  {
   "cell_type": "code",
   "execution_count": 10,
   "metadata": {},
   "outputs": [],
   "source": [
    "adata.obs[\"dataset\"] = \"ys\"\n",
    "adata.obs['cell.labels'] = adata.obs['cell.labels_progen']"
   ]
  },
  {
   "cell_type": "code",
   "execution_count": 11,
   "metadata": {},
   "outputs": [
    {
     "data": {
      "text/plain": [
       "fetal.ids          cell.labels\n",
       "F32_female_7+6PCW  CMP              3\n",
       "                   ELP             12\n",
       "                   GMP              1\n",
       "                   HSC              5\n",
       "                   MEMP             8\n",
       "                   MEP              8\n",
       "F35_female_7+6PCW  CMP             11\n",
       "                   ELP             19\n",
       "                   GMP              2\n",
       "                   HSC             19\n",
       "                   MEMP            23\n",
       "                   MEP             38\n",
       "F37_female_4PCW    CMP             41\n",
       "                   ELP            143\n",
       "                   GMP             37\n",
       "                   HSC             81\n",
       "                   MEMP            24\n",
       "                   MEP             10\n",
       "dtype: int64"
      ]
     },
     "execution_count": 11,
     "metadata": {},
     "output_type": "execute_result"
    }
   ],
   "source": [
    "cell_numbers = adata.obs.groupby([\"fetal.ids\", \"cell.labels\"]).apply(len)\n",
    "pd.DataFrame(cell_numbers).to_csv(\"/Users/b8058304/Documents/PhD_work/Coding/manuscript_figs/resources_for_pipelines/ys_progen_nrs_by_sample_20200722.csv\")\n",
    "cell_numbers"
   ]
  },
  {
   "cell_type": "code",
   "execution_count": 12,
   "metadata": {},
   "outputs": [],
   "source": [
    "ys = adata"
   ]
  },
  {
   "cell_type": "code",
   "execution_count": null,
   "metadata": {},
   "outputs": [],
   "source": []
  },
  {
   "cell_type": "code",
   "execution_count": null,
   "metadata": {},
   "outputs": [],
   "source": []
  },
  {
   "cell_type": "code",
   "execution_count": null,
   "metadata": {},
   "outputs": [],
   "source": []
  },
  {
   "cell_type": "markdown",
   "metadata": {},
   "source": [
    "# Import the fetal liver progenitor compartment"
   ]
  },
  {
   "cell_type": "code",
   "execution_count": 13,
   "metadata": {},
   "outputs": [],
   "source": [
    "adata = sc.read('/Users/b8058304/Documents/PhD_work/Coding/liver/data/fetal_liver_alladata_Copy1.h5ad')"
   ]
  },
  {
   "cell_type": "code",
   "execution_count": 14,
   "metadata": {
    "scrolled": true
   },
   "outputs": [
    {
     "data": {
      "text/plain": [
       "AnnData object with n_obs × n_vars = 113063 × 27080 \n",
       "    obs: 'nGene', 'nUMI', 'orig.ident', 'percent.mito', 'fetal.ids', 'sort.ids', 'tissue', 'lanes', 'stages', 'sample.type', 'gender', 'AnnatomicalPart', 'doublets', 'cell.labels', 'combined.labels', 'batch', 'sample', 'n_counts', 'cell.labels_progen'\n",
       "    obsm: 'X_fdg', 'X_tsne', 'X_umap'"
      ]
     },
     "execution_count": 14,
     "metadata": {},
     "output_type": "execute_result"
    }
   ],
   "source": [
    "adata"
   ]
  },
  {
   "cell_type": "code",
   "execution_count": 15,
   "metadata": {
    "scrolled": false
   },
   "outputs": [
    {
     "data": {
      "text/plain": [
       "cell.labels\n",
       "B cell                            1079\n",
       "DC1                                336\n",
       "DC2                               3954\n",
       "DC precursor                       330\n",
       "Early Erythroid                  11985\n",
       "Early lymphoid_T lymphocyte        767\n",
       "Endothelial cell                  3348\n",
       "Fibroblast                        1713\n",
       "HSC_MPP                           3439\n",
       "Hepatocyte                        2479\n",
       "ILC precursor                     1726\n",
       "Kupffer Cell                     24841\n",
       "Late Erythroid                    3180\n",
       "MEMP                              1342\n",
       "Mast cell                         1308\n",
       "Megakaryocyte                     3983\n",
       "Mid Erythroid                    27000\n",
       "Mono-Mac                          6590\n",
       "Monocyte                          2586\n",
       "Monocyte precursor                 350\n",
       "NK                                6706\n",
       "Neutrophil-myeloid progenitor      658\n",
       "Pre pro B cell                     234\n",
       "VCAM1+ EI macrophage               161\n",
       "pDC precursor                      253\n",
       "pre-B cell                        1332\n",
       "pro-B cell                        1383\n",
       "dtype: int64"
      ]
     },
     "execution_count": 15,
     "metadata": {},
     "output_type": "execute_result"
    }
   ],
   "source": [
    "cell_numbers = adata.obs.groupby([\"cell.labels\"]).apply(len)\n",
    "cell_numbers"
   ]
  },
  {
   "cell_type": "code",
   "execution_count": 16,
   "metadata": {},
   "outputs": [],
   "source": [
    "from scipy import sparse\n",
    "array_vals = adata.X\n",
    "adata.X = sparse.csr_matrix(adata.X)\n",
    "adata.raw = adata\n",
    "adata.X = array_vals"
   ]
  },
  {
   "cell_type": "code",
   "execution_count": 17,
   "metadata": {},
   "outputs": [
    {
     "data": {
      "text/plain": [
       "cell.labels_progen\n",
       "ELP                        525\n",
       "GMP                        362\n",
       "HSC                        242\n",
       "MEMP                       505\n",
       "MEP                        639\n",
       "MPP                       2012\n",
       "early MK                    81\n",
       "early erythroid            333\n",
       "eo/baso/mast precursor      86\n",
       "erythroid-MPP hybrid        14\n",
       "macrophage                  81\n",
       "myeloid DC progenitor       94\n",
       "pDC progenitor              41\n",
       "dtype: int64"
      ]
     },
     "execution_count": 17,
     "metadata": {},
     "output_type": "execute_result"
    }
   ],
   "source": [
    "cell_numbers = adata.obs.groupby([\"cell.labels_progen\"]).apply(len)\n",
    "cell_numbers"
   ]
  },
  {
   "cell_type": "code",
   "execution_count": 18,
   "metadata": {},
   "outputs": [],
   "source": [
    "adata = adata[adata.obs['cell.labels_progen'].isin(['HSC', 'MEMP', 'GMP', 'ELP', 'MPP', 'MEP', \n",
    "                                                    'eo/baso/mast precursor', 'myeloid DC progenitor', \n",
    "                                                   'pDC progenitor'])].copy()"
   ]
  },
  {
   "cell_type": "code",
   "execution_count": 19,
   "metadata": {},
   "outputs": [
    {
     "data": {
      "text/plain": [
       "cell.labels_progen\n",
       "ELP                        525\n",
       "GMP                        362\n",
       "HSC                        242\n",
       "MEMP                       505\n",
       "MEP                        639\n",
       "MPP                       2012\n",
       "eo/baso/mast precursor      86\n",
       "myeloid DC progenitor       94\n",
       "pDC progenitor              41\n",
       "dtype: int64"
      ]
     },
     "execution_count": 19,
     "metadata": {},
     "output_type": "execute_result"
    }
   ],
   "source": [
    "cell_numbers = adata.obs.groupby([\"cell.labels_progen\"]).apply(len)\n",
    "cell_numbers"
   ]
  },
  {
   "cell_type": "code",
   "execution_count": 20,
   "metadata": {},
   "outputs": [],
   "source": [
    "adata.obs[\"dataset\"] = \"liver\"\n",
    "adata.obs['cell.labels'] = adata.obs['cell.labels_progen']"
   ]
  },
  {
   "cell_type": "code",
   "execution_count": 21,
   "metadata": {},
   "outputs": [
    {
     "data": {
      "text/plain": [
       "fetal.ids           cell.labels           \n",
       "F16_male_8+1PCW     ELP                         4\n",
       "                    GMP                         3\n",
       "                    HSC                         1\n",
       "                    MEMP                        4\n",
       "                    MEP                         9\n",
       "                                             ... \n",
       "F45_female_13+6PCW  MEP                        61\n",
       "                    MPP                       268\n",
       "                    eo/baso/mast precursor      8\n",
       "                    myeloid DC progenitor      11\n",
       "                    pDC progenitor              4\n",
       "Length: 125, dtype: int64"
      ]
     },
     "execution_count": 21,
     "metadata": {},
     "output_type": "execute_result"
    }
   ],
   "source": [
    "cell_numbers = adata.obs.groupby([\"fetal.ids\", \"cell.labels\"]).apply(len)\n",
    "pd.DataFrame(cell_numbers).to_csv(\"/Users/b8058304/Documents/PhD_work/Coding/manuscript_figs/resources_for_pipelines/liver_progen_nrs_by_sample_20200722.csv\")\n",
    "cell_numbers"
   ]
  },
  {
   "cell_type": "code",
   "execution_count": 22,
   "metadata": {},
   "outputs": [],
   "source": [
    "liver = adata"
   ]
  },
  {
   "cell_type": "markdown",
   "metadata": {},
   "source": [
    "# Import the FBM progenitor compartment"
   ]
  },
  {
   "cell_type": "code",
   "execution_count": 23,
   "metadata": {},
   "outputs": [],
   "source": [
    "adata = sc.read('/Users/b8058304/Documents/PhD_work/Coding/bm_plus_19pcw/data/bm_plus_19pcw_raw_dr_20200718.h5ad')"
   ]
  },
  {
   "cell_type": "code",
   "execution_count": 24,
   "metadata": {
    "scrolled": true
   },
   "outputs": [
    {
     "data": {
      "text/plain": [
       "AnnData object with n_obs × n_vars = 104562 × 33712 \n",
       "    obs: 'cell.labels', 'doublets', 'fetal.ids', 'gender', 'is_doublet', 'is_doublet_poptrim', 'is_doublet_wolock', 'lanes', 'nGene', 'nUMI', 'orig.ident', 'percent.mito', 'processing.type', 'scrublet_cluster_score', 'scrublet_score', 'sequencing.type', 'sort.ids', 'april_cell.labels', 'cell.labels_20200708', 'cell.labels_20200713', 'cell.labels_20200718', 'nk_meta'\n",
       "    var: 'gene_ids-1', 'feature_types-1'\n",
       "    obsm: 'X_orig_pca', 'X_pca', 'X_umap'"
      ]
     },
     "execution_count": 24,
     "metadata": {},
     "output_type": "execute_result"
    }
   ],
   "source": [
    "adata"
   ]
  },
  {
   "cell_type": "code",
   "execution_count": 25,
   "metadata": {
    "scrolled": false
   },
   "outputs": [
    {
     "data": {
      "text/plain": [
       "cell.labels\n",
       "CD4 T cell             327\n",
       "CD8 T cell             171\n",
       "CD14 monocyte         8787\n",
       "CD56 bright NK         450\n",
       "CMP                    425\n",
       "                      ... \n",
       "schwann cells            9\n",
       "sinusoidal EC          550\n",
       "stromal macrophage    1493\n",
       "tDC                    193\n",
       "tip EC                 363\n",
       "Length: 64, dtype: int64"
      ]
     },
     "execution_count": 25,
     "metadata": {},
     "output_type": "execute_result"
    }
   ],
   "source": [
    "cell_numbers = adata.obs.groupby([\"cell.labels\"]).apply(len)\n",
    "cell_numbers"
   ]
  },
  {
   "cell_type": "code",
   "execution_count": 26,
   "metadata": {},
   "outputs": [],
   "source": [
    "from scipy import sparse\n",
    "array_vals = adata.X\n",
    "adata.X = sparse.csr_matrix(adata.X)\n",
    "adata.raw = adata\n",
    "adata.X = array_vals"
   ]
  },
  {
   "cell_type": "code",
   "execution_count": 27,
   "metadata": {},
   "outputs": [],
   "source": [
    "adata = adata[adata.obs['cell.labels'].isin(['HSC', 'LMPP', 'MPP myeloid', 'MEMP', 'MEP', 'CMP', 'ELP', \n",
    "                                            'eo/baso/mast precursor', 'GMP', 'myeloid DC progenitor', \n",
    "                                             'pDC progenitor'])].copy()"
   ]
  },
  {
   "cell_type": "code",
   "execution_count": 28,
   "metadata": {},
   "outputs": [
    {
     "data": {
      "text/plain": [
       "cell.labels\n",
       "CMP                        425\n",
       "ELP                       1358\n",
       "GMP                       1285\n",
       "HSC                         92\n",
       "LMPP                        34\n",
       "MEMP                        16\n",
       "MEP                        269\n",
       "MPP myeloid                 92\n",
       "eo/baso/mast precursor     175\n",
       "myeloid DC progenitor       31\n",
       "pDC progenitor              23\n",
       "dtype: int64"
      ]
     },
     "execution_count": 28,
     "metadata": {},
     "output_type": "execute_result"
    }
   ],
   "source": [
    "cell_numbers = adata.obs.groupby([\"cell.labels\"]).apply(len)\n",
    "cell_numbers"
   ]
  },
  {
   "cell_type": "code",
   "execution_count": 29,
   "metadata": {},
   "outputs": [],
   "source": [
    "adata.obs[\"dataset\"] = \"FBM\""
   ]
  },
  {
   "cell_type": "code",
   "execution_count": 30,
   "metadata": {},
   "outputs": [
    {
     "data": {
      "text/plain": [
       "fetal.ids         cell.labels           \n",
       "F21_male_16+2PCW  CMP                       19\n",
       "                  ELP                       74\n",
       "                  GMP                       58\n",
       "                  HSC                       10\n",
       "                  LMPP                       2\n",
       "                                            ..\n",
       "F51_female_15PCW  myeloid DC progenitor      5\n",
       "                  pDC progenitor             2\n",
       "SB19PCW           ELP                       63\n",
       "                  GMP                       21\n",
       "                  eo/baso/mast precursor    16\n",
       "Length: 90, dtype: int64"
      ]
     },
     "execution_count": 30,
     "metadata": {},
     "output_type": "execute_result"
    }
   ],
   "source": [
    "cell_numbers = adata.obs.groupby([\"fetal.ids\", \"cell.labels\"]).apply(len)\n",
    "pd.DataFrame(cell_numbers).to_csv(\"/Users/b8058304/Documents/PhD_work/Coding/manuscript_figs/resources_for_pipelines/fbm_progen_nrs_by_sample_20200722.csv\")\n",
    "cell_numbers"
   ]
  },
  {
   "cell_type": "code",
   "execution_count": 31,
   "metadata": {},
   "outputs": [],
   "source": [
    "fbm = adata"
   ]
  },
  {
   "cell_type": "markdown",
   "metadata": {},
   "source": [
    "# Import the ABM progenitor compartment"
   ]
  },
  {
   "cell_type": "code",
   "execution_count": 32,
   "metadata": {},
   "outputs": [],
   "source": [
    "adata = sc.read('/Users/b8058304/Documents/PhD_work/Coding/adult_bm/data/abm_raw_dr_20200717.h5ad')"
   ]
  },
  {
   "cell_type": "code",
   "execution_count": 33,
   "metadata": {
    "scrolled": true
   },
   "outputs": [
    {
     "data": {
      "text/plain": [
       "AnnData object with n_obs × n_vars = 142026 × 33694 \n",
       "    obs: 'sample', 'lanes', 'sex', 'age', 'ethnicity', 'mad_prd', 'auto_prd', 'cell.labels', 'cell.labels2', 'leiden', 'percent.mito', 'nGene', 'nUMI', 'cell.labels_july', 'cell.labels_20200717'\n",
       "    var: 'gene_ids'\n",
       "    obsm: 'X_orig_pca', 'X_pca', 'X_umap'"
      ]
     },
     "execution_count": 33,
     "metadata": {},
     "output_type": "execute_result"
    }
   ],
   "source": [
    "adata"
   ]
  },
  {
   "cell_type": "code",
   "execution_count": 34,
   "metadata": {
    "scrolled": false
   },
   "outputs": [
    {
     "data": {
      "text/plain": [
       "cell.labels\n",
       "CD14 monocyte             3670\n",
       "CD16 monocyte             1938\n",
       "CD56 bright NK            1228\n",
       "CLP                        882\n",
       "CMP                        288\n",
       "DC1                        135\n",
       "DC2                        481\n",
       "DC3                        550\n",
       "DC precursor               462\n",
       "HSC                        497\n",
       "LMPP                        80\n",
       "MEMP                       785\n",
       "MK                         577\n",
       "MOP                       1440\n",
       "MPP                        365\n",
       "Treg                      6327\n",
       "early MK                   136\n",
       "early erythroid           5441\n",
       "erythroid macrophage        77\n",
       "immature B cell           2728\n",
       "late erythroid            1150\n",
       "mature CD8 T cell        15725\n",
       "mature NK                 6074\n",
       "memory B cell             4106\n",
       "memory CD4 T cell        22197\n",
       "mid erythroid             2192\n",
       "monocyte-DC                515\n",
       "myelocyte                 6675\n",
       "myeloid DC progenitor      110\n",
       "naive B cell             19265\n",
       "naive CD4 T cell          5873\n",
       "naive CD8 T cell          8965\n",
       "neutrophil                2482\n",
       "pDC                       1134\n",
       "pDC progenitor              63\n",
       "plasma cell               2074\n",
       "pre B cell                 971\n",
       "pro B progenitor          1390\n",
       "promonocyte               7448\n",
       "promyelocyte              2197\n",
       "stroma                     161\n",
       "tDC                         75\n",
       "transitional B cell       2151\n",
       "transitional NK            946\n",
       "dtype: int64"
      ]
     },
     "execution_count": 34,
     "metadata": {},
     "output_type": "execute_result"
    }
   ],
   "source": [
    "cell_numbers = adata.obs.groupby([\"cell.labels\"]).apply(len)\n",
    "cell_numbers"
   ]
  },
  {
   "cell_type": "code",
   "execution_count": 35,
   "metadata": {},
   "outputs": [],
   "source": [
    "from scipy import sparse\n",
    "array_vals = adata.X\n",
    "adata.X = sparse.csr_matrix(adata.X)\n",
    "adata.raw = adata\n",
    "adata.X = array_vals"
   ]
  },
  {
   "cell_type": "code",
   "execution_count": 36,
   "metadata": {},
   "outputs": [],
   "source": [
    "adata = adata[adata.obs['cell.labels'].isin(['HSC', 'LMPP', 'MPP', 'MEMP', 'CMP', 'CLP', \n",
    "                                             'myeloid DC progenitor'])].copy()"
   ]
  },
  {
   "cell_type": "code",
   "execution_count": 37,
   "metadata": {},
   "outputs": [
    {
     "data": {
      "text/plain": [
       "cell.labels\n",
       "CLP                      882\n",
       "CMP                      288\n",
       "HSC                      497\n",
       "LMPP                      80\n",
       "MEMP                     785\n",
       "MPP                      365\n",
       "myeloid DC progenitor    110\n",
       "dtype: int64"
      ]
     },
     "execution_count": 37,
     "metadata": {},
     "output_type": "execute_result"
    }
   ],
   "source": [
    "cell_numbers = adata.obs.groupby([\"cell.labels\"]).apply(len)\n",
    "cell_numbers"
   ]
  },
  {
   "cell_type": "code",
   "execution_count": 38,
   "metadata": {},
   "outputs": [],
   "source": [
    "adata.obs[\"dataset\"] = \"ABM\""
   ]
  },
  {
   "cell_type": "code",
   "execution_count": 39,
   "metadata": {},
   "outputs": [
    {
     "data": {
      "text/plain": [
       "sample     cell.labels          \n",
       "MantonBM1  CLP                      195\n",
       "           CMP                       79\n",
       "           HSC                      116\n",
       "           LMPP                      22\n",
       "           MEMP                     156\n",
       "           MPP                       77\n",
       "           myeloid DC progenitor     30\n",
       "MantonBM2  CLP                       48\n",
       "           CMP                       18\n",
       "           HSC                       21\n",
       "           LMPP                       6\n",
       "           MEMP                      38\n",
       "           MPP                       15\n",
       "           myeloid DC progenitor      9\n",
       "MantonBM5  CLP                      377\n",
       "           CMP                      106\n",
       "           HSC                      171\n",
       "           LMPP                      22\n",
       "           MEMP                     389\n",
       "           MPP                      125\n",
       "           myeloid DC progenitor     44\n",
       "MantonBM6  CLP                      262\n",
       "           CMP                       85\n",
       "           HSC                      189\n",
       "           LMPP                      30\n",
       "           MEMP                     202\n",
       "           MPP                      148\n",
       "           myeloid DC progenitor     27\n",
       "dtype: int64"
      ]
     },
     "execution_count": 39,
     "metadata": {},
     "output_type": "execute_result"
    }
   ],
   "source": [
    "cell_numbers = adata.obs.groupby([\"sample\", \"cell.labels\"]).apply(len)\n",
    "pd.DataFrame(cell_numbers).to_csv(\"/Users/b8058304/Documents/PhD_work/Coding/manuscript_figs/resources_for_pipelines/abm_progen_nrs_by_sample_20200722.csv\")\n",
    "cell_numbers"
   ]
  },
  {
   "cell_type": "code",
   "execution_count": 40,
   "metadata": {},
   "outputs": [],
   "source": [
    "abm = adata"
   ]
  },
  {
   "cell_type": "markdown",
   "metadata": {},
   "source": [
    "# Import the CB progenitor compartment"
   ]
  },
  {
   "cell_type": "code",
   "execution_count": 41,
   "metadata": {},
   "outputs": [],
   "source": [
    "adata = sc.read('/Users/b8058304/Documents/PhD_work/Coding/cord_blood/data/cord_blood_raw_dr_20200717.h5ad')"
   ]
  },
  {
   "cell_type": "code",
   "execution_count": 42,
   "metadata": {
    "scrolled": true
   },
   "outputs": [
    {
     "data": {
      "text/plain": [
       "AnnData object with n_obs × n_vars = 148442 × 33694 \n",
       "    obs: 'sample', 'lanes', 'mad_prd', 'auto_prd', 'cell.labels', 'cell.labels2', 'leiden', 'percent.mito', 'nGene', 'nUMI', 'cell.labels_20200717'\n",
       "    var: 'gene_ids'\n",
       "    obsm: 'X_orig_pca', 'X_pca', 'X_umap'"
      ]
     },
     "execution_count": 42,
     "metadata": {},
     "output_type": "execute_result"
    }
   ],
   "source": [
    "adata"
   ]
  },
  {
   "cell_type": "code",
   "execution_count": 43,
   "metadata": {
    "scrolled": false
   },
   "outputs": [
    {
     "data": {
      "text/plain": [
       "cell.labels\n",
       "CD8 T cell          16345\n",
       "CD14 monocyte       13324\n",
       "CD16 monocyte         888\n",
       "CD56 bright NK       4066\n",
       "CMP                   272\n",
       "DC1                    67\n",
       "DC2                   155\n",
       "DC precursor          169\n",
       "GMP                   203\n",
       "HSC                   194\n",
       "ILC precursor        1519\n",
       "MEMP                  338\n",
       "MK                   1262\n",
       "early MK              496\n",
       "early erythroid       532\n",
       "late erythroid        878\n",
       "mature NK            7860\n",
       "mid erythroid        2627\n",
       "myelocyte            3726\n",
       "naive B cell        19516\n",
       "naive CD4 T cell    69338\n",
       "neutrophil           3458\n",
       "pDC                   242\n",
       "preDC                 269\n",
       "promonocyte           607\n",
       "tDC                    91\n",
       "dtype: int64"
      ]
     },
     "execution_count": 43,
     "metadata": {},
     "output_type": "execute_result"
    }
   ],
   "source": [
    "cell_numbers = adata.obs.groupby([\"cell.labels\"]).apply(len)\n",
    "cell_numbers"
   ]
  },
  {
   "cell_type": "code",
   "execution_count": 44,
   "metadata": {},
   "outputs": [],
   "source": [
    "from scipy import sparse\n",
    "array_vals = adata.X\n",
    "adata.X = sparse.csr_matrix(adata.X)\n",
    "adata.raw = adata\n",
    "adata.X = array_vals"
   ]
  },
  {
   "cell_type": "code",
   "execution_count": 45,
   "metadata": {},
   "outputs": [],
   "source": [
    "adata = adata[adata.obs['cell.labels'].isin(['HSC', 'MEMP', 'GMP', 'CMP'])].copy()"
   ]
  },
  {
   "cell_type": "code",
   "execution_count": 46,
   "metadata": {},
   "outputs": [
    {
     "data": {
      "text/plain": [
       "cell.labels\n",
       "CMP     272\n",
       "GMP     203\n",
       "HSC     194\n",
       "MEMP    338\n",
       "dtype: int64"
      ]
     },
     "execution_count": 46,
     "metadata": {},
     "output_type": "execute_result"
    }
   ],
   "source": [
    "cell_numbers = adata.obs.groupby([\"cell.labels\"]).apply(len)\n",
    "cell_numbers"
   ]
  },
  {
   "cell_type": "code",
   "execution_count": 47,
   "metadata": {},
   "outputs": [],
   "source": [
    "adata.obs[\"dataset\"] = \"CB\""
   ]
  },
  {
   "cell_type": "code",
   "execution_count": 48,
   "metadata": {},
   "outputs": [
    {
     "data": {
      "text/plain": [
       "sample     cell.labels\n",
       "MantonCB1  CMP             50\n",
       "           GMP             45\n",
       "           HSC             50\n",
       "           MEMP            67\n",
       "MantonCB2  CMP             80\n",
       "           GMP             63\n",
       "           HSC             53\n",
       "           MEMP           185\n",
       "MantonCB5  CMP             68\n",
       "           GMP             46\n",
       "           HSC             51\n",
       "           MEMP            64\n",
       "MantonCB6  CMP             74\n",
       "           GMP             49\n",
       "           HSC             40\n",
       "           MEMP            22\n",
       "dtype: int64"
      ]
     },
     "execution_count": 48,
     "metadata": {},
     "output_type": "execute_result"
    }
   ],
   "source": [
    "cell_numbers = adata.obs.groupby([\"sample\", \"cell.labels\"]).apply(len)\n",
    "pd.DataFrame(cell_numbers).to_csv(\"/Users/b8058304/Documents/PhD_work/Coding/manuscript_figs/resources_for_pipelines/cb_progen_nrs_by_sample_20200722.csv\")\n",
    "cell_numbers"
   ]
  },
  {
   "cell_type": "code",
   "execution_count": 49,
   "metadata": {},
   "outputs": [],
   "source": [
    "cb = adata"
   ]
  },
  {
   "cell_type": "code",
   "execution_count": null,
   "metadata": {},
   "outputs": [],
   "source": []
  }
 ],
 "metadata": {
  "kernelspec": {
   "display_name": "Python 3",
   "language": "python",
   "name": "python3"
  },
  "language_info": {
   "codemirror_mode": {
    "name": "ipython",
    "version": 3
   },
   "file_extension": ".py",
   "mimetype": "text/x-python",
   "name": "python",
   "nbconvert_exporter": "python",
   "pygments_lexer": "ipython3",
   "version": "3.6.4"
  }
 },
 "nbformat": 4,
 "nbformat_minor": 4
}
