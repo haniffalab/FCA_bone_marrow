{
 "cells": [
  {
   "cell_type": "markdown",
   "metadata": {},
   "source": [
    "# Import packages and data "
   ]
  },
  {
   "cell_type": "code",
   "execution_count": 1,
   "metadata": {},
   "outputs": [
    {
     "name": "stderr",
     "output_type": "stream",
     "text": [
      "/Users/b8058304/.pyenv/versions/3.6.4/envs/py36/lib/python3.6/site-packages/anndata/_core/anndata.py:21: FutureWarning: pandas.core.index is deprecated and will be removed in a future version.  The public classes are available in the top-level namespace.\n",
      "  from pandas.core.index import RangeIndex\n"
     ]
    }
   ],
   "source": [
    "import numpy as np\n",
    "import pandas as pd\n",
    "import scanpy as sc\n",
    "import seaborn as sns\n",
    "import scipy.stats\n",
    "import anndata\n",
    "import matplotlib.pyplot as plt\n",
    "import matplotlib as mpl\n",
    "from matplotlib.axes._axes import _log as matplotlib_axes_logger\n",
    "from scipy import sparse\n",
    "matplotlib_axes_logger.setLevel('ERROR')\n",
    "# silence NumbaPerformanceWarning\n",
    "import warnings\n",
    "from numba.errors import NumbaPerformanceWarning\n",
    "warnings.filterwarnings(\"ignore\", category=NumbaPerformanceWarning)"
   ]
  },
  {
   "cell_type": "code",
   "execution_count": 2,
   "metadata": {},
   "outputs": [
    {
     "name": "stdout",
     "output_type": "stream",
     "text": [
      "scanpy==1.4.4 anndata==0.7.1 umap==0.3.10 numpy==1.18.1 scipy==1.4.1 pandas==1.0.2 scikit-learn==0.22.2.post1 statsmodels==0.11.1 python-igraph==0.8.0 louvain==0.6.1\n"
     ]
    }
   ],
   "source": [
    "sc.settings.verbosity = 1  # verbosity: errors (0), warnings (1), info (2), hints (3)\n",
    "# Set up the plot config for viewing the annotation clearly.\n",
    "sc.settings.set_figure_params(dpi=120, dpi_save=1000)\n",
    "sc.logging.print_versions()"
   ]
  },
  {
   "cell_type": "markdown",
   "metadata": {},
   "source": [
    "# Save meta (and numbers) for YS progenitors"
   ]
  },
  {
   "cell_type": "code",
   "execution_count": 3,
   "metadata": {},
   "outputs": [],
   "source": [
    "adata = sc.read(\"/Users/b8058304/Documents/PhD_work/Coding/manuscript_figs/data/figs5c_ys_fbm_progen_enrichment_comparison_20200514.h5ad\")"
   ]
  },
  {
   "cell_type": "code",
   "execution_count": 4,
   "metadata": {
    "scrolled": false
   },
   "outputs": [
    {
     "data": {
      "text/plain": [
       "cell.labels\n",
       "CMP                    55\n",
       "ELP                   174\n",
       "GMP                    40\n",
       "HSC                   105\n",
       "MEMP                   55\n",
       "MEP                    56\n",
       "Monocyte precursor     26\n",
       "macrophage             42\n",
       "neut myeloid           18\n",
       "dtype: int64"
      ]
     },
     "execution_count": 4,
     "metadata": {},
     "output_type": "execute_result"
    }
   ],
   "source": [
    "cell_numbers = adata.obs.groupby([\"cell.labels\"]).apply(len)\n",
    "cell_numbers"
   ]
  },
  {
   "cell_type": "code",
   "execution_count": 5,
   "metadata": {},
   "outputs": [],
   "source": [
    "total = sc.read(\"/Users/b8058304/Documents/PhD_work/Coding/liver/data/ys_total_annotation_20191127.h5ad\")"
   ]
  },
  {
   "cell_type": "code",
   "execution_count": 6,
   "metadata": {},
   "outputs": [],
   "source": [
    "total.obs[\"cell.labels_progen\"] = adata.obs[\"cell.labels\"]"
   ]
  },
  {
   "cell_type": "code",
   "execution_count": 7,
   "metadata": {},
   "outputs": [
    {
     "data": {
      "text/plain": [
       "cell.labels_progen\n",
       "CMP                    55\n",
       "ELP                   174\n",
       "GMP                    40\n",
       "HSC                   105\n",
       "MEMP                   55\n",
       "MEP                    56\n",
       "Monocyte precursor     26\n",
       "macrophage             42\n",
       "neut myeloid           18\n",
       "dtype: int64"
      ]
     },
     "execution_count": 7,
     "metadata": {},
     "output_type": "execute_result"
    }
   ],
   "source": [
    "cell_numbers = total.obs.groupby([\"cell.labels_progen\"]).apply(len)\n",
    "cell_numbers"
   ]
  },
  {
   "cell_type": "code",
   "execution_count": 8,
   "metadata": {},
   "outputs": [
    {
     "data": {
      "text/plain": [
       "fetal.ids          cell.labels_progen\n",
       "F32_female_7+6PCW  CMP                     3\n",
       "                   ELP                    12\n",
       "                   GMP                     1\n",
       "                   HSC                     5\n",
       "                   MEMP                    8\n",
       "                   MEP                     8\n",
       "                   macrophage              2\n",
       "F35_female_7+6PCW  CMP                    11\n",
       "                   ELP                    19\n",
       "                   GMP                     2\n",
       "                   HSC                    19\n",
       "                   MEMP                   23\n",
       "                   MEP                    38\n",
       "                   Monocyte precursor      2\n",
       "                   macrophage              1\n",
       "                   neut myeloid            6\n",
       "F37_female_4PCW    CMP                    41\n",
       "                   ELP                   143\n",
       "                   GMP                    37\n",
       "                   HSC                    81\n",
       "                   MEMP                   24\n",
       "                   MEP                    10\n",
       "                   Monocyte precursor     24\n",
       "                   macrophage             39\n",
       "                   neut myeloid           12\n",
       "dtype: int64"
      ]
     },
     "execution_count": 8,
     "metadata": {},
     "output_type": "execute_result"
    }
   ],
   "source": [
    "cell_numbers = total.obs.groupby([\"fetal.ids\", \"cell.labels_progen\"]).apply(len)\n",
    "pd.DataFrame(cell_numbers).to_csv(\"/Users/b8058304/Documents/PhD_work/Coding/manuscript_figs/resources_for_pipelines/ys_progen_nrs_by_sample.csv\")\n",
    "cell_numbers"
   ]
  },
  {
   "cell_type": "code",
   "execution_count": 9,
   "metadata": {},
   "outputs": [],
   "source": [
    "total.write(\"/Users/b8058304/Documents/PhD_work/Coding/liver/data/ys_total_annotation_20191127.h5ad\")"
   ]
  },
  {
   "cell_type": "code",
   "execution_count": null,
   "metadata": {},
   "outputs": [],
   "source": []
  },
  {
   "cell_type": "code",
   "execution_count": null,
   "metadata": {},
   "outputs": [],
   "source": []
  },
  {
   "cell_type": "code",
   "execution_count": null,
   "metadata": {},
   "outputs": [],
   "source": []
  },
  {
   "cell_type": "markdown",
   "metadata": {},
   "source": [
    "# Save meta (and nrs) for liver progenitors"
   ]
  },
  {
   "cell_type": "code",
   "execution_count": 10,
   "metadata": {},
   "outputs": [],
   "source": [
    "adata = sc.read(\"/Users/b8058304/Documents/PhD_work/Coding/manuscript_figs/data/figs5c_fl_fbm_progen_enrichment_comparison_20200518.h5ad\")"
   ]
  },
  {
   "cell_type": "code",
   "execution_count": 11,
   "metadata": {
    "scrolled": false
   },
   "outputs": [
    {
     "data": {
      "text/plain": [
       "cell.labels\n",
       "ELP                        525\n",
       "GMP                        362\n",
       "HSC                        242\n",
       "MEMP                       505\n",
       "MEP                        639\n",
       "MPP                       2012\n",
       "early MK                    81\n",
       "early erythroid            333\n",
       "eo/baso/mast precursor      86\n",
       "erythroid-MPP hybrid        14\n",
       "macrophage                  81\n",
       "myeloid DC progenitor       94\n",
       "pDC progenitor              41\n",
       "dtype: int64"
      ]
     },
     "execution_count": 11,
     "metadata": {},
     "output_type": "execute_result"
    }
   ],
   "source": [
    "cell_numbers = adata.obs.groupby([\"cell.labels\"]).apply(len)\n",
    "cell_numbers"
   ]
  },
  {
   "cell_type": "code",
   "execution_count": 12,
   "metadata": {},
   "outputs": [],
   "source": [
    "total = sc.read(\"/Users/b8058304/Documents/PhD_work/Coding/liver/data/fetal_liver_alladata_Copy1.h5ad\")"
   ]
  },
  {
   "cell_type": "code",
   "execution_count": 13,
   "metadata": {},
   "outputs": [],
   "source": [
    "total.obs[\"cell.labels_progen\"] = adata.obs[\"cell.labels\"]"
   ]
  },
  {
   "cell_type": "code",
   "execution_count": 14,
   "metadata": {},
   "outputs": [
    {
     "data": {
      "text/plain": [
       "cell.labels_progen\n",
       "ELP                        525\n",
       "GMP                        362\n",
       "HSC                        242\n",
       "MEMP                       505\n",
       "MEP                        639\n",
       "MPP                       2012\n",
       "early MK                    81\n",
       "early erythroid            333\n",
       "eo/baso/mast precursor      86\n",
       "erythroid-MPP hybrid        14\n",
       "macrophage                  81\n",
       "myeloid DC progenitor       94\n",
       "pDC progenitor              41\n",
       "dtype: int64"
      ]
     },
     "execution_count": 14,
     "metadata": {},
     "output_type": "execute_result"
    }
   ],
   "source": [
    "cell_numbers = total.obs.groupby([\"cell.labels_progen\"]).apply(len)\n",
    "cell_numbers"
   ]
  },
  {
   "cell_type": "code",
   "execution_count": 15,
   "metadata": {},
   "outputs": [
    {
     "data": {
      "text/plain": [
       "fetal.ids           cell.labels_progen    \n",
       "F16_male_8+1PCW     ELP                        4\n",
       "                    GMP                        3\n",
       "                    HSC                        1\n",
       "                    MEMP                       4\n",
       "                    MEP                        9\n",
       "                                              ..\n",
       "F45_female_13+6PCW  eo/baso/mast precursor     8\n",
       "                    erythroid-MPP hybrid       1\n",
       "                    macrophage                18\n",
       "                    myeloid DC progenitor     11\n",
       "                    pDC progenitor             4\n",
       "Length: 169, dtype: int64"
      ]
     },
     "execution_count": 15,
     "metadata": {},
     "output_type": "execute_result"
    }
   ],
   "source": [
    "cell_numbers = total.obs.groupby([\"fetal.ids\", \"cell.labels_progen\"]).apply(len)\n",
    "pd.DataFrame(cell_numbers).to_csv(\"/Users/b8058304/Documents/PhD_work/Coding/manuscript_figs/resources_for_pipelines/liver_progen_nrs_by_sample.csv\")\n",
    "cell_numbers"
   ]
  },
  {
   "cell_type": "code",
   "execution_count": 16,
   "metadata": {},
   "outputs": [],
   "source": [
    "total.write(\"/Users/b8058304/Documents/PhD_work/Coding/liver/data/fetal_liver_alladata_Copy1.h5ad\")"
   ]
  },
  {
   "cell_type": "code",
   "execution_count": null,
   "metadata": {},
   "outputs": [],
   "source": []
  },
  {
   "cell_type": "code",
   "execution_count": null,
   "metadata": {},
   "outputs": [],
   "source": []
  },
  {
   "cell_type": "code",
   "execution_count": null,
   "metadata": {},
   "outputs": [],
   "source": []
  },
  {
   "cell_type": "markdown",
   "metadata": {},
   "source": [
    "# Save nrs for FBM"
   ]
  },
  {
   "cell_type": "code",
   "execution_count": 17,
   "metadata": {},
   "outputs": [],
   "source": [
    "total = sc.read(\"/Users/b8058304/Documents/PhD_work/Coding/bm_plus_19pcw/data/bm_plus_19pcw_raw_dr_20200414.h5ad\")"
   ]
  },
  {
   "cell_type": "code",
   "execution_count": 18,
   "metadata": {},
   "outputs": [
    {
     "data": {
      "text/plain": [
       "cell.labels\n",
       "CD4 T                  327\n",
       "CD8 T                  171\n",
       "CD14 monocyte         8787\n",
       "CD56 bright NK         540\n",
       "CMP                    425\n",
       "                      ... \n",
       "schwann cells            9\n",
       "sinusoidal EC          550\n",
       "stromal macrophage    1493\n",
       "tDC                    193\n",
       "tip EC                 363\n",
       "Length: 64, dtype: int64"
      ]
     },
     "execution_count": 18,
     "metadata": {},
     "output_type": "execute_result"
    }
   ],
   "source": [
    "cell_numbers = total.obs.groupby([\"cell.labels\"]).apply(len)\n",
    "cell_numbers"
   ]
  },
  {
   "cell_type": "code",
   "execution_count": 19,
   "metadata": {},
   "outputs": [
    {
     "data": {
      "text/plain": [
       "fetal.ids         cell.labels       \n",
       "F21_male_16+2PCW  CD4 T                  12\n",
       "                  CD8 T                  13\n",
       "                  CD14 monocyte         217\n",
       "                  CD56 bright NK         16\n",
       "                  CMP                    19\n",
       "                                       ... \n",
       "SB19PCW           promyelocyte          816\n",
       "                  schwann cells           8\n",
       "                  sinusoidal EC          42\n",
       "                  stromal macrophage     40\n",
       "                  tip EC                105\n",
       "Length: 528, dtype: int64"
      ]
     },
     "execution_count": 19,
     "metadata": {},
     "output_type": "execute_result"
    }
   ],
   "source": [
    "cell_numbers = total.obs.groupby([\"fetal.ids\", \"cell.labels\"]).apply(len)\n",
    "pd.DataFrame(cell_numbers).to_csv(\"/Users/b8058304/Documents/PhD_work/Coding/manuscript_figs/resources_for_pipelines/fbm_progen_nrs_by_sample.csv\")\n",
    "cell_numbers"
   ]
  },
  {
   "cell_type": "code",
   "execution_count": null,
   "metadata": {},
   "outputs": [],
   "source": []
  },
  {
   "cell_type": "code",
   "execution_count": null,
   "metadata": {},
   "outputs": [],
   "source": []
  },
  {
   "cell_type": "markdown",
   "metadata": {},
   "source": [
    "# Save nrs for ABM"
   ]
  },
  {
   "cell_type": "code",
   "execution_count": 20,
   "metadata": {},
   "outputs": [],
   "source": [
    "total = sc.read(\"/Users/b8058304/Documents/PhD_work/Coding/adult_bm/data/adult_bm_raw_dr_20200311.h5ad\")"
   ]
  },
  {
   "cell_type": "code",
   "execution_count": 21,
   "metadata": {},
   "outputs": [
    {
     "data": {
      "text/plain": [
       "cell.labels\n",
       "CD14 monocyte                   3094\n",
       "CD16 monocyte                   1938\n",
       "CD56 bright NK                  1228\n",
       "CMP                              882\n",
       "DC1                              135\n",
       "DC2                              481\n",
       "DC3                              550\n",
       "EI macrophage                     77\n",
       "ELP-B cell                        80\n",
       "ELP-pDC                           63\n",
       "GMP                              398\n",
       "HSC                              862\n",
       "MEMP                             505\n",
       "MK                               577\n",
       "MK progenitor                    280\n",
       "MSC                              161\n",
       "Pre B cell                       971\n",
       "T reg                           6327\n",
       "early MK                         136\n",
       "early erythroid                 5441\n",
       "immature B cell                 2728\n",
       "interferon induced monocyte      576\n",
       "late erythroid                  1150\n",
       "mature CD8 T cell              15725\n",
       "mature NK                       6074\n",
       "memory B cell                   4106\n",
       "memory CD4 T cell              22197\n",
       "mid erythroid                   2192\n",
       "monocyte precursor              2461\n",
       "monocyte-DC                      515\n",
       "myelocyte                       6675\n",
       "naive B cell                   19265\n",
       "naive CD4 T cell                5873\n",
       "naive CD8 T cell                8965\n",
       "neut myeloid                    1440\n",
       "neutrophil                      2482\n",
       "pDC                             1134\n",
       "plasma cell                     2074\n",
       "pre DC                           462\n",
       "pre monocyte                    4987\n",
       "pro B progenitor                1390\n",
       "promyelocyte                    2197\n",
       "transitional B cell             2151\n",
       "transitional DC                   75\n",
       "transitional NK                  946\n",
       "dtype: int64"
      ]
     },
     "execution_count": 21,
     "metadata": {},
     "output_type": "execute_result"
    }
   ],
   "source": [
    "cell_numbers = total.obs.groupby([\"cell.labels\"]).apply(len)\n",
    "cell_numbers"
   ]
  },
  {
   "cell_type": "code",
   "execution_count": 22,
   "metadata": {},
   "outputs": [
    {
     "data": {
      "text/plain": [
       "sample     cell.labels        \n",
       "MantonBM1  CD14 monocyte          614\n",
       "           CD16 monocyte          244\n",
       "           CD56 bright NK         240\n",
       "           CMP                    195\n",
       "           DC1                     55\n",
       "                                 ... \n",
       "MantonBM6  pro B progenitor       313\n",
       "           promyelocyte           544\n",
       "           transitional B cell    204\n",
       "           transitional DC         18\n",
       "           transitional NK        130\n",
       "Length: 180, dtype: int64"
      ]
     },
     "execution_count": 22,
     "metadata": {},
     "output_type": "execute_result"
    }
   ],
   "source": [
    "cell_numbers = total.obs.groupby([\"sample\", \"cell.labels\"]).apply(len)\n",
    "pd.DataFrame(cell_numbers).to_csv(\"/Users/b8058304/Documents/PhD_work/Coding/manuscript_figs/resources_for_pipelines/abm_progen_nrs_by_sample.csv\")\n",
    "cell_numbers"
   ]
  },
  {
   "cell_type": "code",
   "execution_count": null,
   "metadata": {},
   "outputs": [],
   "source": []
  },
  {
   "cell_type": "code",
   "execution_count": null,
   "metadata": {},
   "outputs": [],
   "source": []
  },
  {
   "cell_type": "markdown",
   "metadata": {},
   "source": [
    "# Save nrs for CB"
   ]
  },
  {
   "cell_type": "code",
   "execution_count": 23,
   "metadata": {},
   "outputs": [],
   "source": [
    "total = sc.read(\"/Users/b8058304/Documents/PhD_work/Coding/cord_blood/data/cord_blood_raw_dr_20200311.h5ad\")"
   ]
  },
  {
   "cell_type": "code",
   "execution_count": 24,
   "metadata": {},
   "outputs": [
    {
     "data": {
      "text/plain": [
       "cell.labels\n",
       "CD8 T cell          16345\n",
       "CD14 monocyte       13324\n",
       "CD16 monocyte         888\n",
       "CD56 bright NK       4066\n",
       "CMP                   272\n",
       "DC1                    67\n",
       "DC2                   155\n",
       "DC precursor          169\n",
       "GMP                   203\n",
       "HSC                   194\n",
       "ILC precursor        1519\n",
       "MEMP                  338\n",
       "MK                   1262\n",
       "early MK              496\n",
       "early erythroid       532\n",
       "late erythroid        878\n",
       "mature NK            7860\n",
       "mid erythroid        2627\n",
       "myelocyte            3726\n",
       "naive B cell        19516\n",
       "naive CD4 T cell    69338\n",
       "neutrophil           3458\n",
       "pDC                   242\n",
       "preDC                 269\n",
       "premonocyte           607\n",
       "tDC                    91\n",
       "dtype: int64"
      ]
     },
     "execution_count": 24,
     "metadata": {},
     "output_type": "execute_result"
    }
   ],
   "source": [
    "cell_numbers = total.obs.groupby([\"cell.labels\"]).apply(len)\n",
    "cell_numbers"
   ]
  },
  {
   "cell_type": "code",
   "execution_count": 25,
   "metadata": {},
   "outputs": [
    {
     "data": {
      "text/plain": [
       "sample     cell.labels   \n",
       "MantonCB1  CD8 T cell        1739\n",
       "           CD14 monocyte     5633\n",
       "           CD16 monocyte      242\n",
       "           CD56 bright NK     543\n",
       "           CMP                 50\n",
       "                             ... \n",
       "MantonCB6  neutrophil        1719\n",
       "           pDC                 74\n",
       "           preDC              146\n",
       "           premonocyte        219\n",
       "           tDC                 63\n",
       "Length: 104, dtype: int64"
      ]
     },
     "execution_count": 25,
     "metadata": {},
     "output_type": "execute_result"
    }
   ],
   "source": [
    "cell_numbers = total.obs.groupby([\"sample\", \"cell.labels\"]).apply(len)\n",
    "pd.DataFrame(cell_numbers).to_csv(\"/Users/b8058304/Documents/PhD_work/Coding/manuscript_figs/resources_for_pipelines/cb_progen_nrs_by_sample.csv\")\n",
    "cell_numbers"
   ]
  },
  {
   "cell_type": "code",
   "execution_count": null,
   "metadata": {},
   "outputs": [],
   "source": []
  },
  {
   "cell_type": "code",
   "execution_count": null,
   "metadata": {},
   "outputs": [],
   "source": []
  },
  {
   "cell_type": "code",
   "execution_count": null,
   "metadata": {},
   "outputs": [],
   "source": []
  },
  {
   "cell_type": "code",
   "execution_count": null,
   "metadata": {},
   "outputs": [],
   "source": []
  },
  {
   "cell_type": "code",
   "execution_count": null,
   "metadata": {},
   "outputs": [],
   "source": []
  },
  {
   "cell_type": "code",
   "execution_count": null,
   "metadata": {},
   "outputs": [],
   "source": []
  },
  {
   "cell_type": "code",
   "execution_count": null,
   "metadata": {},
   "outputs": [],
   "source": []
  },
  {
   "cell_type": "code",
   "execution_count": null,
   "metadata": {},
   "outputs": [],
   "source": []
  }
 ],
 "metadata": {
  "kernelspec": {
   "display_name": "Python 3",
   "language": "python",
   "name": "python3"
  },
  "language_info": {
   "codemirror_mode": {
    "name": "ipython",
    "version": 3
   },
   "file_extension": ".py",
   "mimetype": "text/x-python",
   "name": "python",
   "nbconvert_exporter": "python",
   "pygments_lexer": "ipython3",
   "version": "3.6.4"
  }
 },
 "nbformat": 4,
 "nbformat_minor": 4
}
