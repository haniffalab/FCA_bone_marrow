{
 "cells": [
  {
   "cell_type": "markdown",
   "metadata": {},
   "source": [
    "#### Fig4E - CC score\n",
    "#### University of Cambridge\n",
    "#### Mariana Quiroga Londoño\n",
    "#### 20-02-20"
   ]
  },
  {
   "cell_type": "code",
   "execution_count": 1,
   "metadata": {},
   "outputs": [
    {
     "name": "stderr",
     "output_type": "stream",
     "text": [
      "2021-02-05 22:25:58,200 [5752] WARNING  py.warnings:110: [JupyterRequire] /usr/local/lib/python3.7/dist-packages/numba/core/cpu.py:77: UserWarning: Numba extension module 'sparse._numba_extension' failed to load due to 'ModuleNotFoundError(No module named 'numba.targets')'.\n",
      "  numba.core.entrypoints.init_all()\n",
      "\n"
     ]
    }
   ],
   "source": [
    "#SETTING ENVIRONMENT \n",
    "import rpy2\n",
    "#import tzlocal\n",
    "#%load_ext rpy2.ipython\n",
    "\n",
    "import numpy as np\n",
    "import pandas as pd\n",
    "import scanpy as sc\n",
    "\n",
    "sc.settings.verbosity = 3             # verbosity: errors (0), warnings (1), info (2), hints (3)\n",
    "#sc.logging.print_versions()\n",
    "sc.settings.set_figure_params(dpi=80, dpi_save=1000)"
   ]
  },
  {
   "cell_type": "code",
   "execution_count": 2,
   "metadata": {},
   "outputs": [],
   "source": [
    "from matplotlib.colors import LinearSegmentedColormap\n",
    "cmap = LinearSegmentedColormap.from_list(name='gene_cmap', colors=['lightgrey', 'thistle', 'red', 'darkred']) "
   ]
  },
  {
   "cell_type": "markdown",
   "metadata": {},
   "source": [
    "#### Incorporate new annotations"
   ]
  },
  {
   "cell_type": "code",
   "execution_count": 3,
   "metadata": {},
   "outputs": [],
   "source": [
    "#To calculate the cc score, I will need to use the adata that contains the cc genes we removed to generate the landscape! So it's not the result of h5da_part4, but part 3 instead.\n",
    "#The adata from part 4 that doesn't include cc genes has a size of 35273 cells × 24153 genes.\n",
    "#Whereas the adata from part 4 which has the same amount of cells, but includes cc genes has a size of: 35273 cells × 24247 genes\n",
    "adata = sc.read(\"./h5da_part3/020221_mq224_part3_mRNA_Progenitors_only_postHarmony_DEG_FBMS2-3-H3-F3-E5_CB-G7_FL-A7-A6-C5.h5ad\")"
   ]
  },
  {
   "cell_type": "code",
   "execution_count": 4,
   "metadata": {},
   "outputs": [
    {
     "data": {
      "text/plain": [
       "AnnData object with n_obs × n_vars = 35273 × 24247\n",
       "    obs: 'lanes', 'mad_prd', 'auto_prd', 'barcode', 'status', 'assignment', 'log_prob_singleton', 'log_prob_doublet', 'cluster0', 'cluster1', 'cluster2', 'Sample', 'Stage', 'Tissue', 'cluster3', 'batch', 'n_genes', 'percent_mito', 'n_counts', 'louvain', 'leiden', 'old.broad_annotations'\n",
       "    var: 'feature_types', 'gene_ids-0', 'gene_ids-1', 'gene_ids-2', 'gene_ids-3', 'gene_ids-4', 'gene_ids-5', 'gene_ids-6', 'n_cells', 'highly_variable', 'means', 'dispersions', 'dispersions_norm', 'mean', 'std'\n",
       "    uns: 'Sample_colors', 'Stage_colors', 'Tissue_colors', 'assignment_colors', 'draw_graph', 'hvg', 'leiden', 'leiden_colors', 'louvain', 'louvain_colors', 'neighbors', 'pca', 'rank_genes_groups', 'umap'\n",
       "    obsm: 'X_draw_graph_fa', 'X_orig_pca', 'X_pca', 'X_umap'\n",
       "    varm: 'PCs'\n",
       "    obsp: 'connectivities', 'distances'"
      ]
     },
     "execution_count": 4,
     "metadata": {},
     "output_type": "execute_result"
    }
   ],
   "source": [
    "adata"
   ]
  },
  {
   "cell_type": "code",
   "execution_count": 5,
   "metadata": {},
   "outputs": [],
   "source": [
    "#However, we do want the clusters generated in part 4 after annotating and sorting these annotations\n",
    "#so we read those and incorporate them in adata.\n",
    "adata_clhighres= sc.read(\"h5da_part4/050221_mq224_mRNA_Progenitors_only_postHarmony_ccfiltered_DEG_P4_sorted_annotations_FBMS2-3-H3-F3-E5_CB-G7_FL-A7-A6-C5.h5ad\")"
   ]
  },
  {
   "cell_type": "code",
   "execution_count": 6,
   "metadata": {},
   "outputs": [
    {
     "data": {
      "text/plain": [
       "AnnData object with n_obs × n_vars = 35273 × 24153\n",
       "    obs: 'lanes', 'mad_prd', 'auto_prd', 'barcode', 'status', 'assignment', 'log_prob_singleton', 'log_prob_doublet', 'cluster0', 'cluster1', 'cluster2', 'Sample', 'Stage', 'Tissue', 'cluster3', 'batch', 'n_genes', 'percent_mito', 'n_counts', 'louvain', 'leiden', 'old.broad_annotations', 'leiden.P4', 'Cell.labels.P4', 'Cell.labels.P4.sorted'\n",
       "    var: 'highly_variable', 'means', 'dispersions', 'dispersions_norm', 'mean', 'std'\n",
       "    uns: 'Cell.labels.P4.sorted_colors', 'Cell.labels.P4_colors', 'Sample_colors', 'Stage_colors', 'Tissue_colors', 'assignment_colors', 'draw_graph', 'hvg', 'leiden', 'leiden_colors', 'louvain', 'louvain_colors', 'neighbors', 'pca', 'rank_genes_groups', 'umap'\n",
       "    obsm: 'X_draw_graph_fa', 'X_orig_pca', 'X_pca', 'X_umap'\n",
       "    varm: 'PCs'\n",
       "    obsp: 'connectivities', 'distances'"
      ]
     },
     "execution_count": 6,
     "metadata": {},
     "output_type": "execute_result"
    }
   ],
   "source": [
    "adata_clhighres"
   ]
  },
  {
   "cell_type": "code",
   "execution_count": 7,
   "metadata": {},
   "outputs": [],
   "source": [
    "adata.obs[\"Cell.labels.P4.sorted\"]= adata_clhighres.obs[\"Cell.labels.P4.sorted\"]"
   ]
  },
  {
   "cell_type": "markdown",
   "metadata": {},
   "source": [
    "### Import cell cycle genes"
   ]
  },
  {
   "cell_type": "code",
   "execution_count": 8,
   "metadata": {},
   "outputs": [
    {
     "name": "stdout",
     "output_type": "stream",
     "text": [
      "calculating cell cycle phase\n",
      "computing score 'S_score'\n",
      "    finished: added\n",
      "    'S_score', score of gene set (adata.obs).\n",
      "    1471 total control genes are used. (0:00:05)\n",
      "computing score 'G2M_score'\n",
      "    finished: added\n",
      "    'G2M_score', score of gene set (adata.obs).\n",
      "    1469 total control genes are used. (0:00:06)\n",
      "-->     'phase', cell cycle phase (adata.obs)\n"
     ]
    }
   ],
   "source": [
    "#Score cell cycle and visualize the effect:\n",
    "# load file in\n",
    "cc_genes_file = './test/cell_cycle_makosco.csv'\n",
    "cc_genes = pd.read_csv(cc_genes_file, delimiter=',')\n",
    "# removing na from s and g2m list\n",
    "s_genes = cc_genes['S'].dropna()\n",
    "g2m_genes = cc_genes['G2/M'].dropna()\n",
    "\n",
    "y_genes = s_genes.tolist()\n",
    "no_trail = []\n",
    "\n",
    "for x in y_genes:\n",
    "    y = x.strip()\n",
    "    no_trail.append(y)\n",
    "    \n",
    "s_genes = no_trail \n",
    "\n",
    "y_genes = g2m_genes.tolist()\n",
    "no_trail = []\n",
    "\n",
    "for x in y_genes:\n",
    "    y = x.strip()\n",
    "    no_trail.append(y)\n",
    "    \n",
    "g2m_genes = no_trail \n",
    "\n",
    "s_genes_mm = adata.var_names[np.isin(adata.var_names, s_genes)]\n",
    "\n",
    "g2m_genes_mm = adata.var_names[np.isin(adata.var_names, g2m_genes)]\n",
    "sc.tl.score_genes_cell_cycle(adata, s_genes=s_genes_mm, g2m_genes=g2m_genes_mm)\n",
    "adata.obs[\"phase_combined\"] = adata.obs[\"phase\"].replace([\"G2M\", \"S\"], [\"G2M/S\", \"G2M/S\"])\n",
    "adata.obs[\"S/G2M_score_combined\"] = (adata.obs[\"G2M_score\"] + adata.obs[\"S_score\"])/2"
   ]
  },
  {
   "cell_type": "code",
   "execution_count": 9,
   "metadata": {},
   "outputs": [
    {
     "name": "stdout",
     "output_type": "stream",
     "text": [
      "106\n",
      "129\n"
     ]
    }
   ],
   "source": [
    "print(len(s_genes_mm))\n",
    "print(len(g2m_genes_mm))"
   ]
  },
  {
   "cell_type": "markdown",
   "metadata": {},
   "source": [
    "### Prepare metadata"
   ]
  },
  {
   "cell_type": "code",
   "execution_count": 10,
   "metadata": {},
   "outputs": [
    {
     "name": "stderr",
     "output_type": "stream",
     "text": [
      "2021-02-05 22:26:25,862 [5752] WARNING  py.warnings:110: [JupyterRequire] /usr/local/lib/python3.7/dist-packages/ipykernel_launcher.py:4: SettingWithCopyWarning: \n",
      "A value is trying to be set on a copy of a slice from a DataFrame.\n",
      "Try using .loc[row_indexer,col_indexer] = value instead\n",
      "\n",
      "See the caveats in the documentation: https://pandas.pydata.org/pandas-docs/stable/user_guide/indexing.html#returning-a-view-versus-a-copy\n",
      "  after removing the cwd from sys.path.\n",
      "\n"
     ]
    },
    {
     "data": {
      "text/html": [
       "<div>\n",
       "<style scoped>\n",
       "    .dataframe tbody tr th:only-of-type {\n",
       "        vertical-align: middle;\n",
       "    }\n",
       "\n",
       "    .dataframe tbody tr th {\n",
       "        vertical-align: top;\n",
       "    }\n",
       "\n",
       "    .dataframe thead th {\n",
       "        text-align: right;\n",
       "    }\n",
       "</style>\n",
       "<table border=\"1\" class=\"dataframe\">\n",
       "  <thead>\n",
       "    <tr style=\"text-align: right;\">\n",
       "      <th></th>\n",
       "      <th>phase_combined</th>\n",
       "      <th>S/G2M_score_combined</th>\n",
       "      <th>Tissue</th>\n",
       "    </tr>\n",
       "  </thead>\n",
       "  <tbody>\n",
       "    <tr>\n",
       "      <th>AAACGAACACTGGATT-1-0</th>\n",
       "      <td>G2M/S</td>\n",
       "      <td>0.181827</td>\n",
       "      <td>FBM</td>\n",
       "    </tr>\n",
       "    <tr>\n",
       "      <th>AAACGAAGTCCATAGT-1-0</th>\n",
       "      <td>G2M/S</td>\n",
       "      <td>-0.059521</td>\n",
       "      <td>FBM</td>\n",
       "    </tr>\n",
       "    <tr>\n",
       "      <th>AAACGCTGTTATGTGC-1-0</th>\n",
       "      <td>G1</td>\n",
       "      <td>-0.028844</td>\n",
       "      <td>FBM</td>\n",
       "    </tr>\n",
       "    <tr>\n",
       "      <th>AAACGCTTCATACAGC-1-0</th>\n",
       "      <td>G1</td>\n",
       "      <td>-0.021353</td>\n",
       "      <td>FBM</td>\n",
       "    </tr>\n",
       "    <tr>\n",
       "      <th>AACAACCTCCTGCTAC-1-0</th>\n",
       "      <td>G2M/S</td>\n",
       "      <td>0.004942</td>\n",
       "      <td>FBM</td>\n",
       "    </tr>\n",
       "    <tr>\n",
       "      <th>...</th>\n",
       "      <td>...</td>\n",
       "      <td>...</td>\n",
       "      <td>...</td>\n",
       "    </tr>\n",
       "    <tr>\n",
       "      <th>TTTGATCAGGTTCACT-1-6</th>\n",
       "      <td>G1</td>\n",
       "      <td>-0.082312</td>\n",
       "      <td>FL</td>\n",
       "    </tr>\n",
       "    <tr>\n",
       "      <th>TTTGGTTCAACACTAC-1-6</th>\n",
       "      <td>G2M/S</td>\n",
       "      <td>0.038933</td>\n",
       "      <td>FL</td>\n",
       "    </tr>\n",
       "    <tr>\n",
       "      <th>TTTGGTTCACCCTAGG-1-6</th>\n",
       "      <td>G2M/S</td>\n",
       "      <td>0.112441</td>\n",
       "      <td>FL</td>\n",
       "    </tr>\n",
       "    <tr>\n",
       "      <th>TTTGGTTGTCCCGGTA-1-6</th>\n",
       "      <td>G1</td>\n",
       "      <td>-0.063144</td>\n",
       "      <td>FL</td>\n",
       "    </tr>\n",
       "    <tr>\n",
       "      <th>TTTGTTGTCGGAGATG-1-6</th>\n",
       "      <td>G2M/S</td>\n",
       "      <td>0.098141</td>\n",
       "      <td>FL</td>\n",
       "    </tr>\n",
       "  </tbody>\n",
       "</table>\n",
       "<p>35273 rows × 3 columns</p>\n",
       "</div>"
      ],
      "text/plain": [
       "                     phase_combined  S/G2M_score_combined Tissue\n",
       "AAACGAACACTGGATT-1-0          G2M/S              0.181827    FBM\n",
       "AAACGAAGTCCATAGT-1-0          G2M/S             -0.059521    FBM\n",
       "AAACGCTGTTATGTGC-1-0             G1             -0.028844    FBM\n",
       "AAACGCTTCATACAGC-1-0             G1             -0.021353    FBM\n",
       "AACAACCTCCTGCTAC-1-0          G2M/S              0.004942    FBM\n",
       "...                             ...                   ...    ...\n",
       "TTTGATCAGGTTCACT-1-6             G1             -0.082312     FL\n",
       "TTTGGTTCAACACTAC-1-6          G2M/S              0.038933     FL\n",
       "TTTGGTTCACCCTAGG-1-6          G2M/S              0.112441     FL\n",
       "TTTGGTTGTCCCGGTA-1-6             G1             -0.063144     FL\n",
       "TTTGTTGTCGGAGATG-1-6          G2M/S              0.098141     FL\n",
       "\n",
       "[35273 rows x 3 columns]"
      ]
     },
     "execution_count": 10,
     "metadata": {},
     "output_type": "execute_result"
    }
   ],
   "source": [
    "# save cell cycle scores within metadata as a dataframe (called enrichement scores)\n",
    "meta = pd.DataFrame(adata.obs)\n",
    "enrichment_scores_df = meta[meta.columns[-2:]]\n",
    "enrichment_scores_df[\"Tissue\"] =meta[\"Tissue\"] \n",
    "enrichment_scores_df"
   ]
  },
  {
   "cell_type": "code",
   "execution_count": 14,
   "metadata": {},
   "outputs": [
    {
     "name": "stderr",
     "output_type": "stream",
     "text": [
      "2021-02-05 22:29:53,375 [5752] WARNING  py.warnings:110: [JupyterRequire] /usr/local/lib/python3.7/dist-packages/ipykernel_launcher.py:2: SettingWithCopyWarning: \n",
      "A value is trying to be set on a copy of a slice from a DataFrame.\n",
      "Try using .loc[row_indexer,col_indexer] = value instead\n",
      "\n",
      "See the caveats in the documentation: https://pandas.pydata.org/pandas-docs/stable/user_guide/indexing.html#returning-a-view-versus-a-copy\n",
      "  \n",
      "\n",
      "2021-02-05 22:29:53,377 [5752] WARNING  py.warnings:110: [JupyterRequire] /usr/local/lib/python3.7/dist-packages/ipykernel_launcher.py:3: SettingWithCopyWarning: \n",
      "A value is trying to be set on a copy of a slice from a DataFrame.\n",
      "Try using .loc[row_indexer,col_indexer] = value instead\n",
      "\n",
      "See the caveats in the documentation: https://pandas.pydata.org/pandas-docs/stable/user_guide/indexing.html#returning-a-view-versus-a-copy\n",
      "  This is separate from the ipykernel package so we can avoid doing imports until\n",
      "\n",
      "2021-02-05 22:29:53,378 [5752] WARNING  py.warnings:110: [JupyterRequire] /usr/local/lib/python3.7/dist-packages/ipykernel_launcher.py:4: SettingWithCopyWarning: \n",
      "A value is trying to be set on a copy of a slice from a DataFrame.\n",
      "Try using .loc[row_indexer,col_indexer] = value instead\n",
      "\n",
      "See the caveats in the documentation: https://pandas.pydata.org/pandas-docs/stable/user_guide/indexing.html#returning-a-view-versus-a-copy\n",
      "  after removing the cwd from sys.path.\n",
      "\n",
      "2021-02-05 22:29:53,379 [5752] WARNING  py.warnings:110: [JupyterRequire] /usr/local/lib/python3.7/dist-packages/ipykernel_launcher.py:5: SettingWithCopyWarning: \n",
      "A value is trying to be set on a copy of a slice from a DataFrame.\n",
      "Try using .loc[row_indexer,col_indexer] = value instead\n",
      "\n",
      "See the caveats in the documentation: https://pandas.pydata.org/pandas-docs/stable/user_guide/indexing.html#returning-a-view-versus-a-copy\n",
      "  \"\"\"\n",
      "\n"
     ]
    },
    {
     "data": {
      "text/html": [
       "<div>\n",
       "<style scoped>\n",
       "    .dataframe tbody tr th:only-of-type {\n",
       "        vertical-align: middle;\n",
       "    }\n",
       "\n",
       "    .dataframe tbody tr th {\n",
       "        vertical-align: top;\n",
       "    }\n",
       "\n",
       "    .dataframe thead th {\n",
       "        text-align: right;\n",
       "    }\n",
       "</style>\n",
       "<table border=\"1\" class=\"dataframe\">\n",
       "  <thead>\n",
       "    <tr style=\"text-align: right;\">\n",
       "      <th></th>\n",
       "      <th>phase_combined</th>\n",
       "      <th>S/G2M_score_combined</th>\n",
       "      <th>Tissue</th>\n",
       "      <th>assignment</th>\n",
       "      <th>phase</th>\n",
       "      <th>Sample</th>\n",
       "      <th>Cell.labels.P4.sorted</th>\n",
       "    </tr>\n",
       "  </thead>\n",
       "  <tbody>\n",
       "    <tr>\n",
       "      <th>AAACGAACACTGGATT-1-0</th>\n",
       "      <td>G2M/S</td>\n",
       "      <td>0.181827</td>\n",
       "      <td>FBM</td>\n",
       "      <td>F</td>\n",
       "      <td>G2M</td>\n",
       "      <td>SIGAF3</td>\n",
       "      <td>Undetermined</td>\n",
       "    </tr>\n",
       "    <tr>\n",
       "      <th>AAACGAAGTCCATAGT-1-0</th>\n",
       "      <td>G2M/S</td>\n",
       "      <td>-0.059521</td>\n",
       "      <td>FBM</td>\n",
       "      <td>F</td>\n",
       "      <td>S</td>\n",
       "      <td>SIGAF3</td>\n",
       "      <td>LyP I (CLP)</td>\n",
       "    </tr>\n",
       "    <tr>\n",
       "      <th>AAACGCTGTTATGTGC-1-0</th>\n",
       "      <td>G1</td>\n",
       "      <td>-0.028844</td>\n",
       "      <td>FBM</td>\n",
       "      <td>F</td>\n",
       "      <td>G1</td>\n",
       "      <td>SIGAF3</td>\n",
       "      <td>LyP II (pro-B)</td>\n",
       "    </tr>\n",
       "    <tr>\n",
       "      <th>AAACGCTTCATACAGC-1-0</th>\n",
       "      <td>G1</td>\n",
       "      <td>-0.021353</td>\n",
       "      <td>FBM</td>\n",
       "      <td>F</td>\n",
       "      <td>G1</td>\n",
       "      <td>SIGAF3</td>\n",
       "      <td>LyP I (CLP)</td>\n",
       "    </tr>\n",
       "    <tr>\n",
       "      <th>AACAACCTCCTGCTAC-1-0</th>\n",
       "      <td>G2M/S</td>\n",
       "      <td>0.004942</td>\n",
       "      <td>FBM</td>\n",
       "      <td>F</td>\n",
       "      <td>S</td>\n",
       "      <td>SIGAF3</td>\n",
       "      <td>LyP II (pro-B)</td>\n",
       "    </tr>\n",
       "    <tr>\n",
       "      <th>...</th>\n",
       "      <td>...</td>\n",
       "      <td>...</td>\n",
       "      <td>...</td>\n",
       "      <td>...</td>\n",
       "      <td>...</td>\n",
       "      <td>...</td>\n",
       "      <td>...</td>\n",
       "    </tr>\n",
       "    <tr>\n",
       "      <th>TTTGATCAGGTTCACT-1-6</th>\n",
       "      <td>G1</td>\n",
       "      <td>-0.082312</td>\n",
       "      <td>FL</td>\n",
       "      <td>A</td>\n",
       "      <td>G1</td>\n",
       "      <td>SIGAC5</td>\n",
       "      <td>HSC/MPP II</td>\n",
       "    </tr>\n",
       "    <tr>\n",
       "      <th>TTTGGTTCAACACTAC-1-6</th>\n",
       "      <td>G2M/S</td>\n",
       "      <td>0.038933</td>\n",
       "      <td>FL</td>\n",
       "      <td>A</td>\n",
       "      <td>G2M</td>\n",
       "      <td>SIGAC5</td>\n",
       "      <td>LyP II (pro-B)</td>\n",
       "    </tr>\n",
       "    <tr>\n",
       "      <th>TTTGGTTCACCCTAGG-1-6</th>\n",
       "      <td>G2M/S</td>\n",
       "      <td>0.112441</td>\n",
       "      <td>FL</td>\n",
       "      <td>A</td>\n",
       "      <td>G2M</td>\n",
       "      <td>SIGAC5</td>\n",
       "      <td>Early LyP</td>\n",
       "    </tr>\n",
       "    <tr>\n",
       "      <th>TTTGGTTGTCCCGGTA-1-6</th>\n",
       "      <td>G1</td>\n",
       "      <td>-0.063144</td>\n",
       "      <td>FL</td>\n",
       "      <td>A</td>\n",
       "      <td>G1</td>\n",
       "      <td>SIGAC5</td>\n",
       "      <td>HSC/MPP II</td>\n",
       "    </tr>\n",
       "    <tr>\n",
       "      <th>TTTGTTGTCGGAGATG-1-6</th>\n",
       "      <td>G2M/S</td>\n",
       "      <td>0.098141</td>\n",
       "      <td>FL</td>\n",
       "      <td>A</td>\n",
       "      <td>S</td>\n",
       "      <td>SIGAC5</td>\n",
       "      <td>Late EryP II (Erythroblast)</td>\n",
       "    </tr>\n",
       "  </tbody>\n",
       "</table>\n",
       "<p>35273 rows × 7 columns</p>\n",
       "</div>"
      ],
      "text/plain": [
       "                     phase_combined  S/G2M_score_combined Tissue assignment  \\\n",
       "AAACGAACACTGGATT-1-0          G2M/S              0.181827    FBM          F   \n",
       "AAACGAAGTCCATAGT-1-0          G2M/S             -0.059521    FBM          F   \n",
       "AAACGCTGTTATGTGC-1-0             G1             -0.028844    FBM          F   \n",
       "AAACGCTTCATACAGC-1-0             G1             -0.021353    FBM          F   \n",
       "AACAACCTCCTGCTAC-1-0          G2M/S              0.004942    FBM          F   \n",
       "...                             ...                   ...    ...        ...   \n",
       "TTTGATCAGGTTCACT-1-6             G1             -0.082312     FL          A   \n",
       "TTTGGTTCAACACTAC-1-6          G2M/S              0.038933     FL          A   \n",
       "TTTGGTTCACCCTAGG-1-6          G2M/S              0.112441     FL          A   \n",
       "TTTGGTTGTCCCGGTA-1-6             G1             -0.063144     FL          A   \n",
       "TTTGTTGTCGGAGATG-1-6          G2M/S              0.098141     FL          A   \n",
       "\n",
       "                     phase  Sample        Cell.labels.P4.sorted  \n",
       "AAACGAACACTGGATT-1-0   G2M  SIGAF3                 Undetermined  \n",
       "AAACGAAGTCCATAGT-1-0     S  SIGAF3                  LyP I (CLP)  \n",
       "AAACGCTGTTATGTGC-1-0    G1  SIGAF3               LyP II (pro-B)  \n",
       "AAACGCTTCATACAGC-1-0    G1  SIGAF3                  LyP I (CLP)  \n",
       "AACAACCTCCTGCTAC-1-0     S  SIGAF3               LyP II (pro-B)  \n",
       "...                    ...     ...                          ...  \n",
       "TTTGATCAGGTTCACT-1-6    G1  SIGAC5                   HSC/MPP II  \n",
       "TTTGGTTCAACACTAC-1-6   G2M  SIGAC5               LyP II (pro-B)  \n",
       "TTTGGTTCACCCTAGG-1-6   G2M  SIGAC5                    Early LyP  \n",
       "TTTGGTTGTCCCGGTA-1-6    G1  SIGAC5                   HSC/MPP II  \n",
       "TTTGTTGTCGGAGATG-1-6     S  SIGAC5  Late EryP II (Erythroblast)  \n",
       "\n",
       "[35273 rows x 7 columns]"
      ]
     },
     "execution_count": 14,
     "metadata": {},
     "output_type": "execute_result"
    }
   ],
   "source": [
    "useful_metadata = enrichment_scores_df\n",
    "useful_metadata[\"assignment\"] = meta[\"assignment\"]\n",
    "useful_metadata[\"phase\"] = meta[\"phase\"]\n",
    "useful_metadata[\"Sample\"] = meta[\"Sample\"]\n",
    "useful_metadata[\"Cell.labels.P4.sorted\"] = meta[\"Cell.labels.P4.sorted\"]\n",
    "useful_metadata"
   ]
  },
  {
   "cell_type": "code",
   "execution_count": 15,
   "metadata": {},
   "outputs": [],
   "source": [
    "enrichment_scores_df.to_csv(\"05022021_mq224_ccscores_FL-FBM-CB_metadata.csv\")"
   ]
  },
  {
   "cell_type": "markdown",
   "metadata": {},
   "source": [
    "#Piece of code to run in R to reproduce the heatmap\n",
    "\n",
    "library(ggplot2)\n",
    "library(data.table)\n",
    "library(RColorBrewer)\n",
    "data = fread('./05022021_mq224_ccscores_FL-FBM-CB_metadata.csv')\n",
    "\n",
    "colnames(data) = c('cellid', 'phase_comb', 'SG2Mscore', 'Tissue', 'assignment', 'phase', 'Sample', 'Cell.labels.P4.sorted')\n",
    "\n",
    "dataS = data[,.(count = .N, meanscore = mean(SG2Mscore)), by = .(Cell.labels.P4.sorted, Tissue)]\n",
    "dataSNA = dataS[count < 20, meanscore := NA]\n",
    "\n",
    "level_order <- c(\"HSC/MPP I\",\"HSC/MPP II\",\"HSC/MPP III\",\"HSC/MPP IV\",\"MEP\",\"MEP/MkP\",\"EryP I\",\n",
    "                 \"EryP II\",\"EryP III\", \"EryP IV\", \"Late EryP I (Pro-erythroblast)\",\"Late EryP II (Erythroblast)\",\"EoBasoMC\", \"MyP\", \"Early LyP\",\"LyP I (CLP)\", \"LyP II (pro-B)\",\n",
    "                 \"LyP III (pro-B)\", \"LyP IV (pre-B)\",\"DC progenitor I\",\"DC progenitor II\", \"Undetermined\")\n",
    "g = ggplot(dataSNA, aes(x=factor(Cell.labels.P4.sorted, level = level_order), y= Tissue, fill= meanscore)) + \n",
    "  geom_tile() + scale_fill_distiller(palette = \"RdYlBu\",na.value=\"#C0C0C0\") + \n",
    "  theme_classic() + \n",
    "  theme(axis.line=element_blank(), axis.text.x = element_text(angle = 45, vjust = 1, hjust=1)) +\n",
    "  scale_y_discrete(expand=c(0,0)) +\n",
    "  scale_x_discrete(expand=c(0,0))\n",
    "\n",
    "ggsave('050221_mq224_FL-FBM-CB-G2M_meanscore_withNAs.pdf', g+xlab(\"Cell types\"), height = 4)\n"
   ]
  }
 ],
 "metadata": {
  "kernelspec": {
   "display_name": "Python 3",
   "language": "python",
   "name": "python3"
  },
  "language_info": {
   "codemirror_mode": {
    "name": "ipython",
    "version": 3
   },
   "file_extension": ".py",
   "mimetype": "text/x-python",
   "name": "python",
   "nbconvert_exporter": "python",
   "pygments_lexer": "ipython3",
   "version": "3.7.5rc1"
  }
 },
 "nbformat": 4,
 "nbformat_minor": 4
}
