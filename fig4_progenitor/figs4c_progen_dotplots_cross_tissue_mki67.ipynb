{
 "cells": [
  {
   "cell_type": "markdown",
   "metadata": {},
   "source": [
    "# Import packages and data "
   ]
  },
  {
   "cell_type": "code",
   "execution_count": 1,
   "metadata": {},
   "outputs": [
    {
     "name": "stderr",
     "output_type": "stream",
     "text": [
      "/Users/b8058304/.pyenv/versions/3.6.4/envs/py36/lib/python3.6/site-packages/anndata/_core/anndata.py:21: FutureWarning: pandas.core.index is deprecated and will be removed in a future version.  The public classes are available in the top-level namespace.\n",
      "  from pandas.core.index import RangeIndex\n"
     ]
    }
   ],
   "source": [
    "import numpy as np\n",
    "import pandas as pd\n",
    "import scanpy as sc\n",
    "import seaborn as sns\n",
    "import scipy.stats\n",
    "import anndata\n",
    "import matplotlib.pyplot as plt\n",
    "import matplotlib as mpl\n",
    "from matplotlib.axes._axes import _log as matplotlib_axes_logger\n",
    "from scipy import sparse\n",
    "matplotlib_axes_logger.setLevel('ERROR')"
   ]
  },
  {
   "cell_type": "code",
   "execution_count": 2,
   "metadata": {},
   "outputs": [
    {
     "name": "stdout",
     "output_type": "stream",
     "text": [
      "scanpy==1.4.4 anndata==0.7.1 umap==0.3.10 numpy==1.18.1 scipy==1.4.1 pandas==1.0.2 scikit-learn==0.22.2.post1 statsmodels==0.11.1 python-igraph==0.8.0 louvain==0.6.1\n"
     ]
    }
   ],
   "source": [
    "sc.settings.verbosity = 1  # verbosity: errors (0), warnings (1), info (2), hints (3)\n",
    "# Set up the plot config for viewing the annotation clearly.\n",
    "sc.settings.set_figure_params(dpi=120, dpi_save=1000)\n",
    "sc.logging.print_versions()"
   ]
  },
  {
   "cell_type": "markdown",
   "metadata": {},
   "source": [
    "# Import the FBM HSC, MEMP,  GMP, MPP, CMP, ELP "
   ]
  },
  {
   "cell_type": "code",
   "execution_count": 3,
   "metadata": {},
   "outputs": [],
   "source": [
    "adata = sc.read('/Users/b8058304/Documents/PhD_work/Coding/bm_plus_19pcw/data/bm_plus_19pcw_raw_dr_20200414.h5ad')"
   ]
  },
  {
   "cell_type": "code",
   "execution_count": 4,
   "metadata": {
    "scrolled": true
   },
   "outputs": [
    {
     "data": {
      "text/plain": [
       "AnnData object with n_obs × n_vars = 104652 × 33712 \n",
       "    obs: 'cell.labels', 'doublets', 'fetal.ids', 'gender', 'is_doublet', 'is_doublet_poptrim', 'is_doublet_wolock', 'lanes', 'nGene', 'nUMI', 'orig.ident', 'percent.mito', 'processing.type', 'scrublet_cluster_score', 'scrublet_score', 'sequencing.type', 'sort.ids', 'april_cell.labels'\n",
       "    var: 'gene_ids-1', 'feature_types-1'\n",
       "    obsm: 'X_orig_pca', 'X_pca', 'X_umap'"
      ]
     },
     "execution_count": 4,
     "metadata": {},
     "output_type": "execute_result"
    }
   ],
   "source": [
    "adata"
   ]
  },
  {
   "cell_type": "code",
   "execution_count": 5,
   "metadata": {
    "scrolled": false
   },
   "outputs": [
    {
     "data": {
      "text/plain": [
       "cell.labels\n",
       "CD4 T                  327\n",
       "CD8 T                  171\n",
       "CD14 monocyte         8787\n",
       "CD56 bright NK         540\n",
       "CMP                    425\n",
       "                      ... \n",
       "schwann cells            9\n",
       "sinusoidal EC          550\n",
       "stromal macrophage    1493\n",
       "tDC                    193\n",
       "tip EC                 363\n",
       "Length: 64, dtype: int64"
      ]
     },
     "execution_count": 5,
     "metadata": {},
     "output_type": "execute_result"
    }
   ],
   "source": [
    "cell_numbers = adata.obs.groupby([\"cell.labels\"]).apply(len)\n",
    "cell_numbers"
   ]
  },
  {
   "cell_type": "code",
   "execution_count": 6,
   "metadata": {},
   "outputs": [],
   "source": [
    "from scipy import sparse\n",
    "array_vals = adata.X\n",
    "adata.X = sparse.csr_matrix(adata.X)\n",
    "adata.raw = adata\n",
    "adata.X = array_vals"
   ]
  },
  {
   "cell_type": "code",
   "execution_count": 7,
   "metadata": {},
   "outputs": [],
   "source": [
    "adata = adata[adata.obs['cell.labels'].isin(['HSC', 'MEMP', 'GMP', 'MPP lymphoid', 'MPP myeloid 1', \n",
    "                                             'MPP myeloid 2', 'CMP', 'ELP'])].copy()"
   ]
  },
  {
   "cell_type": "code",
   "execution_count": 8,
   "metadata": {},
   "outputs": [
    {
     "data": {
      "text/plain": [
       "cell.labels\n",
       "CMP               425\n",
       "ELP              1358\n",
       "GMP              1285\n",
       "HSC                92\n",
       "MEMP               16\n",
       "MPP lymphoid       34\n",
       "MPP myeloid 1      46\n",
       "MPP myeloid 2      46\n",
       "dtype: int64"
      ]
     },
     "execution_count": 8,
     "metadata": {},
     "output_type": "execute_result"
    }
   ],
   "source": [
    "cell_numbers = adata.obs.groupby([\"cell.labels\"]).apply(len)\n",
    "cell_numbers"
   ]
  },
  {
   "cell_type": "code",
   "execution_count": 9,
   "metadata": {},
   "outputs": [],
   "source": [
    "adata.obs[\"dataset\"] = \"FBM\""
   ]
  },
  {
   "cell_type": "code",
   "execution_count": 10,
   "metadata": {},
   "outputs": [],
   "source": [
    "fbm = adata"
   ]
  },
  {
   "cell_type": "markdown",
   "metadata": {},
   "source": [
    "# Import the fetal liver HSC, MEMP,  GMP, MPP, CMP, ELP "
   ]
  },
  {
   "cell_type": "code",
   "execution_count": 11,
   "metadata": {},
   "outputs": [],
   "source": [
    "adata = sc.read('/Users/b8058304/Documents/PhD_work/Coding/liver/data/fetal_liver_alladata_Copy1.h5ad')"
   ]
  },
  {
   "cell_type": "code",
   "execution_count": 12,
   "metadata": {
    "scrolled": true
   },
   "outputs": [
    {
     "data": {
      "text/plain": [
       "AnnData object with n_obs × n_vars = 113063 × 27080 \n",
       "    obs: 'nGene', 'nUMI', 'orig.ident', 'percent.mito', 'fetal.ids', 'sort.ids', 'tissue', 'lanes', 'stages', 'sample.type', 'gender', 'AnnatomicalPart', 'doublets', 'cell.labels', 'combined.labels', 'batch', 'sample', 'n_counts', 'cell.labels_progen'\n",
       "    obsm: 'X_fdg', 'X_tsne', 'X_umap'"
      ]
     },
     "execution_count": 12,
     "metadata": {},
     "output_type": "execute_result"
    }
   ],
   "source": [
    "adata"
   ]
  },
  {
   "cell_type": "code",
   "execution_count": 13,
   "metadata": {
    "scrolled": false
   },
   "outputs": [
    {
     "data": {
      "text/plain": [
       "cell.labels\n",
       "B cell                            1079\n",
       "DC1                                336\n",
       "DC2                               3954\n",
       "DC precursor                       330\n",
       "Early Erythroid                  11985\n",
       "Early lymphoid_T lymphocyte        767\n",
       "Endothelial cell                  3348\n",
       "Fibroblast                        1713\n",
       "HSC_MPP                           3439\n",
       "Hepatocyte                        2479\n",
       "ILC precursor                     1726\n",
       "Kupffer Cell                     24841\n",
       "Late Erythroid                    3180\n",
       "MEMP                              1342\n",
       "Mast cell                         1308\n",
       "Megakaryocyte                     3983\n",
       "Mid Erythroid                    27000\n",
       "Mono-Mac                          6590\n",
       "Monocyte                          2586\n",
       "Monocyte precursor                 350\n",
       "NK                                6706\n",
       "Neutrophil-myeloid progenitor      658\n",
       "Pre pro B cell                     234\n",
       "VCAM1+ EI macrophage               161\n",
       "pDC precursor                      253\n",
       "pre-B cell                        1332\n",
       "pro-B cell                        1383\n",
       "dtype: int64"
      ]
     },
     "execution_count": 13,
     "metadata": {},
     "output_type": "execute_result"
    }
   ],
   "source": [
    "cell_numbers = adata.obs.groupby([\"cell.labels\"]).apply(len)\n",
    "cell_numbers"
   ]
  },
  {
   "cell_type": "code",
   "execution_count": 14,
   "metadata": {},
   "outputs": [],
   "source": [
    "from scipy import sparse\n",
    "array_vals = adata.X\n",
    "adata.X = sparse.csr_matrix(adata.X)\n",
    "adata.raw = adata\n",
    "adata.X = array_vals"
   ]
  },
  {
   "cell_type": "code",
   "execution_count": 15,
   "metadata": {},
   "outputs": [
    {
     "data": {
      "text/plain": [
       "cell.labels_progen\n",
       "ELP                        525\n",
       "GMP                        362\n",
       "HSC                        242\n",
       "MEMP                       505\n",
       "MEP                        639\n",
       "MPP                       2012\n",
       "early MK                    81\n",
       "early erythroid            333\n",
       "eo/baso/mast precursor      86\n",
       "erythroid-MPP hybrid        14\n",
       "macrophage                  81\n",
       "myeloid DC progenitor       94\n",
       "pDC progenitor              41\n",
       "dtype: int64"
      ]
     },
     "execution_count": 15,
     "metadata": {},
     "output_type": "execute_result"
    }
   ],
   "source": [
    "cell_numbers = adata.obs.groupby([\"cell.labels_progen\"]).apply(len)\n",
    "cell_numbers"
   ]
  },
  {
   "cell_type": "code",
   "execution_count": 16,
   "metadata": {},
   "outputs": [],
   "source": [
    "adata = adata[adata.obs['cell.labels_progen'].isin(['HSC', 'MEMP', 'GMP', 'MPP', 'ELP', 'early erythroid'])].copy()"
   ]
  },
  {
   "cell_type": "code",
   "execution_count": 17,
   "metadata": {},
   "outputs": [
    {
     "data": {
      "text/plain": [
       "cell.labels_progen\n",
       "ELP                 525\n",
       "GMP                 362\n",
       "HSC                 242\n",
       "MEMP                505\n",
       "MPP                2012\n",
       "early erythroid     333\n",
       "dtype: int64"
      ]
     },
     "execution_count": 17,
     "metadata": {},
     "output_type": "execute_result"
    }
   ],
   "source": [
    "cell_numbers = adata.obs.groupby([\"cell.labels_progen\"]).apply(len)\n",
    "cell_numbers"
   ]
  },
  {
   "cell_type": "code",
   "execution_count": 18,
   "metadata": {},
   "outputs": [],
   "source": [
    "adata.obs[\"dataset\"] = \"liver\"\n",
    "adata.obs['cell.labels'] = adata.obs['cell.labels_progen']"
   ]
  },
  {
   "cell_type": "code",
   "execution_count": 19,
   "metadata": {},
   "outputs": [],
   "source": [
    "liver = adata"
   ]
  },
  {
   "cell_type": "markdown",
   "metadata": {},
   "source": [
    "# Import the fetal YS HSC, MEMP,  GMP, MPP, CMP, ELP "
   ]
  },
  {
   "cell_type": "code",
   "execution_count": 20,
   "metadata": {},
   "outputs": [],
   "source": [
    "adata = sc.read('/Users/b8058304/Documents/PhD_work/Coding/liver/data/ys_total_annotation_20191127.h5ad')"
   ]
  },
  {
   "cell_type": "code",
   "execution_count": 21,
   "metadata": {
    "scrolled": true
   },
   "outputs": [
    {
     "data": {
      "text/plain": [
       "AnnData object with n_obs × n_vars = 10071 × 32084 \n",
       "    obs: 'nGene', 'nUMI', 'orig.ident', 'percent.mito', 'cell.labels', 'fetal.ids', 'sort.ids', 'tissue', 'lanes', 'stages', 'sample.type', 'gender', 'AnnatomicalPart', 'doublets', 'LouvainClustering', 'predicted.cell.labels', 'full.ids', 'batch', 'bh_pval', 'sample', 'scrublet_cluster_score', 'scrublet_score', 'n_counts', 'louvain', 'is_doublet', 'is_doublet_poptrim', 'res.30', 'backlabeled_1', 'cell.labels_progen'"
      ]
     },
     "execution_count": 21,
     "metadata": {},
     "output_type": "execute_result"
    }
   ],
   "source": [
    "adata"
   ]
  },
  {
   "cell_type": "code",
   "execution_count": 22,
   "metadata": {
    "scrolled": false
   },
   "outputs": [
    {
     "data": {
      "text/plain": [
       "cell.labels_progen\n",
       "CMP                    55\n",
       "ELP                   174\n",
       "GMP                    40\n",
       "HSC                   105\n",
       "MEMP                   55\n",
       "MEP                    56\n",
       "Monocyte precursor     26\n",
       "macrophage             42\n",
       "neut myeloid           18\n",
       "dtype: int64"
      ]
     },
     "execution_count": 22,
     "metadata": {},
     "output_type": "execute_result"
    }
   ],
   "source": [
    "cell_numbers = adata.obs.groupby([\"cell.labels_progen\"]).apply(len)\n",
    "cell_numbers"
   ]
  },
  {
   "cell_type": "code",
   "execution_count": 23,
   "metadata": {},
   "outputs": [],
   "source": [
    "from scipy import sparse\n",
    "array_vals = adata.X\n",
    "adata.X = sparse.csr_matrix(adata.X)\n",
    "adata.raw = adata\n",
    "adata.X = array_vals"
   ]
  },
  {
   "cell_type": "code",
   "execution_count": 24,
   "metadata": {},
   "outputs": [],
   "source": [
    "adata = adata[adata.obs['cell.labels_progen'].isin(['HSC', 'neut myeloid', 'MEMP', 'GMP', 'CMP', 'ELP'])].copy()"
   ]
  },
  {
   "cell_type": "code",
   "execution_count": 25,
   "metadata": {},
   "outputs": [
    {
     "data": {
      "text/plain": [
       "cell.labels_progen\n",
       "CMP              55\n",
       "ELP             174\n",
       "GMP              40\n",
       "HSC             105\n",
       "MEMP             55\n",
       "neut myeloid     18\n",
       "dtype: int64"
      ]
     },
     "execution_count": 25,
     "metadata": {},
     "output_type": "execute_result"
    }
   ],
   "source": [
    "cell_numbers = adata.obs.groupby([\"cell.labels_progen\"]).apply(len)\n",
    "cell_numbers"
   ]
  },
  {
   "cell_type": "code",
   "execution_count": 26,
   "metadata": {},
   "outputs": [],
   "source": [
    "adata.obs[\"dataset\"] = \"ys\"\n",
    "adata.obs['cell.labels'] = adata.obs['cell.labels_progen']"
   ]
  },
  {
   "cell_type": "code",
   "execution_count": 27,
   "metadata": {},
   "outputs": [],
   "source": [
    "ys = adata"
   ]
  },
  {
   "cell_type": "markdown",
   "metadata": {},
   "source": [
    "# Import the ABM HSC, MEMP,  GMP, MPP, CMP, ELP "
   ]
  },
  {
   "cell_type": "code",
   "execution_count": 28,
   "metadata": {},
   "outputs": [],
   "source": [
    "adata = sc.read('/Users/b8058304/Documents/PhD_work/Coding/adult_bm/data/adult_bm_raw_dr_20200311.h5ad')"
   ]
  },
  {
   "cell_type": "code",
   "execution_count": 29,
   "metadata": {
    "scrolled": true
   },
   "outputs": [
    {
     "data": {
      "text/plain": [
       "AnnData object with n_obs × n_vars = 142026 × 33694 \n",
       "    obs: 'sample', 'lanes', 'sex', 'age', 'ethnicity', 'mad_prd', 'auto_prd', 'cell.labels', 'cell.labels2', 'leiden', 'percent.mito', 'nGene', 'nUMI'\n",
       "    var: 'gene_ids'\n",
       "    obsm: 'X_orig_pca', 'X_pca', 'X_umap'"
      ]
     },
     "execution_count": 29,
     "metadata": {},
     "output_type": "execute_result"
    }
   ],
   "source": [
    "adata"
   ]
  },
  {
   "cell_type": "code",
   "execution_count": 30,
   "metadata": {
    "scrolled": false
   },
   "outputs": [
    {
     "data": {
      "text/plain": [
       "cell.labels\n",
       "CD14 monocyte                   3094\n",
       "CD16 monocyte                   1938\n",
       "CD56 bright NK                  1228\n",
       "CMP                              882\n",
       "DC1                              135\n",
       "DC2                              481\n",
       "DC3                              550\n",
       "EI macrophage                     77\n",
       "ELP-B cell                        80\n",
       "ELP-pDC                           63\n",
       "GMP                              398\n",
       "HSC                              862\n",
       "MEMP                             505\n",
       "MK                               577\n",
       "MK progenitor                    280\n",
       "MSC                              161\n",
       "Pre B cell                       971\n",
       "T reg                           6327\n",
       "early MK                         136\n",
       "early erythroid                 5441\n",
       "immature B cell                 2728\n",
       "interferon induced monocyte      576\n",
       "late erythroid                  1150\n",
       "mature CD8 T cell              15725\n",
       "mature NK                       6074\n",
       "memory B cell                   4106\n",
       "memory CD4 T cell              22197\n",
       "mid erythroid                   2192\n",
       "monocyte precursor              2461\n",
       "monocyte-DC                      515\n",
       "myelocyte                       6675\n",
       "naive B cell                   19265\n",
       "naive CD4 T cell                5873\n",
       "naive CD8 T cell                8965\n",
       "neut myeloid                    1440\n",
       "neutrophil                      2482\n",
       "pDC                             1134\n",
       "plasma cell                     2074\n",
       "pre DC                           462\n",
       "pre monocyte                    4987\n",
       "pro B progenitor                1390\n",
       "promyelocyte                    2197\n",
       "transitional B cell             2151\n",
       "transitional DC                   75\n",
       "transitional NK                  946\n",
       "dtype: int64"
      ]
     },
     "execution_count": 30,
     "metadata": {},
     "output_type": "execute_result"
    }
   ],
   "source": [
    "cell_numbers = adata.obs.groupby([\"cell.labels\"]).apply(len)\n",
    "cell_numbers"
   ]
  },
  {
   "cell_type": "code",
   "execution_count": 31,
   "metadata": {},
   "outputs": [],
   "source": [
    "from scipy import sparse\n",
    "array_vals = adata.X\n",
    "adata.X = sparse.csr_matrix(adata.X)\n",
    "adata.raw = adata\n",
    "adata.X = array_vals"
   ]
  },
  {
   "cell_type": "code",
   "execution_count": 32,
   "metadata": {},
   "outputs": [],
   "source": [
    "adata = adata[adata.obs['cell.labels'].isin(['HSC', 'transitional DC ', 'MEMP', 'GMP', 'CMP', 'ELP-B cell', 'ELP-pDC'])].copy()"
   ]
  },
  {
   "cell_type": "code",
   "execution_count": 33,
   "metadata": {},
   "outputs": [
    {
     "data": {
      "text/plain": [
       "cell.labels\n",
       "CMP                 882\n",
       "ELP-B cell           80\n",
       "ELP-pDC              63\n",
       "GMP                 398\n",
       "HSC                 862\n",
       "MEMP                505\n",
       "transitional DC      75\n",
       "dtype: int64"
      ]
     },
     "execution_count": 33,
     "metadata": {},
     "output_type": "execute_result"
    }
   ],
   "source": [
    "cell_numbers = adata.obs.groupby([\"cell.labels\"]).apply(len)\n",
    "cell_numbers"
   ]
  },
  {
   "cell_type": "code",
   "execution_count": 34,
   "metadata": {},
   "outputs": [],
   "source": [
    "adata.obs[\"dataset\"] = \"ABM\""
   ]
  },
  {
   "cell_type": "code",
   "execution_count": 35,
   "metadata": {},
   "outputs": [],
   "source": [
    "abm = adata"
   ]
  },
  {
   "cell_type": "markdown",
   "metadata": {},
   "source": [
    "# Import the CB HSC, MEMP,  GMP, MPP, CMP, ELP "
   ]
  },
  {
   "cell_type": "code",
   "execution_count": 36,
   "metadata": {},
   "outputs": [],
   "source": [
    "adata = sc.read('/Users/b8058304/Documents/PhD_work/Coding/cord_blood/data/cord_blood_raw_dr_20200311.h5ad')"
   ]
  },
  {
   "cell_type": "code",
   "execution_count": 37,
   "metadata": {
    "scrolled": true
   },
   "outputs": [
    {
     "data": {
      "text/plain": [
       "AnnData object with n_obs × n_vars = 148442 × 33694 \n",
       "    obs: 'sample', 'lanes', 'mad_prd', 'auto_prd', 'cell.labels', 'cell.labels2', 'leiden', 'percent.mito', 'nGene', 'nUMI'\n",
       "    var: 'gene_ids'\n",
       "    obsm: 'X_orig_pca', 'X_pca', 'X_umap'"
      ]
     },
     "execution_count": 37,
     "metadata": {},
     "output_type": "execute_result"
    }
   ],
   "source": [
    "adata"
   ]
  },
  {
   "cell_type": "code",
   "execution_count": 38,
   "metadata": {
    "scrolled": false
   },
   "outputs": [
    {
     "data": {
      "text/plain": [
       "cell.labels\n",
       "CD8 T cell          16345\n",
       "CD14 monocyte       13324\n",
       "CD16 monocyte         888\n",
       "CD56 bright NK       4066\n",
       "CMP                   272\n",
       "DC1                    67\n",
       "DC2                   155\n",
       "DC precursor          169\n",
       "GMP                   203\n",
       "HSC                   194\n",
       "ILC precursor        1519\n",
       "MEMP                  338\n",
       "MK                   1262\n",
       "early MK              496\n",
       "early erythroid       532\n",
       "late erythroid        878\n",
       "mature NK            7860\n",
       "mid erythroid        2627\n",
       "myelocyte            3726\n",
       "naive B cell        19516\n",
       "naive CD4 T cell    69338\n",
       "neutrophil           3458\n",
       "pDC                   242\n",
       "preDC                 269\n",
       "premonocyte           607\n",
       "tDC                    91\n",
       "dtype: int64"
      ]
     },
     "execution_count": 38,
     "metadata": {},
     "output_type": "execute_result"
    }
   ],
   "source": [
    "cell_numbers = adata.obs.groupby([\"cell.labels\"]).apply(len)\n",
    "cell_numbers"
   ]
  },
  {
   "cell_type": "code",
   "execution_count": 39,
   "metadata": {},
   "outputs": [],
   "source": [
    "from scipy import sparse\n",
    "array_vals = adata.X\n",
    "adata.X = sparse.csr_matrix(adata.X)\n",
    "adata.raw = adata\n",
    "adata.X = array_vals"
   ]
  },
  {
   "cell_type": "code",
   "execution_count": 40,
   "metadata": {},
   "outputs": [],
   "source": [
    "adata = adata[adata.obs['cell.labels'].isin(['HSC', 'tDC', 'MEMP', 'GMP', 'CMP', 'mid erythroid'])].copy()"
   ]
  },
  {
   "cell_type": "code",
   "execution_count": 41,
   "metadata": {},
   "outputs": [
    {
     "data": {
      "text/plain": [
       "cell.labels\n",
       "CMP               272\n",
       "GMP               203\n",
       "HSC               194\n",
       "MEMP              338\n",
       "mid erythroid    2627\n",
       "tDC                91\n",
       "dtype: int64"
      ]
     },
     "execution_count": 41,
     "metadata": {},
     "output_type": "execute_result"
    }
   ],
   "source": [
    "cell_numbers = adata.obs.groupby([\"cell.labels\"]).apply(len)\n",
    "cell_numbers"
   ]
  },
  {
   "cell_type": "code",
   "execution_count": 42,
   "metadata": {},
   "outputs": [],
   "source": [
    "adata.obs[\"dataset\"] = \"CB\""
   ]
  },
  {
   "cell_type": "code",
   "execution_count": 43,
   "metadata": {},
   "outputs": [],
   "source": [
    "cb = adata"
   ]
  },
  {
   "cell_type": "code",
   "execution_count": null,
   "metadata": {},
   "outputs": [],
   "source": []
  },
  {
   "cell_type": "code",
   "execution_count": null,
   "metadata": {},
   "outputs": [],
   "source": []
  },
  {
   "cell_type": "code",
   "execution_count": null,
   "metadata": {},
   "outputs": [],
   "source": []
  },
  {
   "cell_type": "code",
   "execution_count": null,
   "metadata": {},
   "outputs": [],
   "source": []
  },
  {
   "cell_type": "markdown",
   "metadata": {},
   "source": [
    "# Combine the datasets"
   ]
  },
  {
   "cell_type": "code",
   "execution_count": 44,
   "metadata": {},
   "outputs": [],
   "source": [
    "from scipy import sparse\n",
    "\n",
    "objects = [ys, liver, fbm, abm, cb]\n",
    "\n",
    "for i in objects:\n",
    "    array_vals = i.X\n",
    "    i.X = sparse.csr_matrix(i.X)\n",
    "    i.raw = i\n",
    "    i.X = array_vals"
   ]
  },
  {
   "cell_type": "code",
   "execution_count": 45,
   "metadata": {},
   "outputs": [],
   "source": [
    "merged = ys.concatenate(liver, fbm, abm, cb, index_unique=None, join='inner')"
   ]
  },
  {
   "cell_type": "code",
   "execution_count": 46,
   "metadata": {},
   "outputs": [
    {
     "data": {
      "text/plain": [
       "(14318, 27061)"
      ]
     },
     "execution_count": 46,
     "metadata": {},
     "output_type": "execute_result"
    }
   ],
   "source": [
    "merged.shape"
   ]
  },
  {
   "cell_type": "code",
   "execution_count": 47,
   "metadata": {},
   "outputs": [
    {
     "data": {
      "text/plain": [
       "cell.labels\n",
       "CMP                 1634\n",
       "ELP                 2057\n",
       "ELP-B cell            80\n",
       "ELP-pDC               63\n",
       "GMP                 2288\n",
       "HSC                 1495\n",
       "MEMP                1419\n",
       "MPP                 2012\n",
       "MPP lymphoid          34\n",
       "MPP myeloid 1         46\n",
       "MPP myeloid 2         46\n",
       "early erythroid      333\n",
       "mid erythroid       2627\n",
       "neut myeloid          18\n",
       "tDC                   91\n",
       "transitional DC       75\n",
       "dtype: int64"
      ]
     },
     "execution_count": 47,
     "metadata": {},
     "output_type": "execute_result"
    }
   ],
   "source": [
    "cell_numbers = merged.obs.groupby([\"cell.labels\"]).apply(len)\n",
    "cell_numbers"
   ]
  },
  {
   "cell_type": "code",
   "execution_count": 48,
   "metadata": {},
   "outputs": [],
   "source": [
    "merged.obs[\"dataset_cell.labels\"] = merged.obs[\"dataset\"].astype(str) + '_' + merged.obs[\"cell.labels\"].astype(str)"
   ]
  },
  {
   "cell_type": "code",
   "execution_count": 49,
   "metadata": {},
   "outputs": [
    {
     "data": {
      "text/plain": [
       "dataset_cell.labels\n",
       "ABM_CMP                   882\n",
       "ABM_ELP-B cell             80\n",
       "ABM_ELP-pDC                63\n",
       "ABM_GMP                   398\n",
       "ABM_HSC                   862\n",
       "ABM_MEMP                  505\n",
       "ABM_transitional DC        75\n",
       "CB_CMP                    272\n",
       "CB_GMP                    203\n",
       "CB_HSC                    194\n",
       "CB_MEMP                   338\n",
       "CB_mid erythroid         2627\n",
       "CB_tDC                     91\n",
       "FBM_CMP                   425\n",
       "FBM_ELP                  1358\n",
       "FBM_GMP                  1285\n",
       "FBM_HSC                    92\n",
       "FBM_MEMP                   16\n",
       "FBM_MPP lymphoid           34\n",
       "FBM_MPP myeloid 1          46\n",
       "FBM_MPP myeloid 2          46\n",
       "liver_ELP                 525\n",
       "liver_GMP                 362\n",
       "liver_HSC                 242\n",
       "liver_MEMP                505\n",
       "liver_MPP                2012\n",
       "liver_early erythroid     333\n",
       "ys_CMP                     55\n",
       "ys_ELP                    174\n",
       "ys_GMP                     40\n",
       "ys_HSC                    105\n",
       "ys_MEMP                    55\n",
       "ys_neut myeloid            18\n",
       "dtype: int64"
      ]
     },
     "execution_count": 49,
     "metadata": {},
     "output_type": "execute_result"
    }
   ],
   "source": [
    "cell_numbers = merged.obs.groupby([\"dataset_cell.labels\"]).apply(len)\n",
    "cell_numbers"
   ]
  },
  {
   "cell_type": "markdown",
   "metadata": {},
   "source": [
    "# Pre-process the data"
   ]
  },
  {
   "cell_type": "code",
   "execution_count": 50,
   "metadata": {},
   "outputs": [],
   "source": [
    "adata=merged"
   ]
  },
  {
   "cell_type": "code",
   "execution_count": 51,
   "metadata": {},
   "outputs": [],
   "source": [
    "# normalise count data \n",
    "sc.pp.normalize_total(adata)"
   ]
  },
  {
   "cell_type": "code",
   "execution_count": 52,
   "metadata": {},
   "outputs": [],
   "source": [
    "# log the count data \n",
    "sc.pp.log1p(adata)"
   ]
  },
  {
   "cell_type": "code",
   "execution_count": 53,
   "metadata": {},
   "outputs": [],
   "source": [
    "# find variable genes\n",
    "sc.pp.highly_variable_genes(adata, min_mean=0.0125, max_mean=3, min_disp=0.5) "
   ]
  },
  {
   "cell_type": "code",
   "execution_count": 54,
   "metadata": {},
   "outputs": [],
   "source": [
    "# scale the data \n",
    "sc.pp.scale(adata, max_value=10)\n",
    "# scale the negative values in adata.X (which have been normalised, logged and scaled) to zero \n",
    "adata.X = np.where(adata.X < 0, 0, adata.X)"
   ]
  },
  {
   "cell_type": "code",
   "execution_count": null,
   "metadata": {},
   "outputs": [],
   "source": []
  },
  {
   "cell_type": "markdown",
   "metadata": {},
   "source": [
    "# Run MKI67 dotplot"
   ]
  },
  {
   "cell_type": "code",
   "execution_count": 55,
   "metadata": {},
   "outputs": [
    {
     "data": {
      "text/plain": [
       "Index(['ABM_CMP', 'ABM_ELP', 'ABM_GMP', 'ABM_HSC', 'ABM_MEMP',\n",
       "       'ABM_transitional DC ', 'CB_CMP', 'CB_GMP', 'CB_HSC', 'CB_MEMP',\n",
       "       'CB_mid erythroid', 'CB_tDC', 'FBM_CMP', 'FBM_ELP', 'FBM_GMP',\n",
       "       'FBM_HSC', 'FBM_MEMP', 'FBM_MPP', 'liver_ELP', 'liver_GMP', 'liver_HSC',\n",
       "       'liver_MEMP', 'liver_MPP', 'liver_early erythroid', 'ys_CMP', 'ys_ELP',\n",
       "       'ys_GMP', 'ys_HSC', 'ys_MEMP', 'ys_neut myeloid'],\n",
       "      dtype='object')"
      ]
     },
     "execution_count": 55,
     "metadata": {},
     "output_type": "execute_result"
    }
   ],
   "source": [
    "adata.obs[\"dataset_cell.labels\"] = adata.obs[\"dataset_cell.labels\"].replace(['FBM_MPP lymphoid', 'FBM_MPP myeloid 1', \n",
    "                                            'FBM_MPP myeloid 2', 'ABM_ELP-B cell', 'ABM_ELP-pDC'], ['FBM_MPP', \n",
    "                                            'FBM_MPP', 'FBM_MPP', 'ABM_ELP', 'ABM_ELP'])\n",
    "\n",
    "adata.obs[\"dataset_cell.labels\"] = adata.obs[\"dataset_cell.labels\"].astype('category')\n",
    "\n",
    "adata.obs[\"dataset_cell.labels\"].cat.categories"
   ]
  },
  {
   "cell_type": "code",
   "execution_count": 56,
   "metadata": {},
   "outputs": [],
   "source": [
    "new_order = ['ys_HSC', 'ys_neut myeloid', 'ys_CMP', 'ys_GMP', 'ys_MEMP', 'ys_ELP', \n",
    "             'liver_HSC', 'liver_MPP', 'liver_early erythroid', 'liver_GMP', 'liver_MEMP', 'liver_ELP',  \n",
    "             'FBM_HSC',  'FBM_MPP', 'FBM_CMP', 'FBM_GMP', 'FBM_MEMP', 'FBM_ELP', \n",
    "             'CB_HSC', 'CB_tDC', 'CB_CMP', 'CB_GMP', 'CB_MEMP', 'CB_mid erythroid', \n",
    "             'ABM_HSC', 'ABM_transitional DC ', 'ABM_CMP', 'ABM_GMP', 'ABM_MEMP', 'ABM_ELP']\n",
    "\n",
    "adata.obs[\"dataset_cell.labels\"] = adata.obs[\"dataset_cell.labels\"].cat.reorder_categories(new_order)"
   ]
  },
  {
   "cell_type": "code",
   "execution_count": 57,
   "metadata": {},
   "outputs": [
    {
     "name": "stderr",
     "output_type": "stream",
     "text": [
      "... storing 'AnnatomicalPart' as categorical\n",
      "... storing 'age' as categorical\n",
      "... storing 'april_cell.labels' as categorical\n",
      "... storing 'auto_prd' as categorical\n",
      "... storing 'backlabeled_1' as categorical\n",
      "... storing 'cell.labels' as categorical\n",
      "... storing 'cell.labels2' as categorical\n",
      "... storing 'cell.labels_progen' as categorical\n",
      "... storing 'combined.labels' as categorical\n",
      "... storing 'dataset' as categorical\n",
      "... storing 'doublets' as categorical\n",
      "... storing 'ethnicity' as categorical\n",
      "... storing 'fetal.ids' as categorical\n",
      "... storing 'full.ids' as categorical\n",
      "... storing 'gender' as categorical\n",
      "... storing 'is_doublet' as categorical\n",
      "... storing 'is_doublet_poptrim' as categorical\n",
      "... storing 'is_doublet_wolock' as categorical\n",
      "... storing 'lanes' as categorical\n",
      "... storing 'leiden' as categorical\n",
      "... storing 'mad_prd' as categorical\n",
      "... storing 'orig.ident' as categorical\n",
      "... storing 'processing.type' as categorical\n",
      "... storing 'sample' as categorical\n",
      "... storing 'sample.type' as categorical\n",
      "... storing 'sequencing.type' as categorical\n",
      "... storing 'sex' as categorical\n",
      "... storing 'sort.ids' as categorical\n",
      "... storing 'stages' as categorical\n",
      "... storing 'tissue' as categorical\n"
     ]
    },
    {
     "name": "stdout",
     "output_type": "stream",
     "text": [
      "WARNING: saving figure to file figures/dotplotfig5c_progen_crosstissue_mki67_dotplot_20200520.pdf\n"
     ]
    },
    {
     "data": {
      "image/png": "[encoded data removed]",
      "text/plain": [
       "<Figure size 156x1200 with 3 Axes>"
      ]
     },
     "metadata": {
      "image/png": {
       "height": 987,
       "width": 429
      },
      "needs_background": "light"
     },
     "output_type": "display_data"
    },
    {
     "data": {
      "text/plain": [
       "GridSpec(2, 5, height_ratios=[0, 10.5], width_ratios=[0.35, 0, 0.2, 0.5, 0.25])"
      ]
     },
     "execution_count": 57,
     "metadata": {},
     "output_type": "execute_result"
    }
   ],
   "source": [
    "sc.settings.set_figure_params(dpi=120, dpi_save=1200)\n",
    "sc.pl.dotplot(adata, var_names=[\"MKI67\"], groupby=\"dataset_cell.labels\",\n",
    "              use_raw=False, save=\"fig5c_progen_crosstissue_mki67_dotplot_20200520.pdf\")"
   ]
  },
  {
   "cell_type": "code",
   "execution_count": null,
   "metadata": {},
   "outputs": [],
   "source": []
  },
  {
   "cell_type": "code",
   "execution_count": null,
   "metadata": {},
   "outputs": [],
   "source": []
  },
  {
   "cell_type": "markdown",
   "metadata": {},
   "source": [
    "# Save the data"
   ]
  },
  {
   "cell_type": "code",
   "execution_count": 58,
   "metadata": {},
   "outputs": [],
   "source": [
    "from scipy.sparse import csr_matrix\n",
    "adata.X = sparse.csr_matrix(adata.X)"
   ]
  },
  {
   "cell_type": "code",
   "execution_count": 59,
   "metadata": {},
   "outputs": [
    {
     "data": {
      "text/plain": [
       "<14318x27061 sparse matrix of type '<class 'numpy.float32'>'\n",
       "\twith 35236911 stored elements in Compressed Sparse Row format>"
      ]
     },
     "execution_count": 59,
     "metadata": {},
     "output_type": "execute_result"
    }
   ],
   "source": [
    "adata.X"
   ]
  },
  {
   "cell_type": "code",
   "execution_count": 60,
   "metadata": {},
   "outputs": [
    {
     "data": {
      "text/plain": [
       "<14318x27061 sparse matrix of type '<class 'numpy.float32'>'\n",
       "\twith 37948291 stored elements in Compressed Sparse Row format>"
      ]
     },
     "execution_count": 60,
     "metadata": {},
     "output_type": "execute_result"
    }
   ],
   "source": [
    "adata.raw.X"
   ]
  },
  {
   "cell_type": "code",
   "execution_count": 61,
   "metadata": {},
   "outputs": [],
   "source": [
    "adata.write(\"/Users/b8058304/Documents/PhD_work/Coding/manuscript_figs/data/fig5c_progen_cross_tissue_20200520.h5ad\")"
   ]
  },
  {
   "cell_type": "code",
   "execution_count": null,
   "metadata": {},
   "outputs": [],
   "source": []
  },
  {
   "cell_type": "code",
   "execution_count": null,
   "metadata": {},
   "outputs": [],
   "source": []
  },
  {
   "cell_type": "code",
   "execution_count": null,
   "metadata": {},
   "outputs": [],
   "source": []
  },
  {
   "cell_type": "code",
   "execution_count": null,
   "metadata": {},
   "outputs": [],
   "source": []
  },
  {
   "cell_type": "code",
   "execution_count": null,
   "metadata": {},
   "outputs": [],
   "source": []
  }
 ],
 "metadata": {
  "kernelspec": {
   "display_name": "Python 3",
   "language": "python",
   "name": "python3"
  },
  "language_info": {
   "codemirror_mode": {
    "name": "ipython",
    "version": 3
   },
   "file_extension": ".py",
   "mimetype": "text/x-python",
   "name": "python",
   "nbconvert_exporter": "python",
   "pygments_lexer": "ipython3",
   "version": "3.6.4"
  }
 },
 "nbformat": 4,
 "nbformat_minor": 2
}
