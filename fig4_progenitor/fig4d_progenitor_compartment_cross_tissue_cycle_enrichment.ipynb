{
 "cells": [
  {
   "cell_type": "markdown",
   "metadata": {},
   "source": [
    "# Import packages and data "
   ]
  },
  {
   "cell_type": "code",
   "execution_count": 1,
   "metadata": {},
   "outputs": [
    {
     "name": "stderr",
     "output_type": "stream",
     "text": [
      "/Users/b8058304/.pyenv/versions/3.6.4/envs/py36/lib/python3.6/site-packages/anndata/_core/anndata.py:21: FutureWarning: pandas.core.index is deprecated and will be removed in a future version.  The public classes are available in the top-level namespace.\n",
      "  from pandas.core.index import RangeIndex\n"
     ]
    }
   ],
   "source": [
    "import numpy as np\n",
    "import pandas as pd\n",
    "import scanpy as sc\n",
    "import seaborn as sns\n",
    "import scipy.stats\n",
    "import anndata\n",
    "import matplotlib.pyplot as plt\n",
    "import matplotlib as mpl\n",
    "from matplotlib.axes._axes import _log as matplotlib_axes_logger\n",
    "from scipy import sparse\n",
    "matplotlib_axes_logger.setLevel('ERROR')"
   ]
  },
  {
   "cell_type": "code",
   "execution_count": 2,
   "metadata": {},
   "outputs": [
    {
     "name": "stdout",
     "output_type": "stream",
     "text": [
      "scanpy==1.4.4 anndata==0.7.1 umap==0.3.10 numpy==1.17.1 scipy==1.4.1 pandas==1.0.5 scikit-learn==0.22.2.post1 statsmodels==0.11.1 python-igraph==0.8.0 louvain==0.6.1\n"
     ]
    }
   ],
   "source": [
    "sc.settings.verbosity = 1  # verbosity: errors (0), warnings (1), info (2), hints (3)\n",
    "# Set up the plot config for viewing the annotation clearly.\n",
    "sc.settings.set_figure_params(dpi=120, dpi_save=1000)\n",
    "sc.logging.print_versions()"
   ]
  },
  {
   "cell_type": "markdown",
   "metadata": {},
   "source": [
    "# Import the fetal YS progenitor compartment"
   ]
  },
  {
   "cell_type": "code",
   "execution_count": 3,
   "metadata": {},
   "outputs": [],
   "source": [
    "adata = sc.read('/Users/b8058304/Documents/PhD_work/Coding/liver/data/ys_total_annotation_20191127.h5ad')"
   ]
  },
  {
   "cell_type": "code",
   "execution_count": 4,
   "metadata": {
    "scrolled": true
   },
   "outputs": [
    {
     "data": {
      "text/plain": [
       "AnnData object with n_obs × n_vars = 10071 × 32084 \n",
       "    obs: 'nGene', 'nUMI', 'orig.ident', 'percent.mito', 'cell.labels', 'fetal.ids', 'sort.ids', 'tissue', 'lanes', 'stages', 'sample.type', 'gender', 'AnnatomicalPart', 'doublets', 'LouvainClustering', 'predicted.cell.labels', 'full.ids', 'batch', 'bh_pval', 'sample', 'scrublet_cluster_score', 'scrublet_score', 'n_counts', 'louvain', 'is_doublet', 'is_doublet_poptrim', 'res.30', 'backlabeled_1', 'cell.labels_progen'"
      ]
     },
     "execution_count": 4,
     "metadata": {},
     "output_type": "execute_result"
    }
   ],
   "source": [
    "adata"
   ]
  },
  {
   "cell_type": "code",
   "execution_count": 5,
   "metadata": {},
   "outputs": [
    {
     "data": {
      "text/plain": [
       "cell.labels\n",
       "DC progenitor                78\n",
       "Early mast cell             133\n",
       "Endothelium                 160\n",
       "Erythroid AB                892\n",
       "Erythroid EZ               1167\n",
       "Erythroid M                 275\n",
       "ILC precursor                25\n",
       "Lymphoid progenitor         184\n",
       "MEMP                        121\n",
       "Monocyte                     38\n",
       "Myeloid progenitor           61\n",
       "NK early                     50\n",
       "yolk sac Macrophage I      3063\n",
       "yolk sac Macrophage II     3619\n",
       "yolk sac progenitor/MPP     205\n",
       "dtype: int64"
      ]
     },
     "execution_count": 5,
     "metadata": {},
     "output_type": "execute_result"
    }
   ],
   "source": [
    "cell_numbers = adata.obs.groupby([\"cell.labels\"]).apply(len)\n",
    "cell_numbers"
   ]
  },
  {
   "cell_type": "code",
   "execution_count": 6,
   "metadata": {
    "scrolled": false
   },
   "outputs": [
    {
     "data": {
      "text/plain": [
       "cell.labels_progen\n",
       "CMP                    55\n",
       "ELP                   174\n",
       "GMP                    40\n",
       "HSC                   105\n",
       "MEMP                   55\n",
       "MEP                    56\n",
       "Monocyte precursor     26\n",
       "macrophage             42\n",
       "neut myeloid           18\n",
       "dtype: int64"
      ]
     },
     "execution_count": 6,
     "metadata": {},
     "output_type": "execute_result"
    }
   ],
   "source": [
    "cell_numbers = adata.obs.groupby([\"cell.labels_progen\"]).apply(len)\n",
    "cell_numbers"
   ]
  },
  {
   "cell_type": "code",
   "execution_count": 7,
   "metadata": {},
   "outputs": [],
   "source": [
    "from scipy import sparse\n",
    "array_vals = adata.X\n",
    "adata.X = sparse.csr_matrix(adata.X)\n",
    "adata.raw = adata\n",
    "adata.X = array_vals"
   ]
  },
  {
   "cell_type": "code",
   "execution_count": 8,
   "metadata": {},
   "outputs": [],
   "source": [
    "adata = adata[adata.obs['cell.labels_progen'].isin(['HSC', 'MEMP', 'GMP', 'CMP', 'ELP', 'MEP'])].copy()"
   ]
  },
  {
   "cell_type": "code",
   "execution_count": 9,
   "metadata": {},
   "outputs": [
    {
     "data": {
      "text/plain": [
       "cell.labels_progen\n",
       "CMP      55\n",
       "ELP     174\n",
       "GMP      40\n",
       "HSC     105\n",
       "MEMP     55\n",
       "MEP      56\n",
       "dtype: int64"
      ]
     },
     "execution_count": 9,
     "metadata": {},
     "output_type": "execute_result"
    }
   ],
   "source": [
    "cell_numbers = adata.obs.groupby([\"cell.labels_progen\"]).apply(len)\n",
    "cell_numbers"
   ]
  },
  {
   "cell_type": "code",
   "execution_count": 10,
   "metadata": {},
   "outputs": [],
   "source": [
    "adata.obs[\"dataset\"] = \"ys\"\n",
    "adata.obs['cell.labels'] = adata.obs['cell.labels_progen']"
   ]
  },
  {
   "cell_type": "code",
   "execution_count": 11,
   "metadata": {},
   "outputs": [],
   "source": [
    "ys = adata"
   ]
  },
  {
   "cell_type": "markdown",
   "metadata": {},
   "source": [
    "# Import the fetal liver progenitor compartment"
   ]
  },
  {
   "cell_type": "code",
   "execution_count": 12,
   "metadata": {},
   "outputs": [],
   "source": [
    "adata = sc.read('/Users/b8058304/Documents/PhD_work/Coding/liver/data/fetal_liver_alladata_Copy1.h5ad')"
   ]
  },
  {
   "cell_type": "code",
   "execution_count": 13,
   "metadata": {
    "scrolled": true
   },
   "outputs": [
    {
     "data": {
      "text/plain": [
       "AnnData object with n_obs × n_vars = 113063 × 27080 \n",
       "    obs: 'nGene', 'nUMI', 'orig.ident', 'percent.mito', 'fetal.ids', 'sort.ids', 'tissue', 'lanes', 'stages', 'sample.type', 'gender', 'AnnatomicalPart', 'doublets', 'cell.labels', 'combined.labels', 'batch', 'sample', 'n_counts', 'cell.labels_progen'\n",
       "    obsm: 'X_fdg', 'X_tsne', 'X_umap'"
      ]
     },
     "execution_count": 13,
     "metadata": {},
     "output_type": "execute_result"
    }
   ],
   "source": [
    "adata"
   ]
  },
  {
   "cell_type": "code",
   "execution_count": 14,
   "metadata": {
    "scrolled": false
   },
   "outputs": [
    {
     "data": {
      "text/plain": [
       "cell.labels\n",
       "B cell                            1079\n",
       "DC1                                336\n",
       "DC2                               3954\n",
       "DC precursor                       330\n",
       "Early Erythroid                  11985\n",
       "Early lymphoid_T lymphocyte        767\n",
       "Endothelial cell                  3348\n",
       "Fibroblast                        1713\n",
       "HSC_MPP                           3439\n",
       "Hepatocyte                        2479\n",
       "ILC precursor                     1726\n",
       "Kupffer Cell                     24841\n",
       "Late Erythroid                    3180\n",
       "MEMP                              1342\n",
       "Mast cell                         1308\n",
       "Megakaryocyte                     3983\n",
       "Mid Erythroid                    27000\n",
       "Mono-Mac                          6590\n",
       "Monocyte                          2586\n",
       "Monocyte precursor                 350\n",
       "NK                                6706\n",
       "Neutrophil-myeloid progenitor      658\n",
       "Pre pro B cell                     234\n",
       "VCAM1+ EI macrophage               161\n",
       "pDC precursor                      253\n",
       "pre-B cell                        1332\n",
       "pro-B cell                        1383\n",
       "dtype: int64"
      ]
     },
     "execution_count": 14,
     "metadata": {},
     "output_type": "execute_result"
    }
   ],
   "source": [
    "cell_numbers = adata.obs.groupby([\"cell.labels\"]).apply(len)\n",
    "cell_numbers"
   ]
  },
  {
   "cell_type": "code",
   "execution_count": 15,
   "metadata": {},
   "outputs": [],
   "source": [
    "from scipy import sparse\n",
    "array_vals = adata.X\n",
    "adata.X = sparse.csr_matrix(adata.X)\n",
    "adata.raw = adata\n",
    "adata.X = array_vals"
   ]
  },
  {
   "cell_type": "code",
   "execution_count": 16,
   "metadata": {},
   "outputs": [
    {
     "data": {
      "text/plain": [
       "cell.labels_progen\n",
       "ELP                        525\n",
       "GMP                        362\n",
       "HSC                        242\n",
       "MEMP                       505\n",
       "MEP                        639\n",
       "MPP                       2012\n",
       "early MK                    81\n",
       "early erythroid            333\n",
       "eo/baso/mast precursor      86\n",
       "erythroid-MPP hybrid        14\n",
       "macrophage                  81\n",
       "myeloid DC progenitor       94\n",
       "pDC progenitor              41\n",
       "dtype: int64"
      ]
     },
     "execution_count": 16,
     "metadata": {},
     "output_type": "execute_result"
    }
   ],
   "source": [
    "cell_numbers = adata.obs.groupby([\"cell.labels_progen\"]).apply(len)\n",
    "cell_numbers"
   ]
  },
  {
   "cell_type": "code",
   "execution_count": 17,
   "metadata": {},
   "outputs": [],
   "source": [
    "adata = adata[adata.obs['cell.labels_progen'].isin(['HSC', 'MEMP', 'GMP', 'ELP', 'MPP', 'MEP', \n",
    "                                                    'eo/baso/mast precursor', 'myeloid DC progenitor', \n",
    "                                                   'pDC progenitor'])].copy()"
   ]
  },
  {
   "cell_type": "code",
   "execution_count": 18,
   "metadata": {},
   "outputs": [
    {
     "data": {
      "text/plain": [
       "cell.labels_progen\n",
       "ELP                        525\n",
       "GMP                        362\n",
       "HSC                        242\n",
       "MEMP                       505\n",
       "MEP                        639\n",
       "MPP                       2012\n",
       "eo/baso/mast precursor      86\n",
       "myeloid DC progenitor       94\n",
       "pDC progenitor              41\n",
       "dtype: int64"
      ]
     },
     "execution_count": 18,
     "metadata": {},
     "output_type": "execute_result"
    }
   ],
   "source": [
    "cell_numbers = adata.obs.groupby([\"cell.labels_progen\"]).apply(len)\n",
    "cell_numbers"
   ]
  },
  {
   "cell_type": "code",
   "execution_count": 19,
   "metadata": {},
   "outputs": [],
   "source": [
    "adata.obs[\"dataset\"] = \"liver\"\n",
    "adata.obs['cell.labels'] = adata.obs['cell.labels_progen']"
   ]
  },
  {
   "cell_type": "code",
   "execution_count": 20,
   "metadata": {},
   "outputs": [],
   "source": [
    "liver = adata"
   ]
  },
  {
   "cell_type": "markdown",
   "metadata": {},
   "source": [
    "# Import the FBM progenitor compartment"
   ]
  },
  {
   "cell_type": "code",
   "execution_count": 21,
   "metadata": {},
   "outputs": [],
   "source": [
    "adata = sc.read('/Users/b8058304/Documents/PhD_work/Coding/bm_plus_19pcw/data/bm_plus_19pcw_raw_dr_20200718.h5ad')"
   ]
  },
  {
   "cell_type": "code",
   "execution_count": 22,
   "metadata": {
    "scrolled": true
   },
   "outputs": [
    {
     "data": {
      "text/plain": [
       "AnnData object with n_obs × n_vars = 104562 × 33712 \n",
       "    obs: 'cell.labels', 'doublets', 'fetal.ids', 'gender', 'is_doublet', 'is_doublet_poptrim', 'is_doublet_wolock', 'lanes', 'nGene', 'nUMI', 'orig.ident', 'percent.mito', 'processing.type', 'scrublet_cluster_score', 'scrublet_score', 'sequencing.type', 'sort.ids', 'april_cell.labels', 'cell.labels_20200708', 'cell.labels_20200713', 'cell.labels_20200718', 'nk_meta'\n",
       "    var: 'gene_ids-1', 'feature_types-1'\n",
       "    obsm: 'X_orig_pca', 'X_pca', 'X_umap'"
      ]
     },
     "execution_count": 22,
     "metadata": {},
     "output_type": "execute_result"
    }
   ],
   "source": [
    "adata"
   ]
  },
  {
   "cell_type": "code",
   "execution_count": 23,
   "metadata": {
    "scrolled": false
   },
   "outputs": [
    {
     "data": {
      "text/plain": [
       "cell.labels\n",
       "CD4 T cell             327\n",
       "CD8 T cell             171\n",
       "CD14 monocyte         8787\n",
       "CD56 bright NK         450\n",
       "CMP                    425\n",
       "                      ... \n",
       "schwann cells            9\n",
       "sinusoidal EC          550\n",
       "stromal macrophage    1493\n",
       "tDC                    193\n",
       "tip EC                 363\n",
       "Length: 64, dtype: int64"
      ]
     },
     "execution_count": 23,
     "metadata": {},
     "output_type": "execute_result"
    }
   ],
   "source": [
    "cell_numbers = adata.obs.groupby([\"cell.labels\"]).apply(len)\n",
    "cell_numbers"
   ]
  },
  {
   "cell_type": "code",
   "execution_count": 24,
   "metadata": {},
   "outputs": [],
   "source": [
    "from scipy import sparse\n",
    "array_vals = adata.X\n",
    "adata.X = sparse.csr_matrix(adata.X)\n",
    "adata.raw = adata\n",
    "adata.X = array_vals"
   ]
  },
  {
   "cell_type": "code",
   "execution_count": 25,
   "metadata": {},
   "outputs": [],
   "source": [
    "adata = adata[adata.obs['cell.labels'].isin(['HSC', 'LMPP', 'MPP myeloid', 'MEMP', 'MEP', 'CMP', 'ELP', \n",
    "                                            'eo/baso/mast precursor', 'GMP', 'myeloid DC progenitor', \n",
    "                                             'pDC progenitor'])].copy()"
   ]
  },
  {
   "cell_type": "code",
   "execution_count": 26,
   "metadata": {},
   "outputs": [
    {
     "data": {
      "text/plain": [
       "cell.labels\n",
       "CMP                        425\n",
       "ELP                       1358\n",
       "GMP                       1285\n",
       "HSC                         92\n",
       "LMPP                        34\n",
       "MEMP                        16\n",
       "MEP                        269\n",
       "MPP myeloid                 92\n",
       "eo/baso/mast precursor     175\n",
       "myeloid DC progenitor       31\n",
       "pDC progenitor              23\n",
       "dtype: int64"
      ]
     },
     "execution_count": 26,
     "metadata": {},
     "output_type": "execute_result"
    }
   ],
   "source": [
    "cell_numbers = adata.obs.groupby([\"cell.labels\"]).apply(len)\n",
    "cell_numbers"
   ]
  },
  {
   "cell_type": "code",
   "execution_count": 27,
   "metadata": {},
   "outputs": [],
   "source": [
    "adata.obs[\"dataset\"] = \"FBM\""
   ]
  },
  {
   "cell_type": "code",
   "execution_count": 28,
   "metadata": {},
   "outputs": [],
   "source": [
    "fbm = adata"
   ]
  },
  {
   "cell_type": "markdown",
   "metadata": {},
   "source": [
    "# Import the ABM progenitor compartment"
   ]
  },
  {
   "cell_type": "code",
   "execution_count": 29,
   "metadata": {},
   "outputs": [],
   "source": [
    "adata = sc.read('/Users/b8058304/Documents/PhD_work/Coding/adult_bm/data/abm_raw_dr_20200717.h5ad')"
   ]
  },
  {
   "cell_type": "code",
   "execution_count": 30,
   "metadata": {
    "scrolled": true
   },
   "outputs": [
    {
     "data": {
      "text/plain": [
       "AnnData object with n_obs × n_vars = 142026 × 33694 \n",
       "    obs: 'sample', 'lanes', 'sex', 'age', 'ethnicity', 'mad_prd', 'auto_prd', 'cell.labels', 'cell.labels2', 'leiden', 'percent.mito', 'nGene', 'nUMI', 'cell.labels_july', 'cell.labels_20200717'\n",
       "    var: 'gene_ids'\n",
       "    obsm: 'X_orig_pca', 'X_pca', 'X_umap'"
      ]
     },
     "execution_count": 30,
     "metadata": {},
     "output_type": "execute_result"
    }
   ],
   "source": [
    "adata"
   ]
  },
  {
   "cell_type": "code",
   "execution_count": 31,
   "metadata": {
    "scrolled": false
   },
   "outputs": [
    {
     "data": {
      "text/plain": [
       "cell.labels\n",
       "CD14 monocyte             3670\n",
       "CD16 monocyte             1938\n",
       "CD56 bright NK            1228\n",
       "CLP                        882\n",
       "CMP                        288\n",
       "DC1                        135\n",
       "DC2                        481\n",
       "DC3                        550\n",
       "DC precursor               462\n",
       "HSC                        497\n",
       "LMPP                        80\n",
       "MEMP                       785\n",
       "MK                         577\n",
       "MOP                       1440\n",
       "MPP                        365\n",
       "Treg                      6327\n",
       "early MK                   136\n",
       "early erythroid           5441\n",
       "erythroid macrophage        77\n",
       "immature B cell           2728\n",
       "late erythroid            1150\n",
       "mature CD8 T cell        15725\n",
       "mature NK                 6074\n",
       "memory B cell             4106\n",
       "memory CD4 T cell        22197\n",
       "mid erythroid             2192\n",
       "monocyte-DC                515\n",
       "myelocyte                 6675\n",
       "myeloid DC progenitor      110\n",
       "naive B cell             19265\n",
       "naive CD4 T cell          5873\n",
       "naive CD8 T cell          8965\n",
       "neutrophil                2482\n",
       "pDC                       1134\n",
       "pDC progenitor              63\n",
       "plasma cell               2074\n",
       "pre B cell                 971\n",
       "pro B progenitor          1390\n",
       "promonocyte               7448\n",
       "promyelocyte              2197\n",
       "stroma                     161\n",
       "tDC                         75\n",
       "transitional B cell       2151\n",
       "transitional NK            946\n",
       "dtype: int64"
      ]
     },
     "execution_count": 31,
     "metadata": {},
     "output_type": "execute_result"
    }
   ],
   "source": [
    "cell_numbers = adata.obs.groupby([\"cell.labels\"]).apply(len)\n",
    "cell_numbers"
   ]
  },
  {
   "cell_type": "code",
   "execution_count": 32,
   "metadata": {},
   "outputs": [],
   "source": [
    "from scipy import sparse\n",
    "array_vals = adata.X\n",
    "adata.X = sparse.csr_matrix(adata.X)\n",
    "adata.raw = adata\n",
    "adata.X = array_vals"
   ]
  },
  {
   "cell_type": "code",
   "execution_count": 33,
   "metadata": {},
   "outputs": [],
   "source": [
    "adata = adata[adata.obs['cell.labels'].isin(['HSC', 'LMPP', 'MPP', 'MEMP', 'CMP', 'CLP', \n",
    "                                             'myeloid DC progenitor'])].copy()"
   ]
  },
  {
   "cell_type": "code",
   "execution_count": 34,
   "metadata": {},
   "outputs": [
    {
     "data": {
      "text/plain": [
       "cell.labels\n",
       "CLP                      882\n",
       "CMP                      288\n",
       "HSC                      497\n",
       "LMPP                      80\n",
       "MEMP                     785\n",
       "MPP                      365\n",
       "myeloid DC progenitor    110\n",
       "dtype: int64"
      ]
     },
     "execution_count": 34,
     "metadata": {},
     "output_type": "execute_result"
    }
   ],
   "source": [
    "cell_numbers = adata.obs.groupby([\"cell.labels\"]).apply(len)\n",
    "cell_numbers"
   ]
  },
  {
   "cell_type": "code",
   "execution_count": 35,
   "metadata": {},
   "outputs": [],
   "source": [
    "adata.obs[\"dataset\"] = \"ABM\""
   ]
  },
  {
   "cell_type": "code",
   "execution_count": 36,
   "metadata": {},
   "outputs": [],
   "source": [
    "abm = adata"
   ]
  },
  {
   "cell_type": "markdown",
   "metadata": {},
   "source": [
    "# Import the CB progenitor compartment"
   ]
  },
  {
   "cell_type": "code",
   "execution_count": 37,
   "metadata": {},
   "outputs": [],
   "source": [
    "adata = sc.read('/Users/b8058304/Documents/PhD_work/Coding/cord_blood/data/cord_blood_raw_dr_20200717.h5ad')"
   ]
  },
  {
   "cell_type": "code",
   "execution_count": 38,
   "metadata": {
    "scrolled": true
   },
   "outputs": [
    {
     "data": {
      "text/plain": [
       "AnnData object with n_obs × n_vars = 148442 × 33694 \n",
       "    obs: 'sample', 'lanes', 'mad_prd', 'auto_prd', 'cell.labels', 'cell.labels2', 'leiden', 'percent.mito', 'nGene', 'nUMI', 'cell.labels_20200717'\n",
       "    var: 'gene_ids'\n",
       "    obsm: 'X_orig_pca', 'X_pca', 'X_umap'"
      ]
     },
     "execution_count": 38,
     "metadata": {},
     "output_type": "execute_result"
    }
   ],
   "source": [
    "adata"
   ]
  },
  {
   "cell_type": "code",
   "execution_count": 39,
   "metadata": {
    "scrolled": false
   },
   "outputs": [
    {
     "data": {
      "text/plain": [
       "cell.labels\n",
       "CD8 T cell          16345\n",
       "CD14 monocyte       13324\n",
       "CD16 monocyte         888\n",
       "CD56 bright NK       4066\n",
       "CMP                   272\n",
       "DC1                    67\n",
       "DC2                   155\n",
       "DC precursor          169\n",
       "GMP                   203\n",
       "HSC                   194\n",
       "ILC precursor        1519\n",
       "MEMP                  338\n",
       "MK                   1262\n",
       "early MK              496\n",
       "early erythroid       532\n",
       "late erythroid        878\n",
       "mature NK            7860\n",
       "mid erythroid        2627\n",
       "myelocyte            3726\n",
       "naive B cell        19516\n",
       "naive CD4 T cell    69338\n",
       "neutrophil           3458\n",
       "pDC                   242\n",
       "preDC                 269\n",
       "promonocyte           607\n",
       "tDC                    91\n",
       "dtype: int64"
      ]
     },
     "execution_count": 39,
     "metadata": {},
     "output_type": "execute_result"
    }
   ],
   "source": [
    "cell_numbers = adata.obs.groupby([\"cell.labels\"]).apply(len)\n",
    "cell_numbers"
   ]
  },
  {
   "cell_type": "code",
   "execution_count": 40,
   "metadata": {},
   "outputs": [],
   "source": [
    "from scipy import sparse\n",
    "array_vals = adata.X\n",
    "adata.X = sparse.csr_matrix(adata.X)\n",
    "adata.raw = adata\n",
    "adata.X = array_vals"
   ]
  },
  {
   "cell_type": "code",
   "execution_count": 41,
   "metadata": {},
   "outputs": [],
   "source": [
    "adata = adata[adata.obs['cell.labels'].isin(['HSC', 'MEMP', 'GMP', 'CMP'])].copy()"
   ]
  },
  {
   "cell_type": "code",
   "execution_count": 42,
   "metadata": {},
   "outputs": [
    {
     "data": {
      "text/plain": [
       "cell.labels\n",
       "CMP     272\n",
       "GMP     203\n",
       "HSC     194\n",
       "MEMP    338\n",
       "dtype: int64"
      ]
     },
     "execution_count": 42,
     "metadata": {},
     "output_type": "execute_result"
    }
   ],
   "source": [
    "cell_numbers = adata.obs.groupby([\"cell.labels\"]).apply(len)\n",
    "cell_numbers"
   ]
  },
  {
   "cell_type": "code",
   "execution_count": 43,
   "metadata": {},
   "outputs": [],
   "source": [
    "adata.obs[\"dataset\"] = \"CB\""
   ]
  },
  {
   "cell_type": "code",
   "execution_count": 44,
   "metadata": {},
   "outputs": [],
   "source": [
    "cb = adata"
   ]
  },
  {
   "cell_type": "code",
   "execution_count": null,
   "metadata": {},
   "outputs": [],
   "source": []
  },
  {
   "cell_type": "code",
   "execution_count": null,
   "metadata": {},
   "outputs": [],
   "source": []
  },
  {
   "cell_type": "code",
   "execution_count": null,
   "metadata": {},
   "outputs": [],
   "source": []
  },
  {
   "cell_type": "code",
   "execution_count": null,
   "metadata": {},
   "outputs": [],
   "source": []
  },
  {
   "cell_type": "markdown",
   "metadata": {},
   "source": [
    "# Combine the datasets"
   ]
  },
  {
   "cell_type": "code",
   "execution_count": 45,
   "metadata": {},
   "outputs": [],
   "source": [
    "from scipy import sparse\n",
    "\n",
    "objects = [ys, liver, fbm, abm, cb]\n",
    "\n",
    "for i in objects:\n",
    "    array_vals = i.X\n",
    "    i.X = sparse.csr_matrix(i.X)\n",
    "    i.raw = i\n",
    "    i.X = array_vals"
   ]
  },
  {
   "cell_type": "code",
   "execution_count": 46,
   "metadata": {},
   "outputs": [],
   "source": [
    "merged = ys.concatenate(liver, fbm, abm, cb, index_unique=None, join='inner')"
   ]
  },
  {
   "cell_type": "code",
   "execution_count": 47,
   "metadata": {},
   "outputs": [
    {
     "data": {
      "text/plain": [
       "(12805, 27061)"
      ]
     },
     "execution_count": 47,
     "metadata": {},
     "output_type": "execute_result"
    }
   ],
   "source": [
    "merged.shape"
   ]
  },
  {
   "cell_type": "code",
   "execution_count": 48,
   "metadata": {},
   "outputs": [
    {
     "data": {
      "text/plain": [
       "cell.labels\n",
       "CLP                        882\n",
       "CMP                       1040\n",
       "ELP                       2057\n",
       "GMP                       1890\n",
       "HSC                       1130\n",
       "LMPP                       114\n",
       "MEMP                      1699\n",
       "MEP                        964\n",
       "MPP                       2377\n",
       "MPP myeloid                 92\n",
       "eo/baso/mast precursor     261\n",
       "myeloid DC progenitor      235\n",
       "pDC progenitor              64\n",
       "dtype: int64"
      ]
     },
     "execution_count": 48,
     "metadata": {},
     "output_type": "execute_result"
    }
   ],
   "source": [
    "cell_numbers = merged.obs.groupby([\"cell.labels\"]).apply(len)\n",
    "cell_numbers"
   ]
  },
  {
   "cell_type": "code",
   "execution_count": 49,
   "metadata": {},
   "outputs": [],
   "source": [
    "merged.obs[\"dataset_cell.labels\"] = merged.obs[\"dataset\"].astype(str) + '_' + merged.obs[\"cell.labels\"].astype(str)"
   ]
  },
  {
   "cell_type": "code",
   "execution_count": 50,
   "metadata": {},
   "outputs": [
    {
     "data": {
      "text/plain": [
       "dataset_cell.labels\n",
       "ABM_CLP                          882\n",
       "ABM_CMP                          288\n",
       "ABM_HSC                          497\n",
       "ABM_LMPP                          80\n",
       "ABM_MEMP                         785\n",
       "ABM_MPP                          365\n",
       "ABM_myeloid DC progenitor        110\n",
       "CB_CMP                           272\n",
       "CB_GMP                           203\n",
       "CB_HSC                           194\n",
       "CB_MEMP                          338\n",
       "FBM_CMP                          425\n",
       "FBM_ELP                         1358\n",
       "FBM_GMP                         1285\n",
       "FBM_HSC                           92\n",
       "FBM_LMPP                          34\n",
       "FBM_MEMP                          16\n",
       "FBM_MEP                          269\n",
       "FBM_MPP myeloid                   92\n",
       "FBM_eo/baso/mast precursor       175\n",
       "FBM_myeloid DC progenitor         31\n",
       "FBM_pDC progenitor                23\n",
       "liver_ELP                        525\n",
       "liver_GMP                        362\n",
       "liver_HSC                        242\n",
       "liver_MEMP                       505\n",
       "liver_MEP                        639\n",
       "liver_MPP                       2012\n",
       "liver_eo/baso/mast precursor      86\n",
       "liver_myeloid DC progenitor       94\n",
       "liver_pDC progenitor              41\n",
       "ys_CMP                            55\n",
       "ys_ELP                           174\n",
       "ys_GMP                            40\n",
       "ys_HSC                           105\n",
       "ys_MEMP                           55\n",
       "ys_MEP                            56\n",
       "dtype: int64"
      ]
     },
     "execution_count": 50,
     "metadata": {},
     "output_type": "execute_result"
    }
   ],
   "source": [
    "cell_numbers = merged.obs.groupby([\"dataset_cell.labels\"]).apply(len)\n",
    "cell_numbers"
   ]
  },
  {
   "cell_type": "markdown",
   "metadata": {},
   "source": [
    "# Pre-process the data"
   ]
  },
  {
   "cell_type": "code",
   "execution_count": 51,
   "metadata": {},
   "outputs": [],
   "source": [
    "adata=merged"
   ]
  },
  {
   "cell_type": "code",
   "execution_count": 52,
   "metadata": {},
   "outputs": [],
   "source": [
    "# normalise count data \n",
    "sc.pp.normalize_total(adata)"
   ]
  },
  {
   "cell_type": "code",
   "execution_count": 53,
   "metadata": {},
   "outputs": [],
   "source": [
    "# log the count data \n",
    "sc.pp.log1p(adata)"
   ]
  },
  {
   "cell_type": "code",
   "execution_count": 54,
   "metadata": {},
   "outputs": [],
   "source": [
    "# find variable genes\n",
    "sc.pp.highly_variable_genes(adata, min_mean=0.0125, max_mean=3, min_disp=0.5) "
   ]
  },
  {
   "cell_type": "code",
   "execution_count": 55,
   "metadata": {},
   "outputs": [],
   "source": [
    "# scale the data \n",
    "sc.pp.scale(adata, max_value=10)\n",
    "# scale the negative values in adata.X (which have been normalised, logged and scaled) to zero \n",
    "adata.X = np.where(adata.X < 0, 0, adata.X)"
   ]
  },
  {
   "cell_type": "code",
   "execution_count": null,
   "metadata": {},
   "outputs": [],
   "source": []
  },
  {
   "cell_type": "markdown",
   "metadata": {},
   "source": [
    "# Import cell cycling genes"
   ]
  },
  {
   "cell_type": "code",
   "execution_count": 56,
   "metadata": {},
   "outputs": [],
   "source": [
    "#Score cell cycle and visualize the effect:\n",
    "# load file in\n",
    "cc_genes_file = '/Users/b8058304/Documents/PhD_work/Coding/bm/resources_for_pipelines/cell_cycle_makosco.csv'\n",
    "cc_genes = pd.read_csv(cc_genes_file, delimiter=',')\n",
    "# removing na from s and g2m list\n",
    "s_genes = cc_genes['S'].dropna()\n",
    "g2m_genes = cc_genes['G2/M'].dropna()"
   ]
  },
  {
   "cell_type": "code",
   "execution_count": 57,
   "metadata": {},
   "outputs": [],
   "source": [
    "y_genes = s_genes.tolist()\n",
    "no_trail = []\n",
    "\n",
    "for x in y_genes:\n",
    "    y = x.strip()\n",
    "    no_trail.append(y)\n",
    "    \n",
    "s_genes = no_trail "
   ]
  },
  {
   "cell_type": "code",
   "execution_count": 58,
   "metadata": {},
   "outputs": [],
   "source": [
    "y_genes = g2m_genes.tolist()\n",
    "no_trail = []\n",
    "\n",
    "for x in y_genes:\n",
    "    y = x.strip()\n",
    "    no_trail.append(y)\n",
    "    \n",
    "g2m_genes = no_trail "
   ]
  },
  {
   "cell_type": "code",
   "execution_count": 59,
   "metadata": {},
   "outputs": [],
   "source": [
    "s_genes_mm = adata.var_names[np.isin(adata.var_names, s_genes)]"
   ]
  },
  {
   "cell_type": "code",
   "execution_count": 60,
   "metadata": {},
   "outputs": [],
   "source": [
    "g2m_genes_mm = adata.var_names[np.isin(adata.var_names, g2m_genes)]"
   ]
  },
  {
   "cell_type": "code",
   "execution_count": 61,
   "metadata": {},
   "outputs": [],
   "source": [
    "sc.tl.score_genes_cell_cycle(adata, s_genes=s_genes_mm, g2m_genes=g2m_genes_mm)"
   ]
  },
  {
   "cell_type": "code",
   "execution_count": 62,
   "metadata": {},
   "outputs": [],
   "source": [
    "adata.obs[\"phase_combined\"] = adata.obs[\"phase\"].replace([\"G2M\", \"S\"], [\"G2M/S\", \"G2M/S\"])"
   ]
  },
  {
   "cell_type": "code",
   "execution_count": 63,
   "metadata": {},
   "outputs": [],
   "source": [
    "adata.obs[\"S/G2M_score_combined\"] = (adata.obs[\"G2M_score\"] + adata.obs[\"S_score\"])/2"
   ]
  },
  {
   "cell_type": "code",
   "execution_count": null,
   "metadata": {},
   "outputs": [],
   "source": []
  },
  {
   "cell_type": "code",
   "execution_count": null,
   "metadata": {},
   "outputs": [],
   "source": []
  },
  {
   "cell_type": "code",
   "execution_count": null,
   "metadata": {},
   "outputs": [],
   "source": []
  },
  {
   "cell_type": "markdown",
   "metadata": {},
   "source": [
    "# Reorder the celltype/tissue metadata col (in prep for heatmap)"
   ]
  },
  {
   "cell_type": "code",
   "execution_count": 64,
   "metadata": {},
   "outputs": [
    {
     "data": {
      "text/plain": [
       "array(['ys', 'liver', 'FBM', 'ABM', 'CB'], dtype=object)"
      ]
     },
     "execution_count": 64,
     "metadata": {},
     "output_type": "execute_result"
    }
   ],
   "source": [
    "# order tissue_cell.labels column\n",
    "\n",
    "adata.obs[\"dataset\"].unique()"
   ]
  },
  {
   "cell_type": "code",
   "execution_count": 65,
   "metadata": {},
   "outputs": [],
   "source": [
    "# order tissue_cell.labels column\n",
    "\n",
    "adata.obs[\"dataset\"] = adata.obs[\"dataset\"].astype(\"category\")\n",
    "\n",
    "adata.obs[\"dataset\"] = adata.obs[\"dataset\"].cat.reorder_categories(['ys', 'liver', 'FBM', 'ABM', 'CB'])"
   ]
  },
  {
   "cell_type": "code",
   "execution_count": 66,
   "metadata": {},
   "outputs": [
    {
     "data": {
      "text/plain": [
       "[ys, liver, FBM, ABM, CB]\n",
       "Categories (5, object): [ys, liver, FBM, ABM, CB]"
      ]
     },
     "execution_count": 66,
     "metadata": {},
     "output_type": "execute_result"
    }
   ],
   "source": [
    "adata.obs[\"dataset\"].unique()"
   ]
  },
  {
   "cell_type": "code",
   "execution_count": 67,
   "metadata": {},
   "outputs": [
    {
     "data": {
      "text/html": [
       "<div>\n",
       "<style scoped>\n",
       "    .dataframe tbody tr th:only-of-type {\n",
       "        vertical-align: middle;\n",
       "    }\n",
       "\n",
       "    .dataframe tbody tr th {\n",
       "        vertical-align: top;\n",
       "    }\n",
       "\n",
       "    .dataframe thead th {\n",
       "        text-align: right;\n",
       "    }\n",
       "</style>\n",
       "<table border=\"1\" class=\"dataframe\">\n",
       "  <thead>\n",
       "    <tr style=\"text-align: right;\">\n",
       "      <th></th>\n",
       "      <th>S/G2M_score_combined</th>\n",
       "      <th>labels</th>\n",
       "    </tr>\n",
       "    <tr>\n",
       "      <th>index</th>\n",
       "      <th></th>\n",
       "      <th></th>\n",
       "    </tr>\n",
       "  </thead>\n",
       "  <tbody>\n",
       "    <tr>\n",
       "      <th>F32_yolk sac_Total_FCAImmP7316900_ATCCACCGTGTTTGGT</th>\n",
       "      <td>0.021452</td>\n",
       "      <td>ys</td>\n",
       "    </tr>\n",
       "    <tr>\n",
       "      <th>F32_yolk sac_Total_FCAImmP7316900_CCATGTCTCAGCTTAG</th>\n",
       "      <td>-0.081604</td>\n",
       "      <td>ys</td>\n",
       "    </tr>\n",
       "    <tr>\n",
       "      <th>F32_yolk sac_Total_FCAImmP7316900_CTACCCAAGCCCGAAA</th>\n",
       "      <td>0.010945</td>\n",
       "      <td>ys</td>\n",
       "    </tr>\n",
       "    <tr>\n",
       "      <th>F32_yolk sac_Total_FCAImmP7316900_CTTAGGATCACTATTC</th>\n",
       "      <td>0.000618</td>\n",
       "      <td>ys</td>\n",
       "    </tr>\n",
       "    <tr>\n",
       "      <th>F32_yolk sac_Total_FCAImmP7316900_GGTGCGTTCGTCTGAA</th>\n",
       "      <td>0.004291</td>\n",
       "      <td>ys</td>\n",
       "    </tr>\n",
       "    <tr>\n",
       "      <th>...</th>\n",
       "      <td>...</td>\n",
       "      <td>...</td>\n",
       "    </tr>\n",
       "    <tr>\n",
       "      <th>MantonCB6_HiSeq_8-TGCCCTATCCGCGGTA-1</th>\n",
       "      <td>0.000146</td>\n",
       "      <td>CB</td>\n",
       "    </tr>\n",
       "    <tr>\n",
       "      <th>MantonCB6_HiSeq_8-TGCGTGGTCATCTGTT-1</th>\n",
       "      <td>0.053461</td>\n",
       "      <td>CB</td>\n",
       "    </tr>\n",
       "    <tr>\n",
       "      <th>MantonCB6_HiSeq_8-TGCGTGGTCCCATTAT-1</th>\n",
       "      <td>-0.014227</td>\n",
       "      <td>CB</td>\n",
       "    </tr>\n",
       "    <tr>\n",
       "      <th>MantonCB6_HiSeq_8-TGCTACCTCATAGCAC-1</th>\n",
       "      <td>-0.025678</td>\n",
       "      <td>CB</td>\n",
       "    </tr>\n",
       "    <tr>\n",
       "      <th>MantonCB6_HiSeq_8-TTAGTTCAGTACATGA-1</th>\n",
       "      <td>0.028060</td>\n",
       "      <td>CB</td>\n",
       "    </tr>\n",
       "  </tbody>\n",
       "</table>\n",
       "<p>12805 rows × 2 columns</p>\n",
       "</div>"
      ],
      "text/plain": [
       "                                                    S/G2M_score_combined  \\\n",
       "index                                                                      \n",
       "F32_yolk sac_Total_FCAImmP7316900_ATCCACCGTGTTTGGT              0.021452   \n",
       "F32_yolk sac_Total_FCAImmP7316900_CCATGTCTCAGCTTAG             -0.081604   \n",
       "F32_yolk sac_Total_FCAImmP7316900_CTACCCAAGCCCGAAA              0.010945   \n",
       "F32_yolk sac_Total_FCAImmP7316900_CTTAGGATCACTATTC              0.000618   \n",
       "F32_yolk sac_Total_FCAImmP7316900_GGTGCGTTCGTCTGAA              0.004291   \n",
       "...                                                                  ...   \n",
       "MantonCB6_HiSeq_8-TGCCCTATCCGCGGTA-1                            0.000146   \n",
       "MantonCB6_HiSeq_8-TGCGTGGTCATCTGTT-1                            0.053461   \n",
       "MantonCB6_HiSeq_8-TGCGTGGTCCCATTAT-1                           -0.014227   \n",
       "MantonCB6_HiSeq_8-TGCTACCTCATAGCAC-1                           -0.025678   \n",
       "MantonCB6_HiSeq_8-TTAGTTCAGTACATGA-1                            0.028060   \n",
       "\n",
       "                                                   labels  \n",
       "index                                                      \n",
       "F32_yolk sac_Total_FCAImmP7316900_ATCCACCGTGTTTGGT     ys  \n",
       "F32_yolk sac_Total_FCAImmP7316900_CCATGTCTCAGCTTAG     ys  \n",
       "F32_yolk sac_Total_FCAImmP7316900_CTACCCAAGCCCGAAA     ys  \n",
       "F32_yolk sac_Total_FCAImmP7316900_CTTAGGATCACTATTC     ys  \n",
       "F32_yolk sac_Total_FCAImmP7316900_GGTGCGTTCGTCTGAA     ys  \n",
       "...                                                   ...  \n",
       "MantonCB6_HiSeq_8-TGCCCTATCCGCGGTA-1                   CB  \n",
       "MantonCB6_HiSeq_8-TGCGTGGTCATCTGTT-1                   CB  \n",
       "MantonCB6_HiSeq_8-TGCGTGGTCCCATTAT-1                   CB  \n",
       "MantonCB6_HiSeq_8-TGCTACCTCATAGCAC-1                   CB  \n",
       "MantonCB6_HiSeq_8-TTAGTTCAGTACATGA-1                   CB  \n",
       "\n",
       "[12805 rows x 2 columns]"
      ]
     },
     "execution_count": 67,
     "metadata": {},
     "output_type": "execute_result"
    }
   ],
   "source": [
    "# save cell cycle scores within metadata as a dataframe (called enrichement scores)\n",
    "adata.obs[\"labels\"] = adata.obs[\"dataset\"]\n",
    "meta = pd.DataFrame(adata.obs)\n",
    "enrichment_scores_df = meta[meta.columns[-2:]]\n",
    "enrichment_scores_df"
   ]
  },
  {
   "cell_type": "code",
   "execution_count": 68,
   "metadata": {},
   "outputs": [
    {
     "data": {
      "text/html": [
       "<div>\n",
       "<style scoped>\n",
       "    .dataframe tbody tr th:only-of-type {\n",
       "        vertical-align: middle;\n",
       "    }\n",
       "\n",
       "    .dataframe tbody tr th {\n",
       "        vertical-align: top;\n",
       "    }\n",
       "\n",
       "    .dataframe thead th {\n",
       "        text-align: right;\n",
       "    }\n",
       "</style>\n",
       "<table border=\"1\" class=\"dataframe\">\n",
       "  <thead>\n",
       "    <tr style=\"text-align: right;\">\n",
       "      <th>labels</th>\n",
       "      <th>ys</th>\n",
       "      <th>liver</th>\n",
       "      <th>FBM</th>\n",
       "      <th>ABM</th>\n",
       "      <th>CB</th>\n",
       "    </tr>\n",
       "  </thead>\n",
       "  <tbody>\n",
       "    <tr>\n",
       "      <th>S/G2M_score_combined</th>\n",
       "      <td>0.068048</td>\n",
       "      <td>0.108603</td>\n",
       "      <td>0.110187</td>\n",
       "      <td>0.051182</td>\n",
       "      <td>-0.003154</td>\n",
       "    </tr>\n",
       "  </tbody>\n",
       "</table>\n",
       "</div>"
      ],
      "text/plain": [
       "labels                      ys     liver       FBM       ABM        CB\n",
       "S/G2M_score_combined  0.068048  0.108603  0.110187  0.051182 -0.003154"
      ]
     },
     "execution_count": 68,
     "metadata": {},
     "output_type": "execute_result"
    }
   ],
   "source": [
    "# calculate mean enrichment scores by celltype\n",
    "mean_enrichment_scores_df = enrichment_scores_df.groupby('labels').mean()\n",
    "mean_enrichment_scores_df = mean_enrichment_scores_df.T\n",
    "mean_enrichment_scores_df = mean_enrichment_scores_df.sort_index()\n",
    "mean_enrichment_scores_df"
   ]
  },
  {
   "cell_type": "markdown",
   "metadata": {},
   "source": [
    "# Run heatmap"
   ]
  },
  {
   "cell_type": "code",
   "execution_count": 69,
   "metadata": {
    "scrolled": false
   },
   "outputs": [
    {
     "data": {
      "image/png": "[encoded data removed]",
      "text/plain": [
       "<Figure size 600x240 with 2 Axes>"
      ]
     },
     "metadata": {
      "image/png": {
       "height": 363,
       "width": 521
      },
      "needs_background": "light"
     },
     "output_type": "display_data"
    },
    {
     "data": {
      "image/png": "[encoded data removed]",
      "text/plain": [
       "<Figure size 600x240 with 2 Axes>"
      ]
     },
     "metadata": {
      "image/png": {
       "height": 363,
       "width": 521
      },
      "needs_background": "light"
     },
     "output_type": "display_data"
    }
   ],
   "source": [
    "plt.figure(figsize=(5, 2))\n",
    "fig = sns.heatmap(mean_enrichment_scores_df, annot=True, fmt=\".2\", annot_kws={\"size\": 5}, cmap=\"RdYlBu_r\").get_figure() #xticklabels=cell_label_order, yticklabels=cell_label_order,\n",
    "# fix for mpl bug that cuts off top/bottom of seaborn viz\n",
    "b, t = plt.ylim() # discover the values for bottom and top\n",
    "b += 0.5 # Add 0.5 to the bottom\n",
    "t -= 0.5 # Subtract 0.5 from the top\n",
    "plt.ylim(b, t) # update the ylim(bottom, top) values\n",
    "fig.savefig(\"figures/fig4c_progenitor_compartment_cross_tissue_cycle_comparison_numbers_yes_20200721.pdf\")\n",
    "\n",
    "plt.figure(figsize=(5, 2))\n",
    "fig = sns.heatmap(mean_enrichment_scores_df, cmap=\"RdYlBu_r\").get_figure() \n",
    "# fix for mpl bug that cuts off top/bottom of seaborn viz\n",
    "b, t = plt.ylim() # discover the values for bottom and top\n",
    "b += 0.5 # Add 0.5 to the bottom\n",
    "t -= 0.5 # Subtract 0.5 from the top\n",
    "plt.ylim(b, t) # update the ylim(bottom, top) values\n",
    "fig.savefig(\"figures/fig4c_progenitor_compartment_cross_tissue_cycle_comparison_numbers_no_20200721.pdf\")"
   ]
  },
  {
   "cell_type": "code",
   "execution_count": null,
   "metadata": {},
   "outputs": [],
   "source": []
  },
  {
   "cell_type": "code",
   "execution_count": null,
   "metadata": {},
   "outputs": [],
   "source": []
  },
  {
   "cell_type": "code",
   "execution_count": null,
   "metadata": {},
   "outputs": [],
   "source": []
  },
  {
   "cell_type": "code",
   "execution_count": null,
   "metadata": {},
   "outputs": [],
   "source": []
  },
  {
   "cell_type": "code",
   "execution_count": null,
   "metadata": {},
   "outputs": [],
   "source": []
  },
  {
   "cell_type": "code",
   "execution_count": null,
   "metadata": {},
   "outputs": [],
   "source": []
  },
  {
   "cell_type": "markdown",
   "metadata": {},
   "source": [
    "# Save the data"
   ]
  },
  {
   "cell_type": "code",
   "execution_count": 70,
   "metadata": {},
   "outputs": [],
   "source": [
    "from scipy.sparse import csr_matrix\n",
    "adata.X = sparse.csr_matrix(adata.X)"
   ]
  },
  {
   "cell_type": "code",
   "execution_count": 71,
   "metadata": {},
   "outputs": [
    {
     "data": {
      "text/plain": [
       "<12805x27061 sparse matrix of type '<class 'numpy.float32'>'\n",
       "\twith 36541862 stored elements in Compressed Sparse Row format>"
      ]
     },
     "execution_count": 71,
     "metadata": {},
     "output_type": "execute_result"
    }
   ],
   "source": [
    "adata.X"
   ]
  },
  {
   "cell_type": "code",
   "execution_count": 72,
   "metadata": {},
   "outputs": [
    {
     "data": {
      "text/plain": [
       "<12805x27061 sparse matrix of type '<class 'numpy.float32'>'\n",
       "\twith 41588467 stored elements in Compressed Sparse Row format>"
      ]
     },
     "execution_count": 72,
     "metadata": {},
     "output_type": "execute_result"
    }
   ],
   "source": [
    "adata.raw.X"
   ]
  },
  {
   "cell_type": "code",
   "execution_count": 73,
   "metadata": {},
   "outputs": [
    {
     "name": "stderr",
     "output_type": "stream",
     "text": [
      "... storing 'AnnatomicalPart' as categorical\n",
      "... storing 'age' as categorical\n",
      "... storing 'april_cell.labels' as categorical\n",
      "... storing 'auto_prd' as categorical\n",
      "... storing 'backlabeled_1' as categorical\n",
      "... storing 'cell.labels' as categorical\n",
      "... storing 'cell.labels2' as categorical\n",
      "... storing 'cell.labels_20200708' as categorical\n",
      "... storing 'cell.labels_20200713' as categorical\n",
      "... storing 'cell.labels_20200717' as categorical\n",
      "... storing 'cell.labels_20200718' as categorical\n",
      "... storing 'cell.labels_july' as categorical\n",
      "... storing 'cell.labels_progen' as categorical\n",
      "... storing 'combined.labels' as categorical\n",
      "... storing 'doublets' as categorical\n",
      "... storing 'ethnicity' as categorical\n",
      "... storing 'fetal.ids' as categorical\n",
      "... storing 'full.ids' as categorical\n",
      "... storing 'gender' as categorical\n",
      "... storing 'is_doublet' as categorical\n",
      "... storing 'is_doublet_poptrim' as categorical\n",
      "... storing 'is_doublet_wolock' as categorical\n",
      "... storing 'lanes' as categorical\n",
      "... storing 'leiden' as categorical\n",
      "... storing 'mad_prd' as categorical\n",
      "... storing 'nk_meta' as categorical\n",
      "... storing 'orig.ident' as categorical\n",
      "... storing 'processing.type' as categorical\n",
      "... storing 'sample' as categorical\n",
      "... storing 'sample.type' as categorical\n",
      "... storing 'sequencing.type' as categorical\n",
      "... storing 'sex' as categorical\n",
      "... storing 'sort.ids' as categorical\n",
      "... storing 'stages' as categorical\n",
      "... storing 'tissue' as categorical\n",
      "... storing 'dataset_cell.labels' as categorical\n",
      "... storing 'phase' as categorical\n",
      "... storing 'phase_combined' as categorical\n"
     ]
    }
   ],
   "source": [
    "adata.write(\"/Users/b8058304/Documents/PhD_work/Coding/manuscript_figs/data/fig4c_progen_cross_tissue_20200721.h5ad\")"
   ]
  },
  {
   "cell_type": "code",
   "execution_count": null,
   "metadata": {},
   "outputs": [],
   "source": []
  },
  {
   "cell_type": "code",
   "execution_count": null,
   "metadata": {},
   "outputs": [],
   "source": []
  },
  {
   "cell_type": "code",
   "execution_count": null,
   "metadata": {},
   "outputs": [],
   "source": []
  },
  {
   "cell_type": "code",
   "execution_count": null,
   "metadata": {},
   "outputs": [],
   "source": []
  },
  {
   "cell_type": "code",
   "execution_count": null,
   "metadata": {},
   "outputs": [],
   "source": []
  },
  {
   "cell_type": "code",
   "execution_count": null,
   "metadata": {},
   "outputs": [],
   "source": []
  }
 ],
 "metadata": {
  "kernelspec": {
   "display_name": "Python 3",
   "language": "python",
   "name": "python3"
  },
  "language_info": {
   "codemirror_mode": {
    "name": "ipython",
    "version": 3
   },
   "file_extension": ".py",
   "mimetype": "text/x-python",
   "name": "python",
   "nbconvert_exporter": "python",
   "pygments_lexer": "ipython3",
   "version": "3.6.4"
  }
 },
 "nbformat": 4,
 "nbformat_minor": 2
}
