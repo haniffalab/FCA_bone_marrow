{
 "cells": [
  {
   "cell_type": "markdown",
   "metadata": {},
   "source": [
    "# Import packages and data "
   ]
  },
  {
   "cell_type": "code",
   "execution_count": 1,
   "metadata": {},
   "outputs": [
    {
     "name": "stderr",
     "output_type": "stream",
     "text": [
      "/Users/b8058304/.pyenv/versions/3.6.4/envs/py36/lib/python3.6/site-packages/anndata/_core/anndata.py:21: FutureWarning: pandas.core.index is deprecated and will be removed in a future version.  The public classes are available in the top-level namespace.\n",
      "  from pandas.core.index import RangeIndex\n"
     ]
    }
   ],
   "source": [
    "import numpy as np\n",
    "import pandas as pd\n",
    "import scanpy as sc\n",
    "import seaborn as sns\n",
    "import scipy.stats\n",
    "import anndata\n",
    "import matplotlib.pyplot as plt\n",
    "import matplotlib as mpl\n",
    "from matplotlib.axes._axes import _log as matplotlib_axes_logger\n",
    "from scipy import sparse\n",
    "matplotlib_axes_logger.setLevel('ERROR')"
   ]
  },
  {
   "cell_type": "code",
   "execution_count": 2,
   "metadata": {},
   "outputs": [
    {
     "name": "stdout",
     "output_type": "stream",
     "text": [
      "scanpy==1.4.4 anndata==0.7.1 umap==0.3.10 numpy==1.17.1 scipy==1.4.1 pandas==1.0.5 scikit-learn==0.22.2.post1 statsmodels==0.11.1 python-igraph==0.8.0 louvain==0.6.1\n"
     ]
    }
   ],
   "source": [
    "sc.settings.verbosity = 1  # verbosity: errors (0), warnings (1), info (2), hints (3)\n",
    "# Set up the plot config for viewing the annotation clearly.\n",
    "sc.settings.set_figure_params(dpi=120, dpi_save=1000)\n",
    "sc.logging.print_versions()"
   ]
  },
  {
   "cell_type": "markdown",
   "metadata": {},
   "source": [
    "# Import the fetal YS NK"
   ]
  },
  {
   "cell_type": "code",
   "execution_count": 3,
   "metadata": {},
   "outputs": [],
   "source": [
    "adata = sc.read('/Users/b8058304/Documents/PhD_work/Coding/liver/data/ys_total_annotation_20191127.h5ad')"
   ]
  },
  {
   "cell_type": "code",
   "execution_count": 4,
   "metadata": {
    "scrolled": true
   },
   "outputs": [
    {
     "data": {
      "text/plain": [
       "AnnData object with n_obs × n_vars = 10071 × 32084 \n",
       "    obs: 'nGene', 'nUMI', 'orig.ident', 'percent.mito', 'cell.labels', 'fetal.ids', 'sort.ids', 'tissue', 'lanes', 'stages', 'sample.type', 'gender', 'AnnatomicalPart', 'doublets', 'LouvainClustering', 'predicted.cell.labels', 'full.ids', 'batch', 'bh_pval', 'sample', 'scrublet_cluster_score', 'scrublet_score', 'n_counts', 'louvain', 'is_doublet', 'is_doublet_poptrim', 'res.30', 'backlabeled_1', 'cell.labels_progen'"
      ]
     },
     "execution_count": 4,
     "metadata": {},
     "output_type": "execute_result"
    }
   ],
   "source": [
    "adata"
   ]
  },
  {
   "cell_type": "code",
   "execution_count": 5,
   "metadata": {},
   "outputs": [
    {
     "data": {
      "text/plain": [
       "cell.labels\n",
       "DC progenitor                78\n",
       "Early mast cell             133\n",
       "Endothelium                 160\n",
       "Erythroid AB                892\n",
       "Erythroid EZ               1167\n",
       "Erythroid M                 275\n",
       "ILC precursor                25\n",
       "Lymphoid progenitor         184\n",
       "MEMP                        121\n",
       "Monocyte                     38\n",
       "Myeloid progenitor           61\n",
       "NK early                     50\n",
       "yolk sac Macrophage I      3063\n",
       "yolk sac Macrophage II     3619\n",
       "yolk sac progenitor/MPP     205\n",
       "dtype: int64"
      ]
     },
     "execution_count": 5,
     "metadata": {},
     "output_type": "execute_result"
    }
   ],
   "source": [
    "cell_numbers = adata.obs.groupby([\"cell.labels\"]).apply(len)\n",
    "cell_numbers"
   ]
  },
  {
   "cell_type": "code",
   "execution_count": 6,
   "metadata": {},
   "outputs": [],
   "source": [
    "from scipy import sparse\n",
    "array_vals = adata.X\n",
    "adata.X = sparse.csr_matrix(adata.X)\n",
    "adata.raw = adata\n",
    "adata.X = array_vals"
   ]
  },
  {
   "cell_type": "code",
   "execution_count": 7,
   "metadata": {},
   "outputs": [],
   "source": [
    "adata = adata[adata.obs['cell.labels'].isin(['NK early'])].copy()"
   ]
  },
  {
   "cell_type": "code",
   "execution_count": 8,
   "metadata": {},
   "outputs": [
    {
     "data": {
      "text/plain": [
       "cell.labels\n",
       "NK early    50\n",
       "dtype: int64"
      ]
     },
     "execution_count": 8,
     "metadata": {},
     "output_type": "execute_result"
    }
   ],
   "source": [
    "cell_numbers = adata.obs.groupby([\"cell.labels\"]).apply(len)\n",
    "cell_numbers"
   ]
  },
  {
   "cell_type": "code",
   "execution_count": 9,
   "metadata": {},
   "outputs": [],
   "source": [
    "adata.obs[\"dataset\"] = \"ys\"\n",
    "adata.obs['cell.labels'] = adata.obs['cell.labels']"
   ]
  },
  {
   "cell_type": "code",
   "execution_count": 10,
   "metadata": {},
   "outputs": [],
   "source": [
    "ys = adata"
   ]
  },
  {
   "cell_type": "markdown",
   "metadata": {},
   "source": [
    "# Import the fetal liver NK"
   ]
  },
  {
   "cell_type": "code",
   "execution_count": 11,
   "metadata": {},
   "outputs": [],
   "source": [
    "adata = sc.read('/Users/b8058304/Documents/PhD_work/Coding/liver/data/fetal_liver_alladata_Copy1.h5ad')"
   ]
  },
  {
   "cell_type": "code",
   "execution_count": 12,
   "metadata": {
    "scrolled": true
   },
   "outputs": [
    {
     "data": {
      "text/plain": [
       "AnnData object with n_obs × n_vars = 113063 × 27080 \n",
       "    obs: 'nGene', 'nUMI', 'orig.ident', 'percent.mito', 'fetal.ids', 'sort.ids', 'tissue', 'lanes', 'stages', 'sample.type', 'gender', 'AnnatomicalPart', 'doublets', 'cell.labels', 'combined.labels', 'batch', 'sample', 'n_counts', 'cell.labels_progen'\n",
       "    obsm: 'X_fdg', 'X_tsne', 'X_umap'"
      ]
     },
     "execution_count": 12,
     "metadata": {},
     "output_type": "execute_result"
    }
   ],
   "source": [
    "adata"
   ]
  },
  {
   "cell_type": "code",
   "execution_count": 13,
   "metadata": {
    "scrolled": false
   },
   "outputs": [
    {
     "data": {
      "text/plain": [
       "cell.labels\n",
       "B cell                            1079\n",
       "DC1                                336\n",
       "DC2                               3954\n",
       "DC precursor                       330\n",
       "Early Erythroid                  11985\n",
       "Early lymphoid_T lymphocyte        767\n",
       "Endothelial cell                  3348\n",
       "Fibroblast                        1713\n",
       "HSC_MPP                           3439\n",
       "Hepatocyte                        2479\n",
       "ILC precursor                     1726\n",
       "Kupffer Cell                     24841\n",
       "Late Erythroid                    3180\n",
       "MEMP                              1342\n",
       "Mast cell                         1308\n",
       "Megakaryocyte                     3983\n",
       "Mid Erythroid                    27000\n",
       "Mono-Mac                          6590\n",
       "Monocyte                          2586\n",
       "Monocyte precursor                 350\n",
       "NK                                6706\n",
       "Neutrophil-myeloid progenitor      658\n",
       "Pre pro B cell                     234\n",
       "VCAM1+ EI macrophage               161\n",
       "pDC precursor                      253\n",
       "pre-B cell                        1332\n",
       "pro-B cell                        1383\n",
       "dtype: int64"
      ]
     },
     "execution_count": 13,
     "metadata": {},
     "output_type": "execute_result"
    }
   ],
   "source": [
    "cell_numbers = adata.obs.groupby([\"cell.labels\"]).apply(len)\n",
    "cell_numbers"
   ]
  },
  {
   "cell_type": "code",
   "execution_count": 14,
   "metadata": {},
   "outputs": [],
   "source": [
    "from scipy import sparse\n",
    "array_vals = adata.X\n",
    "adata.X = sparse.csr_matrix(adata.X)\n",
    "adata.raw = adata\n",
    "adata.X = array_vals"
   ]
  },
  {
   "cell_type": "code",
   "execution_count": 15,
   "metadata": {},
   "outputs": [
    {
     "data": {
      "text/plain": [
       "cell.labels\n",
       "B cell                            1079\n",
       "DC1                                336\n",
       "DC2                               3954\n",
       "DC precursor                       330\n",
       "Early Erythroid                  11985\n",
       "Early lymphoid_T lymphocyte        767\n",
       "Endothelial cell                  3348\n",
       "Fibroblast                        1713\n",
       "HSC_MPP                           3439\n",
       "Hepatocyte                        2479\n",
       "ILC precursor                     1726\n",
       "Kupffer Cell                     24841\n",
       "Late Erythroid                    3180\n",
       "MEMP                              1342\n",
       "Mast cell                         1308\n",
       "Megakaryocyte                     3983\n",
       "Mid Erythroid                    27000\n",
       "Mono-Mac                          6590\n",
       "Monocyte                          2586\n",
       "Monocyte precursor                 350\n",
       "NK                                6706\n",
       "Neutrophil-myeloid progenitor      658\n",
       "Pre pro B cell                     234\n",
       "VCAM1+ EI macrophage               161\n",
       "pDC precursor                      253\n",
       "pre-B cell                        1332\n",
       "pro-B cell                        1383\n",
       "dtype: int64"
      ]
     },
     "execution_count": 15,
     "metadata": {},
     "output_type": "execute_result"
    }
   ],
   "source": [
    "cell_numbers = adata.obs.groupby([\"cell.labels\"]).apply(len)\n",
    "cell_numbers"
   ]
  },
  {
   "cell_type": "code",
   "execution_count": 16,
   "metadata": {},
   "outputs": [],
   "source": [
    "adata = adata[adata.obs['cell.labels'].isin(['NK'])].copy()"
   ]
  },
  {
   "cell_type": "code",
   "execution_count": 17,
   "metadata": {},
   "outputs": [
    {
     "data": {
      "text/plain": [
       "cell.labels\n",
       "NK    6706\n",
       "dtype: int64"
      ]
     },
     "execution_count": 17,
     "metadata": {},
     "output_type": "execute_result"
    }
   ],
   "source": [
    "cell_numbers = adata.obs.groupby([\"cell.labels\"]).apply(len)\n",
    "cell_numbers"
   ]
  },
  {
   "cell_type": "code",
   "execution_count": 18,
   "metadata": {},
   "outputs": [],
   "source": [
    "adata.obs[\"dataset\"] = \"liver\"\n",
    "adata.obs['cell.labels'] = adata.obs['cell.labels']"
   ]
  },
  {
   "cell_type": "code",
   "execution_count": 19,
   "metadata": {},
   "outputs": [],
   "source": [
    "liver = adata"
   ]
  },
  {
   "cell_type": "markdown",
   "metadata": {},
   "source": [
    "# Import the FBM NK"
   ]
  },
  {
   "cell_type": "code",
   "execution_count": 20,
   "metadata": {},
   "outputs": [],
   "source": [
    "adata = sc.read('/Users/b8058304/Documents/PhD_work/Coding/bm_plus_19pcw/data/bm_plus_19pcw_raw_dr_20201007.h5ad')"
   ]
  },
  {
   "cell_type": "code",
   "execution_count": 21,
   "metadata": {
    "scrolled": true
   },
   "outputs": [
    {
     "data": {
      "text/plain": [
       "AnnData object with n_obs × n_vars = 103228 × 33712 \n",
       "    obs: 'cell.labels', 'doublets', 'fetal.ids', 'gender', 'is_doublet', 'is_doublet_poptrim', 'is_doublet_wolock', 'lanes', 'nGene', 'nUMI', 'orig.ident', 'percent.mito', 'processing.type', 'scrublet_cluster_score', 'scrublet_score', 'sequencing.type', 'sort.ids', 'april_cell.labels', 'cell.labels_20200708', 'cell.labels_20200713', 'cell.labels_20200718', 'nk_meta', 'mito.threshold'\n",
       "    var: 'gene_ids-1', 'feature_types-1'\n",
       "    obsm: 'X_orig_pca', 'X_pca', 'X_umap'"
      ]
     },
     "execution_count": 21,
     "metadata": {},
     "output_type": "execute_result"
    }
   ],
   "source": [
    "adata"
   ]
  },
  {
   "cell_type": "code",
   "execution_count": 22,
   "metadata": {
    "scrolled": false
   },
   "outputs": [
    {
     "data": {
      "text/plain": [
       "cell.labels\n",
       "CD4 T cell             327\n",
       "CD8 T cell             171\n",
       "CD14 monocyte         8763\n",
       "CD56 bright NK         449\n",
       "CMP                    425\n",
       "                      ... \n",
       "schwann cells            9\n",
       "sinusoidal EC          550\n",
       "stromal macrophage    1464\n",
       "tDC                    193\n",
       "tip EC                 362\n",
       "Length: 64, dtype: int64"
      ]
     },
     "execution_count": 22,
     "metadata": {},
     "output_type": "execute_result"
    }
   ],
   "source": [
    "cell_numbers = adata.obs.groupby([\"cell.labels\"]).apply(len)\n",
    "cell_numbers"
   ]
  },
  {
   "cell_type": "code",
   "execution_count": 23,
   "metadata": {},
   "outputs": [],
   "source": [
    "from scipy import sparse\n",
    "array_vals = adata.X\n",
    "adata.X = sparse.csr_matrix(adata.X)\n",
    "adata.raw = adata\n",
    "adata.X = array_vals"
   ]
  },
  {
   "cell_type": "code",
   "execution_count": 24,
   "metadata": {},
   "outputs": [],
   "source": [
    "adata = adata[adata.obs['cell.labels'].isin(['CD56 bright NK', 'mature NK'])].copy()"
   ]
  },
  {
   "cell_type": "code",
   "execution_count": 25,
   "metadata": {},
   "outputs": [
    {
     "data": {
      "text/plain": [
       "cell.labels\n",
       "CD56 bright NK    449\n",
       "mature NK         136\n",
       "dtype: int64"
      ]
     },
     "execution_count": 25,
     "metadata": {},
     "output_type": "execute_result"
    }
   ],
   "source": [
    "cell_numbers = adata.obs.groupby([\"cell.labels\"]).apply(len)\n",
    "cell_numbers"
   ]
  },
  {
   "cell_type": "code",
   "execution_count": 26,
   "metadata": {},
   "outputs": [],
   "source": [
    "adata.obs[\"dataset\"] = \"FBM\""
   ]
  },
  {
   "cell_type": "code",
   "execution_count": 27,
   "metadata": {},
   "outputs": [],
   "source": [
    "fbm = adata"
   ]
  },
  {
   "cell_type": "code",
   "execution_count": null,
   "metadata": {},
   "outputs": [],
   "source": []
  },
  {
   "cell_type": "markdown",
   "metadata": {},
   "source": [
    "# Combine the datasets"
   ]
  },
  {
   "cell_type": "code",
   "execution_count": 28,
   "metadata": {},
   "outputs": [],
   "source": [
    "from scipy import sparse\n",
    "\n",
    "objects = [ys, liver, fbm]\n",
    "\n",
    "for i in objects:\n",
    "    array_vals = i.X\n",
    "    i.X = sparse.csr_matrix(i.X)\n",
    "    i.raw = i\n",
    "    i.X = array_vals"
   ]
  },
  {
   "cell_type": "code",
   "execution_count": 29,
   "metadata": {},
   "outputs": [],
   "source": [
    "merged = ys.concatenate(liver, fbm, index_unique=None, join='inner')"
   ]
  },
  {
   "cell_type": "code",
   "execution_count": 30,
   "metadata": {},
   "outputs": [
    {
     "data": {
      "text/plain": [
       "(7341, 27079)"
      ]
     },
     "execution_count": 30,
     "metadata": {},
     "output_type": "execute_result"
    }
   ],
   "source": [
    "merged.shape"
   ]
  },
  {
   "cell_type": "code",
   "execution_count": 31,
   "metadata": {},
   "outputs": [
    {
     "data": {
      "text/plain": [
       "cell.labels\n",
       "CD56 bright NK     449\n",
       "NK                6706\n",
       "NK early            50\n",
       "mature NK          136\n",
       "dtype: int64"
      ]
     },
     "execution_count": 31,
     "metadata": {},
     "output_type": "execute_result"
    }
   ],
   "source": [
    "cell_numbers = merged.obs.groupby([\"cell.labels\"]).apply(len)\n",
    "cell_numbers"
   ]
  },
  {
   "cell_type": "code",
   "execution_count": 32,
   "metadata": {},
   "outputs": [],
   "source": [
    "merged.obs[\"dataset_cell.labels\"] = merged.obs[\"dataset\"].astype(str) + '_' + merged.obs[\"cell.labels\"].astype(str)"
   ]
  },
  {
   "cell_type": "code",
   "execution_count": 33,
   "metadata": {},
   "outputs": [
    {
     "data": {
      "text/plain": [
       "dataset_cell.labels\n",
       "FBM_CD56 bright NK     449\n",
       "FBM_mature NK          136\n",
       "liver_NK              6706\n",
       "ys_NK early             50\n",
       "dtype: int64"
      ]
     },
     "execution_count": 33,
     "metadata": {},
     "output_type": "execute_result"
    }
   ],
   "source": [
    "cell_numbers = merged.obs.groupby([\"dataset_cell.labels\"]).apply(len)\n",
    "cell_numbers"
   ]
  },
  {
   "cell_type": "markdown",
   "metadata": {},
   "source": [
    "# Pre-process the data"
   ]
  },
  {
   "cell_type": "code",
   "execution_count": 34,
   "metadata": {},
   "outputs": [],
   "source": [
    "adata=merged"
   ]
  },
  {
   "cell_type": "code",
   "execution_count": 35,
   "metadata": {},
   "outputs": [],
   "source": [
    "# normalise count data \n",
    "sc.pp.normalize_total(adata)"
   ]
  },
  {
   "cell_type": "code",
   "execution_count": 36,
   "metadata": {},
   "outputs": [],
   "source": [
    "# log the count data \n",
    "sc.pp.log1p(adata)"
   ]
  },
  {
   "cell_type": "code",
   "execution_count": 37,
   "metadata": {},
   "outputs": [],
   "source": [
    "# find variable genes\n",
    "sc.pp.highly_variable_genes(adata, min_mean=0.0125, max_mean=3, min_disp=0.5) "
   ]
  },
  {
   "cell_type": "code",
   "execution_count": 38,
   "metadata": {},
   "outputs": [],
   "source": [
    "# scale the data \n",
    "sc.pp.scale(adata, max_value=10)\n",
    "# scale the negative values in adata.X (which have been normalised, logged and scaled) to zero \n",
    "adata.X = np.where(adata.X < 0, 0, adata.X)"
   ]
  },
  {
   "cell_type": "code",
   "execution_count": null,
   "metadata": {},
   "outputs": [],
   "source": []
  },
  {
   "cell_type": "markdown",
   "metadata": {},
   "source": [
    "# Import cytotoxicity genes"
   ]
  },
  {
   "cell_type": "code",
   "execution_count": 39,
   "metadata": {},
   "outputs": [],
   "source": [
    "# load file in (cytotoxic genes from KEGG as of 21/07/2020)\n",
    "# https://www.gsea-msigdb.org/gsea/msigdb/geneset_page.jsp?geneSetName=KEGG_NATURAL_KILLER_CELL_MEDIATED_CYTOTOXICITY&keywords=Natural%20killer%20cell%20mediated%20cytotoxicity%20KEGG\n",
    "cytotoxicity_genes_file = '/Users/b8058304/Documents/PhD_work/Coding/manuscript_figs_mk2/resources_for_pipelines/cytotoxicity_genes.csv'\n",
    "cytotoxicity_genes = pd.read_csv(cytotoxicity_genes_file, delimiter=',')\n",
    "cytotoxicity_genes = cytotoxicity_genes[\"KEGG_NATURAL_KILLER_CELL_MEDIATED_CYTOTOXICITY\"].tolist()"
   ]
  },
  {
   "cell_type": "code",
   "execution_count": 40,
   "metadata": {},
   "outputs": [
    {
     "data": {
      "text/plain": [
       "['ARAF',\n",
       " 'BID',\n",
       " 'BRAF',\n",
       " 'CASP3',\n",
       " 'CD244',\n",
       " 'CD247',\n",
       " 'CD48',\n",
       " 'CHP1',\n",
       " 'CHP2',\n",
       " 'CSF2',\n",
       " 'FAS',\n",
       " 'FASLG',\n",
       " 'FCER1G',\n",
       " 'FCGR3A',\n",
       " 'FCGR3B',\n",
       " 'FYN',\n",
       " 'GRB2',\n",
       " 'GZMB',\n",
       " 'HCST',\n",
       " 'HLA-A',\n",
       " 'HLA-B',\n",
       " 'HLA-C',\n",
       " 'HLA-E',\n",
       " 'HLA-G',\n",
       " 'HRAS',\n",
       " 'ICAM1',\n",
       " 'ICAM2',\n",
       " 'IFNA1',\n",
       " 'IFNA10',\n",
       " 'IFNA13',\n",
       " 'IFNA14',\n",
       " 'IFNA16',\n",
       " 'IFNA17',\n",
       " 'IFNA2',\n",
       " 'IFNA21',\n",
       " 'IFNA4',\n",
       " 'IFNA5',\n",
       " 'IFNA6',\n",
       " 'IFNA7',\n",
       " 'IFNA8',\n",
       " 'IFNAR1',\n",
       " 'IFNAR2',\n",
       " 'IFNB1',\n",
       " 'IFNG',\n",
       " 'IFNGR1',\n",
       " 'IFNGR2',\n",
       " 'ITGAL',\n",
       " 'ITGB2',\n",
       " 'KIR2DL1',\n",
       " 'KIR2DL2',\n",
       " 'KIR2DL3',\n",
       " 'KIR2DL4',\n",
       " 'KIR2DL5A',\n",
       " 'KIR2DS1',\n",
       " 'KIR2DS3',\n",
       " 'KIR2DS4',\n",
       " 'KIR2DS5',\n",
       " 'KIR3DL1',\n",
       " 'KIR3DL2',\n",
       " 'KLRC1',\n",
       " 'KLRC2',\n",
       " 'KLRC3',\n",
       " 'KLRD1',\n",
       " 'KLRK1',\n",
       " 'KRAS',\n",
       " 'LAT',\n",
       " 'LCK',\n",
       " 'LCP2',\n",
       " 'MAP2K1',\n",
       " 'MAP2K2',\n",
       " 'MAPK1',\n",
       " 'MAPK3',\n",
       " 'MICA',\n",
       " 'MICB',\n",
       " 'NCR1',\n",
       " 'NCR2',\n",
       " 'NCR3',\n",
       " 'NFAT5',\n",
       " 'NFATC1',\n",
       " 'NFATC2',\n",
       " 'NFATC3',\n",
       " 'NFATC4',\n",
       " 'NRAS',\n",
       " 'PAK1',\n",
       " 'PIK3CA',\n",
       " 'PIK3CB',\n",
       " 'PIK3CD',\n",
       " 'PIK3CG',\n",
       " 'PIK3R1',\n",
       " 'PIK3R2',\n",
       " 'PIK3R3',\n",
       " 'PIK3R5',\n",
       " 'PLCG1',\n",
       " 'PLCG2',\n",
       " 'PPP3CA',\n",
       " 'PPP3CB',\n",
       " 'PPP3CC',\n",
       " 'PPP3R1',\n",
       " 'PPP3R2',\n",
       " 'PRF1',\n",
       " 'PRKCA',\n",
       " 'PRKCB',\n",
       " 'PRKCG',\n",
       " 'PTK2B',\n",
       " 'PTPN11',\n",
       " 'PTPN6',\n",
       " 'RAC1',\n",
       " 'RAC2',\n",
       " 'RAC3',\n",
       " 'RAET1E',\n",
       " 'RAET1G',\n",
       " 'RAET1L',\n",
       " 'RAF1',\n",
       " 'SH2D1A',\n",
       " 'SH2D1B',\n",
       " 'SH3BP2',\n",
       " 'SHC1',\n",
       " 'SHC2',\n",
       " 'SHC3',\n",
       " 'SHC4',\n",
       " 'SOS1',\n",
       " 'SOS2',\n",
       " 'SYK',\n",
       " 'TNF',\n",
       " 'TNFRSF10A',\n",
       " 'TNFRSF10B',\n",
       " 'TNFRSF10C',\n",
       " 'TNFRSF10D',\n",
       " 'TNFSF10',\n",
       " 'TYROBP',\n",
       " 'ULBP1',\n",
       " 'ULBP2',\n",
       " 'ULBP3',\n",
       " 'VAV1',\n",
       " 'VAV2',\n",
       " 'VAV3',\n",
       " 'ZAP70']"
      ]
     },
     "execution_count": 40,
     "metadata": {},
     "output_type": "execute_result"
    }
   ],
   "source": [
    "cytotoxicity_genes"
   ]
  },
  {
   "cell_type": "code",
   "execution_count": 41,
   "metadata": {},
   "outputs": [
    {
     "name": "stdout",
     "output_type": "stream",
     "text": [
      "WARNING: gene: IFNA1 is not in adata.var_names and will be ignored\n",
      "WARNING: gene: IFNA10 is not in adata.var_names and will be ignored\n",
      "WARNING: gene: IFNA13 is not in adata.var_names and will be ignored\n",
      "WARNING: gene: IFNA14 is not in adata.var_names and will be ignored\n",
      "WARNING: gene: IFNA16 is not in adata.var_names and will be ignored\n",
      "WARNING: gene: IFNA17 is not in adata.var_names and will be ignored\n",
      "WARNING: gene: IFNA21 is not in adata.var_names and will be ignored\n",
      "WARNING: gene: IFNA4 is not in adata.var_names and will be ignored\n",
      "WARNING: gene: IFNA6 is not in adata.var_names and will be ignored\n",
      "WARNING: gene: IFNA7 is not in adata.var_names and will be ignored\n",
      "WARNING: gene: KIR2DL2 is not in adata.var_names and will be ignored\n",
      "WARNING: gene: KIR2DL5A is not in adata.var_names and will be ignored\n",
      "WARNING: gene: KIR2DS1 is not in adata.var_names and will be ignored\n",
      "WARNING: gene: KIR2DS3 is not in adata.var_names and will be ignored\n",
      "WARNING: gene: KIR2DS4 is not in adata.var_names and will be ignored\n",
      "WARNING: gene: KIR2DS5 is not in adata.var_names and will be ignored\n",
      "WARNING: gene: PPP3R2 is not in adata.var_names and will be ignored\n",
      "WARNING: gene: RAET1L is not in adata.var_names and will be ignored\n"
     ]
    }
   ],
   "source": [
    "sc.tl.score_genes(adata, gene_list = cytotoxicity_genes, score_name=\"cytotoxicity_score\")"
   ]
  },
  {
   "cell_type": "code",
   "execution_count": null,
   "metadata": {},
   "outputs": [],
   "source": []
  },
  {
   "cell_type": "code",
   "execution_count": null,
   "metadata": {},
   "outputs": [],
   "source": []
  },
  {
   "cell_type": "markdown",
   "metadata": {},
   "source": [
    "# Reorder the celltype/tissue metadata col (in prep for heatmap)"
   ]
  },
  {
   "cell_type": "code",
   "execution_count": 42,
   "metadata": {},
   "outputs": [
    {
     "data": {
      "text/plain": [
       "array(['ys_NK early', 'liver_NK', 'FBM_mature NK', 'FBM_CD56 bright NK'],\n",
       "      dtype=object)"
      ]
     },
     "execution_count": 42,
     "metadata": {},
     "output_type": "execute_result"
    }
   ],
   "source": [
    "# order tissue_cell.labels column\n",
    "\n",
    "adata.obs[\"dataset_cell.labels\"].unique()"
   ]
  },
  {
   "cell_type": "code",
   "execution_count": 43,
   "metadata": {},
   "outputs": [],
   "source": [
    "# order tissue_cell.labels column\n",
    "\n",
    "adata.obs[\"dataset_cell.labels\"] = adata.obs[\"dataset_cell.labels\"].astype(\"category\")\n",
    "\n",
    "adata.obs[\"dataset_cell.labels\"] = adata.obs[\"dataset_cell.labels\"].cat.reorder_categories([\n",
    "       'ys_NK early', \n",
    "       'liver_NK', 'FBM_CD56 bright NK', 'FBM_mature NK'])"
   ]
  },
  {
   "cell_type": "code",
   "execution_count": 44,
   "metadata": {},
   "outputs": [
    {
     "data": {
      "text/plain": [
       "[ys_NK early, liver_NK, FBM_mature NK, FBM_CD56 bright NK]\n",
       "Categories (4, object): [ys_NK early, liver_NK, FBM_mature NK, FBM_CD56 bright NK]"
      ]
     },
     "execution_count": 44,
     "metadata": {},
     "output_type": "execute_result"
    }
   ],
   "source": [
    "adata.obs[\"dataset_cell.labels\"].unique()"
   ]
  },
  {
   "cell_type": "code",
   "execution_count": 45,
   "metadata": {},
   "outputs": [
    {
     "data": {
      "text/html": [
       "<div>\n",
       "<style scoped>\n",
       "    .dataframe tbody tr th:only-of-type {\n",
       "        vertical-align: middle;\n",
       "    }\n",
       "\n",
       "    .dataframe tbody tr th {\n",
       "        vertical-align: top;\n",
       "    }\n",
       "\n",
       "    .dataframe thead th {\n",
       "        text-align: right;\n",
       "    }\n",
       "</style>\n",
       "<table border=\"1\" class=\"dataframe\">\n",
       "  <thead>\n",
       "    <tr style=\"text-align: right;\">\n",
       "      <th></th>\n",
       "      <th>cytotoxicity_score</th>\n",
       "      <th>labels</th>\n",
       "    </tr>\n",
       "    <tr>\n",
       "      <th>index</th>\n",
       "      <th></th>\n",
       "      <th></th>\n",
       "    </tr>\n",
       "  </thead>\n",
       "  <tbody>\n",
       "    <tr>\n",
       "      <th>F32_yolk sac_Total_FCAImmP7316900_AAAGTAGGTCTGATTG</th>\n",
       "      <td>0.088311</td>\n",
       "      <td>ys_NK early</td>\n",
       "    </tr>\n",
       "    <tr>\n",
       "      <th>F32_yolk sac_Total_FCAImmP7316900_ATCGAGTTCACAATGC</th>\n",
       "      <td>-0.000570</td>\n",
       "      <td>ys_NK early</td>\n",
       "    </tr>\n",
       "    <tr>\n",
       "      <th>F32_yolk sac_Total_FCAImmP7316900_CATGCCTAGAATGTTG</th>\n",
       "      <td>-0.007840</td>\n",
       "      <td>ys_NK early</td>\n",
       "    </tr>\n",
       "    <tr>\n",
       "      <th>F32_yolk sac_Total_FCAImmP7316900_CGTAGCGTCTTACCGC</th>\n",
       "      <td>0.081079</td>\n",
       "      <td>ys_NK early</td>\n",
       "    </tr>\n",
       "    <tr>\n",
       "      <th>F32_yolk sac_Total_FCAImmP7316900_GACGCGTTCCTAGTGA</th>\n",
       "      <td>0.248022</td>\n",
       "      <td>ys_NK early</td>\n",
       "    </tr>\n",
       "    <tr>\n",
       "      <th>...</th>\n",
       "      <td>...</td>\n",
       "      <td>...</td>\n",
       "    </tr>\n",
       "    <tr>\n",
       "      <th>ACGGTCGCATGTTTGG-1-WSSS_F_BON8710643</th>\n",
       "      <td>0.320026</td>\n",
       "      <td>FBM_CD56 bright NK</td>\n",
       "    </tr>\n",
       "    <tr>\n",
       "      <th>CTGCCTACACGGGTAA-1-WSSS_F_BON8710643</th>\n",
       "      <td>0.090276</td>\n",
       "      <td>FBM_CD56 bright NK</td>\n",
       "    </tr>\n",
       "    <tr>\n",
       "      <th>GTGCGTGAGCCTGGAA-1-WSSS_F_BON8710643</th>\n",
       "      <td>0.221904</td>\n",
       "      <td>FBM_CD56 bright NK</td>\n",
       "    </tr>\n",
       "    <tr>\n",
       "      <th>TGGAGAGCACCTGAAT-1-WSSS_F_BON8710643</th>\n",
       "      <td>0.124076</td>\n",
       "      <td>FBM_CD56 bright NK</td>\n",
       "    </tr>\n",
       "    <tr>\n",
       "      <th>TTCTTGATCTAACACG-1-WSSS_F_BON8710643</th>\n",
       "      <td>0.147210</td>\n",
       "      <td>FBM_CD56 bright NK</td>\n",
       "    </tr>\n",
       "  </tbody>\n",
       "</table>\n",
       "<p>7341 rows × 2 columns</p>\n",
       "</div>"
      ],
      "text/plain": [
       "                                                    cytotoxicity_score  \\\n",
       "index                                                                    \n",
       "F32_yolk sac_Total_FCAImmP7316900_AAAGTAGGTCTGATTG            0.088311   \n",
       "F32_yolk sac_Total_FCAImmP7316900_ATCGAGTTCACAATGC           -0.000570   \n",
       "F32_yolk sac_Total_FCAImmP7316900_CATGCCTAGAATGTTG           -0.007840   \n",
       "F32_yolk sac_Total_FCAImmP7316900_CGTAGCGTCTTACCGC            0.081079   \n",
       "F32_yolk sac_Total_FCAImmP7316900_GACGCGTTCCTAGTGA            0.248022   \n",
       "...                                                                ...   \n",
       "ACGGTCGCATGTTTGG-1-WSSS_F_BON8710643                          0.320026   \n",
       "CTGCCTACACGGGTAA-1-WSSS_F_BON8710643                          0.090276   \n",
       "GTGCGTGAGCCTGGAA-1-WSSS_F_BON8710643                          0.221904   \n",
       "TGGAGAGCACCTGAAT-1-WSSS_F_BON8710643                          0.124076   \n",
       "TTCTTGATCTAACACG-1-WSSS_F_BON8710643                          0.147210   \n",
       "\n",
       "                                                                labels  \n",
       "index                                                                   \n",
       "F32_yolk sac_Total_FCAImmP7316900_AAAGTAGGTCTGATTG         ys_NK early  \n",
       "F32_yolk sac_Total_FCAImmP7316900_ATCGAGTTCACAATGC         ys_NK early  \n",
       "F32_yolk sac_Total_FCAImmP7316900_CATGCCTAGAATGTTG         ys_NK early  \n",
       "F32_yolk sac_Total_FCAImmP7316900_CGTAGCGTCTTACCGC         ys_NK early  \n",
       "F32_yolk sac_Total_FCAImmP7316900_GACGCGTTCCTAGTGA         ys_NK early  \n",
       "...                                                                ...  \n",
       "ACGGTCGCATGTTTGG-1-WSSS_F_BON8710643                FBM_CD56 bright NK  \n",
       "CTGCCTACACGGGTAA-1-WSSS_F_BON8710643                FBM_CD56 bright NK  \n",
       "GTGCGTGAGCCTGGAA-1-WSSS_F_BON8710643                FBM_CD56 bright NK  \n",
       "TGGAGAGCACCTGAAT-1-WSSS_F_BON8710643                FBM_CD56 bright NK  \n",
       "TTCTTGATCTAACACG-1-WSSS_F_BON8710643                FBM_CD56 bright NK  \n",
       "\n",
       "[7341 rows x 2 columns]"
      ]
     },
     "execution_count": 45,
     "metadata": {},
     "output_type": "execute_result"
    }
   ],
   "source": [
    "# save cell cycle scores within metadata as a dataframe (called enrichement scores)\n",
    "adata.obs[\"labels\"] = adata.obs[\"dataset_cell.labels\"]\n",
    "meta = pd.DataFrame(adata.obs)\n",
    "enrichment_scores_df = meta[meta.columns[-2:]]\n",
    "enrichment_scores_df"
   ]
  },
  {
   "cell_type": "code",
   "execution_count": 46,
   "metadata": {},
   "outputs": [
    {
     "data": {
      "text/html": [
       "<div>\n",
       "<style scoped>\n",
       "    .dataframe tbody tr th:only-of-type {\n",
       "        vertical-align: middle;\n",
       "    }\n",
       "\n",
       "    .dataframe tbody tr th {\n",
       "        vertical-align: top;\n",
       "    }\n",
       "\n",
       "    .dataframe thead th {\n",
       "        text-align: right;\n",
       "    }\n",
       "</style>\n",
       "<table border=\"1\" class=\"dataframe\">\n",
       "  <thead>\n",
       "    <tr style=\"text-align: right;\">\n",
       "      <th>labels</th>\n",
       "      <th>ys_NK early</th>\n",
       "      <th>liver_NK</th>\n",
       "      <th>FBM_CD56 bright NK</th>\n",
       "      <th>FBM_mature NK</th>\n",
       "    </tr>\n",
       "  </thead>\n",
       "  <tbody>\n",
       "    <tr>\n",
       "      <th>cytotoxicity_score</th>\n",
       "      <td>0.066346</td>\n",
       "      <td>0.107769</td>\n",
       "      <td>0.19632</td>\n",
       "      <td>0.363497</td>\n",
       "    </tr>\n",
       "  </tbody>\n",
       "</table>\n",
       "</div>"
      ],
      "text/plain": [
       "labels              ys_NK early  liver_NK  FBM_CD56 bright NK  FBM_mature NK\n",
       "cytotoxicity_score     0.066346  0.107769             0.19632       0.363497"
      ]
     },
     "execution_count": 46,
     "metadata": {},
     "output_type": "execute_result"
    }
   ],
   "source": [
    "# calculate mean enrichment scores by celltype\n",
    "mean_enrichment_scores_df = enrichment_scores_df.groupby('labels').mean()\n",
    "mean_enrichment_scores_df = mean_enrichment_scores_df.T\n",
    "mean_enrichment_scores_df = mean_enrichment_scores_df.sort_index()\n",
    "mean_enrichment_scores_df"
   ]
  },
  {
   "cell_type": "markdown",
   "metadata": {},
   "source": [
    "# Run heatmap"
   ]
  },
  {
   "cell_type": "code",
   "execution_count": 47,
   "metadata": {
    "scrolled": false
   },
   "outputs": [
    {
     "data": {
      "image/png": "[encoded data removed]",
      "text/plain": [
       "<Figure size 600x240 with 2 Axes>"
      ]
     },
     "metadata": {
      "image/png": {
       "height": 472,
       "width": 521
      },
      "needs_background": "light"
     },
     "output_type": "display_data"
    },
    {
     "data": {
      "image/png": "[encoded data removed]",
      "text/plain": [
       "<Figure size 600x240 with 2 Axes>"
      ]
     },
     "metadata": {
      "image/png": {
       "height": 472,
       "width": 521
      },
      "needs_background": "light"
     },
     "output_type": "display_data"
    }
   ],
   "source": [
    "plt.figure(figsize=(5, 2))\n",
    "fig = sns.heatmap(mean_enrichment_scores_df, annot=True, fmt=\".2\", annot_kws={\"size\": 5}, cmap=\"RdYlBu_r\").get_figure() #xticklabels=cell_label_order, yticklabels=cell_label_order,\n",
    "# fix for mpl bug that cuts off top/bottom of seaborn viz\n",
    "b, t = plt.ylim() # discover the values for bottom and top\n",
    "b += 0.5 # Add 0.5 to the bottom\n",
    "t -= 0.5 # Subtract 0.5 from the top\n",
    "plt.ylim(b, t) # update the ylim(bottom, top) values\n",
    "fig.savefig(\"figures/fig2g_nk_cyto_cross_tissue_comparison_numbers_yes_20210111.pdf\")\n",
    "\n",
    "plt.figure(figsize=(5, 2))\n",
    "fig = sns.heatmap(mean_enrichment_scores_df, cmap=\"RdYlBu_r\").get_figure() \n",
    "# fix for mpl bug that cuts off top/bottom of seaborn viz\n",
    "b, t = plt.ylim() # discover the values for bottom and top\n",
    "b += 0.5 # Add 0.5 to the bottom\n",
    "t -= 0.5 # Subtract 0.5 from the top\n",
    "plt.ylim(b, t) # update the ylim(bottom, top) values\n",
    "fig.savefig(\"figures/fig2g_nk_cyto_cross_tissue_comparison_numbers_no_20210111.pdf\")"
   ]
  },
  {
   "cell_type": "code",
   "execution_count": null,
   "metadata": {},
   "outputs": [],
   "source": []
  },
  {
   "cell_type": "code",
   "execution_count": null,
   "metadata": {},
   "outputs": [],
   "source": []
  },
  {
   "cell_type": "code",
   "execution_count": null,
   "metadata": {},
   "outputs": [],
   "source": []
  },
  {
   "cell_type": "code",
   "execution_count": null,
   "metadata": {},
   "outputs": [],
   "source": []
  },
  {
   "cell_type": "code",
   "execution_count": null,
   "metadata": {},
   "outputs": [],
   "source": []
  },
  {
   "cell_type": "code",
   "execution_count": null,
   "metadata": {},
   "outputs": [],
   "source": []
  },
  {
   "cell_type": "markdown",
   "metadata": {},
   "source": [
    "# Save the data"
   ]
  },
  {
   "cell_type": "code",
   "execution_count": 48,
   "metadata": {},
   "outputs": [],
   "source": [
    "from scipy.sparse import csr_matrix\n",
    "adata.X = sparse.csr_matrix(adata.X)"
   ]
  },
  {
   "cell_type": "code",
   "execution_count": 49,
   "metadata": {},
   "outputs": [
    {
     "data": {
      "text/plain": [
       "<7341x27079 sparse matrix of type '<class 'numpy.float32'>'\n",
       "\twith 14322151 stored elements in Compressed Sparse Row format>"
      ]
     },
     "execution_count": 49,
     "metadata": {},
     "output_type": "execute_result"
    }
   ],
   "source": [
    "adata.X"
   ]
  },
  {
   "cell_type": "code",
   "execution_count": 50,
   "metadata": {},
   "outputs": [
    {
     "data": {
      "text/plain": [
       "<7341x27079 sparse matrix of type '<class 'numpy.float32'>'\n",
       "\twith 15987297 stored elements in Compressed Sparse Row format>"
      ]
     },
     "execution_count": 50,
     "metadata": {},
     "output_type": "execute_result"
    }
   ],
   "source": [
    "adata.raw.X"
   ]
  },
  {
   "cell_type": "code",
   "execution_count": 51,
   "metadata": {},
   "outputs": [
    {
     "name": "stderr",
     "output_type": "stream",
     "text": [
      "... storing 'AnnatomicalPart' as categorical\n",
      "... storing 'april_cell.labels' as categorical\n",
      "... storing 'backlabeled_1' as categorical\n",
      "... storing 'cell.labels' as categorical\n",
      "... storing 'cell.labels_20200708' as categorical\n",
      "... storing 'cell.labels_20200713' as categorical\n",
      "... storing 'cell.labels_20200718' as categorical\n",
      "... storing 'cell.labels_progen' as categorical\n",
      "... storing 'combined.labels' as categorical\n",
      "... storing 'dataset' as categorical\n",
      "... storing 'doublets' as categorical\n",
      "... storing 'fetal.ids' as categorical\n",
      "... storing 'full.ids' as categorical\n",
      "... storing 'gender' as categorical\n",
      "... storing 'is_doublet' as categorical\n",
      "... storing 'is_doublet_poptrim' as categorical\n",
      "... storing 'is_doublet_wolock' as categorical\n",
      "... storing 'lanes' as categorical\n",
      "... storing 'mito.threshold' as categorical\n",
      "... storing 'nk_meta' as categorical\n",
      "... storing 'orig.ident' as categorical\n",
      "... storing 'processing.type' as categorical\n",
      "... storing 'sample' as categorical\n",
      "... storing 'sample.type' as categorical\n",
      "... storing 'sequencing.type' as categorical\n",
      "... storing 'sort.ids' as categorical\n",
      "... storing 'stages' as categorical\n",
      "... storing 'tissue' as categorical\n"
     ]
    }
   ],
   "source": [
    "adata.write(\"/Users/b8058304/Documents/PhD_work/Coding/manuscript_figs_mk2/data/fig2g_nk_cyto_cross_tissue_20210111.h5ad\")"
   ]
  },
  {
   "cell_type": "code",
   "execution_count": null,
   "metadata": {},
   "outputs": [],
   "source": []
  },
  {
   "cell_type": "code",
   "execution_count": null,
   "metadata": {},
   "outputs": [],
   "source": []
  },
  {
   "cell_type": "code",
   "execution_count": null,
   "metadata": {},
   "outputs": [],
   "source": []
  },
  {
   "cell_type": "code",
   "execution_count": null,
   "metadata": {},
   "outputs": [],
   "source": []
  },
  {
   "cell_type": "code",
   "execution_count": null,
   "metadata": {},
   "outputs": [],
   "source": []
  },
  {
   "cell_type": "code",
   "execution_count": null,
   "metadata": {},
   "outputs": [],
   "source": []
  }
 ],
 "metadata": {
  "kernelspec": {
   "display_name": "Python 3",
   "language": "python",
   "name": "python3"
  },
  "language_info": {
   "codemirror_mode": {
    "name": "ipython",
    "version": 3
   },
   "file_extension": ".py",
   "mimetype": "text/x-python",
   "name": "python",
   "nbconvert_exporter": "python",
   "pygments_lexer": "ipython3",
   "version": "3.6.4"
  }
 },
 "nbformat": 4,
 "nbformat_minor": 2
}
