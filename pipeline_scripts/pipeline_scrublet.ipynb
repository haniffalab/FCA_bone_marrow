{
 "cells": [
  {
   "cell_type": "markdown",
   "metadata": {},
   "source": [
    "# Import packages and data "
   ]
  },
  {
   "cell_type": "markdown",
   "metadata": {},
   "source": [
    "#### created by SW and based on PV script (for HCA skin analysis)"
   ]
  },
  {
   "cell_type": "code",
   "execution_count": null,
   "metadata": {
    "scrolled": true
   },
   "outputs": [],
   "source": [
    "#%% Import\n",
    "import matplotlib.pyplot as plt\n",
    "import numpy as np\n",
    "import pandas as pd\n",
    "import scanpy as sc \n",
    "import scrublet as scr\n",
    "from statsmodels import robust\n",
    "import sys\n",
    "import os.path"
   ]
  },
  {
   "cell_type": "code",
   "execution_count": null,
   "metadata": {
    "scrolled": true
   },
   "outputs": [],
   "source": [
    "sc.settings.verbosity = 1  # verbosity: errors (0), warnings (1), info (2), hints (3)\n",
    "sc.logging.print_versions()"
   ]
  },
  {
   "cell_type": "code",
   "execution_count": null,
   "metadata": {
    "scrolled": true
   },
   "outputs": [],
   "source": [
    "# Set up the plot config for viewing the annotation clearly.\n",
    "sc.settings.set_figure_params(dpi=300)\n",
    "pd.set_option('display.max_rows', 500)\n",
    "pd.set_option('display.max_columns', 500)\n",
    "pd.set_option('display.width', 1000)"
   ]
  },
  {
   "cell_type": "markdown",
   "metadata": {},
   "source": [
    "# Load in raw dataset"
   ]
  },
  {
   "cell_type": "code",
   "execution_count": null,
   "metadata": {},
   "outputs": [],
   "source": [
    "adata = sc.read('raw_pre_scrublet.h5ad')"
   ]
  },
  {
   "cell_type": "code",
   "execution_count": null,
   "metadata": {},
   "outputs": [],
   "source": [
    "adata.var_names_make_unique()"
   ]
  },
  {
   "cell_type": "code",
   "execution_count": null,
   "metadata": {},
   "outputs": [],
   "source": [
    "adata"
   ]
  },
  {
   "cell_type": "code",
   "execution_count": null,
   "metadata": {
    "scrolled": true
   },
   "outputs": [],
   "source": [
    "adata.obs"
   ]
  },
  {
   "cell_type": "markdown",
   "metadata": {},
   "source": [
    "# Running scrublet according to Peter Vegh script"
   ]
  },
  {
   "cell_type": "code",
   "execution_count": null,
   "metadata": {},
   "outputs": [],
   "source": [
    "#%% Scrublet\n",
    "meta_10x_channels = 'lanes'"
   ]
  },
  {
   "cell_type": "code",
   "execution_count": null,
   "metadata": {},
   "outputs": [],
   "source": [
    "RUNs, DSs, CELLs, THRs, MEDs, MADs, CUTs, no_thr = [], [], [], [], [], [], [], []\n",
    "\n",
    "# Loop through channels in anndata object:\n",
    "orig_stdout = sys.stdout\n",
    "sys.stdout = open('scrublet_output/scrublet_output_file_mad.txt', 'w')\n",
    "\n",
    "for run in adata.obs[meta_10x_channels].unique():\n",
    "    print(run)\n",
    "    ad = adata[adata.obs[meta_10x_channels] == run, :]\n",
    "    x = ad.X\n",
    "    scrub = scr.Scrublet(x)\n",
    "    ds, prd = scrub.scrub_doublets()\n",
    "    RUNs.append(run)\n",
    "    DSs.append(ds)\n",
    "    CELLs.append(ad.obs_names)\n",
    "    # MAD calculation of threshold:\n",
    "    MED = np.median(ds)\n",
    "    MAD = robust.mad(ds)\n",
    "    CUT = (MED + (3 * MAD))\n",
    "    MEDs.append(MED)\n",
    "    MADs.append(MAD)\n",
    "    CUTs.append(CUT)\n",
    "\n",
    "    try:  # not always can calculate automatic threshold\n",
    "        THRs.append(scrub.threshold_)\n",
    "        print('Threshold found by scrublet')\n",
    "    except:\n",
    "        THRs.append(0.4)\n",
    "        no_thr.append(run)\n",
    "        print('No threshold found, assigning 0.4 to', run)\n",
    "        scrub.call_doublets(threshold=0.4) # so that it can make the plot\n",
    "    fig = scrub.plot_histogram()\n",
    "    fig[0].savefig('scrublet_output/' + run + '.png')\n",
    "\n",
    "    # Alternative histogram for MAD-based cutoff\n",
    "    scrub.call_doublets(threshold=CUT)\n",
    "    fig = scrub.plot_histogram()\n",
    "    fig[0].savefig('scrublet_output/' + run + '_mad_' + '.png')\n",
    "    plt.close('all')\n",
    "    print()\n",
    "    print()\n",
    "\n",
    "print()\n",
    "print('The following sample(s) do not have automatic threshold:')\n",
    "print(no_thr)"
   ]
  },
  {
   "cell_type": "code",
   "execution_count": null,
   "metadata": {},
   "outputs": [],
   "source": [
    "sys.stdout.close()\n",
    "sys.stdout = orig_stdout\n",
    "\n",
    "ns = np.array(list(map(len, DSs)))\n",
    "\n",
    "tbl = pd.DataFrame({\n",
    "    'run': np.repeat(RUNs, ns),\n",
    "    'ds': np.concatenate(DSs),\n",
    "    'thr': np.repeat(THRs, ns),\n",
    "    'mad_MED': np.repeat(MEDs, ns),\n",
    "    'mad_MAD': np.repeat(MADs, ns),\n",
    "    'mad_thr': np.repeat(CUTs, ns),\n",
    "    }, index=np.concatenate(CELLs))\n",
    "\n",
    "tbl['auto_prd'] = tbl['ds'] > tbl['thr']\n",
    "tbl['mad_prd'] = tbl['ds'] > tbl['mad_thr']\n",
    "\n",
    "tbl.to_csv('scrublet_output/doublets_score_mad.csv', header=True, index=True)"
   ]
  },
  {
   "cell_type": "code",
   "execution_count": null,
   "metadata": {},
   "outputs": [],
   "source": [
    "adata.obs[\"mad_prd\"] = tbl['mad_prd']"
   ]
  },
  {
   "cell_type": "code",
   "execution_count": null,
   "metadata": {},
   "outputs": [],
   "source": [
    "adata.obs[\"auto_prd\"] = tbl['auto_prd']"
   ]
  },
  {
   "cell_type": "code",
   "execution_count": null,
   "metadata": {},
   "outputs": [],
   "source": [
    "adata.obs"
   ]
  },
  {
   "cell_type": "code",
   "execution_count": null,
   "metadata": {},
   "outputs": [],
   "source": [
    "adata.obs['mad_prd'] = adata.obs['mad_prd'].astype(\"str\") "
   ]
  },
  {
   "cell_type": "code",
   "execution_count": null,
   "metadata": {},
   "outputs": [],
   "source": [
    "adata.obs['auto_prd'] = adata.obs['auto_prd'].astype(\"str\") "
   ]
  },
  {
   "cell_type": "code",
   "execution_count": null,
   "metadata": {},
   "outputs": [],
   "source": [
    "adata_singlet = adata[adata.obs['mad_prd'].isin([\"False\"])].copy()"
   ]
  },
  {
   "cell_type": "code",
   "execution_count": null,
   "metadata": {},
   "outputs": [],
   "source": [
    "adata_singlet.obs"
   ]
  },
  {
   "cell_type": "code",
   "execution_count": null,
   "metadata": {},
   "outputs": [],
   "source": [
    "adata_singlet"
   ]
  },
  {
   "cell_type": "code",
   "execution_count": null,
   "metadata": {
    "scrolled": true
   },
   "outputs": [],
   "source": [
    "print(adata_singlet.obs['lanes'].value_counts())"
   ]
  },
  {
   "cell_type": "markdown",
   "metadata": {},
   "source": [
    "# Savings singlets from downs bone marrow dataset"
   ]
  },
  {
   "cell_type": "code",
   "execution_count": null,
   "metadata": {},
   "outputs": [],
   "source": [
    "adata_singlet.write('raw.h5ad')"
   ]
  }
 ],
 "metadata": {
  "kernelspec": {
   "display_name": "Python 3",
   "language": "python",
   "name": "python3"
  },
  "language_info": {
   "codemirror_mode": {
    "name": "ipython",
    "version": 3
   },
   "file_extension": ".py",
   "mimetype": "text/x-python",
   "name": "python",
   "nbconvert_exporter": "python",
   "pygments_lexer": "ipython3",
   "version": "3.6.4"
  }
 },
 "nbformat": 4,
 "nbformat_minor": 2
}
