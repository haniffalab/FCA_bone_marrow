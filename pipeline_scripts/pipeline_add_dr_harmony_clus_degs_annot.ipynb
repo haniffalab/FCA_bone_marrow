{
 "cells": [
  {
   "cell_type": "markdown",
   "metadata": {},
   "source": [
    "# Import packages and data "
   ]
  },
  {
   "cell_type": "code",
   "execution_count": null,
   "metadata": {},
   "outputs": [],
   "source": [
    "import numpy as np\n",
    "import pandas as pd\n",
    "import scanpy as sc\n",
    "import seaborn as sns\n",
    "import scipy.stats\n",
    "import anndata\n",
    "import matplotlib.pyplot as plt\n",
    "import matplotlib as mpl\n",
    "from matplotlib.axes._axes import _log as matplotlib_axes_logger\n",
    "from scipy import sparse\n",
    "matplotlib_axes_logger.setLevel('ERROR')"
   ]
  },
  {
   "cell_type": "code",
   "execution_count": null,
   "metadata": {},
   "outputs": [],
   "source": [
    "sc.settings.verbosity = 1  # verbosity: errors (0), warnings (1), info (2), hints (3)\n",
    "# Set up the plot config for viewing the annotation clearly.\n",
    "sc.settings.set_figure_params(dpi=120, dpi_save=1000)\n",
    "sc.logging.print_versions()"
   ]
  },
  {
   "cell_type": "code",
   "execution_count": null,
   "metadata": {},
   "outputs": [],
   "source": [
    "adata = sc.read('raw_data.h5ad')"
   ]
  },
  {
   "cell_type": "code",
   "execution_count": null,
   "metadata": {},
   "outputs": [],
   "source": [
    "adata"
   ]
  },
  {
   "cell_type": "markdown",
   "metadata": {},
   "source": [
    "# Pre-process and add dr"
   ]
  },
  {
   "cell_type": "code",
   "execution_count": null,
   "metadata": {},
   "outputs": [],
   "source": [
    "adata"
   ]
  },
  {
   "cell_type": "code",
   "execution_count": null,
   "metadata": {},
   "outputs": [],
   "source": [
    "# normalise count data \n",
    "sc.pp.normalize_total(adata)"
   ]
  },
  {
   "cell_type": "code",
   "execution_count": null,
   "metadata": {},
   "outputs": [],
   "source": [
    "# log the count data \n",
    "sc.pp.log1p(adata)"
   ]
  },
  {
   "cell_type": "code",
   "execution_count": null,
   "metadata": {},
   "outputs": [],
   "source": [
    "# find variable genes\n",
    "sc.pp.highly_variable_genes(adata, min_mean=0.0125, max_mean=3, min_disp=0.5) "
   ]
  },
  {
   "cell_type": "code",
   "execution_count": null,
   "metadata": {},
   "outputs": [],
   "source": [
    "# scale the data \n",
    "sc.pp.scale(adata, max_value=10)"
   ]
  },
  {
   "cell_type": "code",
   "execution_count": null,
   "metadata": {},
   "outputs": [],
   "source": [
    "# scale the negative values in adata.X (which have been normalised, logged and scaled) to zero \n",
    "adata.X = np.where(adata.X < 0, 0, adata.X)"
   ]
  },
  {
   "cell_type": "code",
   "execution_count": null,
   "metadata": {},
   "outputs": [],
   "source": [
    "# run pca\n",
    "sc.tl.pca(adata, n_comps=50)"
   ]
  },
  {
   "cell_type": "code",
   "execution_count": null,
   "metadata": {},
   "outputs": [],
   "source": [
    "# have a look at pc's in order to choose number of pcs that will be used downstream \n",
    "sc.pl.pca_variance_ratio(adata, log=True)"
   ]
  },
  {
   "cell_type": "code",
   "execution_count": null,
   "metadata": {},
   "outputs": [],
   "source": [
    "# run snn neighbourhood graph\n",
    "sc.pp.neighbors(adata, n_neighbors=40, n_pcs=10) "
   ]
  },
  {
   "cell_type": "code",
   "execution_count": null,
   "metadata": {},
   "outputs": [],
   "source": [
    "# run umap\n",
    "sc.tl.umap(adata) "
   ]
  },
  {
   "cell_type": "code",
   "execution_count": null,
   "metadata": {},
   "outputs": [],
   "source": [
    "sc.pl.umap(adata, color=['cell.labels', 'orig.ident'], size=3) "
   ]
  },
  {
   "cell_type": "code",
   "execution_count": null,
   "metadata": {},
   "outputs": [],
   "source": [
    "# run fdg  \n",
    "sc.tl.draw_graph(adata, init_pos='X_pca', layout='fa')"
   ]
  },
  {
   "cell_type": "code",
   "execution_count": null,
   "metadata": {},
   "outputs": [],
   "source": [
    "# run diffmap\n",
    "sc.tl.diffmap(adata, n_comps=10)"
   ]
  },
  {
   "cell_type": "code",
   "execution_count": null,
   "metadata": {},
   "outputs": [],
   "source": [
    "## PCA\n",
    "sc.pl.pca(adata, color='cell.labels', save='_pre-harmony_cell_labels_legoff.pdf', show=False)\n",
    "\n",
    "## UMAP\n",
    "sc.pl.umap(adata, color='cell.labels', save='_pre-harmony_cell_labels_legoff.pdf', show=False, size=3) \n",
    "sc.pl.umap(adata, color='cell.labels', save='_pre-harmony_cell_labels_legon.pdf', show=False, size=3, legend_loc=\"on data\", legend_fontsize=6)\n",
    "\n",
    "## FDG\n",
    "sc.pl.draw_graph(adata, color='cell.labels', layout='fa', show=False, save='_pre-harmony_cell_labels_legoff.pdf')\n",
    "sc.pl.draw_graph(adata, color='cell.labels', legend_loc='on data', show=False, save='_pre-harmony_cell_labels_legon.pdf', legend_fontsize=6)\n",
    "\n",
    "## DIFFUSION MAP\n",
    "sc.pl.scatter(adata, basis='diffmap', show=False, save='_pre-harmony_cell_labels_legoff.pdf', color='cell.labels') "
   ]
  },
  {
   "cell_type": "code",
   "execution_count": null,
   "metadata": {},
   "outputs": [],
   "source": [
    "# plot pre-harmony umaps coloured by different variables\n",
    "\n",
    "## UMAP by cell labels\n",
    "sc.pl.umap(adata, color='cell.labels', save='_pre-harmony_cell_labels_legoff.pdf', size=3, show=False) \n",
    "sc.pl.umap(adata, color='cell.labels', save='_pre-harmony_cell_labels_legon.pdf', size=3, show=False, legend_loc=\"on data\", legend_fontsize=6)\n",
    "\n",
    "## UMAP by sequencing type \n",
    "sc.pl.umap(adata, color='sequencing.type', save='_pre-harmony_seq_type_legoff.pdf', size=3, show=False) \n",
    "\n",
    "## UMAP by sample \n",
    "sc.pl.umap(adata, color='orig.ident', save='_pre-harmony_sample_type_legoff.pdf', size=3, show=False) "
   ]
  },
  {
   "cell_type": "markdown",
   "metadata": {},
   "source": [
    "# Run harmony batch correction"
   ]
  },
  {
   "cell_type": "code",
   "execution_count": null,
   "metadata": {},
   "outputs": [],
   "source": [
    "#harmony prep - save pca and batch (sample) metadata columns \n",
    "pca = adata.obsm['X_pca']\n",
    "batch = adata.obs['orig.ident']"
   ]
  },
  {
   "cell_type": "code",
   "execution_count": null,
   "metadata": {},
   "outputs": [],
   "source": [
    "# load up harmony in rpy2\n",
    "%load_ext rpy2.ipython"
   ]
  },
  {
   "cell_type": "code",
   "execution_count": null,
   "metadata": {
    "scrolled": true
   },
   "outputs": [],
   "source": [
    "%%R -i pca -i batch -o hem\n",
    "\n",
    "library(harmony)\n",
    "library(magrittr)\n",
    "\n",
    "hem = HarmonyMatrix(pca, batch, theta=3, verbose=TRUE, do_pca=FALSE)\n",
    "hem = data.frame(hem)"
   ]
  },
  {
   "cell_type": "code",
   "execution_count": null,
   "metadata": {},
   "outputs": [],
   "source": [
    "# save old pca values or orig.pca and save batch corrected pca results in anndata object as x_pca\n",
    "adata.obsm['X_orig_pca'] = adata.obsm['X_pca']\n",
    "adata.obsm['X_pca'] = hem.values"
   ]
  },
  {
   "cell_type": "markdown",
   "metadata": {},
   "source": [
    "# Add dimensional reduction post-harmony"
   ]
  },
  {
   "cell_type": "code",
   "execution_count": null,
   "metadata": {},
   "outputs": [],
   "source": [
    "# run snn neighbourhood graph\n",
    "sc.pp.neighbors(adata, n_neighbors=40, n_pcs=10) "
   ]
  },
  {
   "cell_type": "code",
   "execution_count": null,
   "metadata": {},
   "outputs": [],
   "source": [
    "# run umap\n",
    "sc.tl.umap(adata) "
   ]
  },
  {
   "cell_type": "code",
   "execution_count": null,
   "metadata": {},
   "outputs": [],
   "source": [
    "#plot umap post harmony\n",
    "sc.pl.umap(adata, color=['cell.labels', 'orig.ident'], size=3)"
   ]
  },
  {
   "cell_type": "code",
   "execution_count": null,
   "metadata": {},
   "outputs": [],
   "source": [
    "# run fdg \n",
    "sc.tl.draw_graph(adata, init_pos='X_pca', layout='fa')"
   ]
  },
  {
   "cell_type": "code",
   "execution_count": null,
   "metadata": {},
   "outputs": [],
   "source": [
    "# run diffmap\n",
    "sc.tl.diffmap(adata, n_comps=10)"
   ]
  },
  {
   "cell_type": "code",
   "execution_count": null,
   "metadata": {},
   "outputs": [],
   "source": [
    "## PCA\n",
    "sc.pl.pca(adata, color='cell.labels', save='_post-harmony_cell_labels_legoff.pdf', show=False)\n",
    "\n",
    "## UMAP\n",
    "sc.pl.umap(adata, color='cell.labels', save='_post-harmony_cell_labels_legoff.pdf', show=False, size=3) \n",
    "sc.pl.umap(adata, color='cell.labels', save='_post-harmony_cell_labels_legon.pdf', show=False, size=3, legend_loc=\"on data\", legend_fontsize=6)\n",
    "\n",
    "## FDG\n",
    "sc.pl.draw_graph(adata, color='cell.labels', layout='fa', show=False, save='_post-harmony_cell_labels_legoff.pdf')\n",
    "sc.pl.draw_graph(adata, color='cell.labels', legend_loc='on data', show=False, save='_post-harmony_cell_labels_legon.pdf', legend_fontsize=6)\n",
    "\n",
    "## DIFFUSION MAP\n",
    "sc.pl.scatter(adata, basis='diffmap', show=False, save='_post-harmony_cell_labels_legoff.pdf', color='cell.labels') "
   ]
  },
  {
   "cell_type": "code",
   "execution_count": null,
   "metadata": {},
   "outputs": [],
   "source": [
    "# plot post-harmony umaps coloured by different variables\n",
    "\n",
    "## UMAP by cell labels\n",
    "sc.pl.umap(adata, color='cell.labels', save='_post-harmony_cell_labels_legoff.pdf', size=3, show=False) \n",
    "sc.pl.umap(adata, color='cell.labels', save='_post-harmony_cell_labels_legon.pdf', show=False, size=3, legend_loc=\"on data\", legend_fontsize=6)\n",
    "\n",
    "## UMAP by sequencing type \n",
    "sc.pl.umap(adata, color='sequencing.type', save='_post-harmony_seq_type_legoff.pdf', show=False, size=3) \n",
    "\n",
    "## UMAP by sample \n",
    "sc.pl.umap(adata, color='orig.ident', save='_post-harmony_sample_type_legoff.pdf', show=False, size=3) "
   ]
  },
  {
   "cell_type": "markdown",
   "metadata": {},
   "source": [
    "# Perform leiden clustering"
   ]
  },
  {
   "cell_type": "code",
   "execution_count": null,
   "metadata": {},
   "outputs": [],
   "source": [
    "sc.pl.umap(adata, color=['cell.labels', 'orig.ident'], legend_loc=\"on data\", size=3, legend_fontsize=5)"
   ]
  },
  {
   "cell_type": "code",
   "execution_count": null,
   "metadata": {},
   "outputs": [],
   "source": [
    "sc.tl.leiden(adata, resolution=2, random_state=26, n_iterations=-1)\n",
    "\n",
    "sc.pl.umap(adata, color='leiden', legend_loc=\"on data\", size=3, legend_fontsize=15, title=\"leiden at res 2\")\n",
    "leiden_res_2 = len(adata.obs[\"leiden\"].unique())\n",
    "\n",
    "# plot a dendogram to show relationships between clusters\n",
    "sc.tl.dendrogram(adata, groupby='leiden', n_pcs=20, use_rep='X_pca') \n",
    "sc.pl.dendrogram(adata, groupby='leiden', save='dendogram_for_initial_leiden_clusters.pdf')\n",
    "\n",
    "leiden_res_2"
   ]
  },
  {
   "cell_type": "markdown",
   "metadata": {},
   "source": [
    "## Restrict leiden clustering to subset"
   ]
  },
  {
   "cell_type": "code",
   "execution_count": null,
   "metadata": {},
   "outputs": [],
   "source": [
    "sc.tl.leiden(adata, resolution=0.5, random_state=26, n_iterations=-1, restrict_to=(\"leiden\", [\"21\"]))\n",
    "sc.pl.umap(adata, color='leiden', legend_loc=\"on data\", size=3, legend_fontsize=15, title=\"\")"
   ]
  },
  {
   "cell_type": "code",
   "execution_count": null,
   "metadata": {
    "scrolled": true
   },
   "outputs": [],
   "source": [
    "pd.set_option('display.max_rows', 500)\n",
    "pd.set_option('display.max_columns', 500)\n",
    "pd.set_option('display.width', 1000)\n",
    "cell_numbers = adata.obs.groupby([\"leiden\", \"cell.labels\"]).apply(len)\n",
    "cell_numbers"
   ]
  },
  {
   "cell_type": "markdown",
   "metadata": {},
   "source": [
    "# Calculate differentially expressed genes"
   ]
  },
  {
   "cell_type": "code",
   "execution_count": null,
   "metadata": {},
   "outputs": [],
   "source": [
    "# run degs on normalised and logged data (saved as adata.raw), not on additionally scaled data (saved as adata.X).\n",
    "# calculate degs using wilcoxon rank sum test with benjamini-hochberg correction. \n",
    "#based on ln transformed count data \n",
    "sc.tl.rank_genes_groups(adata, groupby='leiden', method='wilcoxon', use_raw=False, log_transformed=True)"
   ]
  },
  {
   "cell_type": "code",
   "execution_count": null,
   "metadata": {},
   "outputs": [],
   "source": [
    "# filter the degs for those which are expressed in at least 25% of cells in cluster. log2fc of the ln-transformed\n",
    "# data will be shown.\n",
    "sc.tl.filter_rank_genes_groups(adata, min_in_group_fraction=0.25, min_fold_change=0.25, use_raw=False)"
   ]
  },
  {
   "cell_type": "code",
   "execution_count": null,
   "metadata": {},
   "outputs": [],
   "source": [
    "# save df for unfiltered degs\n",
    "result = adata.uns['rank_genes_groups']\n",
    "groups = result['names'].dtype.names\n",
    "degs_by_cluster = pd.DataFrame({group + '_' + key[:1]: result[key][group]\n",
    "    for group in groups for key in ['names', 'logfoldchanges']})\n",
    "\n",
    "# the degs_by_cluster df shows the log2 fold change for each gene ordered by z-score underlying the computation \n",
    "# of a p-value for each gene for each group\n",
    "degs_by_cluster.to_csv(\"degs_by_cluster.csv\")\n",
    "degs_by_cluster[:10]"
   ]
  },
  {
   "cell_type": "code",
   "execution_count": null,
   "metadata": {},
   "outputs": [],
   "source": [
    "# save df for filtered degs\n",
    "result = adata.uns['rank_genes_groups_filtered']\n",
    "groups = result['names'].dtype.names\n",
    "degs_by_cluster_filtered = pd.DataFrame({group + '_' + key[:1]: result[key][group]\n",
    "    for group in groups for key in ['names', 'logfoldchanges']})\n",
    "# the degs_by_cluster df shows the log2 fold change for each gene ordered by z-score underlying the computation \n",
    "# of a p-value for each gene for each group\n",
    "degs_by_cluster_filtered.to_csv(\"degs_by_cluster_filtered.csv\")\n",
    "degs_by_cluster_filtered[:10]"
   ]
  },
  {
   "cell_type": "markdown",
   "metadata": {},
   "source": [
    "# Add in annotations"
   ]
  },
  {
   "cell_type": "code",
   "execution_count": null,
   "metadata": {},
   "outputs": [],
   "source": [
    "# read in annotation.csv which contains: 'Cluster' column for leiden clusters and 'Category' column for annotations\n",
    "annotation = pd.read_csv(\"annot.csv\", index_col=False)"
   ]
  },
  {
   "cell_type": "code",
   "execution_count": null,
   "metadata": {},
   "outputs": [],
   "source": [
    "# convert the clusters column to a string (so that it can be input into the replace function, which acts on strings)\n",
    "annotation.Cluster = annotation.Cluster.apply(str)\n",
    "# make a temp metadata column for new cell labels from the leiden clusters\n",
    "adata.obs[\"new.cell.labels\"] = adata.obs[\"leiden\"]"
   ]
  },
  {
   "cell_type": "code",
   "execution_count": null,
   "metadata": {},
   "outputs": [],
   "source": [
    "# save the clusters/categories columns as named lists \n",
    "clusters = annotation[\"Cluster\"].tolist()\n",
    "categories = annotation[\"Category\"].tolist()\n",
    "# replace all values in new.cell.labels column matchin clusters values with categories values\n",
    "adata.obs[\"new.cell.labels\"] = adata.obs[\"new.cell.labels\"].replace(clusters, categories)"
   ]
  },
  {
   "cell_type": "code",
   "execution_count": null,
   "metadata": {},
   "outputs": [],
   "source": [
    "sc.pl.umap(adata, color=['leiden', 'cell.labels'], legend_loc=\"on data\", size=20, legend_fontsize=5)"
   ]
  },
  {
   "cell_type": "markdown",
   "metadata": {},
   "source": [
    "# Save the data"
   ]
  },
  {
   "cell_type": "code",
   "execution_count": null,
   "metadata": {},
   "outputs": [],
   "source": [
    "# save (again because of error) the adata with dr, leiden and degs saved \n",
    "adata.write('data.h5ad')"
   ]
  },
  {
   "cell_type": "code",
   "execution_count": null,
   "metadata": {},
   "outputs": [],
   "source": []
  }
 ],
 "metadata": {
  "kernelspec": {
   "display_name": "Python 3",
   "language": "python",
   "name": "python3"
  },
  "language_info": {
   "codemirror_mode": {
    "name": "ipython",
    "version": 3
   },
   "file_extension": ".py",
   "mimetype": "text/x-python",
   "name": "python",
   "nbconvert_exporter": "python",
   "pygments_lexer": "ipython3",
   "version": "3.6.4"
  }
 },
 "nbformat": 4,
 "nbformat_minor": 2
}
