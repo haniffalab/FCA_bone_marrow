{
 "cells": [
  {
   "cell_type": "markdown",
   "metadata": {},
   "source": [
    "#### Mariana Quiroga Londono \n",
    "#### Simone's data test - FBM MNCs \n",
    "#### 26-04-21"
   ]
  },
  {
   "cell_type": "code",
   "execution_count": 34,
   "metadata": {},
   "outputs": [],
   "source": [
    "#SETTING ENVIRONMENT \n",
    "\n",
    "import rpy2\n",
    "#import tzlocal\n",
    "#%load_ext rpy2.ipython\n",
    "\n",
    "import numpy as np\n",
    "import pandas as pd\n",
    "import scanpy as sc\n",
    "\n",
    "sc.settings.verbosity = 3             # verbosity: errors (0), warnings (1), info (2), hints (3)\n",
    "#sc.logging.print_versions()\n",
    "sc.settings.set_figure_params(dpi=80, dpi_save=1000)"
   ]
  },
  {
   "cell_type": "code",
   "execution_count": 35,
   "metadata": {},
   "outputs": [],
   "source": [
    "from matplotlib.colors import LinearSegmentedColormap\n",
    "cmap = LinearSegmentedColormap.from_list(name='gene_cmap', colors=['lightgrey', 'thistle', 'red', 'darkred']) "
   ]
  },
  {
   "cell_type": "code",
   "execution_count": 36,
   "metadata": {},
   "outputs": [],
   "source": [
    "adata_initial= sc.read(\"010221_mq224_postQC_MNCs_ADTonmRNA_xSimone.h5ad\") #this is adata_qc, pre-DSB "
   ]
  },
  {
   "cell_type": "code",
   "execution_count": 37,
   "metadata": {},
   "outputs": [
    {
     "data": {
      "text/plain": [
       "AnnData object with n_obs × n_vars = 10792 × 198\n",
       "    obs: 'barcode', 'status', 'assignment', 'log_prob_singleton', 'log_prob_doublet', 'cluster0', 'cluster1', 'cluster2', 'n_genes', 'n_counts'\n",
       "    var: 'n_cells'"
      ]
     },
     "execution_count": 37,
     "metadata": {},
     "output_type": "execute_result"
    }
   ],
   "source": [
    "adata_initial"
   ]
  },
  {
   "cell_type": "code",
   "execution_count": 38,
   "metadata": {},
   "outputs": [],
   "source": [
    "#post-QC, pre-DSB, now select only sinu-tipEC from mRNA."
   ]
  },
  {
   "cell_type": "code",
   "execution_count": 39,
   "metadata": {},
   "outputs": [
    {
     "name": "stderr",
     "output_type": "stream",
     "text": [
      "/usr/local/lib/python3.7/dist-packages/anndata/compat/__init__.py:161: FutureWarning: Moving element from .uns['neighbors']['distances'] to .obsp['distances'].\n",
      "\n",
      "This is where adjacency matrices should go now.\n",
      "  FutureWarning,\n",
      "/usr/local/lib/python3.7/dist-packages/anndata/compat/__init__.py:161: FutureWarning: Moving element from .uns['neighbors']['connectivities'] to .obsp['connectivities'].\n",
      "\n",
      "This is where adjacency matrices should go now.\n",
      "  FutureWarning,\n"
     ]
    },
    {
     "data": {
      "text/html": [
       "<div>\n",
       "<style scoped>\n",
       "    .dataframe tbody tr th:only-of-type {\n",
       "        vertical-align: middle;\n",
       "    }\n",
       "\n",
       "    .dataframe tbody tr th {\n",
       "        vertical-align: top;\n",
       "    }\n",
       "\n",
       "    .dataframe thead th {\n",
       "        text-align: right;\n",
       "    }\n",
       "</style>\n",
       "<table border=\"1\" class=\"dataframe\">\n",
       "  <thead>\n",
       "    <tr style=\"text-align: right;\">\n",
       "      <th></th>\n",
       "      <th>souporcell_doublet</th>\n",
       "      <th>souporcell_assignment</th>\n",
       "      <th>orig.ident</th>\n",
       "      <th>lanes</th>\n",
       "      <th>sequencing.type</th>\n",
       "      <th>sex</th>\n",
       "      <th>mad_prd</th>\n",
       "      <th>auto_prd</th>\n",
       "      <th>is_doublet</th>\n",
       "      <th>nUMI</th>\n",
       "      <th>nGene</th>\n",
       "      <th>percent.mito</th>\n",
       "      <th>nUMI_protein</th>\n",
       "      <th>nAb</th>\n",
       "      <th>leiden</th>\n",
       "      <th>__is_in_cluster__</th>\n",
       "      <th>cell.labels</th>\n",
       "    </tr>\n",
       "  </thead>\n",
       "  <tbody>\n",
       "    <tr>\n",
       "      <th>AAACCCAAGAGCATAT</th>\n",
       "      <td>singlet</td>\n",
       "      <td>1</td>\n",
       "      <td>sample_2</td>\n",
       "      <td>SIGAH2_SIGAH12</td>\n",
       "      <td>3prime</td>\n",
       "      <td>male</td>\n",
       "      <td>False</td>\n",
       "      <td>False</td>\n",
       "      <td>False</td>\n",
       "      <td>8763.0</td>\n",
       "      <td>2712</td>\n",
       "      <td>0.013580</td>\n",
       "      <td>414.0</td>\n",
       "      <td>83</td>\n",
       "      <td>10</td>\n",
       "      <td>False</td>\n",
       "      <td>pre B progenitor</td>\n",
       "    </tr>\n",
       "    <tr>\n",
       "      <th>AAACCCAAGGACTGGT</th>\n",
       "      <td>singlet</td>\n",
       "      <td>1</td>\n",
       "      <td>sample_2</td>\n",
       "      <td>SIGAH2_SIGAH12</td>\n",
       "      <td>3prime</td>\n",
       "      <td>male</td>\n",
       "      <td>False</td>\n",
       "      <td>False</td>\n",
       "      <td>False</td>\n",
       "      <td>44958.0</td>\n",
       "      <td>4893</td>\n",
       "      <td>0.028739</td>\n",
       "      <td>1452.0</td>\n",
       "      <td>93</td>\n",
       "      <td>1</td>\n",
       "      <td>False</td>\n",
       "      <td>early erythroid</td>\n",
       "    </tr>\n",
       "    <tr>\n",
       "      <th>AAACCCAAGGTCATAA</th>\n",
       "      <td>singlet</td>\n",
       "      <td>1</td>\n",
       "      <td>sample_2</td>\n",
       "      <td>SIGAH2_SIGAH12</td>\n",
       "      <td>3prime</td>\n",
       "      <td>male</td>\n",
       "      <td>False</td>\n",
       "      <td>False</td>\n",
       "      <td>False</td>\n",
       "      <td>41561.0</td>\n",
       "      <td>4971</td>\n",
       "      <td>0.021294</td>\n",
       "      <td>1430.0</td>\n",
       "      <td>94</td>\n",
       "      <td>1</td>\n",
       "      <td>False</td>\n",
       "      <td>early erythroid</td>\n",
       "    </tr>\n",
       "    <tr>\n",
       "      <th>AAACCCACAAGCGAAC</th>\n",
       "      <td>singlet</td>\n",
       "      <td>1</td>\n",
       "      <td>sample_2</td>\n",
       "      <td>SIGAH2_SIGAH12</td>\n",
       "      <td>3prime</td>\n",
       "      <td>male</td>\n",
       "      <td>False</td>\n",
       "      <td>False</td>\n",
       "      <td>False</td>\n",
       "      <td>14068.0</td>\n",
       "      <td>3244</td>\n",
       "      <td>0.012511</td>\n",
       "      <td>266.0</td>\n",
       "      <td>87</td>\n",
       "      <td>12</td>\n",
       "      <td>False</td>\n",
       "      <td>pre B progenitor</td>\n",
       "    </tr>\n",
       "    <tr>\n",
       "      <th>AAACCCACAATCTCTT</th>\n",
       "      <td>singlet</td>\n",
       "      <td>0</td>\n",
       "      <td>sample_1</td>\n",
       "      <td>SIGAH2_SIGAH12</td>\n",
       "      <td>3prime</td>\n",
       "      <td>female</td>\n",
       "      <td>False</td>\n",
       "      <td>False</td>\n",
       "      <td>False</td>\n",
       "      <td>5477.0</td>\n",
       "      <td>2267</td>\n",
       "      <td>0.015154</td>\n",
       "      <td>374.0</td>\n",
       "      <td>81</td>\n",
       "      <td>18</td>\n",
       "      <td>False</td>\n",
       "      <td>pre pro B progenitor</td>\n",
       "    </tr>\n",
       "    <tr>\n",
       "      <th>...</th>\n",
       "      <td>...</td>\n",
       "      <td>...</td>\n",
       "      <td>...</td>\n",
       "      <td>...</td>\n",
       "      <td>...</td>\n",
       "      <td>...</td>\n",
       "      <td>...</td>\n",
       "      <td>...</td>\n",
       "      <td>...</td>\n",
       "      <td>...</td>\n",
       "      <td>...</td>\n",
       "      <td>...</td>\n",
       "      <td>...</td>\n",
       "      <td>...</td>\n",
       "      <td>...</td>\n",
       "      <td>...</td>\n",
       "      <td>...</td>\n",
       "    </tr>\n",
       "    <tr>\n",
       "      <th>TTTGTTGCAGTCAGCC</th>\n",
       "      <td>singlet</td>\n",
       "      <td>1</td>\n",
       "      <td>sample_2</td>\n",
       "      <td>SIGAH2_SIGAH12</td>\n",
       "      <td>3prime</td>\n",
       "      <td>male</td>\n",
       "      <td>False</td>\n",
       "      <td>False</td>\n",
       "      <td>False</td>\n",
       "      <td>17406.0</td>\n",
       "      <td>3492</td>\n",
       "      <td>0.019419</td>\n",
       "      <td>968.0</td>\n",
       "      <td>136</td>\n",
       "      <td>9</td>\n",
       "      <td>False</td>\n",
       "      <td>MOP</td>\n",
       "    </tr>\n",
       "    <tr>\n",
       "      <th>TTTGTTGCATCCTAAG</th>\n",
       "      <td>singlet</td>\n",
       "      <td>1</td>\n",
       "      <td>sample_2</td>\n",
       "      <td>SIGAH2_SIGAH12</td>\n",
       "      <td>3prime</td>\n",
       "      <td>male</td>\n",
       "      <td>False</td>\n",
       "      <td>False</td>\n",
       "      <td>False</td>\n",
       "      <td>21899.0</td>\n",
       "      <td>4560</td>\n",
       "      <td>0.037216</td>\n",
       "      <td>1040.0</td>\n",
       "      <td>139</td>\n",
       "      <td>7</td>\n",
       "      <td>False</td>\n",
       "      <td>promonocyte</td>\n",
       "    </tr>\n",
       "    <tr>\n",
       "      <th>TTTGTTGCATGAGATA</th>\n",
       "      <td>singlet</td>\n",
       "      <td>1</td>\n",
       "      <td>sample_2</td>\n",
       "      <td>SIGAH2_SIGAH12</td>\n",
       "      <td>3prime</td>\n",
       "      <td>male</td>\n",
       "      <td>False</td>\n",
       "      <td>False</td>\n",
       "      <td>False</td>\n",
       "      <td>16615.0</td>\n",
       "      <td>2236</td>\n",
       "      <td>0.007704</td>\n",
       "      <td>272.0</td>\n",
       "      <td>76</td>\n",
       "      <td>19</td>\n",
       "      <td>False</td>\n",
       "      <td>mid erythroid</td>\n",
       "    </tr>\n",
       "    <tr>\n",
       "      <th>TTTGTTGTCAAATGAG</th>\n",
       "      <td>singlet</td>\n",
       "      <td>1</td>\n",
       "      <td>sample_2</td>\n",
       "      <td>SIGAH2_SIGAH12</td>\n",
       "      <td>3prime</td>\n",
       "      <td>male</td>\n",
       "      <td>False</td>\n",
       "      <td>False</td>\n",
       "      <td>False</td>\n",
       "      <td>10972.0</td>\n",
       "      <td>2582</td>\n",
       "      <td>0.033722</td>\n",
       "      <td>430.0</td>\n",
       "      <td>109</td>\n",
       "      <td>0</td>\n",
       "      <td>False</td>\n",
       "      <td>CD14 monocyte</td>\n",
       "    </tr>\n",
       "    <tr>\n",
       "      <th>TTTGTTGTCAACGCTA</th>\n",
       "      <td>singlet</td>\n",
       "      <td>1</td>\n",
       "      <td>sample_2</td>\n",
       "      <td>SIGAH2_SIGAH12</td>\n",
       "      <td>3prime</td>\n",
       "      <td>male</td>\n",
       "      <td>False</td>\n",
       "      <td>False</td>\n",
       "      <td>False</td>\n",
       "      <td>7957.0</td>\n",
       "      <td>2254</td>\n",
       "      <td>0.021365</td>\n",
       "      <td>2210.0</td>\n",
       "      <td>161</td>\n",
       "      <td>15</td>\n",
       "      <td>False</td>\n",
       "      <td>CD14 monocyte</td>\n",
       "    </tr>\n",
       "  </tbody>\n",
       "</table>\n",
       "<p>8986 rows × 17 columns</p>\n",
       "</div>"
      ],
      "text/plain": [
       "                 souporcell_doublet souporcell_assignment orig.ident  \\\n",
       "AAACCCAAGAGCATAT            singlet                     1   sample_2   \n",
       "AAACCCAAGGACTGGT            singlet                     1   sample_2   \n",
       "AAACCCAAGGTCATAA            singlet                     1   sample_2   \n",
       "AAACCCACAAGCGAAC            singlet                     1   sample_2   \n",
       "AAACCCACAATCTCTT            singlet                     0   sample_1   \n",
       "...                             ...                   ...        ...   \n",
       "TTTGTTGCAGTCAGCC            singlet                     1   sample_2   \n",
       "TTTGTTGCATCCTAAG            singlet                     1   sample_2   \n",
       "TTTGTTGCATGAGATA            singlet                     1   sample_2   \n",
       "TTTGTTGTCAAATGAG            singlet                     1   sample_2   \n",
       "TTTGTTGTCAACGCTA            singlet                     1   sample_2   \n",
       "\n",
       "                           lanes sequencing.type     sex  mad_prd  auto_prd  \\\n",
       "AAACCCAAGAGCATAT  SIGAH2_SIGAH12          3prime    male    False     False   \n",
       "AAACCCAAGGACTGGT  SIGAH2_SIGAH12          3prime    male    False     False   \n",
       "AAACCCAAGGTCATAA  SIGAH2_SIGAH12          3prime    male    False     False   \n",
       "AAACCCACAAGCGAAC  SIGAH2_SIGAH12          3prime    male    False     False   \n",
       "AAACCCACAATCTCTT  SIGAH2_SIGAH12          3prime  female    False     False   \n",
       "...                          ...             ...     ...      ...       ...   \n",
       "TTTGTTGCAGTCAGCC  SIGAH2_SIGAH12          3prime    male    False     False   \n",
       "TTTGTTGCATCCTAAG  SIGAH2_SIGAH12          3prime    male    False     False   \n",
       "TTTGTTGCATGAGATA  SIGAH2_SIGAH12          3prime    male    False     False   \n",
       "TTTGTTGTCAAATGAG  SIGAH2_SIGAH12          3prime    male    False     False   \n",
       "TTTGTTGTCAACGCTA  SIGAH2_SIGAH12          3prime    male    False     False   \n",
       "\n",
       "                  is_doublet     nUMI  nGene  percent.mito  nUMI_protein  nAb  \\\n",
       "AAACCCAAGAGCATAT       False   8763.0   2712      0.013580         414.0   83   \n",
       "AAACCCAAGGACTGGT       False  44958.0   4893      0.028739        1452.0   93   \n",
       "AAACCCAAGGTCATAA       False  41561.0   4971      0.021294        1430.0   94   \n",
       "AAACCCACAAGCGAAC       False  14068.0   3244      0.012511         266.0   87   \n",
       "AAACCCACAATCTCTT       False   5477.0   2267      0.015154         374.0   81   \n",
       "...                      ...      ...    ...           ...           ...  ...   \n",
       "TTTGTTGCAGTCAGCC       False  17406.0   3492      0.019419         968.0  136   \n",
       "TTTGTTGCATCCTAAG       False  21899.0   4560      0.037216        1040.0  139   \n",
       "TTTGTTGCATGAGATA       False  16615.0   2236      0.007704         272.0   76   \n",
       "TTTGTTGTCAAATGAG       False  10972.0   2582      0.033722         430.0  109   \n",
       "TTTGTTGTCAACGCTA       False   7957.0   2254      0.021365        2210.0  161   \n",
       "\n",
       "                 leiden __is_in_cluster__           cell.labels  \n",
       "AAACCCAAGAGCATAT     10             False      pre B progenitor  \n",
       "AAACCCAAGGACTGGT      1             False       early erythroid  \n",
       "AAACCCAAGGTCATAA      1             False       early erythroid  \n",
       "AAACCCACAAGCGAAC     12             False      pre B progenitor  \n",
       "AAACCCACAATCTCTT     18             False  pre pro B progenitor  \n",
       "...                 ...               ...                   ...  \n",
       "TTTGTTGCAGTCAGCC      9             False                   MOP  \n",
       "TTTGTTGCATCCTAAG      7             False           promonocyte  \n",
       "TTTGTTGCATGAGATA     19             False         mid erythroid  \n",
       "TTTGTTGTCAAATGAG      0             False         CD14 monocyte  \n",
       "TTTGTTGTCAACGCTA     15             False         CD14 monocyte  \n",
       "\n",
       "[8986 rows x 17 columns]"
      ]
     },
     "execution_count": 39,
     "metadata": {},
     "output_type": "execute_result"
    }
   ],
   "source": [
    "#Read object and metadata\n",
    "mrna_adata = sc.read(\"./Simone_data/fbm_mnc_citeseq_rna_pp_clus_20201208.h5ad\")\n",
    "labels = pd.read_csv(\"./Simone_data/fbm_mnc_meta_with_annot_20201208.csv\",index_col=\"Unnamed: 0\")\n",
    "mrna_adata.obs[\"cell.labels\"] = labels[\"cell.labels\"]\n",
    "cell_names = [x[:-2] for x in mrna_adata.obs_names]\n",
    "mrna_adata.obs_names = cell_names\n",
    "mrna_adata.obs"
   ]
  },
  {
   "cell_type": "code",
   "execution_count": 40,
   "metadata": {},
   "outputs": [
    {
     "data": {
      "text/plain": [
       "AnnData object with n_obs × n_vars = 8986 × 36601\n",
       "    obs: 'souporcell_doublet', 'souporcell_assignment', 'orig.ident', 'lanes', 'sequencing.type', 'sex', 'mad_prd', 'auto_prd', 'is_doublet', 'nUMI', 'nGene', 'percent.mito', 'nUMI_protein', 'nAb', 'leiden', '__is_in_cluster__', 'cell.labels'\n",
       "    var: 'gene_ids', 'feature_types', 'highly_variable', 'means', 'dispersions', 'dispersions_norm'\n",
       "    uns: 'leiden', 'leiden_colors', 'neighbors', 'orig.ident_colors', 'pca', 'rank_genes_groups', 'rank_genes_groups_filtered'\n",
       "    obsm: 'X_orig_pca', 'X_pca', 'X_umap'\n",
       "    varm: 'PCs'\n",
       "    obsp: 'distances', 'connectivities'"
      ]
     },
     "execution_count": 40,
     "metadata": {},
     "output_type": "execute_result"
    }
   ],
   "source": [
    "mrna_adata"
   ]
  },
  {
   "cell_type": "code",
   "execution_count": 41,
   "metadata": {},
   "outputs": [
    {
     "data": {
      "text/plain": [
       "AnnData object with n_obs × n_vars = 10792 × 198\n",
       "    obs: 'barcode', 'status', 'assignment', 'log_prob_singleton', 'log_prob_doublet', 'cluster0', 'cluster1', 'cluster2', 'n_genes', 'n_counts'\n",
       "    var: 'n_cells'"
      ]
     },
     "execution_count": 41,
     "metadata": {},
     "output_type": "execute_result"
    }
   ],
   "source": [
    "adata_initial"
   ]
  },
  {
   "cell_type": "code",
   "execution_count": 42,
   "metadata": {},
   "outputs": [],
   "source": [
    "# get the overlapping genes between mRNA and AB\n",
    "intersect = np.intersect1d(mrna_adata.obs_names, adata_initial.obs_names)\n",
    "adata_qc = adata_initial[np.unique(intersect),:].copy()"
   ]
  },
  {
   "cell_type": "code",
   "execution_count": 43,
   "metadata": {},
   "outputs": [],
   "source": [
    "adata_qc.obs[\"cell.labels\"] = mrna_adata.obs[\"cell.labels\"]"
   ]
  },
  {
   "cell_type": "code",
   "execution_count": 44,
   "metadata": {
    "scrolled": true
   },
   "outputs": [
    {
     "data": {
      "text/plain": [
       "array(['CD14 monocyte', 'CD4 T cell', 'CD56 bright NK', 'CMP', 'DC1',\n",
       "       'DC2', 'DC3', 'ELP', 'GMP', 'HSC', 'MK', 'MOP', 'basophil',\n",
       "       'early MK', 'early erythroid', 'eosinophil', 'immature B cell',\n",
       "       'late erythroid', 'mast cell', 'mid erythroid', 'naive B cell',\n",
       "       'neutrophil', 'osteoclast', 'pDC', 'pre B progenitor',\n",
       "       'pre pro B progenitor', 'pro B progenitor', 'promonocyte',\n",
       "       'promyelocyte', 'sinusoidal EC', 'stromal macrophage', 'tip EC'],\n",
       "      dtype=object)"
      ]
     },
     "execution_count": 44,
     "metadata": {},
     "output_type": "execute_result"
    }
   ],
   "source": [
    "np.unique(adata_qc.obs[\"cell.labels\"])"
   ]
  },
  {
   "cell_type": "code",
   "execution_count": 45,
   "metadata": {},
   "outputs": [],
   "source": [
    "adata_qc = adata_qc[adata_qc.obs['cell.labels'].isin(['sinusoidal EC','tip EC']),:].copy()"
   ]
  },
  {
   "cell_type": "code",
   "execution_count": 46,
   "metadata": {},
   "outputs": [
    {
     "data": {
      "text/plain": [
       "array(['sinusoidal EC', 'tip EC'], dtype=object)"
      ]
     },
     "execution_count": 46,
     "metadata": {},
     "output_type": "execute_result"
    }
   ],
   "source": [
    "np.unique(adata_qc.obs[\"cell.labels\"])"
   ]
  },
  {
   "cell_type": "code",
   "execution_count": 47,
   "metadata": {},
   "outputs": [
    {
     "data": {
      "text/plain": [
       "AnnData object with n_obs × n_vars = 53 × 198\n",
       "    obs: 'barcode', 'status', 'assignment', 'log_prob_singleton', 'log_prob_doublet', 'cluster0', 'cluster1', 'cluster2', 'n_genes', 'n_counts', 'cell.labels'\n",
       "    var: 'n_cells'"
      ]
     },
     "execution_count": 47,
     "metadata": {},
     "output_type": "execute_result"
    }
   ],
   "source": [
    "adata_qc"
   ]
  },
  {
   "cell_type": "code",
   "execution_count": 48,
   "metadata": {},
   "outputs": [],
   "source": [
    "import numpy as np\n",
    "from sklearn.mixture import GaussianMixture\n",
    "import anndata\n",
    "\n",
    "cell_protein_matrix = adata_qc.copy()"
   ]
  },
  {
   "cell_type": "markdown",
   "metadata": {},
   "source": [
    "### DSB METHOD - CLUSTERING AND VISUALIZATION"
   ]
  },
  {
   "cell_type": "code",
   "execution_count": 49,
   "metadata": {},
   "outputs": [
    {
     "data": {
      "text/plain": [
       "(53, 198)"
      ]
     },
     "execution_count": 49,
     "metadata": {},
     "output_type": "execute_result"
    }
   ],
   "source": [
    "###########TEST: CAN WE GET RID OF THE BACKGROUND NOISE IN OUR PROTEIN DATA? DSB!\n",
    "\n",
    "#SIGAD12_initial as the SUPER RAW\n",
    "\n",
    "cell_protein_matrix = adata_initial[adata_qc.obs_names,:].copy()\n",
    "\n",
    "#SIGAD12.shape\n",
    "\n",
    "cell_protein_matrix.shape"
   ]
  },
  {
   "cell_type": "code",
   "execution_count": 50,
   "metadata": {},
   "outputs": [],
   "source": [
    "# adata here must be the read in from raw umi matrix\n",
    "#We need to define empty droplets. \n",
    "#You split out the data. You assign how many cells as empty droplets \n",
    "def getNegDroplets(adata, lamda=5): \n",
    "    #lamnda controls how many empty droplets you will have in the end.\n",
    "    #Its very hard to tell which is the numner of empty droplets.\n",
    "    umi = np.log1p(np.sum(adata.X.toarray(), axis=1)) #umis per cell\n",
    "    mu_umi = np.mean(umi) #mean of umi counts\n",
    "    sd_umi = np.std(umi) #SD of the umi counts \n",
    "    print(mu_umi)\n",
    "    print(sd_umi)\n",
    "    sub_threshold = mu_umi-(lamda*sd_umi) \n",
    "    print(sub_threshold)\n",
    "    plt.hist(umi, bins = 100)\n",
    "    plt.axvline(x=sub_threshold,color='red')\n",
    "    #Simplified version. They used Seurat function,  but we dont want that.\n",
    "    #anything less than that would be empty droplets.\n",
    "    return adata[umi<sub_threshold,:].copy()\n",
    "    #any cell that has umi counts < threshold. "
   ]
  },
  {
   "cell_type": "code",
   "execution_count": 51,
   "metadata": {},
   "outputs": [
    {
     "name": "stdout",
     "output_type": "stream",
     "text": [
      "6.277303\n",
      "0.6199635\n",
      "5.657339692115784\n",
      "(1340, 198)\n"
     ]
    },
    {
     "data": {
      "image/png": "[encoded data removed]",
      "text/plain": [
       "<Figure size 320x320 with 1 Axes>"
      ]
     },
     "metadata": {
      "image/png": {
       "height": 281,
       "width": 303
      },
      "needs_background": "light"
     },
     "output_type": "display_data"
    }
   ],
   "source": [
    "import matplotlib.pyplot as plt\n",
    "\n",
    "empty_drop_matrix = getNegDroplets(adata_initial, lamda=1)\n",
    "print(empty_drop_matrix.shape)"
   ]
  },
  {
   "cell_type": "code",
   "execution_count": 52,
   "metadata": {},
   "outputs": [],
   "source": [
    "#renormalisation of the counts by empty droplets background.\n",
    "#cell_protein_matrix and empty_drop_matrix are split from the same matrix,\n",
    "#only difference is cells, but Ab is the same.\n",
    "#cell_protein_matrix: adata object.\n",
    "def DSB(cell_protein_matrix, empty_drop_matrix, pseudocount=10):\n",
    "    adt = cell_protein_matrix.X.toarray() #meaningful cells xantibodies\n",
    "    adtu = empty_drop_matrix.X.toarray() #the non meaninful - empty droplets \n",
    "    adt_log = np.log(adt+pseudocount) \n",
    "    adtu_log = np.log(adtu+pseudocount)\n",
    "    mu_u = np.mean(adtu_log, axis=0) #for each protein in empty drop.\n",
    "    sd_u = np.std(adtu_log, axis=0) #for each protein in empty drop.\n",
    "    norm_adt = (adt_log-mu_u)/sd_u  #Y=log(Xi+P)-mu / sd\n",
    "    adata_new = anndata.AnnData(X=norm_adt, obs=cell_protein_matrix.obs, var=cell_protein_matrix.var)\n",
    "    #new normalised values\n",
    "    print(adata_new.shape)\n",
    "    cellwise_background_mean = np.array([]) #equation 2 from this line.\n",
    "    for column in norm_adt.T:\n",
    "        gmm = GaussianMixture(n_components=2) #for each protein\n",
    "        gmm.fit(column.reshape(-1,1)) #you fit it\n",
    "        cellwise_background_mean= np.append(cellwise_background_mean,gmm.means_[0])\n",
    "        #you get the mean for the background\n",
    "    print(len(cellwise_background_mean))\n",
    "    adata_new.var['bg_mean'] = cellwise_background_mean #contains all the new normalised umi counts.\n",
    "    #save it for the regression function, which we wont use!\n",
    "    return adata_new"
   ]
  },
  {
   "cell_type": "code",
   "execution_count": 53,
   "metadata": {},
   "outputs": [
    {
     "name": "stdout",
     "output_type": "stream",
     "text": [
      "(53, 198)\n"
     ]
    },
    {
     "name": "stderr",
     "output_type": "stream",
     "text": [
      "/usr/local/lib/python3.7/dist-packages/sklearn/mixture/_base.py:147: ConvergenceWarning: Number of distinct clusters (1) found smaller than n_clusters (2). Possibly due to duplicate points in X.\n",
      "  random_state=random_state).fit(X).labels_\n",
      "/usr/local/lib/python3.7/dist-packages/sklearn/mixture/_base.py:147: ConvergenceWarning: Number of distinct clusters (1) found smaller than n_clusters (2). Possibly due to duplicate points in X.\n",
      "  random_state=random_state).fit(X).labels_\n"
     ]
    },
    {
     "name": "stdout",
     "output_type": "stream",
     "text": [
      "198\n"
     ]
    },
    {
     "data": {
      "text/plain": [
       "(53, 198)"
      ]
     },
     "execution_count": 53,
     "metadata": {},
     "output_type": "execute_result"
    }
   ],
   "source": [
    "adata_new = DSB(cell_protein_matrix, empty_drop_matrix, pseudocount = 5)\n",
    "cell_protein_matrix.shape"
   ]
  },
  {
   "cell_type": "code",
   "execution_count": 54,
   "metadata": {},
   "outputs": [],
   "source": [
    "#empty_drop_matrix = getNegDroplets(adata)\n",
    "#adata_new = DSB(cell_protein_matrix, empty_drop_matrix)\n",
    "#sc.pp.regress_out(adata_new, keys=['bg_mean'])\n",
    "\n",
    "adata_new.raw = adata_new\n",
    "\n",
    "adata_new1=adata_new.copy().T\n",
    "\n",
    "#for each protein you regress out the effect of the background noise.\n",
    "####sc.pp.regress_out(adata_new1, keys=['bg_mean'])\n",
    "\n",
    "adata_new2 = adata_new1.T\n",
    "\n",
    "adata_new2.raw = adata_new\n",
    "\n",
    "DSB_output0 = adata_new2.copy()"
   ]
  },
  {
   "cell_type": "code",
   "execution_count": 55,
   "metadata": {},
   "outputs": [
    {
     "data": {
      "text/plain": [
       "AnnData object with n_obs × n_vars = 53 × 198\n",
       "    obs: 'barcode', 'status', 'assignment', 'log_prob_singleton', 'log_prob_doublet', 'cluster0', 'cluster1', 'cluster2', 'n_genes', 'n_counts'\n",
       "    var: 'n_cells', 'bg_mean'"
      ]
     },
     "execution_count": 55,
     "metadata": {},
     "output_type": "execute_result"
    }
   ],
   "source": [
    "DSB_output0"
   ]
  },
  {
   "cell_type": "code",
   "execution_count": 56,
   "metadata": {},
   "outputs": [],
   "source": [
    "DSB_output0.raw = DSB_output0"
   ]
  },
  {
   "cell_type": "code",
   "execution_count": 57,
   "metadata": {},
   "outputs": [
    {
     "name": "stdout",
     "output_type": "stream",
     "text": [
      "computing PCA\n",
      "    with n_comps=50\n",
      "    finished (0:00:00)\n"
     ]
    }
   ],
   "source": [
    "sc.tl.pca(DSB_output0, svd_solver='arpack')"
   ]
  },
  {
   "cell_type": "code",
   "execution_count": 58,
   "metadata": {},
   "outputs": [
    {
     "data": {
      "image/png": "[encoded data removed]",
      "text/plain": [
       "<Figure size 320x320 with 1 Axes>"
      ]
     },
     "metadata": {
      "image/png": {
       "height": 321,
       "width": 304
      },
      "needs_background": "light"
     },
     "output_type": "display_data"
    }
   ],
   "source": [
    "sc.pl.pca_variance_ratio(DSB_output0, log=False)"
   ]
  },
  {
   "cell_type": "code",
   "execution_count": 59,
   "metadata": {},
   "outputs": [
    {
     "name": "stdout",
     "output_type": "stream",
     "text": [
      "computing neighbors\n",
      "    using 'X_pca' with n_pcs = 30\n",
      "    finished: added to `.uns['neighbors']`\n",
      "    `.obsp['distances']`, distances for each pair of neighbors\n",
      "    `.obsp['connectivities']`, weighted adjacency matrix (0:00:02)\n"
     ]
    }
   ],
   "source": [
    "sc.pp.neighbors(DSB_output0, n_neighbors=10, n_pcs=30)"
   ]
  },
  {
   "cell_type": "code",
   "execution_count": 60,
   "metadata": {},
   "outputs": [
    {
     "name": "stdout",
     "output_type": "stream",
     "text": [
      "computing UMAP\n",
      "    finished: added\n",
      "    'X_umap', UMAP coordinates (adata.obsm) (0:00:01)\n",
      "drawing single-cell graph using layout 'fa'\n",
      "    finished: added\n",
      "    'X_draw_graph_fa', graph_drawing coordinates (adata.obsm) (0:00:00)\n",
      "running Leiden clustering\n",
      "    finished: found 2 clusters and added\n",
      "    'leiden', the cluster labels (adata.obs, categorical) (0:00:00)\n",
      "running Louvain clustering\n",
      "    using the \"louvain\" package of Traag (2017)\n",
      "    finished: found 2 clusters and added\n",
      "    'louvain', the cluster labels (adata.obs, categorical) (0:00:00)\n"
     ]
    }
   ],
   "source": [
    "sc.tl.umap(DSB_output0)\n",
    "sc.tl.draw_graph(DSB_output0)\n",
    "sc.tl.leiden(DSB_output0, resolution=0.5)\n",
    "sc.tl.louvain(DSB_output0, resolution=0.5)"
   ]
  },
  {
   "cell_type": "code",
   "execution_count": 62,
   "metadata": {},
   "outputs": [],
   "source": [
    "DSB_output0.obs[\"cell.labels\"] = adata_qc.obs[\"cell.labels\"]"
   ]
  },
  {
   "cell_type": "code",
   "execution_count": 63,
   "metadata": {},
   "outputs": [
    {
     "data": {
      "text/plain": [
       "AAAGGATAGCGGTATG    sinusoidal EC\n",
       "AACAAGATCGTAATGC    sinusoidal EC\n",
       "AACCAACTCACGACTA    sinusoidal EC\n",
       "AACCATGCAATGACCT    sinusoidal EC\n",
       "AAGACAATCATCACTT    sinusoidal EC\n",
       "AATAGAGGTTAGTCGT    sinusoidal EC\n",
       "ACATCGACACAAGCTT    sinusoidal EC\n",
       "ACGGTTAGTTAAGACA    sinusoidal EC\n",
       "ACTCTCGAGACTTCGT    sinusoidal EC\n",
       "AGACACTGTACCGTGC    sinusoidal EC\n",
       "AGATAGATCGGTCAGC    sinusoidal EC\n",
       "AGTGACTTCTTCGATT           tip EC\n",
       "ATCGGATTCCTATTTG           tip EC\n",
       "ATGAGTCGTGATTGGG    sinusoidal EC\n",
       "ATGGATCCAGAACATA    sinusoidal EC\n",
       "ATTCACTGTGACCTGC           tip EC\n",
       "ATTCCTACACCTGATA    sinusoidal EC\n",
       "CAATACGAGTTTCGGT    sinusoidal EC\n",
       "CACCAAACAAAGACTA    sinusoidal EC\n",
       "CATGCAAAGCCATCCG    sinusoidal EC\n",
       "CCTGTTGAGCTACGTT           tip EC\n",
       "CTATAGGGTACCGTCG    sinusoidal EC\n",
       "CTCAGAATCCACAAGT    sinusoidal EC\n",
       "CTCATGCGTCGATTTG    sinusoidal EC\n",
       "CTCGAGGCAGGTGACA           tip EC\n",
       "CTGATCCCAAGAGTAT           tip EC\n",
       "CTGTATTTCTTAGCCC    sinusoidal EC\n",
       "GACCGTGTCCATTGTT           tip EC\n",
       "GACTCAAAGCGATTCT    sinusoidal EC\n",
       "GATCCCTAGAAGCGGG    sinusoidal EC\n",
       "GATTGGTCACTCTGCT    sinusoidal EC\n",
       "GCACTAAGTCCCACGA           tip EC\n",
       "GGGCCATGTCACTCGG    sinusoidal EC\n",
       "GGGTGTCGTGTTGATC    sinusoidal EC\n",
       "GTAGAGGCATGATGCT    sinusoidal EC\n",
       "GTAGTACTCCTTCAGC    sinusoidal EC\n",
       "GTGGAAGAGTGGACTG    sinusoidal EC\n",
       "GTTGCGGCACGCAAAG           tip EC\n",
       "TAAGCCAAGCTCACTA           tip EC\n",
       "TACCTCGAGTGGTTAA    sinusoidal EC\n",
       "TACGGTACAACAAGAT    sinusoidal EC\n",
       "TAGACCAAGTGAGTGC    sinusoidal EC\n",
       "TATCAGGCACCCTGTT    sinusoidal EC\n",
       "TCAGGTAAGTCGCTAT    sinusoidal EC\n",
       "TCGTCCATCCACATAG    sinusoidal EC\n",
       "TCTTTGATCCACTTTA    sinusoidal EC\n",
       "TGCTTCGAGAGGTCGT    sinusoidal EC\n",
       "TGGTGATGTGCGGATA    sinusoidal EC\n",
       "TGTTCATGTACTGCCG    sinusoidal EC\n",
       "TTCATGTGTCTAGTGT    sinusoidal EC\n",
       "TTCTTGAGTTACCCTC    sinusoidal EC\n",
       "TTGACCCTCACGAACT           tip EC\n",
       "TTTGGTTCACAACGCC    sinusoidal EC\n",
       "Name: cell.labels, dtype: object"
      ]
     },
     "execution_count": 63,
     "metadata": {},
     "output_type": "execute_result"
    }
   ],
   "source": [
    "DSB_output0.obs[\"cell.labels\"]"
   ]
  },
  {
   "cell_type": "code",
   "execution_count": null,
   "metadata": {},
   "outputs": [],
   "source": [
    "#df=pd.DataFrame(adata.X.toarray(),columns=adata.var_names, index= adata.obs_names)\n",
    "#df.to_csv(\"postQC_ADT_raw_FBM-MNCs.csv\")"
   ]
  },
  {
   "cell_type": "markdown",
   "metadata": {},
   "source": [
    "# Sinu - Tip EC dotplot"
   ]
  },
  {
   "cell_type": "code",
   "execution_count": 73,
   "metadata": {},
   "outputs": [
    {
     "name": "stdout",
     "output_type": "stream",
     "text": [
      "WARNING: saving figure to file figures/dotplot_20210426_Fig_ADT_SinuTipEC_MNCs_FBM_dotplot_selectedmarkers.pdf\n"
     ]
    },
    {
     "data": {
      "image/png": "[encoded data removed]",
      "text/plain": [
       "<Figure size 400x240 with 4 Axes>"
      ]
     },
     "metadata": {
      "image/png": {
       "height": 249,
       "width": 432
      },
      "needs_background": "light"
     },
     "output_type": "display_data"
    }
   ],
   "source": [
    "sc.pl.dotplot(DSB_output0, var_names=[\"CD34\",\"CD49f\",\"CD49b\"], groupby=\"cell.labels\",cmap=\"Blues\", figsize = (5,3),save=\"20210426_Fig_ADT_SinuTipEC_MNCs_FBM_dotplot_selectedmarkers.pdf\")"
   ]
  },
  {
   "cell_type": "code",
   "execution_count": 74,
   "metadata": {},
   "outputs": [
    {
     "data": {
      "text/plain": [
       "'/rds/project/rds-SDzz0CATGms/users/mq224/HCA_project/BM/Stage3_demultiplexing/ADT/Xiaonan_test_FBM3_MNCs'"
      ]
     },
     "execution_count": 74,
     "metadata": {},
     "output_type": "execute_result"
    }
   ],
   "source": [
    "pwd"
   ]
  },
  {
   "cell_type": "code",
   "execution_count": null,
   "metadata": {},
   "outputs": [],
   "source": []
  }
 ],
 "metadata": {
  "kernelspec": {
   "display_name": "Python 3",
   "language": "python",
   "name": "python3"
  },
  "language_info": {
   "codemirror_mode": {
    "name": "ipython",
    "version": 3
   },
   "file_extension": ".py",
   "mimetype": "text/x-python",
   "name": "python",
   "nbconvert_exporter": "python",
   "pygments_lexer": "ipython3",
   "version": "3.7.5rc1"
  }
 },
 "nbformat": 4,
 "nbformat_minor": 2
}
