{
 "cells": [
  {
   "cell_type": "markdown",
   "metadata": {},
   "source": [
    "# Import packages"
   ]
  },
  {
   "cell_type": "code",
   "execution_count": 1,
   "metadata": {},
   "outputs": [],
   "source": [
    "import numpy as np\n",
    "import pandas as pd\n",
    "import scanpy as sc\n",
    "import seaborn as sns\n",
    "import scipy.stats\n",
    "import anndata\n",
    "import matplotlib.pyplot as plt\n",
    "import matplotlib as mpl\n",
    "from matplotlib.axes._axes import _log as matplotlib_axes_logger\n",
    "from scipy import sparse\n",
    "matplotlib_axes_logger.setLevel('ERROR')\n",
    "# silence NumbaPerformanceWarning\n",
    "import warnings\n",
    "from numba.errors import NumbaPerformanceWarning\n",
    "warnings.filterwarnings(\"ignore\", category=NumbaPerformanceWarning)"
   ]
  },
  {
   "cell_type": "code",
   "execution_count": 2,
   "metadata": {},
   "outputs": [
    {
     "name": "stdout",
     "output_type": "stream",
     "text": [
      "scanpy==1.4.4 anndata==0.7.1 umap==0.3.10 numpy==1.17.1 scipy==1.4.1 pandas==0.23.0 scikit-learn==0.22.2.post1 statsmodels==0.11.1 python-igraph==0.8.0 louvain==0.6.1\n"
     ]
    }
   ],
   "source": [
    "sc.settings.verbosity = 1  # verbosity: errors (0), warnings (1), info (2), hints (3)\n",
    "# Set up the plot config for viewing the annotation clearly.\n",
    "sc.settings.set_figure_params(dpi=120, dpi_save=1000)\n",
    "sc.logging.print_versions()"
   ]
  },
  {
   "cell_type": "markdown",
   "metadata": {},
   "source": [
    "# Load HSC and endothelium from DS-FBM and non-DS FBM"
   ]
  },
  {
   "cell_type": "markdown",
   "metadata": {},
   "source": [
    "# Import the FBM HSC and endo"
   ]
  },
  {
   "cell_type": "code",
   "execution_count": 3,
   "metadata": {},
   "outputs": [],
   "source": [
    "adata = sc.read('/Users/b8058304/Documents/PhD_work/Coding/bm_plus_19pcw/data/bm_plus_19pcw_raw_dr_20201007.h5ad')"
   ]
  },
  {
   "cell_type": "code",
   "execution_count": 4,
   "metadata": {
    "scrolled": true
   },
   "outputs": [
    {
     "data": {
      "text/plain": [
       "(103228, 33712)"
      ]
     },
     "execution_count": 4,
     "metadata": {},
     "output_type": "execute_result"
    }
   ],
   "source": [
    "adata.shape"
   ]
  },
  {
   "cell_type": "code",
   "execution_count": 5,
   "metadata": {
    "scrolled": true
   },
   "outputs": [
    {
     "data": {
      "text/plain": [
       "cell.labels\n",
       "CD4 T cell                   327\n",
       "CD8 T cell                   171\n",
       "CD14 monocyte               8763\n",
       "CD56 bright NK               449\n",
       "CMP                          425\n",
       "DC1                           50\n",
       "DC2                          598\n",
       "DC3                          705\n",
       "DC precursor                 201\n",
       "ELP                         1357\n",
       "GMP                         1281\n",
       "HSC                           92\n",
       "ILC precursor                 67\n",
       "LMPP                          34\n",
       "MEMP                          16\n",
       "MEP                          269\n",
       "MK                          1000\n",
       "MOP                         3838\n",
       "MPP myeloid                   92\n",
       "NK T cell                    111\n",
       "NK progenitor                 26\n",
       "Treg                          62\n",
       "adipo-CAR                    353\n",
       "arteriolar fibroblast         83\n",
       "basophil                     139\n",
       "chondrocyte                   80\n",
       "early MK                    1624\n",
       "early erythroid             7474\n",
       "early osteoblast             280\n",
       "endosteal fibroblast          54\n",
       "                           ...  \n",
       "immature EC                   42\n",
       "late erythroid              4636\n",
       "mast cell                    648\n",
       "mature NK                    136\n",
       "mid erythroid              14297\n",
       "monocytoid macrophage        290\n",
       "muscle                       131\n",
       "muscle stem cell             254\n",
       "myelocyte                   3794\n",
       "myeloid DC progenitor         31\n",
       "myofibroblast                 78\n",
       "naive B cell                1411\n",
       "neutrophil                  4501\n",
       "osteoblast                   363\n",
       "osteoblast precursor         456\n",
       "osteochondral precursor      191\n",
       "osteoclast                  1221\n",
       "pDC                          712\n",
       "pDC progenitor                23\n",
       "pre B progenitor           14229\n",
       "pre pro B progenitor        5427\n",
       "pro B progenitor            5528\n",
       "proliferating EC              26\n",
       "promonocyte                 7437\n",
       "promyelocyte                2191\n",
       "schwann cells                  9\n",
       "sinusoidal EC                550\n",
       "stromal macrophage          1464\n",
       "tDC                          193\n",
       "tip EC                       362\n",
       "Length: 64, dtype: int64"
      ]
     },
     "execution_count": 5,
     "metadata": {},
     "output_type": "execute_result"
    }
   ],
   "source": [
    "cell_numbers = adata.obs.groupby([\"cell.labels\"]).apply(len)\n",
    "cell_numbers"
   ]
  },
  {
   "cell_type": "code",
   "execution_count": 6,
   "metadata": {},
   "outputs": [],
   "source": [
    "from scipy import sparse\n",
    "array_vals = adata.X\n",
    "adata.X = sparse.csr_matrix(adata.X)\n",
    "adata.raw = adata\n",
    "adata.X = array_vals"
   ]
  },
  {
   "cell_type": "code",
   "execution_count": 7,
   "metadata": {},
   "outputs": [],
   "source": [
    "adata = adata[adata.obs['cell.labels'].isin(['HSC', 'sinusoidal EC',  \n",
    "                                            'proliferating EC', 'tip EC'])].copy()"
   ]
  },
  {
   "cell_type": "code",
   "execution_count": 8,
   "metadata": {},
   "outputs": [
    {
     "data": {
      "text/plain": [
       "cell.labels\n",
       "HSC                  92\n",
       "proliferating EC     26\n",
       "sinusoidal EC       550\n",
       "tip EC              362\n",
       "dtype: int64"
      ]
     },
     "execution_count": 8,
     "metadata": {},
     "output_type": "execute_result"
    }
   ],
   "source": [
    "cell_numbers = adata.obs.groupby([\"cell.labels\"]).apply(len)\n",
    "cell_numbers"
   ]
  },
  {
   "cell_type": "code",
   "execution_count": 9,
   "metadata": {},
   "outputs": [],
   "source": [
    "adata.obs['cell.labels'] = adata.obs['cell.labels'].replace([\"proliferating EC\", \"sinusoidal EC\", \n",
    "                                                             \"tip EC\"], [\"endothelium\", \"endothelium\", \n",
    "                                                                        \"endothelium\"])"
   ]
  },
  {
   "cell_type": "code",
   "execution_count": 10,
   "metadata": {},
   "outputs": [
    {
     "data": {
      "text/plain": [
       "cell.labels\n",
       "HSC             92\n",
       "endothelium    938\n",
       "dtype: int64"
      ]
     },
     "execution_count": 10,
     "metadata": {},
     "output_type": "execute_result"
    }
   ],
   "source": [
    "cell_numbers = adata.obs.groupby([\"cell.labels\"]).apply(len)\n",
    "cell_numbers"
   ]
  },
  {
   "cell_type": "code",
   "execution_count": 11,
   "metadata": {},
   "outputs": [],
   "source": [
    "adata.obs[\"dataset\"] = \"fbm\""
   ]
  },
  {
   "cell_type": "code",
   "execution_count": 12,
   "metadata": {},
   "outputs": [],
   "source": [
    "fbm = adata"
   ]
  },
  {
   "cell_type": "markdown",
   "metadata": {},
   "source": [
    "# Import the DS HSC and endo"
   ]
  },
  {
   "cell_type": "code",
   "execution_count": 13,
   "metadata": {},
   "outputs": [],
   "source": [
    "adata = sc.read('/Users/b8058304/Documents/PhD_work/Coding/fbm_ds_cite_seq/data/fbm_ds_citeseq_plus_scrna_forMS_20210119.h5ad')"
   ]
  },
  {
   "cell_type": "code",
   "execution_count": 14,
   "metadata": {
    "scrolled": true
   },
   "outputs": [
    {
     "data": {
      "text/plain": [
       "(16743, 33694)"
      ]
     },
     "execution_count": 14,
     "metadata": {},
     "output_type": "execute_result"
    }
   ],
   "source": [
    "adata.shape"
   ]
  },
  {
   "cell_type": "code",
   "execution_count": 15,
   "metadata": {
    "scrolled": false
   },
   "outputs": [
    {
     "data": {
      "text/plain": [
       "cell.labels\n",
       "CAR                          4\n",
       "CD8 T cell                 181\n",
       "CD14 monocyte              320\n",
       "CD56 bright NK              79\n",
       "CMP                         50\n",
       "DC1                         45\n",
       "DC2                        228\n",
       "DC3                        108\n",
       "HSC                        105\n",
       "ILC precursor               13\n",
       "MEMP                       130\n",
       "MK                          83\n",
       "MOP                        422\n",
       "MSC                         53\n",
       "Treg                         8\n",
       "chondrocyte                  4\n",
       "early B cell                42\n",
       "early MK                    34\n",
       "early erythroid           1348\n",
       "endothelium                111\n",
       "eo/baso/mast precursor      53\n",
       "eosinophil                  63\n",
       "late erythroid            6336\n",
       "macrophage                 113\n",
       "mast cell                   39\n",
       "mast cell                   27\n",
       "mature B cell               31\n",
       "mature NK                  147\n",
       "mid erythroid             5230\n",
       "myelocyte                  243\n",
       "neutrophil                 273\n",
       "osteoblast                  11\n",
       "osteoclast                  57\n",
       "pDC                         14\n",
       "pre B cell                 115\n",
       "pre pDC                    110\n",
       "promonocyte                395\n",
       "promyelocyte               107\n",
       "transitional NK cell        11\n",
       "dtype: int64"
      ]
     },
     "execution_count": 15,
     "metadata": {},
     "output_type": "execute_result"
    }
   ],
   "source": [
    "cell_numbers = adata.obs.groupby([\"cell.labels\"]).apply(len)\n",
    "cell_numbers"
   ]
  },
  {
   "cell_type": "code",
   "execution_count": 16,
   "metadata": {},
   "outputs": [],
   "source": [
    "adata = adata[adata.obs['cell.labels'].isin(['HSC', 'endothelium'])].copy()"
   ]
  },
  {
   "cell_type": "code",
   "execution_count": 17,
   "metadata": {},
   "outputs": [
    {
     "data": {
      "text/plain": [
       "cell.labels\n",
       "HSC            105\n",
       "endothelium    111\n",
       "dtype: int64"
      ]
     },
     "execution_count": 17,
     "metadata": {},
     "output_type": "execute_result"
    }
   ],
   "source": [
    "cell_numbers = adata.obs.groupby([\"cell.labels\"]).apply(len)\n",
    "cell_numbers"
   ]
  },
  {
   "cell_type": "code",
   "execution_count": 18,
   "metadata": {},
   "outputs": [],
   "source": [
    "adata.obs[\"dataset\"] = \"ds_fbm\"\n",
    "ds_fbm = adata"
   ]
  },
  {
   "cell_type": "markdown",
   "metadata": {},
   "source": [
    "# Combine the datasets"
   ]
  },
  {
   "cell_type": "code",
   "execution_count": 19,
   "metadata": {},
   "outputs": [],
   "source": [
    "from scipy import sparse\n",
    "\n",
    "objects = [ds_fbm, fbm]\n",
    "\n",
    "for i in objects:\n",
    "    array_vals = i.X\n",
    "    i.X = sparse.csr_matrix(i.X)\n",
    "    i.raw = i\n",
    "    i.X = array_vals"
   ]
  },
  {
   "cell_type": "code",
   "execution_count": 20,
   "metadata": {},
   "outputs": [],
   "source": [
    "merged = fbm.concatenate(ds_fbm, index_unique=None, join='inner')"
   ]
  },
  {
   "cell_type": "code",
   "execution_count": 21,
   "metadata": {},
   "outputs": [
    {
     "data": {
      "text/plain": [
       "(1246, 33694)"
      ]
     },
     "execution_count": 21,
     "metadata": {},
     "output_type": "execute_result"
    }
   ],
   "source": [
    "merged.shape"
   ]
  },
  {
   "cell_type": "code",
   "execution_count": 22,
   "metadata": {},
   "outputs": [
    {
     "data": {
      "text/plain": [
       "cell.labels\n",
       "HSC             197\n",
       "endothelium    1049\n",
       "dtype: int64"
      ]
     },
     "execution_count": 22,
     "metadata": {},
     "output_type": "execute_result"
    }
   ],
   "source": [
    "cell_numbers = merged.obs.groupby([\"cell.labels\"]).apply(len)\n",
    "cell_numbers"
   ]
  },
  {
   "cell_type": "code",
   "execution_count": 23,
   "metadata": {},
   "outputs": [],
   "source": [
    "merged.obs[\"dataset_cell.labels\"] = merged.obs[\"dataset\"].astype(str) + '_' + merged.obs[\"cell.labels\"].astype(str)"
   ]
  },
  {
   "cell_type": "code",
   "execution_count": 24,
   "metadata": {},
   "outputs": [
    {
     "data": {
      "text/plain": [
       "dataset_cell.labels\n",
       "ds_fbm_HSC            105\n",
       "ds_fbm_endothelium    111\n",
       "fbm_HSC                92\n",
       "fbm_endothelium       938\n",
       "dtype: int64"
      ]
     },
     "execution_count": 24,
     "metadata": {},
     "output_type": "execute_result"
    }
   ],
   "source": [
    "cell_numbers = merged.obs.groupby([\"dataset_cell.labels\"]).apply(len)\n",
    "cell_numbers"
   ]
  },
  {
   "cell_type": "markdown",
   "metadata": {},
   "source": [
    "# Pre-process the data"
   ]
  },
  {
   "cell_type": "code",
   "execution_count": 25,
   "metadata": {},
   "outputs": [],
   "source": [
    "adata=merged"
   ]
  },
  {
   "cell_type": "code",
   "execution_count": 26,
   "metadata": {},
   "outputs": [],
   "source": [
    "# normalise count data \n",
    "sc.pp.normalize_total(adata)"
   ]
  },
  {
   "cell_type": "code",
   "execution_count": 27,
   "metadata": {},
   "outputs": [],
   "source": [
    "# log the count data \n",
    "sc.pp.log1p(adata)"
   ]
  },
  {
   "cell_type": "code",
   "execution_count": 28,
   "metadata": {},
   "outputs": [],
   "source": [
    "# find variable genes\n",
    "sc.pp.highly_variable_genes(adata, min_mean=0.0125, max_mean=3, min_disp=0.5) "
   ]
  },
  {
   "cell_type": "code",
   "execution_count": 29,
   "metadata": {},
   "outputs": [],
   "source": [
    "# scale the data \n",
    "sc.pp.scale(adata, max_value=10)\n",
    "# scale the negative values in adata.X (which have been normalised, logged and scaled) to zero \n",
    "adata.X = np.where(adata.X < 0, 0, adata.X)"
   ]
  },
  {
   "cell_type": "markdown",
   "metadata": {},
   "source": [
    "# Run violin plots for HSC"
   ]
  },
  {
   "cell_type": "code",
   "execution_count": 30,
   "metadata": {},
   "outputs": [
    {
     "data": {
      "text/plain": [
       "dataset_cell.labels\n",
       "ds_fbm_HSC            105\n",
       "ds_fbm_endothelium    111\n",
       "fbm_HSC                92\n",
       "fbm_endothelium       938\n",
       "dtype: int64"
      ]
     },
     "execution_count": 30,
     "metadata": {},
     "output_type": "execute_result"
    }
   ],
   "source": [
    "cell_numbers = adata.obs.groupby([\"dataset_cell.labels\"]).apply(len)\n",
    "cell_numbers"
   ]
  },
  {
   "cell_type": "code",
   "execution_count": 31,
   "metadata": {},
   "outputs": [],
   "source": [
    "hsc_genes=[\"NRP2\", \"ESAM\", \"FGFR1\", \"NOTCH1\", \"TNFRSF10C\", \"KRT19\", \"CD44\", \"NOTCH2\", \"KRT19\", \"NRP2\", \"KRT19\", \n",
    "          \"FZD6\", \"PLAUR\", \"SELL\", \"KIT\", \"MERTK\", \"KRT19\", \"CD46\", \"FLT3\", \"JAM3\", \"KRT19\"]"
   ]
  },
  {
   "cell_type": "code",
   "execution_count": 32,
   "metadata": {},
   "outputs": [
    {
     "name": "stderr",
     "output_type": "stream",
     "text": [
      "... storing '__is_in_cluster__' as categorical\n",
      "... storing 'age' as categorical\n",
      "... storing 'april_cell.labels' as categorical\n",
      "... storing 'auto_prd' as categorical\n",
      "... storing 'cell.labels' as categorical\n",
      "... storing 'cell.labels_20200708' as categorical\n",
      "... storing 'cell.labels_20200713' as categorical\n",
      "... storing 'cell.labels_20200718' as categorical\n",
      "... storing 'dataset' as categorical\n",
      "... storing 'doublets' as categorical\n",
      "... storing 'fetal.ids' as categorical\n",
      "... storing 'gender' as categorical\n",
      "... storing 'is_doublet' as categorical\n",
      "... storing 'is_doublet_poptrim' as categorical\n",
      "... storing 'is_doublet_wolock' as categorical\n",
      "... storing 'lanes' as categorical\n",
      "... storing 'leiden' as categorical\n",
      "... storing 'lr_pred' as categorical\n",
      "... storing 'mad_prd' as categorical\n",
      "... storing 'mito.threshold' as categorical\n",
      "... storing 'nk_meta' as categorical\n",
      "... storing 'orig.ident' as categorical\n",
      "... storing 'processing.type' as categorical\n",
      "... storing 'sequencing.type' as categorical\n",
      "... storing 'sex' as categorical\n",
      "... storing 'sort.ids' as categorical\n",
      "... storing 'souporcell_assignment' as categorical\n",
      "... storing 'souporcell_doublet' as categorical\n",
      "... storing 'feature_types-1-0' as categorical\n"
     ]
    },
    {
     "name": "stdout",
     "output_type": "stream",
     "text": [
      "WARNING: saving figure to file figures/stacked_violinhsc_ds_nonds_fbm_violin_20210204.pdf\n"
     ]
    },
    {
     "data": {
      "image/png": "[encoded data removed]",
      "text/plain": [
       "<Figure size 800x200 with 2 Axes>"
      ]
     },
     "metadata": {
      "image/png": {
       "height": 276,
       "width": 745
      },
      "needs_background": "light"
     },
     "output_type": "display_data"
    },
    {
     "data": {
      "text/plain": [
       "[<matplotlib.axes._subplots.AxesSubplot at 0x13b0dc630>,\n",
       " <matplotlib.axes._subplots.AxesSubplot at 0x13b9f1eb8>]"
      ]
     },
     "execution_count": 32,
     "metadata": {},
     "output_type": "execute_result"
    }
   ],
   "source": [
    "sc.settings.set_figure_params(dpi=100, dpi_save=1000)\n",
    "\n",
    "adata.obs[\"dataset_cell.labels\"] = adata.obs[\"dataset_cell.labels\"].astype(\"category\")\n",
    "\n",
    "subset = adata[adata.obs['dataset_cell.labels'].isin(['ds_fbm_HSC', 'fbm_HSC'])].copy()\n",
    "\n",
    "subset.obs[\"dataset_cell.labels\"] = subset.obs[\"dataset_cell.labels\"].cat.reorder_categories(\n",
    "    ['ds_fbm_HSC', 'fbm_HSC'])\n",
    "\n",
    "sc.pl.stacked_violin(subset, var_names=hsc_genes, save=\"hsc_ds_nonds_fbm_violin_20210204.pdf\", \n",
    "                     rotation=90, \n",
    "                     groupby='dataset_cell.labels', use_raw=False, swap_axes=False, figsize=(8,2), \n",
    "                     row_palette=[\"#ffffff\", \"#ffffff\"])"
   ]
  },
  {
   "cell_type": "code",
   "execution_count": 33,
   "metadata": {},
   "outputs": [
    {
     "name": "stderr",
     "output_type": "stream",
     "text": [
      "Variable names are not unique. To make them unique, call `.var_names_make_unique`.\n",
      "... storing '__is_in_cluster__' as categorical\n",
      "... storing 'age' as categorical\n",
      "... storing 'april_cell.labels' as categorical\n",
      "... storing 'auto_prd' as categorical\n",
      "... storing 'cell.labels' as categorical\n",
      "... storing 'cell.labels_20200708' as categorical\n",
      "... storing 'cell.labels_20200713' as categorical\n",
      "... storing 'cell.labels_20200718' as categorical\n",
      "... storing 'dataset' as categorical\n",
      "... storing 'doublets' as categorical\n",
      "... storing 'fetal.ids' as categorical\n",
      "... storing 'gender' as categorical\n",
      "... storing 'is_doublet' as categorical\n",
      "... storing 'is_doublet_poptrim' as categorical\n",
      "... storing 'is_doublet_wolock' as categorical\n",
      "... storing 'lanes' as categorical\n",
      "... storing 'leiden' as categorical\n",
      "... storing 'lr_pred' as categorical\n",
      "... storing 'mad_prd' as categorical\n",
      "... storing 'mito.threshold' as categorical\n",
      "... storing 'nk_meta' as categorical\n",
      "... storing 'orig.ident' as categorical\n",
      "... storing 'processing.type' as categorical\n",
      "... storing 'sequencing.type' as categorical\n",
      "... storing 'sex' as categorical\n",
      "... storing 'sort.ids' as categorical\n",
      "... storing 'souporcell_assignment' as categorical\n",
      "... storing 'souporcell_doublet' as categorical\n",
      "... storing 'gene_ids-1-0' as categorical\n",
      "... storing 'feature_types-1-0' as categorical\n",
      "... storing 'gene_ids-0-1' as categorical\n",
      "... storing 'gene_ids-1-1' as categorical\n"
     ]
    },
    {
     "data": {
      "text/html": [
       "<div>\n",
       "<style scoped>\n",
       "    .dataframe tbody tr th:only-of-type {\n",
       "        vertical-align: middle;\n",
       "    }\n",
       "\n",
       "    .dataframe tbody tr th {\n",
       "        vertical-align: top;\n",
       "    }\n",
       "\n",
       "    .dataframe thead th {\n",
       "        text-align: right;\n",
       "    }\n",
       "</style>\n",
       "<table border=\"1\" class=\"dataframe\">\n",
       "  <thead>\n",
       "    <tr style=\"text-align: right;\">\n",
       "      <th></th>\n",
       "      <th>ds_fbm_HSC_names</th>\n",
       "      <th>ds_fbm_HSC_logfold</th>\n",
       "      <th>ds_fbm_HSC_pvals</th>\n",
       "      <th>ds_fbm_HSC_pvals_a</th>\n",
       "      <th>fbm_HSC_names</th>\n",
       "      <th>fbm_HSC_logfold</th>\n",
       "      <th>fbm_HSC_pvals</th>\n",
       "      <th>fbm_HSC_pvals_a</th>\n",
       "    </tr>\n",
       "  </thead>\n",
       "  <tbody>\n",
       "    <tr>\n",
       "      <th>0</th>\n",
       "      <td>CD44</td>\n",
       "      <td>4.480328</td>\n",
       "      <td>4.465196e-34</td>\n",
       "      <td>9.376912e-33</td>\n",
       "      <td>SELL</td>\n",
       "      <td>4.898363</td>\n",
       "      <td>1.454528e-41</td>\n",
       "      <td>3.054509e-40</td>\n",
       "    </tr>\n",
       "    <tr>\n",
       "      <th>1</th>\n",
       "      <td>SELL</td>\n",
       "      <td>2.697964</td>\n",
       "      <td>2.301778e-17</td>\n",
       "      <td>8.056224e-17</td>\n",
       "      <td>CD44</td>\n",
       "      <td>3.669870</td>\n",
       "      <td>1.382925e-31</td>\n",
       "      <td>1.452071e-30</td>\n",
       "    </tr>\n",
       "    <tr>\n",
       "      <th>2</th>\n",
       "      <td>FLT3</td>\n",
       "      <td>5.747172</td>\n",
       "      <td>3.097128e-06</td>\n",
       "      <td>8.129961e-06</td>\n",
       "      <td>KIT</td>\n",
       "      <td>0.525058</td>\n",
       "      <td>1.404116e-06</td>\n",
       "      <td>3.276271e-06</td>\n",
       "    </tr>\n",
       "    <tr>\n",
       "      <th>3</th>\n",
       "      <td>PLAUR</td>\n",
       "      <td>2.146525</td>\n",
       "      <td>4.444187e-04</td>\n",
       "      <td>8.484356e-04</td>\n",
       "      <td>FLT3</td>\n",
       "      <td>2.630980</td>\n",
       "      <td>1.913294e-04</td>\n",
       "      <td>3.652651e-04</td>\n",
       "    </tr>\n",
       "    <tr>\n",
       "      <th>4</th>\n",
       "      <td>NOTCH2</td>\n",
       "      <td>1.428390</td>\n",
       "      <td>8.522038e-02</td>\n",
       "      <td>1.491357e-01</td>\n",
       "      <td>NOTCH2</td>\n",
       "      <td>1.016312</td>\n",
       "      <td>4.454929e-03</td>\n",
       "      <td>7.796127e-03</td>\n",
       "    </tr>\n",
       "    <tr>\n",
       "      <th>5</th>\n",
       "      <td>TNFRSF10C</td>\n",
       "      <td>1.135217</td>\n",
       "      <td>3.362402e-01</td>\n",
       "      <td>5.043603e-01</td>\n",
       "      <td>MERTK</td>\n",
       "      <td>0.538279</td>\n",
       "      <td>2.254785e-01</td>\n",
       "      <td>3.642345e-01</td>\n",
       "    </tr>\n",
       "    <tr>\n",
       "      <th>6</th>\n",
       "      <td>KRT19</td>\n",
       "      <td>-23.069525</td>\n",
       "      <td>9.881286e-01</td>\n",
       "      <td>9.881286e-01</td>\n",
       "      <td>TNFRSF10C</td>\n",
       "      <td>0.361121</td>\n",
       "      <td>3.181183e-01</td>\n",
       "      <td>4.771774e-01</td>\n",
       "    </tr>\n",
       "    <tr>\n",
       "      <th>7</th>\n",
       "      <td>KRT19</td>\n",
       "      <td>-23.069525</td>\n",
       "      <td>9.881286e-01</td>\n",
       "      <td>9.881286e-01</td>\n",
       "      <td>PLAUR</td>\n",
       "      <td>-1.140987</td>\n",
       "      <td>9.522257e-01</td>\n",
       "      <td>9.889505e-01</td>\n",
       "    </tr>\n",
       "    <tr>\n",
       "      <th>8</th>\n",
       "      <td>KRT19</td>\n",
       "      <td>-23.069525</td>\n",
       "      <td>9.881286e-01</td>\n",
       "      <td>9.881286e-01</td>\n",
       "      <td>KRT19</td>\n",
       "      <td>-23.053108</td>\n",
       "      <td>9.889505e-01</td>\n",
       "      <td>9.889505e-01</td>\n",
       "    </tr>\n",
       "    <tr>\n",
       "      <th>9</th>\n",
       "      <td>KRT19</td>\n",
       "      <td>-23.069525</td>\n",
       "      <td>9.881286e-01</td>\n",
       "      <td>9.881286e-01</td>\n",
       "      <td>KRT19</td>\n",
       "      <td>-23.053108</td>\n",
       "      <td>9.889505e-01</td>\n",
       "      <td>9.889505e-01</td>\n",
       "    </tr>\n",
       "    <tr>\n",
       "      <th>10</th>\n",
       "      <td>KRT19</td>\n",
       "      <td>-23.069525</td>\n",
       "      <td>9.881286e-01</td>\n",
       "      <td>9.881286e-01</td>\n",
       "      <td>KRT19</td>\n",
       "      <td>-23.053108</td>\n",
       "      <td>9.889505e-01</td>\n",
       "      <td>9.889505e-01</td>\n",
       "    </tr>\n",
       "    <tr>\n",
       "      <th>11</th>\n",
       "      <td>MERTK</td>\n",
       "      <td>-0.192314</td>\n",
       "      <td>8.174391e-01</td>\n",
       "      <td>9.881286e-01</td>\n",
       "      <td>KRT19</td>\n",
       "      <td>-23.053108</td>\n",
       "      <td>9.889505e-01</td>\n",
       "      <td>9.889505e-01</td>\n",
       "    </tr>\n",
       "    <tr>\n",
       "      <th>12</th>\n",
       "      <td>FZD6</td>\n",
       "      <td>-0.598638</td>\n",
       "      <td>4.305133e-01</td>\n",
       "      <td>6.027187e-01</td>\n",
       "      <td>KRT19</td>\n",
       "      <td>-23.053108</td>\n",
       "      <td>9.889505e-01</td>\n",
       "      <td>9.889505e-01</td>\n",
       "    </tr>\n",
       "    <tr>\n",
       "      <th>13</th>\n",
       "      <td>KIT</td>\n",
       "      <td>-0.336763</td>\n",
       "      <td>2.088277e-01</td>\n",
       "      <td>3.373371e-01</td>\n",
       "      <td>FZD6</td>\n",
       "      <td>-1.377809</td>\n",
       "      <td>4.779456e-01</td>\n",
       "      <td>6.691238e-01</td>\n",
       "    </tr>\n",
       "    <tr>\n",
       "      <th>14</th>\n",
       "      <td>CD46</td>\n",
       "      <td>-1.078128</td>\n",
       "      <td>2.398208e-04</td>\n",
       "      <td>5.036236e-04</td>\n",
       "      <td>CD46</td>\n",
       "      <td>-2.197457</td>\n",
       "      <td>8.972451e-06</td>\n",
       "      <td>1.884215e-05</td>\n",
       "    </tr>\n",
       "    <tr>\n",
       "      <th>15</th>\n",
       "      <td>JAM3</td>\n",
       "      <td>-0.615374</td>\n",
       "      <td>4.609953e-06</td>\n",
       "      <td>1.075656e-05</td>\n",
       "      <td>JAM3</td>\n",
       "      <td>-3.592594</td>\n",
       "      <td>6.832306e-07</td>\n",
       "      <td>1.793480e-06</td>\n",
       "    </tr>\n",
       "    <tr>\n",
       "      <th>16</th>\n",
       "      <td>NOTCH1</td>\n",
       "      <td>-1.020801</td>\n",
       "      <td>7.794938e-08</td>\n",
       "      <td>2.338481e-07</td>\n",
       "      <td>NOTCH1</td>\n",
       "      <td>-5.566888</td>\n",
       "      <td>1.049875e-12</td>\n",
       "      <td>3.149625e-12</td>\n",
       "    </tr>\n",
       "    <tr>\n",
       "      <th>17</th>\n",
       "      <td>FGFR1</td>\n",
       "      <td>-29.118687</td>\n",
       "      <td>1.110771e-18</td>\n",
       "      <td>4.665238e-18</td>\n",
       "      <td>FGFR1</td>\n",
       "      <td>-7.473500</td>\n",
       "      <td>3.335359e-15</td>\n",
       "      <td>1.167376e-14</td>\n",
       "    </tr>\n",
       "    <tr>\n",
       "      <th>18</th>\n",
       "      <td>ESAM</td>\n",
       "      <td>-4.241660</td>\n",
       "      <td>1.074762e-23</td>\n",
       "      <td>5.642500e-23</td>\n",
       "      <td>NRP2</td>\n",
       "      <td>-29.165958</td>\n",
       "      <td>1.227773e-22</td>\n",
       "      <td>5.156645e-22</td>\n",
       "    </tr>\n",
       "    <tr>\n",
       "      <th>19</th>\n",
       "      <td>NRP2</td>\n",
       "      <td>-29.186483</td>\n",
       "      <td>7.018140e-26</td>\n",
       "      <td>4.912698e-25</td>\n",
       "      <td>NRP2</td>\n",
       "      <td>-29.165958</td>\n",
       "      <td>1.227773e-22</td>\n",
       "      <td>5.156645e-22</td>\n",
       "    </tr>\n",
       "    <tr>\n",
       "      <th>20</th>\n",
       "      <td>NRP2</td>\n",
       "      <td>-29.186483</td>\n",
       "      <td>7.018140e-26</td>\n",
       "      <td>4.912698e-25</td>\n",
       "      <td>ESAM</td>\n",
       "      <td>-29.140921</td>\n",
       "      <td>2.133838e-24</td>\n",
       "      <td>1.493687e-23</td>\n",
       "    </tr>\n",
       "  </tbody>\n",
       "</table>\n",
       "</div>"
      ],
      "text/plain": [
       "   ds_fbm_HSC_names  ds_fbm_HSC_logfold  ds_fbm_HSC_pvals  ds_fbm_HSC_pvals_a  \\\n",
       "0              CD44            4.480328      4.465196e-34        9.376912e-33   \n",
       "1              SELL            2.697964      2.301778e-17        8.056224e-17   \n",
       "2              FLT3            5.747172      3.097128e-06        8.129961e-06   \n",
       "3             PLAUR            2.146525      4.444187e-04        8.484356e-04   \n",
       "4            NOTCH2            1.428390      8.522038e-02        1.491357e-01   \n",
       "5         TNFRSF10C            1.135217      3.362402e-01        5.043603e-01   \n",
       "6             KRT19          -23.069525      9.881286e-01        9.881286e-01   \n",
       "7             KRT19          -23.069525      9.881286e-01        9.881286e-01   \n",
       "8             KRT19          -23.069525      9.881286e-01        9.881286e-01   \n",
       "9             KRT19          -23.069525      9.881286e-01        9.881286e-01   \n",
       "10            KRT19          -23.069525      9.881286e-01        9.881286e-01   \n",
       "11            MERTK           -0.192314      8.174391e-01        9.881286e-01   \n",
       "12             FZD6           -0.598638      4.305133e-01        6.027187e-01   \n",
       "13              KIT           -0.336763      2.088277e-01        3.373371e-01   \n",
       "14             CD46           -1.078128      2.398208e-04        5.036236e-04   \n",
       "15             JAM3           -0.615374      4.609953e-06        1.075656e-05   \n",
       "16           NOTCH1           -1.020801      7.794938e-08        2.338481e-07   \n",
       "17            FGFR1          -29.118687      1.110771e-18        4.665238e-18   \n",
       "18             ESAM           -4.241660      1.074762e-23        5.642500e-23   \n",
       "19             NRP2          -29.186483      7.018140e-26        4.912698e-25   \n",
       "20             NRP2          -29.186483      7.018140e-26        4.912698e-25   \n",
       "\n",
       "   fbm_HSC_names  fbm_HSC_logfold  fbm_HSC_pvals  fbm_HSC_pvals_a  \n",
       "0           SELL         4.898363   1.454528e-41     3.054509e-40  \n",
       "1           CD44         3.669870   1.382925e-31     1.452071e-30  \n",
       "2            KIT         0.525058   1.404116e-06     3.276271e-06  \n",
       "3           FLT3         2.630980   1.913294e-04     3.652651e-04  \n",
       "4         NOTCH2         1.016312   4.454929e-03     7.796127e-03  \n",
       "5          MERTK         0.538279   2.254785e-01     3.642345e-01  \n",
       "6      TNFRSF10C         0.361121   3.181183e-01     4.771774e-01  \n",
       "7          PLAUR        -1.140987   9.522257e-01     9.889505e-01  \n",
       "8          KRT19       -23.053108   9.889505e-01     9.889505e-01  \n",
       "9          KRT19       -23.053108   9.889505e-01     9.889505e-01  \n",
       "10         KRT19       -23.053108   9.889505e-01     9.889505e-01  \n",
       "11         KRT19       -23.053108   9.889505e-01     9.889505e-01  \n",
       "12         KRT19       -23.053108   9.889505e-01     9.889505e-01  \n",
       "13          FZD6        -1.377809   4.779456e-01     6.691238e-01  \n",
       "14          CD46        -2.197457   8.972451e-06     1.884215e-05  \n",
       "15          JAM3        -3.592594   6.832306e-07     1.793480e-06  \n",
       "16        NOTCH1        -5.566888   1.049875e-12     3.149625e-12  \n",
       "17         FGFR1        -7.473500   3.335359e-15     1.167376e-14  \n",
       "18          NRP2       -29.165958   1.227773e-22     5.156645e-22  \n",
       "19          NRP2       -29.165958   1.227773e-22     5.156645e-22  \n",
       "20          ESAM       -29.140921   2.133838e-24     1.493687e-23  "
      ]
     },
     "execution_count": 33,
     "metadata": {},
     "output_type": "execute_result"
    }
   ],
   "source": [
    "subset = adata[:, hsc_genes].copy()\n",
    "\n",
    "sc.tl.rank_genes_groups(subset, groupby='dataset_cell.labels', method='wilcoxon', use_raw=False, \n",
    "                        log_transformed=True, groups=['ds_fbm_HSC', 'fbm_HSC'], n_genes=subset.shape[1])\n",
    "\n",
    "# save df for filtered degs\n",
    "result = subset.uns['rank_genes_groups']\n",
    "groups = result['names'].dtype.names\n",
    "degs_by_cluster = pd.DataFrame({group + '_' + key[:7]: result[key][group]\n",
    "    for group in groups for key in ['names', 'logfoldchanges', 'pvals', 'pvals_adj']})\n",
    "# the degs_by_cluster df shows the log2 fold change for each gene ordered by z-score underlying the computation \n",
    "# of a p-value for each gene for each group\n",
    "degs_by_cluster.to_csv(\"/Users/b8058304/Documents/PhD_work/Coding/manuscript_figs_mk2/figs/clustering_degs/fig6e_hsc_ds_nonds_fbm_violin_degs_20210204.csv\")\n",
    "degs_by_cluster"
   ]
  },
  {
   "cell_type": "code",
   "execution_count": null,
   "metadata": {},
   "outputs": [],
   "source": []
  },
  {
   "cell_type": "code",
   "execution_count": null,
   "metadata": {},
   "outputs": [],
   "source": []
  },
  {
   "cell_type": "code",
   "execution_count": null,
   "metadata": {},
   "outputs": [],
   "source": []
  },
  {
   "cell_type": "markdown",
   "metadata": {},
   "source": [
    "# Run violin plots for endo"
   ]
  },
  {
   "cell_type": "code",
   "execution_count": 34,
   "metadata": {},
   "outputs": [
    {
     "data": {
      "text/plain": [
       "dataset_cell.labels\n",
       "ds_fbm_HSC            105\n",
       "ds_fbm_endothelium    111\n",
       "fbm_HSC                92\n",
       "fbm_endothelium       938\n",
       "dtype: int64"
      ]
     },
     "execution_count": 34,
     "metadata": {},
     "output_type": "execute_result"
    }
   ],
   "source": [
    "cell_numbers = adata.obs.groupby([\"dataset_cell.labels\"]).apply(len)\n",
    "cell_numbers"
   ]
  },
  {
   "cell_type": "code",
   "execution_count": 35,
   "metadata": {},
   "outputs": [],
   "source": [
    "endo_genes=[\"PGF\", \"ESAM\", \"FGF7\", \"DLK1\", \"TNFSF10\", \"NOV\", \"SELE\", \"DLL4\", \"SEMA3F\", \"VEGFA\", \"HBEGF\", \n",
    "           \"WNT5A\", \"ITGA4\", \"CD34\", \"KITLG\", \"GAS6\", \"JAG2\", \"JAG1\", \"FLT3LG\", \"JAM3\", \"FGFR2\"]"
   ]
  },
  {
   "cell_type": "code",
   "execution_count": 36,
   "metadata": {},
   "outputs": [
    {
     "name": "stderr",
     "output_type": "stream",
     "text": [
      "... storing '__is_in_cluster__' as categorical\n",
      "... storing 'age' as categorical\n",
      "... storing 'april_cell.labels' as categorical\n",
      "... storing 'auto_prd' as categorical\n",
      "... storing 'cell.labels' as categorical\n",
      "... storing 'cell.labels_20200708' as categorical\n",
      "... storing 'cell.labels_20200713' as categorical\n",
      "... storing 'cell.labels_20200718' as categorical\n",
      "... storing 'dataset' as categorical\n",
      "... storing 'doublets' as categorical\n",
      "... storing 'fetal.ids' as categorical\n",
      "... storing 'gender' as categorical\n",
      "... storing 'is_doublet' as categorical\n",
      "... storing 'is_doublet_poptrim' as categorical\n",
      "... storing 'is_doublet_wolock' as categorical\n",
      "... storing 'lanes' as categorical\n",
      "... storing 'leiden' as categorical\n",
      "... storing 'lr_pred' as categorical\n",
      "... storing 'mad_prd' as categorical\n",
      "... storing 'mito.threshold' as categorical\n",
      "... storing 'nk_meta' as categorical\n",
      "... storing 'orig.ident' as categorical\n",
      "... storing 'processing.type' as categorical\n",
      "... storing 'sequencing.type' as categorical\n",
      "... storing 'sex' as categorical\n",
      "... storing 'sort.ids' as categorical\n",
      "... storing 'souporcell_assignment' as categorical\n",
      "... storing 'souporcell_doublet' as categorical\n",
      "... storing 'feature_types-1-0' as categorical\n"
     ]
    },
    {
     "name": "stdout",
     "output_type": "stream",
     "text": [
      "WARNING: saving figure to file figures/stacked_violinendo_ds_nonds_fbm_violin_20210204.pdf\n"
     ]
    },
    {
     "data": {
      "image/png": "[encoded data removed]",
      "text/plain": [
       "<Figure size 1000x200 with 2 Axes>"
      ]
     },
     "metadata": {
      "image/png": {
       "height": 253,
       "width": 949
      },
      "needs_background": "light"
     },
     "output_type": "display_data"
    },
    {
     "data": {
      "text/plain": [
       "[<matplotlib.axes._subplots.AxesSubplot at 0x13bfefd30>,\n",
       " <matplotlib.axes._subplots.AxesSubplot at 0x13b547f60>]"
      ]
     },
     "execution_count": 36,
     "metadata": {},
     "output_type": "execute_result"
    }
   ],
   "source": [
    "sc.settings.set_figure_params(dpi=100, dpi_save=1000)\n",
    "\n",
    "adata.obs[\"dataset_cell.labels\"] = adata.obs[\"dataset_cell.labels\"].astype(\"category\")\n",
    "\n",
    "subset = adata[adata.obs['dataset_cell.labels'].isin(['ds_fbm_endothelium', 'fbm_endothelium'])].copy()\n",
    "\n",
    "subset.obs[\"dataset_cell.labels\"] = subset.obs[\"dataset_cell.labels\"].cat.reorder_categories(\n",
    "    ['ds_fbm_endothelium', 'fbm_endothelium'])\n",
    "\n",
    "sc.pl.stacked_violin(subset, var_names=endo_genes, save=\"endo_ds_nonds_fbm_violin_20210204.pdf\", \n",
    "                     rotation=90, \n",
    "                     groupby='dataset_cell.labels', use_raw=False, swap_axes=False, figsize=(10,2), \n",
    "                     row_palette=[\"#ffffff\", \"#ffffff\"])"
   ]
  },
  {
   "cell_type": "code",
   "execution_count": 37,
   "metadata": {},
   "outputs": [
    {
     "name": "stderr",
     "output_type": "stream",
     "text": [
      "... storing '__is_in_cluster__' as categorical\n",
      "... storing 'age' as categorical\n",
      "... storing 'april_cell.labels' as categorical\n",
      "... storing 'auto_prd' as categorical\n",
      "... storing 'cell.labels' as categorical\n",
      "... storing 'cell.labels_20200708' as categorical\n",
      "... storing 'cell.labels_20200713' as categorical\n",
      "... storing 'cell.labels_20200718' as categorical\n",
      "... storing 'dataset' as categorical\n",
      "... storing 'doublets' as categorical\n",
      "... storing 'fetal.ids' as categorical\n",
      "... storing 'gender' as categorical\n",
      "... storing 'is_doublet' as categorical\n",
      "... storing 'is_doublet_poptrim' as categorical\n",
      "... storing 'is_doublet_wolock' as categorical\n",
      "... storing 'lanes' as categorical\n",
      "... storing 'leiden' as categorical\n",
      "... storing 'lr_pred' as categorical\n",
      "... storing 'mad_prd' as categorical\n",
      "... storing 'mito.threshold' as categorical\n",
      "... storing 'nk_meta' as categorical\n",
      "... storing 'orig.ident' as categorical\n",
      "... storing 'processing.type' as categorical\n",
      "... storing 'sequencing.type' as categorical\n",
      "... storing 'sex' as categorical\n",
      "... storing 'sort.ids' as categorical\n",
      "... storing 'souporcell_assignment' as categorical\n",
      "... storing 'souporcell_doublet' as categorical\n",
      "... storing 'feature_types-1-0' as categorical\n"
     ]
    },
    {
     "data": {
      "text/html": [
       "<div>\n",
       "<style scoped>\n",
       "    .dataframe tbody tr th:only-of-type {\n",
       "        vertical-align: middle;\n",
       "    }\n",
       "\n",
       "    .dataframe tbody tr th {\n",
       "        vertical-align: top;\n",
       "    }\n",
       "\n",
       "    .dataframe thead th {\n",
       "        text-align: right;\n",
       "    }\n",
       "</style>\n",
       "<table border=\"1\" class=\"dataframe\">\n",
       "  <thead>\n",
       "    <tr style=\"text-align: right;\">\n",
       "      <th></th>\n",
       "      <th>ds_fbm_endothelium_names</th>\n",
       "      <th>ds_fbm_endothelium_logfold</th>\n",
       "      <th>ds_fbm_endothelium_pvals</th>\n",
       "      <th>ds_fbm_endothelium_pvals_a</th>\n",
       "      <th>fbm_endothelium_names</th>\n",
       "      <th>fbm_endothelium_logfold</th>\n",
       "      <th>fbm_endothelium_pvals</th>\n",
       "      <th>fbm_endothelium_pvals_a</th>\n",
       "    </tr>\n",
       "  </thead>\n",
       "  <tbody>\n",
       "    <tr>\n",
       "      <th>0</th>\n",
       "      <td>DLK1</td>\n",
       "      <td>6.862011e+00</td>\n",
       "      <td>9.679014e-40</td>\n",
       "      <td>2.032593e-38</td>\n",
       "      <td>ESAM</td>\n",
       "      <td>3.265514e+00</td>\n",
       "      <td>2.832840e-68</td>\n",
       "      <td>5.948963e-67</td>\n",
       "    </tr>\n",
       "    <tr>\n",
       "      <th>1</th>\n",
       "      <td>NOV</td>\n",
       "      <td>8.776180e+00</td>\n",
       "      <td>3.803333e-14</td>\n",
       "      <td>3.993499e-13</td>\n",
       "      <td>SELE</td>\n",
       "      <td>4.003199e+00</td>\n",
       "      <td>5.519237e-18</td>\n",
       "      <td>2.897600e-17</td>\n",
       "    </tr>\n",
       "    <tr>\n",
       "      <th>2</th>\n",
       "      <td>PGF</td>\n",
       "      <td>1.668372e+00</td>\n",
       "      <td>8.794550e-02</td>\n",
       "      <td>1.420658e-01</td>\n",
       "      <td>VEGFA</td>\n",
       "      <td>2.813198e+00</td>\n",
       "      <td>2.778445e-15</td>\n",
       "      <td>1.166947e-14</td>\n",
       "    </tr>\n",
       "    <tr>\n",
       "      <th>3</th>\n",
       "      <td>FGF7</td>\n",
       "      <td>4.089147e+00</td>\n",
       "      <td>1.518178e-01</td>\n",
       "      <td>2.277268e-01</td>\n",
       "      <td>DLL4</td>\n",
       "      <td>4.283809e+00</td>\n",
       "      <td>1.225454e-13</td>\n",
       "      <td>4.289091e-13</td>\n",
       "    </tr>\n",
       "    <tr>\n",
       "      <th>4</th>\n",
       "      <td>WNT5A</td>\n",
       "      <td>8.315103e+00</td>\n",
       "      <td>4.415581e-01</td>\n",
       "      <td>5.661338e-01</td>\n",
       "      <td>JAM3</td>\n",
       "      <td>5.400217e-01</td>\n",
       "      <td>8.076016e-13</td>\n",
       "      <td>2.422805e-12</td>\n",
       "    </tr>\n",
       "    <tr>\n",
       "      <th>5</th>\n",
       "      <td>JAG1</td>\n",
       "      <td>1.054371e+00</td>\n",
       "      <td>4.582988e-01</td>\n",
       "      <td>5.661338e-01</td>\n",
       "      <td>TNFSF10</td>\n",
       "      <td>1.451703e+00</td>\n",
       "      <td>7.709415e-12</td>\n",
       "      <td>2.023721e-11</td>\n",
       "    </tr>\n",
       "    <tr>\n",
       "      <th>6</th>\n",
       "      <td>GAS6</td>\n",
       "      <td>1.312309e+00</td>\n",
       "      <td>7.741009e-01</td>\n",
       "      <td>8.555852e-01</td>\n",
       "      <td>SEMA3F</td>\n",
       "      <td>4.651551e+00</td>\n",
       "      <td>4.811555e-09</td>\n",
       "      <td>1.122696e-08</td>\n",
       "    </tr>\n",
       "    <tr>\n",
       "      <th>7</th>\n",
       "      <td>FLT3LG</td>\n",
       "      <td>1.190369e+00</td>\n",
       "      <td>8.952276e-01</td>\n",
       "      <td>9.399889e-01</td>\n",
       "      <td>JAG2</td>\n",
       "      <td>5.482605e+00</td>\n",
       "      <td>3.484140e-05</td>\n",
       "      <td>7.316693e-05</td>\n",
       "    </tr>\n",
       "    <tr>\n",
       "      <th>8</th>\n",
       "      <td>FGFR2</td>\n",
       "      <td>4.080220e-08</td>\n",
       "      <td>1.000000e+00</td>\n",
       "      <td>1.000000e+00</td>\n",
       "      <td>JAG1</td>\n",
       "      <td>7.734292e-01</td>\n",
       "      <td>1.865578e-02</td>\n",
       "      <td>3.013626e-02</td>\n",
       "    </tr>\n",
       "    <tr>\n",
       "      <th>9</th>\n",
       "      <td>KITLG</td>\n",
       "      <td>4.260168e-01</td>\n",
       "      <td>6.080822e-01</td>\n",
       "      <td>7.094292e-01</td>\n",
       "      <td>KITLG</td>\n",
       "      <td>1.496655e+00</td>\n",
       "      <td>4.437807e-02</td>\n",
       "      <td>6.656710e-02</td>\n",
       "    </tr>\n",
       "    <tr>\n",
       "      <th>10</th>\n",
       "      <td>HBEGF</td>\n",
       "      <td>4.721761e-01</td>\n",
       "      <td>2.848754e-01</td>\n",
       "      <td>3.988256e-01</td>\n",
       "      <td>HBEGF</td>\n",
       "      <td>9.253145e-01</td>\n",
       "      <td>6.133587e-02</td>\n",
       "      <td>8.587022e-02</td>\n",
       "    </tr>\n",
       "    <tr>\n",
       "      <th>11</th>\n",
       "      <td>JAM3</td>\n",
       "      <td>7.001659e-01</td>\n",
       "      <td>6.944647e-02</td>\n",
       "      <td>1.215313e-01</td>\n",
       "      <td>GAS6</td>\n",
       "      <td>6.592232e-01</td>\n",
       "      <td>1.789533e-01</td>\n",
       "      <td>2.210599e-01</td>\n",
       "    </tr>\n",
       "    <tr>\n",
       "      <th>12</th>\n",
       "      <td>JAG2</td>\n",
       "      <td>-3.669447e+00</td>\n",
       "      <td>4.049870e-02</td>\n",
       "      <td>7.731570e-02</td>\n",
       "      <td>PGF</td>\n",
       "      <td>1.442171e-01</td>\n",
       "      <td>5.081758e-01</td>\n",
       "      <td>5.928718e-01</td>\n",
       "    </tr>\n",
       "    <tr>\n",
       "      <th>13</th>\n",
       "      <td>CD34</td>\n",
       "      <td>-5.203828e-01</td>\n",
       "      <td>1.292423e-02</td>\n",
       "      <td>2.714087e-02</td>\n",
       "      <td>FGFR2</td>\n",
       "      <td>4.080220e-08</td>\n",
       "      <td>1.000000e+00</td>\n",
       "      <td>1.000000e+00</td>\n",
       "    </tr>\n",
       "    <tr>\n",
       "      <th>14</th>\n",
       "      <td>ITGA4</td>\n",
       "      <td>-4.063221e+00</td>\n",
       "      <td>5.556510e-03</td>\n",
       "      <td>1.296519e-02</td>\n",
       "      <td>WNT5A</td>\n",
       "      <td>-6.370296e+00</td>\n",
       "      <td>6.889134e-01</td>\n",
       "      <td>7.233591e-01</td>\n",
       "    </tr>\n",
       "    <tr>\n",
       "      <th>15</th>\n",
       "      <td>SEMA3F</td>\n",
       "      <td>-2.817854e+00</td>\n",
       "      <td>2.171726e-03</td>\n",
       "      <td>5.700780e-03</td>\n",
       "      <td>FLT3LG</td>\n",
       "      <td>-1.181324e+00</td>\n",
       "      <td>5.818908e-01</td>\n",
       "      <td>6.431424e-01</td>\n",
       "    </tr>\n",
       "    <tr>\n",
       "      <th>16</th>\n",
       "      <td>VEGFA</td>\n",
       "      <td>-1.097187e+00</td>\n",
       "      <td>6.604625e-04</td>\n",
       "      <td>1.981387e-03</td>\n",
       "      <td>FGF7</td>\n",
       "      <td>-3.730769e+00</td>\n",
       "      <td>1.069427e-01</td>\n",
       "      <td>1.403623e-01</td>\n",
       "    </tr>\n",
       "    <tr>\n",
       "      <th>17</th>\n",
       "      <td>DLL4</td>\n",
       "      <td>-2.548093e+00</td>\n",
       "      <td>1.272121e-04</td>\n",
       "      <td>4.452423e-04</td>\n",
       "      <td>CD34</td>\n",
       "      <td>-4.175624e-01</td>\n",
       "      <td>3.068227e-03</td>\n",
       "      <td>5.369397e-03</td>\n",
       "    </tr>\n",
       "    <tr>\n",
       "      <th>18</th>\n",
       "      <td>SELE</td>\n",
       "      <td>-2.137386e+00</td>\n",
       "      <td>4.579549e-05</td>\n",
       "      <td>1.923410e-04</td>\n",
       "      <td>NOV</td>\n",
       "      <td>-5.890101e+00</td>\n",
       "      <td>6.577500e-05</td>\n",
       "      <td>1.255704e-04</td>\n",
       "    </tr>\n",
       "    <tr>\n",
       "      <th>19</th>\n",
       "      <td>TNFSF10</td>\n",
       "      <td>-2.032189e+00</td>\n",
       "      <td>1.680890e-10</td>\n",
       "      <td>8.824673e-10</td>\n",
       "      <td>ITGA4</td>\n",
       "      <td>-6.753810e+00</td>\n",
       "      <td>1.186938e-51</td>\n",
       "      <td>8.308568e-51</td>\n",
       "    </tr>\n",
       "    <tr>\n",
       "      <th>20</th>\n",
       "      <td>ESAM</td>\n",
       "      <td>-1.606359e+00</td>\n",
       "      <td>2.889138e-13</td>\n",
       "      <td>2.022396e-12</td>\n",
       "      <td>DLK1</td>\n",
       "      <td>-8.449129e+00</td>\n",
       "      <td>8.652486e-62</td>\n",
       "      <td>9.085111e-61</td>\n",
       "    </tr>\n",
       "  </tbody>\n",
       "</table>\n",
       "</div>"
      ],
      "text/plain": [
       "   ds_fbm_endothelium_names  ds_fbm_endothelium_logfold  \\\n",
       "0                      DLK1                6.862011e+00   \n",
       "1                       NOV                8.776180e+00   \n",
       "2                       PGF                1.668372e+00   \n",
       "3                      FGF7                4.089147e+00   \n",
       "4                     WNT5A                8.315103e+00   \n",
       "5                      JAG1                1.054371e+00   \n",
       "6                      GAS6                1.312309e+00   \n",
       "7                    FLT3LG                1.190369e+00   \n",
       "8                     FGFR2                4.080220e-08   \n",
       "9                     KITLG                4.260168e-01   \n",
       "10                    HBEGF                4.721761e-01   \n",
       "11                     JAM3                7.001659e-01   \n",
       "12                     JAG2               -3.669447e+00   \n",
       "13                     CD34               -5.203828e-01   \n",
       "14                    ITGA4               -4.063221e+00   \n",
       "15                   SEMA3F               -2.817854e+00   \n",
       "16                    VEGFA               -1.097187e+00   \n",
       "17                     DLL4               -2.548093e+00   \n",
       "18                     SELE               -2.137386e+00   \n",
       "19                  TNFSF10               -2.032189e+00   \n",
       "20                     ESAM               -1.606359e+00   \n",
       "\n",
       "    ds_fbm_endothelium_pvals  ds_fbm_endothelium_pvals_a  \\\n",
       "0               9.679014e-40                2.032593e-38   \n",
       "1               3.803333e-14                3.993499e-13   \n",
       "2               8.794550e-02                1.420658e-01   \n",
       "3               1.518178e-01                2.277268e-01   \n",
       "4               4.415581e-01                5.661338e-01   \n",
       "5               4.582988e-01                5.661338e-01   \n",
       "6               7.741009e-01                8.555852e-01   \n",
       "7               8.952276e-01                9.399889e-01   \n",
       "8               1.000000e+00                1.000000e+00   \n",
       "9               6.080822e-01                7.094292e-01   \n",
       "10              2.848754e-01                3.988256e-01   \n",
       "11              6.944647e-02                1.215313e-01   \n",
       "12              4.049870e-02                7.731570e-02   \n",
       "13              1.292423e-02                2.714087e-02   \n",
       "14              5.556510e-03                1.296519e-02   \n",
       "15              2.171726e-03                5.700780e-03   \n",
       "16              6.604625e-04                1.981387e-03   \n",
       "17              1.272121e-04                4.452423e-04   \n",
       "18              4.579549e-05                1.923410e-04   \n",
       "19              1.680890e-10                8.824673e-10   \n",
       "20              2.889138e-13                2.022396e-12   \n",
       "\n",
       "   fbm_endothelium_names  fbm_endothelium_logfold  fbm_endothelium_pvals  \\\n",
       "0                   ESAM             3.265514e+00           2.832840e-68   \n",
       "1                   SELE             4.003199e+00           5.519237e-18   \n",
       "2                  VEGFA             2.813198e+00           2.778445e-15   \n",
       "3                   DLL4             4.283809e+00           1.225454e-13   \n",
       "4                   JAM3             5.400217e-01           8.076016e-13   \n",
       "5                TNFSF10             1.451703e+00           7.709415e-12   \n",
       "6                 SEMA3F             4.651551e+00           4.811555e-09   \n",
       "7                   JAG2             5.482605e+00           3.484140e-05   \n",
       "8                   JAG1             7.734292e-01           1.865578e-02   \n",
       "9                  KITLG             1.496655e+00           4.437807e-02   \n",
       "10                 HBEGF             9.253145e-01           6.133587e-02   \n",
       "11                  GAS6             6.592232e-01           1.789533e-01   \n",
       "12                   PGF             1.442171e-01           5.081758e-01   \n",
       "13                 FGFR2             4.080220e-08           1.000000e+00   \n",
       "14                 WNT5A            -6.370296e+00           6.889134e-01   \n",
       "15                FLT3LG            -1.181324e+00           5.818908e-01   \n",
       "16                  FGF7            -3.730769e+00           1.069427e-01   \n",
       "17                  CD34            -4.175624e-01           3.068227e-03   \n",
       "18                   NOV            -5.890101e+00           6.577500e-05   \n",
       "19                 ITGA4            -6.753810e+00           1.186938e-51   \n",
       "20                  DLK1            -8.449129e+00           8.652486e-62   \n",
       "\n",
       "    fbm_endothelium_pvals_a  \n",
       "0              5.948963e-67  \n",
       "1              2.897600e-17  \n",
       "2              1.166947e-14  \n",
       "3              4.289091e-13  \n",
       "4              2.422805e-12  \n",
       "5              2.023721e-11  \n",
       "6              1.122696e-08  \n",
       "7              7.316693e-05  \n",
       "8              3.013626e-02  \n",
       "9              6.656710e-02  \n",
       "10             8.587022e-02  \n",
       "11             2.210599e-01  \n",
       "12             5.928718e-01  \n",
       "13             1.000000e+00  \n",
       "14             7.233591e-01  \n",
       "15             6.431424e-01  \n",
       "16             1.403623e-01  \n",
       "17             5.369397e-03  \n",
       "18             1.255704e-04  \n",
       "19             8.308568e-51  \n",
       "20             9.085111e-61  "
      ]
     },
     "execution_count": 37,
     "metadata": {},
     "output_type": "execute_result"
    }
   ],
   "source": [
    "subset = adata[:, endo_genes].copy()\n",
    "\n",
    "sc.tl.rank_genes_groups(subset, groupby='dataset_cell.labels', method='wilcoxon', use_raw=False, \n",
    "                        log_transformed=True, groups=['ds_fbm_endothelium', 'fbm_endothelium'], \n",
    "                        n_genes=subset.shape[1])\n",
    "\n",
    "# save df for filtered degs\n",
    "result = subset.uns['rank_genes_groups']\n",
    "groups = result['names'].dtype.names\n",
    "degs_by_cluster = pd.DataFrame({group + '_' + key[:7]: result[key][group]\n",
    "    for group in groups for key in ['names', 'logfoldchanges', 'pvals', 'pvals_adj']})\n",
    "# the degs_by_cluster df shows the log2 fold change for each gene ordered by z-score underlying the computation \n",
    "# of a p-value for each gene for each group\n",
    "degs_by_cluster.to_csv(\"/Users/b8058304/Documents/PhD_work/Coding/manuscript_figs_mk2/figs/clustering_degs/fig6e_endo_ds_nonds_fbm_violin_degs_20210204.csv\")\n",
    "degs_by_cluster"
   ]
  },
  {
   "cell_type": "code",
   "execution_count": null,
   "metadata": {},
   "outputs": [],
   "source": []
  },
  {
   "cell_type": "code",
   "execution_count": null,
   "metadata": {},
   "outputs": [],
   "source": []
  },
  {
   "cell_type": "markdown",
   "metadata": {},
   "source": [
    "# Save the data"
   ]
  },
  {
   "cell_type": "code",
   "execution_count": 38,
   "metadata": {},
   "outputs": [],
   "source": [
    "from scipy.sparse import csr_matrix\n",
    "adata.X = sparse.csr_matrix(adata.X)"
   ]
  },
  {
   "cell_type": "code",
   "execution_count": 39,
   "metadata": {},
   "outputs": [
    {
     "data": {
      "text/plain": [
       "<1246x33694 sparse matrix of type '<class 'numpy.float32'>'\n",
       "\twith 3174446 stored elements in Compressed Sparse Row format>"
      ]
     },
     "execution_count": 39,
     "metadata": {},
     "output_type": "execute_result"
    }
   ],
   "source": [
    "adata.X"
   ]
  },
  {
   "cell_type": "code",
   "execution_count": 40,
   "metadata": {},
   "outputs": [
    {
     "data": {
      "text/plain": [
       "<1246x33694 sparse matrix of type '<class 'numpy.float32'>'\n",
       "\twith 3521757 stored elements in Compressed Sparse Row format>"
      ]
     },
     "execution_count": 40,
     "metadata": {},
     "output_type": "execute_result"
    }
   ],
   "source": [
    "adata.raw.X"
   ]
  },
  {
   "cell_type": "code",
   "execution_count": 41,
   "metadata": {},
   "outputs": [
    {
     "name": "stderr",
     "output_type": "stream",
     "text": [
      "... storing '__is_in_cluster__' as categorical\n",
      "... storing 'age' as categorical\n",
      "... storing 'april_cell.labels' as categorical\n",
      "... storing 'auto_prd' as categorical\n",
      "... storing 'cell.labels' as categorical\n",
      "... storing 'cell.labels_20200708' as categorical\n",
      "... storing 'cell.labels_20200713' as categorical\n",
      "... storing 'cell.labels_20200718' as categorical\n",
      "... storing 'dataset' as categorical\n",
      "... storing 'doublets' as categorical\n",
      "... storing 'fetal.ids' as categorical\n",
      "... storing 'gender' as categorical\n",
      "... storing 'is_doublet' as categorical\n",
      "... storing 'is_doublet_poptrim' as categorical\n",
      "... storing 'is_doublet_wolock' as categorical\n",
      "... storing 'lanes' as categorical\n",
      "... storing 'leiden' as categorical\n",
      "... storing 'lr_pred' as categorical\n",
      "... storing 'mad_prd' as categorical\n",
      "... storing 'mito.threshold' as categorical\n",
      "... storing 'nk_meta' as categorical\n",
      "... storing 'orig.ident' as categorical\n",
      "... storing 'processing.type' as categorical\n",
      "... storing 'sequencing.type' as categorical\n",
      "... storing 'sex' as categorical\n",
      "... storing 'sort.ids' as categorical\n",
      "... storing 'souporcell_assignment' as categorical\n",
      "... storing 'souporcell_doublet' as categorical\n",
      "... storing 'feature_types-1-0' as categorical\n",
      "... storing 'feature_types-1-0' as categorical\n"
     ]
    }
   ],
   "source": [
    "adata.write(\"/Users/b8058304/Documents/PhD_work/Coding/manuscript_figs_mk2/data/figs6e_fbm_ds_hsc_endo_violin_20210204.h5ad\")"
   ]
  },
  {
   "cell_type": "code",
   "execution_count": null,
   "metadata": {},
   "outputs": [],
   "source": []
  },
  {
   "cell_type": "code",
   "execution_count": null,
   "metadata": {},
   "outputs": [],
   "source": []
  }
 ],
 "metadata": {
  "kernelspec": {
   "display_name": "Python 3",
   "language": "python",
   "name": "python3"
  },
  "language_info": {
   "codemirror_mode": {
    "name": "ipython",
    "version": 3
   },
   "file_extension": ".py",
   "mimetype": "text/x-python",
   "name": "python",
   "nbconvert_exporter": "python",
   "pygments_lexer": "ipython3",
   "version": "3.6.4"
  }
 },
 "nbformat": 4,
 "nbformat_minor": 4
}
