{
 "cells": [
  {
   "cell_type": "markdown",
   "metadata": {},
   "source": [
    "### Protein analysis FL+FBM+CB - Endo - EXCLUDING CB as well \n",
    "#### Mariana Quiroga Londono "
   ]
  },
  {
   "cell_type": "code",
   "execution_count": 1,
   "metadata": {},
   "outputs": [
    {
     "name": "stderr",
     "output_type": "stream",
     "text": [
      "/usr/local/lib/python3.7/dist-packages/numba/core/cpu.py:77: UserWarning: Numba extension module 'sparse._numba_extension' failed to load due to 'ModuleNotFoundError(No module named 'numba.targets')'.\n",
      "  numba.core.entrypoints.init_all()\n"
     ]
    }
   ],
   "source": [
    "#SETTING ENVIRONMENT \n",
    "\n",
    "import rpy2\n",
    "#import tzlocal\n",
    "#%load_ext rpy2.ipython\n",
    "\n",
    "import numpy as np\n",
    "import pandas as pd\n",
    "import scanpy as sc\n",
    "\n",
    "sc.settings.verbosity = 3             # verbosity: errors (0), warnings (1), info (2), hints (3)\n",
    "#sc.logging.print_versions()\n",
    "sc.settings.set_figure_params(dpi=80, dpi_save=1000)"
   ]
  },
  {
   "cell_type": "code",
   "execution_count": 2,
   "metadata": {},
   "outputs": [],
   "source": [
    "from matplotlib.colors import LinearSegmentedColormap\n",
    "cmap = LinearSegmentedColormap.from_list(name='gene_cmap', colors=['lightgrey', 'thistle', 'red', 'darkred']) "
   ]
  },
  {
   "cell_type": "markdown",
   "metadata": {},
   "source": [
    "# Read protein (usually called DSB_OUTPUT0)"
   ]
  },
  {
   "cell_type": "code",
   "execution_count": 3,
   "metadata": {},
   "outputs": [
    {
     "data": {
      "text/plain": [
       "'/rds/project/bg200/rds-bg200-hphi-gottgens/users/mq224/project_citeseq/part2citeseq/PhD/Year_1/Collaborations/Haniffa_Lab/Comparison_HSPCs_CD34+_fromFBM_CB_and_FL/ADT'"
      ]
     },
     "execution_count": 3,
     "metadata": {},
     "output_type": "execute_result"
    }
   ],
   "source": [
    "pwd"
   ]
  },
  {
   "cell_type": "code",
   "execution_count": 4,
   "metadata": {},
   "outputs": [],
   "source": [
    "adata =sc.read(\"20210419_mq224_sinusoidalEC-endo_postQC_postDSB_postFDG_postHarmony_ADTonmRNA_FBMS2-3-H3-F3-E5_CB-G7_FL-A7-A6-C5.h5ad\")"
   ]
  },
  {
   "cell_type": "code",
   "execution_count": 5,
   "metadata": {},
   "outputs": [
    {
     "data": {
      "text/plain": [
       "AnnData object with n_obs × n_vars = 1469 × 198\n",
       "    obs: 'Sample', 'batch', 'Tissue', 'assignment', 'leiden', 'louvain', 'FBM10X_prediction'\n",
       "    var: 'bg_mean'\n",
       "    uns: 'Sample_colors', 'Tissue_colors', 'assignment_colors', 'draw_graph', 'leiden', 'leiden_colors', 'louvain', 'neighbors', 'pca', 'umap'\n",
       "    obsm: 'X_draw_graph_fa', 'X_orig_pca', 'X_pca', 'X_umap'\n",
       "    varm: 'PCs'\n",
       "    obsp: 'connectivities', 'distances'"
      ]
     },
     "execution_count": 5,
     "metadata": {},
     "output_type": "execute_result"
    }
   ],
   "source": [
    "adata"
   ]
  },
  {
   "cell_type": "markdown",
   "metadata": {},
   "source": [
    "# DEP"
   ]
  },
  {
   "cell_type": "code",
   "execution_count": 6,
   "metadata": {},
   "outputs": [],
   "source": [
    "adata.X = np.where(adata.X < 0, 0, adata.X)"
   ]
  },
  {
   "cell_type": "code",
   "execution_count": 7,
   "metadata": {},
   "outputs": [],
   "source": [
    "adata.obs[\"Celltype_Tissue\"]=adata.obs['FBM10X_prediction'].astype(str)+\"_\"+adata.obs[\"Tissue\"].astype(str)"
   ]
  },
  {
   "cell_type": "code",
   "execution_count": 8,
   "metadata": {},
   "outputs": [
    {
     "data": {
      "text/plain": [
       "array(['sinusoidal EC_ref_train_FBM', 'sinusoidal EC_ref_train_FL'],\n",
       "      dtype=object)"
      ]
     },
     "execution_count": 8,
     "metadata": {},
     "output_type": "execute_result"
    }
   ],
   "source": [
    "np.unique(adata.obs[\"Celltype_Tissue\"])"
   ]
  },
  {
   "cell_type": "code",
   "execution_count": 9,
   "metadata": {},
   "outputs": [
    {
     "name": "stdout",
     "output_type": "stream",
     "text": [
      "ranking genes\n"
     ]
    },
    {
     "name": "stderr",
     "output_type": "stream",
     "text": [
      "... storing 'Celltype_Tissue' as categorical\n"
     ]
    },
    {
     "name": "stdout",
     "output_type": "stream",
     "text": [
      "    finished: added to `.uns['rank_genes_groups']`\n",
      "    'names', sorted np.recarray to be indexed by group ids\n",
      "    'scores', sorted np.recarray to be indexed by group ids\n",
      "    'logfoldchanges', sorted np.recarray to be indexed by group ids\n",
      "    'pvals', sorted np.recarray to be indexed by group ids\n",
      "    'pvals_adj', sorted np.recarray to be indexed by group ids (0:00:00)\n"
     ]
    }
   ],
   "source": [
    "#calculate degs using wilcoxon rank sum test with benjamini-hochberg correction. \n",
    "#based on ln transformed count data \n",
    "sc.tl.rank_genes_groups(adata, groupby=\"Celltype_Tissue\", method='wilcoxon', use_raw=False, log_transformed=False, groups = ['sinusoidal EC_ref_train_FBM', 'sinusoidal EC_ref_train_FL'])"
   ]
  },
  {
   "cell_type": "code",
   "execution_count": 10,
   "metadata": {},
   "outputs": [
    {
     "name": "stdout",
     "output_type": "stream",
     "text": [
      "Filtering genes using: min_in_group_fraction: 0.25 min_fold_change: 0.25, max_out_group_fraction: 0.5\n"
     ]
    }
   ],
   "source": [
    "# filter the degs for those which are expressed in at least 25% of cells in cluster. \n",
    "#log2fc of the ln-transformed\n",
    "# data will be shown.\n",
    "sc.tl.filter_rank_genes_groups(adata, min_in_group_fraction=0.25, min_fold_change = 0.25, use_raw=False)"
   ]
  },
  {
   "cell_type": "code",
   "execution_count": 11,
   "metadata": {},
   "outputs": [
    {
     "data": {
      "text/html": [
       "<div>\n",
       "<style scoped>\n",
       "    .dataframe tbody tr th:only-of-type {\n",
       "        vertical-align: middle;\n",
       "    }\n",
       "\n",
       "    .dataframe tbody tr th {\n",
       "        vertical-align: top;\n",
       "    }\n",
       "\n",
       "    .dataframe thead th {\n",
       "        text-align: right;\n",
       "    }\n",
       "</style>\n",
       "<table border=\"1\" class=\"dataframe\">\n",
       "  <thead>\n",
       "    <tr style=\"text-align: right;\">\n",
       "      <th></th>\n",
       "      <th>sinusoidal EC_ref_train_FBM_names</th>\n",
       "      <th>sinusoidal EC_ref_train_FBM_logfold</th>\n",
       "      <th>sinusoidal EC_ref_train_FBM_pvals</th>\n",
       "      <th>sinusoidal EC_ref_train_FBM_pvals_a</th>\n",
       "      <th>sinusoidal EC_ref_train_FL_names</th>\n",
       "      <th>sinusoidal EC_ref_train_FL_logfold</th>\n",
       "      <th>sinusoidal EC_ref_train_FL_pvals</th>\n",
       "      <th>sinusoidal EC_ref_train_FL_pvals_a</th>\n",
       "    </tr>\n",
       "  </thead>\n",
       "  <tbody>\n",
       "    <tr>\n",
       "      <th>0</th>\n",
       "      <td>CD105</td>\n",
       "      <td>12.314472</td>\n",
       "      <td>5.515383e-100</td>\n",
       "      <td>3.640153e-98</td>\n",
       "      <td>CLEC1B</td>\n",
       "      <td>14.064296</td>\n",
       "      <td>3.484427e-136</td>\n",
       "      <td>6.899166e-134</td>\n",
       "    </tr>\n",
       "    <tr>\n",
       "      <th>1</th>\n",
       "      <td>CD106</td>\n",
       "      <td>7.794829</td>\n",
       "      <td>7.682532e-77</td>\n",
       "      <td>2.535235e-75</td>\n",
       "      <td>CD47</td>\n",
       "      <td>4.903946</td>\n",
       "      <td>2.137431e-104</td>\n",
       "      <td>2.116057e-102</td>\n",
       "    </tr>\n",
       "    <tr>\n",
       "      <th>2</th>\n",
       "      <td>CD200</td>\n",
       "      <td>5.208693</td>\n",
       "      <td>5.590293e-76</td>\n",
       "      <td>1.581254e-74</td>\n",
       "      <td>CD146</td>\n",
       "      <td>5.050350</td>\n",
       "      <td>1.115716e-82</td>\n",
       "      <td>5.522794e-81</td>\n",
       "    </tr>\n",
       "    <tr>\n",
       "      <th>3</th>\n",
       "      <td>CD99</td>\n",
       "      <td>4.805480</td>\n",
       "      <td>2.875838e-61</td>\n",
       "      <td>4.745132e-60</td>\n",
       "      <td>Folate</td>\n",
       "      <td>4.534304</td>\n",
       "      <td>3.618526e-79</td>\n",
       "      <td>1.432936e-77</td>\n",
       "    </tr>\n",
       "    <tr>\n",
       "      <th>4</th>\n",
       "      <td>CD36</td>\n",
       "      <td>2.997990</td>\n",
       "      <td>1.422587e-57</td>\n",
       "      <td>2.011945e-56</td>\n",
       "      <td>Siglec8</td>\n",
       "      <td>2.878098</td>\n",
       "      <td>3.075474e-71</td>\n",
       "      <td>7.611798e-70</td>\n",
       "    </tr>\n",
       "    <tr>\n",
       "      <th>5</th>\n",
       "      <td>CD141</td>\n",
       "      <td>4.847965</td>\n",
       "      <td>1.947165e-48</td>\n",
       "      <td>1.927693e-47</td>\n",
       "      <td>EGFR</td>\n",
       "      <td>5.267000</td>\n",
       "      <td>4.887028e-70</td>\n",
       "      <td>1.075146e-68</td>\n",
       "    </tr>\n",
       "    <tr>\n",
       "      <th>6</th>\n",
       "      <td>CD9</td>\n",
       "      <td>3.281663</td>\n",
       "      <td>6.066888e-44</td>\n",
       "      <td>5.222799e-43</td>\n",
       "      <td>CD4</td>\n",
       "      <td>4.860181</td>\n",
       "      <td>6.443088e-66</td>\n",
       "      <td>1.275732e-64</td>\n",
       "    </tr>\n",
       "    <tr>\n",
       "      <th>7</th>\n",
       "      <td>TSLPR</td>\n",
       "      <td>5.541441</td>\n",
       "      <td>1.689673e-35</td>\n",
       "      <td>1.153639e-34</td>\n",
       "      <td>CD164</td>\n",
       "      <td>4.506919</td>\n",
       "      <td>3.959813e-64</td>\n",
       "      <td>7.127663e-63</td>\n",
       "    </tr>\n",
       "    <tr>\n",
       "      <th>8</th>\n",
       "      <td>CD39</td>\n",
       "      <td>2.333376</td>\n",
       "      <td>1.333158e-30</td>\n",
       "      <td>8.515012e-30</td>\n",
       "      <td>CD95</td>\n",
       "      <td>3.922485</td>\n",
       "      <td>4.230184e-58</td>\n",
       "      <td>6.442896e-57</td>\n",
       "    </tr>\n",
       "    <tr>\n",
       "      <th>9</th>\n",
       "      <td>CD102</td>\n",
       "      <td>1.922154</td>\n",
       "      <td>7.122138e-28</td>\n",
       "      <td>4.029095e-27</td>\n",
       "      <td>CD82</td>\n",
       "      <td>3.119332</td>\n",
       "      <td>1.018301e-56</td>\n",
       "      <td>1.344157e-55</td>\n",
       "    </tr>\n",
       "  </tbody>\n",
       "</table>\n",
       "</div>"
      ],
      "text/plain": [
       "  sinusoidal EC_ref_train_FBM_names  sinusoidal EC_ref_train_FBM_logfold  \\\n",
       "0                             CD105                            12.314472   \n",
       "1                             CD106                             7.794829   \n",
       "2                             CD200                             5.208693   \n",
       "3                              CD99                             4.805480   \n",
       "4                              CD36                             2.997990   \n",
       "5                             CD141                             4.847965   \n",
       "6                               CD9                             3.281663   \n",
       "7                             TSLPR                             5.541441   \n",
       "8                              CD39                             2.333376   \n",
       "9                             CD102                             1.922154   \n",
       "\n",
       "   sinusoidal EC_ref_train_FBM_pvals  sinusoidal EC_ref_train_FBM_pvals_a  \\\n",
       "0                      5.515383e-100                         3.640153e-98   \n",
       "1                       7.682532e-77                         2.535235e-75   \n",
       "2                       5.590293e-76                         1.581254e-74   \n",
       "3                       2.875838e-61                         4.745132e-60   \n",
       "4                       1.422587e-57                         2.011945e-56   \n",
       "5                       1.947165e-48                         1.927693e-47   \n",
       "6                       6.066888e-44                         5.222799e-43   \n",
       "7                       1.689673e-35                         1.153639e-34   \n",
       "8                       1.333158e-30                         8.515012e-30   \n",
       "9                       7.122138e-28                         4.029095e-27   \n",
       "\n",
       "  sinusoidal EC_ref_train_FL_names  sinusoidal EC_ref_train_FL_logfold  \\\n",
       "0                           CLEC1B                           14.064296   \n",
       "1                             CD47                            4.903946   \n",
       "2                            CD146                            5.050350   \n",
       "3                           Folate                            4.534304   \n",
       "4                          Siglec8                            2.878098   \n",
       "5                             EGFR                            5.267000   \n",
       "6                              CD4                            4.860181   \n",
       "7                            CD164                            4.506919   \n",
       "8                             CD95                            3.922485   \n",
       "9                             CD82                            3.119332   \n",
       "\n",
       "   sinusoidal EC_ref_train_FL_pvals  sinusoidal EC_ref_train_FL_pvals_a  \n",
       "0                     3.484427e-136                       6.899166e-134  \n",
       "1                     2.137431e-104                       2.116057e-102  \n",
       "2                      1.115716e-82                        5.522794e-81  \n",
       "3                      3.618526e-79                        1.432936e-77  \n",
       "4                      3.075474e-71                        7.611798e-70  \n",
       "5                      4.887028e-70                        1.075146e-68  \n",
       "6                      6.443088e-66                        1.275732e-64  \n",
       "7                      3.959813e-64                        7.127663e-63  \n",
       "8                      4.230184e-58                        6.442896e-57  \n",
       "9                      1.018301e-56                        1.344157e-55  "
      ]
     },
     "execution_count": 11,
     "metadata": {},
     "output_type": "execute_result"
    }
   ],
   "source": [
    "# save df for unfiltered degs\n",
    "result = adata.uns['rank_genes_groups']\n",
    "groups = result['names'].dtype.names\n",
    "degs_by_cluster = pd.DataFrame({group + '_' + key[:7]: result[key][group]\n",
    "    for group in groups for key in ['names', 'logfoldchanges', 'pvals', 'pvals_adj']})\n",
    "\n",
    "# the degs_by_cluster df shows the log2 fold change for each gene ordered by z-score underlying the computation \n",
    "# of a p-value for each gene for each group\n",
    "degs_by_cluster.to_csv(\"./20210420_DEP_R3/20210420_mq224_DEPWilcoxon_BHcorrection_FL-FBM_mRNA_SinuEC-endo.csv\")\n",
    "degs_by_cluster[:10]"
   ]
  },
  {
   "cell_type": "code",
   "execution_count": 12,
   "metadata": {},
   "outputs": [
    {
     "data": {
      "text/plain": [
       "'/rds/project/bg200/rds-bg200-hphi-gottgens/users/mq224/project_citeseq/part2citeseq/PhD/Year_1/Collaborations/Haniffa_Lab/Comparison_HSPCs_CD34+_fromFBM_CB_and_FL/ADT'"
      ]
     },
     "execution_count": 12,
     "metadata": {},
     "output_type": "execute_result"
    }
   ],
   "source": [
    "pwd"
   ]
  },
  {
   "cell_type": "code",
   "execution_count": null,
   "metadata": {},
   "outputs": [],
   "source": []
  }
 ],
 "metadata": {
  "kernelspec": {
   "display_name": "Python 3",
   "language": "python",
   "name": "python3"
  },
  "language_info": {
   "codemirror_mode": {
    "name": "ipython",
    "version": 3
   },
   "file_extension": ".py",
   "mimetype": "text/x-python",
   "name": "python",
   "nbconvert_exporter": "python",
   "pygments_lexer": "ipython3",
   "version": "3.7.5rc1"
  }
 },
 "nbformat": 4,
 "nbformat_minor": 2
}
