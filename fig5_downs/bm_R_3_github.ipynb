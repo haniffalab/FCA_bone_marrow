{
 "cells": [
  {
   "cell_type": "code",
   "execution_count": 2,
   "metadata": {},
   "outputs": [
    {
     "name": "stderr",
     "output_type": "stream",
     "text": [
      "\n",
      "Attaching package: ‘dplyr’\n",
      "\n",
      "\n",
      "The following objects are masked from ‘package:stats’:\n",
      "\n",
      "    filter, lag\n",
      "\n",
      "\n",
      "The following objects are masked from ‘package:base’:\n",
      "\n",
      "    intersect, setdiff, setequal, union\n",
      "\n",
      "\n",
      "Loading required package: Rcpp\n",
      "\n",
      "\n",
      "Attaching package: ‘reshape’\n",
      "\n",
      "\n",
      "The following object is masked from ‘package:Matrix’:\n",
      "\n",
      "    expand\n",
      "\n",
      "\n",
      "The following object is masked from ‘package:dplyr’:\n",
      "\n",
      "    rename\n",
      "\n",
      "\n"
     ]
    }
   ],
   "source": [
    "library(Seurat)\n",
    "library(dplyr)\n",
    "library(reticulate)\n",
    "library(Matrix)\n",
    "library(stringr)\n",
    "library(tximport)\n",
    "library(readr)\n",
    "library(harmony)\n",
    "library(dplyr)\n",
    "library(reshape)\n",
    "library(dplyr)\n",
    "library(ggplot2)\n",
    "library(repr)\n",
    "library(ggpubr)\n",
    "library(UpSetR)\n",
    "library(ggcorrplot)\n",
    "library(ggrepel)\n"
   ]
  },
  {
   "cell_type": "markdown",
   "metadata": {},
   "source": [
    "\n",
    "\n",
    "***Merge non-Downs and Downs and save combined object***\n",
    "\n"
   ]
  },
  {
   "cell_type": "code",
   "execution_count": 23,
   "metadata": {},
   "outputs": [],
   "source": [
    "setwd(\"/home/jovyan/data/bone_marrow/data\")\n",
    "downs<-readRDS(\"downs.RDS\")\n",
    "bm<-readRDS(\"bm.RDS\")"
   ]
  },
  {
   "cell_type": "code",
   "execution_count": 28,
   "metadata": {},
   "outputs": [],
   "source": [
    "downs@meta.data$Status<-\"downs\"\n",
    "bm@meta.data$Status<-\"healthy\""
   ]
  },
  {
   "cell_type": "code",
   "execution_count": 52,
   "metadata": {},
   "outputs": [],
   "source": [
    "total<-merge(bm, y = downs)"
   ]
  },
  {
   "cell_type": "code",
   "execution_count": 53,
   "metadata": {},
   "outputs": [
    {
     "name": "stderr",
     "output_type": "stream",
     "text": [
      "Centering and scaling data matrix\n",
      "\n"
     ]
    }
   ],
   "source": [
    "total <- NormalizeData(total, normalization.method = \"LogNormalize\", scale.factor = 10000)\n",
    "total <- FindVariableFeatures(total, selection.method = \"vst\", nfeatures = 2000)\n",
    "total <- ScaleData(total)"
   ]
  },
  {
   "cell_type": "code",
   "execution_count": 55,
   "metadata": {},
   "outputs": [],
   "source": [
    "saveRDS(total, \"total.RDS\")"
   ]
  },
  {
   "cell_type": "markdown",
   "metadata": {},
   "source": [
    "\n",
    "\n",
    "***Calculate number of DEGs and attach to chromosome data - figure 5c***\n",
    "\n"
   ]
  },
  {
   "cell_type": "code",
   "execution_count": 161,
   "metadata": {},
   "outputs": [],
   "source": [
    "setwd(\"/home/jovyan/data/bone_marrow/data\")\n",
    "total<-readRDS(\"total.RDS\")"
   ]
  },
  {
   "cell_type": "code",
   "execution_count": 54,
   "metadata": {},
   "outputs": [],
   "source": [
    "Idents(total)<-\"clustering_5c\"\n",
    "total<-subset(total, id = c(\"lymphoid progenitor\", \"basophil\"), invert = TRUE)"
   ]
  },
  {
   "cell_type": "code",
   "execution_count": 462,
   "metadata": {},
   "outputs": [],
   "source": [
    "setwd(\"/home/jovyan/data/bone_marrow\")\n",
    "order<-read.csv('gencode_v19_gene_pos.txt', sep = '\\t', header = FALSE, row.names = 1)"
   ]
  },
  {
   "cell_type": "code",
   "execution_count": 463,
   "metadata": {},
   "outputs": [],
   "source": [
    "order$gene<-rownames(order)"
   ]
  },
  {
   "cell_type": "code",
   "execution_count": 464,
   "metadata": {},
   "outputs": [],
   "source": [
    "df<-data.frame(chromosome=levels(order$V2))"
   ]
  },
  {
   "cell_type": "code",
   "execution_count": 465,
   "metadata": {},
   "outputs": [
    {
     "name": "stderr",
     "output_type": "stream",
     "text": [
      "Calculating cluster healthy\n",
      "\n",
      "Calculating cluster downs\n",
      "\n",
      "Calculating cluster healthy\n",
      "\n",
      "Calculating cluster downs\n",
      "\n",
      "Calculating cluster healthy\n",
      "\n",
      "Calculating cluster downs\n",
      "\n",
      "Calculating cluster healthy\n",
      "\n",
      "Calculating cluster downs\n",
      "\n",
      "Calculating cluster healthy\n",
      "\n",
      "Calculating cluster downs\n",
      "\n",
      "Calculating cluster healthy\n",
      "\n",
      "Calculating cluster downs\n",
      "\n",
      "Calculating cluster healthy\n",
      "\n",
      "Calculating cluster downs\n",
      "\n",
      "Calculating cluster healthy\n",
      "\n",
      "Calculating cluster downs\n",
      "\n",
      "Calculating cluster healthy\n",
      "\n",
      "Calculating cluster downs\n",
      "\n",
      "Calculating cluster healthy\n",
      "\n",
      "Calculating cluster downs\n",
      "\n",
      "Calculating cluster healthy\n",
      "\n",
      "Calculating cluster downs\n",
      "\n",
      "Calculating cluster healthy\n",
      "\n",
      "Calculating cluster downs\n",
      "\n",
      "Calculating cluster healthy\n",
      "\n",
      "Calculating cluster downs\n",
      "\n",
      "Calculating cluster healthy\n",
      "\n",
      "Calculating cluster downs\n",
      "\n",
      "Calculating cluster healthy\n",
      "\n",
      "Calculating cluster downs\n",
      "\n"
     ]
    }
   ],
   "source": [
    "Idents(total)<-\"clustering_5c\"\n",
    "for(i in unique(total@meta.data$clustering_5c)){\n",
    "    test<-subset(total, id = i)\n",
    "    Idents(test)<-\"Status\"\n",
    "    markers<-FindAllMarkers(test, only.pos = TRUE, min.pct = 0.25, logfc.threshold = 0.40)\n",
    "    markers<-markers[markers$cluster==\"downs\",]\n",
    "    markers<-markers[markers$p_val_adj<0.05,]\n",
    "    asd<-merge(markers, order, by = \"gene\")\n",
    "    b<-data.frame(table(asd$V2))\n",
    "    df$d<-b$Freq\n",
    "    c<-unique(test@meta.data$clustering_5c)\n",
    "    names(df)[names(df) == \"d\"] <- c\n",
    "    \n",
    "}"
   ]
  },
  {
   "cell_type": "code",
   "execution_count": 466,
   "metadata": {},
   "outputs": [],
   "source": [
    "write.csv(df, \"chromosomes_5c.csv\")"
   ]
  },
  {
   "cell_type": "code",
   "execution_count": 482,
   "metadata": {},
   "outputs": [
    {
     "data": {
      "text/html": [
       "<table>\n",
       "<caption>A data.frame: 15 × 24</caption>\n",
       "<thead>\n",
       "\t<tr><th></th><th scope=col>chr1</th><th scope=col>chr10</th><th scope=col>chr11</th><th scope=col>chr12</th><th scope=col>chr13</th><th scope=col>chr14</th><th scope=col>chr15</th><th scope=col>chr16</th><th scope=col>chr17</th><th scope=col>chr18</th><th scope=col>⋯</th><th scope=col>chr22</th><th scope=col>chr3</th><th scope=col>chr4</th><th scope=col>chr5</th><th scope=col>chr6</th><th scope=col>chr7</th><th scope=col>chr8</th><th scope=col>chr9</th><th scope=col>chrX</th><th scope=col>chrY</th></tr>\n",
       "\t<tr><th></th><th scope=col>&lt;int&gt;</th><th scope=col>&lt;int&gt;</th><th scope=col>&lt;int&gt;</th><th scope=col>&lt;int&gt;</th><th scope=col>&lt;int&gt;</th><th scope=col>&lt;int&gt;</th><th scope=col>&lt;int&gt;</th><th scope=col>&lt;int&gt;</th><th scope=col>&lt;int&gt;</th><th scope=col>&lt;int&gt;</th><th scope=col>⋯</th><th scope=col>&lt;int&gt;</th><th scope=col>&lt;int&gt;</th><th scope=col>&lt;int&gt;</th><th scope=col>&lt;int&gt;</th><th scope=col>&lt;int&gt;</th><th scope=col>&lt;int&gt;</th><th scope=col>&lt;int&gt;</th><th scope=col>&lt;int&gt;</th><th scope=col>&lt;int&gt;</th><th scope=col>&lt;int&gt;</th></tr>\n",
       "</thead>\n",
       "<tbody>\n",
       "\t<tr><th scope=row>erythroid</th><td> 1</td><td>0</td><td> 2</td><td> 0</td><td>0</td><td>1</td><td>0</td><td> 0</td><td> 0</td><td>0</td><td>⋯</td><td>0</td><td> 1</td><td>1</td><td> 2</td><td> 3</td><td> 0</td><td>1</td><td> 1</td><td> 1</td><td>2</td></tr>\n",
       "\t<tr><th scope=row>stroma</th><td>17</td><td>8</td><td>15</td><td>14</td><td>4</td><td>7</td><td>4</td><td> 4</td><td>10</td><td>0</td><td>⋯</td><td>2</td><td>11</td><td>4</td><td>10</td><td>11</td><td>10</td><td>8</td><td>12</td><td>15</td><td>1</td></tr>\n",
       "\t<tr><th scope=row>neutrophil</th><td>17</td><td>8</td><td>16</td><td>17</td><td>2</td><td>8</td><td>5</td><td> 4</td><td>17</td><td>2</td><td>⋯</td><td>7</td><td>12</td><td>2</td><td>11</td><td>21</td><td> 8</td><td>6</td><td>11</td><td> 9</td><td>1</td></tr>\n",
       "\t<tr><th scope=row>monocyte</th><td> 7</td><td>6</td><td> 6</td><td> 5</td><td>2</td><td>4</td><td>0</td><td> 5</td><td> 4</td><td>1</td><td>⋯</td><td>2</td><td> 6</td><td>0</td><td> 2</td><td>10</td><td> 3</td><td>3</td><td> 5</td><td> 5</td><td>1</td></tr>\n",
       "\t<tr><th scope=row>myeloid.DC</th><td>15</td><td>6</td><td>13</td><td> 8</td><td>2</td><td>9</td><td>1</td><td> 6</td><td>11</td><td>1</td><td>⋯</td><td>4</td><td> 6</td><td>1</td><td> 6</td><td>15</td><td> 4</td><td>3</td><td> 4</td><td> 6</td><td>2</td></tr>\n",
       "\t<tr><th scope=row>B_lineage</th><td>14</td><td>5</td><td>24</td><td>10</td><td>3</td><td>7</td><td>2</td><td> 9</td><td>16</td><td>2</td><td>⋯</td><td>5</td><td> 2</td><td>2</td><td> 6</td><td>21</td><td> 7</td><td>2</td><td> 4</td><td> 9</td><td>1</td></tr>\n",
       "\t<tr><th scope=row>MK</th><td> 7</td><td>2</td><td> 6</td><td> 8</td><td>3</td><td>8</td><td>0</td><td> 6</td><td> 9</td><td>1</td><td>⋯</td><td>1</td><td> 7</td><td>6</td><td> 4</td><td> 8</td><td> 2</td><td>4</td><td> 6</td><td> 2</td><td>0</td></tr>\n",
       "\t<tr><th scope=row>mast.cell</th><td>11</td><td>5</td><td> 4</td><td> 8</td><td>2</td><td>4</td><td>0</td><td> 2</td><td> 4</td><td>0</td><td>⋯</td><td>2</td><td> 8</td><td>2</td><td> 3</td><td> 6</td><td> 1</td><td>1</td><td> 3</td><td> 4</td><td>1</td></tr>\n",
       "\t<tr><th scope=row>T.cell</th><td> 5</td><td>3</td><td>10</td><td> 7</td><td>1</td><td>2</td><td>1</td><td> 4</td><td> 8</td><td>0</td><td>⋯</td><td>4</td><td> 3</td><td>1</td><td> 2</td><td> 4</td><td> 4</td><td>1</td><td> 1</td><td> 5</td><td>1</td></tr>\n",
       "\t<tr><th scope=row>MEMP</th><td>12</td><td>2</td><td> 8</td><td> 3</td><td>2</td><td>5</td><td>0</td><td>12</td><td> 7</td><td>3</td><td>⋯</td><td>1</td><td> 2</td><td>1</td><td> 4</td><td> 5</td><td> 3</td><td>4</td><td> 8</td><td> 4</td><td>2</td></tr>\n",
       "\t<tr><th scope=row>NK</th><td> 8</td><td>2</td><td> 9</td><td> 6</td><td>1</td><td>5</td><td>0</td><td> 4</td><td> 6</td><td>0</td><td>⋯</td><td>7</td><td> 5</td><td>1</td><td> 4</td><td> 6</td><td> 4</td><td>1</td><td> 3</td><td> 3</td><td>1</td></tr>\n",
       "\t<tr><th scope=row>myeloid.progenitor</th><td>16</td><td>5</td><td>13</td><td>15</td><td>4</td><td>5</td><td>1</td><td> 6</td><td>13</td><td>1</td><td>⋯</td><td>8</td><td>11</td><td>3</td><td> 4</td><td> 8</td><td> 5</td><td>3</td><td> 7</td><td> 7</td><td>1</td></tr>\n",
       "\t<tr><th scope=row>eosinophil</th><td> 9</td><td>1</td><td> 5</td><td> 8</td><td>0</td><td>5</td><td>1</td><td> 1</td><td> 5</td><td>0</td><td>⋯</td><td>4</td><td> 5</td><td>1</td><td> 3</td><td> 6</td><td> 1</td><td>1</td><td> 3</td><td> 3</td><td>2</td></tr>\n",
       "\t<tr><th scope=row>pDC</th><td> 8</td><td>5</td><td>12</td><td> 6</td><td>2</td><td>4</td><td>4</td><td> 5</td><td>12</td><td>1</td><td>⋯</td><td>4</td><td> 6</td><td>0</td><td> 2</td><td> 4</td><td> 2</td><td>5</td><td> 5</td><td> 6</td><td>1</td></tr>\n",
       "\t<tr><th scope=row>HSC</th><td>16</td><td>6</td><td>17</td><td>12</td><td>3</td><td>5</td><td>4</td><td> 8</td><td>19</td><td>3</td><td>⋯</td><td>6</td><td> 5</td><td>3</td><td> 5</td><td> 4</td><td>15</td><td>3</td><td> 6</td><td> 6</td><td>0</td></tr>\n",
       "</tbody>\n",
       "</table>\n"
      ],
      "text/latex": [
       "A data.frame: 15 × 24\n",
       "\\begin{tabular}{r|lllllllllllllllllllll}\n",
       "  & chr1 & chr10 & chr11 & chr12 & chr13 & chr14 & chr15 & chr16 & chr17 & chr18 & ⋯ & chr22 & chr3 & chr4 & chr5 & chr6 & chr7 & chr8 & chr9 & chrX & chrY\\\\\n",
       "  & <int> & <int> & <int> & <int> & <int> & <int> & <int> & <int> & <int> & <int> & ⋯ & <int> & <int> & <int> & <int> & <int> & <int> & <int> & <int> & <int> & <int>\\\\\n",
       "\\hline\n",
       "\terythroid &  1 & 0 &  2 &  0 & 0 & 1 & 0 &  0 &  0 & 0 & ⋯ & 0 &  1 & 1 &  2 &  3 &  0 & 1 &  1 &  1 & 2\\\\\n",
       "\tstroma & 17 & 8 & 15 & 14 & 4 & 7 & 4 &  4 & 10 & 0 & ⋯ & 2 & 11 & 4 & 10 & 11 & 10 & 8 & 12 & 15 & 1\\\\\n",
       "\tneutrophil & 17 & 8 & 16 & 17 & 2 & 8 & 5 &  4 & 17 & 2 & ⋯ & 7 & 12 & 2 & 11 & 21 &  8 & 6 & 11 &  9 & 1\\\\\n",
       "\tmonocyte &  7 & 6 &  6 &  5 & 2 & 4 & 0 &  5 &  4 & 1 & ⋯ & 2 &  6 & 0 &  2 & 10 &  3 & 3 &  5 &  5 & 1\\\\\n",
       "\tmyeloid.DC & 15 & 6 & 13 &  8 & 2 & 9 & 1 &  6 & 11 & 1 & ⋯ & 4 &  6 & 1 &  6 & 15 &  4 & 3 &  4 &  6 & 2\\\\\n",
       "\tB\\_lineage & 14 & 5 & 24 & 10 & 3 & 7 & 2 &  9 & 16 & 2 & ⋯ & 5 &  2 & 2 &  6 & 21 &  7 & 2 &  4 &  9 & 1\\\\\n",
       "\tMK &  7 & 2 &  6 &  8 & 3 & 8 & 0 &  6 &  9 & 1 & ⋯ & 1 &  7 & 6 &  4 &  8 &  2 & 4 &  6 &  2 & 0\\\\\n",
       "\tmast.cell & 11 & 5 &  4 &  8 & 2 & 4 & 0 &  2 &  4 & 0 & ⋯ & 2 &  8 & 2 &  3 &  6 &  1 & 1 &  3 &  4 & 1\\\\\n",
       "\tT.cell &  5 & 3 & 10 &  7 & 1 & 2 & 1 &  4 &  8 & 0 & ⋯ & 4 &  3 & 1 &  2 &  4 &  4 & 1 &  1 &  5 & 1\\\\\n",
       "\tMEMP & 12 & 2 &  8 &  3 & 2 & 5 & 0 & 12 &  7 & 3 & ⋯ & 1 &  2 & 1 &  4 &  5 &  3 & 4 &  8 &  4 & 2\\\\\n",
       "\tNK &  8 & 2 &  9 &  6 & 1 & 5 & 0 &  4 &  6 & 0 & ⋯ & 7 &  5 & 1 &  4 &  6 &  4 & 1 &  3 &  3 & 1\\\\\n",
       "\tmyeloid.progenitor & 16 & 5 & 13 & 15 & 4 & 5 & 1 &  6 & 13 & 1 & ⋯ & 8 & 11 & 3 &  4 &  8 &  5 & 3 &  7 &  7 & 1\\\\\n",
       "\teosinophil &  9 & 1 &  5 &  8 & 0 & 5 & 1 &  1 &  5 & 0 & ⋯ & 4 &  5 & 1 &  3 &  6 &  1 & 1 &  3 &  3 & 2\\\\\n",
       "\tpDC &  8 & 5 & 12 &  6 & 2 & 4 & 4 &  5 & 12 & 1 & ⋯ & 4 &  6 & 0 &  2 &  4 &  2 & 5 &  5 &  6 & 1\\\\\n",
       "\tHSC & 16 & 6 & 17 & 12 & 3 & 5 & 4 &  8 & 19 & 3 & ⋯ & 6 &  5 & 3 &  5 &  4 & 15 & 3 &  6 &  6 & 0\\\\\n",
       "\\end{tabular}\n"
      ],
      "text/markdown": [
       "\n",
       "A data.frame: 15 × 24\n",
       "\n",
       "| <!--/--> | chr1 &lt;int&gt; | chr10 &lt;int&gt; | chr11 &lt;int&gt; | chr12 &lt;int&gt; | chr13 &lt;int&gt; | chr14 &lt;int&gt; | chr15 &lt;int&gt; | chr16 &lt;int&gt; | chr17 &lt;int&gt; | chr18 &lt;int&gt; | ⋯ ⋯ | chr22 &lt;int&gt; | chr3 &lt;int&gt; | chr4 &lt;int&gt; | chr5 &lt;int&gt; | chr6 &lt;int&gt; | chr7 &lt;int&gt; | chr8 &lt;int&gt; | chr9 &lt;int&gt; | chrX &lt;int&gt; | chrY &lt;int&gt; |\n",
       "|---|---|---|---|---|---|---|---|---|---|---|---|---|---|---|---|---|---|---|---|---|---|\n",
       "| erythroid |  1 | 0 |  2 |  0 | 0 | 1 | 0 |  0 |  0 | 0 | ⋯ | 0 |  1 | 1 |  2 |  3 |  0 | 1 |  1 |  1 | 2 |\n",
       "| stroma | 17 | 8 | 15 | 14 | 4 | 7 | 4 |  4 | 10 | 0 | ⋯ | 2 | 11 | 4 | 10 | 11 | 10 | 8 | 12 | 15 | 1 |\n",
       "| neutrophil | 17 | 8 | 16 | 17 | 2 | 8 | 5 |  4 | 17 | 2 | ⋯ | 7 | 12 | 2 | 11 | 21 |  8 | 6 | 11 |  9 | 1 |\n",
       "| monocyte |  7 | 6 |  6 |  5 | 2 | 4 | 0 |  5 |  4 | 1 | ⋯ | 2 |  6 | 0 |  2 | 10 |  3 | 3 |  5 |  5 | 1 |\n",
       "| myeloid.DC | 15 | 6 | 13 |  8 | 2 | 9 | 1 |  6 | 11 | 1 | ⋯ | 4 |  6 | 1 |  6 | 15 |  4 | 3 |  4 |  6 | 2 |\n",
       "| B_lineage | 14 | 5 | 24 | 10 | 3 | 7 | 2 |  9 | 16 | 2 | ⋯ | 5 |  2 | 2 |  6 | 21 |  7 | 2 |  4 |  9 | 1 |\n",
       "| MK |  7 | 2 |  6 |  8 | 3 | 8 | 0 |  6 |  9 | 1 | ⋯ | 1 |  7 | 6 |  4 |  8 |  2 | 4 |  6 |  2 | 0 |\n",
       "| mast.cell | 11 | 5 |  4 |  8 | 2 | 4 | 0 |  2 |  4 | 0 | ⋯ | 2 |  8 | 2 |  3 |  6 |  1 | 1 |  3 |  4 | 1 |\n",
       "| T.cell |  5 | 3 | 10 |  7 | 1 | 2 | 1 |  4 |  8 | 0 | ⋯ | 4 |  3 | 1 |  2 |  4 |  4 | 1 |  1 |  5 | 1 |\n",
       "| MEMP | 12 | 2 |  8 |  3 | 2 | 5 | 0 | 12 |  7 | 3 | ⋯ | 1 |  2 | 1 |  4 |  5 |  3 | 4 |  8 |  4 | 2 |\n",
       "| NK |  8 | 2 |  9 |  6 | 1 | 5 | 0 |  4 |  6 | 0 | ⋯ | 7 |  5 | 1 |  4 |  6 |  4 | 1 |  3 |  3 | 1 |\n",
       "| myeloid.progenitor | 16 | 5 | 13 | 15 | 4 | 5 | 1 |  6 | 13 | 1 | ⋯ | 8 | 11 | 3 |  4 |  8 |  5 | 3 |  7 |  7 | 1 |\n",
       "| eosinophil |  9 | 1 |  5 |  8 | 0 | 5 | 1 |  1 |  5 | 0 | ⋯ | 4 |  5 | 1 |  3 |  6 |  1 | 1 |  3 |  3 | 2 |\n",
       "| pDC |  8 | 5 | 12 |  6 | 2 | 4 | 4 |  5 | 12 | 1 | ⋯ | 4 |  6 | 0 |  2 |  4 |  2 | 5 |  5 |  6 | 1 |\n",
       "| HSC | 16 | 6 | 17 | 12 | 3 | 5 | 4 |  8 | 19 | 3 | ⋯ | 6 |  5 | 3 |  5 |  4 | 15 | 3 |  6 |  6 | 0 |\n",
       "\n"
      ],
      "text/plain": [
       "                   chr1 chr10 chr11 chr12 chr13 chr14 chr15 chr16 chr17 chr18 ⋯\n",
       "erythroid           1   0      2     0    0     1     0      0     0    0     ⋯\n",
       "stroma             17   8     15    14    4     7     4      4    10    0     ⋯\n",
       "neutrophil         17   8     16    17    2     8     5      4    17    2     ⋯\n",
       "monocyte            7   6      6     5    2     4     0      5     4    1     ⋯\n",
       "myeloid.DC         15   6     13     8    2     9     1      6    11    1     ⋯\n",
       "B_lineage          14   5     24    10    3     7     2      9    16    2     ⋯\n",
       "MK                  7   2      6     8    3     8     0      6     9    1     ⋯\n",
       "mast.cell          11   5      4     8    2     4     0      2     4    0     ⋯\n",
       "T.cell              5   3     10     7    1     2     1      4     8    0     ⋯\n",
       "MEMP               12   2      8     3    2     5     0     12     7    3     ⋯\n",
       "NK                  8   2      9     6    1     5     0      4     6    0     ⋯\n",
       "myeloid.progenitor 16   5     13    15    4     5     1      6    13    1     ⋯\n",
       "eosinophil          9   1      5     8    0     5     1      1     5    0     ⋯\n",
       "pDC                 8   5     12     6    2     4     4      5    12    1     ⋯\n",
       "HSC                16   6     17    12    3     5     4      8    19    3     ⋯\n",
       "                   chr22 chr3 chr4 chr5 chr6 chr7 chr8 chr9 chrX chrY\n",
       "erythroid          0      1   1     2    3    0   1     1    1   2   \n",
       "stroma             2     11   4    10   11   10   8    12   15   1   \n",
       "neutrophil         7     12   2    11   21    8   6    11    9   1   \n",
       "monocyte           2      6   0     2   10    3   3     5    5   1   \n",
       "myeloid.DC         4      6   1     6   15    4   3     4    6   2   \n",
       "B_lineage          5      2   2     6   21    7   2     4    9   1   \n",
       "MK                 1      7   6     4    8    2   4     6    2   0   \n",
       "mast.cell          2      8   2     3    6    1   1     3    4   1   \n",
       "T.cell             4      3   1     2    4    4   1     1    5   1   \n",
       "MEMP               1      2   1     4    5    3   4     8    4   2   \n",
       "NK                 7      5   1     4    6    4   1     3    3   1   \n",
       "myeloid.progenitor 8     11   3     4    8    5   3     7    7   1   \n",
       "eosinophil         4      5   1     3    6    1   1     3    3   2   \n",
       "pDC                4      6   0     2    4    2   5     5    6   1   \n",
       "HSC                6      5   3     5    4   15   3     6    6   0   "
      ]
     },
     "metadata": {},
     "output_type": "display_data"
    }
   ],
   "source": [
    "rates<-read.csv(\"chromosomes_5c.csv\", row.names = 2)\n",
    "rates$X<-NULL\n",
    "types<-colnames(rates)\n",
    "rates<-as.data.frame(rates)\n",
    "rates<-as.data.frame(t(rates))\n",
    "rates$chrM<-NULL\n",
    "rates"
   ]
  },
  {
   "cell_type": "code",
   "execution_count": 483,
   "metadata": {
    "scrolled": true
   },
   "outputs": [
    {
     "data": {
      "text/plain": [
       "\n",
       " chr1 chr10 chr11 chr12 chr13 chr14 chr15 chr16 chr17 chr18 chr19  chr2 chr20 \n",
       " 5200  2175  3125  2721  1193  2162  1999  2253  2810  1076  2863  3882  1273 \n",
       "chr21 chr22  chr3  chr4  chr5  chr6  chr7  chr8  chr9  chrM  chrX  chrY \n",
       "  708  1228  2959  2468  2762  2793  2745  2304  2248    37  2291   490 "
      ]
     },
     "metadata": {},
     "output_type": "display_data"
    }
   ],
   "source": [
    "table(order$V2)"
   ]
  },
  {
   "cell_type": "code",
   "execution_count": 484,
   "metadata": {},
   "outputs": [
    {
     "data": {
      "text/html": [
       "<table>\n",
       "<caption>A data.frame: 15 × 24</caption>\n",
       "<thead>\n",
       "\t<tr><th></th><th scope=col>chr1</th><th scope=col>chr10</th><th scope=col>chr11</th><th scope=col>chr12</th><th scope=col>chr13</th><th scope=col>chr14</th><th scope=col>chr15</th><th scope=col>chr16</th><th scope=col>chr17</th><th scope=col>chr18</th><th scope=col>⋯</th><th scope=col>chr22</th><th scope=col>chr3</th><th scope=col>chr4</th><th scope=col>chr5</th><th scope=col>chr6</th><th scope=col>chr7</th><th scope=col>chr8</th><th scope=col>chr9</th><th scope=col>chrX</th><th scope=col>chrY</th></tr>\n",
       "\t<tr><th></th><th scope=col>&lt;dbl&gt;</th><th scope=col>&lt;dbl&gt;</th><th scope=col>&lt;dbl&gt;</th><th scope=col>&lt;dbl&gt;</th><th scope=col>&lt;dbl&gt;</th><th scope=col>&lt;dbl&gt;</th><th scope=col>&lt;dbl&gt;</th><th scope=col>&lt;dbl&gt;</th><th scope=col>&lt;dbl&gt;</th><th scope=col>&lt;dbl&gt;</th><th scope=col>⋯</th><th scope=col>&lt;dbl&gt;</th><th scope=col>&lt;dbl&gt;</th><th scope=col>&lt;dbl&gt;</th><th scope=col>&lt;dbl&gt;</th><th scope=col>&lt;dbl&gt;</th><th scope=col>&lt;dbl&gt;</th><th scope=col>&lt;dbl&gt;</th><th scope=col>&lt;dbl&gt;</th><th scope=col>&lt;dbl&gt;</th><th scope=col>&lt;dbl&gt;</th></tr>\n",
       "</thead>\n",
       "<tbody>\n",
       "\t<tr><th scope=row>erythroid</th><td>0.0001923077</td><td>0.0000000000</td><td>0.00064</td><td>0.000000000</td><td>0.000000000</td><td>0.0004625347</td><td>0.0000000000</td><td>0.0000000000</td><td>0.000000000</td><td>0.000000000</td><td>⋯</td><td>0.0000000000</td><td>0.000337952</td><td>0.0004051864</td><td>0.000724113</td><td>0.001074114</td><td>0.0000000000</td><td>0.0004340278</td><td>0.0004448399</td><td>0.0004364906</td><td>0.004081633</td></tr>\n",
       "\t<tr><th scope=row>stroma</th><td>0.0032692308</td><td>0.0036781609</td><td>0.00480</td><td>0.005145167</td><td>0.003352892</td><td>0.0032377428</td><td>0.0020010005</td><td>0.0017754106</td><td>0.003558719</td><td>0.000000000</td><td>⋯</td><td>0.0016286645</td><td>0.003717472</td><td>0.0016207455</td><td>0.003620565</td><td>0.003938417</td><td>0.0036429872</td><td>0.0034722222</td><td>0.0053380783</td><td>0.0065473592</td><td>0.002040816</td></tr>\n",
       "\t<tr><th scope=row>neutrophil</th><td>0.0032692308</td><td>0.0036781609</td><td>0.00512</td><td>0.006247703</td><td>0.001676446</td><td>0.0037002775</td><td>0.0025012506</td><td>0.0017754106</td><td>0.006049822</td><td>0.001858736</td><td>⋯</td><td>0.0057003257</td><td>0.004055424</td><td>0.0008103728</td><td>0.003982621</td><td>0.007518797</td><td>0.0029143898</td><td>0.0026041667</td><td>0.0048932384</td><td>0.0039284155</td><td>0.002040816</td></tr>\n",
       "\t<tr><th scope=row>monocyte</th><td>0.0013461538</td><td>0.0027586207</td><td>0.00192</td><td>0.001837560</td><td>0.001676446</td><td>0.0018501388</td><td>0.0000000000</td><td>0.0022192632</td><td>0.001423488</td><td>0.000929368</td><td>⋯</td><td>0.0016286645</td><td>0.002027712</td><td>0.0000000000</td><td>0.000724113</td><td>0.003580380</td><td>0.0010928962</td><td>0.0013020833</td><td>0.0022241993</td><td>0.0021824531</td><td>0.002040816</td></tr>\n",
       "\t<tr><th scope=row>myeloid.DC</th><td>0.0028846154</td><td>0.0027586207</td><td>0.00416</td><td>0.002940096</td><td>0.001676446</td><td>0.0041628122</td><td>0.0005002501</td><td>0.0026631158</td><td>0.003914591</td><td>0.000929368</td><td>⋯</td><td>0.0032573290</td><td>0.002027712</td><td>0.0004051864</td><td>0.002172339</td><td>0.005370569</td><td>0.0014571949</td><td>0.0013020833</td><td>0.0017793594</td><td>0.0026189437</td><td>0.004081633</td></tr>\n",
       "\t<tr><th scope=row>B_lineage</th><td>0.0026923077</td><td>0.0022988506</td><td>0.00768</td><td>0.003675119</td><td>0.002514669</td><td>0.0032377428</td><td>0.0010005003</td><td>0.0039946738</td><td>0.005693950</td><td>0.001858736</td><td>⋯</td><td>0.0040716612</td><td>0.000675904</td><td>0.0008103728</td><td>0.002172339</td><td>0.007518797</td><td>0.0025500911</td><td>0.0008680556</td><td>0.0017793594</td><td>0.0039284155</td><td>0.002040816</td></tr>\n",
       "\t<tr><th scope=row>MK</th><td>0.0013461538</td><td>0.0009195402</td><td>0.00192</td><td>0.002940096</td><td>0.002514669</td><td>0.0037002775</td><td>0.0000000000</td><td>0.0026631158</td><td>0.003202847</td><td>0.000929368</td><td>⋯</td><td>0.0008143322</td><td>0.002365664</td><td>0.0024311183</td><td>0.001448226</td><td>0.002864304</td><td>0.0007285974</td><td>0.0017361111</td><td>0.0026690391</td><td>0.0008729812</td><td>0.000000000</td></tr>\n",
       "\t<tr><th scope=row>mast.cell</th><td>0.0021153846</td><td>0.0022988506</td><td>0.00128</td><td>0.002940096</td><td>0.001676446</td><td>0.0018501388</td><td>0.0000000000</td><td>0.0008877053</td><td>0.001423488</td><td>0.000000000</td><td>⋯</td><td>0.0016286645</td><td>0.002703616</td><td>0.0008103728</td><td>0.001086169</td><td>0.002148228</td><td>0.0003642987</td><td>0.0004340278</td><td>0.0013345196</td><td>0.0017459625</td><td>0.002040816</td></tr>\n",
       "\t<tr><th scope=row>T.cell</th><td>0.0009615385</td><td>0.0013793103</td><td>0.00320</td><td>0.002572584</td><td>0.000838223</td><td>0.0009250694</td><td>0.0005002501</td><td>0.0017754106</td><td>0.002846975</td><td>0.000000000</td><td>⋯</td><td>0.0032573290</td><td>0.001013856</td><td>0.0004051864</td><td>0.000724113</td><td>0.001432152</td><td>0.0014571949</td><td>0.0004340278</td><td>0.0004448399</td><td>0.0021824531</td><td>0.002040816</td></tr>\n",
       "\t<tr><th scope=row>MEMP</th><td>0.0023076923</td><td>0.0009195402</td><td>0.00256</td><td>0.001102536</td><td>0.001676446</td><td>0.0023126735</td><td>0.0000000000</td><td>0.0053262317</td><td>0.002491103</td><td>0.002788104</td><td>⋯</td><td>0.0008143322</td><td>0.000675904</td><td>0.0004051864</td><td>0.001448226</td><td>0.001790190</td><td>0.0010928962</td><td>0.0017361111</td><td>0.0035587189</td><td>0.0017459625</td><td>0.004081633</td></tr>\n",
       "\t<tr><th scope=row>NK</th><td>0.0015384615</td><td>0.0009195402</td><td>0.00288</td><td>0.002205072</td><td>0.000838223</td><td>0.0023126735</td><td>0.0000000000</td><td>0.0017754106</td><td>0.002135231</td><td>0.000000000</td><td>⋯</td><td>0.0057003257</td><td>0.001689760</td><td>0.0004051864</td><td>0.001448226</td><td>0.002148228</td><td>0.0014571949</td><td>0.0004340278</td><td>0.0013345196</td><td>0.0013094718</td><td>0.002040816</td></tr>\n",
       "\t<tr><th scope=row>myeloid.progenitor</th><td>0.0030769231</td><td>0.0022988506</td><td>0.00416</td><td>0.005512679</td><td>0.003352892</td><td>0.0023126735</td><td>0.0005002501</td><td>0.0026631158</td><td>0.004626335</td><td>0.000929368</td><td>⋯</td><td>0.0065146580</td><td>0.003717472</td><td>0.0012155592</td><td>0.001448226</td><td>0.002864304</td><td>0.0018214936</td><td>0.0013020833</td><td>0.0031138790</td><td>0.0030554343</td><td>0.002040816</td></tr>\n",
       "\t<tr><th scope=row>eosinophil</th><td>0.0017307692</td><td>0.0004597701</td><td>0.00160</td><td>0.002940096</td><td>0.000000000</td><td>0.0023126735</td><td>0.0005002501</td><td>0.0004438526</td><td>0.001779359</td><td>0.000000000</td><td>⋯</td><td>0.0032573290</td><td>0.001689760</td><td>0.0004051864</td><td>0.001086169</td><td>0.002148228</td><td>0.0003642987</td><td>0.0004340278</td><td>0.0013345196</td><td>0.0013094718</td><td>0.004081633</td></tr>\n",
       "\t<tr><th scope=row>pDC</th><td>0.0015384615</td><td>0.0022988506</td><td>0.00384</td><td>0.002205072</td><td>0.001676446</td><td>0.0018501388</td><td>0.0020010005</td><td>0.0022192632</td><td>0.004270463</td><td>0.000929368</td><td>⋯</td><td>0.0032573290</td><td>0.002027712</td><td>0.0000000000</td><td>0.000724113</td><td>0.001432152</td><td>0.0007285974</td><td>0.0021701389</td><td>0.0022241993</td><td>0.0026189437</td><td>0.002040816</td></tr>\n",
       "\t<tr><th scope=row>HSC</th><td>0.0030769231</td><td>0.0027586207</td><td>0.00544</td><td>0.004410143</td><td>0.002514669</td><td>0.0023126735</td><td>0.0020010005</td><td>0.0035508211</td><td>0.006761566</td><td>0.002788104</td><td>⋯</td><td>0.0048859935</td><td>0.001689760</td><td>0.0012155592</td><td>0.001810282</td><td>0.001432152</td><td>0.0054644809</td><td>0.0013020833</td><td>0.0026690391</td><td>0.0026189437</td><td>0.000000000</td></tr>\n",
       "</tbody>\n",
       "</table>\n"
      ],
      "text/latex": [
       "A data.frame: 15 × 24\n",
       "\\begin{tabular}{r|lllllllllllllllllllll}\n",
       "  & chr1 & chr10 & chr11 & chr12 & chr13 & chr14 & chr15 & chr16 & chr17 & chr18 & ⋯ & chr22 & chr3 & chr4 & chr5 & chr6 & chr7 & chr8 & chr9 & chrX & chrY\\\\\n",
       "  & <dbl> & <dbl> & <dbl> & <dbl> & <dbl> & <dbl> & <dbl> & <dbl> & <dbl> & <dbl> & ⋯ & <dbl> & <dbl> & <dbl> & <dbl> & <dbl> & <dbl> & <dbl> & <dbl> & <dbl> & <dbl>\\\\\n",
       "\\hline\n",
       "\terythroid & 0.0001923077 & 0.0000000000 & 0.00064 & 0.000000000 & 0.000000000 & 0.0004625347 & 0.0000000000 & 0.0000000000 & 0.000000000 & 0.000000000 & ⋯ & 0.0000000000 & 0.000337952 & 0.0004051864 & 0.000724113 & 0.001074114 & 0.0000000000 & 0.0004340278 & 0.0004448399 & 0.0004364906 & 0.004081633\\\\\n",
       "\tstroma & 0.0032692308 & 0.0036781609 & 0.00480 & 0.005145167 & 0.003352892 & 0.0032377428 & 0.0020010005 & 0.0017754106 & 0.003558719 & 0.000000000 & ⋯ & 0.0016286645 & 0.003717472 & 0.0016207455 & 0.003620565 & 0.003938417 & 0.0036429872 & 0.0034722222 & 0.0053380783 & 0.0065473592 & 0.002040816\\\\\n",
       "\tneutrophil & 0.0032692308 & 0.0036781609 & 0.00512 & 0.006247703 & 0.001676446 & 0.0037002775 & 0.0025012506 & 0.0017754106 & 0.006049822 & 0.001858736 & ⋯ & 0.0057003257 & 0.004055424 & 0.0008103728 & 0.003982621 & 0.007518797 & 0.0029143898 & 0.0026041667 & 0.0048932384 & 0.0039284155 & 0.002040816\\\\\n",
       "\tmonocyte & 0.0013461538 & 0.0027586207 & 0.00192 & 0.001837560 & 0.001676446 & 0.0018501388 & 0.0000000000 & 0.0022192632 & 0.001423488 & 0.000929368 & ⋯ & 0.0016286645 & 0.002027712 & 0.0000000000 & 0.000724113 & 0.003580380 & 0.0010928962 & 0.0013020833 & 0.0022241993 & 0.0021824531 & 0.002040816\\\\\n",
       "\tmyeloid.DC & 0.0028846154 & 0.0027586207 & 0.00416 & 0.002940096 & 0.001676446 & 0.0041628122 & 0.0005002501 & 0.0026631158 & 0.003914591 & 0.000929368 & ⋯ & 0.0032573290 & 0.002027712 & 0.0004051864 & 0.002172339 & 0.005370569 & 0.0014571949 & 0.0013020833 & 0.0017793594 & 0.0026189437 & 0.004081633\\\\\n",
       "\tB\\_lineage & 0.0026923077 & 0.0022988506 & 0.00768 & 0.003675119 & 0.002514669 & 0.0032377428 & 0.0010005003 & 0.0039946738 & 0.005693950 & 0.001858736 & ⋯ & 0.0040716612 & 0.000675904 & 0.0008103728 & 0.002172339 & 0.007518797 & 0.0025500911 & 0.0008680556 & 0.0017793594 & 0.0039284155 & 0.002040816\\\\\n",
       "\tMK & 0.0013461538 & 0.0009195402 & 0.00192 & 0.002940096 & 0.002514669 & 0.0037002775 & 0.0000000000 & 0.0026631158 & 0.003202847 & 0.000929368 & ⋯ & 0.0008143322 & 0.002365664 & 0.0024311183 & 0.001448226 & 0.002864304 & 0.0007285974 & 0.0017361111 & 0.0026690391 & 0.0008729812 & 0.000000000\\\\\n",
       "\tmast.cell & 0.0021153846 & 0.0022988506 & 0.00128 & 0.002940096 & 0.001676446 & 0.0018501388 & 0.0000000000 & 0.0008877053 & 0.001423488 & 0.000000000 & ⋯ & 0.0016286645 & 0.002703616 & 0.0008103728 & 0.001086169 & 0.002148228 & 0.0003642987 & 0.0004340278 & 0.0013345196 & 0.0017459625 & 0.002040816\\\\\n",
       "\tT.cell & 0.0009615385 & 0.0013793103 & 0.00320 & 0.002572584 & 0.000838223 & 0.0009250694 & 0.0005002501 & 0.0017754106 & 0.002846975 & 0.000000000 & ⋯ & 0.0032573290 & 0.001013856 & 0.0004051864 & 0.000724113 & 0.001432152 & 0.0014571949 & 0.0004340278 & 0.0004448399 & 0.0021824531 & 0.002040816\\\\\n",
       "\tMEMP & 0.0023076923 & 0.0009195402 & 0.00256 & 0.001102536 & 0.001676446 & 0.0023126735 & 0.0000000000 & 0.0053262317 & 0.002491103 & 0.002788104 & ⋯ & 0.0008143322 & 0.000675904 & 0.0004051864 & 0.001448226 & 0.001790190 & 0.0010928962 & 0.0017361111 & 0.0035587189 & 0.0017459625 & 0.004081633\\\\\n",
       "\tNK & 0.0015384615 & 0.0009195402 & 0.00288 & 0.002205072 & 0.000838223 & 0.0023126735 & 0.0000000000 & 0.0017754106 & 0.002135231 & 0.000000000 & ⋯ & 0.0057003257 & 0.001689760 & 0.0004051864 & 0.001448226 & 0.002148228 & 0.0014571949 & 0.0004340278 & 0.0013345196 & 0.0013094718 & 0.002040816\\\\\n",
       "\tmyeloid.progenitor & 0.0030769231 & 0.0022988506 & 0.00416 & 0.005512679 & 0.003352892 & 0.0023126735 & 0.0005002501 & 0.0026631158 & 0.004626335 & 0.000929368 & ⋯ & 0.0065146580 & 0.003717472 & 0.0012155592 & 0.001448226 & 0.002864304 & 0.0018214936 & 0.0013020833 & 0.0031138790 & 0.0030554343 & 0.002040816\\\\\n",
       "\teosinophil & 0.0017307692 & 0.0004597701 & 0.00160 & 0.002940096 & 0.000000000 & 0.0023126735 & 0.0005002501 & 0.0004438526 & 0.001779359 & 0.000000000 & ⋯ & 0.0032573290 & 0.001689760 & 0.0004051864 & 0.001086169 & 0.002148228 & 0.0003642987 & 0.0004340278 & 0.0013345196 & 0.0013094718 & 0.004081633\\\\\n",
       "\tpDC & 0.0015384615 & 0.0022988506 & 0.00384 & 0.002205072 & 0.001676446 & 0.0018501388 & 0.0020010005 & 0.0022192632 & 0.004270463 & 0.000929368 & ⋯ & 0.0032573290 & 0.002027712 & 0.0000000000 & 0.000724113 & 0.001432152 & 0.0007285974 & 0.0021701389 & 0.0022241993 & 0.0026189437 & 0.002040816\\\\\n",
       "\tHSC & 0.0030769231 & 0.0027586207 & 0.00544 & 0.004410143 & 0.002514669 & 0.0023126735 & 0.0020010005 & 0.0035508211 & 0.006761566 & 0.002788104 & ⋯ & 0.0048859935 & 0.001689760 & 0.0012155592 & 0.001810282 & 0.001432152 & 0.0054644809 & 0.0013020833 & 0.0026690391 & 0.0026189437 & 0.000000000\\\\\n",
       "\\end{tabular}\n"
      ],
      "text/markdown": [
       "\n",
       "A data.frame: 15 × 24\n",
       "\n",
       "| <!--/--> | chr1 &lt;dbl&gt; | chr10 &lt;dbl&gt; | chr11 &lt;dbl&gt; | chr12 &lt;dbl&gt; | chr13 &lt;dbl&gt; | chr14 &lt;dbl&gt; | chr15 &lt;dbl&gt; | chr16 &lt;dbl&gt; | chr17 &lt;dbl&gt; | chr18 &lt;dbl&gt; | ⋯ ⋯ | chr22 &lt;dbl&gt; | chr3 &lt;dbl&gt; | chr4 &lt;dbl&gt; | chr5 &lt;dbl&gt; | chr6 &lt;dbl&gt; | chr7 &lt;dbl&gt; | chr8 &lt;dbl&gt; | chr9 &lt;dbl&gt; | chrX &lt;dbl&gt; | chrY &lt;dbl&gt; |\n",
       "|---|---|---|---|---|---|---|---|---|---|---|---|---|---|---|---|---|---|---|---|---|---|\n",
       "| erythroid | 0.0001923077 | 0.0000000000 | 0.00064 | 0.000000000 | 0.000000000 | 0.0004625347 | 0.0000000000 | 0.0000000000 | 0.000000000 | 0.000000000 | ⋯ | 0.0000000000 | 0.000337952 | 0.0004051864 | 0.000724113 | 0.001074114 | 0.0000000000 | 0.0004340278 | 0.0004448399 | 0.0004364906 | 0.004081633 |\n",
       "| stroma | 0.0032692308 | 0.0036781609 | 0.00480 | 0.005145167 | 0.003352892 | 0.0032377428 | 0.0020010005 | 0.0017754106 | 0.003558719 | 0.000000000 | ⋯ | 0.0016286645 | 0.003717472 | 0.0016207455 | 0.003620565 | 0.003938417 | 0.0036429872 | 0.0034722222 | 0.0053380783 | 0.0065473592 | 0.002040816 |\n",
       "| neutrophil | 0.0032692308 | 0.0036781609 | 0.00512 | 0.006247703 | 0.001676446 | 0.0037002775 | 0.0025012506 | 0.0017754106 | 0.006049822 | 0.001858736 | ⋯ | 0.0057003257 | 0.004055424 | 0.0008103728 | 0.003982621 | 0.007518797 | 0.0029143898 | 0.0026041667 | 0.0048932384 | 0.0039284155 | 0.002040816 |\n",
       "| monocyte | 0.0013461538 | 0.0027586207 | 0.00192 | 0.001837560 | 0.001676446 | 0.0018501388 | 0.0000000000 | 0.0022192632 | 0.001423488 | 0.000929368 | ⋯ | 0.0016286645 | 0.002027712 | 0.0000000000 | 0.000724113 | 0.003580380 | 0.0010928962 | 0.0013020833 | 0.0022241993 | 0.0021824531 | 0.002040816 |\n",
       "| myeloid.DC | 0.0028846154 | 0.0027586207 | 0.00416 | 0.002940096 | 0.001676446 | 0.0041628122 | 0.0005002501 | 0.0026631158 | 0.003914591 | 0.000929368 | ⋯ | 0.0032573290 | 0.002027712 | 0.0004051864 | 0.002172339 | 0.005370569 | 0.0014571949 | 0.0013020833 | 0.0017793594 | 0.0026189437 | 0.004081633 |\n",
       "| B_lineage | 0.0026923077 | 0.0022988506 | 0.00768 | 0.003675119 | 0.002514669 | 0.0032377428 | 0.0010005003 | 0.0039946738 | 0.005693950 | 0.001858736 | ⋯ | 0.0040716612 | 0.000675904 | 0.0008103728 | 0.002172339 | 0.007518797 | 0.0025500911 | 0.0008680556 | 0.0017793594 | 0.0039284155 | 0.002040816 |\n",
       "| MK | 0.0013461538 | 0.0009195402 | 0.00192 | 0.002940096 | 0.002514669 | 0.0037002775 | 0.0000000000 | 0.0026631158 | 0.003202847 | 0.000929368 | ⋯ | 0.0008143322 | 0.002365664 | 0.0024311183 | 0.001448226 | 0.002864304 | 0.0007285974 | 0.0017361111 | 0.0026690391 | 0.0008729812 | 0.000000000 |\n",
       "| mast.cell | 0.0021153846 | 0.0022988506 | 0.00128 | 0.002940096 | 0.001676446 | 0.0018501388 | 0.0000000000 | 0.0008877053 | 0.001423488 | 0.000000000 | ⋯ | 0.0016286645 | 0.002703616 | 0.0008103728 | 0.001086169 | 0.002148228 | 0.0003642987 | 0.0004340278 | 0.0013345196 | 0.0017459625 | 0.002040816 |\n",
       "| T.cell | 0.0009615385 | 0.0013793103 | 0.00320 | 0.002572584 | 0.000838223 | 0.0009250694 | 0.0005002501 | 0.0017754106 | 0.002846975 | 0.000000000 | ⋯ | 0.0032573290 | 0.001013856 | 0.0004051864 | 0.000724113 | 0.001432152 | 0.0014571949 | 0.0004340278 | 0.0004448399 | 0.0021824531 | 0.002040816 |\n",
       "| MEMP | 0.0023076923 | 0.0009195402 | 0.00256 | 0.001102536 | 0.001676446 | 0.0023126735 | 0.0000000000 | 0.0053262317 | 0.002491103 | 0.002788104 | ⋯ | 0.0008143322 | 0.000675904 | 0.0004051864 | 0.001448226 | 0.001790190 | 0.0010928962 | 0.0017361111 | 0.0035587189 | 0.0017459625 | 0.004081633 |\n",
       "| NK | 0.0015384615 | 0.0009195402 | 0.00288 | 0.002205072 | 0.000838223 | 0.0023126735 | 0.0000000000 | 0.0017754106 | 0.002135231 | 0.000000000 | ⋯ | 0.0057003257 | 0.001689760 | 0.0004051864 | 0.001448226 | 0.002148228 | 0.0014571949 | 0.0004340278 | 0.0013345196 | 0.0013094718 | 0.002040816 |\n",
       "| myeloid.progenitor | 0.0030769231 | 0.0022988506 | 0.00416 | 0.005512679 | 0.003352892 | 0.0023126735 | 0.0005002501 | 0.0026631158 | 0.004626335 | 0.000929368 | ⋯ | 0.0065146580 | 0.003717472 | 0.0012155592 | 0.001448226 | 0.002864304 | 0.0018214936 | 0.0013020833 | 0.0031138790 | 0.0030554343 | 0.002040816 |\n",
       "| eosinophil | 0.0017307692 | 0.0004597701 | 0.00160 | 0.002940096 | 0.000000000 | 0.0023126735 | 0.0005002501 | 0.0004438526 | 0.001779359 | 0.000000000 | ⋯ | 0.0032573290 | 0.001689760 | 0.0004051864 | 0.001086169 | 0.002148228 | 0.0003642987 | 0.0004340278 | 0.0013345196 | 0.0013094718 | 0.004081633 |\n",
       "| pDC | 0.0015384615 | 0.0022988506 | 0.00384 | 0.002205072 | 0.001676446 | 0.0018501388 | 0.0020010005 | 0.0022192632 | 0.004270463 | 0.000929368 | ⋯ | 0.0032573290 | 0.002027712 | 0.0000000000 | 0.000724113 | 0.001432152 | 0.0007285974 | 0.0021701389 | 0.0022241993 | 0.0026189437 | 0.002040816 |\n",
       "| HSC | 0.0030769231 | 0.0027586207 | 0.00544 | 0.004410143 | 0.002514669 | 0.0023126735 | 0.0020010005 | 0.0035508211 | 0.006761566 | 0.002788104 | ⋯ | 0.0048859935 | 0.001689760 | 0.0012155592 | 0.001810282 | 0.001432152 | 0.0054644809 | 0.0013020833 | 0.0026690391 | 0.0026189437 | 0.000000000 |\n",
       "\n"
      ],
      "text/plain": [
       "                   chr1         chr10        chr11   chr12       chr13      \n",
       "erythroid          0.0001923077 0.0000000000 0.00064 0.000000000 0.000000000\n",
       "stroma             0.0032692308 0.0036781609 0.00480 0.005145167 0.003352892\n",
       "neutrophil         0.0032692308 0.0036781609 0.00512 0.006247703 0.001676446\n",
       "monocyte           0.0013461538 0.0027586207 0.00192 0.001837560 0.001676446\n",
       "myeloid.DC         0.0028846154 0.0027586207 0.00416 0.002940096 0.001676446\n",
       "B_lineage          0.0026923077 0.0022988506 0.00768 0.003675119 0.002514669\n",
       "MK                 0.0013461538 0.0009195402 0.00192 0.002940096 0.002514669\n",
       "mast.cell          0.0021153846 0.0022988506 0.00128 0.002940096 0.001676446\n",
       "T.cell             0.0009615385 0.0013793103 0.00320 0.002572584 0.000838223\n",
       "MEMP               0.0023076923 0.0009195402 0.00256 0.001102536 0.001676446\n",
       "NK                 0.0015384615 0.0009195402 0.00288 0.002205072 0.000838223\n",
       "myeloid.progenitor 0.0030769231 0.0022988506 0.00416 0.005512679 0.003352892\n",
       "eosinophil         0.0017307692 0.0004597701 0.00160 0.002940096 0.000000000\n",
       "pDC                0.0015384615 0.0022988506 0.00384 0.002205072 0.001676446\n",
       "HSC                0.0030769231 0.0027586207 0.00544 0.004410143 0.002514669\n",
       "                   chr14        chr15        chr16        chr17      \n",
       "erythroid          0.0004625347 0.0000000000 0.0000000000 0.000000000\n",
       "stroma             0.0032377428 0.0020010005 0.0017754106 0.003558719\n",
       "neutrophil         0.0037002775 0.0025012506 0.0017754106 0.006049822\n",
       "monocyte           0.0018501388 0.0000000000 0.0022192632 0.001423488\n",
       "myeloid.DC         0.0041628122 0.0005002501 0.0026631158 0.003914591\n",
       "B_lineage          0.0032377428 0.0010005003 0.0039946738 0.005693950\n",
       "MK                 0.0037002775 0.0000000000 0.0026631158 0.003202847\n",
       "mast.cell          0.0018501388 0.0000000000 0.0008877053 0.001423488\n",
       "T.cell             0.0009250694 0.0005002501 0.0017754106 0.002846975\n",
       "MEMP               0.0023126735 0.0000000000 0.0053262317 0.002491103\n",
       "NK                 0.0023126735 0.0000000000 0.0017754106 0.002135231\n",
       "myeloid.progenitor 0.0023126735 0.0005002501 0.0026631158 0.004626335\n",
       "eosinophil         0.0023126735 0.0005002501 0.0004438526 0.001779359\n",
       "pDC                0.0018501388 0.0020010005 0.0022192632 0.004270463\n",
       "HSC                0.0023126735 0.0020010005 0.0035508211 0.006761566\n",
       "                   chr18       ⋯ chr22        chr3        chr4        \n",
       "erythroid          0.000000000 ⋯ 0.0000000000 0.000337952 0.0004051864\n",
       "stroma             0.000000000 ⋯ 0.0016286645 0.003717472 0.0016207455\n",
       "neutrophil         0.001858736 ⋯ 0.0057003257 0.004055424 0.0008103728\n",
       "monocyte           0.000929368 ⋯ 0.0016286645 0.002027712 0.0000000000\n",
       "myeloid.DC         0.000929368 ⋯ 0.0032573290 0.002027712 0.0004051864\n",
       "B_lineage          0.001858736 ⋯ 0.0040716612 0.000675904 0.0008103728\n",
       "MK                 0.000929368 ⋯ 0.0008143322 0.002365664 0.0024311183\n",
       "mast.cell          0.000000000 ⋯ 0.0016286645 0.002703616 0.0008103728\n",
       "T.cell             0.000000000 ⋯ 0.0032573290 0.001013856 0.0004051864\n",
       "MEMP               0.002788104 ⋯ 0.0008143322 0.000675904 0.0004051864\n",
       "NK                 0.000000000 ⋯ 0.0057003257 0.001689760 0.0004051864\n",
       "myeloid.progenitor 0.000929368 ⋯ 0.0065146580 0.003717472 0.0012155592\n",
       "eosinophil         0.000000000 ⋯ 0.0032573290 0.001689760 0.0004051864\n",
       "pDC                0.000929368 ⋯ 0.0032573290 0.002027712 0.0000000000\n",
       "HSC                0.002788104 ⋯ 0.0048859935 0.001689760 0.0012155592\n",
       "                   chr5        chr6        chr7         chr8        \n",
       "erythroid          0.000724113 0.001074114 0.0000000000 0.0004340278\n",
       "stroma             0.003620565 0.003938417 0.0036429872 0.0034722222\n",
       "neutrophil         0.003982621 0.007518797 0.0029143898 0.0026041667\n",
       "monocyte           0.000724113 0.003580380 0.0010928962 0.0013020833\n",
       "myeloid.DC         0.002172339 0.005370569 0.0014571949 0.0013020833\n",
       "B_lineage          0.002172339 0.007518797 0.0025500911 0.0008680556\n",
       "MK                 0.001448226 0.002864304 0.0007285974 0.0017361111\n",
       "mast.cell          0.001086169 0.002148228 0.0003642987 0.0004340278\n",
       "T.cell             0.000724113 0.001432152 0.0014571949 0.0004340278\n",
       "MEMP               0.001448226 0.001790190 0.0010928962 0.0017361111\n",
       "NK                 0.001448226 0.002148228 0.0014571949 0.0004340278\n",
       "myeloid.progenitor 0.001448226 0.002864304 0.0018214936 0.0013020833\n",
       "eosinophil         0.001086169 0.002148228 0.0003642987 0.0004340278\n",
       "pDC                0.000724113 0.001432152 0.0007285974 0.0021701389\n",
       "HSC                0.001810282 0.001432152 0.0054644809 0.0013020833\n",
       "                   chr9         chrX         chrY       \n",
       "erythroid          0.0004448399 0.0004364906 0.004081633\n",
       "stroma             0.0053380783 0.0065473592 0.002040816\n",
       "neutrophil         0.0048932384 0.0039284155 0.002040816\n",
       "monocyte           0.0022241993 0.0021824531 0.002040816\n",
       "myeloid.DC         0.0017793594 0.0026189437 0.004081633\n",
       "B_lineage          0.0017793594 0.0039284155 0.002040816\n",
       "MK                 0.0026690391 0.0008729812 0.000000000\n",
       "mast.cell          0.0013345196 0.0017459625 0.002040816\n",
       "T.cell             0.0004448399 0.0021824531 0.002040816\n",
       "MEMP               0.0035587189 0.0017459625 0.004081633\n",
       "NK                 0.0013345196 0.0013094718 0.002040816\n",
       "myeloid.progenitor 0.0031138790 0.0030554343 0.002040816\n",
       "eosinophil         0.0013345196 0.0013094718 0.004081633\n",
       "pDC                0.0022241993 0.0026189437 0.002040816\n",
       "HSC                0.0026690391 0.0026189437 0.000000000"
      ]
     },
     "metadata": {},
     "output_type": "display_data"
    }
   ],
   "source": [
    "rates <- rates %>% mutate(chr1 = chr1 / 5200)\n",
    "rates <- rates %>% mutate(chr2 = chr2 / 3882)\n",
    "rates <- rates %>% mutate(chr3 = chr3 / 2959)\n",
    "rates <- rates %>% mutate(chr4 = chr4 / 2468)\n",
    "rates <- rates %>% mutate(chr5 = chr5 / 2762)\n",
    "rates <- rates %>% mutate(chr6 = chr6 / 2793)\n",
    "rates <- rates %>% mutate(chr7 = chr7 / 2745)\n",
    "rates <- rates %>% mutate(chr8 = chr8 / 2304)\n",
    "rates <- rates %>% mutate(chr9 = chr9 / 2248)\n",
    "rates <- rates %>% mutate(chr10 = chr10 / 2175)\n",
    "rates <- rates %>% mutate(chr11 = chr11 / 3125)\n",
    "rates <- rates %>% mutate(chr12 = chr12 / 2721)\n",
    "rates <- rates %>% mutate(chr13 = chr13 / 1193)\n",
    "rates <- rates %>% mutate(chr14 = chr14 / 2162)\n",
    "rates <- rates %>% mutate(chr15 = chr15 / 1999)\n",
    "rates <- rates %>% mutate(chr16 = chr16 / 2253)\n",
    "rates <- rates %>% mutate(chr17 = chr17 / 2810)\n",
    "rates <- rates %>% mutate(chr18 = chr18 / 1076)\n",
    "rates <- rates %>% mutate(chr19 = chr19 / 2863)\n",
    "rates <- rates %>% mutate(chr20 = chr20 / 1273)\n",
    "rates <- rates %>% mutate(chr21 = chr21 / 708)\n",
    "rates <- rates %>% mutate(chr22 = chr22 / 1228)\n",
    "rates <- rates %>% mutate(chrX = chrX / 2291)\n",
    "rates <- rates %>% mutate(chrY = chrY / 490)\n",
    "rownames(rates)<-types\n",
    "rates"
   ]
  },
  {
   "cell_type": "code",
   "execution_count": 485,
   "metadata": {
    "scrolled": true
   },
   "outputs": [],
   "source": [
    "rates$type<-rownames(rates)\n",
    "df2<-melt(rates, id = c(\"type\"))"
   ]
  },
  {
   "cell_type": "code",
   "execution_count": 487,
   "metadata": {},
   "outputs": [],
   "source": [
    "options(repr.plot.width=10, repr.plot.height=10)\n",
    "\n",
    "df2$type<-as.factor(df2$type)\n",
    "df2$type <- factor(df2$type, levels = rev(c(\"HSC\", \"MEMP\", \"erythroid\", \"MK\", \"B_lineage\", \"myeloid.DC\", \n",
    "                                      \"pDC\", \"eosinophil\", \"mast.cell\", \"myeloid.progenitor\",\n",
    "                                      \"neutrophil\", \"monocyte\", \"T.cell\", \"NK\", \"stroma\")))\n",
    "\n",
    "\n",
    "df2$variable <- factor(df2$variable, levels = c(\"chr1\", \"chr2\", \"chr3\", \"chr4\",\n",
    "                                              \"chr5\", \"chr6\", \"chr7\", \"chr8\",\n",
    "                                              \"chr9\", \"chr10\", \"chr11\", \"chr12\", \"chr13\", \"chr14\", \"chr15\", \"chr16\", \"chr17\", \"chr18\", \"chr19\", \n",
    "                                              \"chr20\", \"chr21\", \"chr22\", \"chrX\", \"chrY\"))"
   ]
  },
  {
   "cell_type": "code",
   "execution_count": 488,
   "metadata": {},
   "outputs": [
    {
     "name": "stderr",
     "output_type": "stream",
     "text": [
      "Saving 6.67 x 6.67 in image\n",
      "\n"
     ]
    },
    {
     "data": {
      "image/png": "[encoded data removed]",
      "text/plain": [
       "plot without title"
      ]
     },
     "metadata": {
      "image/png": {
       "height": 600,
       "width": 600
      },
      "text/plain": {
       "height": 600,
       "width": 600
      }
     },
     "output_type": "display_data"
    }
   ],
   "source": [
    "ggplot(df2, aes(type, variable, fill= value)) + \n",
    "   geom_tile(color = \"white\")+\n",
    " scale_fill_gradient2(low = \"blue\", high = \"red\", mid = \"white\", midpoint = 0.003) + theme(axis.text.x = element_text(angle = 90, vjust = 0.5, hjust=1))+\n",
    "coord_flip() + theme(aspect.ratio = 0.55) \n",
    "\n",
    "ggsave(\"DEGs_by_chromosome.pdf\", plot = last_plot(), device = NULL, path = NULL,\n",
    "  scale = 1, dpi = 300)"
   ]
  },
  {
   "cell_type": "markdown",
   "metadata": {},
   "source": [
    "\n",
    "\n",
    "\n",
    "***Heatmap for 5D***\n",
    "\n"
   ]
  },
  {
   "cell_type": "code",
   "execution_count": 491,
   "metadata": {},
   "outputs": [],
   "source": [
    "df<-data.frame(chromosome=levels(order$V2))"
   ]
  },
  {
   "cell_type": "code",
   "execution_count": 492,
   "metadata": {},
   "outputs": [
    {
     "name": "stderr",
     "output_type": "stream",
     "text": [
      "Calculating cluster healthy\n",
      "\n",
      "Calculating cluster downs\n",
      "\n",
      "Calculating cluster healthy\n",
      "\n",
      "Calculating cluster downs\n",
      "\n",
      "Calculating cluster healthy\n",
      "\n",
      "Calculating cluster downs\n",
      "\n",
      "Calculating cluster healthy\n",
      "\n",
      "Calculating cluster downs\n",
      "\n",
      "Calculating cluster healthy\n",
      "\n",
      "Calculating cluster downs\n",
      "\n",
      "Calculating cluster healthy\n",
      "\n",
      "Calculating cluster downs\n",
      "\n",
      "Calculating cluster healthy\n",
      "\n",
      "Calculating cluster downs\n",
      "\n",
      "Calculating cluster healthy\n",
      "\n",
      "Calculating cluster downs\n",
      "\n",
      "Calculating cluster healthy\n",
      "\n",
      "Calculating cluster downs\n",
      "\n",
      "Calculating cluster healthy\n",
      "\n",
      "Calculating cluster downs\n",
      "\n",
      "Calculating cluster healthy\n",
      "\n",
      "Calculating cluster downs\n",
      "\n",
      "Calculating cluster healthy\n",
      "\n",
      "Calculating cluster downs\n",
      "\n",
      "Calculating cluster healthy\n",
      "\n",
      "Calculating cluster downs\n",
      "\n",
      "Calculating cluster healthy\n",
      "\n",
      "Calculating cluster downs\n",
      "\n",
      "Calculating cluster healthy\n",
      "\n",
      "Calculating cluster downs\n",
      "\n",
      "Calculating cluster healthy\n",
      "\n",
      "Calculating cluster downs\n",
      "\n",
      "Calculating cluster healthy\n",
      "\n",
      "Calculating cluster downs\n",
      "\n",
      "Calculating cluster healthy\n",
      "\n",
      "Calculating cluster downs\n",
      "\n",
      "Calculating cluster healthy\n",
      "\n",
      "Calculating cluster downs\n",
      "\n",
      "Calculating cluster healthy\n",
      "\n",
      "Calculating cluster downs\n",
      "\n",
      "Calculating cluster healthy\n",
      "\n",
      "Calculating cluster downs\n",
      "\n",
      "Calculating cluster healthy\n",
      "\n",
      "Calculating cluster downs\n",
      "\n",
      "Calculating cluster healthy\n",
      "\n",
      "Calculating cluster downs\n",
      "\n"
     ]
    }
   ],
   "source": [
    "Idents(total)<-\"clustering_5d\"\n",
    "for(i in unique(total@meta.data$clustering_5d)){\n",
    "    test<-subset(total, id = i)\n",
    "    Idents(test)<-\"Status\"\n",
    "    markers<-FindAllMarkers(test, only.pos = TRUE, min.pct = 0.25, logfc.threshold = 0.40)\n",
    "    markers<-markers[markers$cluster==\"downs\",]\n",
    "    markers<-markers[markers$p_val_adj<0.05,]\n",
    "    asd<-merge(markers, order, by = \"gene\")\n",
    "    b<-data.frame(table(asd$V2))\n",
    "    df$d<-b$Freq\n",
    "    c<-unique(test@meta.data$clustering_5d)\n",
    "    names(df)[names(df) == \"d\"] <- c\n",
    "    \n",
    "}"
   ]
  },
  {
   "cell_type": "code",
   "execution_count": 493,
   "metadata": {},
   "outputs": [],
   "source": [
    "write.csv(df, \"chromosomes_5d.csv\")"
   ]
  },
  {
   "cell_type": "code",
   "execution_count": 496,
   "metadata": {},
   "outputs": [
    {
     "data": {
      "text/html": [
       "<table>\n",
       "<caption>A data.frame: 23 × 24</caption>\n",
       "<thead>\n",
       "\t<tr><th></th><th scope=col>chr1</th><th scope=col>chr10</th><th scope=col>chr11</th><th scope=col>chr12</th><th scope=col>chr13</th><th scope=col>chr14</th><th scope=col>chr15</th><th scope=col>chr16</th><th scope=col>chr17</th><th scope=col>chr18</th><th scope=col>⋯</th><th scope=col>chr22</th><th scope=col>chr3</th><th scope=col>chr4</th><th scope=col>chr5</th><th scope=col>chr6</th><th scope=col>chr7</th><th scope=col>chr8</th><th scope=col>chr9</th><th scope=col>chrX</th><th scope=col>chrY</th></tr>\n",
       "\t<tr><th></th><th scope=col>&lt;int&gt;</th><th scope=col>&lt;int&gt;</th><th scope=col>&lt;int&gt;</th><th scope=col>&lt;int&gt;</th><th scope=col>&lt;int&gt;</th><th scope=col>&lt;int&gt;</th><th scope=col>&lt;int&gt;</th><th scope=col>&lt;int&gt;</th><th scope=col>&lt;int&gt;</th><th scope=col>&lt;int&gt;</th><th scope=col>⋯</th><th scope=col>&lt;int&gt;</th><th scope=col>&lt;int&gt;</th><th scope=col>&lt;int&gt;</th><th scope=col>&lt;int&gt;</th><th scope=col>&lt;int&gt;</th><th scope=col>&lt;int&gt;</th><th scope=col>&lt;int&gt;</th><th scope=col>&lt;int&gt;</th><th scope=col>&lt;int&gt;</th><th scope=col>&lt;int&gt;</th></tr>\n",
       "</thead>\n",
       "<tbody>\n",
       "\t<tr><th scope=row>early.erythroid</th><td> 6</td><td> 2</td><td> 2</td><td> 1</td><td>1</td><td> 4</td><td> 0</td><td> 1</td><td> 2</td><td>1</td><td>⋯</td><td> 0</td><td> 1</td><td> 1</td><td> 2</td><td> 5</td><td> 0</td><td> 1</td><td> 2</td><td> 1</td><td>2</td></tr>\n",
       "\t<tr><th scope=row>NA.</th><td>21</td><td> 5</td><td>16</td><td>16</td><td>2</td><td> 8</td><td> 2</td><td> 8</td><td>18</td><td>0</td><td>⋯</td><td> 7</td><td> 6</td><td> 2</td><td>10</td><td>19</td><td> 8</td><td> 2</td><td> 7</td><td>11</td><td>1</td></tr>\n",
       "\t<tr><th scope=row>neutrophil</th><td>11</td><td> 6</td><td>14</td><td>15</td><td>3</td><td> 7</td><td> 3</td><td> 7</td><td>13</td><td>3</td><td>⋯</td><td> 6</td><td>10</td><td> 1</td><td> 9</td><td>12</td><td> 5</td><td> 4</td><td>10</td><td> 6</td><td>1</td></tr>\n",
       "\t<tr><th scope=row>CD14.monocyte</th><td>10</td><td> 8</td><td>11</td><td>10</td><td>2</td><td> 5</td><td> 1</td><td> 5</td><td>10</td><td>0</td><td>⋯</td><td> 2</td><td> 6</td><td> 2</td><td> 6</td><td>20</td><td> 5</td><td> 4</td><td> 7</td><td> 5</td><td>0</td></tr>\n",
       "\t<tr><th scope=row>myeloid.DC</th><td>15</td><td> 6</td><td>13</td><td> 8</td><td>2</td><td> 9</td><td> 1</td><td> 6</td><td>11</td><td>1</td><td>⋯</td><td> 4</td><td> 6</td><td> 1</td><td> 6</td><td>15</td><td> 4</td><td> 3</td><td> 4</td><td> 6</td><td>2</td></tr>\n",
       "\t<tr><th scope=row>pre.B</th><td>42</td><td>13</td><td>26</td><td>21</td><td>4</td><td> 9</td><td> 9</td><td>19</td><td>24</td><td>2</td><td>⋯</td><td>10</td><td> 9</td><td> 8</td><td>12</td><td>32</td><td>14</td><td> 5</td><td>12</td><td>13</td><td>1</td></tr>\n",
       "\t<tr><th scope=row>MK</th><td>21</td><td> 4</td><td>11</td><td>19</td><td>3</td><td>14</td><td> 1</td><td>13</td><td>14</td><td>2</td><td>⋯</td><td> 7</td><td>15</td><td> 8</td><td>12</td><td>14</td><td> 5</td><td> 9</td><td>10</td><td> 6</td><td>1</td></tr>\n",
       "\t<tr><th scope=row>early.B</th><td> 6</td><td> 3</td><td>15</td><td> 8</td><td>2</td><td> 3</td><td> 4</td><td> 6</td><td> 8</td><td>1</td><td>⋯</td><td> 5</td><td> 3</td><td> 2</td><td> 2</td><td> 5</td><td> 3</td><td> 5</td><td> 2</td><td>10</td><td>0</td></tr>\n",
       "\t<tr><th scope=row>promonocyte</th><td>24</td><td>13</td><td>15</td><td>12</td><td>2</td><td> 8</td><td> 3</td><td>10</td><td>15</td><td>1</td><td>⋯</td><td> 5</td><td> 9</td><td> 0</td><td> 8</td><td>16</td><td> 7</td><td> 5</td><td> 9</td><td> 9</td><td>1</td></tr>\n",
       "\t<tr><th scope=row>mid.erythroid</th><td>26</td><td> 5</td><td>18</td><td>10</td><td>3</td><td> 3</td><td> 6</td><td>13</td><td>15</td><td>3</td><td>⋯</td><td> 9</td><td>11</td><td>11</td><td>13</td><td>40</td><td> 9</td><td> 8</td><td>10</td><td> 8</td><td>2</td></tr>\n",
       "\t<tr><th scope=row>myelocyte</th><td>45</td><td>16</td><td>33</td><td>34</td><td>2</td><td>22</td><td>12</td><td>17</td><td>36</td><td>3</td><td>⋯</td><td>16</td><td>24</td><td>10</td><td>24</td><td>41</td><td>25</td><td>12</td><td>17</td><td>17</td><td>1</td></tr>\n",
       "\t<tr><th scope=row>mast.cell</th><td>11</td><td> 5</td><td> 4</td><td> 8</td><td>2</td><td> 4</td><td> 0</td><td> 2</td><td> 4</td><td>0</td><td>⋯</td><td> 2</td><td> 8</td><td> 2</td><td> 3</td><td> 6</td><td> 1</td><td> 1</td><td> 3</td><td> 4</td><td>1</td></tr>\n",
       "\t<tr><th scope=row>MEMP</th><td>12</td><td> 2</td><td> 8</td><td> 3</td><td>2</td><td> 5</td><td> 0</td><td>12</td><td> 7</td><td>3</td><td>⋯</td><td> 1</td><td> 2</td><td> 1</td><td> 4</td><td> 5</td><td> 3</td><td> 4</td><td> 8</td><td> 4</td><td>2</td></tr>\n",
       "\t<tr><th scope=row>MOP</th><td>26</td><td> 8</td><td>16</td><td> 8</td><td>2</td><td> 7</td><td> 3</td><td>14</td><td>17</td><td>0</td><td>⋯</td><td> 9</td><td> 9</td><td> 1</td><td> 7</td><td>16</td><td> 5</td><td> 3</td><td> 9</td><td>11</td><td>1</td></tr>\n",
       "\t<tr><th scope=row>CMP.GMP</th><td> 9</td><td> 3</td><td>10</td><td> 5</td><td>3</td><td> 4</td><td> 0</td><td> 2</td><td> 5</td><td>1</td><td>⋯</td><td> 2</td><td> 7</td><td> 1</td><td> 2</td><td> 2</td><td> 4</td><td> 0</td><td> 5</td><td> 4</td><td>1</td></tr>\n",
       "\t<tr><th scope=row>eosinophil</th><td> 9</td><td> 1</td><td> 5</td><td> 8</td><td>0</td><td> 5</td><td> 1</td><td> 1</td><td> 5</td><td>0</td><td>⋯</td><td> 4</td><td> 5</td><td> 1</td><td> 3</td><td> 6</td><td> 1</td><td> 1</td><td> 3</td><td> 3</td><td>2</td></tr>\n",
       "\t<tr><th scope=row>early.MK</th><td> 0</td><td> 0</td><td> 0</td><td> 0</td><td>1</td><td> 0</td><td> 1</td><td> 0</td><td> 0</td><td>0</td><td>⋯</td><td> 0</td><td> 0</td><td> 2</td><td> 1</td><td> 1</td><td> 1</td><td> 0</td><td> 1</td><td> 1</td><td>0</td></tr>\n",
       "\t<tr><th scope=row>promyelocyte</th><td>13</td><td> 5</td><td>11</td><td>14</td><td>4</td><td> 7</td><td> 3</td><td> 7</td><td>13</td><td>1</td><td>⋯</td><td> 8</td><td>10</td><td> 4</td><td> 2</td><td> 4</td><td> 5</td><td> 2</td><td> 8</td><td> 8</td><td>1</td></tr>\n",
       "\t<tr><th scope=row>pDC</th><td> 7</td><td> 5</td><td>13</td><td> 6</td><td>2</td><td> 4</td><td> 3</td><td> 5</td><td>11</td><td>1</td><td>⋯</td><td> 4</td><td> 6</td><td> 0</td><td> 2</td><td> 4</td><td> 2</td><td> 5</td><td> 5</td><td> 5</td><td>1</td></tr>\n",
       "\t<tr><th scope=row>HSC.MPP</th><td>11</td><td> 4</td><td>12</td><td> 5</td><td>3</td><td> 6</td><td> 2</td><td> 4</td><td>13</td><td>0</td><td>⋯</td><td> 3</td><td> 5</td><td> 3</td><td> 3</td><td> 3</td><td> 5</td><td> 2</td><td> 5</td><td> 5</td><td>0</td></tr>\n",
       "\t<tr><th scope=row>eo.baso.mast.precursor</th><td>15</td><td> 5</td><td> 9</td><td> 7</td><td>2</td><td> 6</td><td> 0</td><td>10</td><td> 9</td><td>2</td><td>⋯</td><td> 4</td><td> 5</td><td> 3</td><td> 3</td><td> 5</td><td> 7</td><td> 3</td><td> 4</td><td> 2</td><td>0</td></tr>\n",
       "\t<tr><th scope=row>late.erythroid</th><td>11</td><td> 0</td><td> 7</td><td> 3</td><td>0</td><td> 2</td><td> 1</td><td> 2</td><td> 4</td><td>1</td><td>⋯</td><td> 2</td><td> 2</td><td> 2</td><td> 3</td><td> 5</td><td> 1</td><td> 3</td><td> 4</td><td> 1</td><td>1</td></tr>\n",
       "\t<tr><th scope=row>mature.B</th><td>13</td><td> 7</td><td>23</td><td> 9</td><td>4</td><td> 4</td><td> 2</td><td>11</td><td>14</td><td>1</td><td>⋯</td><td>11</td><td>12</td><td> 4</td><td> 4</td><td>13</td><td> 8</td><td> 3</td><td> 7</td><td> 5</td><td>0</td></tr>\n",
       "</tbody>\n",
       "</table>\n"
      ],
      "text/latex": [
       "A data.frame: 23 × 24\n",
       "\\begin{tabular}{r|lllllllllllllllllllll}\n",
       "  & chr1 & chr10 & chr11 & chr12 & chr13 & chr14 & chr15 & chr16 & chr17 & chr18 & ⋯ & chr22 & chr3 & chr4 & chr5 & chr6 & chr7 & chr8 & chr9 & chrX & chrY\\\\\n",
       "  & <int> & <int> & <int> & <int> & <int> & <int> & <int> & <int> & <int> & <int> & ⋯ & <int> & <int> & <int> & <int> & <int> & <int> & <int> & <int> & <int> & <int>\\\\\n",
       "\\hline\n",
       "\tearly.erythroid &  6 &  2 &  2 &  1 & 1 &  4 &  0 &  1 &  2 & 1 & ⋯ &  0 &  1 &  1 &  2 &  5 &  0 &  1 &  2 &  1 & 2\\\\\n",
       "\tNA. & 21 &  5 & 16 & 16 & 2 &  8 &  2 &  8 & 18 & 0 & ⋯ &  7 &  6 &  2 & 10 & 19 &  8 &  2 &  7 & 11 & 1\\\\\n",
       "\tneutrophil & 11 &  6 & 14 & 15 & 3 &  7 &  3 &  7 & 13 & 3 & ⋯ &  6 & 10 &  1 &  9 & 12 &  5 &  4 & 10 &  6 & 1\\\\\n",
       "\tCD14.monocyte & 10 &  8 & 11 & 10 & 2 &  5 &  1 &  5 & 10 & 0 & ⋯ &  2 &  6 &  2 &  6 & 20 &  5 &  4 &  7 &  5 & 0\\\\\n",
       "\tmyeloid.DC & 15 &  6 & 13 &  8 & 2 &  9 &  1 &  6 & 11 & 1 & ⋯ &  4 &  6 &  1 &  6 & 15 &  4 &  3 &  4 &  6 & 2\\\\\n",
       "\tpre.B & 42 & 13 & 26 & 21 & 4 &  9 &  9 & 19 & 24 & 2 & ⋯ & 10 &  9 &  8 & 12 & 32 & 14 &  5 & 12 & 13 & 1\\\\\n",
       "\tMK & 21 &  4 & 11 & 19 & 3 & 14 &  1 & 13 & 14 & 2 & ⋯ &  7 & 15 &  8 & 12 & 14 &  5 &  9 & 10 &  6 & 1\\\\\n",
       "\tearly.B &  6 &  3 & 15 &  8 & 2 &  3 &  4 &  6 &  8 & 1 & ⋯ &  5 &  3 &  2 &  2 &  5 &  3 &  5 &  2 & 10 & 0\\\\\n",
       "\tpromonocyte & 24 & 13 & 15 & 12 & 2 &  8 &  3 & 10 & 15 & 1 & ⋯ &  5 &  9 &  0 &  8 & 16 &  7 &  5 &  9 &  9 & 1\\\\\n",
       "\tmid.erythroid & 26 &  5 & 18 & 10 & 3 &  3 &  6 & 13 & 15 & 3 & ⋯ &  9 & 11 & 11 & 13 & 40 &  9 &  8 & 10 &  8 & 2\\\\\n",
       "\tmyelocyte & 45 & 16 & 33 & 34 & 2 & 22 & 12 & 17 & 36 & 3 & ⋯ & 16 & 24 & 10 & 24 & 41 & 25 & 12 & 17 & 17 & 1\\\\\n",
       "\tmast.cell & 11 &  5 &  4 &  8 & 2 &  4 &  0 &  2 &  4 & 0 & ⋯ &  2 &  8 &  2 &  3 &  6 &  1 &  1 &  3 &  4 & 1\\\\\n",
       "\tMEMP & 12 &  2 &  8 &  3 & 2 &  5 &  0 & 12 &  7 & 3 & ⋯ &  1 &  2 &  1 &  4 &  5 &  3 &  4 &  8 &  4 & 2\\\\\n",
       "\tMOP & 26 &  8 & 16 &  8 & 2 &  7 &  3 & 14 & 17 & 0 & ⋯ &  9 &  9 &  1 &  7 & 16 &  5 &  3 &  9 & 11 & 1\\\\\n",
       "\tCMP.GMP &  9 &  3 & 10 &  5 & 3 &  4 &  0 &  2 &  5 & 1 & ⋯ &  2 &  7 &  1 &  2 &  2 &  4 &  0 &  5 &  4 & 1\\\\\n",
       "\teosinophil &  9 &  1 &  5 &  8 & 0 &  5 &  1 &  1 &  5 & 0 & ⋯ &  4 &  5 &  1 &  3 &  6 &  1 &  1 &  3 &  3 & 2\\\\\n",
       "\tearly.MK &  0 &  0 &  0 &  0 & 1 &  0 &  1 &  0 &  0 & 0 & ⋯ &  0 &  0 &  2 &  1 &  1 &  1 &  0 &  1 &  1 & 0\\\\\n",
       "\tpromyelocyte & 13 &  5 & 11 & 14 & 4 &  7 &  3 &  7 & 13 & 1 & ⋯ &  8 & 10 &  4 &  2 &  4 &  5 &  2 &  8 &  8 & 1\\\\\n",
       "\tpDC &  7 &  5 & 13 &  6 & 2 &  4 &  3 &  5 & 11 & 1 & ⋯ &  4 &  6 &  0 &  2 &  4 &  2 &  5 &  5 &  5 & 1\\\\\n",
       "\tHSC.MPP & 11 &  4 & 12 &  5 & 3 &  6 &  2 &  4 & 13 & 0 & ⋯ &  3 &  5 &  3 &  3 &  3 &  5 &  2 &  5 &  5 & 0\\\\\n",
       "\teo.baso.mast.precursor & 15 &  5 &  9 &  7 & 2 &  6 &  0 & 10 &  9 & 2 & ⋯ &  4 &  5 &  3 &  3 &  5 &  7 &  3 &  4 &  2 & 0\\\\\n",
       "\tlate.erythroid & 11 &  0 &  7 &  3 & 0 &  2 &  1 &  2 &  4 & 1 & ⋯ &  2 &  2 &  2 &  3 &  5 &  1 &  3 &  4 &  1 & 1\\\\\n",
       "\tmature.B & 13 &  7 & 23 &  9 & 4 &  4 &  2 & 11 & 14 & 1 & ⋯ & 11 & 12 &  4 &  4 & 13 &  8 &  3 &  7 &  5 & 0\\\\\n",
       "\\end{tabular}\n"
      ],
      "text/markdown": [
       "\n",
       "A data.frame: 23 × 24\n",
       "\n",
       "| <!--/--> | chr1 &lt;int&gt; | chr10 &lt;int&gt; | chr11 &lt;int&gt; | chr12 &lt;int&gt; | chr13 &lt;int&gt; | chr14 &lt;int&gt; | chr15 &lt;int&gt; | chr16 &lt;int&gt; | chr17 &lt;int&gt; | chr18 &lt;int&gt; | ⋯ ⋯ | chr22 &lt;int&gt; | chr3 &lt;int&gt; | chr4 &lt;int&gt; | chr5 &lt;int&gt; | chr6 &lt;int&gt; | chr7 &lt;int&gt; | chr8 &lt;int&gt; | chr9 &lt;int&gt; | chrX &lt;int&gt; | chrY &lt;int&gt; |\n",
       "|---|---|---|---|---|---|---|---|---|---|---|---|---|---|---|---|---|---|---|---|---|---|\n",
       "| early.erythroid |  6 |  2 |  2 |  1 | 1 |  4 |  0 |  1 |  2 | 1 | ⋯ |  0 |  1 |  1 |  2 |  5 |  0 |  1 |  2 |  1 | 2 |\n",
       "| NA. | 21 |  5 | 16 | 16 | 2 |  8 |  2 |  8 | 18 | 0 | ⋯ |  7 |  6 |  2 | 10 | 19 |  8 |  2 |  7 | 11 | 1 |\n",
       "| neutrophil | 11 |  6 | 14 | 15 | 3 |  7 |  3 |  7 | 13 | 3 | ⋯ |  6 | 10 |  1 |  9 | 12 |  5 |  4 | 10 |  6 | 1 |\n",
       "| CD14.monocyte | 10 |  8 | 11 | 10 | 2 |  5 |  1 |  5 | 10 | 0 | ⋯ |  2 |  6 |  2 |  6 | 20 |  5 |  4 |  7 |  5 | 0 |\n",
       "| myeloid.DC | 15 |  6 | 13 |  8 | 2 |  9 |  1 |  6 | 11 | 1 | ⋯ |  4 |  6 |  1 |  6 | 15 |  4 |  3 |  4 |  6 | 2 |\n",
       "| pre.B | 42 | 13 | 26 | 21 | 4 |  9 |  9 | 19 | 24 | 2 | ⋯ | 10 |  9 |  8 | 12 | 32 | 14 |  5 | 12 | 13 | 1 |\n",
       "| MK | 21 |  4 | 11 | 19 | 3 | 14 |  1 | 13 | 14 | 2 | ⋯ |  7 | 15 |  8 | 12 | 14 |  5 |  9 | 10 |  6 | 1 |\n",
       "| early.B |  6 |  3 | 15 |  8 | 2 |  3 |  4 |  6 |  8 | 1 | ⋯ |  5 |  3 |  2 |  2 |  5 |  3 |  5 |  2 | 10 | 0 |\n",
       "| promonocyte | 24 | 13 | 15 | 12 | 2 |  8 |  3 | 10 | 15 | 1 | ⋯ |  5 |  9 |  0 |  8 | 16 |  7 |  5 |  9 |  9 | 1 |\n",
       "| mid.erythroid | 26 |  5 | 18 | 10 | 3 |  3 |  6 | 13 | 15 | 3 | ⋯ |  9 | 11 | 11 | 13 | 40 |  9 |  8 | 10 |  8 | 2 |\n",
       "| myelocyte | 45 | 16 | 33 | 34 | 2 | 22 | 12 | 17 | 36 | 3 | ⋯ | 16 | 24 | 10 | 24 | 41 | 25 | 12 | 17 | 17 | 1 |\n",
       "| mast.cell | 11 |  5 |  4 |  8 | 2 |  4 |  0 |  2 |  4 | 0 | ⋯ |  2 |  8 |  2 |  3 |  6 |  1 |  1 |  3 |  4 | 1 |\n",
       "| MEMP | 12 |  2 |  8 |  3 | 2 |  5 |  0 | 12 |  7 | 3 | ⋯ |  1 |  2 |  1 |  4 |  5 |  3 |  4 |  8 |  4 | 2 |\n",
       "| MOP | 26 |  8 | 16 |  8 | 2 |  7 |  3 | 14 | 17 | 0 | ⋯ |  9 |  9 |  1 |  7 | 16 |  5 |  3 |  9 | 11 | 1 |\n",
       "| CMP.GMP |  9 |  3 | 10 |  5 | 3 |  4 |  0 |  2 |  5 | 1 | ⋯ |  2 |  7 |  1 |  2 |  2 |  4 |  0 |  5 |  4 | 1 |\n",
       "| eosinophil |  9 |  1 |  5 |  8 | 0 |  5 |  1 |  1 |  5 | 0 | ⋯ |  4 |  5 |  1 |  3 |  6 |  1 |  1 |  3 |  3 | 2 |\n",
       "| early.MK |  0 |  0 |  0 |  0 | 1 |  0 |  1 |  0 |  0 | 0 | ⋯ |  0 |  0 |  2 |  1 |  1 |  1 |  0 |  1 |  1 | 0 |\n",
       "| promyelocyte | 13 |  5 | 11 | 14 | 4 |  7 |  3 |  7 | 13 | 1 | ⋯ |  8 | 10 |  4 |  2 |  4 |  5 |  2 |  8 |  8 | 1 |\n",
       "| pDC |  7 |  5 | 13 |  6 | 2 |  4 |  3 |  5 | 11 | 1 | ⋯ |  4 |  6 |  0 |  2 |  4 |  2 |  5 |  5 |  5 | 1 |\n",
       "| HSC.MPP | 11 |  4 | 12 |  5 | 3 |  6 |  2 |  4 | 13 | 0 | ⋯ |  3 |  5 |  3 |  3 |  3 |  5 |  2 |  5 |  5 | 0 |\n",
       "| eo.baso.mast.precursor | 15 |  5 |  9 |  7 | 2 |  6 |  0 | 10 |  9 | 2 | ⋯ |  4 |  5 |  3 |  3 |  5 |  7 |  3 |  4 |  2 | 0 |\n",
       "| late.erythroid | 11 |  0 |  7 |  3 | 0 |  2 |  1 |  2 |  4 | 1 | ⋯ |  2 |  2 |  2 |  3 |  5 |  1 |  3 |  4 |  1 | 1 |\n",
       "| mature.B | 13 |  7 | 23 |  9 | 4 |  4 |  2 | 11 | 14 | 1 | ⋯ | 11 | 12 |  4 |  4 | 13 |  8 |  3 |  7 |  5 | 0 |\n",
       "\n"
      ],
      "text/plain": [
       "                       chr1 chr10 chr11 chr12 chr13 chr14 chr15 chr16 chr17\n",
       "early.erythroid         6    2     2     1    1      4     0     1     2   \n",
       "NA.                    21    5    16    16    2      8     2     8    18   \n",
       "neutrophil             11    6    14    15    3      7     3     7    13   \n",
       "CD14.monocyte          10    8    11    10    2      5     1     5    10   \n",
       "myeloid.DC             15    6    13     8    2      9     1     6    11   \n",
       "pre.B                  42   13    26    21    4      9     9    19    24   \n",
       "MK                     21    4    11    19    3     14     1    13    14   \n",
       "early.B                 6    3    15     8    2      3     4     6     8   \n",
       "promonocyte            24   13    15    12    2      8     3    10    15   \n",
       "mid.erythroid          26    5    18    10    3      3     6    13    15   \n",
       "myelocyte              45   16    33    34    2     22    12    17    36   \n",
       "mast.cell              11    5     4     8    2      4     0     2     4   \n",
       "MEMP                   12    2     8     3    2      5     0    12     7   \n",
       "MOP                    26    8    16     8    2      7     3    14    17   \n",
       "CMP.GMP                 9    3    10     5    3      4     0     2     5   \n",
       "eosinophil              9    1     5     8    0      5     1     1     5   \n",
       "early.MK                0    0     0     0    1      0     1     0     0   \n",
       "promyelocyte           13    5    11    14    4      7     3     7    13   \n",
       "pDC                     7    5    13     6    2      4     3     5    11   \n",
       "HSC.MPP                11    4    12     5    3      6     2     4    13   \n",
       "eo.baso.mast.precursor 15    5     9     7    2      6     0    10     9   \n",
       "late.erythroid         11    0     7     3    0      2     1     2     4   \n",
       "mature.B               13    7    23     9    4      4     2    11    14   \n",
       "                       chr18 ⋯ chr22 chr3 chr4 chr5 chr6 chr7 chr8 chr9 chrX\n",
       "early.erythroid        1     ⋯  0     1    1    2    5    0    1    2    1  \n",
       "NA.                    0     ⋯  7     6    2   10   19    8    2    7   11  \n",
       "neutrophil             3     ⋯  6    10    1    9   12    5    4   10    6  \n",
       "CD14.monocyte          0     ⋯  2     6    2    6   20    5    4    7    5  \n",
       "myeloid.DC             1     ⋯  4     6    1    6   15    4    3    4    6  \n",
       "pre.B                  2     ⋯ 10     9    8   12   32   14    5   12   13  \n",
       "MK                     2     ⋯  7    15    8   12   14    5    9   10    6  \n",
       "early.B                1     ⋯  5     3    2    2    5    3    5    2   10  \n",
       "promonocyte            1     ⋯  5     9    0    8   16    7    5    9    9  \n",
       "mid.erythroid          3     ⋯  9    11   11   13   40    9    8   10    8  \n",
       "myelocyte              3     ⋯ 16    24   10   24   41   25   12   17   17  \n",
       "mast.cell              0     ⋯  2     8    2    3    6    1    1    3    4  \n",
       "MEMP                   3     ⋯  1     2    1    4    5    3    4    8    4  \n",
       "MOP                    0     ⋯  9     9    1    7   16    5    3    9   11  \n",
       "CMP.GMP                1     ⋯  2     7    1    2    2    4    0    5    4  \n",
       "eosinophil             0     ⋯  4     5    1    3    6    1    1    3    3  \n",
       "early.MK               0     ⋯  0     0    2    1    1    1    0    1    1  \n",
       "promyelocyte           1     ⋯  8    10    4    2    4    5    2    8    8  \n",
       "pDC                    1     ⋯  4     6    0    2    4    2    5    5    5  \n",
       "HSC.MPP                0     ⋯  3     5    3    3    3    5    2    5    5  \n",
       "eo.baso.mast.precursor 2     ⋯  4     5    3    3    5    7    3    4    2  \n",
       "late.erythroid         1     ⋯  2     2    2    3    5    1    3    4    1  \n",
       "mature.B               1     ⋯ 11    12    4    4   13    8    3    7    5  \n",
       "                       chrY\n",
       "early.erythroid        2   \n",
       "NA.                    1   \n",
       "neutrophil             1   \n",
       "CD14.monocyte          0   \n",
       "myeloid.DC             2   \n",
       "pre.B                  1   \n",
       "MK                     1   \n",
       "early.B                0   \n",
       "promonocyte            1   \n",
       "mid.erythroid          2   \n",
       "myelocyte              1   \n",
       "mast.cell              1   \n",
       "MEMP                   2   \n",
       "MOP                    1   \n",
       "CMP.GMP                1   \n",
       "eosinophil             2   \n",
       "early.MK               0   \n",
       "promyelocyte           1   \n",
       "pDC                    1   \n",
       "HSC.MPP                0   \n",
       "eo.baso.mast.precursor 0   \n",
       "late.erythroid         1   \n",
       "mature.B               0   "
      ]
     },
     "metadata": {},
     "output_type": "display_data"
    }
   ],
   "source": [
    "rates<-read.csv(\"chromosomes_5d.csv\", row.names = 2)\n",
    "rates$X<-NULL\n",
    "types<-colnames(rates)\n",
    "rates<-as.data.frame(rates)\n",
    "rates<-as.data.frame(t(rates))\n",
    "rates$chrM<-NULL\n",
    "rates"
   ]
  },
  {
   "cell_type": "code",
   "execution_count": 497,
   "metadata": {
    "scrolled": true
   },
   "outputs": [
    {
     "data": {
      "text/plain": [
       "\n",
       " chr1 chr10 chr11 chr12 chr13 chr14 chr15 chr16 chr17 chr18 chr19  chr2 chr20 \n",
       " 5200  2175  3125  2721  1193  2162  1999  2253  2810  1076  2863  3882  1273 \n",
       "chr21 chr22  chr3  chr4  chr5  chr6  chr7  chr8  chr9  chrM  chrX  chrY \n",
       "  708  1228  2959  2468  2762  2793  2745  2304  2248    37  2291   490 "
      ]
     },
     "metadata": {},
     "output_type": "display_data"
    }
   ],
   "source": [
    "table(order$V2)"
   ]
  },
  {
   "cell_type": "code",
   "execution_count": 498,
   "metadata": {},
   "outputs": [
    {
     "data": {
      "text/html": [
       "<table>\n",
       "<caption>A data.frame: 23 × 24</caption>\n",
       "<thead>\n",
       "\t<tr><th></th><th scope=col>chr1</th><th scope=col>chr10</th><th scope=col>chr11</th><th scope=col>chr12</th><th scope=col>chr13</th><th scope=col>chr14</th><th scope=col>chr15</th><th scope=col>chr16</th><th scope=col>chr17</th><th scope=col>chr18</th><th scope=col>⋯</th><th scope=col>chr22</th><th scope=col>chr3</th><th scope=col>chr4</th><th scope=col>chr5</th><th scope=col>chr6</th><th scope=col>chr7</th><th scope=col>chr8</th><th scope=col>chr9</th><th scope=col>chrX</th><th scope=col>chrY</th></tr>\n",
       "\t<tr><th></th><th scope=col>&lt;dbl&gt;</th><th scope=col>&lt;dbl&gt;</th><th scope=col>&lt;dbl&gt;</th><th scope=col>&lt;dbl&gt;</th><th scope=col>&lt;dbl&gt;</th><th scope=col>&lt;dbl&gt;</th><th scope=col>&lt;dbl&gt;</th><th scope=col>&lt;dbl&gt;</th><th scope=col>&lt;dbl&gt;</th><th scope=col>&lt;dbl&gt;</th><th scope=col>⋯</th><th scope=col>&lt;dbl&gt;</th><th scope=col>&lt;dbl&gt;</th><th scope=col>&lt;dbl&gt;</th><th scope=col>&lt;dbl&gt;</th><th scope=col>&lt;dbl&gt;</th><th scope=col>&lt;dbl&gt;</th><th scope=col>&lt;dbl&gt;</th><th scope=col>&lt;dbl&gt;</th><th scope=col>&lt;dbl&gt;</th><th scope=col>&lt;dbl&gt;</th></tr>\n",
       "</thead>\n",
       "<tbody>\n",
       "\t<tr><th scope=row>early.erythroid</th><td>0.001153846</td><td>0.0009195402</td><td>0.00064</td><td>0.0003675119</td><td>0.000838223</td><td>0.0018501388</td><td>0.0000000000</td><td>0.0004438526</td><td>0.0007117438</td><td>0.000929368</td><td>⋯</td><td>0.0000000000</td><td>0.000337952</td><td>0.0004051864</td><td>0.0007241130</td><td>0.0017901898</td><td>0.0000000000</td><td>0.0004340278</td><td>0.0008896797</td><td>0.0004364906</td><td>0.004081633</td></tr>\n",
       "\t<tr><th scope=row>NA.</th><td>0.004038462</td><td>0.0022988506</td><td>0.00512</td><td>0.0058801911</td><td>0.001676446</td><td>0.0037002775</td><td>0.0010005003</td><td>0.0035508211</td><td>0.0064056940</td><td>0.000000000</td><td>⋯</td><td>0.0057003257</td><td>0.002027712</td><td>0.0008103728</td><td>0.0036205648</td><td>0.0068027211</td><td>0.0029143898</td><td>0.0008680556</td><td>0.0031138790</td><td>0.0048013968</td><td>0.002040816</td></tr>\n",
       "\t<tr><th scope=row>neutrophil</th><td>0.002115385</td><td>0.0027586207</td><td>0.00448</td><td>0.0055126792</td><td>0.002514669</td><td>0.0032377428</td><td>0.0015007504</td><td>0.0031069685</td><td>0.0046263345</td><td>0.002788104</td><td>⋯</td><td>0.0048859935</td><td>0.003379520</td><td>0.0004051864</td><td>0.0032585083</td><td>0.0042964554</td><td>0.0018214936</td><td>0.0017361111</td><td>0.0044483986</td><td>0.0026189437</td><td>0.002040816</td></tr>\n",
       "\t<tr><th scope=row>CD14.monocyte</th><td>0.001923077</td><td>0.0036781609</td><td>0.00352</td><td>0.0036751194</td><td>0.001676446</td><td>0.0023126735</td><td>0.0005002501</td><td>0.0022192632</td><td>0.0035587189</td><td>0.000000000</td><td>⋯</td><td>0.0016286645</td><td>0.002027712</td><td>0.0008103728</td><td>0.0021723389</td><td>0.0071607590</td><td>0.0018214936</td><td>0.0017361111</td><td>0.0031138790</td><td>0.0021824531</td><td>0.000000000</td></tr>\n",
       "\t<tr><th scope=row>myeloid.DC</th><td>0.002884615</td><td>0.0027586207</td><td>0.00416</td><td>0.0029400956</td><td>0.001676446</td><td>0.0041628122</td><td>0.0005002501</td><td>0.0026631158</td><td>0.0039145907</td><td>0.000929368</td><td>⋯</td><td>0.0032573290</td><td>0.002027712</td><td>0.0004051864</td><td>0.0021723389</td><td>0.0053705693</td><td>0.0014571949</td><td>0.0013020833</td><td>0.0017793594</td><td>0.0026189437</td><td>0.004081633</td></tr>\n",
       "\t<tr><th scope=row>pre.B</th><td>0.008076923</td><td>0.0059770115</td><td>0.00832</td><td>0.0077177508</td><td>0.003352892</td><td>0.0041628122</td><td>0.0045022511</td><td>0.0084332002</td><td>0.0085409253</td><td>0.001858736</td><td>⋯</td><td>0.0081433225</td><td>0.003041568</td><td>0.0032414911</td><td>0.0043446778</td><td>0.0114572145</td><td>0.0051001821</td><td>0.0021701389</td><td>0.0053380783</td><td>0.0056743780</td><td>0.002040816</td></tr>\n",
       "\t<tr><th scope=row>MK</th><td>0.004038462</td><td>0.0018390805</td><td>0.00352</td><td>0.0069827269</td><td>0.002514669</td><td>0.0064754857</td><td>0.0005002501</td><td>0.0057700843</td><td>0.0049822064</td><td>0.001858736</td><td>⋯</td><td>0.0057003257</td><td>0.005069280</td><td>0.0032414911</td><td>0.0043446778</td><td>0.0050125313</td><td>0.0018214936</td><td>0.0039062500</td><td>0.0044483986</td><td>0.0026189437</td><td>0.002040816</td></tr>\n",
       "\t<tr><th scope=row>early.B</th><td>0.001153846</td><td>0.0013793103</td><td>0.00480</td><td>0.0029400956</td><td>0.001676446</td><td>0.0013876041</td><td>0.0020010005</td><td>0.0026631158</td><td>0.0028469751</td><td>0.000929368</td><td>⋯</td><td>0.0040716612</td><td>0.001013856</td><td>0.0008103728</td><td>0.0007241130</td><td>0.0017901898</td><td>0.0010928962</td><td>0.0021701389</td><td>0.0008896797</td><td>0.0043649062</td><td>0.000000000</td></tr>\n",
       "\t<tr><th scope=row>promonocyte</th><td>0.004615385</td><td>0.0059770115</td><td>0.00480</td><td>0.0044101433</td><td>0.001676446</td><td>0.0037002775</td><td>0.0015007504</td><td>0.0044385264</td><td>0.0053380783</td><td>0.000929368</td><td>⋯</td><td>0.0040716612</td><td>0.003041568</td><td>0.0000000000</td><td>0.0028964518</td><td>0.0057286072</td><td>0.0025500911</td><td>0.0021701389</td><td>0.0040035587</td><td>0.0039284155</td><td>0.002040816</td></tr>\n",
       "\t<tr><th scope=row>mid.erythroid</th><td>0.005000000</td><td>0.0022988506</td><td>0.00576</td><td>0.0036751194</td><td>0.002514669</td><td>0.0013876041</td><td>0.0030015008</td><td>0.0057700843</td><td>0.0053380783</td><td>0.002788104</td><td>⋯</td><td>0.0073289902</td><td>0.003717472</td><td>0.0044570502</td><td>0.0047067343</td><td>0.0143215181</td><td>0.0032786885</td><td>0.0034722222</td><td>0.0044483986</td><td>0.0034919249</td><td>0.004081633</td></tr>\n",
       "\t<tr><th scope=row>myelocyte</th><td>0.008653846</td><td>0.0073563218</td><td>0.01056</td><td>0.0124954061</td><td>0.001676446</td><td>0.0101757632</td><td>0.0060030015</td><td>0.0075454949</td><td>0.0128113879</td><td>0.002788104</td><td>⋯</td><td>0.0130293160</td><td>0.008110848</td><td>0.0040518639</td><td>0.0086893555</td><td>0.0146795560</td><td>0.0091074681</td><td>0.0052083333</td><td>0.0075622776</td><td>0.0074203405</td><td>0.002040816</td></tr>\n",
       "\t<tr><th scope=row>mast.cell</th><td>0.002115385</td><td>0.0022988506</td><td>0.00128</td><td>0.0029400956</td><td>0.001676446</td><td>0.0018501388</td><td>0.0000000000</td><td>0.0008877053</td><td>0.0014234875</td><td>0.000000000</td><td>⋯</td><td>0.0016286645</td><td>0.002703616</td><td>0.0008103728</td><td>0.0010861694</td><td>0.0021482277</td><td>0.0003642987</td><td>0.0004340278</td><td>0.0013345196</td><td>0.0017459625</td><td>0.002040816</td></tr>\n",
       "\t<tr><th scope=row>MEMP</th><td>0.002307692</td><td>0.0009195402</td><td>0.00256</td><td>0.0011025358</td><td>0.001676446</td><td>0.0023126735</td><td>0.0000000000</td><td>0.0053262317</td><td>0.0024911032</td><td>0.002788104</td><td>⋯</td><td>0.0008143322</td><td>0.000675904</td><td>0.0004051864</td><td>0.0014482259</td><td>0.0017901898</td><td>0.0010928962</td><td>0.0017361111</td><td>0.0035587189</td><td>0.0017459625</td><td>0.004081633</td></tr>\n",
       "\t<tr><th scope=row>MOP</th><td>0.005000000</td><td>0.0036781609</td><td>0.00512</td><td>0.0029400956</td><td>0.001676446</td><td>0.0032377428</td><td>0.0015007504</td><td>0.0062139370</td><td>0.0060498221</td><td>0.000000000</td><td>⋯</td><td>0.0073289902</td><td>0.003041568</td><td>0.0004051864</td><td>0.0025343954</td><td>0.0057286072</td><td>0.0018214936</td><td>0.0013020833</td><td>0.0040035587</td><td>0.0048013968</td><td>0.002040816</td></tr>\n",
       "\t<tr><th scope=row>CMP.GMP</th><td>0.001730769</td><td>0.0013793103</td><td>0.00320</td><td>0.0018375597</td><td>0.002514669</td><td>0.0018501388</td><td>0.0000000000</td><td>0.0008877053</td><td>0.0017793594</td><td>0.000929368</td><td>⋯</td><td>0.0016286645</td><td>0.002365664</td><td>0.0004051864</td><td>0.0007241130</td><td>0.0007160759</td><td>0.0014571949</td><td>0.0000000000</td><td>0.0022241993</td><td>0.0017459625</td><td>0.002040816</td></tr>\n",
       "\t<tr><th scope=row>eosinophil</th><td>0.001730769</td><td>0.0004597701</td><td>0.00160</td><td>0.0029400956</td><td>0.000000000</td><td>0.0023126735</td><td>0.0005002501</td><td>0.0004438526</td><td>0.0017793594</td><td>0.000000000</td><td>⋯</td><td>0.0032573290</td><td>0.001689760</td><td>0.0004051864</td><td>0.0010861694</td><td>0.0021482277</td><td>0.0003642987</td><td>0.0004340278</td><td>0.0013345196</td><td>0.0013094718</td><td>0.004081633</td></tr>\n",
       "\t<tr><th scope=row>early.MK</th><td>0.000000000</td><td>0.0000000000</td><td>0.00000</td><td>0.0000000000</td><td>0.000838223</td><td>0.0000000000</td><td>0.0005002501</td><td>0.0000000000</td><td>0.0000000000</td><td>0.000000000</td><td>⋯</td><td>0.0000000000</td><td>0.000000000</td><td>0.0008103728</td><td>0.0003620565</td><td>0.0003580380</td><td>0.0003642987</td><td>0.0000000000</td><td>0.0004448399</td><td>0.0004364906</td><td>0.000000000</td></tr>\n",
       "\t<tr><th scope=row>promyelocyte</th><td>0.002500000</td><td>0.0022988506</td><td>0.00352</td><td>0.0051451672</td><td>0.003352892</td><td>0.0032377428</td><td>0.0015007504</td><td>0.0031069685</td><td>0.0046263345</td><td>0.000929368</td><td>⋯</td><td>0.0065146580</td><td>0.003379520</td><td>0.0016207455</td><td>0.0007241130</td><td>0.0014321518</td><td>0.0018214936</td><td>0.0008680556</td><td>0.0035587189</td><td>0.0034919249</td><td>0.002040816</td></tr>\n",
       "\t<tr><th scope=row>pDC</th><td>0.001346154</td><td>0.0022988506</td><td>0.00416</td><td>0.0022050717</td><td>0.001676446</td><td>0.0018501388</td><td>0.0015007504</td><td>0.0022192632</td><td>0.0039145907</td><td>0.000929368</td><td>⋯</td><td>0.0032573290</td><td>0.002027712</td><td>0.0000000000</td><td>0.0007241130</td><td>0.0014321518</td><td>0.0007285974</td><td>0.0021701389</td><td>0.0022241993</td><td>0.0021824531</td><td>0.002040816</td></tr>\n",
       "\t<tr><th scope=row>HSC.MPP</th><td>0.002115385</td><td>0.0018390805</td><td>0.00384</td><td>0.0018375597</td><td>0.002514669</td><td>0.0027752081</td><td>0.0010005003</td><td>0.0017754106</td><td>0.0046263345</td><td>0.000000000</td><td>⋯</td><td>0.0024429967</td><td>0.001689760</td><td>0.0012155592</td><td>0.0010861694</td><td>0.0010741139</td><td>0.0018214936</td><td>0.0008680556</td><td>0.0022241993</td><td>0.0021824531</td><td>0.000000000</td></tr>\n",
       "\t<tr><th scope=row>eo.baso.mast.precursor</th><td>0.002884615</td><td>0.0022988506</td><td>0.00288</td><td>0.0025725836</td><td>0.001676446</td><td>0.0027752081</td><td>0.0000000000</td><td>0.0044385264</td><td>0.0032028470</td><td>0.001858736</td><td>⋯</td><td>0.0032573290</td><td>0.001689760</td><td>0.0012155592</td><td>0.0010861694</td><td>0.0017901898</td><td>0.0025500911</td><td>0.0013020833</td><td>0.0017793594</td><td>0.0008729812</td><td>0.000000000</td></tr>\n",
       "\t<tr><th scope=row>late.erythroid</th><td>0.002115385</td><td>0.0000000000</td><td>0.00224</td><td>0.0011025358</td><td>0.000000000</td><td>0.0009250694</td><td>0.0005002501</td><td>0.0008877053</td><td>0.0014234875</td><td>0.000929368</td><td>⋯</td><td>0.0016286645</td><td>0.000675904</td><td>0.0008103728</td><td>0.0010861694</td><td>0.0017901898</td><td>0.0003642987</td><td>0.0013020833</td><td>0.0017793594</td><td>0.0004364906</td><td>0.002040816</td></tr>\n",
       "\t<tr><th scope=row>mature.B</th><td>0.002500000</td><td>0.0032183908</td><td>0.00736</td><td>0.0033076075</td><td>0.003352892</td><td>0.0018501388</td><td>0.0010005003</td><td>0.0048823791</td><td>0.0049822064</td><td>0.000929368</td><td>⋯</td><td>0.0089576547</td><td>0.004055424</td><td>0.0016207455</td><td>0.0014482259</td><td>0.0046544934</td><td>0.0029143898</td><td>0.0013020833</td><td>0.0031138790</td><td>0.0021824531</td><td>0.000000000</td></tr>\n",
       "</tbody>\n",
       "</table>\n"
      ],
      "text/latex": [
       "A data.frame: 23 × 24\n",
       "\\begin{tabular}{r|lllllllllllllllllllll}\n",
       "  & chr1 & chr10 & chr11 & chr12 & chr13 & chr14 & chr15 & chr16 & chr17 & chr18 & ⋯ & chr22 & chr3 & chr4 & chr5 & chr6 & chr7 & chr8 & chr9 & chrX & chrY\\\\\n",
       "  & <dbl> & <dbl> & <dbl> & <dbl> & <dbl> & <dbl> & <dbl> & <dbl> & <dbl> & <dbl> & ⋯ & <dbl> & <dbl> & <dbl> & <dbl> & <dbl> & <dbl> & <dbl> & <dbl> & <dbl> & <dbl>\\\\\n",
       "\\hline\n",
       "\tearly.erythroid & 0.001153846 & 0.0009195402 & 0.00064 & 0.0003675119 & 0.000838223 & 0.0018501388 & 0.0000000000 & 0.0004438526 & 0.0007117438 & 0.000929368 & ⋯ & 0.0000000000 & 0.000337952 & 0.0004051864 & 0.0007241130 & 0.0017901898 & 0.0000000000 & 0.0004340278 & 0.0008896797 & 0.0004364906 & 0.004081633\\\\\n",
       "\tNA. & 0.004038462 & 0.0022988506 & 0.00512 & 0.0058801911 & 0.001676446 & 0.0037002775 & 0.0010005003 & 0.0035508211 & 0.0064056940 & 0.000000000 & ⋯ & 0.0057003257 & 0.002027712 & 0.0008103728 & 0.0036205648 & 0.0068027211 & 0.0029143898 & 0.0008680556 & 0.0031138790 & 0.0048013968 & 0.002040816\\\\\n",
       "\tneutrophil & 0.002115385 & 0.0027586207 & 0.00448 & 0.0055126792 & 0.002514669 & 0.0032377428 & 0.0015007504 & 0.0031069685 & 0.0046263345 & 0.002788104 & ⋯ & 0.0048859935 & 0.003379520 & 0.0004051864 & 0.0032585083 & 0.0042964554 & 0.0018214936 & 0.0017361111 & 0.0044483986 & 0.0026189437 & 0.002040816\\\\\n",
       "\tCD14.monocyte & 0.001923077 & 0.0036781609 & 0.00352 & 0.0036751194 & 0.001676446 & 0.0023126735 & 0.0005002501 & 0.0022192632 & 0.0035587189 & 0.000000000 & ⋯ & 0.0016286645 & 0.002027712 & 0.0008103728 & 0.0021723389 & 0.0071607590 & 0.0018214936 & 0.0017361111 & 0.0031138790 & 0.0021824531 & 0.000000000\\\\\n",
       "\tmyeloid.DC & 0.002884615 & 0.0027586207 & 0.00416 & 0.0029400956 & 0.001676446 & 0.0041628122 & 0.0005002501 & 0.0026631158 & 0.0039145907 & 0.000929368 & ⋯ & 0.0032573290 & 0.002027712 & 0.0004051864 & 0.0021723389 & 0.0053705693 & 0.0014571949 & 0.0013020833 & 0.0017793594 & 0.0026189437 & 0.004081633\\\\\n",
       "\tpre.B & 0.008076923 & 0.0059770115 & 0.00832 & 0.0077177508 & 0.003352892 & 0.0041628122 & 0.0045022511 & 0.0084332002 & 0.0085409253 & 0.001858736 & ⋯ & 0.0081433225 & 0.003041568 & 0.0032414911 & 0.0043446778 & 0.0114572145 & 0.0051001821 & 0.0021701389 & 0.0053380783 & 0.0056743780 & 0.002040816\\\\\n",
       "\tMK & 0.004038462 & 0.0018390805 & 0.00352 & 0.0069827269 & 0.002514669 & 0.0064754857 & 0.0005002501 & 0.0057700843 & 0.0049822064 & 0.001858736 & ⋯ & 0.0057003257 & 0.005069280 & 0.0032414911 & 0.0043446778 & 0.0050125313 & 0.0018214936 & 0.0039062500 & 0.0044483986 & 0.0026189437 & 0.002040816\\\\\n",
       "\tearly.B & 0.001153846 & 0.0013793103 & 0.00480 & 0.0029400956 & 0.001676446 & 0.0013876041 & 0.0020010005 & 0.0026631158 & 0.0028469751 & 0.000929368 & ⋯ & 0.0040716612 & 0.001013856 & 0.0008103728 & 0.0007241130 & 0.0017901898 & 0.0010928962 & 0.0021701389 & 0.0008896797 & 0.0043649062 & 0.000000000\\\\\n",
       "\tpromonocyte & 0.004615385 & 0.0059770115 & 0.00480 & 0.0044101433 & 0.001676446 & 0.0037002775 & 0.0015007504 & 0.0044385264 & 0.0053380783 & 0.000929368 & ⋯ & 0.0040716612 & 0.003041568 & 0.0000000000 & 0.0028964518 & 0.0057286072 & 0.0025500911 & 0.0021701389 & 0.0040035587 & 0.0039284155 & 0.002040816\\\\\n",
       "\tmid.erythroid & 0.005000000 & 0.0022988506 & 0.00576 & 0.0036751194 & 0.002514669 & 0.0013876041 & 0.0030015008 & 0.0057700843 & 0.0053380783 & 0.002788104 & ⋯ & 0.0073289902 & 0.003717472 & 0.0044570502 & 0.0047067343 & 0.0143215181 & 0.0032786885 & 0.0034722222 & 0.0044483986 & 0.0034919249 & 0.004081633\\\\\n",
       "\tmyelocyte & 0.008653846 & 0.0073563218 & 0.01056 & 0.0124954061 & 0.001676446 & 0.0101757632 & 0.0060030015 & 0.0075454949 & 0.0128113879 & 0.002788104 & ⋯ & 0.0130293160 & 0.008110848 & 0.0040518639 & 0.0086893555 & 0.0146795560 & 0.0091074681 & 0.0052083333 & 0.0075622776 & 0.0074203405 & 0.002040816\\\\\n",
       "\tmast.cell & 0.002115385 & 0.0022988506 & 0.00128 & 0.0029400956 & 0.001676446 & 0.0018501388 & 0.0000000000 & 0.0008877053 & 0.0014234875 & 0.000000000 & ⋯ & 0.0016286645 & 0.002703616 & 0.0008103728 & 0.0010861694 & 0.0021482277 & 0.0003642987 & 0.0004340278 & 0.0013345196 & 0.0017459625 & 0.002040816\\\\\n",
       "\tMEMP & 0.002307692 & 0.0009195402 & 0.00256 & 0.0011025358 & 0.001676446 & 0.0023126735 & 0.0000000000 & 0.0053262317 & 0.0024911032 & 0.002788104 & ⋯ & 0.0008143322 & 0.000675904 & 0.0004051864 & 0.0014482259 & 0.0017901898 & 0.0010928962 & 0.0017361111 & 0.0035587189 & 0.0017459625 & 0.004081633\\\\\n",
       "\tMOP & 0.005000000 & 0.0036781609 & 0.00512 & 0.0029400956 & 0.001676446 & 0.0032377428 & 0.0015007504 & 0.0062139370 & 0.0060498221 & 0.000000000 & ⋯ & 0.0073289902 & 0.003041568 & 0.0004051864 & 0.0025343954 & 0.0057286072 & 0.0018214936 & 0.0013020833 & 0.0040035587 & 0.0048013968 & 0.002040816\\\\\n",
       "\tCMP.GMP & 0.001730769 & 0.0013793103 & 0.00320 & 0.0018375597 & 0.002514669 & 0.0018501388 & 0.0000000000 & 0.0008877053 & 0.0017793594 & 0.000929368 & ⋯ & 0.0016286645 & 0.002365664 & 0.0004051864 & 0.0007241130 & 0.0007160759 & 0.0014571949 & 0.0000000000 & 0.0022241993 & 0.0017459625 & 0.002040816\\\\\n",
       "\teosinophil & 0.001730769 & 0.0004597701 & 0.00160 & 0.0029400956 & 0.000000000 & 0.0023126735 & 0.0005002501 & 0.0004438526 & 0.0017793594 & 0.000000000 & ⋯ & 0.0032573290 & 0.001689760 & 0.0004051864 & 0.0010861694 & 0.0021482277 & 0.0003642987 & 0.0004340278 & 0.0013345196 & 0.0013094718 & 0.004081633\\\\\n",
       "\tearly.MK & 0.000000000 & 0.0000000000 & 0.00000 & 0.0000000000 & 0.000838223 & 0.0000000000 & 0.0005002501 & 0.0000000000 & 0.0000000000 & 0.000000000 & ⋯ & 0.0000000000 & 0.000000000 & 0.0008103728 & 0.0003620565 & 0.0003580380 & 0.0003642987 & 0.0000000000 & 0.0004448399 & 0.0004364906 & 0.000000000\\\\\n",
       "\tpromyelocyte & 0.002500000 & 0.0022988506 & 0.00352 & 0.0051451672 & 0.003352892 & 0.0032377428 & 0.0015007504 & 0.0031069685 & 0.0046263345 & 0.000929368 & ⋯ & 0.0065146580 & 0.003379520 & 0.0016207455 & 0.0007241130 & 0.0014321518 & 0.0018214936 & 0.0008680556 & 0.0035587189 & 0.0034919249 & 0.002040816\\\\\n",
       "\tpDC & 0.001346154 & 0.0022988506 & 0.00416 & 0.0022050717 & 0.001676446 & 0.0018501388 & 0.0015007504 & 0.0022192632 & 0.0039145907 & 0.000929368 & ⋯ & 0.0032573290 & 0.002027712 & 0.0000000000 & 0.0007241130 & 0.0014321518 & 0.0007285974 & 0.0021701389 & 0.0022241993 & 0.0021824531 & 0.002040816\\\\\n",
       "\tHSC.MPP & 0.002115385 & 0.0018390805 & 0.00384 & 0.0018375597 & 0.002514669 & 0.0027752081 & 0.0010005003 & 0.0017754106 & 0.0046263345 & 0.000000000 & ⋯ & 0.0024429967 & 0.001689760 & 0.0012155592 & 0.0010861694 & 0.0010741139 & 0.0018214936 & 0.0008680556 & 0.0022241993 & 0.0021824531 & 0.000000000\\\\\n",
       "\teo.baso.mast.precursor & 0.002884615 & 0.0022988506 & 0.00288 & 0.0025725836 & 0.001676446 & 0.0027752081 & 0.0000000000 & 0.0044385264 & 0.0032028470 & 0.001858736 & ⋯ & 0.0032573290 & 0.001689760 & 0.0012155592 & 0.0010861694 & 0.0017901898 & 0.0025500911 & 0.0013020833 & 0.0017793594 & 0.0008729812 & 0.000000000\\\\\n",
       "\tlate.erythroid & 0.002115385 & 0.0000000000 & 0.00224 & 0.0011025358 & 0.000000000 & 0.0009250694 & 0.0005002501 & 0.0008877053 & 0.0014234875 & 0.000929368 & ⋯ & 0.0016286645 & 0.000675904 & 0.0008103728 & 0.0010861694 & 0.0017901898 & 0.0003642987 & 0.0013020833 & 0.0017793594 & 0.0004364906 & 0.002040816\\\\\n",
       "\tmature.B & 0.002500000 & 0.0032183908 & 0.00736 & 0.0033076075 & 0.003352892 & 0.0018501388 & 0.0010005003 & 0.0048823791 & 0.0049822064 & 0.000929368 & ⋯ & 0.0089576547 & 0.004055424 & 0.0016207455 & 0.0014482259 & 0.0046544934 & 0.0029143898 & 0.0013020833 & 0.0031138790 & 0.0021824531 & 0.000000000\\\\\n",
       "\\end{tabular}\n"
      ],
      "text/markdown": [
       "\n",
       "A data.frame: 23 × 24\n",
       "\n",
       "| <!--/--> | chr1 &lt;dbl&gt; | chr10 &lt;dbl&gt; | chr11 &lt;dbl&gt; | chr12 &lt;dbl&gt; | chr13 &lt;dbl&gt; | chr14 &lt;dbl&gt; | chr15 &lt;dbl&gt; | chr16 &lt;dbl&gt; | chr17 &lt;dbl&gt; | chr18 &lt;dbl&gt; | ⋯ ⋯ | chr22 &lt;dbl&gt; | chr3 &lt;dbl&gt; | chr4 &lt;dbl&gt; | chr5 &lt;dbl&gt; | chr6 &lt;dbl&gt; | chr7 &lt;dbl&gt; | chr8 &lt;dbl&gt; | chr9 &lt;dbl&gt; | chrX &lt;dbl&gt; | chrY &lt;dbl&gt; |\n",
       "|---|---|---|---|---|---|---|---|---|---|---|---|---|---|---|---|---|---|---|---|---|---|\n",
       "| early.erythroid | 0.001153846 | 0.0009195402 | 0.00064 | 0.0003675119 | 0.000838223 | 0.0018501388 | 0.0000000000 | 0.0004438526 | 0.0007117438 | 0.000929368 | ⋯ | 0.0000000000 | 0.000337952 | 0.0004051864 | 0.0007241130 | 0.0017901898 | 0.0000000000 | 0.0004340278 | 0.0008896797 | 0.0004364906 | 0.004081633 |\n",
       "| NA. | 0.004038462 | 0.0022988506 | 0.00512 | 0.0058801911 | 0.001676446 | 0.0037002775 | 0.0010005003 | 0.0035508211 | 0.0064056940 | 0.000000000 | ⋯ | 0.0057003257 | 0.002027712 | 0.0008103728 | 0.0036205648 | 0.0068027211 | 0.0029143898 | 0.0008680556 | 0.0031138790 | 0.0048013968 | 0.002040816 |\n",
       "| neutrophil | 0.002115385 | 0.0027586207 | 0.00448 | 0.0055126792 | 0.002514669 | 0.0032377428 | 0.0015007504 | 0.0031069685 | 0.0046263345 | 0.002788104 | ⋯ | 0.0048859935 | 0.003379520 | 0.0004051864 | 0.0032585083 | 0.0042964554 | 0.0018214936 | 0.0017361111 | 0.0044483986 | 0.0026189437 | 0.002040816 |\n",
       "| CD14.monocyte | 0.001923077 | 0.0036781609 | 0.00352 | 0.0036751194 | 0.001676446 | 0.0023126735 | 0.0005002501 | 0.0022192632 | 0.0035587189 | 0.000000000 | ⋯ | 0.0016286645 | 0.002027712 | 0.0008103728 | 0.0021723389 | 0.0071607590 | 0.0018214936 | 0.0017361111 | 0.0031138790 | 0.0021824531 | 0.000000000 |\n",
       "| myeloid.DC | 0.002884615 | 0.0027586207 | 0.00416 | 0.0029400956 | 0.001676446 | 0.0041628122 | 0.0005002501 | 0.0026631158 | 0.0039145907 | 0.000929368 | ⋯ | 0.0032573290 | 0.002027712 | 0.0004051864 | 0.0021723389 | 0.0053705693 | 0.0014571949 | 0.0013020833 | 0.0017793594 | 0.0026189437 | 0.004081633 |\n",
       "| pre.B | 0.008076923 | 0.0059770115 | 0.00832 | 0.0077177508 | 0.003352892 | 0.0041628122 | 0.0045022511 | 0.0084332002 | 0.0085409253 | 0.001858736 | ⋯ | 0.0081433225 | 0.003041568 | 0.0032414911 | 0.0043446778 | 0.0114572145 | 0.0051001821 | 0.0021701389 | 0.0053380783 | 0.0056743780 | 0.002040816 |\n",
       "| MK | 0.004038462 | 0.0018390805 | 0.00352 | 0.0069827269 | 0.002514669 | 0.0064754857 | 0.0005002501 | 0.0057700843 | 0.0049822064 | 0.001858736 | ⋯ | 0.0057003257 | 0.005069280 | 0.0032414911 | 0.0043446778 | 0.0050125313 | 0.0018214936 | 0.0039062500 | 0.0044483986 | 0.0026189437 | 0.002040816 |\n",
       "| early.B | 0.001153846 | 0.0013793103 | 0.00480 | 0.0029400956 | 0.001676446 | 0.0013876041 | 0.0020010005 | 0.0026631158 | 0.0028469751 | 0.000929368 | ⋯ | 0.0040716612 | 0.001013856 | 0.0008103728 | 0.0007241130 | 0.0017901898 | 0.0010928962 | 0.0021701389 | 0.0008896797 | 0.0043649062 | 0.000000000 |\n",
       "| promonocyte | 0.004615385 | 0.0059770115 | 0.00480 | 0.0044101433 | 0.001676446 | 0.0037002775 | 0.0015007504 | 0.0044385264 | 0.0053380783 | 0.000929368 | ⋯ | 0.0040716612 | 0.003041568 | 0.0000000000 | 0.0028964518 | 0.0057286072 | 0.0025500911 | 0.0021701389 | 0.0040035587 | 0.0039284155 | 0.002040816 |\n",
       "| mid.erythroid | 0.005000000 | 0.0022988506 | 0.00576 | 0.0036751194 | 0.002514669 | 0.0013876041 | 0.0030015008 | 0.0057700843 | 0.0053380783 | 0.002788104 | ⋯ | 0.0073289902 | 0.003717472 | 0.0044570502 | 0.0047067343 | 0.0143215181 | 0.0032786885 | 0.0034722222 | 0.0044483986 | 0.0034919249 | 0.004081633 |\n",
       "| myelocyte | 0.008653846 | 0.0073563218 | 0.01056 | 0.0124954061 | 0.001676446 | 0.0101757632 | 0.0060030015 | 0.0075454949 | 0.0128113879 | 0.002788104 | ⋯ | 0.0130293160 | 0.008110848 | 0.0040518639 | 0.0086893555 | 0.0146795560 | 0.0091074681 | 0.0052083333 | 0.0075622776 | 0.0074203405 | 0.002040816 |\n",
       "| mast.cell | 0.002115385 | 0.0022988506 | 0.00128 | 0.0029400956 | 0.001676446 | 0.0018501388 | 0.0000000000 | 0.0008877053 | 0.0014234875 | 0.000000000 | ⋯ | 0.0016286645 | 0.002703616 | 0.0008103728 | 0.0010861694 | 0.0021482277 | 0.0003642987 | 0.0004340278 | 0.0013345196 | 0.0017459625 | 0.002040816 |\n",
       "| MEMP | 0.002307692 | 0.0009195402 | 0.00256 | 0.0011025358 | 0.001676446 | 0.0023126735 | 0.0000000000 | 0.0053262317 | 0.0024911032 | 0.002788104 | ⋯ | 0.0008143322 | 0.000675904 | 0.0004051864 | 0.0014482259 | 0.0017901898 | 0.0010928962 | 0.0017361111 | 0.0035587189 | 0.0017459625 | 0.004081633 |\n",
       "| MOP | 0.005000000 | 0.0036781609 | 0.00512 | 0.0029400956 | 0.001676446 | 0.0032377428 | 0.0015007504 | 0.0062139370 | 0.0060498221 | 0.000000000 | ⋯ | 0.0073289902 | 0.003041568 | 0.0004051864 | 0.0025343954 | 0.0057286072 | 0.0018214936 | 0.0013020833 | 0.0040035587 | 0.0048013968 | 0.002040816 |\n",
       "| CMP.GMP | 0.001730769 | 0.0013793103 | 0.00320 | 0.0018375597 | 0.002514669 | 0.0018501388 | 0.0000000000 | 0.0008877053 | 0.0017793594 | 0.000929368 | ⋯ | 0.0016286645 | 0.002365664 | 0.0004051864 | 0.0007241130 | 0.0007160759 | 0.0014571949 | 0.0000000000 | 0.0022241993 | 0.0017459625 | 0.002040816 |\n",
       "| eosinophil | 0.001730769 | 0.0004597701 | 0.00160 | 0.0029400956 | 0.000000000 | 0.0023126735 | 0.0005002501 | 0.0004438526 | 0.0017793594 | 0.000000000 | ⋯ | 0.0032573290 | 0.001689760 | 0.0004051864 | 0.0010861694 | 0.0021482277 | 0.0003642987 | 0.0004340278 | 0.0013345196 | 0.0013094718 | 0.004081633 |\n",
       "| early.MK | 0.000000000 | 0.0000000000 | 0.00000 | 0.0000000000 | 0.000838223 | 0.0000000000 | 0.0005002501 | 0.0000000000 | 0.0000000000 | 0.000000000 | ⋯ | 0.0000000000 | 0.000000000 | 0.0008103728 | 0.0003620565 | 0.0003580380 | 0.0003642987 | 0.0000000000 | 0.0004448399 | 0.0004364906 | 0.000000000 |\n",
       "| promyelocyte | 0.002500000 | 0.0022988506 | 0.00352 | 0.0051451672 | 0.003352892 | 0.0032377428 | 0.0015007504 | 0.0031069685 | 0.0046263345 | 0.000929368 | ⋯ | 0.0065146580 | 0.003379520 | 0.0016207455 | 0.0007241130 | 0.0014321518 | 0.0018214936 | 0.0008680556 | 0.0035587189 | 0.0034919249 | 0.002040816 |\n",
       "| pDC | 0.001346154 | 0.0022988506 | 0.00416 | 0.0022050717 | 0.001676446 | 0.0018501388 | 0.0015007504 | 0.0022192632 | 0.0039145907 | 0.000929368 | ⋯ | 0.0032573290 | 0.002027712 | 0.0000000000 | 0.0007241130 | 0.0014321518 | 0.0007285974 | 0.0021701389 | 0.0022241993 | 0.0021824531 | 0.002040816 |\n",
       "| HSC.MPP | 0.002115385 | 0.0018390805 | 0.00384 | 0.0018375597 | 0.002514669 | 0.0027752081 | 0.0010005003 | 0.0017754106 | 0.0046263345 | 0.000000000 | ⋯ | 0.0024429967 | 0.001689760 | 0.0012155592 | 0.0010861694 | 0.0010741139 | 0.0018214936 | 0.0008680556 | 0.0022241993 | 0.0021824531 | 0.000000000 |\n",
       "| eo.baso.mast.precursor | 0.002884615 | 0.0022988506 | 0.00288 | 0.0025725836 | 0.001676446 | 0.0027752081 | 0.0000000000 | 0.0044385264 | 0.0032028470 | 0.001858736 | ⋯ | 0.0032573290 | 0.001689760 | 0.0012155592 | 0.0010861694 | 0.0017901898 | 0.0025500911 | 0.0013020833 | 0.0017793594 | 0.0008729812 | 0.000000000 |\n",
       "| late.erythroid | 0.002115385 | 0.0000000000 | 0.00224 | 0.0011025358 | 0.000000000 | 0.0009250694 | 0.0005002501 | 0.0008877053 | 0.0014234875 | 0.000929368 | ⋯ | 0.0016286645 | 0.000675904 | 0.0008103728 | 0.0010861694 | 0.0017901898 | 0.0003642987 | 0.0013020833 | 0.0017793594 | 0.0004364906 | 0.002040816 |\n",
       "| mature.B | 0.002500000 | 0.0032183908 | 0.00736 | 0.0033076075 | 0.003352892 | 0.0018501388 | 0.0010005003 | 0.0048823791 | 0.0049822064 | 0.000929368 | ⋯ | 0.0089576547 | 0.004055424 | 0.0016207455 | 0.0014482259 | 0.0046544934 | 0.0029143898 | 0.0013020833 | 0.0031138790 | 0.0021824531 | 0.000000000 |\n",
       "\n"
      ],
      "text/plain": [
       "                       chr1        chr10        chr11   chr12       \n",
       "early.erythroid        0.001153846 0.0009195402 0.00064 0.0003675119\n",
       "NA.                    0.004038462 0.0022988506 0.00512 0.0058801911\n",
       "neutrophil             0.002115385 0.0027586207 0.00448 0.0055126792\n",
       "CD14.monocyte          0.001923077 0.0036781609 0.00352 0.0036751194\n",
       "myeloid.DC             0.002884615 0.0027586207 0.00416 0.0029400956\n",
       "pre.B                  0.008076923 0.0059770115 0.00832 0.0077177508\n",
       "MK                     0.004038462 0.0018390805 0.00352 0.0069827269\n",
       "early.B                0.001153846 0.0013793103 0.00480 0.0029400956\n",
       "promonocyte            0.004615385 0.0059770115 0.00480 0.0044101433\n",
       "mid.erythroid          0.005000000 0.0022988506 0.00576 0.0036751194\n",
       "myelocyte              0.008653846 0.0073563218 0.01056 0.0124954061\n",
       "mast.cell              0.002115385 0.0022988506 0.00128 0.0029400956\n",
       "MEMP                   0.002307692 0.0009195402 0.00256 0.0011025358\n",
       "MOP                    0.005000000 0.0036781609 0.00512 0.0029400956\n",
       "CMP.GMP                0.001730769 0.0013793103 0.00320 0.0018375597\n",
       "eosinophil             0.001730769 0.0004597701 0.00160 0.0029400956\n",
       "early.MK               0.000000000 0.0000000000 0.00000 0.0000000000\n",
       "promyelocyte           0.002500000 0.0022988506 0.00352 0.0051451672\n",
       "pDC                    0.001346154 0.0022988506 0.00416 0.0022050717\n",
       "HSC.MPP                0.002115385 0.0018390805 0.00384 0.0018375597\n",
       "eo.baso.mast.precursor 0.002884615 0.0022988506 0.00288 0.0025725836\n",
       "late.erythroid         0.002115385 0.0000000000 0.00224 0.0011025358\n",
       "mature.B               0.002500000 0.0032183908 0.00736 0.0033076075\n",
       "                       chr13       chr14        chr15        chr16       \n",
       "early.erythroid        0.000838223 0.0018501388 0.0000000000 0.0004438526\n",
       "NA.                    0.001676446 0.0037002775 0.0010005003 0.0035508211\n",
       "neutrophil             0.002514669 0.0032377428 0.0015007504 0.0031069685\n",
       "CD14.monocyte          0.001676446 0.0023126735 0.0005002501 0.0022192632\n",
       "myeloid.DC             0.001676446 0.0041628122 0.0005002501 0.0026631158\n",
       "pre.B                  0.003352892 0.0041628122 0.0045022511 0.0084332002\n",
       "MK                     0.002514669 0.0064754857 0.0005002501 0.0057700843\n",
       "early.B                0.001676446 0.0013876041 0.0020010005 0.0026631158\n",
       "promonocyte            0.001676446 0.0037002775 0.0015007504 0.0044385264\n",
       "mid.erythroid          0.002514669 0.0013876041 0.0030015008 0.0057700843\n",
       "myelocyte              0.001676446 0.0101757632 0.0060030015 0.0075454949\n",
       "mast.cell              0.001676446 0.0018501388 0.0000000000 0.0008877053\n",
       "MEMP                   0.001676446 0.0023126735 0.0000000000 0.0053262317\n",
       "MOP                    0.001676446 0.0032377428 0.0015007504 0.0062139370\n",
       "CMP.GMP                0.002514669 0.0018501388 0.0000000000 0.0008877053\n",
       "eosinophil             0.000000000 0.0023126735 0.0005002501 0.0004438526\n",
       "early.MK               0.000838223 0.0000000000 0.0005002501 0.0000000000\n",
       "promyelocyte           0.003352892 0.0032377428 0.0015007504 0.0031069685\n",
       "pDC                    0.001676446 0.0018501388 0.0015007504 0.0022192632\n",
       "HSC.MPP                0.002514669 0.0027752081 0.0010005003 0.0017754106\n",
       "eo.baso.mast.precursor 0.001676446 0.0027752081 0.0000000000 0.0044385264\n",
       "late.erythroid         0.000000000 0.0009250694 0.0005002501 0.0008877053\n",
       "mature.B               0.003352892 0.0018501388 0.0010005003 0.0048823791\n",
       "                       chr17        chr18       ⋯ chr22        chr3       \n",
       "early.erythroid        0.0007117438 0.000929368 ⋯ 0.0000000000 0.000337952\n",
       "NA.                    0.0064056940 0.000000000 ⋯ 0.0057003257 0.002027712\n",
       "neutrophil             0.0046263345 0.002788104 ⋯ 0.0048859935 0.003379520\n",
       "CD14.monocyte          0.0035587189 0.000000000 ⋯ 0.0016286645 0.002027712\n",
       "myeloid.DC             0.0039145907 0.000929368 ⋯ 0.0032573290 0.002027712\n",
       "pre.B                  0.0085409253 0.001858736 ⋯ 0.0081433225 0.003041568\n",
       "MK                     0.0049822064 0.001858736 ⋯ 0.0057003257 0.005069280\n",
       "early.B                0.0028469751 0.000929368 ⋯ 0.0040716612 0.001013856\n",
       "promonocyte            0.0053380783 0.000929368 ⋯ 0.0040716612 0.003041568\n",
       "mid.erythroid          0.0053380783 0.002788104 ⋯ 0.0073289902 0.003717472\n",
       "myelocyte              0.0128113879 0.002788104 ⋯ 0.0130293160 0.008110848\n",
       "mast.cell              0.0014234875 0.000000000 ⋯ 0.0016286645 0.002703616\n",
       "MEMP                   0.0024911032 0.002788104 ⋯ 0.0008143322 0.000675904\n",
       "MOP                    0.0060498221 0.000000000 ⋯ 0.0073289902 0.003041568\n",
       "CMP.GMP                0.0017793594 0.000929368 ⋯ 0.0016286645 0.002365664\n",
       "eosinophil             0.0017793594 0.000000000 ⋯ 0.0032573290 0.001689760\n",
       "early.MK               0.0000000000 0.000000000 ⋯ 0.0000000000 0.000000000\n",
       "promyelocyte           0.0046263345 0.000929368 ⋯ 0.0065146580 0.003379520\n",
       "pDC                    0.0039145907 0.000929368 ⋯ 0.0032573290 0.002027712\n",
       "HSC.MPP                0.0046263345 0.000000000 ⋯ 0.0024429967 0.001689760\n",
       "eo.baso.mast.precursor 0.0032028470 0.001858736 ⋯ 0.0032573290 0.001689760\n",
       "late.erythroid         0.0014234875 0.000929368 ⋯ 0.0016286645 0.000675904\n",
       "mature.B               0.0049822064 0.000929368 ⋯ 0.0089576547 0.004055424\n",
       "                       chr4         chr5         chr6         chr7        \n",
       "early.erythroid        0.0004051864 0.0007241130 0.0017901898 0.0000000000\n",
       "NA.                    0.0008103728 0.0036205648 0.0068027211 0.0029143898\n",
       "neutrophil             0.0004051864 0.0032585083 0.0042964554 0.0018214936\n",
       "CD14.monocyte          0.0008103728 0.0021723389 0.0071607590 0.0018214936\n",
       "myeloid.DC             0.0004051864 0.0021723389 0.0053705693 0.0014571949\n",
       "pre.B                  0.0032414911 0.0043446778 0.0114572145 0.0051001821\n",
       "MK                     0.0032414911 0.0043446778 0.0050125313 0.0018214936\n",
       "early.B                0.0008103728 0.0007241130 0.0017901898 0.0010928962\n",
       "promonocyte            0.0000000000 0.0028964518 0.0057286072 0.0025500911\n",
       "mid.erythroid          0.0044570502 0.0047067343 0.0143215181 0.0032786885\n",
       "myelocyte              0.0040518639 0.0086893555 0.0146795560 0.0091074681\n",
       "mast.cell              0.0008103728 0.0010861694 0.0021482277 0.0003642987\n",
       "MEMP                   0.0004051864 0.0014482259 0.0017901898 0.0010928962\n",
       "MOP                    0.0004051864 0.0025343954 0.0057286072 0.0018214936\n",
       "CMP.GMP                0.0004051864 0.0007241130 0.0007160759 0.0014571949\n",
       "eosinophil             0.0004051864 0.0010861694 0.0021482277 0.0003642987\n",
       "early.MK               0.0008103728 0.0003620565 0.0003580380 0.0003642987\n",
       "promyelocyte           0.0016207455 0.0007241130 0.0014321518 0.0018214936\n",
       "pDC                    0.0000000000 0.0007241130 0.0014321518 0.0007285974\n",
       "HSC.MPP                0.0012155592 0.0010861694 0.0010741139 0.0018214936\n",
       "eo.baso.mast.precursor 0.0012155592 0.0010861694 0.0017901898 0.0025500911\n",
       "late.erythroid         0.0008103728 0.0010861694 0.0017901898 0.0003642987\n",
       "mature.B               0.0016207455 0.0014482259 0.0046544934 0.0029143898\n",
       "                       chr8         chr9         chrX         chrY       \n",
       "early.erythroid        0.0004340278 0.0008896797 0.0004364906 0.004081633\n",
       "NA.                    0.0008680556 0.0031138790 0.0048013968 0.002040816\n",
       "neutrophil             0.0017361111 0.0044483986 0.0026189437 0.002040816\n",
       "CD14.monocyte          0.0017361111 0.0031138790 0.0021824531 0.000000000\n",
       "myeloid.DC             0.0013020833 0.0017793594 0.0026189437 0.004081633\n",
       "pre.B                  0.0021701389 0.0053380783 0.0056743780 0.002040816\n",
       "MK                     0.0039062500 0.0044483986 0.0026189437 0.002040816\n",
       "early.B                0.0021701389 0.0008896797 0.0043649062 0.000000000\n",
       "promonocyte            0.0021701389 0.0040035587 0.0039284155 0.002040816\n",
       "mid.erythroid          0.0034722222 0.0044483986 0.0034919249 0.004081633\n",
       "myelocyte              0.0052083333 0.0075622776 0.0074203405 0.002040816\n",
       "mast.cell              0.0004340278 0.0013345196 0.0017459625 0.002040816\n",
       "MEMP                   0.0017361111 0.0035587189 0.0017459625 0.004081633\n",
       "MOP                    0.0013020833 0.0040035587 0.0048013968 0.002040816\n",
       "CMP.GMP                0.0000000000 0.0022241993 0.0017459625 0.002040816\n",
       "eosinophil             0.0004340278 0.0013345196 0.0013094718 0.004081633\n",
       "early.MK               0.0000000000 0.0004448399 0.0004364906 0.000000000\n",
       "promyelocyte           0.0008680556 0.0035587189 0.0034919249 0.002040816\n",
       "pDC                    0.0021701389 0.0022241993 0.0021824531 0.002040816\n",
       "HSC.MPP                0.0008680556 0.0022241993 0.0021824531 0.000000000\n",
       "eo.baso.mast.precursor 0.0013020833 0.0017793594 0.0008729812 0.000000000\n",
       "late.erythroid         0.0013020833 0.0017793594 0.0004364906 0.002040816\n",
       "mature.B               0.0013020833 0.0031138790 0.0021824531 0.000000000"
      ]
     },
     "metadata": {},
     "output_type": "display_data"
    }
   ],
   "source": [
    "rates <- rates %>% mutate(chr1 = chr1 / 5200)\n",
    "rates <- rates %>% mutate(chr2 = chr2 / 3882)\n",
    "rates <- rates %>% mutate(chr3 = chr3 / 2959)\n",
    "rates <- rates %>% mutate(chr4 = chr4 / 2468)\n",
    "rates <- rates %>% mutate(chr5 = chr5 / 2762)\n",
    "rates <- rates %>% mutate(chr6 = chr6 / 2793)\n",
    "rates <- rates %>% mutate(chr7 = chr7 / 2745)\n",
    "rates <- rates %>% mutate(chr8 = chr8 / 2304)\n",
    "rates <- rates %>% mutate(chr9 = chr9 / 2248)\n",
    "rates <- rates %>% mutate(chr10 = chr10 / 2175)\n",
    "rates <- rates %>% mutate(chr11 = chr11 / 3125)\n",
    "rates <- rates %>% mutate(chr12 = chr12 / 2721)\n",
    "rates <- rates %>% mutate(chr13 = chr13 / 1193)\n",
    "rates <- rates %>% mutate(chr14 = chr14 / 2162)\n",
    "rates <- rates %>% mutate(chr15 = chr15 / 1999)\n",
    "rates <- rates %>% mutate(chr16 = chr16 / 2253)\n",
    "rates <- rates %>% mutate(chr17 = chr17 / 2810)\n",
    "rates <- rates %>% mutate(chr18 = chr18 / 1076)\n",
    "rates <- rates %>% mutate(chr19 = chr19 / 2863)\n",
    "rates <- rates %>% mutate(chr20 = chr20 / 1273)\n",
    "rates <- rates %>% mutate(chr21 = chr21 / 708)\n",
    "rates <- rates %>% mutate(chr22 = chr22 / 1228)\n",
    "rates <- rates %>% mutate(chrX = chrX / 2291)\n",
    "rates <- rates %>% mutate(chrY = chrY / 490)\n",
    "rownames(rates)<-types\n",
    "rates"
   ]
  },
  {
   "cell_type": "code",
   "execution_count": 499,
   "metadata": {
    "scrolled": true
   },
   "outputs": [],
   "source": [
    "rates$type<-rownames(rates)\n",
    "df2<-melt(rates, id = c(\"type\"))"
   ]
  },
  {
   "cell_type": "code",
   "execution_count": 500,
   "metadata": {},
   "outputs": [
    {
     "name": "stderr",
     "output_type": "stream",
     "text": [
      "Saving 6.67 x 6.67 in image\n",
      "\n"
     ]
    },
    {
     "data": {
      "image/png": "[encoded data removed]",
      "text/plain": [
       "plot without title"
      ]
     },
     "metadata": {
      "image/png": {
       "height": 600,
       "width": 600
      },
      "text/plain": {
       "height": 600,
       "width": 600
      }
     },
     "output_type": "display_data"
    }
   ],
   "source": [
    "\n",
    "###Heatmap of DEG totals\n",
    "rates<-read.csv(\"chromosomes.csv\", row.names = 2)\n",
    "rates$X<-NULL\n",
    "rates$Stroma<-NULL\n",
    "df<-data.frame(colSums(rates))\n",
    "colnames(df)<-\"total\"\n",
    "df$celltype<-row.names(df)\n",
    "\n",
    "df$celltype<-as.factor(df$celltype)\n",
    "df$celltype <- factor(df$celltype, levels = rev(c(\"HSC\", \"MEMP\", \"erythroid\", \"MK\", \"B_lineage\", \"myeloid.DC\", \n",
    "                                      \"pDC\", \"eosinophil\", \"mast.cell\", \"myeloid.progenitor\",\n",
    "                                      \"neutrophil\", \"monocyte\", \"T.cell\", \"NK\", \"stroma\")))\n",
    "\n",
    "ggplot(df, aes(celltype, 1, fill= total)) + \n",
    "   geom_tile(color = \"white\")+\n",
    " scale_fill_gradient2(low = \"blue\", high = \"red\", mid = \"grey90\", midpoint = 150) + theme(axis.text.x = element_text(angle = 90, vjust = 0.5, hjust=1))+\n",
    "coord_fixed() +\n",
    "  theme(axis.title.y=element_blank(),\n",
    "        axis.text.y=element_blank(),\n",
    "        axis.ticks.y=element_blank())+\n",
    "  theme(axis.title.x=element_blank(),\n",
    "        axis.text.x=element_text(size = 15, angle = 90),\n",
    "        axis.ticks.x=element_blank())\n",
    "\n",
    "ggsave(\"total_DEGs_by_chromosome.pdf\", plot = last_plot(), device = NULL, path = NULL,\n",
    "  scale = 1, dpi = 300)\n"
   ]
  },
  {
   "cell_type": "markdown",
   "metadata": {},
   "source": [
    "\n",
    "\n",
    "***Generate list of DEGs for each subset***\n",
    "\n"
   ]
  },
  {
   "cell_type": "code",
   "execution_count": 21,
   "metadata": {},
   "outputs": [],
   "source": [
    "total@meta.data$clustering_5c[total@meta.data$clustering_5c== \"myeloid DC\"] <- \"myeloid_DC\"\n",
    "total@meta.data$clustering_5c[total@meta.data$clustering_5c== \"mast cell\"] <- \"mast_cell\"\n",
    "total@meta.data$clustering_5c[total@meta.data$clustering_5c== \"T cell\"] <- \"T_cell\"\n",
    "total@meta.data$clustering_5c[total@meta.data$clustering_5c== \"myeloid progenitor\"] <- \"myeloid_progenitor\""
   ]
  },
  {
   "cell_type": "code",
   "execution_count": 22,
   "metadata": {},
   "outputs": [],
   "source": [
    "total@meta.data$clustering_5d[total@meta.data$clustering_5d== \"CD14 monocyte\"] <- \"monocyte\"\n",
    "total@meta.data$clustering_5d[total@meta.data$clustering_5d== \"CMP/GMP\"] <- \"CMP_GMP\"\n",
    "total@meta.data$clustering_5d[total@meta.data$clustering_5d== \"early B\"] <- \"early_B\"\n",
    "total@meta.data$clustering_5d[total@meta.data$clustering_5d== \"early erythroid\"] <- \"early_erythroid\"\n",
    "total@meta.data$clustering_5d[total@meta.data$clustering_5d== \"early MK\"] <- \"early_MK\"\n",
    "total@meta.data$clustering_5d[total@meta.data$clustering_5d== \"eo/baso/mast precursor\"] <- \"eo_baso_mast_precursor\"\n",
    "total@meta.data$clustering_5d[total@meta.data$clustering_5d== \"HSC/MPP\"] <- \"HSC_MPP\"\n",
    "total@meta.data$clustering_5d[total@meta.data$clustering_5d== \"late erythroid\"] <- \"late_erythroid\"\n",
    "total@meta.data$clustering_5d[total@meta.data$clustering_5d== \"mast cell\"] <- \"mast_cell\"\n",
    "total@meta.data$clustering_5d[total@meta.data$clustering_5d== \"mature B\"] <- \"mature_B\"\n",
    "total@meta.data$clustering_5d[total@meta.data$clustering_5d== \"mid erythroid\"] <- \"mid_erythroid\"\n",
    "total@meta.data$clustering_5d[total@meta.data$clustering_5d== \"myeloid DC\"] <- \"myeloid_DC\"\n",
    "total@meta.data$clustering_5d[total@meta.data$clustering_5d== \"pre B\"] <- \"pre_B\""
   ]
  },
  {
   "cell_type": "code",
   "execution_count": 23,
   "metadata": {},
   "outputs": [],
   "source": [
    "datalist<-list()\n",
    "clusterlist<-list()"
   ]
  },
  {
   "cell_type": "code",
   "execution_count": 24,
   "metadata": {},
   "outputs": [
    {
     "name": "stderr",
     "output_type": "stream",
     "text": [
      "Calculating cluster healthy\n",
      "\n",
      "Calculating cluster downs\n",
      "\n",
      "Calculating cluster healthy\n",
      "\n",
      "Calculating cluster downs\n",
      "\n",
      "Calculating cluster healthy\n",
      "\n",
      "Calculating cluster downs\n",
      "\n",
      "Calculating cluster healthy\n",
      "\n",
      "Calculating cluster downs\n",
      "\n",
      "Calculating cluster healthy\n",
      "\n",
      "Calculating cluster downs\n",
      "\n",
      "Calculating cluster healthy\n",
      "\n",
      "Calculating cluster downs\n",
      "\n",
      "Calculating cluster healthy\n",
      "\n",
      "Calculating cluster downs\n",
      "\n",
      "Calculating cluster healthy\n",
      "\n",
      "Calculating cluster downs\n",
      "\n",
      "Calculating cluster healthy\n",
      "\n",
      "Calculating cluster downs\n",
      "\n",
      "Calculating cluster healthy\n",
      "\n",
      "Calculating cluster downs\n",
      "\n",
      "Calculating cluster healthy\n",
      "\n",
      "Calculating cluster downs\n",
      "\n",
      "Calculating cluster healthy\n",
      "\n",
      "Calculating cluster downs\n",
      "\n",
      "Calculating cluster healthy\n",
      "\n",
      "Calculating cluster downs\n",
      "\n",
      "Calculating cluster healthy\n",
      "\n",
      "Calculating cluster downs\n",
      "\n",
      "Calculating cluster healthy\n",
      "\n",
      "Calculating cluster downs\n",
      "\n"
     ]
    }
   ],
   "source": [
    "Idents(total)<-\"clustering_5c\"\n",
    "\n",
    "for(i in unique(total@meta.data$clustering_5c)){\n",
    "    test<-subset(total, id = i)\n",
    "    Idents(test)<-\"Status\"\n",
    "    markers<-FindAllMarkers(test, only.pos = TRUE, min.pct = 0.25, logfc.threshold = 0.25)\n",
    "    markers<-markers[markers$p_val_adj<0.05,]\n",
    "    markers$gene<-rownames(markers)\n",
    "    colnames(markers)<-c(paste0(\"p_val\", \"_\", i), paste0(\"avg_logFC\", \"_\", i), \n",
    "                     paste0(\"pct_1\", \"_\", i), paste0(\"pct_2\", \"_\", i), \n",
    "                     paste0(\"p_val_adj\", \"_\", i), paste0(\"Status\", \"_\", i))\n",
    "    dat<-assign(paste0(\"DEGs\", \"_\", i), select(markers, 2, 5, 6))\n",
    "    g<-match(i,unique(total@meta.data$clustering_5c))\n",
    "    clusterlist[g]<-paste0(\"DEGs\", \"_\", i)\n",
    "    datalist[[g]] <- dat   \n",
    "}"
   ]
  },
  {
   "cell_type": "code",
   "execution_count": 25,
   "metadata": {},
   "outputs": [],
   "source": [
    "setwd(\"/home/jovyan/data/bone_marrow/data\")\n",
    "for(i in 1:length(datalist)){\n",
    "  write.csv(datalist[[i]], paste(clusterlist[i], \"_DEGs.txt\", sep = \"\"))\n",
    "}"
   ]
  },
  {
   "cell_type": "code",
   "execution_count": null,
   "metadata": {},
   "outputs": [],
   "source": [
    "\n",
    "\n",
    "\n",
    "***Limit to TFs***\n",
    "\n",
    "###http://www.valleyofpigs.org/humantfs"
   ]
  },
  {
   "cell_type": "code",
   "execution_count": 441,
   "metadata": {},
   "outputs": [],
   "source": [
    "order<-read.csv('gencode_v19_gene_pos.txt', sep = '\\t', header = FALSE, row.names = 1)\n",
    "order$gene<-rownames(order)"
   ]
  },
  {
   "cell_type": "code",
   "execution_count": 442,
   "metadata": {},
   "outputs": [],
   "source": [
    "TFs<-read.csv(\"nrg2538-s3.txt\", sep = '\\t')\n",
    "TFs<-TFs[c(\"Ensembl.ID\", \"HGNC.symbol\")]\n",
    "colnames(TFs)<-c(\"Ensembl\", \"gene\")\n",
    "\n",
    "TFs<-merge(TFs, order, by = \"gene\")\n",
    "TFs<-TFs[c(\"gene\", \"V2\")]\n",
    "colnames(TFs)<-c(\"gene\", \"chromosome\")\n"
   ]
  },
  {
   "cell_type": "code",
   "execution_count": 6,
   "metadata": {},
   "outputs": [],
   "source": [
    "total<-readRDS(\"total.RDS\")\n",
    "total_TF<-total[TFs$gene,]"
   ]
  },
  {
   "cell_type": "code",
   "execution_count": 443,
   "metadata": {},
   "outputs": [],
   "source": [
    "total_TF<-total[TFs$gene,]"
   ]
  },
  {
   "cell_type": "code",
   "execution_count": 48,
   "metadata": {},
   "outputs": [],
   "source": [
    "df<-data.frame(chromosome=levels(order$V2))"
   ]
  },
  {
   "cell_type": "code",
   "execution_count": 49,
   "metadata": {},
   "outputs": [
    {
     "name": "stderr",
     "output_type": "stream",
     "text": [
      "Calculating cluster healthy\n",
      "\n",
      "Calculating cluster downs\n",
      "\n",
      "Calculating cluster healthy\n",
      "\n",
      "Calculating cluster downs\n",
      "\n",
      "Calculating cluster healthy\n",
      "\n",
      "Calculating cluster downs\n",
      "\n",
      "Calculating cluster healthy\n",
      "\n",
      "Calculating cluster downs\n",
      "\n",
      "Calculating cluster healthy\n",
      "\n",
      "Calculating cluster downs\n",
      "\n",
      "Calculating cluster healthy\n",
      "\n",
      "Calculating cluster downs\n",
      "\n",
      "Calculating cluster healthy\n",
      "\n",
      "Calculating cluster downs\n",
      "\n",
      "Calculating cluster healthy\n",
      "\n",
      "Calculating cluster downs\n",
      "\n",
      "Calculating cluster healthy\n",
      "\n",
      "Calculating cluster downs\n",
      "\n",
      "Calculating cluster healthy\n",
      "\n",
      "Calculating cluster downs\n",
      "\n",
      "Calculating cluster healthy\n",
      "\n",
      "Calculating cluster downs\n",
      "\n",
      "Calculating cluster healthy\n",
      "\n",
      "Calculating cluster downs\n",
      "\n",
      "Calculating cluster healthy\n",
      "\n",
      "Calculating cluster downs\n",
      "\n",
      "Calculating cluster healthy\n",
      "\n",
      "Calculating cluster downs\n",
      "\n",
      "Calculating cluster healthy\n",
      "\n",
      "Calculating cluster downs\n",
      "\n"
     ]
    }
   ],
   "source": [
    "for(i in unique(total_TF@meta.data$clustering)){\n",
    "    test<-subset(total_TF, id = i)\n",
    "    Idents(test)<-\"Status\"\n",
    "    markers<-FindAllMarkers(test, only.pos = TRUE, min.pct = 0.25, logfc.threshold = 0.25)\n",
    "    markers<-markers[markers$cluster==\"downs\",]\n",
    "    markers<-markers[markers$p_val_adj<0.05,]\n",
    "    asd<-merge(markers, order, by = \"gene\")\n",
    "    b<-data.frame(table(asd$V2))\n",
    "    df$d<-b$Freq\n",
    "    c<-unique(test@meta.data$clustering)\n",
    "    names(df)[names(df) == \"d\"] <- c\n",
    "    \n",
    "}"
   ]
  },
  {
   "cell_type": "code",
   "execution_count": 51,
   "metadata": {},
   "outputs": [],
   "source": [
    "tf_df<-df\n",
    "chromosomes<-df$chromosome\n",
    "df$chromosome<-NULL\n",
    "rates<-as.data.frame(t(df))\n",
    "colnames(rates)<-chromosomes\n",
    "head(rates)\n",
    "\n",
    "rates <- rates %>% mutate(chr1 = chr1 / 5000)\n",
    "rates <- rates %>% mutate(chr2 = chr2 / 3882)\n",
    "rates <- rates %>% mutate(chr3 = chr3 / 2959)\n",
    "rates <- rates %>% mutate(chr4 = chr4 / 2468)\n",
    "rates <- rates %>% mutate(chr5 = chr5 / 2762)\n",
    "rates <- rates %>% mutate(chr6 = chr6 / 2793)\n",
    "rates <- rates %>% mutate(chr7 = chr7 / 2745)\n",
    "rates <- rates %>% mutate(chr8 = chr8 / 2304)\n",
    "rates <- rates %>% mutate(chr9 = chr9 / 2248)\n",
    "rates <- rates %>% mutate(chr10 = chr10 / 2175)\n",
    "rates <- rates %>% mutate(chr11 = chr11 / 3125)\n",
    "rates <- rates %>% mutate(chr12 = chr12 / 2721)\n",
    "rates <- rates %>% mutate(chr13 = chr13 / 1193)\n",
    "rates <- rates %>% mutate(chr14 = chr14 / 2162)\n",
    "rates <- rates %>% mutate(chr15 = chr15 / 1999)\n",
    "rates <- rates %>% mutate(chr16 = chr16 / 2253)\n",
    "rates <- rates %>% mutate(chr17 = chr17 / 2810)\n",
    "rates <- rates %>% mutate(chr18 = chr18 / 1076)\n",
    "rates <- rates %>% mutate(chr19 = chr19 / 2863)\n",
    "rates <- rates %>% mutate(chr20 = chr20 / 1273)\n",
    "rates <- rates %>% mutate(chr21 = chr21 / 708)\n",
    "rates <- rates %>% mutate(chr22 = chr22 / 1228)\n",
    "rates <- rates %>% mutate(chrM = chrM / 37)\n",
    "rates <- rates %>% mutate(chrX = chrX / 2291)\n",
    "rates <- rates %>% mutate(chrY = chrY / 490)\n",
    "\n",
    "rownames(rates)<-colnames(df)\n",
    "\n",
    "rates$chrX<-NULL\n",
    "rates$chrY<-NULL\n",
    "rates$chrM<-NULL\n",
    "rates$types<-rownames(rates)\n",
    "\n",
    "df2<-melt(rates, id = c(\"types\"))\n",
    "\n",
    "\n",
    "options(repr.plot.width=10, repr.plot.height=10)\n",
    "\n",
    "df2$types<-as.factor(df2$types)\n",
    "df2$types <- factor(df2$types, levels = c(\"Eosinophil\", \"Mast_cell\",\n",
    "                                        \"NK\", \"B_lineage\", \"pDC\", \"Stroma\",\n",
    "                                        \"T_cell\",\"HSC\", \"Erythroid\", \"Monocyte\",\n",
    "                                        \"Neutrophil\", \"Myeloid_precursor\",\n",
    "                                        \"Myeloid_DC\", \"MEMP\", \"MK\"))\n",
    "\n",
    "\n",
    "df2$variable <- factor(df2$variable, levels = rev(c(\"chr1\", \"chr2\", \"chr3\", \"chr4\",\n",
    "                                              \"chr5\", \"chr6\", \"chr7\", \"chr8\",\n",
    "                                              \"chr9\", \"chr10\", \"chr11\", \"chr12\", \"chr13\", \"chr14\", \"chr15\", \"chr16\", \"chr17\", \"chr18\", \"chr19\", \n",
    "                                              \"chr20\", \"chr21\", \"chr22\")))\n",
    "\n",
    "\n"
   ]
  },
  {
   "cell_type": "code",
   "execution_count": 91,
   "metadata": {},
   "outputs": [
    {
     "name": "stderr",
     "output_type": "stream",
     "text": [
      "Saving 6.67 x 6.67 in image\n",
      "\n"
     ]
    },
    {
     "data": {
      "image/png": "[encoded data removed]",
      "text/plain": [
       "plot without title"
      ]
     },
     "metadata": {
      "image/png": {
       "height": 600,
       "width": 600
      },
      "text/plain": {
       "height": 600,
       "width": 600
      }
     },
     "output_type": "display_data"
    }
   ],
   "source": [
    "setwd(\"~/bone_marrow/figures\")\n",
    "\n",
    "ggplot(df2, aes(types, variable, fill= value)) + \n",
    "   geom_tile(color = \"white\")+\n",
    " scale_fill_gradient2(low = \"blue\", high = \"red\", mid = \"white\", midpoint = 0.005)+ theme(axis.text.x = element_text(angle = 90, vjust = 0.5, hjust=1))\n",
    "\n",
    "ggsave(\"TFs_only.pdf\", plot = last_plot(), device = NULL, path = NULL,\n",
    "  scale = 1, dpi = 300)"
   ]
  },
  {
   "cell_type": "markdown",
   "metadata": {},
   "source": [
    "\n",
    "\n",
    "***Differentially expressed TFs***\n",
    "\n",
    "\n"
   ]
  },
  {
   "cell_type": "code",
   "execution_count": 58,
   "metadata": {},
   "outputs": [],
   "source": [
    "order<-read.csv('gencode_v19_gene_pos.txt', sep = '\\t', header = FALSE, row.names = 1)\n",
    "order$gene<-rownames(order)"
   ]
  },
  {
   "cell_type": "code",
   "execution_count": 59,
   "metadata": {},
   "outputs": [],
   "source": [
    "TFs<-read.csv(\"nrg2538-s3.txt\", sep = '\\t')\n",
    "TFs<-TFs[c(\"Ensembl.ID\", \"HGNC.symbol\")]\n",
    "colnames(TFs)<-c(\"Ensembl\", \"gene\")\n",
    "\n",
    "TFs<-merge(TFs, order, by = \"gene\")\n",
    "TFs<-TFs[c(\"gene\", \"V2\")]\n",
    "colnames(TFs)<-c(\"gene\", \"chromosome\")\n"
   ]
  },
  {
   "cell_type": "code",
   "execution_count": 36,
   "metadata": {},
   "outputs": [],
   "source": [
    "total<-readRDS(\"total.RDS\")\n"
   ]
  },
  {
   "cell_type": "code",
   "execution_count": 60,
   "metadata": {},
   "outputs": [],
   "source": [
    "total_TF<-total[TFs$gene,]"
   ]
  },
  {
   "cell_type": "code",
   "execution_count": 74,
   "metadata": {},
   "outputs": [],
   "source": [
    "df<-data.frame(genes = TFs$gene)"
   ]
  },
  {
   "cell_type": "code",
   "execution_count": 78,
   "metadata": {},
   "outputs": [],
   "source": [
    "Idents(total_TF)<-\"clustering_5c\"\n",
    "total_TF<-subset(total_TF, id = c(\"lymphoid progenitor\", \"basophil\"), invert = TRUE)"
   ]
  },
  {
   "cell_type": "code",
   "execution_count": 81,
   "metadata": {},
   "outputs": [],
   "source": [
    "Idents(total_TF)<-\"clustering_5c\"\n",
    "\n",
    "for(i in unique(total_TF@meta.data$clustering_5c)){\n",
    "    test<-subset(total_TF, id = i)\n",
    "    Idents(test)<-\"Status\"\n",
    "    markers<-FindMarkers(test, ident.1 = \"downs\", only.pos = TRUE, min.pct = 0.25, logfc.threshold = 0.25)\n",
    "    markers<-markers[markers$p_val_adj<0.05,]\n",
    "    markers$gene<-rownames(markers)\n",
    "    assign(paste0(\"DEGs\", \"_\", i), as.data.frame(markers$gene))\n",
    "    \n",
    "}"
   ]
  },
  {
   "cell_type": "code",
   "execution_count": 93,
   "metadata": {},
   "outputs": [],
   "source": [
    "g<-list(B_cells = DEGs_B_lineage$\"markers$gene\", \n",
    "        Eosinophils = DEGs_eosinophil$\"markers$gene\", \n",
    "        Erythroid = DEGs_erythroid$\"markers$gene\", \n",
    "        HSC = DEGs_HSC$\"markers$gene\", \n",
    "        Mast_cell = `DEGs_mast cell`$\"markers$gene\", \n",
    "        MEMP = DEGs_MEMP$\"markers$gene\",\n",
    "        MK = DEGs_MK$\"markers$gene\", \n",
    "        Monocyte = DEGs_monocyte$\"markers$gene\", \n",
    "        Myeloid_DC = `DEGs_myeloid DC`$\"markers$gene\", \n",
    "        Myeloid_precursor = `DEGs_myeloid progenitor`$\"markers$gene\", \n",
    "        Neutrophil = DEGs_neutrophil$\"markers$gene\", \n",
    "        NK = DEGs_NK$\"markers$gene\",\n",
    "        pDC = DEGs_pDC$\"markers$gene\", \n",
    "        Stroma = DEGs_stroma$\"markers$gene\", \n",
    "        T_cell=`DEGs_T cell`$\"markers$gene\", \n",
    "        HSC=DEGs_HSC$\"markers$gene\")\n"
   ]
  },
  {
   "cell_type": "code",
   "execution_count": 94,
   "metadata": {},
   "outputs": [],
   "source": [
    "chr_21_tfs<-c(\"AIRE\", \"BACH1\", \"ERG\", \"ETS2\", \"GABPA\", \"OLIG1\", \"OLIG2\", \"PKNOX1\", \"PRDM15\", \"RUNX1\", \"SIM2\", \"U2AF1\")"
   ]
  },
  {
   "cell_type": "code",
   "execution_count": 95,
   "metadata": {},
   "outputs": [
    {
     "data": {
      "text/html": [
       "ETS2\n",
       "<details>\n",
       "\t<summary style=display:list-item;cursor:pointer>\n",
       "\t\t<strong>Levels</strong>:\n",
       "\t</summary>\n",
       "\t<style>\n",
       "\t.list-inline {list-style: none; margin:0; padding: 0}\n",
       "\t.list-inline>li {display: inline-block}\n",
       "\t.list-inline>li:not(:last-child)::after {content: \"\\00b7\"; padding: 0 .5ex}\n",
       "\t</style>\n",
       "\t<ol class=list-inline><li>'C17orf49'</li><li>'DNAJC1'</li><li>'DUS3L'</li><li>'ETS2'</li><li>'EWSR1'</li><li>'FOS'</li><li>'FOSB'</li><li>'HMGA1'</li><li>'INF2'</li><li>'IRF7'</li><li>'IRF8'</li><li>'JUN'</li><li>'KLF10'</li><li>'KLF4'</li><li>'KLF6'</li><li>'MTA2'</li><li>'POLR2L'</li><li>'SF3A2'</li><li>'SP100'</li><li>'TOX'</li><li>'TSC22D3'</li><li>'YBX1'</li><li>'ZFP36'</li><li>'ZFP36L1'</li></ol>\n",
       "</details>"
      ],
      "text/latex": [
       "ETS2\n",
       "\\emph{Levels}: \\begin{enumerate*}\n",
       "\\item 'C17orf49'\n",
       "\\item 'DNAJC1'\n",
       "\\item 'DUS3L'\n",
       "\\item 'ETS2'\n",
       "\\item 'EWSR1'\n",
       "\\item 'FOS'\n",
       "\\item 'FOSB'\n",
       "\\item 'HMGA1'\n",
       "\\item 'INF2'\n",
       "\\item 'IRF7'\n",
       "\\item 'IRF8'\n",
       "\\item 'JUN'\n",
       "\\item 'KLF10'\n",
       "\\item 'KLF4'\n",
       "\\item 'KLF6'\n",
       "\\item 'MTA2'\n",
       "\\item 'POLR2L'\n",
       "\\item 'SF3A2'\n",
       "\\item 'SP100'\n",
       "\\item 'TOX'\n",
       "\\item 'TSC22D3'\n",
       "\\item 'YBX1'\n",
       "\\item 'ZFP36'\n",
       "\\item 'ZFP36L1'\n",
       "\\end{enumerate*}\n"
      ],
      "text/markdown": [
       "ETS2\n",
       "**Levels**: 1. 'C17orf49'\n",
       "2. 'DNAJC1'\n",
       "3. 'DUS3L'\n",
       "4. 'ETS2'\n",
       "5. 'EWSR1'\n",
       "6. 'FOS'\n",
       "7. 'FOSB'\n",
       "8. 'HMGA1'\n",
       "9. 'INF2'\n",
       "10. 'IRF7'\n",
       "11. 'IRF8'\n",
       "12. 'JUN'\n",
       "13. 'KLF10'\n",
       "14. 'KLF4'\n",
       "15. 'KLF6'\n",
       "16. 'MTA2'\n",
       "17. 'POLR2L'\n",
       "18. 'SF3A2'\n",
       "19. 'SP100'\n",
       "20. 'TOX'\n",
       "21. 'TSC22D3'\n",
       "22. 'YBX1'\n",
       "23. 'ZFP36'\n",
       "24. 'ZFP36L1'\n",
       "\n",
       "\n"
      ],
      "text/plain": [
       "[1] ETS2\n",
       "24 Levels: C17orf49 DNAJC1 DUS3L ETS2 EWSR1 FOS FOSB HMGA1 INF2 IRF7 ... ZFP36L1"
      ]
     },
     "metadata": {},
     "output_type": "display_data"
    }
   ],
   "source": [
    "g$B_cells[g$B_cells %in% chr_21_tfs]"
   ]
  },
  {
   "cell_type": "code",
   "execution_count": 96,
   "metadata": {},
   "outputs": [
    {
     "data": {
      "text/html": [
       "RUNX1\n",
       "<details>\n",
       "\t<summary style=display:list-item;cursor:pointer>\n",
       "\t\t<strong>Levels</strong>:\n",
       "\t</summary>\n",
       "\t<style>\n",
       "\t.list-inline {list-style: none; margin:0; padding: 0}\n",
       "\t.list-inline>li {display: inline-block}\n",
       "\t.list-inline>li:not(:last-child)::after {content: \"\\00b7\"; padding: 0 .5ex}\n",
       "\t</style>\n",
       "\t<ol class=list-inline><li>'AFF4'</li><li>'EGR1'</li><li>'FOS'</li><li>'FOSB'</li><li>'HIST1H1E'</li><li>'JUN'</li><li>'JUNB'</li><li>'KLF4'</li><li>'KLF6'</li><li>'MAFF'</li><li>'NFKB2'</li><li>'NR4A1'</li><li>'NR4A3'</li><li>'PPP1R10'</li><li>'RELB'</li><li>'RUNX1'</li><li>'SF3A2'</li><li>'TSC22D3'</li><li>'XBP1'</li><li>'ZFP36'</li><li>'ZFP36L2'</li><li>'ZNF711'</li><li>'ZNF804A'</li></ol>\n",
       "</details>"
      ],
      "text/latex": [
       "RUNX1\n",
       "\\emph{Levels}: \\begin{enumerate*}\n",
       "\\item 'AFF4'\n",
       "\\item 'EGR1'\n",
       "\\item 'FOS'\n",
       "\\item 'FOSB'\n",
       "\\item 'HIST1H1E'\n",
       "\\item 'JUN'\n",
       "\\item 'JUNB'\n",
       "\\item 'KLF4'\n",
       "\\item 'KLF6'\n",
       "\\item 'MAFF'\n",
       "\\item 'NFKB2'\n",
       "\\item 'NR4A1'\n",
       "\\item 'NR4A3'\n",
       "\\item 'PPP1R10'\n",
       "\\item 'RELB'\n",
       "\\item 'RUNX1'\n",
       "\\item 'SF3A2'\n",
       "\\item 'TSC22D3'\n",
       "\\item 'XBP1'\n",
       "\\item 'ZFP36'\n",
       "\\item 'ZFP36L2'\n",
       "\\item 'ZNF711'\n",
       "\\item 'ZNF804A'\n",
       "\\end{enumerate*}\n"
      ],
      "text/markdown": [
       "RUNX1\n",
       "**Levels**: 1. 'AFF4'\n",
       "2. 'EGR1'\n",
       "3. 'FOS'\n",
       "4. 'FOSB'\n",
       "5. 'HIST1H1E'\n",
       "6. 'JUN'\n",
       "7. 'JUNB'\n",
       "8. 'KLF4'\n",
       "9. 'KLF6'\n",
       "10. 'MAFF'\n",
       "11. 'NFKB2'\n",
       "12. 'NR4A1'\n",
       "13. 'NR4A3'\n",
       "14. 'PPP1R10'\n",
       "15. 'RELB'\n",
       "16. 'RUNX1'\n",
       "17. 'SF3A2'\n",
       "18. 'TSC22D3'\n",
       "19. 'XBP1'\n",
       "20. 'ZFP36'\n",
       "21. 'ZFP36L2'\n",
       "22. 'ZNF711'\n",
       "23. 'ZNF804A'\n",
       "\n",
       "\n"
      ],
      "text/plain": [
       "[1] RUNX1\n",
       "23 Levels: AFF4 EGR1 FOS FOSB HIST1H1E JUN JUNB KLF4 KLF6 MAFF NFKB2 ... ZNF804A"
      ]
     },
     "metadata": {},
     "output_type": "display_data"
    }
   ],
   "source": [
    "g$Eosinophils[g$Eosinophils %in% chr_21_tfs]"
   ]
  },
  {
   "cell_type": "code",
   "execution_count": 97,
   "metadata": {},
   "outputs": [
    {
     "data": {
      "text/html": [
       "\n",
       "<details>\n",
       "\t<summary style=display:list-item;cursor:pointer>\n",
       "\t\t<strong>Levels</strong>:\n",
       "\t</summary>\n",
       "\t<style>\n",
       "\t.list-inline {list-style: none; margin:0; padding: 0}\n",
       "\t.list-inline>li {display: inline-block}\n",
       "\t.list-inline>li:not(:last-child)::after {content: \"\\00b7\"; padding: 0 .5ex}\n",
       "\t</style>\n",
       "\t<ol class=list-inline><li>'EGR1'</li><li>'FOS'</li><li>'FOSB'</li><li>'JUN'</li><li>'JUNB'</li><li>'SP100'</li></ol>\n",
       "</details>"
      ],
      "text/latex": [
       "\n",
       "\\emph{Levels}: \\begin{enumerate*}\n",
       "\\item 'EGR1'\n",
       "\\item 'FOS'\n",
       "\\item 'FOSB'\n",
       "\\item 'JUN'\n",
       "\\item 'JUNB'\n",
       "\\item 'SP100'\n",
       "\\end{enumerate*}\n"
      ],
      "text/markdown": [
       "\n",
       "**Levels**: 1. 'EGR1'\n",
       "2. 'FOS'\n",
       "3. 'FOSB'\n",
       "4. 'JUN'\n",
       "5. 'JUNB'\n",
       "6. 'SP100'\n",
       "\n",
       "\n"
      ],
      "text/plain": [
       "factor(0)\n",
       "Levels: EGR1 FOS FOSB JUN JUNB SP100"
      ]
     },
     "metadata": {},
     "output_type": "display_data"
    }
   ],
   "source": [
    "g$Erythroid[g$Erythroid %in% chr_21_tfs]"
   ]
  },
  {
   "cell_type": "code",
   "execution_count": 98,
   "metadata": {},
   "outputs": [
    {
     "data": {
      "text/html": [
       "RUNX1\n",
       "<details>\n",
       "\t<summary style=display:list-item;cursor:pointer>\n",
       "\t\t<strong>Levels</strong>:\n",
       "\t</summary>\n",
       "\t<style>\n",
       "\t.list-inline {list-style: none; margin:0; padding: 0}\n",
       "\t.list-inline>li {display: inline-block}\n",
       "\t.list-inline>li:not(:last-child)::after {content: \"\\00b7\"; padding: 0 .5ex}\n",
       "\t</style>\n",
       "\t<ol class=list-inline><li>'AHR'</li><li>'ATF3'</li><li>'ATF5'</li><li>'C17orf49'</li><li>'DUS3L'</li><li>'EGR1'</li><li>'EWSR1'</li><li>'FOS'</li><li>'FOSB'</li><li>'FOSL1'</li><li>'HMGA1'</li><li>'IRF8'</li><li>'JUNB'</li><li>'JUND'</li><li>'KLF10'</li><li>'KLF2'</li><li>'KLF4'</li><li>'KLF6'</li><li>'MATR3'</li><li>'MTA2'</li><li>'MYC'</li><li>'PHB2'</li><li>'RC3H1'</li><li>'RELB'</li><li>'RNF138'</li><li>'RUNX1'</li><li>'SF3A2'</li><li>'SP100'</li><li>'SREBF1'</li><li>'SSRP1'</li><li>'TFAM'</li><li>'TIPARP'</li><li>'TRMT1'</li><li>'XBP1'</li><li>'YBX1'</li><li>'ZFP36'</li><li>'ZFP36L1'</li></ol>\n",
       "</details>"
      ],
      "text/latex": [
       "RUNX1\n",
       "\\emph{Levels}: \\begin{enumerate*}\n",
       "\\item 'AHR'\n",
       "\\item 'ATF3'\n",
       "\\item 'ATF5'\n",
       "\\item 'C17orf49'\n",
       "\\item 'DUS3L'\n",
       "\\item 'EGR1'\n",
       "\\item 'EWSR1'\n",
       "\\item 'FOS'\n",
       "\\item 'FOSB'\n",
       "\\item 'FOSL1'\n",
       "\\item 'HMGA1'\n",
       "\\item 'IRF8'\n",
       "\\item 'JUNB'\n",
       "\\item 'JUND'\n",
       "\\item 'KLF10'\n",
       "\\item 'KLF2'\n",
       "\\item 'KLF4'\n",
       "\\item 'KLF6'\n",
       "\\item 'MATR3'\n",
       "\\item 'MTA2'\n",
       "\\item 'MYC'\n",
       "\\item 'PHB2'\n",
       "\\item 'RC3H1'\n",
       "\\item 'RELB'\n",
       "\\item 'RNF138'\n",
       "\\item 'RUNX1'\n",
       "\\item 'SF3A2'\n",
       "\\item 'SP100'\n",
       "\\item 'SREBF1'\n",
       "\\item 'SSRP1'\n",
       "\\item 'TFAM'\n",
       "\\item 'TIPARP'\n",
       "\\item 'TRMT1'\n",
       "\\item 'XBP1'\n",
       "\\item 'YBX1'\n",
       "\\item 'ZFP36'\n",
       "\\item 'ZFP36L1'\n",
       "\\end{enumerate*}\n"
      ],
      "text/markdown": [
       "RUNX1\n",
       "**Levels**: 1. 'AHR'\n",
       "2. 'ATF3'\n",
       "3. 'ATF5'\n",
       "4. 'C17orf49'\n",
       "5. 'DUS3L'\n",
       "6. 'EGR1'\n",
       "7. 'EWSR1'\n",
       "8. 'FOS'\n",
       "9. 'FOSB'\n",
       "10. 'FOSL1'\n",
       "11. 'HMGA1'\n",
       "12. 'IRF8'\n",
       "13. 'JUNB'\n",
       "14. 'JUND'\n",
       "15. 'KLF10'\n",
       "16. 'KLF2'\n",
       "17. 'KLF4'\n",
       "18. 'KLF6'\n",
       "19. 'MATR3'\n",
       "20. 'MTA2'\n",
       "21. 'MYC'\n",
       "22. 'PHB2'\n",
       "23. 'RC3H1'\n",
       "24. 'RELB'\n",
       "25. 'RNF138'\n",
       "26. 'RUNX1'\n",
       "27. 'SF3A2'\n",
       "28. 'SP100'\n",
       "29. 'SREBF1'\n",
       "30. 'SSRP1'\n",
       "31. 'TFAM'\n",
       "32. 'TIPARP'\n",
       "33. 'TRMT1'\n",
       "34. 'XBP1'\n",
       "35. 'YBX1'\n",
       "36. 'ZFP36'\n",
       "37. 'ZFP36L1'\n",
       "\n",
       "\n"
      ],
      "text/plain": [
       "[1] RUNX1\n",
       "37 Levels: AHR ATF3 ATF5 C17orf49 DUS3L EGR1 EWSR1 FOS FOSB FOSL1 ... ZFP36L1"
      ]
     },
     "metadata": {},
     "output_type": "display_data"
    }
   ],
   "source": [
    "g$HSC[g$HSC %in% chr_21_tfs]"
   ]
  },
  {
   "cell_type": "code",
   "execution_count": 99,
   "metadata": {},
   "outputs": [
    {
     "data": {
      "text/html": [
       "\n",
       "<details>\n",
       "\t<summary style=display:list-item;cursor:pointer>\n",
       "\t\t<strong>Levels</strong>:\n",
       "\t</summary>\n",
       "\t<style>\n",
       "\t.list-inline {list-style: none; margin:0; padding: 0}\n",
       "\t.list-inline>li {display: inline-block}\n",
       "\t.list-inline>li:not(:last-child)::after {content: \"\\00b7\"; padding: 0 .5ex}\n",
       "\t</style>\n",
       "\t<ol class=list-inline><li>'AFF4'</li><li>'AHR'</li><li>'ATF5'</li><li>'C17orf49'</li><li>'EGR1'</li><li>'EWSR1'</li><li>'FOS'</li><li>'FOSB'</li><li>'HIST1H1C'</li><li>'HIST1H1E'</li><li>'HOXB4'</li><li>'JUN'</li><li>'JUNB'</li><li>'KLF4'</li><li>'KLF6'</li><li>'MAFF'</li><li>'NCOR2'</li><li>'NFKB2'</li><li>'NR4A1'</li><li>'NR4A2'</li><li>'NR4A3'</li><li>'PPP1R10'</li><li>'RELA'</li><li>'RELB'</li><li>'SP100'</li><li>'TAL1'</li><li>'TSC22D2'</li><li>'YBX1'</li><li>'ZBTB10'</li><li>'ZFP36'</li><li>'ZFP36L1'</li></ol>\n",
       "</details>"
      ],
      "text/latex": [
       "\n",
       "\\emph{Levels}: \\begin{enumerate*}\n",
       "\\item 'AFF4'\n",
       "\\item 'AHR'\n",
       "\\item 'ATF5'\n",
       "\\item 'C17orf49'\n",
       "\\item 'EGR1'\n",
       "\\item 'EWSR1'\n",
       "\\item 'FOS'\n",
       "\\item 'FOSB'\n",
       "\\item 'HIST1H1C'\n",
       "\\item 'HIST1H1E'\n",
       "\\item 'HOXB4'\n",
       "\\item 'JUN'\n",
       "\\item 'JUNB'\n",
       "\\item 'KLF4'\n",
       "\\item 'KLF6'\n",
       "\\item 'MAFF'\n",
       "\\item 'NCOR2'\n",
       "\\item 'NFKB2'\n",
       "\\item 'NR4A1'\n",
       "\\item 'NR4A2'\n",
       "\\item 'NR4A3'\n",
       "\\item 'PPP1R10'\n",
       "\\item 'RELA'\n",
       "\\item 'RELB'\n",
       "\\item 'SP100'\n",
       "\\item 'TAL1'\n",
       "\\item 'TSC22D2'\n",
       "\\item 'YBX1'\n",
       "\\item 'ZBTB10'\n",
       "\\item 'ZFP36'\n",
       "\\item 'ZFP36L1'\n",
       "\\end{enumerate*}\n"
      ],
      "text/markdown": [
       "\n",
       "**Levels**: 1. 'AFF4'\n",
       "2. 'AHR'\n",
       "3. 'ATF5'\n",
       "4. 'C17orf49'\n",
       "5. 'EGR1'\n",
       "6. 'EWSR1'\n",
       "7. 'FOS'\n",
       "8. 'FOSB'\n",
       "9. 'HIST1H1C'\n",
       "10. 'HIST1H1E'\n",
       "11. 'HOXB4'\n",
       "12. 'JUN'\n",
       "13. 'JUNB'\n",
       "14. 'KLF4'\n",
       "15. 'KLF6'\n",
       "16. 'MAFF'\n",
       "17. 'NCOR2'\n",
       "18. 'NFKB2'\n",
       "19. 'NR4A1'\n",
       "20. 'NR4A2'\n",
       "21. 'NR4A3'\n",
       "22. 'PPP1R10'\n",
       "23. 'RELA'\n",
       "24. 'RELB'\n",
       "25. 'SP100'\n",
       "26. 'TAL1'\n",
       "27. 'TSC22D2'\n",
       "28. 'YBX1'\n",
       "29. 'ZBTB10'\n",
       "30. 'ZFP36'\n",
       "31. 'ZFP36L1'\n",
       "\n",
       "\n"
      ],
      "text/plain": [
       "factor(0)\n",
       "31 Levels: AFF4 AHR ATF5 C17orf49 EGR1 EWSR1 FOS FOSB HIST1H1C ... ZFP36L1"
      ]
     },
     "metadata": {},
     "output_type": "display_data"
    }
   ],
   "source": [
    "g$Mast_cell[g$Mast_cell %in% chr_21_tfs]"
   ]
  },
  {
   "cell_type": "code",
   "execution_count": 100,
   "metadata": {},
   "outputs": [
    {
     "data": {
      "text/html": [
       "\n",
       "<details>\n",
       "\t<summary style=display:list-item;cursor:pointer>\n",
       "\t\t<strong>Levels</strong>:\n",
       "\t</summary>\n",
       "\t<style>\n",
       "\t.list-inline {list-style: none; margin:0; padding: 0}\n",
       "\t.list-inline>li {display: inline-block}\n",
       "\t.list-inline>li:not(:last-child)::after {content: \"\\00b7\"; padding: 0 .5ex}\n",
       "\t</style>\n",
       "\t<ol class=list-inline><li>'ATF5'</li><li>'BOLA3'</li><li>'CARHSP1'</li><li>'CD36'</li><li>'EGR1'</li><li>'FOS'</li><li>'FOSB'</li><li>'FOXH1'</li><li>'GFI1B'</li><li>'HIF3A'</li><li>'HMGA1'</li><li>'JUN'</li><li>'JUNB'</li><li>'JUND'</li><li>'KLF1'</li><li>'KLF4'</li><li>'KLF6'</li><li>'NR4A1'</li><li>'SP100'</li><li>'TSC22D4'</li><li>'YBX1'</li><li>'ZFP36L1'</li></ol>\n",
       "</details>"
      ],
      "text/latex": [
       "\n",
       "\\emph{Levels}: \\begin{enumerate*}\n",
       "\\item 'ATF5'\n",
       "\\item 'BOLA3'\n",
       "\\item 'CARHSP1'\n",
       "\\item 'CD36'\n",
       "\\item 'EGR1'\n",
       "\\item 'FOS'\n",
       "\\item 'FOSB'\n",
       "\\item 'FOXH1'\n",
       "\\item 'GFI1B'\n",
       "\\item 'HIF3A'\n",
       "\\item 'HMGA1'\n",
       "\\item 'JUN'\n",
       "\\item 'JUNB'\n",
       "\\item 'JUND'\n",
       "\\item 'KLF1'\n",
       "\\item 'KLF4'\n",
       "\\item 'KLF6'\n",
       "\\item 'NR4A1'\n",
       "\\item 'SP100'\n",
       "\\item 'TSC22D4'\n",
       "\\item 'YBX1'\n",
       "\\item 'ZFP36L1'\n",
       "\\end{enumerate*}\n"
      ],
      "text/markdown": [
       "\n",
       "**Levels**: 1. 'ATF5'\n",
       "2. 'BOLA3'\n",
       "3. 'CARHSP1'\n",
       "4. 'CD36'\n",
       "5. 'EGR1'\n",
       "6. 'FOS'\n",
       "7. 'FOSB'\n",
       "8. 'FOXH1'\n",
       "9. 'GFI1B'\n",
       "10. 'HIF3A'\n",
       "11. 'HMGA1'\n",
       "12. 'JUN'\n",
       "13. 'JUNB'\n",
       "14. 'JUND'\n",
       "15. 'KLF1'\n",
       "16. 'KLF4'\n",
       "17. 'KLF6'\n",
       "18. 'NR4A1'\n",
       "19. 'SP100'\n",
       "20. 'TSC22D4'\n",
       "21. 'YBX1'\n",
       "22. 'ZFP36L1'\n",
       "\n",
       "\n"
      ],
      "text/plain": [
       "factor(0)\n",
       "22 Levels: ATF5 BOLA3 CARHSP1 CD36 EGR1 FOS FOSB FOXH1 GFI1B HIF3A ... ZFP36L1"
      ]
     },
     "metadata": {},
     "output_type": "display_data"
    }
   ],
   "source": [
    "g$MEMP[g$MEMP %in% chr_21_tfs]"
   ]
  },
  {
   "cell_type": "code",
   "execution_count": 101,
   "metadata": {},
   "outputs": [
    {
     "data": {
      "text/html": [
       "\n",
       "<details>\n",
       "\t<summary style=display:list-item;cursor:pointer>\n",
       "\t\t<strong>Levels</strong>:\n",
       "\t</summary>\n",
       "\t<style>\n",
       "\t.list-inline {list-style: none; margin:0; padding: 0}\n",
       "\t.list-inline>li {display: inline-block}\n",
       "\t.list-inline>li:not(:last-child)::after {content: \"\\00b7\"; padding: 0 .5ex}\n",
       "\t</style>\n",
       "\t<ol class=list-inline><li>'ATF3'</li><li>'ATF5'</li><li>'BCLAF1'</li><li>'C17orf49'</li><li>'EGR1'</li><li>'EWSR1'</li><li>'FARSB'</li><li>'FOS'</li><li>'FOSB'</li><li>'HMGA1'</li><li>'ID1'</li><li>'JUN'</li><li>'JUNB'</li><li>'KLF10'</li><li>'KLF4'</li><li>'KLF6'</li><li>'MAFF'</li><li>'MATR3'</li><li>'PHB2'</li><li>'SF3A2'</li><li>'SF3A3'</li><li>'SP100'</li><li>'STAT5A'</li><li>'YBX1'</li><li>'ZFP36L1'</li><li>'ZFP36L2'</li></ol>\n",
       "</details>"
      ],
      "text/latex": [
       "\n",
       "\\emph{Levels}: \\begin{enumerate*}\n",
       "\\item 'ATF3'\n",
       "\\item 'ATF5'\n",
       "\\item 'BCLAF1'\n",
       "\\item 'C17orf49'\n",
       "\\item 'EGR1'\n",
       "\\item 'EWSR1'\n",
       "\\item 'FARSB'\n",
       "\\item 'FOS'\n",
       "\\item 'FOSB'\n",
       "\\item 'HMGA1'\n",
       "\\item 'ID1'\n",
       "\\item 'JUN'\n",
       "\\item 'JUNB'\n",
       "\\item 'KLF10'\n",
       "\\item 'KLF4'\n",
       "\\item 'KLF6'\n",
       "\\item 'MAFF'\n",
       "\\item 'MATR3'\n",
       "\\item 'PHB2'\n",
       "\\item 'SF3A2'\n",
       "\\item 'SF3A3'\n",
       "\\item 'SP100'\n",
       "\\item 'STAT5A'\n",
       "\\item 'YBX1'\n",
       "\\item 'ZFP36L1'\n",
       "\\item 'ZFP36L2'\n",
       "\\end{enumerate*}\n"
      ],
      "text/markdown": [
       "\n",
       "**Levels**: 1. 'ATF3'\n",
       "2. 'ATF5'\n",
       "3. 'BCLAF1'\n",
       "4. 'C17orf49'\n",
       "5. 'EGR1'\n",
       "6. 'EWSR1'\n",
       "7. 'FARSB'\n",
       "8. 'FOS'\n",
       "9. 'FOSB'\n",
       "10. 'HMGA1'\n",
       "11. 'ID1'\n",
       "12. 'JUN'\n",
       "13. 'JUNB'\n",
       "14. 'KLF10'\n",
       "15. 'KLF4'\n",
       "16. 'KLF6'\n",
       "17. 'MAFF'\n",
       "18. 'MATR3'\n",
       "19. 'PHB2'\n",
       "20. 'SF3A2'\n",
       "21. 'SF3A3'\n",
       "22. 'SP100'\n",
       "23. 'STAT5A'\n",
       "24. 'YBX1'\n",
       "25. 'ZFP36L1'\n",
       "26. 'ZFP36L2'\n",
       "\n",
       "\n"
      ],
      "text/plain": [
       "factor(0)\n",
       "26 Levels: ATF3 ATF5 BCLAF1 C17orf49 EGR1 EWSR1 FARSB FOS FOSB HMGA1 ... ZFP36L2"
      ]
     },
     "metadata": {},
     "output_type": "display_data"
    }
   ],
   "source": [
    "g$MK[g$MK %in% chr_21_tfs]"
   ]
  },
  {
   "cell_type": "code",
   "execution_count": 102,
   "metadata": {},
   "outputs": [
    {
     "data": {
      "text/html": [
       "ETS2\n",
       "<details>\n",
       "\t<summary style=display:list-item;cursor:pointer>\n",
       "\t\t<strong>Levels</strong>:\n",
       "\t</summary>\n",
       "\t<style>\n",
       "\t.list-inline {list-style: none; margin:0; padding: 0}\n",
       "\t.list-inline>li {display: inline-block}\n",
       "\t.list-inline>li:not(:last-child)::after {content: \"\\00b7\"; padding: 0 .5ex}\n",
       "\t</style>\n",
       "\t<ol class=list-inline><li>'AHR'</li><li>'ATF4'</li><li>'EGR1'</li><li>'ETS2'</li><li>'FOS'</li><li>'FOSB'</li><li>'ID1'</li><li>'ID2'</li><li>'JUN'</li><li>'JUNB'</li><li>'JUND'</li><li>'KLF10'</li><li>'KLF2'</li><li>'KLF4'</li><li>'KLF6'</li><li>'MAFB'</li><li>'NR4A2'</li><li>'PPP1R10'</li><li>'RARA'</li><li>'RELB'</li><li>'SP100'</li><li>'SPI1'</li><li>'THAP2'</li><li>'TSC22D3'</li><li>'ZFP36'</li><li>'ZNF385A'</li></ol>\n",
       "</details>"
      ],
      "text/latex": [
       "ETS2\n",
       "\\emph{Levels}: \\begin{enumerate*}\n",
       "\\item 'AHR'\n",
       "\\item 'ATF4'\n",
       "\\item 'EGR1'\n",
       "\\item 'ETS2'\n",
       "\\item 'FOS'\n",
       "\\item 'FOSB'\n",
       "\\item 'ID1'\n",
       "\\item 'ID2'\n",
       "\\item 'JUN'\n",
       "\\item 'JUNB'\n",
       "\\item 'JUND'\n",
       "\\item 'KLF10'\n",
       "\\item 'KLF2'\n",
       "\\item 'KLF4'\n",
       "\\item 'KLF6'\n",
       "\\item 'MAFB'\n",
       "\\item 'NR4A2'\n",
       "\\item 'PPP1R10'\n",
       "\\item 'RARA'\n",
       "\\item 'RELB'\n",
       "\\item 'SP100'\n",
       "\\item 'SPI1'\n",
       "\\item 'THAP2'\n",
       "\\item 'TSC22D3'\n",
       "\\item 'ZFP36'\n",
       "\\item 'ZNF385A'\n",
       "\\end{enumerate*}\n"
      ],
      "text/markdown": [
       "ETS2\n",
       "**Levels**: 1. 'AHR'\n",
       "2. 'ATF4'\n",
       "3. 'EGR1'\n",
       "4. 'ETS2'\n",
       "5. 'FOS'\n",
       "6. 'FOSB'\n",
       "7. 'ID1'\n",
       "8. 'ID2'\n",
       "9. 'JUN'\n",
       "10. 'JUNB'\n",
       "11. 'JUND'\n",
       "12. 'KLF10'\n",
       "13. 'KLF2'\n",
       "14. 'KLF4'\n",
       "15. 'KLF6'\n",
       "16. 'MAFB'\n",
       "17. 'NR4A2'\n",
       "18. 'PPP1R10'\n",
       "19. 'RARA'\n",
       "20. 'RELB'\n",
       "21. 'SP100'\n",
       "22. 'SPI1'\n",
       "23. 'THAP2'\n",
       "24. 'TSC22D3'\n",
       "25. 'ZFP36'\n",
       "26. 'ZNF385A'\n",
       "\n",
       "\n"
      ],
      "text/plain": [
       "[1] ETS2\n",
       "26 Levels: AHR ATF4 EGR1 ETS2 FOS FOSB ID1 ID2 JUN JUNB JUND KLF10 ... ZNF385A"
      ]
     },
     "metadata": {},
     "output_type": "display_data"
    }
   ],
   "source": [
    "g$Monocyte[g$Monocyte %in% chr_21_tfs]"
   ]
  },
  {
   "cell_type": "code",
   "execution_count": 103,
   "metadata": {},
   "outputs": [
    {
     "data": {
      "text/html": [
       "\n",
       "<details>\n",
       "\t<summary style=display:list-item;cursor:pointer>\n",
       "\t\t<strong>Levels</strong>:\n",
       "\t</summary>\n",
       "\t<style>\n",
       "\t.list-inline {list-style: none; margin:0; padding: 0}\n",
       "\t.list-inline>li {display: inline-block}\n",
       "\t.list-inline>li:not(:last-child)::after {content: \"\\00b7\"; padding: 0 .5ex}\n",
       "\t</style>\n",
       "\t<ol class=list-inline><li>'AHR'</li><li>'ATF3'</li><li>'CD36'</li><li>'CREB5'</li><li>'EGR1'</li><li>'FOS'</li><li>'FOSB'</li><li>'HLA-DQB1'</li><li>'HLA-DQB2'</li><li>'ID1'</li><li>'ID2'</li><li>'JUN'</li><li>'JUNB'</li><li>'JUND'</li><li>'KLF10'</li><li>'KLF2'</li><li>'KLF4'</li><li>'KLF6'</li><li>'MAF'</li><li>'MAFB'</li><li>'NFKB2'</li><li>'NR4A1'</li><li>'NR4A2'</li><li>'PLEK'</li><li>'POU2F2'</li><li>'PPP1R10'</li><li>'RELB'</li><li>'SP100'</li><li>'SPI1'</li><li>'TSC22D3'</li><li>'XBP1'</li><li>'ZFP36'</li><li>'ZFP36L1'</li><li>'ZFP36L2'</li><li>'ZNF385A'</li></ol>\n",
       "</details>"
      ],
      "text/latex": [
       "\n",
       "\\emph{Levels}: \\begin{enumerate*}\n",
       "\\item 'AHR'\n",
       "\\item 'ATF3'\n",
       "\\item 'CD36'\n",
       "\\item 'CREB5'\n",
       "\\item 'EGR1'\n",
       "\\item 'FOS'\n",
       "\\item 'FOSB'\n",
       "\\item 'HLA-DQB1'\n",
       "\\item 'HLA-DQB2'\n",
       "\\item 'ID1'\n",
       "\\item 'ID2'\n",
       "\\item 'JUN'\n",
       "\\item 'JUNB'\n",
       "\\item 'JUND'\n",
       "\\item 'KLF10'\n",
       "\\item 'KLF2'\n",
       "\\item 'KLF4'\n",
       "\\item 'KLF6'\n",
       "\\item 'MAF'\n",
       "\\item 'MAFB'\n",
       "\\item 'NFKB2'\n",
       "\\item 'NR4A1'\n",
       "\\item 'NR4A2'\n",
       "\\item 'PLEK'\n",
       "\\item 'POU2F2'\n",
       "\\item 'PPP1R10'\n",
       "\\item 'RELB'\n",
       "\\item 'SP100'\n",
       "\\item 'SPI1'\n",
       "\\item 'TSC22D3'\n",
       "\\item 'XBP1'\n",
       "\\item 'ZFP36'\n",
       "\\item 'ZFP36L1'\n",
       "\\item 'ZFP36L2'\n",
       "\\item 'ZNF385A'\n",
       "\\end{enumerate*}\n"
      ],
      "text/markdown": [
       "\n",
       "**Levels**: 1. 'AHR'\n",
       "2. 'ATF3'\n",
       "3. 'CD36'\n",
       "4. 'CREB5'\n",
       "5. 'EGR1'\n",
       "6. 'FOS'\n",
       "7. 'FOSB'\n",
       "8. 'HLA-DQB1'\n",
       "9. 'HLA-DQB2'\n",
       "10. 'ID1'\n",
       "11. 'ID2'\n",
       "12. 'JUN'\n",
       "13. 'JUNB'\n",
       "14. 'JUND'\n",
       "15. 'KLF10'\n",
       "16. 'KLF2'\n",
       "17. 'KLF4'\n",
       "18. 'KLF6'\n",
       "19. 'MAF'\n",
       "20. 'MAFB'\n",
       "21. 'NFKB2'\n",
       "22. 'NR4A1'\n",
       "23. 'NR4A2'\n",
       "24. 'PLEK'\n",
       "25. 'POU2F2'\n",
       "26. 'PPP1R10'\n",
       "27. 'RELB'\n",
       "28. 'SP100'\n",
       "29. 'SPI1'\n",
       "30. 'TSC22D3'\n",
       "31. 'XBP1'\n",
       "32. 'ZFP36'\n",
       "33. 'ZFP36L1'\n",
       "34. 'ZFP36L2'\n",
       "35. 'ZNF385A'\n",
       "\n",
       "\n"
      ],
      "text/plain": [
       "factor(0)\n",
       "35 Levels: AHR ATF3 CD36 CREB5 EGR1 FOS FOSB HLA-DQB1 HLA-DQB2 ID1 ID2 ... ZNF385A"
      ]
     },
     "metadata": {},
     "output_type": "display_data"
    }
   ],
   "source": [
    "g$Myeloid_DC[g$Myeloid_DC %in% chr_21_tfs]"
   ]
  },
  {
   "cell_type": "code",
   "execution_count": 104,
   "metadata": {},
   "outputs": [
    {
     "data": {
      "text/html": [
       "<style>\n",
       ".list-inline {list-style: none; margin:0; padding: 0}\n",
       ".list-inline>li {display: inline-block}\n",
       ".list-inline>li:not(:last-child)::after {content: \"\\00b7\"; padding: 0 .5ex}\n",
       "</style>\n",
       "<ol class=list-inline><li>ETS2</li><li>RUNX1</li></ol>\n",
       "\n",
       "<details>\n",
       "\t<summary style=display:list-item;cursor:pointer>\n",
       "\t\t<strong>Levels</strong>:\n",
       "\t</summary>\n",
       "\t<style>\n",
       "\t.list-inline {list-style: none; margin:0; padding: 0}\n",
       "\t.list-inline>li {display: inline-block}\n",
       "\t.list-inline>li:not(:last-child)::after {content: \"\\00b7\"; padding: 0 .5ex}\n",
       "\t</style>\n",
       "\t<ol class=list-inline><li>'ATF4'</li><li>'ATF5'</li><li>'BCLAF1'</li><li>'C17orf49'</li><li>'CSDE1'</li><li>'DRAP1'</li><li>'DUS3L'</li><li>'EGR1'</li><li>'ETS2'</li><li>'EWSR1'</li><li>'FOS'</li><li>'FOSB'</li><li>'GATA1'</li><li>'GATA2'</li><li>'GFI1B'</li><li>'GTF3A'</li><li>'HMGA1'</li><li>'HSF1'</li><li>'ID1'</li><li>'JUN'</li><li>'JUNB'</li><li>'JUND'</li><li>'KLF1'</li><li>'KLF10'</li><li>'KLF6'</li><li>'MATR3'</li><li>'MYC'</li><li>'NFE2'</li><li>'PHB2'</li><li>'RELB'</li><li>'RUNX1'</li><li>'SF3A2'</li><li>'SOX4'</li><li>'SP100'</li><li>'STAT5A'</li><li>'TIPARP'</li><li>'TSC22D1'</li><li>'TSC22D3'</li><li>'XBP1'</li><li>'YBX1'</li><li>'ZBTB16'</li><li>'ZFP36'</li><li>'ZFP36L1'</li></ol>\n",
       "</details>"
      ],
      "text/latex": [
       "\\begin{enumerate*}\n",
       "\\item ETS2\n",
       "\\item RUNX1\n",
       "\\end{enumerate*}\n",
       "\n",
       "\\emph{Levels}: \\begin{enumerate*}\n",
       "\\item 'ATF4'\n",
       "\\item 'ATF5'\n",
       "\\item 'BCLAF1'\n",
       "\\item 'C17orf49'\n",
       "\\item 'CSDE1'\n",
       "\\item 'DRAP1'\n",
       "\\item 'DUS3L'\n",
       "\\item 'EGR1'\n",
       "\\item 'ETS2'\n",
       "\\item 'EWSR1'\n",
       "\\item 'FOS'\n",
       "\\item 'FOSB'\n",
       "\\item 'GATA1'\n",
       "\\item 'GATA2'\n",
       "\\item 'GFI1B'\n",
       "\\item 'GTF3A'\n",
       "\\item 'HMGA1'\n",
       "\\item 'HSF1'\n",
       "\\item 'ID1'\n",
       "\\item 'JUN'\n",
       "\\item 'JUNB'\n",
       "\\item 'JUND'\n",
       "\\item 'KLF1'\n",
       "\\item 'KLF10'\n",
       "\\item 'KLF6'\n",
       "\\item 'MATR3'\n",
       "\\item 'MYC'\n",
       "\\item 'NFE2'\n",
       "\\item 'PHB2'\n",
       "\\item 'RELB'\n",
       "\\item 'RUNX1'\n",
       "\\item 'SF3A2'\n",
       "\\item 'SOX4'\n",
       "\\item 'SP100'\n",
       "\\item 'STAT5A'\n",
       "\\item 'TIPARP'\n",
       "\\item 'TSC22D1'\n",
       "\\item 'TSC22D3'\n",
       "\\item 'XBP1'\n",
       "\\item 'YBX1'\n",
       "\\item 'ZBTB16'\n",
       "\\item 'ZFP36'\n",
       "\\item 'ZFP36L1'\n",
       "\\end{enumerate*}\n"
      ],
      "text/markdown": [
       "1. ETS2\n",
       "2. RUNX1\n",
       "\n",
       "\n",
       "\n",
       "**Levels**: 1. 'ATF4'\n",
       "2. 'ATF5'\n",
       "3. 'BCLAF1'\n",
       "4. 'C17orf49'\n",
       "5. 'CSDE1'\n",
       "6. 'DRAP1'\n",
       "7. 'DUS3L'\n",
       "8. 'EGR1'\n",
       "9. 'ETS2'\n",
       "10. 'EWSR1'\n",
       "11. 'FOS'\n",
       "12. 'FOSB'\n",
       "13. 'GATA1'\n",
       "14. 'GATA2'\n",
       "15. 'GFI1B'\n",
       "16. 'GTF3A'\n",
       "17. 'HMGA1'\n",
       "18. 'HSF1'\n",
       "19. 'ID1'\n",
       "20. 'JUN'\n",
       "21. 'JUNB'\n",
       "22. 'JUND'\n",
       "23. 'KLF1'\n",
       "24. 'KLF10'\n",
       "25. 'KLF6'\n",
       "26. 'MATR3'\n",
       "27. 'MYC'\n",
       "28. 'NFE2'\n",
       "29. 'PHB2'\n",
       "30. 'RELB'\n",
       "31. 'RUNX1'\n",
       "32. 'SF3A2'\n",
       "33. 'SOX4'\n",
       "34. 'SP100'\n",
       "35. 'STAT5A'\n",
       "36. 'TIPARP'\n",
       "37. 'TSC22D1'\n",
       "38. 'TSC22D3'\n",
       "39. 'XBP1'\n",
       "40. 'YBX1'\n",
       "41. 'ZBTB16'\n",
       "42. 'ZFP36'\n",
       "43. 'ZFP36L1'\n",
       "\n",
       "\n"
      ],
      "text/plain": [
       "[1] ETS2  RUNX1\n",
       "43 Levels: ATF4 ATF5 BCLAF1 C17orf49 CSDE1 DRAP1 DUS3L EGR1 ETS2 EWSR1 ... ZFP36L1"
      ]
     },
     "metadata": {},
     "output_type": "display_data"
    }
   ],
   "source": [
    "g$Myeloid_precursor[g$Myeloid_precursor %in% chr_21_tfs]"
   ]
  },
  {
   "cell_type": "code",
   "execution_count": 105,
   "metadata": {},
   "outputs": [
    {
     "data": {
      "text/html": [
       "\n",
       "<details>\n",
       "\t<summary style=display:list-item;cursor:pointer>\n",
       "\t\t<strong>Levels</strong>:\n",
       "\t</summary>\n",
       "\t<style>\n",
       "\t.list-inline {list-style: none; margin:0; padding: 0}\n",
       "\t.list-inline>li {display: inline-block}\n",
       "\t.list-inline>li:not(:last-child)::after {content: \"\\00b7\"; padding: 0 .5ex}\n",
       "\t</style>\n",
       "\t<ol class=list-inline><li>'AHR'</li><li>'ATF3'</li><li>'C17orf49'</li><li>'CD36'</li><li>'EGR1'</li><li>'EIF3K'</li><li>'EWSR1'</li><li>'FOS'</li><li>'FOSB'</li><li>'HIST1H1E'</li><li>'HMGA1'</li><li>'ID2'</li><li>'IRF5'</li><li>'JUN'</li><li>'JUNB'</li><li>'KLF10'</li><li>'KLF4'</li><li>'KLF6'</li><li>'MAFB'</li><li>'PHB2'</li><li>'PLXNB2'</li><li>'POU2F2'</li><li>'PPP1R10'</li><li>'RARA'</li><li>'RELB'</li><li>'RNASE2'</li><li>'SOX4'</li><li>'SP100'</li><li>'SPI1'</li><li>'TSC22D3'</li><li>'XBP1'</li><li>'YBX1'</li><li>'ZBTB43'</li><li>'ZEB2'</li><li>'ZFHX3'</li><li>'ZFP36'</li><li>'ZFP36L2'</li><li>'ZNF385A'</li><li>'ZNF593'</li></ol>\n",
       "</details>"
      ],
      "text/latex": [
       "\n",
       "\\emph{Levels}: \\begin{enumerate*}\n",
       "\\item 'AHR'\n",
       "\\item 'ATF3'\n",
       "\\item 'C17orf49'\n",
       "\\item 'CD36'\n",
       "\\item 'EGR1'\n",
       "\\item 'EIF3K'\n",
       "\\item 'EWSR1'\n",
       "\\item 'FOS'\n",
       "\\item 'FOSB'\n",
       "\\item 'HIST1H1E'\n",
       "\\item 'HMGA1'\n",
       "\\item 'ID2'\n",
       "\\item 'IRF5'\n",
       "\\item 'JUN'\n",
       "\\item 'JUNB'\n",
       "\\item 'KLF10'\n",
       "\\item 'KLF4'\n",
       "\\item 'KLF6'\n",
       "\\item 'MAFB'\n",
       "\\item 'PHB2'\n",
       "\\item 'PLXNB2'\n",
       "\\item 'POU2F2'\n",
       "\\item 'PPP1R10'\n",
       "\\item 'RARA'\n",
       "\\item 'RELB'\n",
       "\\item 'RNASE2'\n",
       "\\item 'SOX4'\n",
       "\\item 'SP100'\n",
       "\\item 'SPI1'\n",
       "\\item 'TSC22D3'\n",
       "\\item 'XBP1'\n",
       "\\item 'YBX1'\n",
       "\\item 'ZBTB43'\n",
       "\\item 'ZEB2'\n",
       "\\item 'ZFHX3'\n",
       "\\item 'ZFP36'\n",
       "\\item 'ZFP36L2'\n",
       "\\item 'ZNF385A'\n",
       "\\item 'ZNF593'\n",
       "\\end{enumerate*}\n"
      ],
      "text/markdown": [
       "\n",
       "**Levels**: 1. 'AHR'\n",
       "2. 'ATF3'\n",
       "3. 'C17orf49'\n",
       "4. 'CD36'\n",
       "5. 'EGR1'\n",
       "6. 'EIF3K'\n",
       "7. 'EWSR1'\n",
       "8. 'FOS'\n",
       "9. 'FOSB'\n",
       "10. 'HIST1H1E'\n",
       "11. 'HMGA1'\n",
       "12. 'ID2'\n",
       "13. 'IRF5'\n",
       "14. 'JUN'\n",
       "15. 'JUNB'\n",
       "16. 'KLF10'\n",
       "17. 'KLF4'\n",
       "18. 'KLF6'\n",
       "19. 'MAFB'\n",
       "20. 'PHB2'\n",
       "21. 'PLXNB2'\n",
       "22. 'POU2F2'\n",
       "23. 'PPP1R10'\n",
       "24. 'RARA'\n",
       "25. 'RELB'\n",
       "26. 'RNASE2'\n",
       "27. 'SOX4'\n",
       "28. 'SP100'\n",
       "29. 'SPI1'\n",
       "30. 'TSC22D3'\n",
       "31. 'XBP1'\n",
       "32. 'YBX1'\n",
       "33. 'ZBTB43'\n",
       "34. 'ZEB2'\n",
       "35. 'ZFHX3'\n",
       "36. 'ZFP36'\n",
       "37. 'ZFP36L2'\n",
       "38. 'ZNF385A'\n",
       "39. 'ZNF593'\n",
       "\n",
       "\n"
      ],
      "text/plain": [
       "factor(0)\n",
       "39 Levels: AHR ATF3 C17orf49 CD36 EGR1 EIF3K EWSR1 FOS FOSB HIST1H1E ... ZNF593"
      ]
     },
     "metadata": {},
     "output_type": "display_data"
    }
   ],
   "source": [
    "g$Neutrophil[g$Neutrophil %in% chr_21_tfs]"
   ]
  },
  {
   "cell_type": "code",
   "execution_count": 106,
   "metadata": {},
   "outputs": [
    {
     "data": {
      "text/html": [
       "\n",
       "<details>\n",
       "\t<summary style=display:list-item;cursor:pointer>\n",
       "\t\t<strong>Levels</strong>:\n",
       "\t</summary>\n",
       "\t<style>\n",
       "\t.list-inline {list-style: none; margin:0; padding: 0}\n",
       "\t.list-inline>li {display: inline-block}\n",
       "\t.list-inline>li:not(:last-child)::after {content: \"\\00b7\"; padding: 0 .5ex}\n",
       "\t</style>\n",
       "\t<ol class=list-inline><li>'C17orf49'</li><li>'EGR1'</li><li>'EOMES'</li><li>'EWSR1'</li><li>'FOS'</li><li>'FOSB'</li><li>'HIST1H1E'</li><li>'JUN'</li><li>'JUNB'</li><li>'KLF10'</li><li>'KLF6'</li><li>'MGMT'</li><li>'PLEK'</li><li>'PPP1R10'</li><li>'SMARCE1'</li><li>'TBX21'</li><li>'XBP1'</li><li>'ZBP1'</li><li>'ZFP36'</li><li>'ZFP36L1'</li></ol>\n",
       "</details>"
      ],
      "text/latex": [
       "\n",
       "\\emph{Levels}: \\begin{enumerate*}\n",
       "\\item 'C17orf49'\n",
       "\\item 'EGR1'\n",
       "\\item 'EOMES'\n",
       "\\item 'EWSR1'\n",
       "\\item 'FOS'\n",
       "\\item 'FOSB'\n",
       "\\item 'HIST1H1E'\n",
       "\\item 'JUN'\n",
       "\\item 'JUNB'\n",
       "\\item 'KLF10'\n",
       "\\item 'KLF6'\n",
       "\\item 'MGMT'\n",
       "\\item 'PLEK'\n",
       "\\item 'PPP1R10'\n",
       "\\item 'SMARCE1'\n",
       "\\item 'TBX21'\n",
       "\\item 'XBP1'\n",
       "\\item 'ZBP1'\n",
       "\\item 'ZFP36'\n",
       "\\item 'ZFP36L1'\n",
       "\\end{enumerate*}\n"
      ],
      "text/markdown": [
       "\n",
       "**Levels**: 1. 'C17orf49'\n",
       "2. 'EGR1'\n",
       "3. 'EOMES'\n",
       "4. 'EWSR1'\n",
       "5. 'FOS'\n",
       "6. 'FOSB'\n",
       "7. 'HIST1H1E'\n",
       "8. 'JUN'\n",
       "9. 'JUNB'\n",
       "10. 'KLF10'\n",
       "11. 'KLF6'\n",
       "12. 'MGMT'\n",
       "13. 'PLEK'\n",
       "14. 'PPP1R10'\n",
       "15. 'SMARCE1'\n",
       "16. 'TBX21'\n",
       "17. 'XBP1'\n",
       "18. 'ZBP1'\n",
       "19. 'ZFP36'\n",
       "20. 'ZFP36L1'\n",
       "\n",
       "\n"
      ],
      "text/plain": [
       "factor(0)\n",
       "20 Levels: C17orf49 EGR1 EOMES EWSR1 FOS FOSB HIST1H1E JUN JUNB KLF10 ... ZFP36L1"
      ]
     },
     "metadata": {},
     "output_type": "display_data"
    }
   ],
   "source": [
    "g$NK[g$NK %in% chr_21_tfs]"
   ]
  },
  {
   "cell_type": "code",
   "execution_count": 107,
   "metadata": {},
   "outputs": [
    {
     "data": {
      "text/html": [
       "\n",
       "<details>\n",
       "\t<summary style=display:list-item;cursor:pointer>\n",
       "\t\t<strong>Levels</strong>:\n",
       "\t</summary>\n",
       "\t<style>\n",
       "\t.list-inline {list-style: none; margin:0; padding: 0}\n",
       "\t.list-inline>li {display: inline-block}\n",
       "\t.list-inline>li:not(:last-child)::after {content: \"\\00b7\"; padding: 0 .5ex}\n",
       "\t</style>\n",
       "\t<ol class=list-inline><li>'ATF3'</li><li>'C17orf49'</li><li>'DUS3L'</li><li>'EWSR1'</li><li>'FOS'</li><li>'FOSB'</li><li>'ID1'</li><li>'IRF7'</li><li>'JUN'</li><li>'KLF10'</li><li>'KLF4'</li><li>'KLF6'</li><li>'NR4A3'</li><li>'POLR2L'</li><li>'RELA'</li><li>'RELB'</li><li>'SP100'</li><li>'SSH2'</li><li>'TSC22D3'</li><li>'XBP1'</li><li>'ZNF580'</li><li>'ZNF791'</li></ol>\n",
       "</details>"
      ],
      "text/latex": [
       "\n",
       "\\emph{Levels}: \\begin{enumerate*}\n",
       "\\item 'ATF3'\n",
       "\\item 'C17orf49'\n",
       "\\item 'DUS3L'\n",
       "\\item 'EWSR1'\n",
       "\\item 'FOS'\n",
       "\\item 'FOSB'\n",
       "\\item 'ID1'\n",
       "\\item 'IRF7'\n",
       "\\item 'JUN'\n",
       "\\item 'KLF10'\n",
       "\\item 'KLF4'\n",
       "\\item 'KLF6'\n",
       "\\item 'NR4A3'\n",
       "\\item 'POLR2L'\n",
       "\\item 'RELA'\n",
       "\\item 'RELB'\n",
       "\\item 'SP100'\n",
       "\\item 'SSH2'\n",
       "\\item 'TSC22D3'\n",
       "\\item 'XBP1'\n",
       "\\item 'ZNF580'\n",
       "\\item 'ZNF791'\n",
       "\\end{enumerate*}\n"
      ],
      "text/markdown": [
       "\n",
       "**Levels**: 1. 'ATF3'\n",
       "2. 'C17orf49'\n",
       "3. 'DUS3L'\n",
       "4. 'EWSR1'\n",
       "5. 'FOS'\n",
       "6. 'FOSB'\n",
       "7. 'ID1'\n",
       "8. 'IRF7'\n",
       "9. 'JUN'\n",
       "10. 'KLF10'\n",
       "11. 'KLF4'\n",
       "12. 'KLF6'\n",
       "13. 'NR4A3'\n",
       "14. 'POLR2L'\n",
       "15. 'RELA'\n",
       "16. 'RELB'\n",
       "17. 'SP100'\n",
       "18. 'SSH2'\n",
       "19. 'TSC22D3'\n",
       "20. 'XBP1'\n",
       "21. 'ZNF580'\n",
       "22. 'ZNF791'\n",
       "\n",
       "\n"
      ],
      "text/plain": [
       "factor(0)\n",
       "22 Levels: ATF3 C17orf49 DUS3L EWSR1 FOS FOSB ID1 IRF7 JUN KLF10 KLF4 ... ZNF791"
      ]
     },
     "metadata": {},
     "output_type": "display_data"
    }
   ],
   "source": [
    "g$pDC[g$pDC %in% chr_21_tfs]"
   ]
  },
  {
   "cell_type": "code",
   "execution_count": 108,
   "metadata": {},
   "outputs": [
    {
     "data": {
      "text/html": [
       "<style>\n",
       ".list-inline {list-style: none; margin:0; padding: 0}\n",
       ".list-inline>li {display: inline-block}\n",
       ".list-inline>li:not(:last-child)::after {content: \"\\00b7\"; padding: 0 .5ex}\n",
       "</style>\n",
       "<ol class=list-inline><li>RUNX1</li><li>ETS2</li></ol>\n",
       "\n",
       "<details>\n",
       "\t<summary style=display:list-item;cursor:pointer>\n",
       "\t\t<strong>Levels</strong>:\n",
       "\t</summary>\n",
       "\t<style>\n",
       "\t.list-inline {list-style: none; margin:0; padding: 0}\n",
       "\t.list-inline>li {display: inline-block}\n",
       "\t.list-inline>li:not(:last-child)::after {content: \"\\00b7\"; padding: 0 .5ex}\n",
       "\t</style>\n",
       "\t<ol class=list-inline><li>'AFF3'</li><li>'AFF4'</li><li>'ATF5'</li><li>'CREB5'</li><li>'EGR1'</li><li>'ETS2'</li><li>'FOS'</li><li>'FOSB'</li><li>'HP1BP3'</li><li>'JUN'</li><li>'JUNB'</li><li>'KLF2'</li><li>'KLF4'</li><li>'KLF6'</li><li>'MEOX2'</li><li>'MYC'</li><li>'NCOR2'</li><li>'NFATC2'</li><li>'NFIB'</li><li>'NFIC'</li><li>'NFIX'</li><li>'NR4A1'</li><li>'NRK'</li><li>'PLAGL1'</li><li>'PLEK'</li><li>'PPP1R10'</li><li>'PRRX1'</li><li>'RUNX1'</li><li>'SF3A2'</li><li>'SP100'</li><li>'SPI1'</li><li>'TCF7L2'</li><li>'TSC22D3'</li><li>'TSHZ2'</li><li>'ZFP36'</li><li>'ZFP36L1'</li><li>'ZFP36L2'</li><li>'ZNF503'</li></ol>\n",
       "</details>"
      ],
      "text/latex": [
       "\\begin{enumerate*}\n",
       "\\item RUNX1\n",
       "\\item ETS2\n",
       "\\end{enumerate*}\n",
       "\n",
       "\\emph{Levels}: \\begin{enumerate*}\n",
       "\\item 'AFF3'\n",
       "\\item 'AFF4'\n",
       "\\item 'ATF5'\n",
       "\\item 'CREB5'\n",
       "\\item 'EGR1'\n",
       "\\item 'ETS2'\n",
       "\\item 'FOS'\n",
       "\\item 'FOSB'\n",
       "\\item 'HP1BP3'\n",
       "\\item 'JUN'\n",
       "\\item 'JUNB'\n",
       "\\item 'KLF2'\n",
       "\\item 'KLF4'\n",
       "\\item 'KLF6'\n",
       "\\item 'MEOX2'\n",
       "\\item 'MYC'\n",
       "\\item 'NCOR2'\n",
       "\\item 'NFATC2'\n",
       "\\item 'NFIB'\n",
       "\\item 'NFIC'\n",
       "\\item 'NFIX'\n",
       "\\item 'NR4A1'\n",
       "\\item 'NRK'\n",
       "\\item 'PLAGL1'\n",
       "\\item 'PLEK'\n",
       "\\item 'PPP1R10'\n",
       "\\item 'PRRX1'\n",
       "\\item 'RUNX1'\n",
       "\\item 'SF3A2'\n",
       "\\item 'SP100'\n",
       "\\item 'SPI1'\n",
       "\\item 'TCF7L2'\n",
       "\\item 'TSC22D3'\n",
       "\\item 'TSHZ2'\n",
       "\\item 'ZFP36'\n",
       "\\item 'ZFP36L1'\n",
       "\\item 'ZFP36L2'\n",
       "\\item 'ZNF503'\n",
       "\\end{enumerate*}\n"
      ],
      "text/markdown": [
       "1. RUNX1\n",
       "2. ETS2\n",
       "\n",
       "\n",
       "\n",
       "**Levels**: 1. 'AFF3'\n",
       "2. 'AFF4'\n",
       "3. 'ATF5'\n",
       "4. 'CREB5'\n",
       "5. 'EGR1'\n",
       "6. 'ETS2'\n",
       "7. 'FOS'\n",
       "8. 'FOSB'\n",
       "9. 'HP1BP3'\n",
       "10. 'JUN'\n",
       "11. 'JUNB'\n",
       "12. 'KLF2'\n",
       "13. 'KLF4'\n",
       "14. 'KLF6'\n",
       "15. 'MEOX2'\n",
       "16. 'MYC'\n",
       "17. 'NCOR2'\n",
       "18. 'NFATC2'\n",
       "19. 'NFIB'\n",
       "20. 'NFIC'\n",
       "21. 'NFIX'\n",
       "22. 'NR4A1'\n",
       "23. 'NRK'\n",
       "24. 'PLAGL1'\n",
       "25. 'PLEK'\n",
       "26. 'PPP1R10'\n",
       "27. 'PRRX1'\n",
       "28. 'RUNX1'\n",
       "29. 'SF3A2'\n",
       "30. 'SP100'\n",
       "31. 'SPI1'\n",
       "32. 'TCF7L2'\n",
       "33. 'TSC22D3'\n",
       "34. 'TSHZ2'\n",
       "35. 'ZFP36'\n",
       "36. 'ZFP36L1'\n",
       "37. 'ZFP36L2'\n",
       "38. 'ZNF503'\n",
       "\n",
       "\n"
      ],
      "text/plain": [
       "[1] RUNX1 ETS2 \n",
       "38 Levels: AFF3 AFF4 ATF5 CREB5 EGR1 ETS2 FOS FOSB HP1BP3 JUN JUNB ... ZNF503"
      ]
     },
     "metadata": {},
     "output_type": "display_data"
    }
   ],
   "source": [
    "g$Stroma[g$Stroma %in% chr_21_tfs]"
   ]
  },
  {
   "cell_type": "code",
   "execution_count": 109,
   "metadata": {},
   "outputs": [
    {
     "data": {
      "text/html": [
       "\n",
       "<details>\n",
       "\t<summary style=display:list-item;cursor:pointer>\n",
       "\t\t<strong>Levels</strong>:\n",
       "\t</summary>\n",
       "\t<style>\n",
       "\t.list-inline {list-style: none; margin:0; padding: 0}\n",
       "\t.list-inline>li {display: inline-block}\n",
       "\t.list-inline>li:not(:last-child)::after {content: \"\\00b7\"; padding: 0 .5ex}\n",
       "\t</style>\n",
       "\t<ol class=list-inline><li>'ATF5'</li><li>'CHRAC1'</li><li>'EWSR1'</li><li>'FOS'</li><li>'HMGA1'</li><li>'JUN'</li><li>'JUNB'</li><li>'KLF10'</li><li>'KLF6'</li><li>'MEOX1'</li><li>'SF3A3'</li><li>'SSRP1'</li><li>'STAT5A'</li><li>'YBX1'</li><li>'ZFP36'</li><li>'ZFP36L2'</li></ol>\n",
       "</details>"
      ],
      "text/latex": [
       "\n",
       "\\emph{Levels}: \\begin{enumerate*}\n",
       "\\item 'ATF5'\n",
       "\\item 'CHRAC1'\n",
       "\\item 'EWSR1'\n",
       "\\item 'FOS'\n",
       "\\item 'HMGA1'\n",
       "\\item 'JUN'\n",
       "\\item 'JUNB'\n",
       "\\item 'KLF10'\n",
       "\\item 'KLF6'\n",
       "\\item 'MEOX1'\n",
       "\\item 'SF3A3'\n",
       "\\item 'SSRP1'\n",
       "\\item 'STAT5A'\n",
       "\\item 'YBX1'\n",
       "\\item 'ZFP36'\n",
       "\\item 'ZFP36L2'\n",
       "\\end{enumerate*}\n"
      ],
      "text/markdown": [
       "\n",
       "**Levels**: 1. 'ATF5'\n",
       "2. 'CHRAC1'\n",
       "3. 'EWSR1'\n",
       "4. 'FOS'\n",
       "5. 'HMGA1'\n",
       "6. 'JUN'\n",
       "7. 'JUNB'\n",
       "8. 'KLF10'\n",
       "9. 'KLF6'\n",
       "10. 'MEOX1'\n",
       "11. 'SF3A3'\n",
       "12. 'SSRP1'\n",
       "13. 'STAT5A'\n",
       "14. 'YBX1'\n",
       "15. 'ZFP36'\n",
       "16. 'ZFP36L2'\n",
       "\n",
       "\n"
      ],
      "text/plain": [
       "factor(0)\n",
       "16 Levels: ATF5 CHRAC1 EWSR1 FOS HMGA1 JUN JUNB KLF10 KLF6 MEOX1 ... ZFP36L2"
      ]
     },
     "metadata": {},
     "output_type": "display_data"
    }
   ],
   "source": [
    "g$T_cell[g$T_cell %in% chr_21_tfs]"
   ]
  },
  {
   "cell_type": "code",
   "execution_count": 110,
   "metadata": {},
   "outputs": [],
   "source": [
    "a<-data.frame(genes = c(\"AIRE\", \"BACH1\", \"ERG\", \"ETS2\", \"GABPA\", \"OLIG1\", \"OLIG2\", \"PKNOX1\", \"PRDM15\", \"RUNX1\", \"SIM2\", \"U2AF1\"),\n",
    "              NK =         c(0,0,0,0,0,0,0,0,0,0,0,0),\n",
    "              T_cell =     c(0,0,0,0,0,0,0,0,0,0,0,0),\n",
    "              Monocyte =   c(0,0,0,1,0,0,0,0,0,0,0,0),\n",
    "              Neutrophil = c(0,0,0,0,0,0,0,0,0,-1,0,0),\n",
    "              Myeloid_pre= c(0,0,0,1,0,0,0,0,0,0,0,-1),\n",
    "              Mast_cell =  c(0,0,0,0,0,0,0,0,0,0,0,0),\n",
    "              Eosinophils= c(0,0,0,0,0,0,0,0,0,-1,0,0),\n",
    "              pDC =        c(0,0,0,0,0,0,0,0,0,0,0,0),\n",
    "              Myeloid_DC = c(0,0,0,0,0,0,0,0,0,0,0,0),\n",
    "              B_cells =    c(0,0,0,1,0,0,0,0,0,0,0,0),\n",
    "              MK =         c(0,0,0,0,0,0,0,0,0,0,0,0),\n",
    "              Erythroid =  c(0,0,0,0,0,0,0,0,0,0,0,0),\n",
    "              MEMP =       c(0,0,0,0,0,0,0,0,0,0,0,0),\n",
    "              HSC =        c(0,0,0,0,0,0,0,0,0,1,0,0)\n",
    "              )"
   ]
  },
  {
   "cell_type": "code",
   "execution_count": 111,
   "metadata": {},
   "outputs": [],
   "source": [
    "rownames(a)<-a$genes\n",
    "a$genes<-NULL"
   ]
  },
  {
   "cell_type": "code",
   "execution_count": 112,
   "metadata": {},
   "outputs": [
    {
     "name": "stderr",
     "output_type": "stream",
     "text": [
      "Saving 6.67 x 6.67 in image\n",
      "\n"
     ]
    },
    {
     "data": {
      "image/png": "[encoded data removed]",
      "text/plain": [
       "plot without title"
      ]
     },
     "metadata": {
      "image/png": {
       "height": 600,
       "width": 600
      },
      "text/plain": {
       "height": 600,
       "width": 600
      }
     },
     "output_type": "display_data"
    }
   ],
   "source": [
    "ggcorrplot(a, method = \"circle\", outline.col = \"white\",\n",
    "   ggtheme = ggplot2::theme_bw(),\n",
    "   colors = c(\"#E69F00\", \"white\", \"#D55E00\"))+ theme(panel.grid.major = element_blank(), panel.grid.minor = element_blank(),panel.background = element_blank())\n",
    "\n",
    "ggsave(\"Sig_TFs_plot.pdf\", plot = last_plot(), device = NULL, path = NULL,\n",
    "  scale = 1, dpi = 300)"
   ]
  },
  {
   "cell_type": "code",
   "execution_count": 9,
   "metadata": {},
   "outputs": [],
   "source": [
    "runx1_genes<-c(\"GPSM3\", \t\"RASGRP3\", \t\"LCP2\", \t\"LAT\", \t\"RIN3\", \t\"PIK3R5\", \t\"ITGA2B\", \t\"DOCK10\", \t\"EVA1B\", \t\"MARK2\", \t\"ARHGAP27\", \t\"FERMT3\", \t\"PTPN7\", \t\"RGS14\", \t\"IKBKB\", \t\"SLC22A15\", \t\"PIK3CD\", \t\"SH3BP2\", \t\"PRKACB\", \t\"CYTL1\", \t\"HCLS1\", \t\"CCDC9\", \t\"ITGAL\", \t\"PRICKLE1\", \t\"RRP12\", \t\"S100A9\", \t\"NLRC3\", \t\"MAPRE2\", \t\"KLHL6\", \t\"ETF1\", \t\"LST1\", \t\"C12orf75\", \t\"TFPI\", \t\"ZFC3H1\", \t\"FMNL1\", \t\"CD200R1\", \t\"SPNS3\", \t\"FCER1G\", \t\"MAP3K11\", \t\"GPR65\", \t\"MMRN1\", \t\"CCDC88B\", \t\"FBRSL1\", \t\"GBA\", \t\"GAB3\", \t\"KIF3B\", \t\"TLR4\", \t\"CSK\", \t\"VAV1\", \t\"SPI1\", \t\"CXCR3\", \t\"TLN1\", \t\"ITGB2\", \t\"PKN1\", \t\"NFKB1\", \t\"ARHGAP9\", \t\"NEDD4\", \t\"ALOX5AP\", \t\"SERPINA1\", \t\"TAGAP\", \t\"ACAP2\", \t\"NCF4\", \t\"TRERF1\", \t\"TMC8\", \t\"ICAM3\", \t\"TIE1\", \t\"STXBP5\", \t\"CCM2\", \t\"IL11RA\", \t\"SYTL3\", \t\"BIN3\", \t\"PHLDB3\", \t\"CTSG\", \t\"C1orf54\", \t\"PLEKHG3\", \t\"PDE4D\", \t\"TNNI2\", \t\"C1QC\", \t\"PDE1B\", \t\"LIMS1\", \t\"CTBP2\", \t\"PTPN6\", \t\"FAM102B\", \t\"ANXA4\", \t\"VGLL4\", \t\"KDM2A\", \t\"DPY19L3\", \t\"AAK1\", \t\"HK3\", \t\"TMEM156\", \t\"MIR155HG\", \t\"PIK3AP1\", \t\"NCOA7\", \t\"CSF2RB\", \t\"TBC1D10C\", \t\"MS4A7\", \t\"TRPC4AP\", \t\"ADGRG3\", \t\"LILRB5\", \t\"SLC9A3R1\", \t\"NOTCH2\", \t\"ANGPT2\", \t\"MYCT1\", \t\"PTPRJ\", \t\"RASSF5\", \t\"TRAF3IP3\", \t\"HMHA1\", \t\"RAE1\", \t\"PTPRE\", \t\"PLCB2\", \t\"MLLT10\", \t\"NPTN\", \t\"NAV3\", \t\"FBXO11\", \t\"ARFGEF1\", \t\"ZADH2\", \t\"CLEC10A\", \t\"FUT7\", \t\"PIKFYVE\", \t\"P2RX1\", \t\"RAB32\", \t\"BRWD3\", \t\"CLNK\", \t\"GAPT\", \t\"HPCAL1\", \t\"CLEC1B\", \t\"IGF1\", \t\"WIPF1\", \t\"VCPIP1\", \t\"E2F3\", \t\"CD68\", \t\"TBXAS1\", \t\"GCNT1\", \t\"DEPDC5\", \t\"JAK2\", \t\"IKZF2\", \t\"TRAPPC11\", \t\"PPP1R9A\", \t\"PRTN3\", \t\"C19orf25\", \t\"C1QTNF4\", \t\"B9D2\", \t\"TRAT1\", \t\"EGFL7\", \t\"RPS6KA3\", \t\"UBN2\", \t\"AKNA\", \t\"RPS17\", \t\"LTC4S\", \t\"FBXW7\", \t\"WDFY4\", \t\"ZBTB37\", \t\"SPX\", \t\"MGAT1\", \t\"FAM129A\", \t\"TBC1D1\", \t\"RAP1GAP2\", \t\"RELT\", \t\"TPSB2\", \t\"FCGR2B\", \t\"ELMO1\", \t\"UBE2Q1\", \t\"VPS39\", \t\"CTDSP1\", \t\"PRAM1\", \t\"NRBF2\", \t\"DGKZ\", \t\"EXOC1\", \t\"GP1BA\", \t\"HMBOX1\", \t\"SLC25A24\", \t\"CD63\", \t\"PLD4\", \t\"SMG7\", \t\"ICA1\", \t\"CARD6\", \t\"FAM91A1\", \t\"CCL2\", \t\"WAS\", \t\"TPSAB1\", \t\"CMIP\", \t\"DPP8\", \t\"STK4\", \t\"PPP1R21\", \t\"DST\", \t\"ZNF333\", \t\"FAM63B\", \t\"CD14\", \t\"FUT4\", \t\"HOMER3\", \t\"CALCRL\", \t\"TMEM185B\", \t\"APOBR\", \t\"MSRA\", \t\"DENND1B\", \t\"MGAT5\", \t\"ACBD3\", \t\"NLK\", \t\"NCF1\", \t\"RUNX1\", \t\"TUG1\", \t\"PACSIN2\", \t\"PTPRCAP\", \t\"ITM2C\", \t\"GDPD3\", \t\"LINC01089\", \t\"TRIM44\", \t\"DYNLL2\", \t\"ELF4\", \t\"PGRMC1\", \t\"S100A4\", \t\"MFN1\", \t\"TPSD1\", \t\"KIAA0141\", \t\"AP1G1\", \t\"SP140L\", \t\"CDK9\", \t\"TNPO3\", \t\"NR2C2\", \t\"KDM5C\", \t\"ARHGEF6\", \t\"TMEM33\", \t\"UBASH3B\", \t\"MRC1\", \t\"MRVI1\", \t\"GMIP\", \t\"VEZF1\", \t\"GTF3C1\", \t\"SLC35D2\", \t\"SLC16A3\", \t\"38961\", \t\"NLRP12\", \t\"TRIM41\", \t\"NLRP3\", \t\"YTHDF3\", \t\"PECAM1\", \t\"LRMP\", \t\"CCL4L2\", \t\"BRD9\", \t\"BANK1\", \t\"LINC01013\", \t\"RAB3C\", \t\"ADGRG1\", \t\"CYTH4\", \t\"CCDC93\", \t\"CMTM5\", \t\"SIGLEC14\", \t\"TMEM40\", \t\"CC2D1B\", \t\"NKG7\", \t\"HGF\", \t\"MSL2\", \t\"PTGS1\", \t\"WDTC1\", \t\"CHD7\", \t\"SEPP1\", \t\"THUMPD3-AS1\", \t\"STAT5B\", \t\"C16orf54\", \t\"MLC1\", \t\"TAGLN2\", \t\"PRSS57\", \t\"IGFBP7\", \t\"MACF1\", \t\"CLEC11A\", \t\"PLEK\", \t\"GCSAML\", \t\"PLAC8\", \t\"CCND2\", \t\"MANF\", \t\"LAIR1\", \t\"YPEL2\", \t\"ANKRD28\", \t\"PIK3R6\", \t\"CRNKL1\", \t\"DEF6\", \t\"FAR2\", \t\"ERMP1\", \t\"SNX14\", \t\"BICD2\", \t\"ZNF804A\", \t\"PSTPIP1\", \t\"ARPP21\", \t\"MYO1F\", \t\"SAMSN1\", \t\"CFP\", \t\"SLC7A7\", \t\"LINC01272\", \t\"CD79B\", \t\"SH3BP5L\", \t\"AMPD3\", \t\"FZR1\", \t\"CACNB4\", \t\"LLGL2\", \t\"CAB39\", \t\"ZBTB6\", \t\"MPZL3\", \t\"TRAPPC6B\", \t\"GPD2\", \t\"RGL2\", \t\"RAP2C\", \t\"DNAJC1\", \t\"ABHD17A\", \t\"EXOC3\", \t\"ZBTB11\", \t\"CSNK1G1\", \t\"SENP7\", \t\"MANBAL\", \t\"MTFR1L\", \t\"GBA2\", \t\"KANSL1\", \t\"CRK\", \t\"GPAA1\", \t\"INTS1\", \t\"DHX34\", \t\"INTS3\", \t\"UBE2M\", \t\"CCDC174\", \t\"ZNF274\", \t\"VPS53\", \t\"PSEN1\", \t\"IL2RG\", \t\"WDR37\", \t\"TCOF1\", \t\"NF1\", \t\"AP1S2\", \t\"ARID3B\", \t\"FHL3\", \t\"ADAM17\", \t\"STAB1\", \t\"RETN\", \t\"USE1\", \t\"C1QB\", \t\"FCHSD2\", \t\"DISP1\", \t\"EXTL3\", \t\"MAPK8IP3\", \t\"ZNF655\", \t\"INSIG2\", \t\"FBXO38\", \t\"LEPROTL1\", \t\"FES\", \t\"NRP1\", \t\"ARHGAP6\", \t\"SLC30A6\", \t\"PRKAR1A\", \t\"SH2D4B\", \t\"IMPA1\", \t\"EDEM3\", \t\"ZKSCAN1\", \t\"NSUN6\", \t\"ZNF518A\", \t\"MIDN\", \t\"FAM174A\", \t\"ARPC4\", \t\"EDEM1\", \t\"TAF1\", \t\"USP4\", \t\"PTK2B\", \t\"FAM207A\", \t\"GALNT7\", \t\"XPO6\")\n",
    "\n",
    "\n"
   ]
  },
  {
   "cell_type": "markdown",
   "metadata": {},
   "source": [
    "\n",
    "\n",
    "***Export subset of data with harmony corrected PCAs***\n",
    "\n"
   ]
  },
  {
   "cell_type": "code",
   "execution_count": 3,
   "metadata": {},
   "outputs": [],
   "source": [
    "setwd(\"~/bone_marrow\")\n",
    "bm<-readRDS(\"bm.RDS\")"
   ]
  },
  {
   "cell_type": "code",
   "execution_count": 437,
   "metadata": {},
   "outputs": [
    {
     "ename": "ERROR",
     "evalue": "Error in unique(bm@meta.data$cell.labels): object 'bm' not found\n",
     "output_type": "error",
     "traceback": [
      "Error in unique(bm@meta.data$cell.labels): object 'bm' not found\nTraceback:\n",
      "1. unique(bm@meta.data$cell.labels)"
     ]
    }
   ],
   "source": [
    "unique(bm@meta.data$cell.labels)"
   ]
  },
  {
   "cell_type": "code",
   "execution_count": 32,
   "metadata": {},
   "outputs": [],
   "source": [
    "Idents(bm)<-\"cell.labels\"\n",
    "bm<-subset(bm, id = c(\"DC precursor\", \"DC1\", \"DC2\", \"DC3\", \"tDC\", \"pDC\",\n",
    "                     \"myeloid DC progenitor\", \"DC precursor\", \"MPP myeloid 2\", \"MPP myeloid 1\",\n",
    "                     \"HSC\", \"CMP\", \"GMP\"))"
   ]
  },
  {
   "cell_type": "code",
   "execution_count": 33,
   "metadata": {},
   "outputs": [],
   "source": [
    "bm <- NormalizeData(bm, normalization.method = \"LogNormalize\", scale.factor = 10000)\n",
    "bm <- FindVariableFeatures(bm, selection.method = \"vst\", nfeatures = 2000)"
   ]
  },
  {
   "cell_type": "code",
   "execution_count": 34,
   "metadata": {},
   "outputs": [
    {
     "name": "stderr",
     "output_type": "stream",
     "text": [
      "Centering and scaling data matrix\n",
      "\n"
     ]
    }
   ],
   "source": [
    "all.genes <- rownames(bm)\n",
    "bm <- ScaleData(bm, features = all.genes)"
   ]
  },
  {
   "cell_type": "code",
   "execution_count": 35,
   "metadata": {},
   "outputs": [
    {
     "name": "stderr",
     "output_type": "stream",
     "text": [
      "PC_ 1 \n",
      "Positive:  CST3, ACTB, TMSB10, ANXA2, VIM, HLA-B, CALM1, PFN1, S100A10, EMP3 \n",
      "\t   CD74, S100A6, SAMHD1, SH3BGRL3, S100A11, CFL1, CTSH, ANXA5, HLA-DRB5, HLA-DPA1 \n",
      "\t   CORO1A, FCER1G, CAPG, S100A4, CLEC10A, HLA-DRB1, HLA-C, CFP, ANXA1, HLA-DRA \n",
      "Negative:  PRSS57, EGFL7, SMIM24, RPL7, RP11-620J15.3, MPO, RPL13A, RPL26, HBG2, MYB \n",
      "\t   RPS17, ITM2A, NUCB2, HBA1, RPS10, PRTN3, DLK1, RPS20, MS4A3, RPS2 \n",
      "\t   TRH, RPL27A, AZU1, HBA2, RPL22L1, SPINK2, NGFRAP1, CLEC11A, CD34, MYC \n",
      "PC_ 2 \n",
      "Positive:  JCHAIN, IRF7, UGCG, IL3RA, LILRA4, TPM2, FAM129C, MZB1, SERPINF1, TCF4 \n",
      "\t   CLEC4C, CCDC50, IRF8, HERPUD1, ITM2C, IGKC, BLNK, NCF1, SIT1, ST6GALNAC4 \n",
      "\t   GZMB, CYTH4, SPIB, SMPD3, TNFRSF21, DERL3, APP, ALOX5AP, CCDC186, BTG2 \n",
      "Negative:  TPI1, GAPDH, RNASE2, LYZ, TSPO, GSTP1, SPI1, HSPD1, H2AFZ, IGFBP7 \n",
      "\t   CSTA, TUBA1B, MNDA, TIMP1, FAM46A, CSF3R, RETN, HSPB1, COTL1, ALDOA \n",
      "\t   HMGB2, TESC, RANBP1, NFE2, NME1, CLEC11A, HSP90AA1, IMPDH2, MPO, SERPINB1 \n",
      "PC_ 3 \n",
      "Positive:  FTL, TSPO, TYMP, S100A4, S100A6, LYZ, MNDA, S100A11, SRGN, SPI1 \n",
      "\t   ANXA5, TIMP1, ITGB2, CSTA, CLEC10A, CFP, SAT1, COTL1, S100A10, RETN \n",
      "\t   STXBP2, CASP1, CAPN2, ANXA1, LY86, FGL2, ANXA2, SH3BGRL3, TYROBP, S100A9 \n",
      "Negative:  TUBB4B, CKS2, TUBB, TOP2A, CDK1, UBE2C, NUSAP1, STMN1, AURKB, CDCA3 \n",
      "\t   TPX2, CDCA8, CCNA2, ASPM, CKS1B, GTSE1, DLGAP5, SMC4, CENPE, SPC25 \n",
      "\t   MKI67, NDC80, TUBA1B, CENPF, BIRC5, CKAP2L, HMGB1, HJURP, TUBA1C, HMGB2 \n",
      "PC_ 4 \n",
      "Positive:  MT-ATP8, NME2, ATP6V0C, GABARAP, GSTM1, PSMA6, MT-ND4L, MIF, MTRNR2L12, MRPS24 \n",
      "\t   UQCRHL, PCBP2, MAN2B1, POLD4, TOMM5, NGRN, MT-ND6, WBP1, DIABLO, MT-CO2 \n",
      "\t   HAUS4, HMGN4, PPIA, SEPHS2, OVCA2, COX16, MT-CYB, PAGR1, ZMYM6NB, EEF1G \n",
      "Negative:  BLOC1S1, ATP5O, RPS20, RPL27A, RPL13A, NDUFB8, RPS17, RPL26, RPS10, PSMA2 \n",
      "\t   NDUFC2, RPS2, DONSON, MRPL23, KIAA0101, MALAT1, TMSB4X, RP11-1143G9.4, RPL7, SNHG25 \n",
      "\t   S100A8, CXCR4, ARPC1B, UBE2F, RPS4Y1, TMBIM4, S100A9, EVI2A, MRPL12, ACVR2B \n",
      "PC_ 5 \n",
      "Positive:  PSRC1, FAM64A, PLK1, SERPINB1, CDC20, MS4A6A, GPSM2, TMEM71, NUP214, AGTRAP \n",
      "\t   TROAP, BTG1, PIF1, MCEMP1, DLGAP5, CCNB1, NFE2, FCN1, S100A8, CENPF \n",
      "\t   PTTG1, CDC25B, VCAN, KIF20A, LYST, KIF14, PADI4, DEPDC1, HIST1H2AC, CSF3R \n",
      "Negative:  PCNA, RANBP1, GINS2, MCM3, DUT, MCM7, HELLS, MCM5, TK1, DHFR \n",
      "\t   CLSPN, FAM111B, FEN1, CDC6, SLBP, TYMS, FABP5, SNRNP25, CDC45, DCTPP1 \n",
      "\t   MCM6, GMNN, CENPM, MCM4, KIAA0101, ATAD2, CDK4, MCM10, RAD51, DTL \n",
      "\n"
     ]
    }
   ],
   "source": [
    "bm <- RunPCA(bm, features = VariableFeatures(object = bm))"
   ]
  },
  {
   "cell_type": "code",
   "execution_count": 36,
   "metadata": {},
   "outputs": [
    {
     "name": "stderr",
     "output_type": "stream",
     "text": [
      "Harmony 1/10\n",
      "\n",
      "Harmony 2/10\n",
      "\n",
      "Harmony 3/10\n",
      "\n",
      "Harmony 4/10\n",
      "\n",
      "Harmony 5/10\n",
      "\n",
      "Harmony 6/10\n",
      "\n",
      "Harmony 7/10\n",
      "\n",
      "Harmony 8/10\n",
      "\n",
      "Harmony 9/10\n",
      "\n",
      "Harmony 10/10\n",
      "\n",
      "Warning message:\n",
      "“Invalid name supplied, making object name syntactically valid. New object name is Seurat..ProjectDim.RNA.harmony; see ?make.names for more details on syntax validity”\n"
     ]
    },
    {
     "data": {
      "image/png": "[encoded data removed]",
      "text/plain": [
       "plot without title"
      ]
     },
     "metadata": {
      "image/png": {
       "height": 300,
       "width": 300
      },
      "text/plain": {
       "height": 300,
       "width": 300
      }
     },
     "output_type": "display_data"
    }
   ],
   "source": [
    "bm <- RunHarmony(bm, \"lanes\", plot_convergence = TRUE)"
   ]
  },
  {
   "cell_type": "code",
   "execution_count": 37,
   "metadata": {},
   "outputs": [],
   "source": [
    "embed<-Embeddings(object = bm, reduction = \"harmony\")\n",
    "write.csv(embed, \"embed.csv\")\n",
    "load<-Loadings(object = bm, reduction = \"harmony\")\n",
    "write.csv(load, \"loadings.csv\")"
   ]
  },
  {
   "cell_type": "code",
   "execution_count": 38,
   "metadata": {},
   "outputs": [
    {
     "data": {
      "text/plain": [
       "NULL"
      ]
     },
     "metadata": {},
     "output_type": "display_data"
    }
   ],
   "source": [
    "###Export data from Seurat\n",
    "\n",
    "data<-GetAssayData(object = bm, slot = \"counts\")\n",
    "writeMM(data, \"dc.mtx\")\n",
    "write.csv(data.frame(rownames(bm)), \"dc_genes.csv\")\n",
    "write.csv(data.frame(colnames(bm)), \"dc_cells.csv\")\n",
    "write.csv(bm@meta.data, \"dc_meta.csv\")"
   ]
  },
  {
   "cell_type": "markdown",
   "metadata": {},
   "source": [
    "\n",
    "\n",
    "***Volcano plot***\n",
    "\n"
   ]
  },
  {
   "cell_type": "code",
   "execution_count": 46,
   "metadata": {},
   "outputs": [],
   "source": [
    "HSC<-subset(total, id = \"HSC\")"
   ]
  },
  {
   "cell_type": "code",
   "execution_count": 47,
   "metadata": {},
   "outputs": [],
   "source": [
    "Idents(HSC)<-\"Status\"\n",
    "markers<-FindMarkers(HSC, ident.1 = \"downs\", only.pos = FALSE, min.pct = 0.01)"
   ]
  },
  {
   "cell_type": "code",
   "execution_count": 48,
   "metadata": {},
   "outputs": [],
   "source": [
    "threshold <- markers$p_val_adj > 0.05"
   ]
  },
  {
   "cell_type": "code",
   "execution_count": 49,
   "metadata": {},
   "outputs": [],
   "source": [
    "markers$threshold <- threshold"
   ]
  },
  {
   "cell_type": "code",
   "execution_count": 50,
   "metadata": {},
   "outputs": [],
   "source": [
    "runx1_genes<-c(\"GPSM3\", \t\"RASGRP3\", \t\"LCP2\", \t\"LAT\", \t\"RIN3\", \t\"PIK3R5\", \t\"ITGA2B\", \t\"DOCK10\", \t\"EVA1B\", \t\"MARK2\", \t\"ARHGAP27\", \t\"FERMT3\", \t\"PTPN7\", \t\"RGS14\", \t\"IKBKB\", \t\"SLC22A15\", \t\"PIK3CD\", \t\"SH3BP2\", \t\"PRKACB\", \t\"CYTL1\", \t\"HCLS1\", \t\"CCDC9\", \t\"ITGAL\", \t\"PRICKLE1\", \t\"RRP12\", \t\"S100A9\", \t\"NLRC3\", \t\"MAPRE2\", \t\"KLHL6\", \t\"ETF1\", \t\"LST1\", \t\"C12orf75\", \t\"TFPI\", \t\"ZFC3H1\", \t\"FMNL1\", \t\"CD200R1\", \t\"SPNS3\", \t\"FCER1G\", \t\"MAP3K11\", \t\"GPR65\", \t\"MMRN1\", \t\"CCDC88B\", \t\"FBRSL1\", \t\"GBA\", \t\"GAB3\", \t\"KIF3B\", \t\"TLR4\", \t\"CSK\", \t\"VAV1\", \t\"SPI1\", \t\"CXCR3\", \t\"TLN1\", \t\"ITGB2\", \t\"PKN1\", \t\"NFKB1\", \t\"ARHGAP9\", \t\"NEDD4\", \t\"ALOX5AP\", \t\"SERPINA1\", \t\"TAGAP\", \t\"ACAP2\", \t\"NCF4\", \t\"TRERF1\", \t\"TMC8\", \t\"ICAM3\", \t\"TIE1\", \t\"STXBP5\", \t\"CCM2\", \t\"IL11RA\", \t\"SYTL3\", \t\"BIN3\", \t\"PHLDB3\", \t\"CTSG\", \t\"C1orf54\", \t\"PLEKHG3\", \t\"PDE4D\", \t\"TNNI2\", \t\"C1QC\", \t\"PDE1B\", \t\"LIMS1\", \t\"CTBP2\", \t\"PTPN6\", \t\"FAM102B\", \t\"ANXA4\", \t\"VGLL4\", \t\"KDM2A\", \t\"DPY19L3\", \t\"AAK1\", \t\"HK3\", \t\"TMEM156\", \t\"MIR155HG\", \t\"PIK3AP1\", \t\"NCOA7\", \t\"CSF2RB\", \t\"TBC1D10C\", \t\"MS4A7\", \t\"TRPC4AP\", \t\"ADGRG3\", \t\"LILRB5\", \t\"SLC9A3R1\", \t\"NOTCH2\", \t\"ANGPT2\", \t\"MYCT1\", \t\"PTPRJ\", \t\"RASSF5\", \t\"TRAF3IP3\", \t\"HMHA1\", \t\"RAE1\", \t\"PTPRE\", \t\"PLCB2\", \t\"MLLT10\", \t\"NPTN\", \t\"NAV3\", \t\"FBXO11\", \t\"ARFGEF1\", \t\"ZADH2\", \t\"CLEC10A\", \t\"FUT7\", \t\"PIKFYVE\", \t\"P2RX1\", \t\"RAB32\", \t\"BRWD3\", \t\"CLNK\", \t\"GAPT\", \t\"HPCAL1\", \t\"CLEC1B\", \t\"IGF1\", \t\"WIPF1\", \t\"VCPIP1\", \t\"E2F3\", \t\"CD68\", \t\"TBXAS1\", \t\"GCNT1\", \t\"DEPDC5\", \t\"JAK2\", \t\"IKZF2\", \t\"TRAPPC11\", \t\"PPP1R9A\", \t\"PRTN3\", \t\"C19orf25\", \t\"C1QTNF4\", \t\"B9D2\", \t\"TRAT1\", \t\"EGFL7\", \t\"RPS6KA3\", \t\"UBN2\", \t\"AKNA\", \t\"RPS17\", \t\"LTC4S\", \t\"FBXW7\", \t\"WDFY4\", \t\"ZBTB37\", \t\"SPX\", \t\"MGAT1\", \t\"FAM129A\", \t\"TBC1D1\", \t\"RAP1GAP2\", \t\"RELT\", \t\"TPSB2\", \t\"FCGR2B\", \t\"ELMO1\", \t\"UBE2Q1\", \t\"VPS39\", \t\"CTDSP1\", \t\"PRAM1\", \t\"NRBF2\", \t\"DGKZ\", \t\"EXOC1\", \t\"GP1BA\", \t\"HMBOX1\", \t\"SLC25A24\", \t\"CD63\", \t\"PLD4\", \t\"SMG7\", \t\"ICA1\", \t\"CARD6\", \t\"FAM91A1\", \t\"CCL2\", \t\"WAS\", \t\"TPSAB1\", \t\"CMIP\", \t\"DPP8\", \t\"STK4\", \t\"PPP1R21\", \t\"DST\", \t\"ZNF333\", \t\"FAM63B\", \t\"CD14\", \t\"FUT4\", \t\"HOMER3\", \t\"CALCRL\", \t\"TMEM185B\", \t\"APOBR\", \t\"MSRA\", \t\"DENND1B\", \t\"MGAT5\", \t\"ACBD3\", \t\"NLK\", \t\"NCF1\", \t\"RUNX1\", \t\"TUG1\", \t\"PACSIN2\", \t\"PTPRCAP\", \t\"ITM2C\", \t\"GDPD3\", \t\"LINC01089\", \t\"TRIM44\", \t\"DYNLL2\", \t\"ELF4\", \t\"PGRMC1\", \t\"S100A4\", \t\"MFN1\", \t\"TPSD1\", \t\"KIAA0141\", \t\"AP1G1\", \t\"SP140L\", \t\"CDK9\", \t\"TNPO3\", \t\"NR2C2\", \t\"KDM5C\", \t\"ARHGEF6\", \t\"TMEM33\", \t\"UBASH3B\", \t\"MRC1\", \t\"MRVI1\", \t\"GMIP\", \t\"VEZF1\", \t\"GTF3C1\", \t\"SLC35D2\", \t\"SLC16A3\", \t\"38961\", \t\"NLRP12\", \t\"TRIM41\", \t\"NLRP3\", \t\"YTHDF3\", \t\"PECAM1\", \t\"LRMP\", \t\"CCL4L2\", \t\"BRD9\", \t\"BANK1\", \t\"LINC01013\", \t\"RAB3C\", \t\"ADGRG1\", \t\"CYTH4\", \t\"CCDC93\", \t\"CMTM5\", \t\"SIGLEC14\", \t\"TMEM40\", \t\"CC2D1B\", \t\"NKG7\", \t\"HGF\", \t\"MSL2\", \t\"PTGS1\", \t\"WDTC1\", \t\"CHD7\", \t\"SEPP1\", \t\"THUMPD3-AS1\", \t\"STAT5B\", \t\"C16orf54\", \t\"MLC1\", \t\"TAGLN2\", \t\"PRSS57\", \t\"IGFBP7\", \t\"MACF1\", \t\"CLEC11A\", \t\"PLEK\", \t\"GCSAML\", \t\"PLAC8\", \t\"CCND2\", \t\"MANF\", \t\"LAIR1\", \t\"YPEL2\", \t\"ANKRD28\", \t\"PIK3R6\", \t\"CRNKL1\", \t\"DEF6\", \t\"FAR2\", \t\"ERMP1\", \t\"SNX14\", \t\"BICD2\", \t\"ZNF804A\", \t\"PSTPIP1\", \t\"ARPP21\", \t\"MYO1F\", \t\"SAMSN1\", \t\"CFP\", \t\"SLC7A7\", \t\"LINC01272\", \t\"CD79B\", \t\"SH3BP5L\", \t\"AMPD3\", \t\"FZR1\", \t\"CACNB4\", \t\"LLGL2\", \t\"CAB39\", \t\"ZBTB6\", \t\"MPZL3\", \t\"TRAPPC6B\", \t\"GPD2\", \t\"RGL2\", \t\"RAP2C\", \t\"DNAJC1\", \t\"ABHD17A\", \t\"EXOC3\", \t\"ZBTB11\", \t\"CSNK1G1\", \t\"SENP7\", \t\"MANBAL\", \t\"MTFR1L\", \t\"GBA2\", \t\"KANSL1\", \t\"CRK\", \t\"GPAA1\", \t\"INTS1\", \t\"DHX34\", \t\"INTS3\", \t\"UBE2M\", \t\"CCDC174\", \t\"ZNF274\", \t\"VPS53\", \t\"PSEN1\", \t\"IL2RG\", \t\"WDR37\", \t\"TCOF1\", \t\"NF1\", \t\"AP1S2\", \t\"ARID3B\", \t\"FHL3\", \t\"ADAM17\", \t\"STAB1\", \t\"RETN\", \t\"USE1\", \t\"C1QB\", \t\"FCHSD2\", \t\"DISP1\", \t\"EXTL3\", \t\"MAPK8IP3\", \t\"ZNF655\", \t\"INSIG2\", \t\"FBXO38\", \t\"LEPROTL1\", \t\"FES\", \t\"NRP1\", \t\"ARHGAP6\", \t\"SLC30A6\", \t\"PRKAR1A\", \t\"SH2D4B\", \t\"IMPA1\", \t\"EDEM3\", \t\"ZKSCAN1\", \t\"NSUN6\", \t\"ZNF518A\", \t\"MIDN\", \t\"FAM174A\", \t\"ARPC4\", \t\"EDEM1\", \t\"TAF1\", \t\"USP4\", \t\"PTK2B\", \t\"FAM207A\", \t\"GALNT7\", \t\"XPO6\")"
   ]
  },
  {
   "cell_type": "code",
   "execution_count": 111,
   "metadata": {},
   "outputs": [],
   "source": [
    "gene_list<-c(\"IGFBP7\", \"SPNS3\", \"PTPRCAP\", \"C1QTNF4\", \"CLEC11A\", \"IL2RG\", \"ITGB2\", \"RUNX1\", \"MIDN\", \"RRP12\", \"PRAM1\")\n"
   ]
  },
  {
   "cell_type": "code",
   "execution_count": 112,
   "metadata": {},
   "outputs": [],
   "source": [
    "genes_to_plot<- rownames(markers) %in% gene_list\n",
    "markers$gene_label<-genes_to_plot"
   ]
  },
  {
   "cell_type": "code",
   "execution_count": 113,
   "metadata": {},
   "outputs": [],
   "source": [
    "###label genes of interest in threshold column\n",
    "\n",
    "\n",
    "markers$genes<-rownames(markers)\n",
    "markers$threshold<-\"\"\n",
    "markers[markers$p_val_adj >0.05, \"threshold\"] <- \"B_non_significant\"\n",
    "markers[markers$p_val_adj <0.05, \"threshold\"] <- \"D_Significant\"\n",
    "markers[markers$avg_logFC < 0.4 & markers$avg_logFC > (-0.4), \"threshold\"] <- \"C_non_significant\"\n",
    "markers[markers$genes %in% gene_list, \"threshold\"] <- \"A_RUNX1_target\""
   ]
  },
  {
   "cell_type": "code",
   "execution_count": 116,
   "metadata": {},
   "outputs": [
    {
     "data": {
      "image/png": "[encoded data removed]",
      "text/plain": [
       "plot without title"
      ]
     },
     "metadata": {
      "image/png": {
       "height": 420,
       "width": 420
      },
      "text/plain": {
       "height": 420,
       "width": 420
      }
     },
     "output_type": "display_data"
    }
   ],
   "source": [
    "ggplot(markers) +\n",
    "        geom_point(aes(x=avg_logFC, y=-log10(p_val_adj), colour=threshold), size = 7)+\n",
    "scale_color_manual(values=c(\"#ae0000\", '#999999','#999999', '#0072B2'))+\n",
    "geom_text_repel(aes(x=avg_logFC, y=-log10(p_val_adj), \n",
    "                    label = ifelse(gene_label == TRUE, rownames(markers),\"\")), size = 11)+\n",
    "geom_vline(xintercept = -0.4, linetype = \"dashed\", color = \"red\", size = 0.5)+\n",
    "geom_vline(xintercept = 0.4, linetype = \"dashed\", color = \"red\", size = 0.5)+\n",
    "geom_hline(yintercept = 1.41, linetype = \"dashed\", color = \"red\", size = 0.5)+\n",
    "theme(panel.grid.major = element_blank(), panel.grid.minor = element_blank(), panel.background = element_blank(),\n",
    "     axis.line = element_line(colour = \"black\"))\n",
    "\n",
    "\n",
    "ggsave(\"volcano_plot.pdf\", plot = last_plot(), device = NULL, path = NULL,width = 15, \n",
    "       height = 10,\n",
    "  scale = 1)"
   ]
  },
  {
   "cell_type": "markdown",
   "metadata": {},
   "source": [
    "\n",
    "\n",
    "***Plotting regulons and calculating p values***\n",
    "\n"
   ]
  },
  {
   "cell_type": "code",
   "execution_count": null,
   "metadata": {},
   "outputs": [],
   "source": [
    "setwd(\"~/Desktop/bm_data/AUC_scores\")\n",
    "library(ggpubr)\n",
    "library(dplyr)\n",
    "\n",
    "###Erythroid\n",
    "df<-read.csv(\"Erythroid_AUC.csv\", row.names = 1)\n",
    "\n",
    "a<-sapply(df[,2:length(colnames(df))], function(i) (t.test(i ~ df$Status, alt = \"greater\")$p.value))\n",
    "a<-t(a)\n",
    "a<-as.data.frame(t(a))\n",
    "colnames(a)<-c(\"p_value\")\n",
    "\n",
    "erythroid_downs_up<-arrange(a, p_value)\n",
    "erythroid_downs_up$p_val_adj<-sapply(erythroid_downs_up$p_value, function(i) i*112)\n",
    "erythroid_downs_up<-erythroid_downs_up[erythroid_downs_up$p_val_adj<0.05,]\n",
    "erythroid_downs_up$log_p_val_adj<-sapply(erythroid_downs_up$p_val_adj, function(i) abs(log(i)))\n",
    "erythroid_downs_up$gene<-rownames(erythroid_downs_up)\n",
    "erythroid_downs_up$Status<-\"Downs\"\n",
    "\n",
    "\n",
    "a<-sapply(df[,2:length(colnames(df))], function(i) (t.test(i ~ df$Status, alt = \"less\")$p.value))\n",
    "a<-t(a)\n",
    "a<-as.data.frame(t(a))\n",
    "colnames(a)<-c(\"p_value\")\n",
    "\n",
    "erythroid_healthy_up<-arrange(a, p_value)\n",
    "erythroid_healthy_up$p_val_adj<-sapply(erythroid_healthy_up$p_value, function(i) i*112)\n",
    "erythroid_healthy_up<-erythroid_healthy_up[erythroid_healthy_up$p_val_adj<0.05,]\n",
    "erythroid_healthy_up$log_p_val_adj<-sapply(erythroid_healthy_up$p_val_adj, function(i) log(i))\n",
    "erythroid_healthy_up$gene<-rownames(erythroid_healthy_up)\n",
    "erythroid_healthy_up$Status<-\"Non_Downs\"\n",
    "\n",
    "erythroid_DEGs<-rbind(head(erythroid_healthy_up,10), head(erythroid_downs_up, 10))\n",
    "erythroid_DEGs <- erythroid_DEGs[order(erythroid_DEGs$log_p_val_adj), ]\n",
    "erythroid_DEGs$gene <- factor(erythroid_DEGs$gene, levels = erythroid_DEGs$gene) \n",
    "\n",
    "\n",
    "p1<-ggplot(erythroid_DEGs, aes(x=gene, y=log_p_val_adj, label=log_p_val_adj)) + \n",
    "  geom_bar(stat='identity', aes(fill=Status), width=.5)  +\n",
    "  scale_fill_manual(values = c(\"Non_Downs\"=\"#c3dfe0\", \"Downs\"=\"#ae0000\"))+\n",
    "  theme_bw() + coord_flip()+ theme(panel.grid.major = element_blank(), panel.grid.minor = element_blank())+ \n",
    "  labs(title= \"Erythroid_regulons\") \n",
    "\n",
    "###MEMP\n",
    "df<-read.csv(\"MEMP_AUC.csv\", row.names = 1)\n",
    "\n",
    "a<-sapply(df[,2:113], function(i) (t.test(i ~ df$Status, alt = \"greater\")$p.value))\n",
    "a<-t(a)\n",
    "a<-as.data.frame(t(a))\n",
    "colnames(a)<-c(\"p_value\")\n",
    "a<-na.omit(a)\n",
    "\n",
    "MEMP_downs_up<-arrange(a, p_value)\n",
    "MEMP_downs_up$p_val_adj<-sapply(MEMP_downs_up$p_value, function(i) i*112)\n",
    "MEMP_downs_up<-MEMP_downs_up[MEMP_downs_up$p_val_adj<0.05,]\n",
    "MEMP_downs_up$log_p_val_adj<-sapply(MEMP_downs_up$p_val_adj, function(i) abs(log(i)))\n",
    "MEMP_downs_up$gene<-rownames(MEMP_downs_up)\n",
    "MEMP_downs_up$Status<-\"Downs\"\n",
    "\n",
    "a<-sapply(df[,2:length(colnames(df))], function(i) (t.test(i ~ df$Status, alt = \"less\")$p.value))\n",
    "a<-t(a)\n",
    "a<-as.data.frame(t(a))\n",
    "colnames(a)<-c(\"p_value\")\n",
    "a<-na.omit(a)\n",
    "\n",
    "MEMP_healthy_up<-arrange(a, p_value)\n",
    "MEMP_healthy_up$p_val_adj<-sapply(MEMP_healthy_up$p_value, function(i) i*112)\n",
    "MEMP_healthy_up<-MEMP_healthy_up[MEMP_healthy_up$p_val_adj<0.05,]\n",
    "MEMP_healthy_up$log_p_val_adj<-sapply(MEMP_healthy_up$p_val_adj, function(i) log(i))\n",
    "MEMP_healthy_up$gene<-rownames(MEMP_healthy_up)\n",
    "MEMP_healthy_up$Status<-\"Non_Downs\"\n",
    "\n",
    "\n",
    "MEMP_DEGs<-rbind(MEMP_healthy_up, head(MEMP_downs_up, 11))\n",
    "MEMP_DEGs <- MEMP_DEGs[order(MEMP_DEGs$log_p_val_adj), ]\n",
    "MEMP_DEGs$gene <- factor(MEMP_DEGs$gene, levels = MEMP_DEGs$gene) \n",
    "\n",
    "\n",
    "p2<-ggplot(MEMP_DEGs, aes(x=gene, y=log_p_val_adj, label=log_p_val_adj)) + \n",
    "  geom_bar(stat='identity', aes(fill=Status), width=.5)  +\n",
    "  scale_fill_manual(values = c(\"Non_Downs\"=\"#c3dfe0\", \"Downs\"=\"#ae0000\"))+\n",
    "  theme_bw() + coord_flip()+ theme(panel.grid.major = element_blank(), panel.grid.minor = element_blank())+ \n",
    "  labs(title= \"MEMP_regulons\") \n",
    "\n",
    "###MK\n",
    "df<-read.csv(\"MK_AUC.csv\", row.names = 1)\n",
    "\n",
    "a<-sapply(df[,2:113], function(i) (t.test(i ~ df$Status, alt = \"greater\")$p.value))\n",
    "a<-t(a)\n",
    "a<-as.data.frame(t(a))\n",
    "colnames(a)<-c(\"p_value\")\n",
    "\n",
    "MK_downs_up<-arrange(a, p_value)\n",
    "MK_downs_up$p_val_adj<-sapply(MK_downs_up$p_value, function(i) i*112)\n",
    "MK_downs_up<-MK_downs_up[MK_downs_up$p_val_adj<0.05,]\n",
    "MK_downs_up$log_p_val_adj<-sapply(MK_downs_up$p_val_adj, function(i) abs(log(i)))\n",
    "MK_downs_up$gene<-rownames(MK_downs_up)\n",
    "MK_downs_up$Status<-\"Downs\"\n",
    "\n",
    "a<-sapply(df[,2:length(colnames(df))], function(i) (t.test(i ~ df$Status, alt = \"less\")$p.value))\n",
    "a<-t(a)\n",
    "a<-as.data.frame(t(a))\n",
    "colnames(a)<-c(\"p_value\")\n",
    "\n",
    "MK_healthy_up<-arrange(a, p_value)\n",
    "MK_healthy_up$p_val_adj<-sapply(MK_healthy_up$p_value, function(i) i*112)\n",
    "MK_healthy_up<-MK_healthy_up[MK_healthy_up$p_val_adj<0.05,]\n",
    "MK_healthy_up$log_p_val_adj<-sapply(MK_healthy_up$p_val_adj, function(i) log(i))\n",
    "MK_healthy_up$gene<-rownames(MK_healthy_up)\n",
    "MK_healthy_up$Status<-\"Non_Downs\"\n",
    "\n",
    "MK_DEGs<-rbind(head(MK_healthy_up,10), head(MK_downs_up, 10))\n",
    "\n",
    "MK_DEGs <- MK_DEGs[order(MK_DEGs$log_p_val_adj), ]\n",
    "MK_DEGs$gene <- factor(MK_DEGs$gene, levels = MK_DEGs$gene) \n",
    "\n",
    "\n",
    "p3<-ggplot(MK_DEGs, aes(x=gene, y=log_p_val_adj, label=log_p_val_adj)) + \n",
    "  geom_bar(stat='identity', aes(fill=Status), width=.5)  +\n",
    "  scale_fill_manual(values = c(\"Non_Downs\"=\"#c3dfe0\", \"Downs\"=\"#ae0000\"))+\n",
    "  theme_bw() + coord_flip()+ theme(panel.grid.major = element_blank(), panel.grid.minor = element_blank())+ \n",
    "  labs(title= \"MK_regulons\") \n",
    "\n",
    "###HSC\n",
    "\n",
    "df<-read.csv(\"HSC_AUC.csv\", row.names = 1)\n",
    "\n",
    "a<-sapply(df[,2:113], function(i) (t.test(i ~ df$Status, alt = \"greater\")$p.value))\n",
    "a<-t(a)\n",
    "a<-as.data.frame(t(a))\n",
    "colnames(a)<-c(\"p_value\")\n",
    "\n",
    "HSC_downs_up<-arrange(a, p_value)\n",
    "HSC_downs_up$p_val_adj<-sapply(HSC_downs_up$p_value, function(i) i*112)\n",
    "HSC_downs_up<-HSC_downs_up[HSC_downs_up$p_val_adj<0.05,]\n",
    "HSC_downs_up$log_p_val_adj<-sapply(HSC_downs_up$p_val_adj, function(i) abs(log(i)))\n",
    "HSC_downs_up$gene<-rownames(HSC_downs_up)\n",
    "HSC_downs_up$Status<-\"Downs\"\n",
    "\n",
    "a<-sapply(df[,2:length(colnames(df))], function(i) (t.test(i ~ df$Status, alt = \"less\")$p.value))\n",
    "a<-t(a)\n",
    "a<-as.data.frame(t(a))\n",
    "colnames(a)<-c(\"p_value\")\n",
    "\n",
    "HSC_healthy_up<-arrange(a, p_value)\n",
    "HSC_healthy_up$p_val_adj<-sapply(HSC_healthy_up$p_value, function(i) i*112)\n",
    "HSC_healthy_up<-HSC_healthy_up[HSC_healthy_up$p_val_adj<0.05,]\n",
    "HSC_healthy_up$log_p_val_adj<-sapply(HSC_healthy_up$p_val_adj, function(i) log(i))\n",
    "HSC_healthy_up$gene<-rownames(HSC_healthy_up)\n",
    "HSC_healthy_up$Status<-\"Non_Downs\"\n",
    "\n",
    "\n",
    "HSC_DEGs<-rbind(HSC_healthy_up, HSC_downs_up)\n",
    "\n",
    "HSC_DEGs <- HSC_DEGs[order(HSC_DEGs$log_p_val_adj), ]\n",
    "HSC_DEGs$gene <- factor(HSC_DEGs$gene, levels = HSC_DEGs$gene) \n",
    "\n",
    "\n",
    "p4<-ggplot(HSC_DEGs, aes(x=gene, y=log_p_val_adj, label=log_p_val_adj)) + \n",
    "  geom_bar(stat='identity', aes(fill=Status), width=.5)  +\n",
    "  scale_fill_manual(values = c(\"Non_Downs\"=\"#c3dfe0\", \"Downs\"=\"#ae0000\"))+\n",
    "  theme_bw() + coord_flip()+ theme(panel.grid.major = element_blank(), panel.grid.minor = element_blank())+ \n",
    "  labs(title= \"HSC_regulons\") \n",
    "\n",
    "\n",
    "###Monocyte\n",
    "\n",
    "df<-read.csv(\"Monocyte_AUC.csv\", row.names = 1)\n",
    "\n",
    "a<-sapply(df[,2:113], function(i) (t.test(i ~ df$Status, alt = \"greater\")$p.value))\n",
    "a<-t(a)\n",
    "a<-as.data.frame(t(a))\n",
    "colnames(a)<-c(\"p_value\")\n",
    "\n",
    "Monocyte_downs_up<-arrange(a, p_value)\n",
    "Monocyte_downs_up$p_val_adj<-sapply(Monocyte_downs_up$p_value, function(i) i*112)\n",
    "Monocyte_downs_up<-Monocyte_downs_up[Monocyte_downs_up$p_val_adj<0.05,]\n",
    "Monocyte_downs_up$log_p_val_adj<-sapply(Monocyte_downs_up$p_val_adj, function(i) abs(log(i)))\n",
    "Monocyte_downs_up$gene<-rownames(Monocyte_downs_up)\n",
    "Monocyte_downs_up$Status<-\"Downs\"\n",
    "\n",
    "a<-sapply(df[,2:length(colnames(df))], function(i) (t.test(i ~ df$Status, alt = \"less\")$p.value))\n",
    "a<-t(a)\n",
    "a<-as.data.frame(t(a))\n",
    "colnames(a)<-c(\"p_value\")\n",
    "\n",
    "Monocyte_healthy_up<-arrange(a, p_value)\n",
    "Monocyte_healthy_up$p_val_adj<-sapply(Monocyte_healthy_up$p_value, function(i) i*112)\n",
    "Monocyte_healthy_up<-Monocyte_healthy_up[Monocyte_healthy_up$p_val_adj<0.05,]\n",
    "Monocyte_healthy_up$log_p_val_adj<-sapply(Monocyte_healthy_up$p_val_adj, function(i) log(i))\n",
    "Monocyte_healthy_up$gene<-rownames(Monocyte_healthy_up)\n",
    "Monocyte_healthy_up$Status<-\"Non_Downs\"\n",
    "\n",
    "\n",
    "Monocyte_DEGs<-rbind(Monocyte_healthy_up, Monocyte_downs_up)\n",
    "\n",
    "Monocyte_DEGs <- Monocyte_DEGs[order(Monocyte_DEGs$log_p_val_adj), ]\n",
    "Monocyte_DEGs$gene <- factor(Monocyte_DEGs$gene, levels = Monocyte_DEGs$gene) \n",
    "\n",
    "\n",
    "p5<-ggplot(Monocyte_DEGs, aes(x=gene, y=log_p_val_adj, label=log_p_val_adj)) + \n",
    "  geom_bar(stat='identity', aes(fill=Status), width=.5)  +\n",
    "  scale_fill_manual(values = c(\"Non_Downs\"=\"#c3dfe0\", \"Downs\"=\"#ae0000\"))+\n",
    "  theme_bw() + coord_flip()+ theme(panel.grid.major = element_blank(), panel.grid.minor = element_blank())+ \n",
    "  labs(title= \"Monocyte_regulons\") \n",
    "\n",
    "\n",
    "\n",
    "###Myeloid precursor\n",
    "\n",
    "df<-read.csv(\"Myeloid_precursor_AUC.csv\", row.names = 1)\n",
    "\n",
    "a<-sapply(df[,2:113], function(i) (t.test(i ~ df$Status, alt = \"greater\")$p.value))\n",
    "a<-t(a)\n",
    "a<-as.data.frame(t(a))\n",
    "colnames(a)<-c(\"p_value\")\n",
    "\n",
    "Myeloid_precursor_downs_up<-arrange(a, p_value)\n",
    "Myeloid_precursor_downs_up$p_val_adj<-sapply(Myeloid_precursor_downs_up$p_value, function(i) i*112)\n",
    "Myeloid_precursor_downs_up<-Myeloid_precursor_downs_up[Myeloid_precursor_downs_up$p_val_adj<0.05,]\n",
    "Myeloid_precursor_downs_up$log_p_val_adj<-sapply(Myeloid_precursor_downs_up$p_val_adj, function(i) abs(log(i)))\n",
    "Myeloid_precursor_downs_up$gene<-rownames(Myeloid_precursor_downs_up)\n",
    "Myeloid_precursor_downs_up$Status<-\"Downs\"\n",
    "\n",
    "a<-sapply(df[,2:length(colnames(df))], function(i) (t.test(i ~ df$Status, alt = \"less\")$p.value))\n",
    "a<-t(a)\n",
    "a<-as.data.frame(t(a))\n",
    "colnames(a)<-c(\"p_value\")\n",
    "\n",
    "Myeloid_precursor_healthy_up<-arrange(a, p_value)\n",
    "Myeloid_precursor_healthy_up$p_val_adj<-sapply(Myeloid_precursor_healthy_up$p_value, function(i) i*112)\n",
    "Myeloid_precursor_healthy_up<-Myeloid_precursor_healthy_up[Myeloid_precursor_healthy_up$p_val_adj<0.05,]\n",
    "Myeloid_precursor_healthy_up$log_p_val_adj<-sapply(Myeloid_precursor_healthy_up$p_val_adj, function(i) log(i))\n",
    "Myeloid_precursor_healthy_up$gene<-rownames(Myeloid_precursor_healthy_up)\n",
    "Myeloid_precursor_healthy_up$Status<-\"Non_Downs\"\n",
    "\n",
    "\n",
    "Myeloid_precursor_DEGs<-rbind(Myeloid_precursor_healthy_up, Myeloid_precursor_downs_up)\n",
    "\n",
    "Myeloid_precursor_DEGs <- Myeloid_precursor_DEGs[order(Myeloid_precursor_DEGs$log_p_val_adj), ]\n",
    "Myeloid_precursor_DEGs$gene <- factor(Myeloid_precursor_DEGs$gene, levels = Myeloid_precursor_DEGs$gene) \n",
    "\n",
    "\n",
    "p6<-ggplot(Myeloid_precursor_DEGs, aes(x=gene, y=log_p_val_adj, label=log_p_val_adj)) + \n",
    "  geom_bar(stat='identity', aes(fill=Status), width=.5)  +\n",
    "  scale_fill_manual(values = c(\"Non_Downs\"=\"#c3dfe0\", \"Downs\"=\"#ae0000\"))+\n",
    "  theme_bw() + coord_flip()+ theme(panel.grid.major = element_blank(), panel.grid.minor = element_blank())+ \n",
    "  labs(title= \"Myeloid_precursor_regulons\") \n",
    "\n",
    "\n",
    "###Myeloid precursor\n",
    "\n",
    "df<-read.csv(\"Myeloid_DC_AUC.csv\", row.names = 1)\n",
    "\n",
    "a<-sapply(df[,2:113], function(i) (t.test(i ~ df$Status, alt = \"greater\")$p.value))\n",
    "a<-t(a)\n",
    "a<-as.data.frame(t(a))\n",
    "colnames(a)<-c(\"p_value\")\n",
    "\n",
    "Myeloid_DC_downs_up<-arrange(a, p_value)\n",
    "Myeloid_DC_downs_up$p_val_adj<-sapply(Myeloid_DC_downs_up$p_value, function(i) i*112)\n",
    "Myeloid_DC_downs_up<-Myeloid_DC_downs_up[Myeloid_DC_downs_up$p_val_adj<0.05,]\n",
    "Myeloid_DC_downs_up$log_p_val_adj<-sapply(Myeloid_DC_downs_up$p_val_adj, function(i) abs(log(i)))\n",
    "Myeloid_DC_downs_up$gene<-rownames(Myeloid_DC_downs_up)\n",
    "Myeloid_DC_downs_up$Status<-\"Downs\"\n",
    "\n",
    "a<-sapply(df[,2:length(colnames(df))], function(i) (t.test(i ~ df$Status, alt = \"less\")$p.value))\n",
    "a<-t(a)\n",
    "a<-as.data.frame(t(a))\n",
    "colnames(a)<-c(\"p_value\")\n",
    "\n",
    "Myeloid_DC_healthy_up<-arrange(a, p_value)\n",
    "Myeloid_DC_healthy_up$p_val_adj<-sapply(Myeloid_DC_healthy_up$p_value, function(i) i*112)\n",
    "Myeloid_DC_healthy_up<-Myeloid_DC_healthy_up[Myeloid_DC_healthy_up$p_val_adj<0.05,]\n",
    "Myeloid_DC_healthy_up$log_p_val_adj<-sapply(Myeloid_DC_healthy_up$p_val_adj, function(i) log(i))\n",
    "Myeloid_DC_healthy_up$gene<-rownames(Myeloid_DC_healthy_up)\n",
    "Myeloid_DC_healthy_up$Status<-\"Non_Downs\"\n",
    "\n",
    "\n",
    "Myeloid_DC_DEGs<-rbind(Myeloid_DC_healthy_up, Myeloid_DC_downs_up)\n",
    "\n",
    "Myeloid_DC_DEGs <- Myeloid_DC_DEGs[order(Myeloid_DC_DEGs$log_p_val_adj), ]\n",
    "Myeloid_DC_DEGs$gene <- factor(Myeloid_DC_DEGs$gene, levels = Myeloid_DC_DEGs$gene) \n",
    "\n",
    "\n",
    "p7<-ggplot(Myeloid_DC_DEGs, aes(x=gene, y=log_p_val_adj, label=log_p_val_adj)) + \n",
    "  geom_bar(stat='identity', aes(fill=Status), width=.5)  +\n",
    "  scale_fill_manual(values = c(\"Non_Downs\"=\"#c3dfe0\", \"Downs\"=\"#ae0000\"))+\n",
    "  theme_bw() + coord_flip()+ theme(panel.grid.major = element_blank(), panel.grid.minor = element_blank())+ \n",
    "  labs(title= \"Myeloid_DC_regulons\") \n",
    "\n",
    "ggarrange(p4, p2, p1, p3)\n",
    "\n",
    "ggsave(\"regulons.pdf\", plot = last_plot(), device = NULL, path = NULL,\n",
    "  scale = 1, dpi = 300)\n",
    "\n",
    "ggsave(\"HSC_regulons.pdf\", plot = p4, device = NULL, path = NULL,\n",
    "  scale = 1, dpi = 300)\n",
    "ggsave(\"MEMP_regulons.pdf\", plot = p2, device = NULL, path = NULL,\n",
    "  scale = 1, dpi = 300)\n",
    "ggsave(\"Erythoid_regulons.pdf\", plot = p1, device = NULL, path = NULL,\n",
    "  scale = 1, dpi = 300)\n",
    "ggsave(\"MK_regulons.pdf\", plot = p3, device = NULL, path = NULL,\n",
    "  scale = 1, dpi = 300)"
   ]
  }
 ],
 "metadata": {
  "kernelspec": {
   "display_name": "R_4",
   "language": "R",
   "name": "r_4"
  },
  "language_info": {
   "codemirror_mode": "r",
   "file_extension": ".r",
   "mimetype": "text/x-r-source",
   "name": "R",
   "pygments_lexer": "r",
   "version": "3.6.3"
  }
 },
 "nbformat": 4,
 "nbformat_minor": 4
}
