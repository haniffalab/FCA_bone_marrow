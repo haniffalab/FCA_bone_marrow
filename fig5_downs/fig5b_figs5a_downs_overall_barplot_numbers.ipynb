{
 "cells": [
  {
   "cell_type": "markdown",
   "metadata": {},
   "source": [
    "# Import packages and data "
   ]
  },
  {
   "cell_type": "code",
   "execution_count": 1,
   "metadata": {},
   "outputs": [
    {
     "name": "stderr",
     "output_type": "stream",
     "text": [
      "/Users/b8058304/.pyenv/versions/3.6.4/envs/py36/lib/python3.6/site-packages/anndata/_core/anndata.py:21: FutureWarning: pandas.core.index is deprecated and will be removed in a future version.  The public classes are available in the top-level namespace.\n",
      "  from pandas.core.index import RangeIndex\n"
     ]
    }
   ],
   "source": [
    "import numpy as np\n",
    "import pandas as pd\n",
    "import scanpy as sc\n",
    "import seaborn as sns\n",
    "import scipy.stats\n",
    "import anndata\n",
    "import matplotlib.pyplot as plt\n",
    "import matplotlib as mpl\n",
    "from matplotlib.axes._axes import _log as matplotlib_axes_logger\n",
    "from scipy import sparse\n",
    "matplotlib_axes_logger.setLevel('ERROR')\n",
    "import warnings\n",
    "warnings.filterwarnings('ignore')"
   ]
  },
  {
   "cell_type": "code",
   "execution_count": 2,
   "metadata": {},
   "outputs": [],
   "source": [
    "pd.set_option('display.max_rows', 500)\n",
    "pd.set_option('display.max_columns', 500)\n",
    "pd.set_option('display.width', 1000)"
   ]
  },
  {
   "cell_type": "code",
   "execution_count": 3,
   "metadata": {},
   "outputs": [
    {
     "name": "stdout",
     "output_type": "stream",
     "text": [
      "scanpy==1.4.4 anndata==0.7.1 umap==0.3.10 numpy==1.17.1 scipy==1.4.1 pandas==1.0.5 scikit-learn==0.22.2.post1 statsmodels==0.11.1 python-igraph==0.8.0 louvain==0.6.1\n"
     ]
    }
   ],
   "source": [
    "sc.settings.verbosity = 1  # verbosity: errors (0), warnings (1), info (2), hints (3)\n",
    "# Set up the plot config for viewing the annotation clearly.\n",
    "sc.settings.set_figure_params(dpi=120, dpi_save=1000)\n",
    "sc.logging.print_versions()"
   ]
  },
  {
   "cell_type": "markdown",
   "metadata": {},
   "source": [
    "# Load DS transformed dataset"
   ]
  },
  {
   "cell_type": "code",
   "execution_count": 4,
   "metadata": {},
   "outputs": [],
   "source": [
    "adata = sc.read(\"/Users/b8058304/Documents/PhD_work/Coding/manuscript_figs/data/fig6a_downs_fbm_scaled_gex_updated_dr_20200714.h5ad\")"
   ]
  },
  {
   "cell_type": "code",
   "execution_count": 5,
   "metadata": {},
   "outputs": [
    {
     "data": {
      "text/plain": [
       "broad_fig5_umap_cell.labels\n",
       "HSC/MPP          164\n",
       "erythroid       6189\n",
       "MK                32\n",
       "B_lineage        102\n",
       "DC               262\n",
       "eo/baso/mast      68\n",
       "neutrophil       535\n",
       "monocyte         923\n",
       "T/NK             192\n",
       "stroma           155\n",
       "dtype: int64"
      ]
     },
     "execution_count": 5,
     "metadata": {},
     "output_type": "execute_result"
    }
   ],
   "source": [
    "cell_numbers = adata.obs.groupby([\"broad_fig5_umap_cell.labels\"]).apply(len)\n",
    "cell_numbers"
   ]
  },
  {
   "cell_type": "code",
   "execution_count": 6,
   "metadata": {},
   "outputs": [
    {
     "data": {
      "text/plain": [
       "orig.ident  broad_fig5_umap_cell.labels\n",
       "ICH12740    HSC/MPP                          52\n",
       "            erythroid                      1248\n",
       "            MK                               13\n",
       "            B_lineage                        11\n",
       "            DC                               37\n",
       "            eo/baso/mast                      3\n",
       "            neutrophil                       89\n",
       "            monocyte                        136\n",
       "            T/NK                              5\n",
       "            stroma                           19\n",
       "ICH12813    HSC/MPP                          51\n",
       "            erythroid                      1305\n",
       "            MK                               12\n",
       "            B_lineage                        20\n",
       "            DC                               24\n",
       "            eo/baso/mast                      8\n",
       "            neutrophil                       98\n",
       "            monocyte                        117\n",
       "            T/NK                              3\n",
       "            stroma                            5\n",
       "ICH12941    HSC/MPP                           5\n",
       "            erythroid                       285\n",
       "            MK                                2\n",
       "            B_lineage                         5\n",
       "            DC                               34\n",
       "            eo/baso/mast                      2\n",
       "            neutrophil                       52\n",
       "            monocyte                         86\n",
       "            T/NK                              8\n",
       "            stroma                           17\n",
       "ICH14486    HSC/MPP                          56\n",
       "            erythroid                      3351\n",
       "            MK                                5\n",
       "            B_lineage                        66\n",
       "            DC                              167\n",
       "            eo/baso/mast                     55\n",
       "            neutrophil                      296\n",
       "            monocyte                        584\n",
       "            T/NK                            176\n",
       "            stroma                          114\n",
       "dtype: int64"
      ]
     },
     "execution_count": 6,
     "metadata": {},
     "output_type": "execute_result"
    }
   ],
   "source": [
    "cell_numbers = adata.obs.groupby([\"orig.ident\", \"broad_fig5_umap_cell.labels\"]).apply(len)\n",
    "pd.DataFrame(cell_numbers).to_csv(\"/Users/b8058304/Documents/PhD_work/Coding/manuscript_figs/resources_for_pipelines/fig5_downs_umap_barplot_nrs_20200714.csv\")\n",
    "cell_numbers"
   ]
  },
  {
   "cell_type": "code",
   "execution_count": 7,
   "metadata": {},
   "outputs": [
    {
     "data": {
      "text/plain": [
       "orig.ident  cell.labels           \n",
       "ICH12740    CD14 monocyte               40\n",
       "            CD56 bright NK               1\n",
       "            CD8 T cell                   2\n",
       "            CMP                          9\n",
       "            DC1                          1\n",
       "            DC2                         13\n",
       "            DC3                         11\n",
       "            HSC                         10\n",
       "            MEMP                        13\n",
       "            MK                          12\n",
       "            MOP                         56\n",
       "            MSC                          2\n",
       "            early B cell                 3\n",
       "            early MK                     1\n",
       "            early erythroid            224\n",
       "            endothelium                  2\n",
       "            eo/baso/mast precursor      20\n",
       "            eosinophil                   2\n",
       "            late erythroid             571\n",
       "            macrophage                   5\n",
       "            mast cell                    1\n",
       "            mature B cell                3\n",
       "            mature NK                    2\n",
       "            mid erythroid              453\n",
       "            myelocyte                   44\n",
       "            neutrophil                  26\n",
       "            osteoblast                   1\n",
       "            osteoclast                   9\n",
       "            pDC                          4\n",
       "            pre B cell                   5\n",
       "            pre pDC                      8\n",
       "            promonocyte                 40\n",
       "            promyelocyte                19\n",
       "ICH12813    CD14 monocyte               28\n",
       "            CD8 T cell                   2\n",
       "            CMP                         12\n",
       "            DC1                          2\n",
       "            DC2                          6\n",
       "            DC3                          7\n",
       "            HSC                         16\n",
       "            ILC precursor                1\n",
       "            MEMP                        11\n",
       "            MK                           7\n",
       "            MOP                         43\n",
       "            MSC                          1\n",
       "            early B cell                 9\n",
       "            early MK                     5\n",
       "            early erythroid            160\n",
       "            eo/baso/mast precursor      12\n",
       "            eosinophil                   3\n",
       "            late erythroid             677\n",
       "            macrophage                   4\n",
       "            mast cell                    5\n",
       "            mature B cell                3\n",
       "            mid erythroid              468\n",
       "            myelocyte                   49\n",
       "            neutrophil                  21\n",
       "            pDC                          2\n",
       "            pre B cell                   8\n",
       "            pre pDC                      7\n",
       "            promonocyte                 46\n",
       "            promyelocyte                28\n",
       "ICH12941    CD14 monocyte               31\n",
       "            CD56 bright NK               1\n",
       "            CD8 T cell                   1\n",
       "            CMP                          1\n",
       "            DC1                          2\n",
       "            DC2                          8\n",
       "            DC3                         18\n",
       "            HSC                          2\n",
       "            ILC precursor                1\n",
       "            MEMP                         2\n",
       "            MK                           2\n",
       "            MOP                         22\n",
       "            MSC                          1\n",
       "            Treg                         1\n",
       "            chondrocyte                  2\n",
       "            early erythroid             16\n",
       "            endothelium                  1\n",
       "            eosinophil                   1\n",
       "            late erythroid             214\n",
       "            macrophage                   8\n",
       "            mast cell                    1\n",
       "            mature B cell                3\n",
       "            mature NK                    4\n",
       "            mid erythroid               55\n",
       "            myelocyte                   13\n",
       "            neutrophil                  36\n",
       "            osteoblast                   2\n",
       "            osteoclast                   3\n",
       "            pDC                          1\n",
       "            pre B cell                   2\n",
       "            pre pDC                      5\n",
       "            promonocyte                 33\n",
       "            promyelocyte                 3\n",
       "ICH14486    CAR                          4\n",
       "            CD14 monocyte              153\n",
       "            CD56 bright NK              34\n",
       "            CD8 T cell                  50\n",
       "            CMP                         15\n",
       "            DC1                         11\n",
       "            DC2                         67\n",
       "            DC3                         62\n",
       "            HSC                         17\n",
       "            ILC precursor               11\n",
       "            MEMP                        16\n",
       "            MK                           4\n",
       "            MOP                        229\n",
       "            MSC                         14\n",
       "            Treg                         7\n",
       "            chondrocyte                  2\n",
       "            early B cell                11\n",
       "            early MK                     1\n",
       "            early erythroid            366\n",
       "            endothelium                 34\n",
       "            eo/baso/mast precursor       8\n",
       "            eosinophil                  35\n",
       "            late erythroid            1879\n",
       "            macrophage                  47\n",
       "            mast cell                   20\n",
       "            mature B cell               11\n",
       "            mature NK                   63\n",
       "            mid erythroid             1106\n",
       "            myelocyte                  112\n",
       "            neutrophil                 162\n",
       "            osteoblast                   8\n",
       "            osteoclast                   5\n",
       "            pDC                          7\n",
       "            pre B cell                  44\n",
       "            pre pDC                     20\n",
       "            promonocyte                202\n",
       "            promyelocyte                22\n",
       "            transitional NK cell        11\n",
       "dtype: int64"
      ]
     },
     "execution_count": 7,
     "metadata": {},
     "output_type": "execute_result"
    }
   ],
   "source": [
    "cell_numbers = adata.obs.groupby([\"orig.ident\", \"cell.labels\"]).apply(len)\n",
    "pd.DataFrame(cell_numbers).to_csv(\"/Users/b8058304/Documents/PhD_work/Coding/manuscript_figs/resources_for_pipelines/fig5_downs_umap_barplot_nrs_refined_20200714.csv\")\n",
    "cell_numbers"
   ]
  },
  {
   "cell_type": "code",
   "execution_count": 8,
   "metadata": {},
   "outputs": [],
   "source": [
    "pd.DataFrame(adata.obs).to_csv(\"/Users/b8058304/Documents/PhD_work/Coding/manuscript_figs/resources_for_pipelines/fig5_downs_barplot_meta_20200714.csv\")"
   ]
  },
  {
   "cell_type": "code",
   "execution_count": 9,
   "metadata": {},
   "outputs": [],
   "source": [
    "adata.write(\"/Users/b8058304/Documents/PhD_work/Coding/manuscript_figs/data/fig5_downs_fbm_scaled_gex_updated_dr_20200714.h5ad\")"
   ]
  },
  {
   "cell_type": "code",
   "execution_count": null,
   "metadata": {},
   "outputs": [],
   "source": []
  },
  {
   "cell_type": "code",
   "execution_count": null,
   "metadata": {},
   "outputs": [],
   "source": []
  },
  {
   "cell_type": "code",
   "execution_count": null,
   "metadata": {},
   "outputs": [],
   "source": []
  },
  {
   "cell_type": "code",
   "execution_count": null,
   "metadata": {},
   "outputs": [],
   "source": []
  }
 ],
 "metadata": {
  "kernelspec": {
   "display_name": "Python 3",
   "language": "python",
   "name": "python3"
  },
  "language_info": {
   "codemirror_mode": {
    "name": "ipython",
    "version": 3
   },
   "file_extension": ".py",
   "mimetype": "text/x-python",
   "name": "python",
   "nbconvert_exporter": "python",
   "pygments_lexer": "ipython3",
   "version": "3.6.4"
  }
 },
 "nbformat": 4,
 "nbformat_minor": 2
}
